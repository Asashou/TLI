{
 "cells": [
  {
   "cell_type": "code",
   "execution_count": 1,
   "metadata": {},
   "outputs": [],
   "source": [
    "# read txt document of entry points\n",
    "# also iterate over all tif files (adult 3D mask images) in the same path and perform analysis \n",
    "# all analysis except column analysis "
   ]
  },
  {
   "cell_type": "code",
   "execution_count": 1,
   "metadata": {},
   "outputs": [],
   "source": [
    "from tqdm import tqdm\n",
    "import os\n",
    "import re\n",
    "import tifffile as tif\n",
    "\n",
    "import utils.analysis as analysis\n",
    "\n",
    "import numpy as np\n",
    "from skimage.measure import regionprops, marching_cubes, mesh_surface_area\n",
    "import pandas as pd\n",
    "import math\n",
    "from scipy.spatial import ConvexHull\n",
    "\n",
    "import matplotlib.pyplot as plt\n",
    "from matplotlib import colors\n",
    "# import seaborn as sns\n",
    "%matplotlib inline"
   ]
  },
  {
   "cell_type": "code",
   "execution_count": 2,
   "metadata": {},
   "outputs": [],
   "source": [
    "#  input and save paths\n",
    "data_path = '/Volumes/Samsung_T5/adult_cntrl/preprocessed/'\n",
    "save_path = '/Volumes/Samsung_T5/adult_cntrl/preprocessed/output/'"
   ]
  },
  {
   "cell_type": "code",
   "execution_count": 3,
   "metadata": {},
   "outputs": [
    {
     "data": {
      "text/plain": [
       "['T4-02_A.tif', 'T4-03_D.tif', 'T4-04_B.tif', 'T4-05_D.tif', 'T4-06_D.tif']"
      ]
     },
     "execution_count": 3,
     "metadata": {},
     "output_type": "execute_result"
    }
   ],
   "source": [
    "# getting list of image file names in data_path\n",
    "N_folders = [name for name in os.listdir(data_path) if os.path.isfile(os.path.join(data_path, name))]\n",
    "N_folders = [f for f in N_folders if '.tif' in f]\n",
    "N_folders = sorted(N_folders)\n",
    "N_folders[:5]"
   ]
  },
  {
   "cell_type": "code",
   "execution_count": 4,
   "metadata": {},
   "outputs": [],
   "source": [
    "# reading erntry_points file and converting it to dictionary of neu:[z,y,x]\n",
    "EP_file = '/Volumes/Samsung_T5/adult_cntrl/preprocessed/Adults_ctrl_entry_points'\n",
    "with open(EP_file) as f:\n",
    "    entry_points = f.readlines()\n",
    "entry_points = [l for l in entry_points if ': ' in l]\n",
    "entry_points = [l.rstrip('\\n').split(':') for l in entry_points]\n",
    "entry_points = {l[0]: l[1].split(',') for l in entry_points}\n",
    "entry_points = {neu:[int(x) for x in val] for neu,val in entry_points.items()}"
   ]
  },
  {
   "cell_type": "code",
   "execution_count": 16,
   "metadata": {},
   "outputs": [],
   "source": [
    "results_cols = ['neuron','subtype','volume','area',\n",
    "                'area_scipy', 'peri_scipy', 'circ_scipy', 'dens_scipy',\n",
    "                'density', 'perimeter', 'compactness', 'eccentricity',\n",
    "                'circularity2', 'convexity',\n",
    "                'surface_area','circularity','AP_spread',\n",
    "                'DV_spread','DGI',\n",
    "                'centroidZ','centroidY', 'centroidX', 'cen_EP_dis',\n",
    "                'asymmetry', 'feret_diameter_max', 'orientation', #orientation is from regionprops\n",
    "                'xP_weight','xP_scale','xP_angle','xP_xy', #all of this part is for the results from PCA_analysis\n",
    "                'xN_weight','xN_scale','xN_angle','xN_xy',\n",
    "                'yP_weight','yP_scale','yP_angle','yP_xy',\n",
    "                'yN_weight','yN_scale','yN_angle','yN_xy',\n",
    "                'PCA_angle','PCA_xy','PCA_shift_centroid']\n",
    "results_df = pd.DataFrame(columns=results_cols)"
   ]
  },
  {
   "cell_type": "code",
   "execution_count": 17,
   "metadata": {},
   "outputs": [
    {
     "name": "stderr",
     "output_type": "stream",
     "text": [
      "28it [00:11,  2.46it/s]\n"
     ]
    }
   ],
   "source": [
    "# iterating over files in data_path and performing the analysis\n",
    "for i, neu_file in tqdm(enumerate(N_folders)):\n",
    "    # try:\n",
    "        # for k in [1]:\n",
    "            # print(neu_file)\n",
    "            neu_res = {}\n",
    "            # getting entry point\n",
    "            try:\n",
    "                neu_res['subtype'] = neu_file[-5]\n",
    "            except:\n",
    "                neu_res['subtype'] = 'N'\n",
    "            # neu_res['neuron'] = neu_file.rstrip('.tif')\n",
    "            neu_res['neuron'] = neu_file[:-6]\n",
    "            entry_point = entry_points[neu_res['neuron']]\n",
    "            # reading image and make sure it's binary\n",
    "            image = tif.imread(data_path+neu_file)\n",
    "            image[image!=0] = 1\n",
    "            neu_res['volume'] = image.sum()\n",
    "            img_2D = image.sum(axis=0)\n",
    "            img_2D[img_2D!=0] = 1\n",
    "            reg_prop_2D = regionprops(img_2D)[0]\n",
    "            neu_res['density'] = reg_prop_2D.solidity\n",
    "            neu_res['area'] = reg_prop_2D.area_convex\n",
    "            neu_res['orientation'] = reg_prop_2D.orientation\n",
    "            neu_res['eccentricity'] = reg_prop_2D.eccentricity\n",
    "            neu_res['feret_diameter_max'] = reg_prop_2D.feret_diameter_max\n",
    "            # centroid_2D = reg_prop_2D.centroid\n",
    "            neu_res['perimeter'] = regionprops(reg_prop_2D.image_convex.astype('int8'))[0].perimeter\n",
    "            neu_res['convexity'] = neu_res['perimeter']/reg_prop_2D.perimeter\n",
    "            neu_res['circularity'] = (4*np.pi*neu_res['area'])/(neu_res['perimeter']**2)\n",
    "            neu_res['circularity2'] = (4*np.pi*img_2D.sum())/(neu_res['perimeter']**2)\n",
    "            neu_res['compactness'] = (4*np.pi*img_2D.sum())/(reg_prop_2D.perimeter**2)\n",
    "\n",
    "            reg_prop_3D = regionprops(image)[0]\n",
    "            centroid = reg_prop_3D.centroid\n",
    "            neu_res['centroidZ'],neu_res['centroidY'], neu_res['centroidX'], = centroid[0],centroid[1],centroid[2]\n",
    "            neu_res['cen_EP_dis'] = np.linalg.norm((np.array(entry_point)-np.array(centroid))[1:])\n",
    "            img_PC = reg_prop_3D.coords\n",
    "            neu_res['DV_spread'] = img_PC[:,1].max() - img_PC[:,1].min()\n",
    "            neu_res['AP_spread'] = img_PC[:,2].max() - img_PC[:,2].min()\n",
    "            verts, faces, normals, values = marching_cubes(image, step_size=2, spacing=(0.4,0.076,0.076))\n",
    "            neu_res['surface_area'] = mesh_surface_area(verts, faces)\n",
    "            neu_res['asymmetry'], PCA_df, shifted_coor = analysis.metric_dump(img_2D,entry_point[1:],plot=False)\n",
    "            PCA_res = ['xP_weight','xP_scale','xP_angle','xP_xy',\n",
    "                        'xN_weight','xN_scale','xN_angle','xN_xy',\n",
    "                        'yP_weight','yP_scale','yP_angle','yP_xy',\n",
    "                        'yN_weight','yN_scale','yN_angle','yN_xy']\n",
    "            PCA_arr = np.array(PCA_df.loc[:, PCA_df.columns != 'axis'])\n",
    "            result1 = {PCA_res[i]:val for i,val in enumerate(PCA_arr.ravel())}\n",
    "            neu_res = neu_res | result1\n",
    "            neu_res['PCA_angle'] = PCA_df.loc[PCA_df.Fraction_weight.idxmax()].Angle\n",
    "            neu_res['PCA_xy'] = PCA_df.loc[PCA_df.Fraction_weight.idxmax()].xy\n",
    "            neu_res['PCA_shift_centroid'] = (sum(shifted_coor[:,1]) / len(shifted_coor), sum(shifted_coor[:,0]) / len(shifted_coor))\n",
    "            \n",
    "            neu_res['DGI'] = analysis.DGI_3D(image,entry_point)\n",
    "\n",
    "            #circularity by scipy\n",
    "            hull = ConvexHull(img_PC[:,1:], qhull_options='Qc')\n",
    "            neu_res['circ_scipy'] = 4*np.pi *hull.volume/(hull.area**2)\n",
    "            neu_res['dens_scipy'] = len(img_PC)/hull.volume\n",
    "            neu_res['area_scipy'] = hull.volume\n",
    "            neu_res['peri_scipy'] = hull.area\n",
    "            \n",
    "            # add the results as line to results_df\n",
    "            neu_res = [neu_res[val] for val in results_cols]\n",
    "            results_df.loc[i] = neu_res\n",
    "    # except:\n",
    "    #     print(neu_file)"
   ]
  },
  {
   "cell_type": "code",
   "execution_count": 18,
   "metadata": {},
   "outputs": [],
   "source": [
    "results_df.to_csv(save_path+'adult_T4_results.csv')"
   ]
  },
  {
   "cell_type": "code",
   "execution_count": 20,
   "metadata": {},
   "outputs": [
    {
     "data": {
      "text/plain": [
       "Text(0, 0.5, 'Asymmetry value')"
      ]
     },
     "execution_count": 20,
     "metadata": {},
     "output_type": "execute_result"
    },
    {
     "data": {
      "image/png": "[encoded data removed]",
      "text/plain": [
       "<Figure size 432x288 with 1 Axes>"
      ]
     },
     "metadata": {
      "needs_background": "light"
     },
     "output_type": "display_data"
    }
   ],
   "source": [
    "fig = plt.figure(1)\n",
    "colors = {'A':'b','B':'g','C':'orange','D':'r'}\n",
    "x_p = {'A':1,'B':2,'C':3,'D':4}\n",
    "# y_vals = (results_df.surface_area/results_df.volume)\n",
    "# y_vals = y_vals/y_vals.max()\n",
    "y_vals = results_df.convexity\n",
    "for i,neu in enumerate(y_vals):\n",
    "    plt.scatter(x_p[results_df.subtype[i]],neu,c=colors[results_df.subtype[i]])\n",
    "plt.title('neuron asymmetry based on EP and PCA')\n",
    "x = np.array([1,2,3,4])\n",
    "my_xticks = ['A','B','C','D']\n",
    "plt.xticks(x, my_xticks)\n",
    "plt.ylabel('Asymmetry value')\n",
    "# plt.legend()\n",
    "# plt.savefig(save_path+'adult_T4_Asymmetry.png', facecolor='white', transparent=False)"
   ]
  },
  {
   "cell_type": "code",
   "execution_count": null,
   "metadata": {},
   "outputs": [],
   "source": []
  },
  {
   "cell_type": "code",
   "execution_count": null,
   "metadata": {},
   "outputs": [],
   "source": []
  },
  {
   "cell_type": "code",
   "execution_count": 21,
   "metadata": {},
   "outputs": [
    {
     "data": {
      "text/plain": [
       "(93, 146, 411, 327)"
      ]
     },
     "execution_count": 21,
     "metadata": {},
     "output_type": "execute_result"
    }
   ],
   "source": [
    "reg_prop_2D.bbox"
   ]
  },
  {
   "cell_type": "code",
   "execution_count": 44,
   "metadata": {},
   "outputs": [
    {
     "data": {
      "text/plain": [
       "numpy.float64"
      ]
     },
     "execution_count": 44,
     "metadata": {},
     "output_type": "execute_result"
    }
   ],
   "source": [
    "type(results_df.loc[2,'PCA_xy'][0])"
   ]
  },
  {
   "cell_type": "code",
   "execution_count": 28,
   "metadata": {},
   "outputs": [
    {
     "data": {
      "text/html": [
       "<div>\n",
       "<style scoped>\n",
       "    .dataframe tbody tr th:only-of-type {\n",
       "        vertical-align: middle;\n",
       "    }\n",
       "\n",
       "    .dataframe tbody tr th {\n",
       "        vertical-align: top;\n",
       "    }\n",
       "\n",
       "    .dataframe thead th {\n",
       "        text-align: right;\n",
       "    }\n",
       "</style>\n",
       "<table border=\"1\" class=\"dataframe\">\n",
       "  <thead>\n",
       "    <tr style=\"text-align: right;\">\n",
       "      <th></th>\n",
       "      <th>axis</th>\n",
       "      <th>Fraction_weight</th>\n",
       "      <th>Pixel_scale</th>\n",
       "      <th>Angle</th>\n",
       "      <th>xy</th>\n",
       "    </tr>\n",
       "  </thead>\n",
       "  <tbody>\n",
       "    <tr>\n",
       "      <th>3</th>\n",
       "      <td>y_negative</td>\n",
       "      <td>0.35691</td>\n",
       "      <td>-203.438925</td>\n",
       "      <td>-352.819916</td>\n",
       "      <td>(72.03990649174368, -9.07531672290254)</td>\n",
       "    </tr>\n",
       "  </tbody>\n",
       "</table>\n",
       "</div>"
      ],
      "text/plain": [
       "         axis  Fraction_weight  Pixel_scale       Angle  \\\n",
       "3  y_negative          0.35691  -203.438925 -352.819916   \n",
       "\n",
       "                                       xy  \n",
       "3  (72.03990649174368, -9.07531672290254)  "
      ]
     },
     "execution_count": 28,
     "metadata": {},
     "output_type": "execute_result"
    }
   ],
   "source": [
    "PCA_df[PCA_df.Fraction_weight==PCA_df.Fraction_weight.max()]"
   ]
  },
  {
   "cell_type": "code",
   "execution_count": 31,
   "metadata": {},
   "outputs": [
    {
     "data": {
      "text/plain": [
       "-352.8199162469222"
      ]
     },
     "execution_count": 31,
     "metadata": {},
     "output_type": "execute_result"
    }
   ],
   "source": [
    "PCA_df.loc[PCA_df.Fraction_weight.idxmax()].Angle"
   ]
  },
  {
   "cell_type": "code",
   "execution_count": 24,
   "metadata": {},
   "outputs": [
    {
     "data": {
      "text/plain": [
       "(20403, (20403, 2))"
      ]
     },
     "execution_count": 24,
     "metadata": {},
     "output_type": "execute_result"
    }
   ],
   "source": [
    "img_2D.sum(), shifted_coor.shape"
   ]
  },
  {
   "cell_type": "code",
   "execution_count": 64,
   "metadata": {},
   "outputs": [
    {
     "data": {
      "text/plain": [
       "(-19.429675372194424, -56.81144706044966)"
      ]
     },
     "execution_count": 64,
     "metadata": {},
     "output_type": "execute_result"
    }
   ],
   "source": [
    "centroid_s = (sum(shifted_coor[:,0]) / len(shifted_coor), sum(shifted_coor[:,1]) / len(shifted_coor))\n",
    "centroid_s"
   ]
  },
  {
   "cell_type": "code",
   "execution_count": 19,
   "metadata": {},
   "outputs": [],
   "source": [
    "test = np.zeros_like(img_2D)\n",
    "for px in shifted_coor:\n",
    "    y,x = int(px[0])+entry_point[1], int(px[1])+entry_point[2]\n",
    "    test[y,x] = 1\n",
    "reg_prop = regionprops(test)[0]\n",
    "test_cent = reg_prop.centroid"
   ]
  },
  {
   "cell_type": "code",
   "execution_count": 23,
   "metadata": {},
   "outputs": [
    {
     "data": {
      "text/plain": [
       "-56.890589597704036"
      ]
     },
     "execution_count": 23,
     "metadata": {},
     "output_type": "execute_result"
    }
   ],
   "source": [
    "test_cent[1]-entry_point[2]"
   ]
  },
  {
   "cell_type": "code",
   "execution_count": 21,
   "metadata": {},
   "outputs": [
    {
     "data": {
      "text/plain": [
       "<matplotlib.image.AxesImage at 0x7f92807e2ca0>"
      ]
     },
     "execution_count": 21,
     "metadata": {},
     "output_type": "execute_result"
    },
    {
     "data": {
      "image/png": "[encoded data removed]",
      "text/plain": [
       "<Figure size 432x288 with 1 Axes>"
      ]
     },
     "metadata": {
      "needs_background": "light"
     },
     "output_type": "display_data"
    }
   ],
   "source": [
    "plt.imshow(test)"
   ]
  },
  {
   "cell_type": "code",
   "execution_count": 18,
   "metadata": {},
   "outputs": [
    {
     "data": {
      "text/plain": [
       "[3, 204, 275]"
      ]
     },
     "execution_count": 18,
     "metadata": {},
     "output_type": "execute_result"
    }
   ],
   "source": [
    "entry_point"
   ]
  },
  {
   "cell_type": "code",
   "execution_count": 17,
   "metadata": {},
   "outputs": [
    {
     "data": {
      "text/plain": [
       "<matplotlib.collections.PathCollection at 0x7f9260199e80>"
      ]
     },
     "execution_count": 17,
     "metadata": {},
     "output_type": "execute_result"
    },
    {
     "data": {
      "image/png": "[encoded data removed]",
      "text/plain": [
       "<Figure size 432x288 with 1 Axes>"
      ]
     },
     "metadata": {
      "needs_background": "light"
     },
     "output_type": "display_data"
    }
   ],
   "source": [
    "plt.scatter(shifted_coor[:,1],shifted_coor[:,0])"
   ]
  },
  {
   "cell_type": "code",
   "execution_count": 7,
   "metadata": {},
   "outputs": [],
   "source": [
    "results_df.to_csv(save_path+'adult_T4_results.csv')"
   ]
  },
  {
   "cell_type": "code",
   "execution_count": 8,
   "metadata": {},
   "outputs": [
    {
     "data": {
      "text/html": [
       "<div>\n",
       "<style scoped>\n",
       "    .dataframe tbody tr th:only-of-type {\n",
       "        vertical-align: middle;\n",
       "    }\n",
       "\n",
       "    .dataframe tbody tr th {\n",
       "        vertical-align: top;\n",
       "    }\n",
       "\n",
       "    .dataframe thead th {\n",
       "        text-align: right;\n",
       "    }\n",
       "</style>\n",
       "<table border=\"1\" class=\"dataframe\">\n",
       "  <thead>\n",
       "    <tr style=\"text-align: right;\">\n",
       "      <th></th>\n",
       "      <th>neuron</th>\n",
       "      <th>subtype</th>\n",
       "      <th>volume</th>\n",
       "      <th>area</th>\n",
       "      <th>area_scipy</th>\n",
       "      <th>peri_scipy</th>\n",
       "      <th>circ_scipy</th>\n",
       "      <th>dens_scipy</th>\n",
       "      <th>density</th>\n",
       "      <th>perimeter</th>\n",
       "      <th>...</th>\n",
       "      <th>xN_angle</th>\n",
       "      <th>xN_xy</th>\n",
       "      <th>yP_weight</th>\n",
       "      <th>yP_scale</th>\n",
       "      <th>yP_angle</th>\n",
       "      <th>yP_xy</th>\n",
       "      <th>yN_weight</th>\n",
       "      <th>yN_scale</th>\n",
       "      <th>yN_angle</th>\n",
       "      <th>yN_xy</th>\n",
       "    </tr>\n",
       "  </thead>\n",
       "  <tbody>\n",
       "    <tr>\n",
       "      <th>0</th>\n",
       "      <td>T4-02</td>\n",
       "      <td>A</td>\n",
       "      <td>108849</td>\n",
       "      <td>27964</td>\n",
       "      <td>27651.5</td>\n",
       "      <td>663.808598</td>\n",
       "      <td>0.788575</td>\n",
       "      <td>3.936459</td>\n",
       "      <td>0.535689</td>\n",
       "      <td>704.156421</td>\n",
       "      <td>...</td>\n",
       "      <td>-260.312321</td>\n",
       "      <td>(-0.8820511411082395, -5.166901691419008)</td>\n",
       "      <td>0.003908</td>\n",
       "      <td>112.013844</td>\n",
       "      <td>-170.312321</td>\n",
       "      <td>(-0.4314590483098199, 0.07365515518423468)</td>\n",
       "      <td>0.003970</td>\n",
       "      <td>-146.971715</td>\n",
       "      <td>-350.312321</td>\n",
       "      <td>(0.5751005825410065, -0.0981764615194362)</td>\n",
       "    </tr>\n",
       "    <tr>\n",
       "      <th>1</th>\n",
       "      <td>T4-03</td>\n",
       "      <td>D</td>\n",
       "      <td>108692</td>\n",
       "      <td>38753</td>\n",
       "      <td>38378.0</td>\n",
       "      <td>801.486500</td>\n",
       "      <td>0.750758</td>\n",
       "      <td>2.832143</td>\n",
       "      <td>0.439450</td>\n",
       "      <td>843.553391</td>\n",
       "      <td>...</td>\n",
       "      <td>-93.252698</td>\n",
       "      <td>(-0.37928414235887997, 6.673852998139413)</td>\n",
       "      <td>0.115012</td>\n",
       "      <td>91.193838</td>\n",
       "      <td>-3.252698</td>\n",
       "      <td>(10.471458819771142, 0.5951072459657826)</td>\n",
       "      <td>0.526327</td>\n",
       "      <td>-246.534458</td>\n",
       "      <td>-183.252698</td>\n",
       "      <td>(-129.5487374907479, -7.362430938552654)</td>\n",
       "    </tr>\n",
       "    <tr>\n",
       "      <th>2</th>\n",
       "      <td>T4-04</td>\n",
       "      <td>B</td>\n",
       "      <td>186473</td>\n",
       "      <td>43348</td>\n",
       "      <td>42944.0</td>\n",
       "      <td>852.623692</td>\n",
       "      <td>0.742331</td>\n",
       "      <td>4.342236</td>\n",
       "      <td>0.488604</td>\n",
       "      <td>899.168614</td>\n",
       "      <td>...</td>\n",
       "      <td>-268.044659</td>\n",
       "      <td>(-3.5579178484868996, -104.21433415715062)</td>\n",
       "      <td>0.074659</td>\n",
       "      <td>205.685251</td>\n",
       "      <td>-178.044659</td>\n",
       "      <td>(-15.34741353843868, 0.5239666596552713)</td>\n",
       "      <td>0.057257</td>\n",
       "      <td>-146.007427</td>\n",
       "      <td>-358.044659</td>\n",
       "      <td>(8.355140255428802, -0.28524773373857254)</td>\n",
       "    </tr>\n",
       "    <tr>\n",
       "      <th>3</th>\n",
       "      <td>T4-05</td>\n",
       "      <td>D</td>\n",
       "      <td>170394</td>\n",
       "      <td>51284</td>\n",
       "      <td>50872.0</td>\n",
       "      <td>908.035625</td>\n",
       "      <td>0.775323</td>\n",
       "      <td>3.349465</td>\n",
       "      <td>0.431460</td>\n",
       "      <td>952.933116</td>\n",
       "      <td>...</td>\n",
       "      <td>-98.690900</td>\n",
       "      <td>(-1.193525030504534, 7.808014514206264)</td>\n",
       "      <td>0.111959</td>\n",
       "      <td>95.363716</td>\n",
       "      <td>-8.690900</td>\n",
       "      <td>(10.55422928104682, 1.613308582059391)</td>\n",
       "      <td>0.549541</td>\n",
       "      <td>-282.230528</td>\n",
       "      <td>-188.690900</td>\n",
       "      <td>(-153.3162850032442, -23.435768901607968)</td>\n",
       "    </tr>\n",
       "    <tr>\n",
       "      <th>4</th>\n",
       "      <td>T4-06</td>\n",
       "      <td>D</td>\n",
       "      <td>168232</td>\n",
       "      <td>43249</td>\n",
       "      <td>42825.0</td>\n",
       "      <td>884.861675</td>\n",
       "      <td>0.687316</td>\n",
       "      <td>3.928360</td>\n",
       "      <td>0.483086</td>\n",
       "      <td>922.742207</td>\n",
       "      <td>...</td>\n",
       "      <td>-99.428881</td>\n",
       "      <td>(-0.09436679304058622, 0.5682458032813655)</td>\n",
       "      <td>0.121086</td>\n",
       "      <td>106.038768</td>\n",
       "      <td>-9.428881</td>\n",
       "      <td>(12.66635343034258, 2.10346147008536)</td>\n",
       "      <td>0.467388</td>\n",
       "      <td>-259.251018</td>\n",
       "      <td>-189.428881</td>\n",
       "      <td>(-119.53388623792972, -19.850616474093712)</td>\n",
       "    </tr>\n",
       "  </tbody>\n",
       "</table>\n",
       "<p>5 rows × 38 columns</p>\n",
       "</div>"
      ],
      "text/plain": [
       "  neuron subtype  volume   area  area_scipy  peri_scipy  circ_scipy  \\\n",
       "0  T4-02       A  108849  27964     27651.5  663.808598    0.788575   \n",
       "1  T4-03       D  108692  38753     38378.0  801.486500    0.750758   \n",
       "2  T4-04       B  186473  43348     42944.0  852.623692    0.742331   \n",
       "3  T4-05       D  170394  51284     50872.0  908.035625    0.775323   \n",
       "4  T4-06       D  168232  43249     42825.0  884.861675    0.687316   \n",
       "\n",
       "   dens_scipy   density   perimeter  ...    xN_angle  \\\n",
       "0    3.936459  0.535689  704.156421  ... -260.312321   \n",
       "1    2.832143  0.439450  843.553391  ...  -93.252698   \n",
       "2    4.342236  0.488604  899.168614  ... -268.044659   \n",
       "3    3.349465  0.431460  952.933116  ...  -98.690900   \n",
       "4    3.928360  0.483086  922.742207  ...  -99.428881   \n",
       "\n",
       "                                        xN_xy  yP_weight    yP_scale  \\\n",
       "0   (-0.8820511411082395, -5.166901691419008)   0.003908  112.013844   \n",
       "1   (-0.37928414235887997, 6.673852998139413)   0.115012   91.193838   \n",
       "2  (-3.5579178484868996, -104.21433415715062)   0.074659  205.685251   \n",
       "3     (-1.193525030504534, 7.808014514206264)   0.111959   95.363716   \n",
       "4  (-0.09436679304058622, 0.5682458032813655)   0.121086  106.038768   \n",
       "\n",
       "     yP_angle                                       yP_xy  yN_weight  \\\n",
       "0 -170.312321  (-0.4314590483098199, 0.07365515518423468)   0.003970   \n",
       "1   -3.252698    (10.471458819771142, 0.5951072459657826)   0.526327   \n",
       "2 -178.044659    (-15.34741353843868, 0.5239666596552713)   0.057257   \n",
       "3   -8.690900      (10.55422928104682, 1.613308582059391)   0.549541   \n",
       "4   -9.428881       (12.66635343034258, 2.10346147008536)   0.467388   \n",
       "\n",
       "     yN_scale    yN_angle                                       yN_xy  \n",
       "0 -146.971715 -350.312321   (0.5751005825410065, -0.0981764615194362)  \n",
       "1 -246.534458 -183.252698    (-129.5487374907479, -7.362430938552654)  \n",
       "2 -146.007427 -358.044659   (8.355140255428802, -0.28524773373857254)  \n",
       "3 -282.230528 -188.690900   (-153.3162850032442, -23.435768901607968)  \n",
       "4 -259.251018 -189.428881  (-119.53388623792972, -19.850616474093712)  \n",
       "\n",
       "[5 rows x 38 columns]"
      ]
     },
     "execution_count": 8,
     "metadata": {},
     "output_type": "execute_result"
    }
   ],
   "source": [
    "results_df.head()"
   ]
  },
  {
   "cell_type": "code",
   "execution_count": 23,
   "metadata": {},
   "outputs": [
    {
     "data": {
      "image/png": "[encoded data removed]",
      "text/plain": [
       "<Figure size 432x288 with 1 Axes>"
      ]
     },
     "metadata": {
      "needs_background": "light"
     },
     "output_type": "display_data"
    }
   ],
   "source": [
    "fig = plt.figure(1)\n",
    "colors = {'A':'b','B':'g','C':'orange','D':'r'}\n",
    "x_p = {'A':1,'B':2,'C':3,'D':4}\n",
    "# y_vals = (results_df.surface_area/results_df.volume)\n",
    "# y_vals = y_vals/y_vals.max()\n",
    "y_vals = results_df.asymmetry\n",
    "for i,neu in enumerate(y_vals):\n",
    "    plt.scatter(x_p[results_df.subtype[i]],neu,c=colors[results_df.subtype[i]])\n",
    "plt.title('neuron asymmetry based on EP and PCA')\n",
    "x = np.array([1,2,3,4])\n",
    "my_xticks = ['A','B','C','D']\n",
    "plt.xticks(x, my_xticks)\n",
    "plt.ylabel('Asymmetry value')\n",
    "# plt.legend()\n",
    "plt.savefig(save_path+'adult_T4_Asymmetry.png', facecolor='white', transparent=False)"
   ]
  },
  {
   "cell_type": "code",
   "execution_count": 18,
   "metadata": {},
   "outputs": [
    {
     "data": {
      "image/png": "[encoded data removed]",
      "text/plain": [
       "<Figure size 432x432 with 1 Axes>"
      ]
     },
     "metadata": {
      "needs_background": "light"
     },
     "output_type": "display_data"
    }
   ],
   "source": [
    "fig, ax = plt.subplots(1, 1, figsize=(6, 6))\n",
    "colors = {'A':'b','B':'g','C':'orange','D':'r'}\n",
    "vals = results_df.PCA_shift_centroid\n",
    "for i,neu in enumerate(vals):\n",
    "    ax.scatter((neu[1]),(neu[0]),c=colors[results_df.subtype[i]])\n",
    "ax.set_title('center_position_after_PCA_rotation')\n",
    "ax.set_xlabel('x position from EP')\n",
    "ax.set_ylabel('y position from EP')\n",
    "# plt.legend()\n",
    "# x = np.array([1,2,3,4])\n",
    "# my_xticks = ['A','B','C','D']\n",
    "# plt.xticks(x, my_xticks)\n",
    "# plt.ylabel('normalized ratio of surface_area to volume')\n",
    "plt.savefig(save_path+'center_position_after_PCA_rotation.png', facecolor='white', transparent=False, dpi=500)"
   ]
  },
  {
   "cell_type": "code",
   "execution_count": null,
   "metadata": {},
   "outputs": [],
   "source": []
  },
  {
   "cell_type": "code",
   "execution_count": 11,
   "metadata": {},
   "outputs": [
    {
     "data": {
      "text/plain": [
       "<AxesSubplot:>"
      ]
     },
     "execution_count": 11,
     "metadata": {},
     "output_type": "execute_result"
    },
    {
     "data": {
      "image/png": "[encoded data removed]",
      "text/plain": [
       "<Figure size 432x288 with 1 Axes>"
      ]
     },
     "metadata": {
      "needs_background": "light"
     },
     "output_type": "display_data"
    }
   ],
   "source": [
    "results_df.asymmetry.plot(kind='bar')\n",
    "# results_df.circ_scipy.plot(kind='bar')"
   ]
  },
  {
   "cell_type": "code",
   "execution_count": null,
   "metadata": {},
   "outputs": [],
   "source": []
  }
 ],
 "metadata": {
  "kernelspec": {
   "display_name": "Python 3.9.6 ('growth')",
   "language": "python",
   "name": "python3"
  },
  "language_info": {
   "codemirror_mode": {
    "name": "ipython",
    "version": 3
   },
   "file_extension": ".py",
   "mimetype": "text/x-python",
   "name": "python",
   "nbconvert_exporter": "python",
   "pygments_lexer": "ipython3",
   "version": "3.9.6"
  },
  "orig_nbformat": 4,
  "vscode": {
   "interpreter": {
    "hash": "3558778624732e82e76d08d0e1529767d5d68faabf4350c6a5545e8ecf2497ca"
   }
  }
 },
 "nbformat": 4,
 "nbformat_minor": 2
}
