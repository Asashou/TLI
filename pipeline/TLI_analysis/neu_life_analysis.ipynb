{
 "cells": [
  {
   "cell_type": "code",
   "execution_count": 1,
   "metadata": {},
   "outputs": [],
   "source": [
    "# read txt document of entry points\n",
    "# also iterate over all tif files (adult 3D mask images) in the same path and perform analysis \n",
    "# all analysis except column analysis "
   ]
  },
  {
   "cell_type": "code",
   "execution_count": 1,
   "metadata": {},
   "outputs": [
    {
     "name": "stderr",
     "output_type": "stream",
     "text": [
      "/tmp/ipykernel_1025674/391219825.py:1: DeprecationWarning: Please use `binary_fill_holes` from the `scipy.ndimage` namespace, the `scipy.ndimage.morphology` namespace is deprecated.\n",
      "  from scipy.ndimage.morphology import binary_fill_holes\n"
     ]
    }
   ],
   "source": [
    "from scipy.ndimage.morphology import binary_fill_holes\n",
    "\n",
    "from tqdm import tqdm\n",
    "import os\n",
    "import re\n",
    "import tifffile as tif\n",
    "\n",
    "import utils.analysis as analysis\n",
    "import utils.datautils as datautils\n",
    "\n",
    "import numpy as np\n",
    "from skimage.measure import regionprops, marching_cubes, mesh_surface_area, perimeter\n",
    "import pandas as pd\n",
    "import math\n",
    "from scipy.spatial import ConvexHull\n",
    "\n",
    "import matplotlib.pyplot as plt\n",
    "from matplotlib import colors\n",
    "import matplotlib.patches as mpatches\n",
    "# import seaborn as sns\n",
    "%matplotlib inline\n",
    "\n",
    "from timeit import default_timer as timer\n",
    "from multiprocessing import cpu_count, Process, Pool"
   ]
  },
  {
   "cell_type": "code",
   "execution_count": 2,
   "metadata": {},
   "outputs": [],
   "source": [
    "# def cal_lifetimes_angle(mask_img, plot=True):\n",
    "#     lifetimes = analysis.cal_lifetimes(mask_img, save=False)\n",
    "#     lifetimes = lifetimes[-1].astype(float)\n",
    "#     lifetimes = 37+0.25*(lifetimes.max()-lifetimes)\n",
    "    \n",
    "#     t1 = lifetimes.copy()\n",
    "#     t1[t1>40] = 0\n",
    "#     t1 = t1.astype('uint8')\n",
    "#     t1_center = regionprops(t1)[0].centroid\n",
    "#     t2 = lifetimes.copy()\n",
    "#     t2[t2<50] = 0\n",
    "#     t2 = t2.astype('uint8')\n",
    "#     t2_center = regionprops(t2)[0].centroid\n",
    "\n",
    "#     x,y = (t2_center[-1]-t1_center[-1]) , (t2_center[-2]-t1_center[-2])\n",
    "\n",
    "#     if plot:\n",
    "#         y1,x1 = int(t1_center[-2]),int(t1_center[-1])\n",
    "#         y2,x2 = int(t2_center[-2]),int(t2_center[-1])\n",
    "#         t_plot = lifetimes.sum(axis=0)\n",
    "#         t_plot[t_plot!=0] = 1\n",
    "#         t_plot[y1-1:y1+1,x1-1:x1+1]=5\n",
    "#         t_plot[y2-1:y2+1,x2-1:x2+1]=10\n",
    "#         plt.imshow(t_plot)\n",
    "#         plt.plot((x1,x2),(y1,y2))\n",
    "#     return x, y, np.degrees(np.arctan2(y,x))\n"
   ]
  },
  {
   "cell_type": "code",
   "execution_count": 3,
   "metadata": {},
   "outputs": [],
   "source": [
    "#  input and save paths\n",
    "data_path = '/home/tli_project/Desktop/Data/T4/neurons/output/cols_labeled/all/'\n",
    "save_path = '/home/tli_project/Desktop/Data/T4/neurons/output/cols_labeled/all/output/'\n",
    "# subtype = 'B'\n",
    "# stab_limit = 5 #(No. of timepoints for stable branches calculation)\n",
    "start_age = 37"
   ]
  },
  {
   "cell_type": "code",
   "execution_count": 4,
   "metadata": {},
   "outputs": [],
   "source": [
    "# # getting list of folders in data_path, where each folder has files for one neuron\n",
    "# N_folders = [name for name in os.listdir(data_path) if os.path.isdir(os.path.join(data_path, name))]\n",
    "# N_folders = [f for f in N_folders if '_P' in f]\n",
    "# N_folders = sorted(N_folders)\n",
    "# N_folders"
   ]
  },
  {
   "cell_type": "code",
   "execution_count": 8,
   "metadata": {},
   "outputs": [
    {
     "name": "stdout",
     "output_type": "stream",
     "text": [
      "first 5 files\n",
      "['/home/tli_project/Desktop/Data/T4/neurons/output/New/220209_P36_N2_sA.csv', '/home/tli_project/Desktop/Data/T4/neurons/output/New/220209_P36_N1_sC.csv', '/home/tli_project/Desktop/Data/T4/neurons/output/New/220127_P36_N1_sD.csv', '/home/tli_project/Desktop/Data/T4/neurons/output/New/211121_P36.5_N3_sC.csv', '/home/tli_project/Desktop/Data/T4/neurons/output/New/211121_P36.5_N2_sA.csv']\n"
     ]
    }
   ],
   "source": [
    "# getting filenames of TLI CSV files and the subtype of each neuron\n",
    "##### this is a stupid ways\n",
    "Colors = {'A':'b','B':'g','C':'orange','D':'r'}\n",
    "tli_data = '/home/tli_project/Desktop/Data/T4/neurons/output/New/'\n",
    "output_files = datautils.get_file_names(tli_data, group_by='_', order=True, nested_files=False, criteria='.csv')\n",
    "neu_types = {}\n",
    "for neu in output_files:\n",
    "    name = os.path.splitext(os.path.basename(neu))[0]\n",
    "    neu_types[name] = name.split('_s')[1]\n",
    "neu_types = {'neu_type':list(neu_types.values()),'neu_name':list(neu_types.keys())}\n",
    "neu_types = pd.DataFrame(neu_types)\n",
    "neu_types.neu_name = [n[:-3] for n in neu_types.neu_name]"
   ]
  },
  {
   "cell_type": "code",
   "execution_count": 5,
   "metadata": {},
   "outputs": [
    {
     "name": "stdout",
     "output_type": "stream",
     "text": [
      "first 5 files\n",
      "['/home/tli_project/Desktop/Data/T4/neurons/output/cols_labeled/all/220209_P36_N2_cols_labeled.tif', '/home/tli_project/Desktop/Data/T4/neurons/output/cols_labeled/all/220209_P36_N1_cols_labeled.tif', '/home/tli_project/Desktop/Data/T4/neurons/output/cols_labeled/all/220127_P36_N1_cols_labeled.tif', '/home/tli_project/Desktop/Data/T4/neurons/output/cols_labeled/all/211121_P36.5_N3_cols_labeled.tif', '/home/tli_project/Desktop/Data/T4/neurons/output/cols_labeled/all/211121_P36.5_N2_cols_labeled.tif']\n"
     ]
    }
   ],
   "source": [
    "files_list = datautils.get_file_names(data_path, group_by='', \n",
    "                                        order=True, nested_files=False, \n",
    "                                        criteria='.tif')"
   ]
  },
  {
   "cell_type": "code",
   "execution_count": 6,
   "metadata": {},
   "outputs": [
    {
     "name": "stderr",
     "output_type": "stream",
     "text": [
      "100%|██████████| 83/83 [00:01<00:00, 45.16it/s]\n",
      "100%|██████████| 79/79 [00:01<00:00, 44.54it/s]\n",
      "100%|██████████| 84/84 [00:01<00:00, 61.51it/s]\n",
      "100%|██████████| 87/87 [00:02<00:00, 35.58it/s]\n",
      "100%|██████████| 87/87 [00:02<00:00, 40.59it/s]\n",
      "100%|██████████| 87/87 [00:01<00:00, 50.92it/s]\n",
      "100%|██████████| 84/84 [00:01<00:00, 48.17it/s]\n",
      "100%|██████████| 84/84 [00:05<00:00, 14.39it/s]\n",
      "100%|██████████| 84/84 [00:03<00:00, 22.24it/s]\n",
      "100%|██████████| 77/77 [00:01<00:00, 45.56it/s]\n",
      "100%|██████████| 77/77 [00:01<00:00, 43.17it/s]\n",
      "100%|██████████| 83/83 [00:01<00:00, 47.02it/s]\n",
      "100%|██████████| 83/83 [00:01<00:00, 54.19it/s]\n",
      "100%|██████████| 83/83 [00:01<00:00, 47.02it/s]\n",
      "100%|██████████| 80/80 [00:01<00:00, 53.19it/s]\n",
      "100%|██████████| 80/80 [00:02<00:00, 35.18it/s]\n",
      "100%|██████████| 80/80 [00:02<00:00, 35.88it/s]\n",
      "100%|██████████| 84/84 [00:02<00:00, 37.51it/s]\n"
     ]
    }
   ],
   "source": [
    "start = 38\n",
    "end = 56\n",
    "timepoints = {'timepoints' : np.arange(start,end+0.25,0.25)}\n",
    "# results_cols = []\n",
    "results_df = pd.DataFrame(timepoints)\n",
    "results_df2 = pd.DataFrame(timepoints)\n",
    "for neu, neu_path in enumerate(files_list):\n",
    "    neu_name = os.path.basename(neu_path)[:-17]\n",
    "    start_im = re.search('P(.*)_N', neu_path)\n",
    "    start_im = float(start_im.group(1))\n",
    "    start_ana = int((start_age - start_im)/0.25)\n",
    "    neuron = tif.imread(neu_path)\n",
    "    neuron = neuron[start_ana:] #remove timepoints before start_ana from the 4D image array\n",
    "    neuron[neuron != 0] = 1\n",
    "    lifetimes = analysis.cal_lifetimes(neuron, save=False)\n",
    "    lifetimes = lifetimes[-1].astype(float)\n",
    "    lifetimes[lifetimes>0] = 37+0.25*(lifetimes.max()-lifetimes[lifetimes>0])\n",
    "\n",
    "    sample = lifetimes[(lifetimes>=start-0.25) & (lifetimes<=end)]\n",
    "    total = len(sample)\n",
    "    result = []\n",
    "    result2 = []\n",
    "    for i in results_df2.timepoints:\n",
    "        subset = sample[sample==i]\n",
    "        compare = sample[sample<i]\n",
    "        result2.append(len(subset)/len(compare))\n",
    "        result.append(len(subset)/total)\n",
    "\n",
    "    results_df[neu_name] = np.array(result)\n",
    "    results_df2[neu_name] = np.array(result2)"
   ]
  },
  {
   "cell_type": "code",
   "execution_count": 7,
   "metadata": {},
   "outputs": [
    {
     "data": {
      "text/html": [
       "<div>\n",
       "<style scoped>\n",
       "    .dataframe tbody tr th:only-of-type {\n",
       "        vertical-align: middle;\n",
       "    }\n",
       "\n",
       "    .dataframe tbody tr th {\n",
       "        vertical-align: top;\n",
       "    }\n",
       "\n",
       "    .dataframe thead th {\n",
       "        text-align: right;\n",
       "    }\n",
       "</style>\n",
       "<table border=\"1\" class=\"dataframe\">\n",
       "  <thead>\n",
       "    <tr style=\"text-align: right;\">\n",
       "      <th></th>\n",
       "      <th>timepoints</th>\n",
       "      <th>220209_P36_N2</th>\n",
       "      <th>220209_P36_N1</th>\n",
       "      <th>220127_P36_N1</th>\n",
       "      <th>211121_P36.5_N3</th>\n",
       "      <th>211121_P36.5_N2</th>\n",
       "      <th>211121_P36.5_N1</th>\n",
       "      <th>211114_P36_N3</th>\n",
       "      <th>211114_P36_N2</th>\n",
       "      <th>211114_P36_N1</th>\n",
       "      <th>211113_P36_N2</th>\n",
       "      <th>211113_P36_N1</th>\n",
       "      <th>211107_P36_N3</th>\n",
       "      <th>211107_P36_N2</th>\n",
       "      <th>211107_P36_N1</th>\n",
       "      <th>211104_P36_N3</th>\n",
       "      <th>211104_P36_N2</th>\n",
       "      <th>211104_P36_N1</th>\n",
       "      <th>211011_P37_N1</th>\n",
       "    </tr>\n",
       "  </thead>\n",
       "  <tbody>\n",
       "    <tr>\n",
       "      <th>0</th>\n",
       "      <td>38.00</td>\n",
       "      <td>0.002037</td>\n",
       "      <td>0.001432</td>\n",
       "      <td>0.004389</td>\n",
       "      <td>0.005244</td>\n",
       "      <td>0.000767</td>\n",
       "      <td>0.001142</td>\n",
       "      <td>0.000977</td>\n",
       "      <td>0.002033</td>\n",
       "      <td>0.000050</td>\n",
       "      <td>0.000931</td>\n",
       "      <td>0.002644</td>\n",
       "      <td>0.006929</td>\n",
       "      <td>0.014485</td>\n",
       "      <td>0.017913</td>\n",
       "      <td>0.015387</td>\n",
       "      <td>0.014523</td>\n",
       "      <td>0.001235</td>\n",
       "      <td>0.002515</td>\n",
       "    </tr>\n",
       "    <tr>\n",
       "      <th>1</th>\n",
       "      <td>38.25</td>\n",
       "      <td>0.000282</td>\n",
       "      <td>0.004157</td>\n",
       "      <td>0.018637</td>\n",
       "      <td>0.002132</td>\n",
       "      <td>0.001861</td>\n",
       "      <td>0.001603</td>\n",
       "      <td>0.001305</td>\n",
       "      <td>0.000892</td>\n",
       "      <td>0.000971</td>\n",
       "      <td>0.005841</td>\n",
       "      <td>0.012676</td>\n",
       "      <td>0.001428</td>\n",
       "      <td>0.008349</td>\n",
       "      <td>0.007631</td>\n",
       "      <td>0.005106</td>\n",
       "      <td>0.004198</td>\n",
       "      <td>0.004225</td>\n",
       "      <td>0.001567</td>\n",
       "    </tr>\n",
       "    <tr>\n",
       "      <th>2</th>\n",
       "      <td>38.50</td>\n",
       "      <td>0.005290</td>\n",
       "      <td>0.009490</td>\n",
       "      <td>0.017262</td>\n",
       "      <td>0.010188</td>\n",
       "      <td>0.000103</td>\n",
       "      <td>0.004578</td>\n",
       "      <td>0.010784</td>\n",
       "      <td>0.000600</td>\n",
       "      <td>0.000305</td>\n",
       "      <td>0.004072</td>\n",
       "      <td>0.014002</td>\n",
       "      <td>0.017773</td>\n",
       "      <td>0.001662</td>\n",
       "      <td>0.013004</td>\n",
       "      <td>0.025575</td>\n",
       "      <td>0.019500</td>\n",
       "      <td>0.009770</td>\n",
       "      <td>0.002325</td>\n",
       "    </tr>\n",
       "    <tr>\n",
       "      <th>3</th>\n",
       "      <td>38.75</td>\n",
       "      <td>0.009201</td>\n",
       "      <td>0.012112</td>\n",
       "      <td>0.004184</td>\n",
       "      <td>0.005253</td>\n",
       "      <td>0.000482</td>\n",
       "      <td>0.006931</td>\n",
       "      <td>0.001901</td>\n",
       "      <td>0.000327</td>\n",
       "      <td>0.000801</td>\n",
       "      <td>0.013466</td>\n",
       "      <td>0.000762</td>\n",
       "      <td>0.003750</td>\n",
       "      <td>0.001602</td>\n",
       "      <td>0.006714</td>\n",
       "      <td>0.003775</td>\n",
       "      <td>0.012311</td>\n",
       "      <td>0.012484</td>\n",
       "      <td>0.001008</td>\n",
       "    </tr>\n",
       "    <tr>\n",
       "      <th>4</th>\n",
       "      <td>39.00</td>\n",
       "      <td>0.005327</td>\n",
       "      <td>0.004032</td>\n",
       "      <td>0.002750</td>\n",
       "      <td>0.001539</td>\n",
       "      <td>0.000250</td>\n",
       "      <td>0.012996</td>\n",
       "      <td>0.004130</td>\n",
       "      <td>0.000517</td>\n",
       "      <td>0.004884</td>\n",
       "      <td>0.002202</td>\n",
       "      <td>0.000164</td>\n",
       "      <td>0.023577</td>\n",
       "      <td>0.002733</td>\n",
       "      <td>0.012550</td>\n",
       "      <td>0.002002</td>\n",
       "      <td>0.004298</td>\n",
       "      <td>0.011792</td>\n",
       "      <td>0.001108</td>\n",
       "    </tr>\n",
       "  </tbody>\n",
       "</table>\n",
       "</div>"
      ],
      "text/plain": [
       "   timepoints  220209_P36_N2  220209_P36_N1  220127_P36_N1  211121_P36.5_N3  \\\n",
       "0       38.00       0.002037       0.001432       0.004389         0.005244   \n",
       "1       38.25       0.000282       0.004157       0.018637         0.002132   \n",
       "2       38.50       0.005290       0.009490       0.017262         0.010188   \n",
       "3       38.75       0.009201       0.012112       0.004184         0.005253   \n",
       "4       39.00       0.005327       0.004032       0.002750         0.001539   \n",
       "\n",
       "   211121_P36.5_N2  211121_P36.5_N1  211114_P36_N3  211114_P36_N2  \\\n",
       "0         0.000767         0.001142       0.000977       0.002033   \n",
       "1         0.001861         0.001603       0.001305       0.000892   \n",
       "2         0.000103         0.004578       0.010784       0.000600   \n",
       "3         0.000482         0.006931       0.001901       0.000327   \n",
       "4         0.000250         0.012996       0.004130       0.000517   \n",
       "\n",
       "   211114_P36_N1  211113_P36_N2  211113_P36_N1  211107_P36_N3  211107_P36_N2  \\\n",
       "0       0.000050       0.000931       0.002644       0.006929       0.014485   \n",
       "1       0.000971       0.005841       0.012676       0.001428       0.008349   \n",
       "2       0.000305       0.004072       0.014002       0.017773       0.001662   \n",
       "3       0.000801       0.013466       0.000762       0.003750       0.001602   \n",
       "4       0.004884       0.002202       0.000164       0.023577       0.002733   \n",
       "\n",
       "   211107_P36_N1  211104_P36_N3  211104_P36_N2  211104_P36_N1  211011_P37_N1  \n",
       "0       0.017913       0.015387       0.014523       0.001235       0.002515  \n",
       "1       0.007631       0.005106       0.004198       0.004225       0.001567  \n",
       "2       0.013004       0.025575       0.019500       0.009770       0.002325  \n",
       "3       0.006714       0.003775       0.012311       0.012484       0.001008  \n",
       "4       0.012550       0.002002       0.004298       0.011792       0.001108  "
      ]
     },
     "execution_count": 7,
     "metadata": {},
     "output_type": "execute_result"
    }
   ],
   "source": [
    "results_df.head()"
   ]
  },
  {
   "cell_type": "code",
   "execution_count": 11,
   "metadata": {},
   "outputs": [],
   "source": [
    "results_df1 = results_df.cumsum()"
   ]
  },
  {
   "cell_type": "code",
   "execution_count": 33,
   "metadata": {},
   "outputs": [],
   "source": [
    "results_df3 = results_df.copy()\n",
    "del results_df3['211114_P36_N1']"
   ]
  },
  {
   "cell_type": "code",
   "execution_count": 35,
   "metadata": {},
   "outputs": [
    {
     "data": {
      "image/png": "[encoded data removed]",
      "text/plain": [
       "<Figure size 640x480 with 1 Axes>"
      ]
     },
     "metadata": {},
     "output_type": "display_data"
    }
   ],
   "source": [
    "Colors = {'A':'teal','B':'teal','C':'#881a58','D':'#881a58'}\n",
    "# Colors = {'A':'lightblue','B':'mediumseagreen','C':'tan','D':'plum'}\n",
    "Colors = {'A':'b','B':'g','C':'orange','D':'r'}\n",
    "for i, neu in neu_types.iterrows():\n",
    "    name = neu.neu_name\n",
    "    c = Colors[neu.neu_type]\n",
    "    try:\n",
    "        plt.plot(results_df2.timepoints[:], results_df1[name][:], c=c)\n",
    "    except:\n",
    "        pass"
   ]
  },
  {
   "cell_type": "code",
   "execution_count": 43,
   "metadata": {},
   "outputs": [
    {
     "data": {
      "text/plain": [
       "0.9974763364706197"
      ]
     },
     "execution_count": 43,
     "metadata": {},
     "output_type": "execute_result"
    }
   ],
   "source": [
    "results_df['211114_P36_N3'].sum()"
   ]
  },
  {
   "cell_type": "code",
   "execution_count": 48,
   "metadata": {},
   "outputs": [
    {
     "data": {
      "text/plain": [
       "[<matplotlib.lines.Line2D at 0x7f30c0737c10>]"
      ]
     },
     "execution_count": 48,
     "metadata": {},
     "output_type": "execute_result"
    },
    {
     "data": {
      "image/png": "[encoded data removed]",
      "text/plain": [
       "<Figure size 640x480 with 1 Axes>"
      ]
     },
     "metadata": {},
     "output_type": "display_data"
    },
    {
     "ename": "",
     "evalue": "",
     "output_type": "error",
     "traceback": [
      "\u001b[1;31mThe Kernel crashed while executing code in the the current cell or a previous cell. Please review the code in the cell(s) to identify a possible cause of the failure. Click <a href='https://aka.ms/vscodeJupyterKernelCrash'>here</a> for more info. View Jupyter <a href='command:jupyter.viewOutput'>log</a> for further details."
     ]
    }
   ],
   "source": [
    "plt.plot(results_df['211113_P36_N1'])"
   ]
  },
  {
   "cell_type": "code",
   "execution_count": 47,
   "metadata": {},
   "outputs": [
    {
     "data": {
      "text/plain": [
       "[<matplotlib.lines.Line2D at 0x7f30c06524c0>]"
      ]
     },
     "execution_count": 47,
     "metadata": {},
     "output_type": "execute_result"
    },
    {
     "data": {
      "image/png": "[encoded data removed]",
      "text/plain": [
       "<Figure size 640x480 with 1 Axes>"
      ]
     },
     "metadata": {},
     "output_type": "display_data"
    }
   ],
   "source": [
    "plt.plot(results_df['211113_P36_N2'])"
   ]
  },
  {
   "cell_type": "code",
   "execution_count": null,
   "metadata": {},
   "outputs": [],
   "source": []
  },
  {
   "cell_type": "code",
   "execution_count": null,
   "metadata": {},
   "outputs": [],
   "source": []
  },
  {
   "cell_type": "code",
   "execution_count": null,
   "metadata": {},
   "outputs": [],
   "source": []
  },
  {
   "cell_type": "code",
   "execution_count": 20,
   "metadata": {},
   "outputs": [
    {
     "data": {
      "text/html": [
       "<div>\n",
       "<style scoped>\n",
       "    .dataframe tbody tr th:only-of-type {\n",
       "        vertical-align: middle;\n",
       "    }\n",
       "\n",
       "    .dataframe tbody tr th {\n",
       "        vertical-align: top;\n",
       "    }\n",
       "\n",
       "    .dataframe thead th {\n",
       "        text-align: right;\n",
       "    }\n",
       "</style>\n",
       "<table border=\"1\" class=\"dataframe\">\n",
       "  <thead>\n",
       "    <tr style=\"text-align: right;\">\n",
       "      <th></th>\n",
       "      <th>neu_type</th>\n",
       "      <th>neu_name</th>\n",
       "    </tr>\n",
       "  </thead>\n",
       "  <tbody>\n",
       "    <tr>\n",
       "      <th>0</th>\n",
       "      <td>A</td>\n",
       "      <td>220209_P36_N2</td>\n",
       "    </tr>\n",
       "    <tr>\n",
       "      <th>1</th>\n",
       "      <td>C</td>\n",
       "      <td>220209_P36_N1</td>\n",
       "    </tr>\n",
       "    <tr>\n",
       "      <th>2</th>\n",
       "      <td>D</td>\n",
       "      <td>220127_P36_N1</td>\n",
       "    </tr>\n",
       "    <tr>\n",
       "      <th>3</th>\n",
       "      <td>C</td>\n",
       "      <td>211121_P36.5_N3</td>\n",
       "    </tr>\n",
       "    <tr>\n",
       "      <th>4</th>\n",
       "      <td>A</td>\n",
       "      <td>211121_P36.5_N2</td>\n",
       "    </tr>\n",
       "    <tr>\n",
       "      <th>5</th>\n",
       "      <td>A</td>\n",
       "      <td>211121_P36.5_N1</td>\n",
       "    </tr>\n",
       "    <tr>\n",
       "      <th>6</th>\n",
       "      <td>C</td>\n",
       "      <td>211114_P36_N3</td>\n",
       "    </tr>\n",
       "    <tr>\n",
       "      <th>7</th>\n",
       "      <td>A</td>\n",
       "      <td>211114_P36_N2</td>\n",
       "    </tr>\n",
       "    <tr>\n",
       "      <th>8</th>\n",
       "      <td>A</td>\n",
       "      <td>211114_P36_N1</td>\n",
       "    </tr>\n",
       "    <tr>\n",
       "      <th>9</th>\n",
       "      <td>A</td>\n",
       "      <td>211113_P36_N2</td>\n",
       "    </tr>\n",
       "    <tr>\n",
       "      <th>10</th>\n",
       "      <td>C</td>\n",
       "      <td>211113_P36_N1</td>\n",
       "    </tr>\n",
       "    <tr>\n",
       "      <th>11</th>\n",
       "      <td>D</td>\n",
       "      <td>211107_P36_N3</td>\n",
       "    </tr>\n",
       "    <tr>\n",
       "      <th>12</th>\n",
       "      <td>C</td>\n",
       "      <td>211107_P36_N2</td>\n",
       "    </tr>\n",
       "    <tr>\n",
       "      <th>13</th>\n",
       "      <td>B</td>\n",
       "      <td>211107_P36_N1</td>\n",
       "    </tr>\n",
       "    <tr>\n",
       "      <th>14</th>\n",
       "      <td>C</td>\n",
       "      <td>211104_P36_N3</td>\n",
       "    </tr>\n",
       "    <tr>\n",
       "      <th>15</th>\n",
       "      <td>A</td>\n",
       "      <td>211104_P36_N2</td>\n",
       "    </tr>\n",
       "    <tr>\n",
       "      <th>16</th>\n",
       "      <td>C</td>\n",
       "      <td>211104_P36_N1</td>\n",
       "    </tr>\n",
       "    <tr>\n",
       "      <th>17</th>\n",
       "      <td>B</td>\n",
       "      <td>211011_P37_N1</td>\n",
       "    </tr>\n",
       "  </tbody>\n",
       "</table>\n",
       "</div>"
      ],
      "text/plain": [
       "   neu_type         neu_name\n",
       "0         A    220209_P36_N2\n",
       "1         C    220209_P36_N1\n",
       "2         D    220127_P36_N1\n",
       "3         C  211121_P36.5_N3\n",
       "4         A  211121_P36.5_N2\n",
       "5         A  211121_P36.5_N1\n",
       "6         C    211114_P36_N3\n",
       "7         A    211114_P36_N2\n",
       "8         A    211114_P36_N1\n",
       "9         A    211113_P36_N2\n",
       "10        C    211113_P36_N1\n",
       "11        D    211107_P36_N3\n",
       "12        C    211107_P36_N2\n",
       "13        B    211107_P36_N1\n",
       "14        C    211104_P36_N3\n",
       "15        A    211104_P36_N2\n",
       "16        C    211104_P36_N1\n",
       "17        B    211011_P37_N1"
      ]
     },
     "execution_count": 20,
     "metadata": {},
     "output_type": "execute_result"
    }
   ],
   "source": [
    "neu_types"
   ]
  },
  {
   "cell_type": "code",
   "execution_count": null,
   "metadata": {},
   "outputs": [],
   "source": []
  },
  {
   "cell_type": "code",
   "execution_count": null,
   "metadata": {},
   "outputs": [],
   "source": []
  },
  {
   "cell_type": "code",
   "execution_count": null,
   "metadata": {},
   "outputs": [],
   "source": []
  },
  {
   "cell_type": "code",
   "execution_count": 104,
   "metadata": {},
   "outputs": [
    {
     "name": "stdout",
     "output_type": "stream",
     "text": [
      "first 5 files\n",
      "['/home/tli_project/Desktop/Data/T4/neurons/output/New/220209_P36_N2_sA.csv', '/home/tli_project/Desktop/Data/T4/neurons/output/New/220209_P36_N1_sC.csv', '/home/tli_project/Desktop/Data/T4/neurons/output/New/220127_P36_N1_sD.csv', '/home/tli_project/Desktop/Data/T4/neurons/output/New/211121_P36.5_N3_sC.csv', '/home/tli_project/Desktop/Data/T4/neurons/output/New/211121_P36.5_N2_sA.csv']\n"
     ]
    }
   ],
   "source": [
    "# getting filenames of TLI CSV files and the subtype of each neuron\n",
    "Colors = {'A':'b','B':'g','C':'orange','D':'r'}\n",
    "tli_data = '/home/tli_project/Desktop/Data/T4/neurons/output/New/'\n",
    "output_files = datautils.get_file_names(tli_data, group_by='_', order=True, nested_files=False, criteria='.csv')\n",
    "neu_types = {}\n",
    "for neu in output_files:\n",
    "    name = os.path.splitext(os.path.basename(neu))[0]\n",
    "    neu_types[name] = name.split('_s')[1]\n",
    "neu_types = {'neu_type':list(neu_types.values()),'neu_name':list(neu_types.keys())}\n",
    "neu_types = pd.DataFrame(neu_types)\n",
    "neu_types.neu_name = [n[:-3] for n in neu_types.neu_name]"
   ]
  },
  {
   "cell_type": "code",
   "execution_count": 132,
   "metadata": {},
   "outputs": [],
   "source": [
    "for neu in results_df.columns[1:]:\n",
    "    name = os.path.basename(neu)[:-17]\n",
    "    results_df.rename(columns = {neu:name}, inplace = True)"
   ]
  },
  {
   "cell_type": "code",
   "execution_count": 134,
   "metadata": {},
   "outputs": [
    {
     "data": {
      "text/plain": [
       "Index(['220209_P36_N1', '220127_P36_N1', '211121_P36.5_N3', '211121_P36.5_N2',\n",
       "       '211121_P36.5_N1', '211114_P36_N3', '211114_P36_N2', '211114_P36_N1',\n",
       "       '211113_P36_N2', '211113_P36_N1', '211107_P36_N3', '211107_P36_N2',\n",
       "       '211107_P36_N1', '211104_P36_N3', '211104_P36_N2', '211104_P36_N1',\n",
       "       '211011_P37_N1'],\n",
       "      dtype='object')"
      ]
     },
     "execution_count": 134,
     "metadata": {},
     "output_type": "execute_result"
    }
   ],
   "source": [
    "results_df1.columns[1:]"
   ]
  },
  {
   "cell_type": "code",
   "execution_count": 135,
   "metadata": {},
   "outputs": [
    {
     "ename": "KeyError",
     "evalue": "'220209_P36_N2'",
     "output_type": "error",
     "traceback": [
      "\u001b[0;31m---------------------------------------------------------------------------\u001b[0m",
      "\u001b[0;31mKeyError\u001b[0m                                  Traceback (most recent call last)",
      "File \u001b[0;32m~/miniconda3/envs/plotting/lib/python3.9/site-packages/pandas/core/indexes/base.py:3361\u001b[0m, in \u001b[0;36mIndex.get_loc\u001b[0;34m(self, key, method, tolerance)\u001b[0m\n\u001b[1;32m   3360\u001b[0m \u001b[39mtry\u001b[39;00m:\n\u001b[0;32m-> 3361\u001b[0m     \u001b[39mreturn\u001b[39;00m \u001b[39mself\u001b[39;49m\u001b[39m.\u001b[39;49m_engine\u001b[39m.\u001b[39;49mget_loc(casted_key)\n\u001b[1;32m   3362\u001b[0m \u001b[39mexcept\u001b[39;00m \u001b[39mKeyError\u001b[39;00m \u001b[39mas\u001b[39;00m err:\n",
      "File \u001b[0;32m~/miniconda3/envs/plotting/lib/python3.9/site-packages/pandas/_libs/index.pyx:76\u001b[0m, in \u001b[0;36mpandas._libs.index.IndexEngine.get_loc\u001b[0;34m()\u001b[0m\n",
      "File \u001b[0;32m~/miniconda3/envs/plotting/lib/python3.9/site-packages/pandas/_libs/index.pyx:108\u001b[0m, in \u001b[0;36mpandas._libs.index.IndexEngine.get_loc\u001b[0;34m()\u001b[0m\n",
      "File \u001b[0;32mpandas/_libs/hashtable_class_helper.pxi:5198\u001b[0m, in \u001b[0;36mpandas._libs.hashtable.PyObjectHashTable.get_item\u001b[0;34m()\u001b[0m\n",
      "File \u001b[0;32mpandas/_libs/hashtable_class_helper.pxi:5206\u001b[0m, in \u001b[0;36mpandas._libs.hashtable.PyObjectHashTable.get_item\u001b[0;34m()\u001b[0m\n",
      "\u001b[0;31mKeyError\u001b[0m: '220209_P36_N2'",
      "\nThe above exception was the direct cause of the following exception:\n",
      "\u001b[0;31mKeyError\u001b[0m                                  Traceback (most recent call last)",
      "\u001b[1;32m/home/tli_project/Desktop/TLI_preprocessing/Github_repo/TLI/pipeline/TLI_analysis/neu_life_analysis.ipynb Cell 12\u001b[0m in \u001b[0;36m<cell line: 1>\u001b[0;34m()\u001b[0m\n\u001b[1;32m      <a href='vscode-notebook-cell:/home/tli_project/Desktop/TLI_preprocessing/Github_repo/TLI/pipeline/TLI_analysis/neu_life_analysis.ipynb#Y226sZmlsZQ%3D%3D?line=0'>1</a>\u001b[0m \u001b[39mfor\u001b[39;00m i, neu \u001b[39min\u001b[39;00m neu_types\u001b[39m.\u001b[39miterrows():\n\u001b[1;32m      <a href='vscode-notebook-cell:/home/tli_project/Desktop/TLI_preprocessing/Github_repo/TLI/pipeline/TLI_analysis/neu_life_analysis.ipynb#Y226sZmlsZQ%3D%3D?line=1'>2</a>\u001b[0m     name \u001b[39m=\u001b[39m neu\u001b[39m.\u001b[39mneu_name\n\u001b[0;32m----> <a href='vscode-notebook-cell:/home/tli_project/Desktop/TLI_preprocessing/Github_repo/TLI/pipeline/TLI_analysis/neu_life_analysis.ipynb#Y226sZmlsZQ%3D%3D?line=2'>3</a>\u001b[0m     plt\u001b[39m.\u001b[39mplot(results_df2\u001b[39m.\u001b[39mtimepoints[:], results_df1[name][:])\n",
      "File \u001b[0;32m~/miniconda3/envs/plotting/lib/python3.9/site-packages/pandas/core/frame.py:3458\u001b[0m, in \u001b[0;36mDataFrame.__getitem__\u001b[0;34m(self, key)\u001b[0m\n\u001b[1;32m   3456\u001b[0m \u001b[39mif\u001b[39;00m \u001b[39mself\u001b[39m\u001b[39m.\u001b[39mcolumns\u001b[39m.\u001b[39mnlevels \u001b[39m>\u001b[39m \u001b[39m1\u001b[39m:\n\u001b[1;32m   3457\u001b[0m     \u001b[39mreturn\u001b[39;00m \u001b[39mself\u001b[39m\u001b[39m.\u001b[39m_getitem_multilevel(key)\n\u001b[0;32m-> 3458\u001b[0m indexer \u001b[39m=\u001b[39m \u001b[39mself\u001b[39;49m\u001b[39m.\u001b[39;49mcolumns\u001b[39m.\u001b[39;49mget_loc(key)\n\u001b[1;32m   3459\u001b[0m \u001b[39mif\u001b[39;00m is_integer(indexer):\n\u001b[1;32m   3460\u001b[0m     indexer \u001b[39m=\u001b[39m [indexer]\n",
      "File \u001b[0;32m~/miniconda3/envs/plotting/lib/python3.9/site-packages/pandas/core/indexes/base.py:3363\u001b[0m, in \u001b[0;36mIndex.get_loc\u001b[0;34m(self, key, method, tolerance)\u001b[0m\n\u001b[1;32m   3361\u001b[0m         \u001b[39mreturn\u001b[39;00m \u001b[39mself\u001b[39m\u001b[39m.\u001b[39m_engine\u001b[39m.\u001b[39mget_loc(casted_key)\n\u001b[1;32m   3362\u001b[0m     \u001b[39mexcept\u001b[39;00m \u001b[39mKeyError\u001b[39;00m \u001b[39mas\u001b[39;00m err:\n\u001b[0;32m-> 3363\u001b[0m         \u001b[39mraise\u001b[39;00m \u001b[39mKeyError\u001b[39;00m(key) \u001b[39mfrom\u001b[39;00m \u001b[39merr\u001b[39;00m\n\u001b[1;32m   3365\u001b[0m \u001b[39mif\u001b[39;00m is_scalar(key) \u001b[39mand\u001b[39;00m isna(key) \u001b[39mand\u001b[39;00m \u001b[39mnot\u001b[39;00m \u001b[39mself\u001b[39m\u001b[39m.\u001b[39mhasnans:\n\u001b[1;32m   3366\u001b[0m     \u001b[39mraise\u001b[39;00m \u001b[39mKeyError\u001b[39;00m(key)\n",
      "\u001b[0;31mKeyError\u001b[0m: '220209_P36_N2'"
     ]
    }
   ],
   "source": [
    "for i, neu in neu_types.iterrows():\n",
    "    name = neu.neu_name\n",
    "    plt.plot(results_df2.timepoints[:], results_df1[name][:])"
   ]
  },
  {
   "cell_type": "code",
   "execution_count": 129,
   "metadata": {},
   "outputs": [
    {
     "ename": "KeyError",
     "evalue": "'220209_P36_N2'",
     "output_type": "error",
     "traceback": [
      "\u001b[0;31m---------------------------------------------------------------------------\u001b[0m",
      "\u001b[0;31mKeyError\u001b[0m                                  Traceback (most recent call last)",
      "File \u001b[0;32m~/miniconda3/envs/plotting/lib/python3.9/site-packages/pandas/core/indexes/base.py:3361\u001b[0m, in \u001b[0;36mIndex.get_loc\u001b[0;34m(self, key, method, tolerance)\u001b[0m\n\u001b[1;32m   3360\u001b[0m \u001b[39mtry\u001b[39;00m:\n\u001b[0;32m-> 3361\u001b[0m     \u001b[39mreturn\u001b[39;00m \u001b[39mself\u001b[39;49m\u001b[39m.\u001b[39;49m_engine\u001b[39m.\u001b[39;49mget_loc(casted_key)\n\u001b[1;32m   3362\u001b[0m \u001b[39mexcept\u001b[39;00m \u001b[39mKeyError\u001b[39;00m \u001b[39mas\u001b[39;00m err:\n",
      "File \u001b[0;32m~/miniconda3/envs/plotting/lib/python3.9/site-packages/pandas/_libs/index.pyx:76\u001b[0m, in \u001b[0;36mpandas._libs.index.IndexEngine.get_loc\u001b[0;34m()\u001b[0m\n",
      "File \u001b[0;32m~/miniconda3/envs/plotting/lib/python3.9/site-packages/pandas/_libs/index.pyx:108\u001b[0m, in \u001b[0;36mpandas._libs.index.IndexEngine.get_loc\u001b[0;34m()\u001b[0m\n",
      "File \u001b[0;32mpandas/_libs/hashtable_class_helper.pxi:5198\u001b[0m, in \u001b[0;36mpandas._libs.hashtable.PyObjectHashTable.get_item\u001b[0;34m()\u001b[0m\n",
      "File \u001b[0;32mpandas/_libs/hashtable_class_helper.pxi:5206\u001b[0m, in \u001b[0;36mpandas._libs.hashtable.PyObjectHashTable.get_item\u001b[0;34m()\u001b[0m\n",
      "\u001b[0;31mKeyError\u001b[0m: '220209_P36_N2'",
      "\nThe above exception was the direct cause of the following exception:\n",
      "\u001b[0;31mKeyError\u001b[0m                                  Traceback (most recent call last)",
      "\u001b[1;32m/home/tli_project/Desktop/TLI_preprocessing/Github_repo/TLI/pipeline/TLI_analysis/neu_life_analysis.ipynb Cell 13\u001b[0m in \u001b[0;36m<cell line: 1>\u001b[0;34m()\u001b[0m\n\u001b[0;32m----> <a href='vscode-notebook-cell:/home/tli_project/Desktop/TLI_preprocessing/Github_repo/TLI/pipeline/TLI_analysis/neu_life_analysis.ipynb#Y230sZmlsZQ%3D%3D?line=0'>1</a>\u001b[0m results_df1[\u001b[39m'\u001b[39;49m\u001b[39m220209_P36_N2\u001b[39;49m\u001b[39m'\u001b[39;49m]\n",
      "File \u001b[0;32m~/miniconda3/envs/plotting/lib/python3.9/site-packages/pandas/core/frame.py:3458\u001b[0m, in \u001b[0;36mDataFrame.__getitem__\u001b[0;34m(self, key)\u001b[0m\n\u001b[1;32m   3456\u001b[0m \u001b[39mif\u001b[39;00m \u001b[39mself\u001b[39m\u001b[39m.\u001b[39mcolumns\u001b[39m.\u001b[39mnlevels \u001b[39m>\u001b[39m \u001b[39m1\u001b[39m:\n\u001b[1;32m   3457\u001b[0m     \u001b[39mreturn\u001b[39;00m \u001b[39mself\u001b[39m\u001b[39m.\u001b[39m_getitem_multilevel(key)\n\u001b[0;32m-> 3458\u001b[0m indexer \u001b[39m=\u001b[39m \u001b[39mself\u001b[39;49m\u001b[39m.\u001b[39;49mcolumns\u001b[39m.\u001b[39;49mget_loc(key)\n\u001b[1;32m   3459\u001b[0m \u001b[39mif\u001b[39;00m is_integer(indexer):\n\u001b[1;32m   3460\u001b[0m     indexer \u001b[39m=\u001b[39m [indexer]\n",
      "File \u001b[0;32m~/miniconda3/envs/plotting/lib/python3.9/site-packages/pandas/core/indexes/base.py:3363\u001b[0m, in \u001b[0;36mIndex.get_loc\u001b[0;34m(self, key, method, tolerance)\u001b[0m\n\u001b[1;32m   3361\u001b[0m         \u001b[39mreturn\u001b[39;00m \u001b[39mself\u001b[39m\u001b[39m.\u001b[39m_engine\u001b[39m.\u001b[39mget_loc(casted_key)\n\u001b[1;32m   3362\u001b[0m     \u001b[39mexcept\u001b[39;00m \u001b[39mKeyError\u001b[39;00m \u001b[39mas\u001b[39;00m err:\n\u001b[0;32m-> 3363\u001b[0m         \u001b[39mraise\u001b[39;00m \u001b[39mKeyError\u001b[39;00m(key) \u001b[39mfrom\u001b[39;00m \u001b[39merr\u001b[39;00m\n\u001b[1;32m   3365\u001b[0m \u001b[39mif\u001b[39;00m is_scalar(key) \u001b[39mand\u001b[39;00m isna(key) \u001b[39mand\u001b[39;00m \u001b[39mnot\u001b[39;00m \u001b[39mself\u001b[39m\u001b[39m.\u001b[39mhasnans:\n\u001b[1;32m   3366\u001b[0m     \u001b[39mraise\u001b[39;00m \u001b[39mKeyError\u001b[39;00m(key)\n",
      "\u001b[0;31mKeyError\u001b[0m: '220209_P36_N2'"
     ]
    }
   ],
   "source": [
    "results_df1['220209_P36_N2']"
   ]
  },
  {
   "cell_type": "code",
   "execution_count": 108,
   "metadata": {},
   "outputs": [
    {
     "ename": "TypeError",
     "evalue": "unhashable type: 'Series'",
     "output_type": "error",
     "traceback": [
      "\u001b[0;31m---------------------------------------------------------------------------\u001b[0m",
      "\u001b[0;31mTypeError\u001b[0m                                 Traceback (most recent call last)",
      "\u001b[1;32m/home/tli_project/Desktop/TLI_preprocessing/Github_repo/TLI/pipeline/TLI_analysis/neu_life_analysis.ipynb Cell 10\u001b[0m in \u001b[0;36m<cell line: 1>\u001b[0;34m()\u001b[0m\n\u001b[1;32m      <a href='vscode-notebook-cell:/home/tli_project/Desktop/TLI_preprocessing/Github_repo/TLI/pipeline/TLI_analysis/neu_life_analysis.ipynb#Y210sZmlsZQ%3D%3D?line=0'>1</a>\u001b[0m \u001b[39mfor\u001b[39;00m neu \u001b[39min\u001b[39;00m results_df1\u001b[39m.\u001b[39mcolumns[\u001b[39m1\u001b[39m:]:\n\u001b[1;32m      <a href='vscode-notebook-cell:/home/tli_project/Desktop/TLI_preprocessing/Github_repo/TLI/pipeline/TLI_analysis/neu_life_analysis.ipynb#Y210sZmlsZQ%3D%3D?line=1'>2</a>\u001b[0m     name \u001b[39m=\u001b[39m os\u001b[39m.\u001b[39mpath\u001b[39m.\u001b[39mbasename(neu)[:\u001b[39m-\u001b[39m\u001b[39m17\u001b[39m]\n\u001b[0;32m----> <a href='vscode-notebook-cell:/home/tli_project/Desktop/TLI_preprocessing/Github_repo/TLI/pipeline/TLI_analysis/neu_life_analysis.ipynb#Y210sZmlsZQ%3D%3D?line=2'>3</a>\u001b[0m     c\u001b[39m=\u001b[39m Colors[neu_types[neu_types\u001b[39m.\u001b[39;49mneu_name\u001b[39m==\u001b[39;49mname]\u001b[39m.\u001b[39;49mneu_type]\n\u001b[1;32m      <a href='vscode-notebook-cell:/home/tli_project/Desktop/TLI_preprocessing/Github_repo/TLI/pipeline/TLI_analysis/neu_life_analysis.ipynb#Y210sZmlsZQ%3D%3D?line=3'>4</a>\u001b[0m     plt\u001b[39m.\u001b[39mplot(results_df2\u001b[39m.\u001b[39mtimepoints[:], results_df1[neu][:], c\u001b[39m=\u001b[39mc)\n\u001b[1;32m      <a href='vscode-notebook-cell:/home/tli_project/Desktop/TLI_preprocessing/Github_repo/TLI/pipeline/TLI_analysis/neu_life_analysis.ipynb#Y210sZmlsZQ%3D%3D?line=4'>5</a>\u001b[0m plt\u001b[39m.\u001b[39mlegend(bbox_to_anchor\u001b[39m=\u001b[39m(\u001b[39m1.2\u001b[39m, \u001b[39m0.97\u001b[39m))\n",
      "\u001b[0;31mTypeError\u001b[0m: unhashable type: 'Series'"
     ]
    }
   ],
   "source": [
    "for neu in results_df1.columns[1:]:\n",
    "    name = os.path.basename(neu)[:-17]\n",
    "    c= Colors[neu_types[neu_types.neu_name==name].neu_type]\n",
    "    plt.plot(results_df2.timepoints[:], results_df1[neu][:], c=c)\n",
    "plt.legend(bbox_to_anchor=(1.2, 0.97))\n"
   ]
  },
  {
   "cell_type": "code",
   "execution_count": 121,
   "metadata": {},
   "outputs": [
    {
     "ename": "TypeError",
     "evalue": "unhashable type: 'Series'",
     "output_type": "error",
     "traceback": [
      "\u001b[0;31m---------------------------------------------------------------------------\u001b[0m",
      "\u001b[0;31mTypeError\u001b[0m                                 Traceback (most recent call last)",
      "\u001b[1;32m/home/tli_project/Desktop/TLI_preprocessing/Github_repo/TLI/pipeline/TLI_analysis/neu_life_analysis.ipynb Cell 11\u001b[0m in \u001b[0;36m<cell line: 2>\u001b[0;34m()\u001b[0m\n\u001b[1;32m      <a href='vscode-notebook-cell:/home/tli_project/Desktop/TLI_preprocessing/Github_repo/TLI/pipeline/TLI_analysis/neu_life_analysis.ipynb#Y220sZmlsZQ%3D%3D?line=0'>1</a>\u001b[0m subtype \u001b[39m=\u001b[39m neu_types[neu_types\u001b[39m.\u001b[39mneu_name\u001b[39m==\u001b[39mname][\u001b[39m'\u001b[39m\u001b[39mneu_type\u001b[39m\u001b[39m'\u001b[39m]\n\u001b[0;32m----> <a href='vscode-notebook-cell:/home/tli_project/Desktop/TLI_preprocessing/Github_repo/TLI/pipeline/TLI_analysis/neu_life_analysis.ipynb#Y220sZmlsZQ%3D%3D?line=1'>2</a>\u001b[0m Colors[subtype]\n",
      "\u001b[0;31mTypeError\u001b[0m: unhashable type: 'Series'"
     ]
    }
   ],
   "source": [
    "subtype = neu_types[neu_types.neu_name==name]['neu_type']\n",
    "Colors[subtype]"
   ]
  },
  {
   "cell_type": "markdown",
   "metadata": {},
   "source": []
  },
  {
   "cell_type": "code",
   "execution_count": 125,
   "metadata": {},
   "outputs": [
    {
     "name": "stdout",
     "output_type": "stream",
     "text": [
      "0 neu_type                A\n",
      "neu_name    220209_P36_N2\n",
      "Name: 0, dtype: object\n",
      "1 neu_type                C\n",
      "neu_name    220209_P36_N1\n",
      "Name: 1, dtype: object\n",
      "2 neu_type                D\n",
      "neu_name    220127_P36_N1\n",
      "Name: 2, dtype: object\n",
      "3 neu_type                  C\n",
      "neu_name    211121_P36.5_N3\n",
      "Name: 3, dtype: object\n",
      "4 neu_type                  A\n",
      "neu_name    211121_P36.5_N2\n",
      "Name: 4, dtype: object\n",
      "5 neu_type                  A\n",
      "neu_name    211121_P36.5_N1\n",
      "Name: 5, dtype: object\n",
      "6 neu_type                C\n",
      "neu_name    211114_P36_N3\n",
      "Name: 6, dtype: object\n",
      "7 neu_type                A\n",
      "neu_name    211114_P36_N2\n",
      "Name: 7, dtype: object\n",
      "8 neu_type                A\n",
      "neu_name    211114_P36_N1\n",
      "Name: 8, dtype: object\n",
      "9 neu_type                A\n",
      "neu_name    211113_P36_N2\n",
      "Name: 9, dtype: object\n",
      "10 neu_type                C\n",
      "neu_name    211113_P36_N1\n",
      "Name: 10, dtype: object\n",
      "11 neu_type                D\n",
      "neu_name    211107_P36_N3\n",
      "Name: 11, dtype: object\n",
      "12 neu_type                C\n",
      "neu_name    211107_P36_N2\n",
      "Name: 12, dtype: object\n",
      "13 neu_type                B\n",
      "neu_name    211107_P36_N1\n",
      "Name: 13, dtype: object\n",
      "14 neu_type                C\n",
      "neu_name    211104_P36_N3\n",
      "Name: 14, dtype: object\n",
      "15 neu_type                A\n",
      "neu_name    211104_P36_N2\n",
      "Name: 15, dtype: object\n",
      "16 neu_type                C\n",
      "neu_name    211104_P36_N1\n",
      "Name: 16, dtype: object\n",
      "17 neu_type                B\n",
      "neu_name    211011_P37_N1\n",
      "Name: 17, dtype: object\n"
     ]
    }
   ],
   "source": [
    "for i, neu in neu_types.iterrows():\n",
    "    print(i,neu)"
   ]
  },
  {
   "cell_type": "code",
   "execution_count": 34,
   "metadata": {},
   "outputs": [
    {
     "data": {
      "text/plain": [
       "[<matplotlib.lines.Line2D at 0x7eff2a28c040>]"
      ]
     },
     "execution_count": 34,
     "metadata": {},
     "output_type": "execute_result"
    },
    {
     "data": {
      "image/png": "[encoded data removed]",
      "text/plain": [
       "<Figure size 640x480 with 1 Axes>"
      ]
     },
     "metadata": {},
     "output_type": "display_data"
    }
   ],
   "source": [
    "plt.plot(results_df.timepoints, results_df['/home/tli_project/Desktop/Data/T4/neurons/output/cols_labeled/all/211114_P36_N3_cols_labeled.tif'], label=name)"
   ]
  },
  {
   "cell_type": "code",
   "execution_count": 42,
   "metadata": {},
   "outputs": [
    {
     "data": {
      "text/plain": [
       "'211011_P37_N1_'"
      ]
     },
     "execution_count": 42,
     "metadata": {},
     "output_type": "execute_result"
    }
   ],
   "source": [
    "name[:14]"
   ]
  },
  {
   "cell_type": "code",
   "execution_count": 35,
   "metadata": {},
   "outputs": [],
   "source": [
    "results_df1 = results_df.cumsum()"
   ]
  },
  {
   "cell_type": "code",
   "execution_count": 38,
   "metadata": {},
   "outputs": [
    {
     "data": {
      "text/plain": [
       "timepoints                                                                                            3431.0\n",
       "/home/tli_project/Desktop/Data/T4/neurons/output/cols_labeled/all/220209_P36_N1_cols_labeled.tif         1.0\n",
       "/home/tli_project/Desktop/Data/T4/neurons/output/cols_labeled/all/220127_P36_N1_cols_labeled.tif         1.0\n",
       "/home/tli_project/Desktop/Data/T4/neurons/output/cols_labeled/all/211121_P36.5_N3_cols_labeled.tif       1.0\n",
       "/home/tli_project/Desktop/Data/T4/neurons/output/cols_labeled/all/211121_P36.5_N2_cols_labeled.tif       1.0\n",
       "/home/tli_project/Desktop/Data/T4/neurons/output/cols_labeled/all/211121_P36.5_N1_cols_labeled.tif       1.0\n",
       "/home/tli_project/Desktop/Data/T4/neurons/output/cols_labeled/all/211114_P36_N3_cols_labeled.tif         1.0\n",
       "/home/tli_project/Desktop/Data/T4/neurons/output/cols_labeled/all/211114_P36_N2_cols_labeled.tif         1.0\n",
       "/home/tli_project/Desktop/Data/T4/neurons/output/cols_labeled/all/211114_P36_N1_cols_labeled.tif         1.0\n",
       "/home/tli_project/Desktop/Data/T4/neurons/output/cols_labeled/all/211113_P36_N2_cols_labeled.tif         1.0\n",
       "/home/tli_project/Desktop/Data/T4/neurons/output/cols_labeled/all/211113_P36_N1_cols_labeled.tif         1.0\n",
       "/home/tli_project/Desktop/Data/T4/neurons/output/cols_labeled/all/211107_P36_N3_cols_labeled.tif         1.0\n",
       "/home/tli_project/Desktop/Data/T4/neurons/output/cols_labeled/all/211107_P36_N2_cols_labeled.tif         1.0\n",
       "/home/tli_project/Desktop/Data/T4/neurons/output/cols_labeled/all/211107_P36_N1_cols_labeled.tif         1.0\n",
       "/home/tli_project/Desktop/Data/T4/neurons/output/cols_labeled/all/211104_P36_N3_cols_labeled.tif         1.0\n",
       "/home/tli_project/Desktop/Data/T4/neurons/output/cols_labeled/all/211104_P36_N2_cols_labeled.tif         1.0\n",
       "/home/tli_project/Desktop/Data/T4/neurons/output/cols_labeled/all/211104_P36_N1_cols_labeled.tif         1.0\n",
       "/home/tli_project/Desktop/Data/T4/neurons/output/cols_labeled/all/211011_P37_N1_cols_labeled.tif         1.0\n",
       "Name: 72, dtype: float64"
      ]
     },
     "execution_count": 38,
     "metadata": {},
     "output_type": "execute_result"
    }
   ],
   "source": [
    "results_df1.iloc[-1]"
   ]
  },
  {
   "cell_type": "code",
   "execution_count": null,
   "metadata": {},
   "outputs": [],
   "source": [
    "aa"
   ]
  },
  {
   "cell_type": "code",
   "execution_count": 11,
   "metadata": {},
   "outputs": [
    {
     "name": "stdout",
     "output_type": "stream",
     "text": [
      "first 5 files\n",
      "['/home/tli_project/Desktop/Data/T4/neurons/SubtypeB/211011_P37_N1/test_line.tif', '/home/tli_project/Desktop/Data/T4/neurons/SubtypeB/211011_P37_N1/original_cols_3.png', '/home/tli_project/Desktop/Data/T4/neurons/SubtypeB/211011_P37_N1/original_cols_2.png', '/home/tli_project/Desktop/Data/T4/neurons/SubtypeB/211011_P37_N1/original_cols_10.png', '/home/tli_project/Desktop/Data/T4/neurons/SubtypeB/211011_P37_N1/mywarpedgrid_3.png']\n"
     ]
    },
    {
     "name": "stderr",
     "output_type": "stream",
     "text": [
      "100%|██████████| 84/84 [00:02<00:00, 38.38it/s]\n"
     ]
    },
    {
     "name": "stdout",
     "output_type": "stream",
     "text": [
      "38.0\n",
      "38.25\n",
      "38.5\n",
      "38.75\n",
      "39.0\n",
      "39.25\n",
      "39.5\n",
      "39.75\n",
      "40.0\n",
      "40.25\n",
      "40.5\n",
      "40.75\n",
      "41.0\n",
      "41.25\n",
      "41.5\n",
      "41.75\n",
      "42.0\n",
      "42.25\n",
      "42.5\n",
      "42.75\n",
      "43.0\n",
      "43.25\n",
      "43.5\n",
      "43.75\n",
      "44.0\n",
      "44.25\n",
      "44.5\n",
      "44.75\n",
      "45.0\n",
      "45.25\n",
      "45.5\n",
      "45.75\n",
      "46.0\n",
      "46.25\n",
      "46.5\n",
      "46.75\n",
      "47.0\n",
      "47.25\n",
      "47.5\n",
      "47.75\n",
      "48.0\n",
      "48.25\n",
      "48.5\n",
      "48.75\n",
      "49.0\n",
      "49.25\n",
      "49.5\n",
      "49.75\n",
      "50.0\n",
      "50.25\n",
      "50.5\n",
      "50.75\n",
      "51.0\n",
      "51.25\n",
      "51.5\n",
      "51.75\n",
      "52.0\n",
      "52.25\n",
      "52.5\n",
      "52.75\n",
      "53.0\n",
      "53.25\n",
      "53.5\n",
      "53.75\n",
      "54.0\n",
      "54.25\n",
      "54.5\n",
      "54.75\n",
      "55.0\n",
      "55.25\n",
      "55.5\n",
      "55.75\n",
      "56.0\n",
      "first 5 files\n",
      "['/home/tli_project/Desktop/Data/T4/neurons/SubtypeB/211107_P36_N1/211107_P36_N1_Z30.70_clahe.tif', '/home/tli_project/Desktop/Data/T4/neurons/SubtypeB/211107_P36_N1/211107_P36_N1_Z30.70_5D.tif', '/home/tli_project/Desktop/Data/T4/neurons/SubtypeB/211107_P36_N1/211107_P36_N1_R265_mask1.tif', '/home/tli_project/Desktop/Data/T4/neurons/SubtypeB/211107_P36_N1/211107_P36_N1_R265_Z30.70_5D.tif', '/home/tli_project/Desktop/Data/T4/neurons/SubtypeB/211107_P36_N1/211107_P36_N1_R265_ColRois.zip']\n"
     ]
    },
    {
     "name": "stderr",
     "output_type": "stream",
     "text": [
      "100%|██████████| 87/87 [00:01<00:00, 48.42it/s]"
     ]
    },
    {
     "name": "stdout",
     "output_type": "stream",
     "text": [
      "38.0\n",
      "38.25\n",
      "38.5\n",
      "38.75\n",
      "39.0\n",
      "39.25\n",
      "39.5\n",
      "39.75\n",
      "40.0\n",
      "40.25\n",
      "40.5\n",
      "40.75\n",
      "41.0\n",
      "41.25\n",
      "41.5\n",
      "41.75\n",
      "42.0\n",
      "42.25\n",
      "42.5\n",
      "42.75\n",
      "43.0\n",
      "43.25\n",
      "43.5\n",
      "43.75\n",
      "44.0\n",
      "44.25\n",
      "44.5\n",
      "44.75\n",
      "45.0\n",
      "45.25\n",
      "45.5\n",
      "45.75\n",
      "46.0\n",
      "46.25\n",
      "46.5\n",
      "46.75\n",
      "47.0\n",
      "47.25\n",
      "47.5\n",
      "47.75\n",
      "48.0\n",
      "48.25\n",
      "48.5\n",
      "48.75\n",
      "49.0\n",
      "49.25\n",
      "49.5\n",
      "49.75\n",
      "50.0\n",
      "50.25\n",
      "50.5\n",
      "50.75\n",
      "51.0\n",
      "51.25\n",
      "51.5\n",
      "51.75\n",
      "52.0\n",
      "52.25\n",
      "52.5\n",
      "52.75\n",
      "53.0\n",
      "53.25\n",
      "53.5\n",
      "53.75\n",
      "54.0\n",
      "54.25\n",
      "54.5\n",
      "54.75\n",
      "55.0\n",
      "55.25\n",
      "55.5\n",
      "55.75\n",
      "56.0\n"
     ]
    },
    {
     "name": "stderr",
     "output_type": "stream",
     "text": [
      "\n"
     ]
    }
   ],
   "source": [
    "start = 38\n",
    "end = 56\n",
    "timepoints = {'timepoints' : np.arange(start,end+0.25,0.25)}\n",
    "# results_cols = []\n",
    "results_df = pd.DataFrame(timepoints)\n",
    "for neu, n_folder in enumerate(N_folders):\n",
    "    start_im = re.search('P(.*)_N', n_folder)\n",
    "    start_im = float(start_im.group(1))\n",
    "    start_ana = int((start_age - start_im)/0.25)\n",
    "    files_list = datautils.get_file_names(data_path+n_folder, group_by='', \n",
    "                                        order=True, nested_files=False, \n",
    "                                        criteria='')\n",
    "    neu_path = [f for f in files_list if 'clahe' in f.lower()][0]\n",
    "    neuron = tif.imread(neu_path)\n",
    "    mask_path = [f for f in files_list if 'mask' in f.lower()][0]\n",
    "    mask = tif.imread(mask_path)\n",
    "    neuron[mask==0] = 0\n",
    "    neuron = neuron[start_ana:] #remove timepoints before start_ana from the 4D image array\n",
    "    neuron[neuron != 0] = 1\n",
    "    lifetimes = analysis.cal_lifetimes(neuron, save=False)\n",
    "    lifetimes = lifetimes[-1].astype(float)\n",
    "    lifetimes[lifetimes>0] = 37+0.25*(lifetimes.max()-lifetimes[lifetimes>0])\n",
    "\n",
    "    sample = lifetimes[(lifetimes>=start) & (lifetimes<=end)]\n",
    "    total = len(sample)\n",
    "    result = []\n",
    "    for i in results_df.timepoints:\n",
    "        subset = sample[sample==i]\n",
    "        result.append(len(subset)/total)\n",
    "    results_df[n_folder] = np.array(result)\n",
    "\n"
   ]
  },
  {
   "cell_type": "code",
   "execution_count": 10,
   "metadata": {},
   "outputs": [
    {
     "data": {
      "text/plain": [
       "[0.0]"
      ]
     },
     "execution_count": 10,
     "metadata": {},
     "output_type": "execute_result"
    }
   ],
   "source": [
    "result"
   ]
  },
  {
   "cell_type": "code",
   "execution_count": 12,
   "metadata": {},
   "outputs": [
    {
     "data": {
      "text/html": [
       "<div>\n",
       "<style scoped>\n",
       "    .dataframe tbody tr th:only-of-type {\n",
       "        vertical-align: middle;\n",
       "    }\n",
       "\n",
       "    .dataframe tbody tr th {\n",
       "        vertical-align: top;\n",
       "    }\n",
       "\n",
       "    .dataframe thead th {\n",
       "        text-align: right;\n",
       "    }\n",
       "</style>\n",
       "<table border=\"1\" class=\"dataframe\">\n",
       "  <thead>\n",
       "    <tr style=\"text-align: right;\">\n",
       "      <th></th>\n",
       "      <th>timepoints</th>\n",
       "      <th>211011_P37_N1</th>\n",
       "      <th>211107_P36_N1</th>\n",
       "    </tr>\n",
       "  </thead>\n",
       "  <tbody>\n",
       "    <tr>\n",
       "      <th>0</th>\n",
       "      <td>38.00</td>\n",
       "      <td>0.002528</td>\n",
       "      <td>0.010662</td>\n",
       "    </tr>\n",
       "    <tr>\n",
       "      <th>1</th>\n",
       "      <td>38.25</td>\n",
       "      <td>0.001575</td>\n",
       "      <td>0.018936</td>\n",
       "    </tr>\n",
       "    <tr>\n",
       "      <th>2</th>\n",
       "      <td>38.50</td>\n",
       "      <td>0.002337</td>\n",
       "      <td>0.005246</td>\n",
       "    </tr>\n",
       "    <tr>\n",
       "      <th>3</th>\n",
       "      <td>38.75</td>\n",
       "      <td>0.001013</td>\n",
       "      <td>0.009198</td>\n",
       "    </tr>\n",
       "    <tr>\n",
       "      <th>4</th>\n",
       "      <td>39.00</td>\n",
       "      <td>0.001113</td>\n",
       "      <td>0.020006</td>\n",
       "    </tr>\n",
       "  </tbody>\n",
       "</table>\n",
       "</div>"
      ],
      "text/plain": [
       "   timepoints  211011_P37_N1  211107_P36_N1\n",
       "0       38.00       0.002528       0.010662\n",
       "1       38.25       0.001575       0.018936\n",
       "2       38.50       0.002337       0.005246\n",
       "3       38.75       0.001013       0.009198\n",
       "4       39.00       0.001113       0.020006"
      ]
     },
     "execution_count": 12,
     "metadata": {},
     "output_type": "execute_result"
    }
   ],
   "source": [
    "results_df.head()"
   ]
  },
  {
   "cell_type": "code",
   "execution_count": 21,
   "metadata": {},
   "outputs": [
    {
     "name": "stderr",
     "output_type": "stream",
     "text": [
      "No artists with labels found to put in legend.  Note that artists whose label start with an underscore are ignored when legend() is called with no argument.\n"
     ]
    },
    {
     "data": {
      "text/plain": [
       "<matplotlib.legend.Legend at 0x7eff28905d90>"
      ]
     },
     "execution_count": 21,
     "metadata": {},
     "output_type": "execute_result"
    },
    {
     "data": {
      "image/png": "[encoded data removed]",
      "text/plain": [
       "<Figure size 640x480 with 1 Axes>"
      ]
     },
     "metadata": {},
     "output_type": "display_data"
    }
   ],
   "source": [
    "plt.plot(np.arange(start,end+0.25,0.25), results_df['211011_P37_N1'])\n",
    "plt.plot(np.arange(start,end+0.25,0.25), results_df['211107_P36_N1'])\n",
    "plt.legend()"
   ]
  },
  {
   "cell_type": "code",
   "execution_count": 74,
   "metadata": {},
   "outputs": [
    {
     "data": {
      "text/plain": [
       "1.0"
      ]
     },
     "execution_count": 74,
     "metadata": {},
     "output_type": "execute_result"
    }
   ],
   "source": [
    "result.sum()"
   ]
  },
  {
   "cell_type": "code",
   "execution_count": 30,
   "metadata": {},
   "outputs": [
    {
     "data": {
      "text/plain": [
       "0.1828500751503006"
      ]
     },
     "execution_count": 30,
     "metadata": {},
     "output_type": "execute_result"
    }
   ],
   "source": [
    "subset = sample[(sample>=56) & (sample<57)]\n",
    "len(subset)/total"
   ]
  },
  {
   "cell_type": "code",
   "execution_count": 35,
   "metadata": {},
   "outputs": [
    {
     "data": {
      "text/plain": [
       "0.07798409318637274"
      ]
     },
     "execution_count": 35,
     "metadata": {},
     "output_type": "execute_result"
    }
   ],
   "source": [
    "subset = sample[(sample>=57)]\n",
    "len(subset)/total"
   ]
  },
  {
   "cell_type": "code",
   "execution_count": 34,
   "metadata": {},
   "outputs": [
    {
     "data": {
      "text/plain": [
       "(array([ 1885.,  1035.,     0.,   622.,     0.,  1078.,     0.,  2055.,\n",
       "            0.,  2184.,     0.,  1944.,     0.,  2047.,  3013.,     0.,\n",
       "         2396.,     0.,  2335.,     0.,  2854.,     0.,  3937.,     0.,\n",
       "         2325.,     0.,  2673.,     0.,  3665.,  3212.,     0.,  3041.,\n",
       "            0.,  4241.,     0.,  3343.,     0.,  4291.,     0.,  3390.,\n",
       "            0.,  4162.,     0.,  5279.,  4817.,     0.,  6713.,     0.,\n",
       "         6549.,     0.,  9962.,     0., 12611.,     0., 16454.,     0.,\n",
       "        27052., 45351.]),\n",
       " array([50.25      , 50.38362069, 50.51724138, 50.65086207, 50.78448276,\n",
       "        50.91810345, 51.05172414, 51.18534483, 51.31896552, 51.45258621,\n",
       "        51.5862069 , 51.71982759, 51.85344828, 51.98706897, 52.12068966,\n",
       "        52.25431034, 52.38793103, 52.52155172, 52.65517241, 52.7887931 ,\n",
       "        52.92241379, 53.05603448, 53.18965517, 53.32327586, 53.45689655,\n",
       "        53.59051724, 53.72413793, 53.85775862, 53.99137931, 54.125     ,\n",
       "        54.25862069, 54.39224138, 54.52586207, 54.65948276, 54.79310345,\n",
       "        54.92672414, 55.06034483, 55.19396552, 55.32758621, 55.4612069 ,\n",
       "        55.59482759, 55.72844828, 55.86206897, 55.99568966, 56.12931034,\n",
       "        56.26293103, 56.39655172, 56.53017241, 56.6637931 , 56.79741379,\n",
       "        56.93103448, 57.06465517, 57.19827586, 57.33189655, 57.46551724,\n",
       "        57.59913793, 57.73275862, 57.86637931, 58.        ]),\n",
       " <BarContainer object of 58 artists>)"
      ]
     },
     "execution_count": 34,
     "metadata": {},
     "output_type": "execute_result"
    },
    {
     "data": {
      "image/png": "[encoded data removed]",
      "text/plain": [
       "<Figure size 640x480 with 1 Axes>"
      ]
     },
     "metadata": {},
     "output_type": "display_data"
    }
   ],
   "source": [
    "plt.hist(lifetimes[(lifetimes>50) & (lifetimes<59)], bins=58)"
   ]
  },
  {
   "cell_type": "code",
   "execution_count": null,
   "metadata": {},
   "outputs": [],
   "source": []
  },
  {
   "cell_type": "code",
   "execution_count": null,
   "metadata": {},
   "outputs": [],
   "source": [
    "result_cols = ['neuron','X','Y','angle']\n",
    "results = pd.DataFrame(columns=result_cols)\n",
    "for n_folder in N_folders:\n",
    "    start_im = re.search('P(.*)_N', n_folder)\n",
    "    start_im = float(start_im.group(1))\n",
    "    start_ana = int((start_age - start_im)/0.25)\n",
    "    files_list = datautils.get_file_names(data_path+n_folder, group_by='', \n",
    "                                        order=True, nested_files=False, \n",
    "                                        criteria='')\n",
    "    neu_path = [f for f in files_list if 'clahe' in f.lower()][0]\n",
    "    neuron = tif.imread(neu_path)\n",
    "    mask_path = [f for f in files_list if 'mask' in f.lower()][0]\n",
    "    mask = tif.imread(mask_path)\n",
    "    neuron[mask==0] = 0\n",
    "    neuron = neuron[start_ana:] #remove timepoints before start_ana from the 4D image array\n",
    "    neuron[neuron != 0] = 1\n",
    "    x,y,res_angle = cal_lifetimes_angle(neuron, plot=True)\n",
    "    results[n_folder]=[n_folder,x,y,res_angle]"
   ]
  },
  {
   "cell_type": "code",
   "execution_count": null,
   "metadata": {},
   "outputs": [],
   "source": []
  },
  {
   "cell_type": "code",
   "execution_count": null,
   "metadata": {},
   "outputs": [],
   "source": []
  },
  {
   "cell_type": "code",
   "execution_count": 280,
   "metadata": {},
   "outputs": [
    {
     "data": {
      "text/plain": [
       "58.0"
      ]
     },
     "execution_count": 280,
     "metadata": {},
     "output_type": "execute_result"
    }
   ],
   "source": [
    "37+0.25*(86-2)"
   ]
  },
  {
   "cell_type": "code",
   "execution_count": 306,
   "metadata": {},
   "outputs": [
    {
     "name": "stderr",
     "output_type": "stream",
     "text": [
      "100%|██████████| 85/85 [00:05<00:00, 16.83it/s]\n"
     ]
    },
    {
     "data": {
      "text/plain": [
       "(3.508425077487061, -38.55903487633398, -84.80106401697839)"
      ]
     },
     "execution_count": 306,
     "metadata": {},
     "output_type": "execute_result"
    },
    {
     "data": {
      "image/png": "[encoded data removed]",
      "text/plain": [
       "<Figure size 432x288 with 1 Axes>"
      ]
     },
     "metadata": {
      "needs_background": "light"
     },
     "output_type": "display_data"
    }
   ],
   "source": [
    "cal_lifetimes_angle(mask)"
   ]
  },
  {
   "cell_type": "code",
   "execution_count": 413,
   "metadata": {},
   "outputs": [],
   "source": [
    "# neuron = \n",
    "mask = tif.imread('/Users/aichah/Desktop/TLI/data/subtypeC/211104_P36_N3_R290_JE_mask.tif')"
   ]
  },
  {
   "cell_type": "code",
   "execution_count": 388,
   "metadata": {},
   "outputs": [
    {
     "name": "stderr",
     "output_type": "stream",
     "text": [
      "100%|██████████| 88/88 [00:07<00:00, 12.02it/s]\n"
     ]
    },
    {
     "data": {
      "text/plain": [
       "(22.21680948533674, -10.569736677595643, -25.442957427798344)"
      ]
     },
     "execution_count": 388,
     "metadata": {},
     "output_type": "execute_result"
    },
    {
     "data": {
      "image/png": "[encoded data removed]",
      "text/plain": [
       "<Figure size 432x288 with 1 Axes>"
      ]
     },
     "metadata": {
      "needs_background": "light"
     },
     "output_type": "display_data"
    }
   ],
   "source": [
    "cal_lifetimes_angle(mask)"
   ]
  },
  {
   "cell_type": "code",
   "execution_count": 389,
   "metadata": {},
   "outputs": [
    {
     "name": "stderr",
     "output_type": "stream",
     "text": [
      "100%|██████████| 88/88 [00:06<00:00, 13.19it/s]\n"
     ]
    }
   ],
   "source": [
    "lifetimes = analysis.cal_lifetimes(mask, save=False)"
   ]
  },
  {
   "cell_type": "code",
   "execution_count": 341,
   "metadata": {},
   "outputs": [],
   "source": [
    "test = lifetimes[-1]"
   ]
  },
  {
   "cell_type": "code",
   "execution_count": 343,
   "metadata": {},
   "outputs": [],
   "source": [
    "test[test>0] = 37+0.25*(test.max()-test[test>0])"
   ]
  },
  {
   "cell_type": "code",
   "execution_count": 344,
   "metadata": {},
   "outputs": [
    {
     "data": {
      "text/plain": [
       "(58.25, 0.0)"
      ]
     },
     "execution_count": 344,
     "metadata": {},
     "output_type": "execute_result"
    }
   ],
   "source": [
    "test.max(), test.min()"
   ]
  },
  {
   "cell_type": "code",
   "execution_count": 293,
   "metadata": {},
   "outputs": [
    {
     "data": {
      "text/plain": [
       "<matplotlib.image.AxesImage at 0x7ffde2e21e20>"
      ]
     },
     "execution_count": 293,
     "metadata": {},
     "output_type": "execute_result"
    },
    {
     "data": {
      "image/png": "[encoded data removed]",
      "text/plain": [
       "<Figure size 432x288 with 1 Axes>"
      ]
     },
     "metadata": {
      "needs_background": "light"
     },
     "output_type": "display_data"
    }
   ],
   "source": [
    "plt.imshow(np.mean(test, axis=0))"
   ]
  },
  {
   "cell_type": "code",
   "execution_count": 303,
   "metadata": {},
   "outputs": [],
   "source": [
    "test2 = test.copy().astype('uint8')\n",
    "test2[test2!=0]=1\n",
    "test_region = regionprops(label_image=test2, intensity_image=test)[0]"
   ]
  },
  {
   "cell_type": "code",
   "execution_count": 304,
   "metadata": {},
   "outputs": [
    {
     "data": {
      "text/plain": [
       "((21.5, 199.5, 199.5),\n",
       " (21.498936103055666, 199.62503245757134, 199.49137335356164))"
      ]
     },
     "execution_count": 304,
     "metadata": {},
     "output_type": "execute_result"
    }
   ],
   "source": [
    "test_region.centroid, test_region.centroid_weighted"
   ]
  },
  {
   "cell_type": "code",
   "execution_count": 295,
   "metadata": {},
   "outputs": [
    {
     "data": {
      "text/plain": [
       "dtype('float64')"
      ]
     },
     "execution_count": 295,
     "metadata": {},
     "output_type": "execute_result"
    }
   ],
   "source": [
    "test.dtype"
   ]
  },
  {
   "cell_type": "code",
   "execution_count": 291,
   "metadata": {},
   "outputs": [
    {
     "data": {
      "text/plain": [
       "<matplotlib.image.AxesImage at 0x7ffe13ed7100>"
      ]
     },
     "execution_count": 291,
     "metadata": {},
     "output_type": "execute_result"
    },
    {
     "data": {
      "image/png": "[encoded data removed]",
      "text/plain": [
       "<Figure size 432x288 with 1 Axes>"
      ]
     },
     "metadata": {
      "needs_background": "light"
     },
     "output_type": "display_data"
    }
   ],
   "source": [
    "t1 = test.copy()\n",
    "t1[t1>40] = 0\n",
    "# t1[t1<40] = 2\n",
    "plt.imshow(t1.mean(axis=0))"
   ]
  },
  {
   "cell_type": "code",
   "execution_count": 354,
   "metadata": {},
   "outputs": [
    {
     "name": "stderr",
     "output_type": "stream",
     "text": [
      "100%|██████████| 85/85 [00:04<00:00, 17.37it/s]\n"
     ]
    },
    {
     "name": "stdout",
     "output_type": "stream",
     "text": [
      "0.9694183513092298 -4.033453581067022 -76.48560523563609\n"
     ]
    },
    {
     "data": {
      "text/plain": [
       "[<matplotlib.lines.Line2D at 0x7ffe13b73df0>]"
      ]
     },
     "execution_count": 354,
     "metadata": {},
     "output_type": "execute_result"
    },
    {
     "data": {
      "image/png": "[encoded data removed]",
      "text/plain": [
       "<Figure size 432x288 with 1 Axes>"
      ]
     },
     "metadata": {
      "needs_background": "light"
     },
     "output_type": "display_data"
    }
   ],
   "source": [
    "lifetimes = analysis.cal_lifetimes(mask, save=False)\n",
    "lifetimes = lifetimes[-1]\n",
    "lifetimes[lifetimes>0] = 37+0.25*(lifetimes.max()-lifetimes[lifetimes>0])\n",
    "# lifetimes = test.copy()\n",
    "# lifetimes = lifetimes[-1].astype(np.float32)\n",
    "# lifetimes = 37+0.25*(lifetimes.max()-lifetimes)\n",
    "\n",
    "t1 = lifetimes.copy()\n",
    "t1[t1>43.5] = 0\n",
    "t1 = t1.astype('uint8')\n",
    "t1_center = regionprops(t1)[0].centroid\n",
    "t2 = lifetimes.copy()\n",
    "t2[t2<55.25] = 0\n",
    "t2 = t2.astype('uint8')\n",
    "t2_center = regionprops(t2)[0].centroid\n",
    "\n",
    "x,y = (t2_center[-1]-t1_center[-1]) , (t2_center[-2]-t1_center[-2])\n",
    "t_angle = np.degrees(np.arctan2(y,x))\n",
    "print(x, y, t_angle)\n",
    "\n",
    "y1,x1 = int(t1_center[-2]),int(t1_center[-1])\n",
    "y2,x2 = int(t2_center[-2]),int(t2_center[-1])\n",
    "t_plot = test.sum(axis=0)\n",
    "t_plot[t_plot!=0] = 1\n",
    "t_plot[y1-1:y1+1,x1-1:x1+1]=5\n",
    "t_plot[y2-1:y2+1,x2-1:x2+1]=10\n",
    "plt.imshow(t_plot)\n",
    "plt.plot((x1,x2),(y1,y2))"
   ]
  },
  {
   "cell_type": "code",
   "execution_count": 361,
   "metadata": {},
   "outputs": [
    {
     "name": "stderr",
     "output_type": "stream",
     "text": [
      "100%|██████████| 85/85 [00:04<00:00, 17.23it/s]\n"
     ]
    },
    {
     "data": {
      "text/plain": [
       "<matplotlib.image.AxesImage at 0x7ffde2e75910>"
      ]
     },
     "execution_count": 361,
     "metadata": {},
     "output_type": "execute_result"
    },
    {
     "data": {
      "image/png": "[encoded data removed]",
      "text/plain": [
       "<Figure size 432x288 with 1 Axes>"
      ]
     },
     "metadata": {
      "needs_background": "light"
     },
     "output_type": "display_data"
    }
   ],
   "source": [
    "lifetimes = analysis.cal_lifetimes(mask, save=False)\n",
    "lifetimes = lifetimes[-1]\n",
    "t_plot=lifetimes.copy()\n",
    "t_plot[t_plot!=0] = 1\n",
    "t_plot[lifetimes>60] = 5\n",
    "t_plot[lifetimes<10] = 20\n",
    "plt.imshow(t_plot.mean(axis=0))"
   ]
  },
  {
   "cell_type": "code",
   "execution_count": 393,
   "metadata": {},
   "outputs": [
    {
     "name": "stdout",
     "output_type": "stream",
     "text": [
      "41.488656012674966 34.29376948478614 39.57651730280875\n"
     ]
    }
   ],
   "source": [
    "t1_center = regionprops(mask[0])[0].centroid\n",
    "t2_center = regionprops(mask[-1]-mask[0])[0].centroid\n",
    "x,y = (t2_center[-1]-t1_center[-1]) , (t2_center[-2]-t1_center[-2])\n",
    "t_angle = np.degrees(np.arctan2(y,x))\n",
    "print(x, y, t_angle)"
   ]
  },
  {
   "cell_type": "code",
   "execution_count": 425,
   "metadata": {},
   "outputs": [
    {
     "name": "stderr",
     "output_type": "stream",
     "text": [
      "100%|██████████| 88/88 [00:04<00:00, 20.64it/s]\n"
     ]
    },
    {
     "name": "stdout",
     "output_type": "stream",
     "text": [
      "-16.244928483236663 30.838908268501584 117.77879489919786\n"
     ]
    },
    {
     "data": {
      "text/plain": [
       "<matplotlib.collections.PathCollection at 0x7ffd8490e220>"
      ]
     },
     "execution_count": 425,
     "metadata": {},
     "output_type": "execute_result"
    },
    {
     "data": {
      "image/png": "[encoded data removed]",
      "text/plain": [
       "<Figure size 432x288 with 1 Axes>"
      ]
     },
     "metadata": {
      "needs_background": "light"
     },
     "output_type": "display_data"
    }
   ],
   "source": [
    "lifetimes = analysis.cal_lifetimes(mask, save=False)\n",
    "lifetimes = lifetimes[-1].astype(float)\n",
    "# lifetimes[lifetimes>0] = 37+0.25*(lifetimes.max()-lifetimes[lifetimes>0])\n",
    "\n",
    "t1 = lifetimes.copy()\n",
    "t1[t1<60] = 0\n",
    "t1 = t1.astype('uint8')\n",
    "t1_center = regionprops(t1)[0].centroid\n",
    "t2 = lifetimes.copy()\n",
    "t2[t2>13] = 0\n",
    "t2 = t2.astype('uint8')\n",
    "t2_center = regionprops(t2)[0].centroid\n",
    "\n",
    "x,y = (t2_center[-1]-t1_center[-1]) , (t2_center[-2]-t1_center[-2])\n",
    "\n",
    "t_angle = np.degrees(np.arctan2(y,x))\n",
    "print(x, y, t_angle)\n",
    "\n",
    "y1,x1 = int(t1_center[-2]),int(t1_center[-1])\n",
    "y2,x2 = int(t2_center[-2]),int(t2_center[-1])\n",
    "t_plot = lifetimes.sum(axis=0)\n",
    "t_plot[t_plot!=0] = 1\n",
    "# t_plot[y1-1:y1+1,x1-1:x1+1]=5\n",
    "# t_plot[y2-1:y2+1,x2-1:x2+1]=10\n",
    "plt.imshow(t_plot)\n",
    "plt.plot((x1,x2),(y1,y2))\n",
    "plt.scatter(x1,y1,c='g')\n",
    "plt.scatter(x2,y2,c='r')"
   ]
  },
  {
   "cell_type": "code",
   "execution_count": 423,
   "metadata": {},
   "outputs": [
    {
     "name": "stdout",
     "output_type": "stream",
     "text": [
      "11.389853615811234 -30.224053485409087 -69.35121666109683\n"
     ]
    },
    {
     "data": {
      "text/plain": [
       "<matplotlib.collections.PathCollection at 0x7ffd937a3100>"
      ]
     },
     "execution_count": 423,
     "metadata": {},
     "output_type": "execute_result"
    },
    {
     "data": {
      "image/png": "[encoded data removed]",
      "text/plain": [
       "<Figure size 432x288 with 1 Axes>"
      ]
     },
     "metadata": {
      "needs_background": "light"
     },
     "output_type": "display_data"
    }
   ],
   "source": [
    "t1_center = regionprops(mask[20])[0].centroid\n",
    "t2_center = regionprops(mask[-20]-mask[20])[0].centroid\n",
    "x,y = (t2_center[-1]-t1_center[-1]) , (t2_center[-2]-t1_center[-2])\n",
    "t_angle = np.degrees(np.arctan2(y,x))\n",
    "print(x, y, t_angle)\n",
    "y1,x1 = int(t1_center[-2]),int(t1_center[-1])\n",
    "y2,x2 = int(t2_center[-2]),int(t2_center[-1])\n",
    "t_plot = lifetimes.sum(axis=0)\n",
    "t_plot[t_plot!=0] = 1\n",
    "# t_plot[y1-1:y1+1,x1-1:x1+1]=5\n",
    "# t_plot[y2-1:y2+1,x2-1:x2+1]=10\n",
    "plt.imshow(t_plot)\n",
    "plt.plot((x1,x2),(y1,y2))\n",
    "plt.scatter(x1,y1,c='g')\n",
    "plt.scatter(x2,y2,c='r')"
   ]
  },
  {
   "cell_type": "code",
   "execution_count": 439,
   "metadata": {},
   "outputs": [
    {
     "name": "stdout",
     "output_type": "stream",
     "text": [
      "21.97988285985113 -35.2685639646582 -58.068238226998545\n"
     ]
    },
    {
     "data": {
      "text/plain": [
       "<matplotlib.collections.PathCollection at 0x7ffde4730160>"
      ]
     },
     "execution_count": 439,
     "metadata": {},
     "output_type": "execute_result"
    },
    {
     "data": {
      "image/png": "[encoded data removed]",
      "text/plain": [
       "<Figure size 432x288 with 1 Axes>"
      ]
     },
     "metadata": {
      "needs_background": "light"
     },
     "output_type": "display_data"
    }
   ],
   "source": [
    "t1_center = regionprops(mask[0])[0].centroid\n",
    "t2_center = regionprops(mask[-1]-mask[0])[0].centroid\n",
    "x,y = (t2_center[-1]-t1_center[-1]) , (t2_center[-2]-t1_center[-2])\n",
    "t_angle = np.degrees(np.arctan2(y,x))\n",
    "print(x, y, t_angle)\n",
    "# y1,x1 = int(t1_center[-2]),int(t1_center[-1])\n",
    "# y2,x2 = int(t2_center[-2]),int(t2_center[-1])\n",
    "t_plot = lifetimes.sum(axis=0)\n",
    "t_plot[t_plot!=0] = 1\n",
    "# t_plot[y1-1:y1+1,x1-1:x1+1]=5\n",
    "# t_plot[y2-1:y2+1,x2-1:x2+1]=10\n",
    "plt.imshow(t_plot)\n",
    "plt.plot((x1,x2),(y1,y2))\n",
    "plt.scatter(x2,y2,c='r')"
   ]
  },
  {
   "cell_type": "code",
   "execution_count": 503,
   "metadata": {},
   "outputs": [
    {
     "name": "stdout",
     "output_type": "stream",
     "text": [
      "14.773567990635229 -26.842745483699844 -61.172726159414935\n"
     ]
    },
    {
     "data": {
      "text/plain": [
       "<matplotlib.collections.PathCollection at 0x7ffe162b0640>"
      ]
     },
     "execution_count": 503,
     "metadata": {},
     "output_type": "execute_result"
    },
    {
     "data": {
      "image/png": "[encoded data removed]",
      "text/plain": [
       "<Figure size 432x288 with 1 Axes>"
      ]
     },
     "metadata": {
      "needs_background": "light"
     },
     "output_type": "display_data"
    }
   ],
   "source": [
    "# mask1 = mask.sum(axis=0)\n",
    "t1 = mask[0].sum(axis=0)\n",
    "t1[t1!=0] = 1\n",
    "t2 = (mask[-1] - mask[0]).sum(axis=0)\n",
    "t2[t2!=0] = 2\n",
    "\n",
    "t1_center = regionprops(t1)[0].centroid\n",
    "t2_center = regionprops(t2)[0].centroid\n",
    "x,y = (t2_center[-1]-t1_center[-1]) , (t2_center[-2]-t1_center[-2])\n",
    "t_angle = np.degrees(np.arctan2(y,x))\n",
    "print(x, y, t_angle)\n",
    "\n",
    "t1 = t1 + t2\n",
    "plt.imshow(t1)\n",
    "y1,x1 = int(t1_center[-2]),int(t1_center[-1])\n",
    "y2,x2 = int(t2_center[-2]),int(t2_center[-1])\n",
    "plt.plot((x1,x2),(y1,y2))\n",
    "plt.scatter(x1,y1,c='g')\n",
    "plt.scatter(x2,y2,c='r')"
   ]
  },
  {
   "cell_type": "code",
   "execution_count": 463,
   "metadata": {},
   "outputs": [
    {
     "data": {
      "text/plain": [
       "89.0"
      ]
     },
     "execution_count": 463,
     "metadata": {},
     "output_type": "execute_result"
    }
   ],
   "source": [
    "lifetimes.max()"
   ]
  },
  {
   "cell_type": "code",
   "execution_count": 462,
   "metadata": {},
   "outputs": [
    {
     "name": "stderr",
     "output_type": "stream",
     "text": [
      "100%|██████████| 88/88 [00:04<00:00, 20.49it/s]\n"
     ]
    }
   ],
   "source": [
    "lifetimes = analysis.cal_lifetimes(mask, save=False)\n",
    "# lifetimes = lifetimes[-1].astype(float)\n",
    "# lifetimes[lifetimes>0] = 37+0.25*(lifetimes.max()-lifetimes[lifetimes>0])"
   ]
  },
  {
   "cell_type": "code",
   "execution_count": 467,
   "metadata": {},
   "outputs": [
    {
     "name": "stdout",
     "output_type": "stream",
     "text": [
      "9.883587001234076 3.995680789798442 22.01222081045574\n"
     ]
    },
    {
     "data": {
      "text/plain": [
       "<matplotlib.collections.PathCollection at 0x7ffe051a6c10>"
      ]
     },
     "execution_count": 467,
     "metadata": {},
     "output_type": "execute_result"
    },
    {
     "data": {
      "image/png": "[encoded data removed]",
      "text/plain": [
       "<Figure size 432x288 with 1 Axes>"
      ]
     },
     "metadata": {
      "needs_background": "light"
     },
     "output_type": "display_data"
    }
   ],
   "source": [
    "# mask1 = mask.sum(axis=0)\n",
    "lifetimes1 = np.median(lifetimes, axis=0)\n",
    "t1 = lifetimes1.copy().astype('uint8')\n",
    "t1[t1!=76] = 0\n",
    "# t1 = t1.max(axis=0).astype('uint8')\n",
    "t1[t1!=0] = 1\n",
    "t2 = lifetimes1.copy().astype('uint8')\n",
    "t2[t2!=4] = 0\n",
    "# t2 = t2.max(axis=0).astype('uint8')\n",
    "t2[t2!=0] = 2\n",
    "\n",
    "t1_center = regionprops(t1)[0].centroid\n",
    "t2_center = regionprops(t2)[0].centroid\n",
    "x,y = (t2_center[-1]-t1_center[-1]) , (t2_center[-2]-t1_center[-2])\n",
    "t_angle = np.degrees(np.arctan2(y,x))\n",
    "print(x, y, t_angle)\n",
    "\n",
    "t1 = t1 + t2\n",
    "plt.imshow(t1)\n",
    "y1,x1 = int(t1_center[-2]),int(t1_center[-1])\n",
    "y2,x2 = int(t2_center[-2]),int(t2_center[-1])\n",
    "plt.plot((x1,x2),(y1,y2))\n",
    "plt.scatter(x1,y1,c='g')\n",
    "plt.scatter(x2,y2,c='r')"
   ]
  },
  {
   "cell_type": "code",
   "execution_count": 468,
   "metadata": {},
   "outputs": [
    {
     "data": {
      "text/plain": [
       "<matplotlib.image.AxesImage at 0x7ffd935c3040>"
      ]
     },
     "execution_count": 468,
     "metadata": {},
     "output_type": "execute_result"
    },
    {
     "data": {
      "image/png": "[encoded data removed]",
      "text/plain": [
       "<Figure size 432x288 with 1 Axes>"
      ]
     },
     "metadata": {
      "needs_background": "light"
     },
     "output_type": "display_data"
    }
   ],
   "source": [
    "plt.imshow(lifetimes1)"
   ]
  },
  {
   "cell_type": "code",
   "execution_count": 471,
   "metadata": {},
   "outputs": [
    {
     "name": "stderr",
     "output_type": "stream",
     "text": [
      "100%|██████████| 88/88 [00:00<00:00, 1049.79it/s]\n"
     ]
    }
   ],
   "source": [
    "mask1 = mask.max(axis=1)\n",
    "lifetimes2 = analysis.cal_lifetimes(mask1, save=False)"
   ]
  },
  {
   "cell_type": "code",
   "execution_count": 475,
   "metadata": {},
   "outputs": [
    {
     "data": {
      "text/plain": [
       "89.0"
      ]
     },
     "execution_count": 475,
     "metadata": {},
     "output_type": "execute_result"
    }
   ],
   "source": [
    "lifetimes2.max()"
   ]
  },
  {
   "cell_type": "code",
   "execution_count": 477,
   "metadata": {},
   "outputs": [
    {
     "name": "stdout",
     "output_type": "stream",
     "text": [
      "4.353836209039798 28.61260006961365 81.34795748886475\n"
     ]
    },
    {
     "data": {
      "text/plain": [
       "<matplotlib.collections.PathCollection at 0x7ffde3c21b80>"
      ]
     },
     "execution_count": 477,
     "metadata": {},
     "output_type": "execute_result"
    },
    {
     "data": {
      "image/png": "[encoded data removed]",
      "text/plain": [
       "<Figure size 432x288 with 1 Axes>"
      ]
     },
     "metadata": {
      "needs_background": "light"
     },
     "output_type": "display_data"
    }
   ],
   "source": [
    "t1 = lifetimes2[-1].copy().astype('uint8')\n",
    "t1[t1!=76] = 0\n",
    "t1[t1!=0] = 1\n",
    "t2 = lifetimes2[-1].copy().astype('uint8')\n",
    "t2[t2!=4] = 0\n",
    "# t2 = t2.max(axis=0).astype('uint8')\n",
    "t2[t2!=0] = 2\n",
    "\n",
    "t1_center = regionprops(t1)[0].centroid\n",
    "t2_center = regionprops(t2)[0].centroid\n",
    "x,y = (t2_center[-1]-t1_center[-1]) , (t2_center[-2]-t1_center[-2])\n",
    "t_angle = np.degrees(np.arctan2(y,x))\n",
    "print(x, y, t_angle)\n",
    "\n",
    "t1 = t1 + t2\n",
    "plt.imshow(t1)\n",
    "y1,x1 = int(t1_center[-2]),int(t1_center[-1])\n",
    "y2,x2 = int(t2_center[-2]),int(t2_center[-1])\n",
    "plt.plot((x1,x2),(y1,y2))\n",
    "plt.scatter(x1,y1,c='g')\n",
    "plt.scatter(x2,y2,c='r')"
   ]
  },
  {
   "cell_type": "code",
   "execution_count": 499,
   "metadata": {},
   "outputs": [
    {
     "data": {
      "text/plain": [
       "<matplotlib.image.AxesImage at 0x7ffde402cfd0>"
      ]
     },
     "execution_count": 499,
     "metadata": {},
     "output_type": "execute_result"
    },
    {
     "data": {
      "image/png": "[encoded data removed]",
      "text/plain": [
       "<Figure size 432x288 with 1 Axes>"
      ]
     },
     "metadata": {
      "needs_background": "light"
     },
     "output_type": "display_data"
    }
   ],
   "source": [
    "test = lifetimes2[-1].copy()\n",
    "test[test<75] = 0\n",
    "test[test!=0] = 1\n",
    "t = lifetimes2[-1].copy()\n",
    "t[(t>75) | (t<50)] = 0\n",
    "t[t!=0] = 2\n",
    "test = test + t\n",
    "\n",
    "t = lifetimes2[-1].copy()\n",
    "t[(t>50) | (t<30)] = 0\n",
    "t[t!=0] = 4\n",
    "test = test + t\n",
    "\n",
    "t = lifetimes2[-1].copy()\n",
    "t[(t>30) | (t<1)] = 0\n",
    "t[t!=0] = 6\n",
    "test = test + t\n",
    "\n",
    "plt.imshow(test)"
   ]
  },
  {
   "cell_type": "code",
   "execution_count": 500,
   "metadata": {},
   "outputs": [
    {
     "data": {
      "text/plain": [
       "dtype('float64')"
      ]
     },
     "execution_count": 500,
     "metadata": {},
     "output_type": "execute_result"
    }
   ],
   "source": [
    "test.dtype"
   ]
  },
  {
   "cell_type": "code",
   "execution_count": 501,
   "metadata": {},
   "outputs": [],
   "source": [
    "test = test*100\n",
    "test_region = regionprops(label_image=lifetimes2[-1].astype('uint8'), intensity_image=test)[0]"
   ]
  },
  {
   "cell_type": "code",
   "execution_count": 502,
   "metadata": {},
   "outputs": [
    {
     "data": {
      "text/plain": [
       "((128.49596231493945, 257.94751009421265),\n",
       " (128.49596231493945, 257.94751009421265))"
      ]
     },
     "execution_count": 502,
     "metadata": {},
     "output_type": "execute_result"
    }
   ],
   "source": [
    "test_region.centroid, test_region.centroid_weighted"
   ]
  },
  {
   "cell_type": "code",
   "execution_count": 489,
   "metadata": {},
   "outputs": [
    {
     "name": "stdout",
     "output_type": "stream",
     "text": [
      "2.6364885329836056 7.8619122256531 71.46114677602277\n"
     ]
    },
    {
     "data": {
      "text/plain": [
       "<matplotlib.collections.PathCollection at 0x7ffe05b41940>"
      ]
     },
     "execution_count": 489,
     "metadata": {},
     "output_type": "execute_result"
    },
    {
     "data": {
      "image/png": "[encoded data removed]",
      "text/plain": [
       "<Figure size 432x288 with 1 Axes>"
      ]
     },
     "metadata": {
      "needs_background": "light"
     },
     "output_type": "display_data"
    }
   ],
   "source": [
    "t1 = lifetimes2[-1].copy().astype('uint8')\n",
    "t1[t1<75] = 0\n",
    "t1[t1!=0] = 1\n",
    "t2 = lifetimes2[-1].copy().astype('uint8')\n",
    "t2[(t2>30)] = 0\n",
    "# t2 = t2.max(axis=0).astype('uint8')\n",
    "t2[t2!=0] = 2\n",
    "\n",
    "t1_center = regionprops(t1)[0].centroid\n",
    "t2_center = regionprops(t2)[0].centroid\n",
    "x,y = (t2_center[-1]-t1_center[-1]) , (t2_center[-2]-t1_center[-2])\n",
    "t_angle = np.degrees(np.arctan2(y,x))\n",
    "print(x, y, t_angle)\n",
    "\n",
    "t1 = t1 + t2\n",
    "plt.imshow(t1)\n",
    "y1,x1 = int(t1_center[-2]),int(t1_center[-1])\n",
    "y2,x2 = int(t2_center[-2]),int(t2_center[-1])\n",
    "plt.plot((x1,x2),(y1,y2))\n",
    "plt.scatter(x1,y1,c='g')\n",
    "plt.scatter(x2,y2,c='r')"
   ]
  },
  {
   "cell_type": "code",
   "execution_count": 436,
   "metadata": {},
   "outputs": [
    {
     "data": {
      "text/plain": [
       "<matplotlib.image.AxesImage at 0x7ffe15375a00>"
      ]
     },
     "execution_count": 436,
     "metadata": {},
     "output_type": "execute_result"
    },
    {
     "data": {
      "image/png": "[encoded data removed]",
      "text/plain": [
       "<Figure size 432x288 with 1 Axes>"
      ]
     },
     "metadata": {
      "needs_background": "light"
     },
     "output_type": "display_data"
    }
   ],
   "source": [
    "t1 = test.copy()\n",
    "t1[t1>39] = 0\n",
    "t1[t1!=0] = 1\n",
    "t2 = test.copy()\n",
    "# t2[t2<50] = 0\n",
    "t2[t2!=0] = 2\n",
    "t1 = t1 + t2\n",
    "plt.imshow(t1)"
   ]
  },
  {
   "cell_type": "code",
   "execution_count": null,
   "metadata": {},
   "outputs": [],
   "source": [
    "lifetimes = analysis.cal_lifetimes(mask, save=False)\n",
    "lifetimes = lifetimes[-1].astype(float)\n",
    "# lifetimes[lifetimes>0] = 37+0.25*(lifetimes.max()-lifetimes[lifetimes>0])\n",
    "\n",
    "t1 = lifetimes.copy()\n",
    "t1[t1<60] = 0\n",
    "t1 = t1.astype('uint8')\n",
    "t1_center = regionprops(t1)[0].centroid\n",
    "t2 = lifetimes.copy()\n",
    "t2[t2>13] = 0\n",
    "t2 = t2.astype('uint8')\n",
    "t2_center = regionprops(t2)[0].centroid"
   ]
  },
  {
   "cell_type": "code",
   "execution_count": 380,
   "metadata": {},
   "outputs": [
    {
     "data": {
      "text/plain": [
       "<matplotlib.image.AxesImage at 0x7ffd84c71910>"
      ]
     },
     "execution_count": 380,
     "metadata": {},
     "output_type": "execute_result"
    },
    {
     "data": {
      "image/png": "[encoded data removed]",
      "text/plain": [
       "<Figure size 432x288 with 1 Axes>"
      ]
     },
     "metadata": {
      "needs_background": "light"
     },
     "output_type": "display_data"
    }
   ],
   "source": [
    "lifetimes[lifetimes<10] = 1000\n",
    "plt.imshow(lifetimes.mean(axis=0), cmap='gist_gray')"
   ]
  },
  {
   "cell_type": "code",
   "execution_count": 368,
   "metadata": {},
   "outputs": [
    {
     "name": "stderr",
     "output_type": "stream",
     "text": [
      "100%|██████████| 85/85 [00:05<00:00, 16.83it/s]\n"
     ]
    },
    {
     "ename": "IndexError",
     "evalue": "list index out of range",
     "output_type": "error",
     "traceback": [
      "\u001b[0;31m---------------------------------------------------------------------------\u001b[0m",
      "\u001b[0;31mIndexError\u001b[0m                                Traceback (most recent call last)",
      "\u001b[0;32m<ipython-input-368-300bb1e7bc57>\u001b[0m in \u001b[0;36m<module>\u001b[0;34m\u001b[0m\n\u001b[1;32m      6\u001b[0m \u001b[0mt1\u001b[0m\u001b[0;34m[\u001b[0m\u001b[0mt1\u001b[0m\u001b[0;34m<\u001b[0m\u001b[0;36m60\u001b[0m\u001b[0;34m]\u001b[0m \u001b[0;34m=\u001b[0m \u001b[0;36m0\u001b[0m\u001b[0;34m\u001b[0m\u001b[0;34m\u001b[0m\u001b[0m\n\u001b[1;32m      7\u001b[0m \u001b[0mt1\u001b[0m \u001b[0;34m=\u001b[0m \u001b[0mt1\u001b[0m\u001b[0;34m.\u001b[0m\u001b[0mastype\u001b[0m\u001b[0;34m(\u001b[0m\u001b[0;34m'uint8'\u001b[0m\u001b[0;34m)\u001b[0m\u001b[0;34m\u001b[0m\u001b[0;34m\u001b[0m\u001b[0m\n\u001b[0;32m----> 8\u001b[0;31m \u001b[0mt1_center\u001b[0m \u001b[0;34m=\u001b[0m \u001b[0mregionprops\u001b[0m\u001b[0;34m(\u001b[0m\u001b[0mt1\u001b[0m\u001b[0;34m)\u001b[0m\u001b[0;34m[\u001b[0m\u001b[0;36m0\u001b[0m\u001b[0;34m]\u001b[0m\u001b[0;34m.\u001b[0m\u001b[0mcentroid\u001b[0m\u001b[0;34m\u001b[0m\u001b[0;34m\u001b[0m\u001b[0m\n\u001b[0m\u001b[1;32m      9\u001b[0m \u001b[0mt2\u001b[0m \u001b[0;34m=\u001b[0m \u001b[0mlifetimes\u001b[0m\u001b[0;34m.\u001b[0m\u001b[0mcopy\u001b[0m\u001b[0;34m(\u001b[0m\u001b[0;34m)\u001b[0m\u001b[0;34m\u001b[0m\u001b[0;34m\u001b[0m\u001b[0m\n\u001b[1;32m     10\u001b[0m \u001b[0mt2\u001b[0m\u001b[0;34m[\u001b[0m\u001b[0mt2\u001b[0m\u001b[0;34m>\u001b[0m\u001b[0;36m13\u001b[0m\u001b[0;34m]\u001b[0m \u001b[0;34m=\u001b[0m \u001b[0;36m0\u001b[0m\u001b[0;34m\u001b[0m\u001b[0;34m\u001b[0m\u001b[0m\n",
      "\u001b[0;31mIndexError\u001b[0m: list index out of range"
     ]
    }
   ],
   "source": [
    "lifetimes = analysis.cal_lifetimes(mask[::-1], save=False)\n",
    "lifetimes = lifetimes[1].astype(float)\n",
    "# lifetimes = 37+0.25*(lifetimes.max()-lifetimes)\n",
    "\n",
    "t1 = lifetimes.copy()\n",
    "t1[t1<60] = 0\n",
    "t1 = t1.astype('uint8')\n",
    "t1_center = regionprops(t1)[0].centroid\n",
    "t2 = lifetimes.copy()\n",
    "t2[t2>13] = 0\n",
    "t2 = t2.astype('uint8')\n",
    "t2_center = regionprops(t2)[0].centroid\n",
    "\n",
    "x,y = (t2_center[-1]-t1_center[-1]) , (t2_center[-2]-t1_center[-2])\n",
    "\n",
    "t_angle = np.degrees(np.arctan2(y,x))\n",
    "print(x, y, t_angle)\n",
    "\n",
    "y1,x1 = int(t1_center[-2]),int(t1_center[-1])\n",
    "y2,x2 = int(t2_center[-2]),int(t2_center[-1])\n",
    "t_plot = lifetimes.sum(axis=0)\n",
    "t_plot[t_plot!=0] = 1\n",
    "t_plot[y1-1:y1+1,x1-1:x1+1]=5\n",
    "t_plot[y2-1:y2+1,x2-1:x2+1]=10\n",
    "plt.imshow(t_plot)\n",
    "plt.plot((x1,x2),(y1,y2))"
   ]
  },
  {
   "cell_type": "code",
   "execution_count": 366,
   "metadata": {},
   "outputs": [
    {
     "data": {
      "text/plain": [
       "<matplotlib.image.AxesImage at 0x7ffd841d6fd0>"
      ]
     },
     "execution_count": 366,
     "metadata": {},
     "output_type": "execute_result"
    },
    {
     "data": {
      "image/png": "[encoded data removed]",
      "text/plain": [
       "<Figure size 432x288 with 1 Axes>"
      ]
     },
     "metadata": {
      "needs_background": "light"
     },
     "output_type": "display_data"
    }
   ],
   "source": [
    "plt.imshow(mask[-1].sum(axis=0))"
   ]
  },
  {
   "cell_type": "code",
   "execution_count": null,
   "metadata": {},
   "outputs": [],
   "source": []
  },
  {
   "cell_type": "code",
   "execution_count": 265,
   "metadata": {},
   "outputs": [
    {
     "data": {
      "text/plain": [
       "(0.0, 90.0)"
      ]
     },
     "execution_count": 265,
     "metadata": {},
     "output_type": "execute_result"
    },
    {
     "data": {
      "image/png": "[encoded data removed]",
      "text/plain": [
       "<Figure size 432x288 with 1 Axes>"
      ]
     },
     "metadata": {
      "needs_background": "light"
     },
     "output_type": "display_data"
    }
   ],
   "source": [
    "test = lifetimes[-1].astype('uint8')\n",
    "test[test>85] = 0\n",
    "t = test[test>2]\n",
    "plt.hist(t,bins=int(t.max()/2))\n",
    "plt.xlim(0,90)"
   ]
  },
  {
   "cell_type": "code",
   "execution_count": 266,
   "metadata": {},
   "outputs": [
    {
     "data": {
      "text/plain": [
       "(4.0, 90.0)"
      ]
     },
     "execution_count": 266,
     "metadata": {},
     "output_type": "execute_result"
    },
    {
     "data": {
      "image/png": "[encoded data removed]",
      "text/plain": [
       "<Figure size 432x288 with 1 Axes>"
      ]
     },
     "metadata": {
      "needs_background": "light"
     },
     "output_type": "display_data"
    }
   ],
   "source": [
    "test = lifetimes[-1].astype('uint8')\n",
    "test[test>85] = 0\n",
    "t = test[test>8]\n",
    "plt.hist(t,bins=int(t.max()/2))\n",
    "plt.xlim(4,90)"
   ]
  },
  {
   "cell_type": "code",
   "execution_count": 255,
   "metadata": {},
   "outputs": [
    {
     "data": {
      "text/plain": [
       "(4.0, 90.0)"
      ]
     },
     "execution_count": 255,
     "metadata": {},
     "output_type": "execute_result"
    },
    {
     "data": {
      "image/png": "[encoded data removed]",
      "text/plain": [
       "<Figure size 432x288 with 1 Axes>"
      ]
     },
     "metadata": {
      "needs_background": "light"
     },
     "output_type": "display_data"
    }
   ],
   "source": [
    "# test = lifetimes[-1].astype('uint8')\n",
    "# t = test[test>0]\n",
    "# plt.hist(t,bins=int(t.max()/2))\n",
    "\n",
    "test = lifetimes[-1].astype('uint8')\n",
    "test[test>85] = 0\n",
    "t = test[test>8]\n",
    "plt.hist(t,bins=int(t.max()/2))\n",
    "plt.xlim(4,90)"
   ]
  },
  {
   "cell_type": "code",
   "execution_count": 251,
   "metadata": {},
   "outputs": [
    {
     "data": {
      "text/plain": [
       "(4.0, 90.0)"
      ]
     },
     "execution_count": 251,
     "metadata": {},
     "output_type": "execute_result"
    },
    {
     "data": {
      "image/png": "[encoded data removed]",
      "text/plain": [
       "<Figure size 432x288 with 1 Axes>"
      ]
     },
     "metadata": {
      "needs_background": "light"
     },
     "output_type": "display_data"
    }
   ],
   "source": [
    "test = lifetimes[-1].astype('uint8')\n",
    "test[test>85] = 0\n",
    "t = test[test>8]\n",
    "plt.hist(t,bins=int(t.max()/2))\n",
    "plt.xlim(4,90)"
   ]
  },
  {
   "cell_type": "code",
   "execution_count": 219,
   "metadata": {},
   "outputs": [
    {
     "data": {
      "text/plain": [
       "(89, 37, 400, 400)"
      ]
     },
     "execution_count": 219,
     "metadata": {},
     "output_type": "execute_result"
    }
   ],
   "source": [
    "lifetimes.shape"
   ]
  },
  {
   "cell_type": "code",
   "execution_count": 87,
   "metadata": {},
   "outputs": [],
   "source": [
    "test = lifetimes[-1]\n",
    "test = test.astype('float')\n",
    "test = test/4\n",
    "test -= test.max()\n",
    "test = test * -1\n",
    "# test += test.min()\n",
    "# test[test < 5] = np.nan"
   ]
  },
  {
   "cell_type": "code",
   "execution_count": 88,
   "metadata": {},
   "outputs": [
    {
     "data": {
      "text/plain": [
       "(22.25, -0.0)"
      ]
     },
     "execution_count": 88,
     "metadata": {},
     "output_type": "execute_result"
    }
   ],
   "source": [
    "test.max(), test.min()"
   ]
  },
  {
   "cell_type": "code",
   "execution_count": 103,
   "metadata": {},
   "outputs": [
    {
     "data": {
      "text/plain": [
       "<matplotlib.image.AxesImage at 0x7ffd91713d90>"
      ]
     },
     "execution_count": 103,
     "metadata": {},
     "output_type": "execute_result"
    },
    {
     "data": {
      "image/png": "[encoded data removed]",
      "text/plain": [
       "<Figure size 432x288 with 1 Axes>"
      ]
     },
     "metadata": {
      "needs_background": "light"
     },
     "output_type": "display_data"
    }
   ],
   "source": [
    "test2 = np.mean(test, axis=0)\n",
    "test2[test2<10]=0\n",
    "plt.imshow(test2)"
   ]
  },
  {
   "cell_type": "code",
   "execution_count": 121,
   "metadata": {},
   "outputs": [],
   "source": [
    "test = lifetimes[-1].astype('uint8')\n",
    "test_region = regionprops(test)[0]"
   ]
  },
  {
   "cell_type": "code",
   "execution_count": 130,
   "metadata": {},
   "outputs": [
    {
     "data": {
      "text/plain": [
       "(36.56324522638206, 230.88815698046082, 267.2552322187943)"
      ]
     },
     "execution_count": 130,
     "metadata": {},
     "output_type": "execute_result"
    }
   ],
   "source": [
    "test_region.centroid"
   ]
  },
  {
   "cell_type": "code",
   "execution_count": 123,
   "metadata": {},
   "outputs": [
    {
     "ename": "AttributeError",
     "evalue": "'<class 'skimage.measure._regionprops.RegionProperties'>' object has no attribute 'centroid_weighted'",
     "output_type": "error",
     "traceback": [
      "\u001b[0;31m---------------------------------------------------------------------------\u001b[0m",
      "\u001b[0;31mAttributeError\u001b[0m                            Traceback (most recent call last)",
      "\u001b[0;32m<ipython-input-123-b32e14a704ae>\u001b[0m in \u001b[0;36m<module>\u001b[0;34m\u001b[0m\n\u001b[0;32m----> 1\u001b[0;31m \u001b[0mtest_region\u001b[0m\u001b[0;34m.\u001b[0m\u001b[0mcentroid_weighted\u001b[0m\u001b[0;34m\u001b[0m\u001b[0;34m\u001b[0m\u001b[0m\n\u001b[0m",
      "\u001b[0;32m~/opt/miniconda3/envs/growth/lib/python3.9/site-packages/skimage/measure/_regionprops.py\u001b[0m in \u001b[0;36m__getattr__\u001b[0;34m(self, attr)\u001b[0m\n\u001b[1;32m    350\u001b[0m             \u001b[0;32mreturn\u001b[0m \u001b[0mgetattr\u001b[0m\u001b[0;34m(\u001b[0m\u001b[0mself\u001b[0m\u001b[0;34m,\u001b[0m \u001b[0mPROPS\u001b[0m\u001b[0;34m[\u001b[0m\u001b[0mattr\u001b[0m\u001b[0;34m]\u001b[0m\u001b[0;34m)\u001b[0m\u001b[0;34m\u001b[0m\u001b[0;34m\u001b[0m\u001b[0m\n\u001b[1;32m    351\u001b[0m         \u001b[0;32melse\u001b[0m\u001b[0;34m:\u001b[0m\u001b[0;34m\u001b[0m\u001b[0;34m\u001b[0m\u001b[0m\n\u001b[0;32m--> 352\u001b[0;31m             raise AttributeError(\n\u001b[0m\u001b[1;32m    353\u001b[0m                 \u001b[0;34mf\"'{type(self)}' object has no attribute '{attr}'\"\u001b[0m\u001b[0;34m\u001b[0m\u001b[0;34m\u001b[0m\u001b[0m\n\u001b[1;32m    354\u001b[0m             )\n",
      "\u001b[0;31mAttributeError\u001b[0m: '<class 'skimage.measure._regionprops.RegionProperties'>' object has no attribute 'centroid_weighted'"
     ]
    }
   ],
   "source": [
    "test_region.centroid_weighted"
   ]
  },
  {
   "cell_type": "code",
   "execution_count": 124,
   "metadata": {},
   "outputs": [],
   "source": [
    "from skimage.measure import moments_central, moments\n",
    "M = moments(test)\n",
    "centroid = (M[1, 0] / M[0, 0], M[0, 1] / M[0, 0])\n",
    "# moments_central(image, centroid)"
   ]
  },
  {
   "cell_type": "code",
   "execution_count": 125,
   "metadata": {},
   "outputs": [
    {
     "data": {
      "text/plain": [
       "(array([34.74915063, 34.79952865, 34.85318139, 34.91002107]),\n",
       " array([227.59680551, 229.33249498, 231.1400795 , 233.01540956]))"
      ]
     },
     "execution_count": 125,
     "metadata": {},
     "output_type": "execute_result"
    }
   ],
   "source": [
    "centroid"
   ]
  },
  {
   "cell_type": "code",
   "execution_count": 127,
   "metadata": {},
   "outputs": [
    {
     "data": {
      "text/plain": [
       "89"
      ]
     },
     "execution_count": 127,
     "metadata": {},
     "output_type": "execute_result"
    }
   ],
   "source": [
    "test.max()"
   ]
  },
  {
   "cell_type": "code",
   "execution_count": 185,
   "metadata": {},
   "outputs": [
    {
     "data": {
      "text/plain": [
       "(234.7540002025629, 270.74278274247416)"
      ]
     },
     "execution_count": 185,
     "metadata": {},
     "output_type": "execute_result"
    }
   ],
   "source": [
    "import cv2\n",
    "test=lifetimes[-1]\n",
    "test = test.astype(float)\n",
    "t = np.mean(test, axis=0)\n",
    "t[t>0] = np.reciprocal(t[t>0])\n",
    "# t = np.reciprocal(t)\n",
    "# t[t>0] -= t.max()\n",
    "# t = t * -1\n",
    "mo = cv2.moments(t,binaryImage=False)\n",
    "xs = mo['m10']/mo['m00']\n",
    "ys = mo['m01']/mo['m00']\n",
    "# ys = mo['m01']/mo['m00']\n",
    "ys, xs"
   ]
  },
  {
   "cell_type": "code",
   "execution_count": 168,
   "metadata": {},
   "outputs": [
    {
     "data": {
      "text/plain": [
       "(36.56324522638206, 230.88815698046082, 267.2552322187943)"
      ]
     },
     "execution_count": 168,
     "metadata": {},
     "output_type": "execute_result"
    }
   ],
   "source": [
    "test_region.centroid"
   ]
  },
  {
   "cell_type": "code",
   "execution_count": 173,
   "metadata": {},
   "outputs": [
    {
     "data": {
      "text/plain": [
       "(nan, nan)"
      ]
     },
     "execution_count": 173,
     "metadata": {},
     "output_type": "execute_result"
    }
   ],
   "source": [
    "import cv2\n",
    "test = mask[-1]\n",
    "test = test.astype(float)\n",
    "\n",
    "# t = test.sum(axis=0)\n",
    "mo = cv2.moments(t,binaryImage=False)\n",
    "xs = mo['m10']/mo['m00']\n",
    "ys = mo['m01']/mo['m00']\n",
    "# ys = mo['m01']/mo['m00']\n",
    "ys, xs"
   ]
  },
  {
   "cell_type": "code",
   "execution_count": 187,
   "metadata": {},
   "outputs": [
    {
     "data": {
      "text/plain": [
       "-50.80778956198833"
      ]
     },
     "execution_count": 187,
     "metadata": {},
     "output_type": "execute_result"
    }
   ],
   "source": [
    "x,y = (267.25-234.75) , (230.89-270.75)\n",
    "np.degrees(np.arctan2(y,x))"
   ]
  },
  {
   "cell_type": "code",
   "execution_count": 194,
   "metadata": {},
   "outputs": [
    {
     "data": {
      "text/plain": [
       "<matplotlib.image.AxesImage at 0x7ffdb017cf10>"
      ]
     },
     "execution_count": 194,
     "metadata": {},
     "output_type": "execute_result"
    },
    {
     "data": {
      "image/png": "[encoded data removed]",
      "text/plain": [
       "<Figure size 432x288 with 1 Axes>"
      ]
     },
     "metadata": {
      "needs_background": "light"
     },
     "output_type": "display_data"
    }
   ],
   "source": [
    "t[t!=0] = 1\n",
    "# t[234:236,269:271]=10\n",
    "t[223:225,271:273]=10\n",
    "plt.imshow(t)"
   ]
  },
  {
   "cell_type": "code",
   "execution_count": 191,
   "metadata": {},
   "outputs": [
    {
     "data": {
      "text/plain": [
       "(224.56065958693225, 272.3185131844901)"
      ]
     },
     "execution_count": 191,
     "metadata": {},
     "output_type": "execute_result"
    }
   ],
   "source": [
    "import cv2\n",
    "test=lifetimes[-1]\n",
    "test = test.astype(float)\n",
    "t = np.mean(test, axis=0)\n",
    "t[t>5] = 0\n",
    "# plt.imshow(t)\n",
    "mo = cv2.moments(t,binaryImage=False)\n",
    "xs = mo['m10']/mo['m00']\n",
    "ys = mo['m01']/mo['m00']\n",
    "# ys = mo['m01']/mo['m00']\n",
    "ys, xs"
   ]
  },
  {
   "cell_type": "code",
   "execution_count": 179,
   "metadata": {},
   "outputs": [
    {
     "data": {
      "text/plain": [
       "56.0"
      ]
     },
     "execution_count": 179,
     "metadata": {},
     "output_type": "execute_result"
    }
   ],
   "source": [
    "np.reciprocal(t[t>0]).max()"
   ]
  },
  {
   "cell_type": "code",
   "execution_count": 180,
   "metadata": {},
   "outputs": [],
   "source": [
    "t[t>0] = np.reciprocal(t[t>0])"
   ]
  },
  {
   "cell_type": "code",
   "execution_count": 220,
   "metadata": {},
   "outputs": [
    {
     "data": {
      "text/plain": [
       "((18.499021526418787, 78.06457925636008, 275.4021526418787),\n",
       " (18.473759870817826, 108.90348752486166, 259.157224158642))"
      ]
     },
     "execution_count": 220,
     "metadata": {},
     "output_type": "execute_result"
    }
   ],
   "source": [
    "test = lifetimes[-1].astype(float)\n",
    "# test = test/4\n",
    "t1 = test.copy()\n",
    "t1[t1<60] = 0\n",
    "t1 = t1.astype('uint8')\n",
    "t1_center = regionprops(t1)[0].centroid\n",
    "t2 = test.copy()\n",
    "t2[t2>20] = 0\n",
    "t2 = t2.astype('uint8')\n",
    "t2_center = regionprops(t2)[0].centroid\n",
    "t1_center, t2_center"
   ]
  },
  {
   "cell_type": "code",
   "execution_count": 221,
   "metadata": {},
   "outputs": [
    {
     "data": {
      "text/plain": [
       "<matplotlib.image.AxesImage at 0x7ffdd1cbe1c0>"
      ]
     },
     "execution_count": 221,
     "metadata": {},
     "output_type": "execute_result"
    },
    {
     "data": {
      "image/png": "[encoded data removed]",
      "text/plain": [
       "<Figure size 432x288 with 1 Axes>"
      ]
     },
     "metadata": {
      "needs_background": "light"
     },
     "output_type": "display_data"
    }
   ],
   "source": [
    "t_plot = test.sum(axis=0)\n",
    "t_plot[t_plot!=0] = 1\n",
    "t_plot[77:79,274:276]=5\n",
    "t_plot[108:110,258:260]=10\n",
    "plt.imshow(t_plot)"
   ]
  },
  {
   "cell_type": "code",
   "execution_count": 222,
   "metadata": {},
   "outputs": [
    {
     "data": {
      "text/plain": [
       "117.77879489919786"
      ]
     },
     "execution_count": 222,
     "metadata": {},
     "output_type": "execute_result"
    }
   ],
   "source": [
    "x,y = (t2_center[-1]-t1_center[-1]) , (t2_center[-2]-t1_center[-2])\n",
    "np.degrees(np.arctan2(y,x))"
   ]
  },
  {
   "cell_type": "code",
   "execution_count": 216,
   "metadata": {},
   "outputs": [
    {
     "data": {
      "text/plain": [
       "<matplotlib.image.AxesImage at 0x7ffdd1c62070>"
      ]
     },
     "execution_count": 216,
     "metadata": {},
     "output_type": "execute_result"
    },
    {
     "data": {
      "image/png": "[encoded data removed]",
      "text/plain": [
       "<Figure size 432x288 with 1 Axes>"
      ]
     },
     "metadata": {
      "needs_background": "light"
     },
     "output_type": "display_data"
    }
   ],
   "source": [
    "t_plot = test.sum(axis=0)\n",
    "t_plot[t_plot!=0] = 1\n",
    "t_plot[257:259,238:240]=5\n",
    "t_plot[230:232,267:268]=10\n",
    "plt.imshow(t_plot)"
   ]
  },
  {
   "cell_type": "code",
   "execution_count": 206,
   "metadata": {},
   "outputs": [
    {
     "data": {
      "text/plain": [
       "-44.15026086389054"
      ]
     },
     "execution_count": 206,
     "metadata": {},
     "output_type": "execute_result"
    }
   ],
   "source": [
    "x,y = (t2_center[-1]-t1_center[-1]) , (t2_center[-2]-t1_center[-2])\n",
    "np.degrees(np.arctan2(y,x))"
   ]
  },
  {
   "cell_type": "code",
   "execution_count": 23,
   "metadata": {},
   "outputs": [
    {
     "data": {
      "text/plain": [
       "(35979.0, 19854.0, 10192.0, 3880.0)"
      ]
     },
     "execution_count": 23,
     "metadata": {},
     "output_type": "execute_result"
    }
   ],
   "source": [
    "test[test==1].sum(),test[test==2].sum()/2, test[test==4].sum()/4, test[test==10].sum()/10"
   ]
  },
  {
   "cell_type": "code",
   "execution_count": 215,
   "metadata": {},
   "outputs": [
    {
     "data": {
      "text/plain": [
       "((36.56324522638205, 230.88815698046082, 267.2552322187943),\n",
       " (36.56324522638206, 230.88815698046082, 267.2552322187943))"
      ]
     },
     "execution_count": 215,
     "metadata": {},
     "output_type": "execute_result"
    }
   ],
   "source": [
    "test = lifetimes[-1]\n",
    "test = test.astype('uint16')\n",
    "test_region = regionprops(test,intensity_image=test)[0]\n",
    "test_region.centroid_weighted, test_region.centroid"
   ]
  },
  {
   "cell_type": "code",
   "execution_count": 8,
   "metadata": {},
   "outputs": [
    {
     "data": {
      "text/plain": [
       "array([1, 1, 1, 1, 1, 1])"
      ]
     },
     "execution_count": 8,
     "metadata": {},
     "output_type": "execute_result"
    }
   ],
   "source": [
    "test = np.array([1,0,0,1,1])\n",
    "binary_fill_holes(test).astype(int)"
   ]
  },
  {
   "cell_type": "markdown",
   "metadata": {},
   "source": [
    "For explanation of the the individual columns in the result csv file, expand the next cell"
   ]
  },
  {
   "cell_type": "code",
   "execution_count": 2,
   "metadata": {},
   "outputs": [
    {
     "data": {
      "text/plain": [
       "'\" Results\\' columns\\' description \\n\\'neuron\\':  neuron name extracted from file name\\n\\'subtype\\': neuron name extracted from file name\\n\\'entry_point\\': entry point of the neuron, read from seperate txt file\\n\\n\\'volume\\': number of pixels in the 3D masked image\\n\\'net_area\\': number of pixels in the 2D masked image (the 2D is a sum projection of the 3D image)\\n\\'area\\': area of the convex_hull surronding the 2D image (obtained from skimage.measure.regionprops)\\n\\'AP_spread\\': (max-min) of value pixels index in last (x) dimension of the 2D image\\n\\'DV_spread\\': (max-min) of value pixels index in (y) dimension of the 2D image\\n\\n\\'density_2D\\': solidity value obtained from skimage.measure.regionprops on the 2D image\\n\\'density_3D\\': pixel count of 3D image/pixel count of 3D convexhull \\n\\'object_perimeter\\': object perimenter value obtained from skimage.measure.regionprops on the 2D image\\n\\'convex_perimeter\\': perimeter of the surronding convex_hull\\n\\n\\'circularity\\': (4*np.pi*convex_area)/(convex_perimeter**2)\\n\\'compactness\\': object_perimeter**2/(4*np.pi*net_area)\\n\\'surface_area\\': mesh_surface_area of the marching_cubes on the 3D masked image\\n\\'eccentricity\\': eccentricity value obtained from skimage.measure.regionprops on the 2D image \\n>>>> change to 3D >>>>  \\'convexity\\': convex_perimeter/object_perimeter (maybe try surface_area/3D_image_convex_surface area)\\n\\'orientation\\': orientation value obtained from skimage.measure.regionprops on the 2D image \\n\\'feret_diameter_max\\': feret_diameter_max value obtained from skimage.measure.regionprops on the 2D image \\n\\'DGI\\':\\n\\n\\'centroidZ\\': Z position of the centroid from regionprops on the 3D masked image \\n\\'centroidY\\': Y position of the centroid from regionprops on the 3D masked image \\n\\'centroidX\\': X position of the centroid from regionprops on the 3D masked image \\n\\'cen_EP_dis\\': ecludian distance of the centroid from the entry point\\n\\'cen_EP_angle\\': angle of the line between centroid from the entry point (np.arctan2)\\n\\n£££ PCA analysis\\n\\'asymmetry\\':\\n\\'xP_weight\\', \\'xP_scale\\',\\'xP_angle\\',\\'xP_xy\\':\\n\\'xN_weight\\',\\'xN_scale\\',\\'xN_angle\\',\\'xN_xy\\',\\n\\'yP_weight\\',\\'yP_scale\\',\\'yP_angle\\',\\'yP_xy\\',\\n\\'yN_weight\\',\\'yN_scale\\',\\'yN_angle\\',\\'yN_xy\\',\\n\\'PCA_angle\\':\\n\\'PCA_xy\\':\\n\\'PCA_shift_centroid\\':\\n'"
      ]
     },
     "execution_count": 2,
     "metadata": {},
     "output_type": "execute_result"
    }
   ],
   "source": [
    "\"\"\"\" Results' columns' description \n",
    "'neuron':  neuron name extracted from file name\n",
    "'subtype': neuron name extracted from file name\n",
    "'entry_point': entry point of the neuron, read from seperate txt file\n",
    "\n",
    "'volume': number of pixels in the 3D masked image\n",
    "'net_area': number of pixels in the 2D masked image (the 2D is a sum projection of the 3D image)\n",
    "'area': area of the convex_hull surronding the 2D image (obtained from skimage.measure.regionprops)\n",
    "'AP_spread': (max-min) of value pixels index in last (x) dimension of the 2D image\n",
    "'DV_spread': (max-min) of value pixels index in (y) dimension of the 2D image\n",
    "\n",
    "'density_2D': solidity value obtained from skimage.measure.regionprops on the 2D image\n",
    "'density_3D': pixel count of 3D image/pixel count of 3D convexhull \n",
    "'object_perimeter': object perimenter value obtained from skimage.measure.regionprops on the 2D image\n",
    "'convex_perimeter': perimeter of the surronding convex_hull\n",
    "\n",
    "'circularity': (4*np.pi*convex_area)/(convex_perimeter**2)\n",
    "'compactness': object_perimeter**2/(4*np.pi*net_area)\n",
    "'surface_area': mesh_surface_area of the marching_cubes on the 3D masked image\n",
    "'eccentricity': eccentricity value obtained from skimage.measure.regionprops on the 2D image \n",
    ">>>> change to 3D >>>>  'convexity': convex_perimeter/object_perimeter (maybe try surface_area/3D_image_convex_surface area)\n",
    "'orientation': orientation value obtained from skimage.measure.regionprops on the 2D image \n",
    "'feret_diameter_max': feret_diameter_max value obtained from skimage.measure.regionprops on the 2D image \n",
    "'DGI':\n",
    "\n",
    "'centroidZ': Z position of the centroid from regionprops on the 3D masked image \n",
    "'centroidY': Y position of the centroid from regionprops on the 3D masked image \n",
    "'centroidX': X position of the centroid from regionprops on the 3D masked image \n",
    "'cen_EP_dis': ecludian distance of the centroid from the entry point\n",
    "'cen_EP_angle': angle of the line between centroid from the entry point (np.arctan2)\n",
    "\n",
    "£££ PCA analysis\n",
    "'asymmetry':\n",
    "'xP_weight', 'xP_scale','xP_angle','xP_xy':\n",
    "'xN_weight','xN_scale','xN_angle','xN_xy',\n",
    "'yP_weight','yP_scale','yP_angle','yP_xy',\n",
    "'yN_weight','yN_scale','yN_angle','yN_xy',\n",
    "'PCA_angle':\n",
    "'PCA_xy':\n",
    "'PCA_shift_centroid':\n",
    "\"\"\""
   ]
  },
  {
   "cell_type": "code",
   "execution_count": 3,
   "metadata": {},
   "outputs": [],
   "source": [
    "from tqdm import tqdm\n",
    "import os\n",
    "import re\n",
    "import tifffile as tif\n",
    "\n",
    "import utils.analysis as analysis\n",
    "import utils.datautils as datautils\n",
    "\n",
    "import numpy as np\n",
    "from skimage.measure import regionprops, marching_cubes, mesh_surface_area, perimeter\n",
    "import pandas as pd\n",
    "import math\n",
    "from scipy.spatial import ConvexHull\n",
    "\n",
    "import matplotlib.pyplot as plt\n",
    "from matplotlib import colors\n",
    "import matplotlib.patches as mpatches\n",
    "# import seaborn as sns\n",
    "%matplotlib inline\n",
    "\n",
    "from timeit import default_timer as timer\n",
    "from multiprocessing import cpu_count, Process, Pool"
   ]
  },
  {
   "cell_type": "code",
   "execution_count": 4,
   "metadata": {},
   "outputs": [],
   "source": [
    "#  input and save paths\n",
    "data_path = '/home/tli_project/Desktop/Data/T4/neurons/SubtypeB/'\n",
    "save_path = '/home/tli_project/Desktop/Data/T4/neurons/SubtypeB/output/'\n",
    "subtype = 'B'\n",
    "# stab_limit = 5 #(No. of timepoints for stable branches calculation)\n",
    "start_age = 37"
   ]
  },
  {
   "cell_type": "code",
   "execution_count": 5,
   "metadata": {},
   "outputs": [
    {
     "data": {
      "text/plain": [
       "['211011_P37_N1', '211107_P36_N1']"
      ]
     },
     "execution_count": 5,
     "metadata": {},
     "output_type": "execute_result"
    }
   ],
   "source": [
    "# getting list of folders in data_path, where each folder has files for one neuron\n",
    "N_folders = [name for name in os.listdir(data_path) if os.path.isdir(os.path.join(data_path, name))]\n",
    "N_folders = [f for f in N_folders if '_P' in f]\n",
    "N_folders = sorted(N_folders)\n",
    "N_folders"
   ]
  },
  {
   "cell_type": "code",
   "execution_count": 6,
   "metadata": {},
   "outputs": [],
   "source": [
    "# reading erntry_points file and converting it to dictionary of neu:[z,y,x]\n",
    "EP_file = '/home/tli_project/Desktop/Data/T4/neurons/TLI_stage1_entry_points'\n",
    "with open(EP_file) as f:\n",
    "    entry_points = f.readlines()\n",
    "entry_points = [l for l in entry_points if ': ' in l]\n",
    "entry_points = [l.rstrip('\\n').split(':') for l in entry_points]\n",
    "entry_points = {l[0]: l[1].split(',') for l in entry_points}\n",
    "entry_points = {neu:[int(x) for x in val] for neu,val in entry_points.items()}"
   ]
  },
  {
   "cell_type": "code",
   "execution_count": 7,
   "metadata": {},
   "outputs": [],
   "source": [
    "results_cols = ['timepoint', 'volume', '3D_convex_volume', 'net_area', 'area',\n",
    "                'AP_spread', 'DV_spread',\n",
    "                'density_2D', 'density_3D', 'object_perimeter', 'convex_perimeter', \n",
    "                'circularity', 'compactness', 'surface_area', '3D_convex_surface',\n",
    "                'eccentricity', 'convexity_2D', 'convexity_3D', 'orientation',\n",
    "                'feret_diameter_max',\n",
    "                'DGI',\n",
    "                'centroidZ','centroidY', 'centroidX', \n",
    "                'cen_EP_dis', 'cen_EP_angle', 'cen_EP_Y','cen_EP_X',\n",
    "                'asymmetry', 'x_asymmetry', 'y_asymmetry', 'PC1_asymmetry', 'PC2_asymmetry',\n",
    "                'xP_weight','xP_scale','xP_angle','xP_xy', #all of this part is for the results from PCA_analysis\n",
    "                'xN_weight','xN_scale','xN_angle','xN_xy',\n",
    "                'yP_weight','yP_scale','yP_angle','yP_xy',\n",
    "                'yN_weight','yN_scale','yN_angle','yN_xy',\n",
    "                'PC1_angle','PC1_x','PC1_y']\n",
    "# results_df = pd.DataFrame(columns=results_cols)\n",
    "# for i in range(100):\n",
    "#     results_df.loc[start_age+i*0.25] = [None for col in results_df.columns]"
   ]
  },
  {
   "cell_type": "code",
   "execution_count": 8,
   "metadata": {},
   "outputs": [
    {
     "name": "stderr",
     "output_type": "stream",
     "text": [
      "  0%|          | 0/2 [00:00<?, ?it/s]"
     ]
    },
    {
     "name": "stdout",
     "output_type": "stream",
     "text": [
      "first 5 files\n",
      "['/home/tli_project/Desktop/Data/T4/neurons/SubtypeB/211011_P37_N1/test_line.tif', '/home/tli_project/Desktop/Data/T4/neurons/SubtypeB/211011_P37_N1/original_cols_3.png', '/home/tli_project/Desktop/Data/T4/neurons/SubtypeB/211011_P37_N1/original_cols_2.png', '/home/tli_project/Desktop/Data/T4/neurons/SubtypeB/211011_P37_N1/original_cols_10.png', '/home/tli_project/Desktop/Data/T4/neurons/SubtypeB/211011_P37_N1/mywarpedgrid_3.png']\n"
     ]
    }
   ],
   "source": [
    "def process_image(n_file):\n",
    "    neuron_results = pd.DataFrame(columns=results_cols)\n",
    "    entry_point = entry_points[n_file][1:] # remove the first T element\n",
    "    start_im = re.search('P(.*)_N', n_file)\n",
    "    start_im = float(start_im.group(1))\n",
    "    start_ana = int((start_age - start_im)/0.25)\n",
    "    files_list = datautils.get_file_names(data_path+n_file, group_by='', \n",
    "                                        order=True, nested_files=False, \n",
    "                                        criteria='')\n",
    "    neu_path = [f for f in files_list if 'clahe' in f.lower()][0]\n",
    "    neuron = tif.imread(neu_path)\n",
    "    mask_path = [f for f in files_list if 'mask' in f.lower()][0]\n",
    "    mask = tif.imread(mask_path)\n",
    "    neuron[mask==0] = 0\n",
    "    neuron = neuron[start_ana:] #remove timepoints before start_ana from the 4D image array\n",
    "    neuron[neuron != 0] = 1\n",
    "    neu_2D = neuron.max(axis=1)\n",
    "    neuron_results['timepoint'] = [start_age+i*0.25 for i in range(len(neu_2D))]\n",
    "    neuron_results['volume'] = neuron.sum(axis=tuple(np.arange(len(neuron.shape))[1:]))\n",
    "    neuron_results['net_area'] = neu_2D.sum(axis=tuple(np.arange(len(neu_2D.shape))[1:]))\n",
    "    for t, stack in enumerate(neuron):\n",
    "        reg_prop_2D = regionprops(neu_2D[t])[0]\n",
    "        reg_prop_3D = regionprops(stack)[0]\n",
    "        neuron_results.loc[t,'density_2D'] = reg_prop_2D.solidity\n",
    "        neuron_results.loc[t,'area'] = reg_prop_2D.area_convex\n",
    "        neuron_results.loc[t,'orientation'] = reg_prop_2D.orientation\n",
    "        neuron_results.loc[t,'eccentricity'] = reg_prop_2D.eccentricity\n",
    "        neuron_results.loc[t,'feret_diameter_max'] = reg_prop_2D.feret_diameter_max\n",
    "        neuron_results.loc[t,'convex_perimeter'] = perimeter(reg_prop_2D.image_convex)\n",
    "        neuron_results.loc[t,'object_perimeter'] = reg_prop_2D.perimeter\n",
    "        neuron_results.loc[t,['centroidZ','centroidY','centroidX']] = reg_prop_3D.centroid\n",
    "        neuron_results.loc[t,'3D_convex_volume'] = reg_prop_3D.area_convex\n",
    "        neuron_results.loc[t,'density_3D'] = neuron_results.loc[t,'volume']/neuron_results.loc[t,'3D_convex_volume']\n",
    "        img_PC = reg_prop_3D.coords\n",
    "        neuron_results.loc[t,'DV_spread'] = (img_PC[:,1].max() - img_PC[:,1].min())*0.076\n",
    "        neuron_results.loc[t,'AP_spread'] = (img_PC[:,2].max() - img_PC[:,2].min())*0.076\n",
    "        centroid_EP = np.array(entry_point)-np.array(reg_prop_3D.centroid)\n",
    "        neuron_results.loc[t,'cen_EP_dis'] = np.linalg.norm(centroid_EP[1:])\n",
    "        neuron_results.loc[t,['cen_EP_Y','cen_EP_X']] = centroid_EP[1:]\n",
    "        p1 = (centroid_EP[1],centroid_EP[2])\n",
    "        neuron_results.loc[t,'cen_EP_angle'] = np.rad2deg((np.arctan2(*p1[::-1])) % (2 * np.pi))\n",
    "\n",
    "        verts, faces, normals, values = marching_cubes(stack, step_size=2, spacing=(0.4,0.076,0.076))\n",
    "        neuron_results.loc[t,'surface_area'] = mesh_surface_area(verts, faces)\n",
    "        convex_img_3D = reg_prop_3D.image_convex.astype('uint8')\n",
    "        verts, faces, normals, values = marching_cubes(convex_img_3D, step_size=2, spacing=(0.4,0.076,0.076))\n",
    "        neuron_results.loc[t,'3D_convex_surface'] = mesh_surface_area(verts, faces)\n",
    "        neuron_results.loc[t,'convexity_3D'] = neuron_results.loc[t,'3D_convex_surface']/neuron_results.loc[t,'surface_area']\n",
    "\n",
    "        asymmetry_values, PCA_df, shifted_coor = analysis.metric_dump(neu_2D[t],entry_point[1:],plot=False)\n",
    "        asymmetries = ['asymmetry', 'x_asymmetry', 'y_asymmetry', 'PC1_asymmetry', 'PC2_asymmetry']\n",
    "        neuron_results.loc[t,asymmetries]  = asymmetry_values\n",
    "\n",
    "        PCA_res = ['xP_weight','xP_scale','xP_angle','xP_xy',\n",
    "                    'xN_weight','xN_scale','xN_angle','xN_xy',\n",
    "                    'yP_weight','yP_scale','yP_angle','yP_xy',\n",
    "                    'yN_weight','yN_scale','yN_angle','yN_xy']\n",
    "        PCA_arr = np.array(PCA_df.loc[:, PCA_df.columns != 'axis'])\n",
    "        neuron_results.loc[t,PCA_res]  = PCA_arr.ravel()\n",
    "        neuron_results.loc[t,'PC1_angle'] = PCA_df.loc[PCA_df.Fraction_weight.idxmax()].Angle\n",
    "        neuron_results.loc[t,'PC1_x'] = PCA_df.loc[PCA_df.Fraction_weight.idxmax()].xy[0]\n",
    "        neuron_results.loc[t,'PC1_y'] = PCA_df.loc[PCA_df.Fraction_weight.idxmax()].xy[1]\n",
    "        # neuron_results.loc[t,'PC1_shift_centroid'] = (sum(shifted_coor[:,1]) / len(shifted_coor), sum(shifted_coor[:,0]) / len(shifted_coor))\n",
    "        \n",
    "        neuron_results.loc[t,'DGI'] = analysis.DGI_3D(stack,entry_point)\n",
    "\n",
    "    neuron_results['convexity_2D'] = neuron_results['convex_perimeter']/neuron_results['object_perimeter']\n",
    "    neuron_results['circularity'] = (4*np.pi*neuron_results['area'])/(neuron_results['convex_perimeter']**2)\n",
    "    neuron_results['compactness'] = neuron_results['object_perimeter']#     p = Pool(cpu_count()-1)\n",
    "    csv_name = save_path+n_file+'_s'+subtype+'.csv'\n",
    "    neuron_results.to_csv(csv_name)\n",
    "    return neuron_results\n",
    "\n",
    "# if __name__ == '__main__':\n",
    "#     # c = cpu_count()-1\n",
    "#     with Pool(3) as p:\n",
    "#         p.map(process_image, N_folders)\n",
    "\n",
    "for n_file in tqdm(N_folders):\n",
    "    process_image(n_file)"
   ]
  },
  {
   "cell_type": "code",
   "execution_count": null,
   "metadata": {},
   "outputs": [],
   "source": []
  },
  {
   "cell_type": "code",
   "execution_count": null,
   "metadata": {},
   "outputs": [],
   "source": []
  },
  {
   "cell_type": "code",
   "execution_count": null,
   "metadata": {},
   "outputs": [],
   "source": []
  },
  {
   "cell_type": "code",
   "execution_count": null,
   "metadata": {},
   "outputs": [],
   "source": [
    "# for i, n_file in tqdm(enumerate(N_folders)):\n",
    "#     neuron_results = pd.DataFrame(columns=results_cols)\n",
    "#     entry_point = entry_points[n_file][1:]\n",
    "#     start_im = re.search('P(.*)_N', n_file)\n",
    "#     start_im = float(start_im.group(1))\n",
    "#     start_ana = int((start_age - start_im)/0.25)\n",
    "#     files_list = datautils.get_file_names(data_path+n_file, group_by='', \n",
    "#                                         order=True, nested_files=False, \n",
    "#                                         criteria='')\n",
    "#     neu_path = [f for f in files_list if 'clahe' in f.lower()][0]\n",
    "#     neuron = tif.imread(neu_path)\n",
    "#     mask_path = [f for f in files_list if 'mask' in f.lower()][0]\n",
    "#     mask = tif.imread(mask_path)\n",
    "#     neuron[mask==0] = 0\n",
    "#     neuron = neuron[start_ana:] #remove timepoints before start_ana from the 4D image array\n",
    "#     neuron[neuron != 0] = 1\n",
    "#     neu_2D = neuron.max(axis=1)\n",
    "#     neu_2D = neuron.max(axis=1)\n",
    "#     neuron_results['timepoint'] = [start_age+i*0.25 for i in range(len(neu_2D))]\n",
    "#     neuron_results['volume'] = neuron.sum(axis=tuple(np.arange(len(neuron.shape))[1:]))\n",
    "#     neuron_results['net_area'] = neu_2D.sum(axis=tuple(np.arange(len(neu_2D.shape))[1:]))\n",
    "\n",
    "#     reg_prop_2D = []\n",
    "#     reg_prop_3D = []\n",
    "#     for t, stack in enumerate(neuron):\n",
    "#         reg_prop_2D.append(regionprops(neu_2D[t])[0])\n",
    "#         reg_prop_3D.append(regionprops(stack)[0])\n",
    "#         img_PC = reg_prop_3D[t].coords\n",
    "#         neuron_results.loc[t,'DV_spread'] = (img_PC[:,1].max() - img_PC[:,1].min())*0.076\n",
    "#         neuron_results.loc[t,'AP_spread'] = (img_PC[:,2].max() - img_PC[:,2].min())*0.076\n",
    "#         neuron_results.loc[t,'density_3D'] = neuron_results.loc[t,'volume']/regionprops(stack)[0].area_convex\n",
    "\n",
    "#         verts, faces, normals, values = marching_cubes(stack, step_size=2, spacing=(0.4,0.076,0.076))\n",
    "#         neuron_results.loc[t,'surface_area'] = mesh_surface_area(verts, faces)\n",
    "#         convex_img_3D = reg_prop_3D[t].image_convex.astype('uint8')\n",
    "#         verts, faces, normals, values = marching_cubes(convex_img_3D, step_size=2, spacing=(0.4,0.076,0.076))\n",
    "#         neuron_results.loc[t,'convexity_3D'] = mesh_surface_area(verts, faces)/neuron_results.loc[t,'surface_area']\n",
    "\n",
    "#         asymmetry_values, PCA_df, shifted_coor = analysis.metric_dump(neu_2D[t],entry_point[1:],plot=False)\n",
    "#         asymmetries = ['asymmetry', 'x_asymmetry', 'y_asymmetry', 'PC1_asymmetry', 'PC2_asymmetry']\n",
    "#         neuron_results.loc[t,asymmetries]  = asymmetry_values\n",
    "\n",
    "#         PCA_res = ['xP_weight','xP_scale','xP_angle','xP_xy',\n",
    "#                     'xN_weight','xN_scale','xN_angle','xN_xy',\n",
    "#                     'yP_weight','yP_scale','yP_angle','yP_xy',\n",
    "#                     'yN_weight','yN_scale','yN_angle','yN_xy']\n",
    "#         PCA_arr = np.array(PCA_df.loc[:, PCA_df.columns != 'axis'])\n",
    "#         neuron_results.loc[t,PCA_res]  = PCA_arr.ravel()\n",
    "#         neuron_results.loc[t,'PC1_angle'] = PCA_df.loc[PCA_df.Fraction_weight.idxmax()].Angle\n",
    "#         neuron_results.loc[t,'PC1_x'] = PCA_df.loc[PCA_df.Fraction_weight.idxmax()].xy[0]\n",
    "#         neuron_results.loc[t,'PC1_y'] = PCA_df.loc[PCA_df.Fraction_weight.idxmax()].xy[1]\n",
    "\n",
    "#         neuron_results.loc[t,['centroidZ','centroidY','centroidX']] = reg_prop_3D[t].centroid\n",
    "#         centroid_EP = np.array(entry_point)-np.array(reg_prop_3D[t].centroid)\n",
    "#         neuron_results.loc[t,'cen_EP_dis'] = np.linalg.norm(centroid_EP[1:])\n",
    "#         neuron_results.loc[t,['cen_EP_Y','cen_EP_X']] = centroid_EP[1:]\n",
    "#         p1 = (centroid_EP[1],centroid_EP[2])\n",
    "#         neuron_results.loc[t,'cen_EP_angle'] = np.rad2deg((np.arctan2(*p1[::-1])) % (2 * np.pi))\n",
    "\n",
    "\n",
    "#     del neuron, neu_2D\n",
    "#     neuron_results['density_2D'] = [r.solidity for r in reg_prop_2D]\n",
    "#     # neuron_results['density_3D'] = [r.area_convex for r in reg_prop_3D]\n",
    "#     # neuron_results['density_3D'] = neuron_results.loc[t,'volume']/neuron_results['density_3D']\n",
    "#     neuron_results['area'] = [r.area_convex for r in reg_prop_2D]\n",
    "#     neuron_results['orientation'] = [r.orientation for r in reg_prop_2D]\n",
    "#     neuron_results['eccentricity'] = [r.eccentricity for r in reg_prop_2D]\n",
    "#     neuron_results['feret_diameter_max'] = [r.feret_diameter_max for r in reg_prop_2D]\n",
    "#     neuron_results['convex_perimeter'] = [perimeter(r.image_convex) for r in reg_prop_2D]\n",
    "#     neuron_results['object_perimeter'] = [r.perimeter for r in reg_prop_2D]\n",
    "#     neuron_results['convexity_2D'] = neuron_results['convex_perimeter']/neuron_results['object_perimeter']\n",
    "#     neuron_results['circularity'] = (4*np.pi*neuron_results['area'])/(neuron_results['convex_perimeter']**2)\n",
    "#     neuron_results['compactness'] = neuron_results['object_perimeter']**2/(4*np.pi*neuron_results['net_area'])\n",
    "#     del reg_prop_2D, reg_prop_3D\n",
    "\n",
    "#     csv_name = save_path+n_file+'_s'+subtype+'_new_111.csv'\n",
    "#     neuron_results.to_csv(csv_name)"
   ]
  },
  {
   "cell_type": "code",
   "execution_count": null,
   "metadata": {},
   "outputs": [],
   "source": []
  }
 ],
 "metadata": {
  "kernelspec": {
   "display_name": "Python 3.9.13 ('plotting')",
   "language": "python",
   "name": "python3"
  },
  "language_info": {
   "codemirror_mode": {
    "name": "ipython",
    "version": 3
   },
   "file_extension": ".py",
   "mimetype": "text/x-python",
   "name": "python",
   "nbconvert_exporter": "python",
   "pygments_lexer": "ipython3",
   "version": "3.9.13"
  },
  "orig_nbformat": 4,
  "vscode": {
   "interpreter": {
    "hash": "d8f039b3452c649678a1c627e36aa37ec4e5f675ec8e97e9a0a01e09c89b48d8"
   }
  }
 },
 "nbformat": 4,
 "nbformat_minor": 2
}
