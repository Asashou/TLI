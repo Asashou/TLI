{
 "cells": [
  {
   "cell_type": "code",
   "execution_count": 1,
   "metadata": {},
   "outputs": [],
   "source": [
    "# read txt document of entry points\n",
    "# also iterate over all tif files (adult 3D mask images) in the same path and perform analysis \n",
    "# all analysis except column analysis "
   ]
  },
  {
   "cell_type": "code",
   "execution_count": 9,
   "metadata": {},
   "outputs": [],
   "source": [
    "from scipy.ndimage.morphology import binary_fill_holes\n",
    "\n",
    "from tqdm import tqdm\n",
    "import os\n",
    "import re\n",
    "import tifffile as tif\n",
    "\n",
    "import utils.analysis as analysis\n",
    "import utils.datautils as datautils\n",
    "\n",
    "import numpy as np\n",
    "from skimage.measure import regionprops, marching_cubes, mesh_surface_area, perimeter\n",
    "import pandas as pd\n",
    "import math\n",
    "from scipy.spatial import ConvexHull\n",
    "\n",
    "import matplotlib.pyplot as plt\n",
    "from matplotlib import colors\n",
    "import matplotlib.patches as mpatches\n",
    "# import seaborn as sns\n",
    "%matplotlib inline\n",
    "\n",
    "from timeit import default_timer as timer\n",
    "from multiprocessing import cpu_count, Process, Pool"
   ]
  },
  {
   "cell_type": "code",
   "execution_count": 305,
   "metadata": {},
   "outputs": [],
   "source": [
    "def cal_lifetimes_angle(mask_img, plot=True):\n",
    "    lifetimes = analysis.cal_lifetimes(mask_img, save=False)\n",
    "    lifetimes = lifetimes[-1].astype(float)\n",
    "    lifetimes = 37+0.25*(lifetimes.max()-lifetimes)\n",
    "    \n",
    "    t1 = lifetimes.copy()\n",
    "    t1[t1>40] = 0\n",
    "    t1 = t1.astype('uint8')\n",
    "    t1_center = regionprops(t1)[0].centroid\n",
    "    t2 = lifetimes.copy()\n",
    "    t2[t2<50] = 0\n",
    "    t2 = t2.astype('uint8')\n",
    "    t2_center = regionprops(t2)[0].centroid\n",
    "\n",
    "    x,y = (t2_center[-1]-t1_center[-1]) , (t2_center[-2]-t1_center[-2])\n",
    "\n",
    "    if plot:\n",
    "        y1,x1 = int(t1_center[-2]),int(t1_center[-1])\n",
    "        y2,x2 = int(t2_center[-2]),int(t2_center[-1])\n",
    "        t_plot = lifetimes.sum(axis=0)\n",
    "        t_plot[t_plot!=0] = 1\n",
    "        t_plot[y1-1:y1+1,x1-1:x1+1]=5\n",
    "        t_plot[y2-1:y2+1,x2-1:x2+1]=10\n",
    "        plt.imshow(t_plot)\n",
    "        plt.plot((x1,x2),(y1,y2))\n",
    "    return x, y, np.degrees(np.arctan2(y,x))\n"
   ]
  },
  {
   "cell_type": "code",
   "execution_count": null,
   "metadata": {},
   "outputs": [],
   "source": [
    "#  input and save paths\n",
    "data_path = '/home/tli_project/Desktop/Data/T4/neurons/SubtypeB/'\n",
    "save_path = '/home/tli_project/Desktop/Data/T4/neurons/SubtypeB/output/'\n",
    "subtype = 'B'\n",
    "# stab_limit = 5 #(No. of timepoints for stable branches calculation)\n",
    "start_age = 37"
   ]
  },
  {
   "cell_type": "code",
   "execution_count": null,
   "metadata": {},
   "outputs": [],
   "source": [
    "# getting list of folders in data_path, where each folder has files for one neuron\n",
    "N_folders = [name for name in os.listdir(data_path) if os.path.isdir(os.path.join(data_path, name))]\n",
    "N_folders = [f for f in N_folders if '_P' in f]\n",
    "N_folders = sorted(N_folders)\n",
    "N_folders"
   ]
  },
  {
   "cell_type": "code",
   "execution_count": null,
   "metadata": {},
   "outputs": [],
   "source": [
    "result_cols = ['neuron','X','Y','angle']\n",
    "results = pd.DataFrame(columns=result_cols)\n",
    "for n_folder in N_folders:\n",
    "    start_im = re.search('P(.*)_N', n_folder)\n",
    "    start_im = float(start_im.group(1))\n",
    "    start_ana = int((start_age - start_im)/0.25)\n",
    "    files_list = datautils.get_file_names(data_path+n_folder, group_by='', \n",
    "                                        order=True, nested_files=False, \n",
    "                                        criteria='')\n",
    "    neu_path = [f for f in files_list if 'clahe' in f.lower()][0]\n",
    "    neuron = tif.imread(neu_path)\n",
    "    mask_path = [f for f in files_list if 'mask' in f.lower()][0]\n",
    "    mask = tif.imread(mask_path)\n",
    "    neuron[mask==0] = 0\n",
    "    neuron = neuron[start_ana:] #remove timepoints before start_ana from the 4D image array\n",
    "    neuron[neuron != 0] = 1\n",
    "    x,y,res_angle = cal_lifetimes_angle(neuron, plot=True)\n",
    "    results[n_folder]=[n_folder,x,y,res_angle]"
   ]
  },
  {
   "cell_type": "code",
   "execution_count": null,
   "metadata": {},
   "outputs": [],
   "source": []
  },
  {
   "cell_type": "code",
   "execution_count": null,
   "metadata": {},
   "outputs": [],
   "source": []
  },
  {
   "cell_type": "code",
   "execution_count": 280,
   "metadata": {},
   "outputs": [
    {
     "data": {
      "text/plain": [
       "58.0"
      ]
     },
     "execution_count": 280,
     "metadata": {},
     "output_type": "execute_result"
    }
   ],
   "source": [
    "37+0.25*(86-2)"
   ]
  },
  {
   "cell_type": "code",
   "execution_count": 306,
   "metadata": {},
   "outputs": [
    {
     "name": "stderr",
     "output_type": "stream",
     "text": [
      "100%|██████████| 85/85 [00:05<00:00, 16.83it/s]\n"
     ]
    },
    {
     "data": {
      "text/plain": [
       "(3.508425077487061, -38.55903487633398, -84.80106401697839)"
      ]
     },
     "execution_count": 306,
     "metadata": {},
     "output_type": "execute_result"
    },
    {
     "data": {
      "image/png": "[encoded data removed]",
      "text/plain": [
       "<Figure size 432x288 with 1 Axes>"
      ]
     },
     "metadata": {
      "needs_background": "light"
     },
     "output_type": "display_data"
    }
   ],
   "source": [
    "cal_lifetimes_angle(mask)"
   ]
  },
  {
   "cell_type": "code",
   "execution_count": 413,
   "metadata": {},
   "outputs": [],
   "source": [
    "# neuron = \n",
    "mask = tif.imread('/Users/aichah/Desktop/TLI/data/subtypeC/211104_P36_N3_R290_JE_mask.tif')"
   ]
  },
  {
   "cell_type": "code",
   "execution_count": 388,
   "metadata": {},
   "outputs": [
    {
     "name": "stderr",
     "output_type": "stream",
     "text": [
      "100%|██████████| 88/88 [00:07<00:00, 12.02it/s]\n"
     ]
    },
    {
     "data": {
      "text/plain": [
       "(22.21680948533674, -10.569736677595643, -25.442957427798344)"
      ]
     },
     "execution_count": 388,
     "metadata": {},
     "output_type": "execute_result"
    },
    {
     "data": {
      "image/png": "[encoded data removed]",
      "text/plain": [
       "<Figure size 432x288 with 1 Axes>"
      ]
     },
     "metadata": {
      "needs_background": "light"
     },
     "output_type": "display_data"
    }
   ],
   "source": [
    "cal_lifetimes_angle(mask)"
   ]
  },
  {
   "cell_type": "code",
   "execution_count": 389,
   "metadata": {},
   "outputs": [
    {
     "name": "stderr",
     "output_type": "stream",
     "text": [
      "100%|██████████| 88/88 [00:06<00:00, 13.19it/s]\n"
     ]
    }
   ],
   "source": [
    "lifetimes = analysis.cal_lifetimes(mask, save=False)"
   ]
  },
  {
   "cell_type": "code",
   "execution_count": 341,
   "metadata": {},
   "outputs": [],
   "source": [
    "test = lifetimes[-1]"
   ]
  },
  {
   "cell_type": "code",
   "execution_count": 343,
   "metadata": {},
   "outputs": [],
   "source": [
    "test[test>0] = 37+0.25*(test.max()-test[test>0])"
   ]
  },
  {
   "cell_type": "code",
   "execution_count": 344,
   "metadata": {},
   "outputs": [
    {
     "data": {
      "text/plain": [
       "(58.25, 0.0)"
      ]
     },
     "execution_count": 344,
     "metadata": {},
     "output_type": "execute_result"
    }
   ],
   "source": [
    "test.max(), test.min()"
   ]
  },
  {
   "cell_type": "code",
   "execution_count": 293,
   "metadata": {},
   "outputs": [
    {
     "data": {
      "text/plain": [
       "<matplotlib.image.AxesImage at 0x7ffde2e21e20>"
      ]
     },
     "execution_count": 293,
     "metadata": {},
     "output_type": "execute_result"
    },
    {
     "data": {
      "image/png": "[encoded data removed]",
      "text/plain": [
       "<Figure size 432x288 with 1 Axes>"
      ]
     },
     "metadata": {
      "needs_background": "light"
     },
     "output_type": "display_data"
    }
   ],
   "source": [
    "plt.imshow(np.mean(test, axis=0))"
   ]
  },
  {
   "cell_type": "code",
   "execution_count": 303,
   "metadata": {},
   "outputs": [],
   "source": [
    "test2 = test.copy().astype('uint8')\n",
    "test2[test2!=0]=1\n",
    "test_region = regionprops(label_image=test2, intensity_image=test)[0]"
   ]
  },
  {
   "cell_type": "code",
   "execution_count": 304,
   "metadata": {},
   "outputs": [
    {
     "data": {
      "text/plain": [
       "((21.5, 199.5, 199.5),\n",
       " (21.498936103055666, 199.62503245757134, 199.49137335356164))"
      ]
     },
     "execution_count": 304,
     "metadata": {},
     "output_type": "execute_result"
    }
   ],
   "source": [
    "test_region.centroid, test_region.centroid_weighted"
   ]
  },
  {
   "cell_type": "code",
   "execution_count": 295,
   "metadata": {},
   "outputs": [
    {
     "data": {
      "text/plain": [
       "dtype('float64')"
      ]
     },
     "execution_count": 295,
     "metadata": {},
     "output_type": "execute_result"
    }
   ],
   "source": [
    "test.dtype"
   ]
  },
  {
   "cell_type": "code",
   "execution_count": 291,
   "metadata": {},
   "outputs": [
    {
     "data": {
      "text/plain": [
       "<matplotlib.image.AxesImage at 0x7ffe13ed7100>"
      ]
     },
     "execution_count": 291,
     "metadata": {},
     "output_type": "execute_result"
    },
    {
     "data": {
      "image/png": "[encoded data removed]",
      "text/plain": [
       "<Figure size 432x288 with 1 Axes>"
      ]
     },
     "metadata": {
      "needs_background": "light"
     },
     "output_type": "display_data"
    }
   ],
   "source": [
    "t1 = test.copy()\n",
    "t1[t1>40] = 0\n",
    "# t1[t1<40] = 2\n",
    "plt.imshow(t1.mean(axis=0))"
   ]
  },
  {
   "cell_type": "code",
   "execution_count": 354,
   "metadata": {},
   "outputs": [
    {
     "name": "stderr",
     "output_type": "stream",
     "text": [
      "100%|██████████| 85/85 [00:04<00:00, 17.37it/s]\n"
     ]
    },
    {
     "name": "stdout",
     "output_type": "stream",
     "text": [
      "0.9694183513092298 -4.033453581067022 -76.48560523563609\n"
     ]
    },
    {
     "data": {
      "text/plain": [
       "[<matplotlib.lines.Line2D at 0x7ffe13b73df0>]"
      ]
     },
     "execution_count": 354,
     "metadata": {},
     "output_type": "execute_result"
    },
    {
     "data": {
      "image/png": "[encoded data removed]",
      "text/plain": [
       "<Figure size 432x288 with 1 Axes>"
      ]
     },
     "metadata": {
      "needs_background": "light"
     },
     "output_type": "display_data"
    }
   ],
   "source": [
    "lifetimes = analysis.cal_lifetimes(mask, save=False)\n",
    "lifetimes = lifetimes[-1]\n",
    "lifetimes[lifetimes>0] = 37+0.25*(lifetimes.max()-lifetimes[lifetimes>0])\n",
    "# lifetimes = test.copy()\n",
    "# lifetimes = lifetimes[-1].astype(np.float32)\n",
    "# lifetimes = 37+0.25*(lifetimes.max()-lifetimes)\n",
    "\n",
    "t1 = lifetimes.copy()\n",
    "t1[t1>43.5] = 0\n",
    "t1 = t1.astype('uint8')\n",
    "t1_center = regionprops(t1)[0].centroid\n",
    "t2 = lifetimes.copy()\n",
    "t2[t2<55.25] = 0\n",
    "t2 = t2.astype('uint8')\n",
    "t2_center = regionprops(t2)[0].centroid\n",
    "\n",
    "x,y = (t2_center[-1]-t1_center[-1]) , (t2_center[-2]-t1_center[-2])\n",
    "t_angle = np.degrees(np.arctan2(y,x))\n",
    "print(x, y, t_angle)\n",
    "\n",
    "y1,x1 = int(t1_center[-2]),int(t1_center[-1])\n",
    "y2,x2 = int(t2_center[-2]),int(t2_center[-1])\n",
    "t_plot = test.sum(axis=0)\n",
    "t_plot[t_plot!=0] = 1\n",
    "t_plot[y1-1:y1+1,x1-1:x1+1]=5\n",
    "t_plot[y2-1:y2+1,x2-1:x2+1]=10\n",
    "plt.imshow(t_plot)\n",
    "plt.plot((x1,x2),(y1,y2))"
   ]
  },
  {
   "cell_type": "code",
   "execution_count": 361,
   "metadata": {},
   "outputs": [
    {
     "name": "stderr",
     "output_type": "stream",
     "text": [
      "100%|██████████| 85/85 [00:04<00:00, 17.23it/s]\n"
     ]
    },
    {
     "data": {
      "text/plain": [
       "<matplotlib.image.AxesImage at 0x7ffde2e75910>"
      ]
     },
     "execution_count": 361,
     "metadata": {},
     "output_type": "execute_result"
    },
    {
     "data": {
      "image/png": "[encoded data removed]",
      "text/plain": [
       "<Figure size 432x288 with 1 Axes>"
      ]
     },
     "metadata": {
      "needs_background": "light"
     },
     "output_type": "display_data"
    }
   ],
   "source": [
    "lifetimes = analysis.cal_lifetimes(mask, save=False)\n",
    "lifetimes = lifetimes[-1]\n",
    "t_plot=lifetimes.copy()\n",
    "t_plot[t_plot!=0] = 1\n",
    "t_plot[lifetimes>60] = 5\n",
    "t_plot[lifetimes<10] = 20\n",
    "plt.imshow(t_plot.mean(axis=0))"
   ]
  },
  {
   "cell_type": "code",
   "execution_count": 393,
   "metadata": {},
   "outputs": [
    {
     "name": "stdout",
     "output_type": "stream",
     "text": [
      "41.488656012674966 34.29376948478614 39.57651730280875\n"
     ]
    }
   ],
   "source": [
    "t1_center = regionprops(mask[0])[0].centroid\n",
    "t2_center = regionprops(mask[-1]-mask[0])[0].centroid\n",
    "x,y = (t2_center[-1]-t1_center[-1]) , (t2_center[-2]-t1_center[-2])\n",
    "t_angle = np.degrees(np.arctan2(y,x))\n",
    "print(x, y, t_angle)"
   ]
  },
  {
   "cell_type": "code",
   "execution_count": 425,
   "metadata": {},
   "outputs": [
    {
     "name": "stderr",
     "output_type": "stream",
     "text": [
      "100%|██████████| 88/88 [00:04<00:00, 20.64it/s]\n"
     ]
    },
    {
     "name": "stdout",
     "output_type": "stream",
     "text": [
      "-16.244928483236663 30.838908268501584 117.77879489919786\n"
     ]
    },
    {
     "data": {
      "text/plain": [
       "<matplotlib.collections.PathCollection at 0x7ffd8490e220>"
      ]
     },
     "execution_count": 425,
     "metadata": {},
     "output_type": "execute_result"
    },
    {
     "data": {
      "image/png": "[encoded data removed]",
      "text/plain": [
       "<Figure size 432x288 with 1 Axes>"
      ]
     },
     "metadata": {
      "needs_background": "light"
     },
     "output_type": "display_data"
    }
   ],
   "source": [
    "lifetimes = analysis.cal_lifetimes(mask, save=False)\n",
    "lifetimes = lifetimes[-1].astype(float)\n",
    "# lifetimes[lifetimes>0] = 37+0.25*(lifetimes.max()-lifetimes[lifetimes>0])\n",
    "\n",
    "t1 = lifetimes.copy()\n",
    "t1[t1<60] = 0\n",
    "t1 = t1.astype('uint8')\n",
    "t1_center = regionprops(t1)[0].centroid\n",
    "t2 = lifetimes.copy()\n",
    "t2[t2>13] = 0\n",
    "t2 = t2.astype('uint8')\n",
    "t2_center = regionprops(t2)[0].centroid\n",
    "\n",
    "x,y = (t2_center[-1]-t1_center[-1]) , (t2_center[-2]-t1_center[-2])\n",
    "\n",
    "t_angle = np.degrees(np.arctan2(y,x))\n",
    "print(x, y, t_angle)\n",
    "\n",
    "y1,x1 = int(t1_center[-2]),int(t1_center[-1])\n",
    "y2,x2 = int(t2_center[-2]),int(t2_center[-1])\n",
    "t_plot = lifetimes.sum(axis=0)\n",
    "t_plot[t_plot!=0] = 1\n",
    "# t_plot[y1-1:y1+1,x1-1:x1+1]=5\n",
    "# t_plot[y2-1:y2+1,x2-1:x2+1]=10\n",
    "plt.imshow(t_plot)\n",
    "plt.plot((x1,x2),(y1,y2))\n",
    "plt.scatter(x1,y1,c='g')\n",
    "plt.scatter(x2,y2,c='r')"
   ]
  },
  {
   "cell_type": "code",
   "execution_count": 423,
   "metadata": {},
   "outputs": [
    {
     "name": "stdout",
     "output_type": "stream",
     "text": [
      "11.389853615811234 -30.224053485409087 -69.35121666109683\n"
     ]
    },
    {
     "data": {
      "text/plain": [
       "<matplotlib.collections.PathCollection at 0x7ffd937a3100>"
      ]
     },
     "execution_count": 423,
     "metadata": {},
     "output_type": "execute_result"
    },
    {
     "data": {
      "image/png": "[encoded data removed]",
      "text/plain": [
       "<Figure size 432x288 with 1 Axes>"
      ]
     },
     "metadata": {
      "needs_background": "light"
     },
     "output_type": "display_data"
    }
   ],
   "source": [
    "t1_center = regionprops(mask[20])[0].centroid\n",
    "t2_center = regionprops(mask[-20]-mask[20])[0].centroid\n",
    "x,y = (t2_center[-1]-t1_center[-1]) , (t2_center[-2]-t1_center[-2])\n",
    "t_angle = np.degrees(np.arctan2(y,x))\n",
    "print(x, y, t_angle)\n",
    "y1,x1 = int(t1_center[-2]),int(t1_center[-1])\n",
    "y2,x2 = int(t2_center[-2]),int(t2_center[-1])\n",
    "t_plot = lifetimes.sum(axis=0)\n",
    "t_plot[t_plot!=0] = 1\n",
    "# t_plot[y1-1:y1+1,x1-1:x1+1]=5\n",
    "# t_plot[y2-1:y2+1,x2-1:x2+1]=10\n",
    "plt.imshow(t_plot)\n",
    "plt.plot((x1,x2),(y1,y2))\n",
    "plt.scatter(x1,y1,c='g')\n",
    "plt.scatter(x2,y2,c='r')"
   ]
  },
  {
   "cell_type": "code",
   "execution_count": 439,
   "metadata": {},
   "outputs": [
    {
     "name": "stdout",
     "output_type": "stream",
     "text": [
      "21.97988285985113 -35.2685639646582 -58.068238226998545\n"
     ]
    },
    {
     "data": {
      "text/plain": [
       "<matplotlib.collections.PathCollection at 0x7ffde4730160>"
      ]
     },
     "execution_count": 439,
     "metadata": {},
     "output_type": "execute_result"
    },
    {
     "data": {
      "image/png": "[encoded data removed]",
      "text/plain": [
       "<Figure size 432x288 with 1 Axes>"
      ]
     },
     "metadata": {
      "needs_background": "light"
     },
     "output_type": "display_data"
    }
   ],
   "source": [
    "t1_center = regionprops(mask[0])[0].centroid\n",
    "t2_center = regionprops(mask[-1]-mask[0])[0].centroid\n",
    "x,y = (t2_center[-1]-t1_center[-1]) , (t2_center[-2]-t1_center[-2])\n",
    "t_angle = np.degrees(np.arctan2(y,x))\n",
    "print(x, y, t_angle)\n",
    "# y1,x1 = int(t1_center[-2]),int(t1_center[-1])\n",
    "# y2,x2 = int(t2_center[-2]),int(t2_center[-1])\n",
    "t_plot = lifetimes.sum(axis=0)\n",
    "t_plot[t_plot!=0] = 1\n",
    "# t_plot[y1-1:y1+1,x1-1:x1+1]=5\n",
    "# t_plot[y2-1:y2+1,x2-1:x2+1]=10\n",
    "plt.imshow(t_plot)\n",
    "plt.plot((x1,x2),(y1,y2))\n",
    "plt.scatter(x2,y2,c='r')"
   ]
  },
  {
   "cell_type": "code",
   "execution_count": 503,
   "metadata": {},
   "outputs": [
    {
     "name": "stdout",
     "output_type": "stream",
     "text": [
      "14.773567990635229 -26.842745483699844 -61.172726159414935\n"
     ]
    },
    {
     "data": {
      "text/plain": [
       "<matplotlib.collections.PathCollection at 0x7ffe162b0640>"
      ]
     },
     "execution_count": 503,
     "metadata": {},
     "output_type": "execute_result"
    },
    {
     "data": {
      "image/png": "[encoded data removed]",
      "text/plain": [
       "<Figure size 432x288 with 1 Axes>"
      ]
     },
     "metadata": {
      "needs_background": "light"
     },
     "output_type": "display_data"
    }
   ],
   "source": [
    "# mask1 = mask.sum(axis=0)\n",
    "t1 = mask[0].sum(axis=0)\n",
    "t1[t1!=0] = 1\n",
    "t2 = (mask[-1] - mask[0]).sum(axis=0)\n",
    "t2[t2!=0] = 2\n",
    "\n",
    "t1_center = regionprops(t1)[0].centroid\n",
    "t2_center = regionprops(t2)[0].centroid\n",
    "x,y = (t2_center[-1]-t1_center[-1]) , (t2_center[-2]-t1_center[-2])\n",
    "t_angle = np.degrees(np.arctan2(y,x))\n",
    "print(x, y, t_angle)\n",
    "\n",
    "t1 = t1 + t2\n",
    "plt.imshow(t1)\n",
    "y1,x1 = int(t1_center[-2]),int(t1_center[-1])\n",
    "y2,x2 = int(t2_center[-2]),int(t2_center[-1])\n",
    "plt.plot((x1,x2),(y1,y2))\n",
    "plt.scatter(x1,y1,c='g')\n",
    "plt.scatter(x2,y2,c='r')"
   ]
  },
  {
   "cell_type": "code",
   "execution_count": 463,
   "metadata": {},
   "outputs": [
    {
     "data": {
      "text/plain": [
       "89.0"
      ]
     },
     "execution_count": 463,
     "metadata": {},
     "output_type": "execute_result"
    }
   ],
   "source": [
    "lifetimes.max()"
   ]
  },
  {
   "cell_type": "code",
   "execution_count": 462,
   "metadata": {},
   "outputs": [
    {
     "name": "stderr",
     "output_type": "stream",
     "text": [
      "100%|██████████| 88/88 [00:04<00:00, 20.49it/s]\n"
     ]
    }
   ],
   "source": [
    "lifetimes = analysis.cal_lifetimes(mask, save=False)\n",
    "# lifetimes = lifetimes[-1].astype(float)\n",
    "# lifetimes[lifetimes>0] = 37+0.25*(lifetimes.max()-lifetimes[lifetimes>0])"
   ]
  },
  {
   "cell_type": "code",
   "execution_count": 467,
   "metadata": {},
   "outputs": [
    {
     "name": "stdout",
     "output_type": "stream",
     "text": [
      "9.883587001234076 3.995680789798442 22.01222081045574\n"
     ]
    },
    {
     "data": {
      "text/plain": [
       "<matplotlib.collections.PathCollection at 0x7ffe051a6c10>"
      ]
     },
     "execution_count": 467,
     "metadata": {},
     "output_type": "execute_result"
    },
    {
     "data": {
      "image/png": "[encoded data removed]",
      "text/plain": [
       "<Figure size 432x288 with 1 Axes>"
      ]
     },
     "metadata": {
      "needs_background": "light"
     },
     "output_type": "display_data"
    }
   ],
   "source": [
    "# mask1 = mask.sum(axis=0)\n",
    "lifetimes1 = np.median(lifetimes, axis=0)\n",
    "t1 = lifetimes1.copy().astype('uint8')\n",
    "t1[t1!=76] = 0\n",
    "# t1 = t1.max(axis=0).astype('uint8')\n",
    "t1[t1!=0] = 1\n",
    "t2 = lifetimes1.copy().astype('uint8')\n",
    "t2[t2!=4] = 0\n",
    "# t2 = t2.max(axis=0).astype('uint8')\n",
    "t2[t2!=0] = 2\n",
    "\n",
    "t1_center = regionprops(t1)[0].centroid\n",
    "t2_center = regionprops(t2)[0].centroid\n",
    "x,y = (t2_center[-1]-t1_center[-1]) , (t2_center[-2]-t1_center[-2])\n",
    "t_angle = np.degrees(np.arctan2(y,x))\n",
    "print(x, y, t_angle)\n",
    "\n",
    "t1 = t1 + t2\n",
    "plt.imshow(t1)\n",
    "y1,x1 = int(t1_center[-2]),int(t1_center[-1])\n",
    "y2,x2 = int(t2_center[-2]),int(t2_center[-1])\n",
    "plt.plot((x1,x2),(y1,y2))\n",
    "plt.scatter(x1,y1,c='g')\n",
    "plt.scatter(x2,y2,c='r')"
   ]
  },
  {
   "cell_type": "code",
   "execution_count": 468,
   "metadata": {},
   "outputs": [
    {
     "data": {
      "text/plain": [
       "<matplotlib.image.AxesImage at 0x7ffd935c3040>"
      ]
     },
     "execution_count": 468,
     "metadata": {},
     "output_type": "execute_result"
    },
    {
     "data": {
      "image/png": "[encoded data removed]",
      "text/plain": [
       "<Figure size 432x288 with 1 Axes>"
      ]
     },
     "metadata": {
      "needs_background": "light"
     },
     "output_type": "display_data"
    }
   ],
   "source": [
    "plt.imshow(lifetimes1)"
   ]
  },
  {
   "cell_type": "code",
   "execution_count": 471,
   "metadata": {},
   "outputs": [
    {
     "name": "stderr",
     "output_type": "stream",
     "text": [
      "100%|██████████| 88/88 [00:00<00:00, 1049.79it/s]\n"
     ]
    }
   ],
   "source": [
    "mask1 = mask.max(axis=1)\n",
    "lifetimes2 = analysis.cal_lifetimes(mask1, save=False)"
   ]
  },
  {
   "cell_type": "code",
   "execution_count": 475,
   "metadata": {},
   "outputs": [
    {
     "data": {
      "text/plain": [
       "89.0"
      ]
     },
     "execution_count": 475,
     "metadata": {},
     "output_type": "execute_result"
    }
   ],
   "source": [
    "lifetimes2.max()"
   ]
  },
  {
   "cell_type": "code",
   "execution_count": 477,
   "metadata": {},
   "outputs": [
    {
     "name": "stdout",
     "output_type": "stream",
     "text": [
      "4.353836209039798 28.61260006961365 81.34795748886475\n"
     ]
    },
    {
     "data": {
      "text/plain": [
       "<matplotlib.collections.PathCollection at 0x7ffde3c21b80>"
      ]
     },
     "execution_count": 477,
     "metadata": {},
     "output_type": "execute_result"
    },
    {
     "data": {
      "image/png": "[encoded data removed]",
      "text/plain": [
       "<Figure size 432x288 with 1 Axes>"
      ]
     },
     "metadata": {
      "needs_background": "light"
     },
     "output_type": "display_data"
    }
   ],
   "source": [
    "t1 = lifetimes2[-1].copy().astype('uint8')\n",
    "t1[t1!=76] = 0\n",
    "t1[t1!=0] = 1\n",
    "t2 = lifetimes2[-1].copy().astype('uint8')\n",
    "t2[t2!=4] = 0\n",
    "# t2 = t2.max(axis=0).astype('uint8')\n",
    "t2[t2!=0] = 2\n",
    "\n",
    "t1_center = regionprops(t1)[0].centroid\n",
    "t2_center = regionprops(t2)[0].centroid\n",
    "x,y = (t2_center[-1]-t1_center[-1]) , (t2_center[-2]-t1_center[-2])\n",
    "t_angle = np.degrees(np.arctan2(y,x))\n",
    "print(x, y, t_angle)\n",
    "\n",
    "t1 = t1 + t2\n",
    "plt.imshow(t1)\n",
    "y1,x1 = int(t1_center[-2]),int(t1_center[-1])\n",
    "y2,x2 = int(t2_center[-2]),int(t2_center[-1])\n",
    "plt.plot((x1,x2),(y1,y2))\n",
    "plt.scatter(x1,y1,c='g')\n",
    "plt.scatter(x2,y2,c='r')"
   ]
  },
  {
   "cell_type": "code",
   "execution_count": 499,
   "metadata": {},
   "outputs": [
    {
     "data": {
      "text/plain": [
       "<matplotlib.image.AxesImage at 0x7ffde402cfd0>"
      ]
     },
     "execution_count": 499,
     "metadata": {},
     "output_type": "execute_result"
    },
    {
     "data": {
      "image/png": "[encoded data removed]",
      "text/plain": [
       "<Figure size 432x288 with 1 Axes>"
      ]
     },
     "metadata": {
      "needs_background": "light"
     },
     "output_type": "display_data"
    }
   ],
   "source": [
    "test = lifetimes2[-1].copy()\n",
    "test[test<75] = 0\n",
    "test[test!=0] = 1\n",
    "t = lifetimes2[-1].copy()\n",
    "t[(t>75) | (t<50)] = 0\n",
    "t[t!=0] = 2\n",
    "test = test + t\n",
    "\n",
    "t = lifetimes2[-1].copy()\n",
    "t[(t>50) | (t<30)] = 0\n",
    "t[t!=0] = 4\n",
    "test = test + t\n",
    "\n",
    "t = lifetimes2[-1].copy()\n",
    "t[(t>30) | (t<1)] = 0\n",
    "t[t!=0] = 6\n",
    "test = test + t\n",
    "\n",
    "plt.imshow(test)"
   ]
  },
  {
   "cell_type": "code",
   "execution_count": 500,
   "metadata": {},
   "outputs": [
    {
     "data": {
      "text/plain": [
       "dtype('float64')"
      ]
     },
     "execution_count": 500,
     "metadata": {},
     "output_type": "execute_result"
    }
   ],
   "source": [
    "test.dtype"
   ]
  },
  {
   "cell_type": "code",
   "execution_count": 501,
   "metadata": {},
   "outputs": [],
   "source": [
    "test = test*100\n",
    "test_region = regionprops(label_image=lifetimes2[-1].astype('uint8'), intensity_image=test)[0]"
   ]
  },
  {
   "cell_type": "code",
   "execution_count": 502,
   "metadata": {},
   "outputs": [
    {
     "data": {
      "text/plain": [
       "((128.49596231493945, 257.94751009421265),\n",
       " (128.49596231493945, 257.94751009421265))"
      ]
     },
     "execution_count": 502,
     "metadata": {},
     "output_type": "execute_result"
    }
   ],
   "source": [
    "test_region.centroid, test_region.centroid_weighted"
   ]
  },
  {
   "cell_type": "code",
   "execution_count": 489,
   "metadata": {},
   "outputs": [
    {
     "name": "stdout",
     "output_type": "stream",
     "text": [
      "2.6364885329836056 7.8619122256531 71.46114677602277\n"
     ]
    },
    {
     "data": {
      "text/plain": [
       "<matplotlib.collections.PathCollection at 0x7ffe05b41940>"
      ]
     },
     "execution_count": 489,
     "metadata": {},
     "output_type": "execute_result"
    },
    {
     "data": {
      "image/png": "[encoded data removed]",
      "text/plain": [
       "<Figure size 432x288 with 1 Axes>"
      ]
     },
     "metadata": {
      "needs_background": "light"
     },
     "output_type": "display_data"
    }
   ],
   "source": [
    "t1 = lifetimes2[-1].copy().astype('uint8')\n",
    "t1[t1<75] = 0\n",
    "t1[t1!=0] = 1\n",
    "t2 = lifetimes2[-1].copy().astype('uint8')\n",
    "t2[(t2>30)] = 0\n",
    "# t2 = t2.max(axis=0).astype('uint8')\n",
    "t2[t2!=0] = 2\n",
    "\n",
    "t1_center = regionprops(t1)[0].centroid\n",
    "t2_center = regionprops(t2)[0].centroid\n",
    "x,y = (t2_center[-1]-t1_center[-1]) , (t2_center[-2]-t1_center[-2])\n",
    "t_angle = np.degrees(np.arctan2(y,x))\n",
    "print(x, y, t_angle)\n",
    "\n",
    "t1 = t1 + t2\n",
    "plt.imshow(t1)\n",
    "y1,x1 = int(t1_center[-2]),int(t1_center[-1])\n",
    "y2,x2 = int(t2_center[-2]),int(t2_center[-1])\n",
    "plt.plot((x1,x2),(y1,y2))\n",
    "plt.scatter(x1,y1,c='g')\n",
    "plt.scatter(x2,y2,c='r')"
   ]
  },
  {
   "cell_type": "code",
   "execution_count": 436,
   "metadata": {},
   "outputs": [
    {
     "data": {
      "text/plain": [
       "<matplotlib.image.AxesImage at 0x7ffe15375a00>"
      ]
     },
     "execution_count": 436,
     "metadata": {},
     "output_type": "execute_result"
    },
    {
     "data": {
      "image/png": "[encoded data removed]",
      "text/plain": [
       "<Figure size 432x288 with 1 Axes>"
      ]
     },
     "metadata": {
      "needs_background": "light"
     },
     "output_type": "display_data"
    }
   ],
   "source": [
    "t1 = test.copy()\n",
    "t1[t1>39] = 0\n",
    "t1[t1!=0] = 1\n",
    "t2 = test.copy()\n",
    "# t2[t2<50] = 0\n",
    "t2[t2!=0] = 2\n",
    "t1 = t1 + t2\n",
    "plt.imshow(t1)"
   ]
  },
  {
   "cell_type": "code",
   "execution_count": null,
   "metadata": {},
   "outputs": [],
   "source": [
    "lifetimes = analysis.cal_lifetimes(mask, save=False)\n",
    "lifetimes = lifetimes[-1].astype(float)\n",
    "# lifetimes[lifetimes>0] = 37+0.25*(lifetimes.max()-lifetimes[lifetimes>0])\n",
    "\n",
    "t1 = lifetimes.copy()\n",
    "t1[t1<60] = 0\n",
    "t1 = t1.astype('uint8')\n",
    "t1_center = regionprops(t1)[0].centroid\n",
    "t2 = lifetimes.copy()\n",
    "t2[t2>13] = 0\n",
    "t2 = t2.astype('uint8')\n",
    "t2_center = regionprops(t2)[0].centroid"
   ]
  },
  {
   "cell_type": "code",
   "execution_count": 380,
   "metadata": {},
   "outputs": [
    {
     "data": {
      "text/plain": [
       "<matplotlib.image.AxesImage at 0x7ffd84c71910>"
      ]
     },
     "execution_count": 380,
     "metadata": {},
     "output_type": "execute_result"
    },
    {
     "data": {
      "image/png": "[encoded data removed]",
      "text/plain": [
       "<Figure size 432x288 with 1 Axes>"
      ]
     },
     "metadata": {
      "needs_background": "light"
     },
     "output_type": "display_data"
    }
   ],
   "source": [
    "lifetimes[lifetimes<10] = 1000\n",
    "plt.imshow(lifetimes.mean(axis=0), cmap='gist_gray')"
   ]
  },
  {
   "cell_type": "code",
   "execution_count": 368,
   "metadata": {},
   "outputs": [
    {
     "name": "stderr",
     "output_type": "stream",
     "text": [
      "100%|██████████| 85/85 [00:05<00:00, 16.83it/s]\n"
     ]
    },
    {
     "ename": "IndexError",
     "evalue": "list index out of range",
     "output_type": "error",
     "traceback": [
      "\u001b[0;31m---------------------------------------------------------------------------\u001b[0m",
      "\u001b[0;31mIndexError\u001b[0m                                Traceback (most recent call last)",
      "\u001b[0;32m<ipython-input-368-300bb1e7bc57>\u001b[0m in \u001b[0;36m<module>\u001b[0;34m\u001b[0m\n\u001b[1;32m      6\u001b[0m \u001b[0mt1\u001b[0m\u001b[0;34m[\u001b[0m\u001b[0mt1\u001b[0m\u001b[0;34m<\u001b[0m\u001b[0;36m60\u001b[0m\u001b[0;34m]\u001b[0m \u001b[0;34m=\u001b[0m \u001b[0;36m0\u001b[0m\u001b[0;34m\u001b[0m\u001b[0;34m\u001b[0m\u001b[0m\n\u001b[1;32m      7\u001b[0m \u001b[0mt1\u001b[0m \u001b[0;34m=\u001b[0m \u001b[0mt1\u001b[0m\u001b[0;34m.\u001b[0m\u001b[0mastype\u001b[0m\u001b[0;34m(\u001b[0m\u001b[0;34m'uint8'\u001b[0m\u001b[0;34m)\u001b[0m\u001b[0;34m\u001b[0m\u001b[0;34m\u001b[0m\u001b[0m\n\u001b[0;32m----> 8\u001b[0;31m \u001b[0mt1_center\u001b[0m \u001b[0;34m=\u001b[0m \u001b[0mregionprops\u001b[0m\u001b[0;34m(\u001b[0m\u001b[0mt1\u001b[0m\u001b[0;34m)\u001b[0m\u001b[0;34m[\u001b[0m\u001b[0;36m0\u001b[0m\u001b[0;34m]\u001b[0m\u001b[0;34m.\u001b[0m\u001b[0mcentroid\u001b[0m\u001b[0;34m\u001b[0m\u001b[0;34m\u001b[0m\u001b[0m\n\u001b[0m\u001b[1;32m      9\u001b[0m \u001b[0mt2\u001b[0m \u001b[0;34m=\u001b[0m \u001b[0mlifetimes\u001b[0m\u001b[0;34m.\u001b[0m\u001b[0mcopy\u001b[0m\u001b[0;34m(\u001b[0m\u001b[0;34m)\u001b[0m\u001b[0;34m\u001b[0m\u001b[0;34m\u001b[0m\u001b[0m\n\u001b[1;32m     10\u001b[0m \u001b[0mt2\u001b[0m\u001b[0;34m[\u001b[0m\u001b[0mt2\u001b[0m\u001b[0;34m>\u001b[0m\u001b[0;36m13\u001b[0m\u001b[0;34m]\u001b[0m \u001b[0;34m=\u001b[0m \u001b[0;36m0\u001b[0m\u001b[0;34m\u001b[0m\u001b[0;34m\u001b[0m\u001b[0m\n",
      "\u001b[0;31mIndexError\u001b[0m: list index out of range"
     ]
    }
   ],
   "source": [
    "lifetimes = analysis.cal_lifetimes(mask[::-1], save=False)\n",
    "lifetimes = lifetimes[1].astype(float)\n",
    "# lifetimes = 37+0.25*(lifetimes.max()-lifetimes)\n",
    "\n",
    "t1 = lifetimes.copy()\n",
    "t1[t1<60] = 0\n",
    "t1 = t1.astype('uint8')\n",
    "t1_center = regionprops(t1)[0].centroid\n",
    "t2 = lifetimes.copy()\n",
    "t2[t2>13] = 0\n",
    "t2 = t2.astype('uint8')\n",
    "t2_center = regionprops(t2)[0].centroid\n",
    "\n",
    "x,y = (t2_center[-1]-t1_center[-1]) , (t2_center[-2]-t1_center[-2])\n",
    "\n",
    "t_angle = np.degrees(np.arctan2(y,x))\n",
    "print(x, y, t_angle)\n",
    "\n",
    "y1,x1 = int(t1_center[-2]),int(t1_center[-1])\n",
    "y2,x2 = int(t2_center[-2]),int(t2_center[-1])\n",
    "t_plot = lifetimes.sum(axis=0)\n",
    "t_plot[t_plot!=0] = 1\n",
    "t_plot[y1-1:y1+1,x1-1:x1+1]=5\n",
    "t_plot[y2-1:y2+1,x2-1:x2+1]=10\n",
    "plt.imshow(t_plot)\n",
    "plt.plot((x1,x2),(y1,y2))"
   ]
  },
  {
   "cell_type": "code",
   "execution_count": 366,
   "metadata": {},
   "outputs": [
    {
     "data": {
      "text/plain": [
       "<matplotlib.image.AxesImage at 0x7ffd841d6fd0>"
      ]
     },
     "execution_count": 366,
     "metadata": {},
     "output_type": "execute_result"
    },
    {
     "data": {
      "image/png": "[encoded data removed]",
      "text/plain": [
       "<Figure size 432x288 with 1 Axes>"
      ]
     },
     "metadata": {
      "needs_background": "light"
     },
     "output_type": "display_data"
    }
   ],
   "source": [
    "plt.imshow(mask[-1].sum(axis=0))"
   ]
  },
  {
   "cell_type": "code",
   "execution_count": null,
   "metadata": {},
   "outputs": [],
   "source": []
  },
  {
   "cell_type": "code",
   "execution_count": 265,
   "metadata": {},
   "outputs": [
    {
     "data": {
      "text/plain": [
       "(0.0, 90.0)"
      ]
     },
     "execution_count": 265,
     "metadata": {},
     "output_type": "execute_result"
    },
    {
     "data": {
      "image/png": "[encoded data removed]",
      "text/plain": [
       "<Figure size 432x288 with 1 Axes>"
      ]
     },
     "metadata": {
      "needs_background": "light"
     },
     "output_type": "display_data"
    }
   ],
   "source": [
    "test = lifetimes[-1].astype('uint8')\n",
    "test[test>85] = 0\n",
    "t = test[test>2]\n",
    "plt.hist(t,bins=int(t.max()/2))\n",
    "plt.xlim(0,90)"
   ]
  },
  {
   "cell_type": "code",
   "execution_count": 266,
   "metadata": {},
   "outputs": [
    {
     "data": {
      "text/plain": [
       "(4.0, 90.0)"
      ]
     },
     "execution_count": 266,
     "metadata": {},
     "output_type": "execute_result"
    },
    {
     "data": {
      "image/png": "[encoded data removed]",
      "text/plain": [
       "<Figure size 432x288 with 1 Axes>"
      ]
     },
     "metadata": {
      "needs_background": "light"
     },
     "output_type": "display_data"
    }
   ],
   "source": [
    "test = lifetimes[-1].astype('uint8')\n",
    "test[test>85] = 0\n",
    "t = test[test>8]\n",
    "plt.hist(t,bins=int(t.max()/2))\n",
    "plt.xlim(4,90)"
   ]
  },
  {
   "cell_type": "code",
   "execution_count": 255,
   "metadata": {},
   "outputs": [
    {
     "data": {
      "text/plain": [
       "(4.0, 90.0)"
      ]
     },
     "execution_count": 255,
     "metadata": {},
     "output_type": "execute_result"
    },
    {
     "data": {
      "image/png": "[encoded data removed]",
      "text/plain": [
       "<Figure size 432x288 with 1 Axes>"
      ]
     },
     "metadata": {
      "needs_background": "light"
     },
     "output_type": "display_data"
    }
   ],
   "source": [
    "# test = lifetimes[-1].astype('uint8')\n",
    "# t = test[test>0]\n",
    "# plt.hist(t,bins=int(t.max()/2))\n",
    "\n",
    "test = lifetimes[-1].astype('uint8')\n",
    "test[test>85] = 0\n",
    "t = test[test>8]\n",
    "plt.hist(t,bins=int(t.max()/2))\n",
    "plt.xlim(4,90)"
   ]
  },
  {
   "cell_type": "code",
   "execution_count": 251,
   "metadata": {},
   "outputs": [
    {
     "data": {
      "text/plain": [
       "(4.0, 90.0)"
      ]
     },
     "execution_count": 251,
     "metadata": {},
     "output_type": "execute_result"
    },
    {
     "data": {
      "image/png": "[encoded data removed]",
      "text/plain": [
       "<Figure size 432x288 with 1 Axes>"
      ]
     },
     "metadata": {
      "needs_background": "light"
     },
     "output_type": "display_data"
    }
   ],
   "source": [
    "test = lifetimes[-1].astype('uint8')\n",
    "test[test>85] = 0\n",
    "t = test[test>8]\n",
    "plt.hist(t,bins=int(t.max()/2))\n",
    "plt.xlim(4,90)"
   ]
  },
  {
   "cell_type": "code",
   "execution_count": 219,
   "metadata": {},
   "outputs": [
    {
     "data": {
      "text/plain": [
       "(89, 37, 400, 400)"
      ]
     },
     "execution_count": 219,
     "metadata": {},
     "output_type": "execute_result"
    }
   ],
   "source": [
    "lifetimes.shape"
   ]
  },
  {
   "cell_type": "code",
   "execution_count": 87,
   "metadata": {},
   "outputs": [],
   "source": [
    "test = lifetimes[-1]\n",
    "test = test.astype('float')\n",
    "test = test/4\n",
    "test -= test.max()\n",
    "test = test * -1\n",
    "# test += test.min()\n",
    "# test[test < 5] = np.nan"
   ]
  },
  {
   "cell_type": "code",
   "execution_count": 88,
   "metadata": {},
   "outputs": [
    {
     "data": {
      "text/plain": [
       "(22.25, -0.0)"
      ]
     },
     "execution_count": 88,
     "metadata": {},
     "output_type": "execute_result"
    }
   ],
   "source": [
    "test.max(), test.min()"
   ]
  },
  {
   "cell_type": "code",
   "execution_count": 103,
   "metadata": {},
   "outputs": [
    {
     "data": {
      "text/plain": [
       "<matplotlib.image.AxesImage at 0x7ffd91713d90>"
      ]
     },
     "execution_count": 103,
     "metadata": {},
     "output_type": "execute_result"
    },
    {
     "data": {
      "image/png": "[encoded data removed]",
      "text/plain": [
       "<Figure size 432x288 with 1 Axes>"
      ]
     },
     "metadata": {
      "needs_background": "light"
     },
     "output_type": "display_data"
    }
   ],
   "source": [
    "test2 = np.mean(test, axis=0)\n",
    "test2[test2<10]=0\n",
    "plt.imshow(test2)"
   ]
  },
  {
   "cell_type": "code",
   "execution_count": 121,
   "metadata": {},
   "outputs": [],
   "source": [
    "test = lifetimes[-1].astype('uint8')\n",
    "test_region = regionprops(test)[0]"
   ]
  },
  {
   "cell_type": "code",
   "execution_count": 130,
   "metadata": {},
   "outputs": [
    {
     "data": {
      "text/plain": [
       "(36.56324522638206, 230.88815698046082, 267.2552322187943)"
      ]
     },
     "execution_count": 130,
     "metadata": {},
     "output_type": "execute_result"
    }
   ],
   "source": [
    "test_region.centroid"
   ]
  },
  {
   "cell_type": "code",
   "execution_count": 123,
   "metadata": {},
   "outputs": [
    {
     "ename": "AttributeError",
     "evalue": "'<class 'skimage.measure._regionprops.RegionProperties'>' object has no attribute 'centroid_weighted'",
     "output_type": "error",
     "traceback": [
      "\u001b[0;31m---------------------------------------------------------------------------\u001b[0m",
      "\u001b[0;31mAttributeError\u001b[0m                            Traceback (most recent call last)",
      "\u001b[0;32m<ipython-input-123-b32e14a704ae>\u001b[0m in \u001b[0;36m<module>\u001b[0;34m\u001b[0m\n\u001b[0;32m----> 1\u001b[0;31m \u001b[0mtest_region\u001b[0m\u001b[0;34m.\u001b[0m\u001b[0mcentroid_weighted\u001b[0m\u001b[0;34m\u001b[0m\u001b[0;34m\u001b[0m\u001b[0m\n\u001b[0m",
      "\u001b[0;32m~/opt/miniconda3/envs/growth/lib/python3.9/site-packages/skimage/measure/_regionprops.py\u001b[0m in \u001b[0;36m__getattr__\u001b[0;34m(self, attr)\u001b[0m\n\u001b[1;32m    350\u001b[0m             \u001b[0;32mreturn\u001b[0m \u001b[0mgetattr\u001b[0m\u001b[0;34m(\u001b[0m\u001b[0mself\u001b[0m\u001b[0;34m,\u001b[0m \u001b[0mPROPS\u001b[0m\u001b[0;34m[\u001b[0m\u001b[0mattr\u001b[0m\u001b[0;34m]\u001b[0m\u001b[0;34m)\u001b[0m\u001b[0;34m\u001b[0m\u001b[0;34m\u001b[0m\u001b[0m\n\u001b[1;32m    351\u001b[0m         \u001b[0;32melse\u001b[0m\u001b[0;34m:\u001b[0m\u001b[0;34m\u001b[0m\u001b[0;34m\u001b[0m\u001b[0m\n\u001b[0;32m--> 352\u001b[0;31m             raise AttributeError(\n\u001b[0m\u001b[1;32m    353\u001b[0m                 \u001b[0;34mf\"'{type(self)}' object has no attribute '{attr}'\"\u001b[0m\u001b[0;34m\u001b[0m\u001b[0;34m\u001b[0m\u001b[0m\n\u001b[1;32m    354\u001b[0m             )\n",
      "\u001b[0;31mAttributeError\u001b[0m: '<class 'skimage.measure._regionprops.RegionProperties'>' object has no attribute 'centroid_weighted'"
     ]
    }
   ],
   "source": [
    "test_region.centroid_weighted"
   ]
  },
  {
   "cell_type": "code",
   "execution_count": 124,
   "metadata": {},
   "outputs": [],
   "source": [
    "from skimage.measure import moments_central, moments\n",
    "M = moments(test)\n",
    "centroid = (M[1, 0] / M[0, 0], M[0, 1] / M[0, 0])\n",
    "# moments_central(image, centroid)"
   ]
  },
  {
   "cell_type": "code",
   "execution_count": 125,
   "metadata": {},
   "outputs": [
    {
     "data": {
      "text/plain": [
       "(array([34.74915063, 34.79952865, 34.85318139, 34.91002107]),\n",
       " array([227.59680551, 229.33249498, 231.1400795 , 233.01540956]))"
      ]
     },
     "execution_count": 125,
     "metadata": {},
     "output_type": "execute_result"
    }
   ],
   "source": [
    "centroid"
   ]
  },
  {
   "cell_type": "code",
   "execution_count": 127,
   "metadata": {},
   "outputs": [
    {
     "data": {
      "text/plain": [
       "89"
      ]
     },
     "execution_count": 127,
     "metadata": {},
     "output_type": "execute_result"
    }
   ],
   "source": [
    "test.max()"
   ]
  },
  {
   "cell_type": "code",
   "execution_count": 185,
   "metadata": {},
   "outputs": [
    {
     "data": {
      "text/plain": [
       "(234.7540002025629, 270.74278274247416)"
      ]
     },
     "execution_count": 185,
     "metadata": {},
     "output_type": "execute_result"
    }
   ],
   "source": [
    "import cv2\n",
    "test=lifetimes[-1]\n",
    "test = test.astype(float)\n",
    "t = np.mean(test, axis=0)\n",
    "t[t>0] = np.reciprocal(t[t>0])\n",
    "# t = np.reciprocal(t)\n",
    "# t[t>0] -= t.max()\n",
    "# t = t * -1\n",
    "mo = cv2.moments(t,binaryImage=False)\n",
    "xs = mo['m10']/mo['m00']\n",
    "ys = mo['m01']/mo['m00']\n",
    "# ys = mo['m01']/mo['m00']\n",
    "ys, xs"
   ]
  },
  {
   "cell_type": "code",
   "execution_count": 168,
   "metadata": {},
   "outputs": [
    {
     "data": {
      "text/plain": [
       "(36.56324522638206, 230.88815698046082, 267.2552322187943)"
      ]
     },
     "execution_count": 168,
     "metadata": {},
     "output_type": "execute_result"
    }
   ],
   "source": [
    "test_region.centroid"
   ]
  },
  {
   "cell_type": "code",
   "execution_count": 173,
   "metadata": {},
   "outputs": [
    {
     "data": {
      "text/plain": [
       "(nan, nan)"
      ]
     },
     "execution_count": 173,
     "metadata": {},
     "output_type": "execute_result"
    }
   ],
   "source": [
    "import cv2\n",
    "test = mask[-1]\n",
    "test = test.astype(float)\n",
    "\n",
    "# t = test.sum(axis=0)\n",
    "mo = cv2.moments(t,binaryImage=False)\n",
    "xs = mo['m10']/mo['m00']\n",
    "ys = mo['m01']/mo['m00']\n",
    "# ys = mo['m01']/mo['m00']\n",
    "ys, xs"
   ]
  },
  {
   "cell_type": "code",
   "execution_count": 187,
   "metadata": {},
   "outputs": [
    {
     "data": {
      "text/plain": [
       "-50.80778956198833"
      ]
     },
     "execution_count": 187,
     "metadata": {},
     "output_type": "execute_result"
    }
   ],
   "source": [
    "x,y = (267.25-234.75) , (230.89-270.75)\n",
    "np.degrees(np.arctan2(y,x))"
   ]
  },
  {
   "cell_type": "code",
   "execution_count": 194,
   "metadata": {},
   "outputs": [
    {
     "data": {
      "text/plain": [
       "<matplotlib.image.AxesImage at 0x7ffdb017cf10>"
      ]
     },
     "execution_count": 194,
     "metadata": {},
     "output_type": "execute_result"
    },
    {
     "data": {
      "image/png": "[encoded data removed]",
      "text/plain": [
       "<Figure size 432x288 with 1 Axes>"
      ]
     },
     "metadata": {
      "needs_background": "light"
     },
     "output_type": "display_data"
    }
   ],
   "source": [
    "t[t!=0] = 1\n",
    "# t[234:236,269:271]=10\n",
    "t[223:225,271:273]=10\n",
    "plt.imshow(t)"
   ]
  },
  {
   "cell_type": "code",
   "execution_count": 191,
   "metadata": {},
   "outputs": [
    {
     "data": {
      "text/plain": [
       "(224.56065958693225, 272.3185131844901)"
      ]
     },
     "execution_count": 191,
     "metadata": {},
     "output_type": "execute_result"
    }
   ],
   "source": [
    "import cv2\n",
    "test=lifetimes[-1]\n",
    "test = test.astype(float)\n",
    "t = np.mean(test, axis=0)\n",
    "t[t>5] = 0\n",
    "# plt.imshow(t)\n",
    "mo = cv2.moments(t,binaryImage=False)\n",
    "xs = mo['m10']/mo['m00']\n",
    "ys = mo['m01']/mo['m00']\n",
    "# ys = mo['m01']/mo['m00']\n",
    "ys, xs"
   ]
  },
  {
   "cell_type": "code",
   "execution_count": 179,
   "metadata": {},
   "outputs": [
    {
     "data": {
      "text/plain": [
       "56.0"
      ]
     },
     "execution_count": 179,
     "metadata": {},
     "output_type": "execute_result"
    }
   ],
   "source": [
    "np.reciprocal(t[t>0]).max()"
   ]
  },
  {
   "cell_type": "code",
   "execution_count": 180,
   "metadata": {},
   "outputs": [],
   "source": [
    "t[t>0] = np.reciprocal(t[t>0])"
   ]
  },
  {
   "cell_type": "code",
   "execution_count": 220,
   "metadata": {},
   "outputs": [
    {
     "data": {
      "text/plain": [
       "((18.499021526418787, 78.06457925636008, 275.4021526418787),\n",
       " (18.473759870817826, 108.90348752486166, 259.157224158642))"
      ]
     },
     "execution_count": 220,
     "metadata": {},
     "output_type": "execute_result"
    }
   ],
   "source": [
    "test = lifetimes[-1].astype(float)\n",
    "# test = test/4\n",
    "t1 = test.copy()\n",
    "t1[t1<60] = 0\n",
    "t1 = t1.astype('uint8')\n",
    "t1_center = regionprops(t1)[0].centroid\n",
    "t2 = test.copy()\n",
    "t2[t2>20] = 0\n",
    "t2 = t2.astype('uint8')\n",
    "t2_center = regionprops(t2)[0].centroid\n",
    "t1_center, t2_center"
   ]
  },
  {
   "cell_type": "code",
   "execution_count": 221,
   "metadata": {},
   "outputs": [
    {
     "data": {
      "text/plain": [
       "<matplotlib.image.AxesImage at 0x7ffdd1cbe1c0>"
      ]
     },
     "execution_count": 221,
     "metadata": {},
     "output_type": "execute_result"
    },
    {
     "data": {
      "image/png": "[encoded data removed]",
      "text/plain": [
       "<Figure size 432x288 with 1 Axes>"
      ]
     },
     "metadata": {
      "needs_background": "light"
     },
     "output_type": "display_data"
    }
   ],
   "source": [
    "t_plot = test.sum(axis=0)\n",
    "t_plot[t_plot!=0] = 1\n",
    "t_plot[77:79,274:276]=5\n",
    "t_plot[108:110,258:260]=10\n",
    "plt.imshow(t_plot)"
   ]
  },
  {
   "cell_type": "code",
   "execution_count": 222,
   "metadata": {},
   "outputs": [
    {
     "data": {
      "text/plain": [
       "117.77879489919786"
      ]
     },
     "execution_count": 222,
     "metadata": {},
     "output_type": "execute_result"
    }
   ],
   "source": [
    "x,y = (t2_center[-1]-t1_center[-1]) , (t2_center[-2]-t1_center[-2])\n",
    "np.degrees(np.arctan2(y,x))"
   ]
  },
  {
   "cell_type": "code",
   "execution_count": 216,
   "metadata": {},
   "outputs": [
    {
     "data": {
      "text/plain": [
       "<matplotlib.image.AxesImage at 0x7ffdd1c62070>"
      ]
     },
     "execution_count": 216,
     "metadata": {},
     "output_type": "execute_result"
    },
    {
     "data": {
      "image/png": "[encoded data removed]",
      "text/plain": [
       "<Figure size 432x288 with 1 Axes>"
      ]
     },
     "metadata": {
      "needs_background": "light"
     },
     "output_type": "display_data"
    }
   ],
   "source": [
    "t_plot = test.sum(axis=0)\n",
    "t_plot[t_plot!=0] = 1\n",
    "t_plot[257:259,238:240]=5\n",
    "t_plot[230:232,267:268]=10\n",
    "plt.imshow(t_plot)"
   ]
  },
  {
   "cell_type": "code",
   "execution_count": 206,
   "metadata": {},
   "outputs": [
    {
     "data": {
      "text/plain": [
       "-44.15026086389054"
      ]
     },
     "execution_count": 206,
     "metadata": {},
     "output_type": "execute_result"
    }
   ],
   "source": [
    "x,y = (t2_center[-1]-t1_center[-1]) , (t2_center[-2]-t1_center[-2])\n",
    "np.degrees(np.arctan2(y,x))"
   ]
  },
  {
   "cell_type": "code",
   "execution_count": 23,
   "metadata": {},
   "outputs": [
    {
     "data": {
      "text/plain": [
       "(35979.0, 19854.0, 10192.0, 3880.0)"
      ]
     },
     "execution_count": 23,
     "metadata": {},
     "output_type": "execute_result"
    }
   ],
   "source": [
    "test[test==1].sum(),test[test==2].sum()/2, test[test==4].sum()/4, test[test==10].sum()/10"
   ]
  },
  {
   "cell_type": "code",
   "execution_count": 215,
   "metadata": {},
   "outputs": [
    {
     "data": {
      "text/plain": [
       "((36.56324522638205, 230.88815698046082, 267.2552322187943),\n",
       " (36.56324522638206, 230.88815698046082, 267.2552322187943))"
      ]
     },
     "execution_count": 215,
     "metadata": {},
     "output_type": "execute_result"
    }
   ],
   "source": [
    "test = lifetimes[-1]\n",
    "test = test.astype('uint16')\n",
    "test_region = regionprops(test,intensity_image=test)[0]\n",
    "test_region.centroid_weighted, test_region.centroid"
   ]
  },
  {
   "cell_type": "code",
   "execution_count": 8,
   "metadata": {},
   "outputs": [
    {
     "data": {
      "text/plain": [
       "array([1, 1, 1, 1, 1, 1])"
      ]
     },
     "execution_count": 8,
     "metadata": {},
     "output_type": "execute_result"
    }
   ],
   "source": [
    "test = np.array([1,0,0,1,1])\n",
    "binary_fill_holes(test).astype(int)"
   ]
  },
  {
   "cell_type": "markdown",
   "metadata": {},
   "source": [
    "For explanation of the the individual columns in the result csv file, expand the next cell"
   ]
  },
  {
   "cell_type": "code",
   "execution_count": 2,
   "metadata": {},
   "outputs": [
    {
     "data": {
      "text/plain": [
       "'\" Results\\' columns\\' description \\n\\'neuron\\':  neuron name extracted from file name\\n\\'subtype\\': neuron name extracted from file name\\n\\'entry_point\\': entry point of the neuron, read from seperate txt file\\n\\n\\'volume\\': number of pixels in the 3D masked image\\n\\'net_area\\': number of pixels in the 2D masked image (the 2D is a sum projection of the 3D image)\\n\\'area\\': area of the convex_hull surronding the 2D image (obtained from skimage.measure.regionprops)\\n\\'AP_spread\\': (max-min) of value pixels index in last (x) dimension of the 2D image\\n\\'DV_spread\\': (max-min) of value pixels index in (y) dimension of the 2D image\\n\\n\\'density_2D\\': solidity value obtained from skimage.measure.regionprops on the 2D image\\n\\'density_3D\\': pixel count of 3D image/pixel count of 3D convexhull \\n\\'object_perimeter\\': object perimenter value obtained from skimage.measure.regionprops on the 2D image\\n\\'convex_perimeter\\': perimeter of the surronding convex_hull\\n\\n\\'circularity\\': (4*np.pi*convex_area)/(convex_perimeter**2)\\n\\'compactness\\': object_perimeter**2/(4*np.pi*net_area)\\n\\'surface_area\\': mesh_surface_area of the marching_cubes on the 3D masked image\\n\\'eccentricity\\': eccentricity value obtained from skimage.measure.regionprops on the 2D image \\n>>>> change to 3D >>>>  \\'convexity\\': convex_perimeter/object_perimeter (maybe try surface_area/3D_image_convex_surface area)\\n\\'orientation\\': orientation value obtained from skimage.measure.regionprops on the 2D image \\n\\'feret_diameter_max\\': feret_diameter_max value obtained from skimage.measure.regionprops on the 2D image \\n\\'DGI\\':\\n\\n\\'centroidZ\\': Z position of the centroid from regionprops on the 3D masked image \\n\\'centroidY\\': Y position of the centroid from regionprops on the 3D masked image \\n\\'centroidX\\': X position of the centroid from regionprops on the 3D masked image \\n\\'cen_EP_dis\\': ecludian distance of the centroid from the entry point\\n\\'cen_EP_angle\\': angle of the line between centroid from the entry point (np.arctan2)\\n\\n£££ PCA analysis\\n\\'asymmetry\\':\\n\\'xP_weight\\', \\'xP_scale\\',\\'xP_angle\\',\\'xP_xy\\':\\n\\'xN_weight\\',\\'xN_scale\\',\\'xN_angle\\',\\'xN_xy\\',\\n\\'yP_weight\\',\\'yP_scale\\',\\'yP_angle\\',\\'yP_xy\\',\\n\\'yN_weight\\',\\'yN_scale\\',\\'yN_angle\\',\\'yN_xy\\',\\n\\'PCA_angle\\':\\n\\'PCA_xy\\':\\n\\'PCA_shift_centroid\\':\\n'"
      ]
     },
     "execution_count": 2,
     "metadata": {},
     "output_type": "execute_result"
    }
   ],
   "source": [
    "\"\"\"\" Results' columns' description \n",
    "'neuron':  neuron name extracted from file name\n",
    "'subtype': neuron name extracted from file name\n",
    "'entry_point': entry point of the neuron, read from seperate txt file\n",
    "\n",
    "'volume': number of pixels in the 3D masked image\n",
    "'net_area': number of pixels in the 2D masked image (the 2D is a sum projection of the 3D image)\n",
    "'area': area of the convex_hull surronding the 2D image (obtained from skimage.measure.regionprops)\n",
    "'AP_spread': (max-min) of value pixels index in last (x) dimension of the 2D image\n",
    "'DV_spread': (max-min) of value pixels index in (y) dimension of the 2D image\n",
    "\n",
    "'density_2D': solidity value obtained from skimage.measure.regionprops on the 2D image\n",
    "'density_3D': pixel count of 3D image/pixel count of 3D convexhull \n",
    "'object_perimeter': object perimenter value obtained from skimage.measure.regionprops on the 2D image\n",
    "'convex_perimeter': perimeter of the surronding convex_hull\n",
    "\n",
    "'circularity': (4*np.pi*convex_area)/(convex_perimeter**2)\n",
    "'compactness': object_perimeter**2/(4*np.pi*net_area)\n",
    "'surface_area': mesh_surface_area of the marching_cubes on the 3D masked image\n",
    "'eccentricity': eccentricity value obtained from skimage.measure.regionprops on the 2D image \n",
    ">>>> change to 3D >>>>  'convexity': convex_perimeter/object_perimeter (maybe try surface_area/3D_image_convex_surface area)\n",
    "'orientation': orientation value obtained from skimage.measure.regionprops on the 2D image \n",
    "'feret_diameter_max': feret_diameter_max value obtained from skimage.measure.regionprops on the 2D image \n",
    "'DGI':\n",
    "\n",
    "'centroidZ': Z position of the centroid from regionprops on the 3D masked image \n",
    "'centroidY': Y position of the centroid from regionprops on the 3D masked image \n",
    "'centroidX': X position of the centroid from regionprops on the 3D masked image \n",
    "'cen_EP_dis': ecludian distance of the centroid from the entry point\n",
    "'cen_EP_angle': angle of the line between centroid from the entry point (np.arctan2)\n",
    "\n",
    "£££ PCA analysis\n",
    "'asymmetry':\n",
    "'xP_weight', 'xP_scale','xP_angle','xP_xy':\n",
    "'xN_weight','xN_scale','xN_angle','xN_xy',\n",
    "'yP_weight','yP_scale','yP_angle','yP_xy',\n",
    "'yN_weight','yN_scale','yN_angle','yN_xy',\n",
    "'PCA_angle':\n",
    "'PCA_xy':\n",
    "'PCA_shift_centroid':\n",
    "\"\"\""
   ]
  },
  {
   "cell_type": "code",
   "execution_count": 3,
   "metadata": {},
   "outputs": [],
   "source": [
    "from tqdm import tqdm\n",
    "import os\n",
    "import re\n",
    "import tifffile as tif\n",
    "\n",
    "import utils.analysis as analysis\n",
    "import utils.datautils as datautils\n",
    "\n",
    "import numpy as np\n",
    "from skimage.measure import regionprops, marching_cubes, mesh_surface_area, perimeter\n",
    "import pandas as pd\n",
    "import math\n",
    "from scipy.spatial import ConvexHull\n",
    "\n",
    "import matplotlib.pyplot as plt\n",
    "from matplotlib import colors\n",
    "import matplotlib.patches as mpatches\n",
    "# import seaborn as sns\n",
    "%matplotlib inline\n",
    "\n",
    "from timeit import default_timer as timer\n",
    "from multiprocessing import cpu_count, Process, Pool"
   ]
  },
  {
   "cell_type": "code",
   "execution_count": 4,
   "metadata": {},
   "outputs": [],
   "source": [
    "#  input and save paths\n",
    "data_path = '/home/tli_project/Desktop/Data/T4/neurons/SubtypeB/'\n",
    "save_path = '/home/tli_project/Desktop/Data/T4/neurons/SubtypeB/output/'\n",
    "subtype = 'B'\n",
    "# stab_limit = 5 #(No. of timepoints for stable branches calculation)\n",
    "start_age = 37"
   ]
  },
  {
   "cell_type": "code",
   "execution_count": 5,
   "metadata": {},
   "outputs": [
    {
     "data": {
      "text/plain": [
       "['211011_P37_N1', '211107_P36_N1']"
      ]
     },
     "execution_count": 5,
     "metadata": {},
     "output_type": "execute_result"
    }
   ],
   "source": [
    "# getting list of folders in data_path, where each folder has files for one neuron\n",
    "N_folders = [name for name in os.listdir(data_path) if os.path.isdir(os.path.join(data_path, name))]\n",
    "N_folders = [f for f in N_folders if '_P' in f]\n",
    "N_folders = sorted(N_folders)\n",
    "N_folders"
   ]
  },
  {
   "cell_type": "code",
   "execution_count": 6,
   "metadata": {},
   "outputs": [],
   "source": [
    "# reading erntry_points file and converting it to dictionary of neu:[z,y,x]\n",
    "EP_file = '/home/tli_project/Desktop/Data/T4/neurons/TLI_stage1_entry_points'\n",
    "with open(EP_file) as f:\n",
    "    entry_points = f.readlines()\n",
    "entry_points = [l for l in entry_points if ': ' in l]\n",
    "entry_points = [l.rstrip('\\n').split(':') for l in entry_points]\n",
    "entry_points = {l[0]: l[1].split(',') for l in entry_points}\n",
    "entry_points = {neu:[int(x) for x in val] for neu,val in entry_points.items()}"
   ]
  },
  {
   "cell_type": "code",
   "execution_count": 7,
   "metadata": {},
   "outputs": [],
   "source": [
    "results_cols = ['timepoint', 'volume', '3D_convex_volume', 'net_area', 'area',\n",
    "                'AP_spread', 'DV_spread',\n",
    "                'density_2D', 'density_3D', 'object_perimeter', 'convex_perimeter', \n",
    "                'circularity', 'compactness', 'surface_area', '3D_convex_surface',\n",
    "                'eccentricity', 'convexity_2D', 'convexity_3D', 'orientation',\n",
    "                'feret_diameter_max',\n",
    "                'DGI',\n",
    "                'centroidZ','centroidY', 'centroidX', \n",
    "                'cen_EP_dis', 'cen_EP_angle', 'cen_EP_Y','cen_EP_X',\n",
    "                'asymmetry', 'x_asymmetry', 'y_asymmetry', 'PC1_asymmetry', 'PC2_asymmetry',\n",
    "                'xP_weight','xP_scale','xP_angle','xP_xy', #all of this part is for the results from PCA_analysis\n",
    "                'xN_weight','xN_scale','xN_angle','xN_xy',\n",
    "                'yP_weight','yP_scale','yP_angle','yP_xy',\n",
    "                'yN_weight','yN_scale','yN_angle','yN_xy',\n",
    "                'PC1_angle','PC1_x','PC1_y']\n",
    "# results_df = pd.DataFrame(columns=results_cols)\n",
    "# for i in range(100):\n",
    "#     results_df.loc[start_age+i*0.25] = [None for col in results_df.columns]"
   ]
  },
  {
   "cell_type": "code",
   "execution_count": 8,
   "metadata": {},
   "outputs": [
    {
     "name": "stderr",
     "output_type": "stream",
     "text": [
      "  0%|          | 0/2 [00:00<?, ?it/s]"
     ]
    },
    {
     "name": "stdout",
     "output_type": "stream",
     "text": [
      "first 5 files\n",
      "['/home/tli_project/Desktop/Data/T4/neurons/SubtypeB/211011_P37_N1/test_line.tif', '/home/tli_project/Desktop/Data/T4/neurons/SubtypeB/211011_P37_N1/original_cols_3.png', '/home/tli_project/Desktop/Data/T4/neurons/SubtypeB/211011_P37_N1/original_cols_2.png', '/home/tli_project/Desktop/Data/T4/neurons/SubtypeB/211011_P37_N1/original_cols_10.png', '/home/tli_project/Desktop/Data/T4/neurons/SubtypeB/211011_P37_N1/mywarpedgrid_3.png']\n"
     ]
    }
   ],
   "source": [
    "def process_image(n_file):\n",
    "    neuron_results = pd.DataFrame(columns=results_cols)\n",
    "    entry_point = entry_points[n_file][1:] # remove the first T element\n",
    "    start_im = re.search('P(.*)_N', n_file)\n",
    "    start_im = float(start_im.group(1))\n",
    "    start_ana = int((start_age - start_im)/0.25)\n",
    "    files_list = datautils.get_file_names(data_path+n_file, group_by='', \n",
    "                                        order=True, nested_files=False, \n",
    "                                        criteria='')\n",
    "    neu_path = [f for f in files_list if 'clahe' in f.lower()][0]\n",
    "    neuron = tif.imread(neu_path)\n",
    "    mask_path = [f for f in files_list if 'mask' in f.lower()][0]\n",
    "    mask = tif.imread(mask_path)\n",
    "    neuron[mask==0] = 0\n",
    "    neuron = neuron[start_ana:] #remove timepoints before start_ana from the 4D image array\n",
    "    neuron[neuron != 0] = 1\n",
    "    neu_2D = neuron.max(axis=1)\n",
    "    neuron_results['timepoint'] = [start_age+i*0.25 for i in range(len(neu_2D))]\n",
    "    neuron_results['volume'] = neuron.sum(axis=tuple(np.arange(len(neuron.shape))[1:]))\n",
    "    neuron_results['net_area'] = neu_2D.sum(axis=tuple(np.arange(len(neu_2D.shape))[1:]))\n",
    "    for t, stack in enumerate(neuron):\n",
    "        reg_prop_2D = regionprops(neu_2D[t])[0]\n",
    "        reg_prop_3D = regionprops(stack)[0]\n",
    "        neuron_results.loc[t,'density_2D'] = reg_prop_2D.solidity\n",
    "        neuron_results.loc[t,'area'] = reg_prop_2D.area_convex\n",
    "        neuron_results.loc[t,'orientation'] = reg_prop_2D.orientation\n",
    "        neuron_results.loc[t,'eccentricity'] = reg_prop_2D.eccentricity\n",
    "        neuron_results.loc[t,'feret_diameter_max'] = reg_prop_2D.feret_diameter_max\n",
    "        neuron_results.loc[t,'convex_perimeter'] = perimeter(reg_prop_2D.image_convex)\n",
    "        neuron_results.loc[t,'object_perimeter'] = reg_prop_2D.perimeter\n",
    "        neuron_results.loc[t,['centroidZ','centroidY','centroidX']] = reg_prop_3D.centroid\n",
    "        neuron_results.loc[t,'3D_convex_volume'] = reg_prop_3D.area_convex\n",
    "        neuron_results.loc[t,'density_3D'] = neuron_results.loc[t,'volume']/neuron_results.loc[t,'3D_convex_volume']\n",
    "        img_PC = reg_prop_3D.coords\n",
    "        neuron_results.loc[t,'DV_spread'] = (img_PC[:,1].max() - img_PC[:,1].min())*0.076\n",
    "        neuron_results.loc[t,'AP_spread'] = (img_PC[:,2].max() - img_PC[:,2].min())*0.076\n",
    "        centroid_EP = np.array(entry_point)-np.array(reg_prop_3D.centroid)\n",
    "        neuron_results.loc[t,'cen_EP_dis'] = np.linalg.norm(centroid_EP[1:])\n",
    "        neuron_results.loc[t,['cen_EP_Y','cen_EP_X']] = centroid_EP[1:]\n",
    "        p1 = (centroid_EP[1],centroid_EP[2])\n",
    "        neuron_results.loc[t,'cen_EP_angle'] = np.rad2deg((np.arctan2(*p1[::-1])) % (2 * np.pi))\n",
    "\n",
    "        verts, faces, normals, values = marching_cubes(stack, step_size=2, spacing=(0.4,0.076,0.076))\n",
    "        neuron_results.loc[t,'surface_area'] = mesh_surface_area(verts, faces)\n",
    "        convex_img_3D = reg_prop_3D.image_convex.astype('uint8')\n",
    "        verts, faces, normals, values = marching_cubes(convex_img_3D, step_size=2, spacing=(0.4,0.076,0.076))\n",
    "        neuron_results.loc[t,'3D_convex_surface'] = mesh_surface_area(verts, faces)\n",
    "        neuron_results.loc[t,'convexity_3D'] = neuron_results.loc[t,'3D_convex_surface']/neuron_results.loc[t,'surface_area']\n",
    "\n",
    "        asymmetry_values, PCA_df, shifted_coor = analysis.metric_dump(neu_2D[t],entry_point[1:],plot=False)\n",
    "        asymmetries = ['asymmetry', 'x_asymmetry', 'y_asymmetry', 'PC1_asymmetry', 'PC2_asymmetry']\n",
    "        neuron_results.loc[t,asymmetries]  = asymmetry_values\n",
    "\n",
    "        PCA_res = ['xP_weight','xP_scale','xP_angle','xP_xy',\n",
    "                    'xN_weight','xN_scale','xN_angle','xN_xy',\n",
    "                    'yP_weight','yP_scale','yP_angle','yP_xy',\n",
    "                    'yN_weight','yN_scale','yN_angle','yN_xy']\n",
    "        PCA_arr = np.array(PCA_df.loc[:, PCA_df.columns != 'axis'])\n",
    "        neuron_results.loc[t,PCA_res]  = PCA_arr.ravel()\n",
    "        neuron_results.loc[t,'PC1_angle'] = PCA_df.loc[PCA_df.Fraction_weight.idxmax()].Angle\n",
    "        neuron_results.loc[t,'PC1_x'] = PCA_df.loc[PCA_df.Fraction_weight.idxmax()].xy[0]\n",
    "        neuron_results.loc[t,'PC1_y'] = PCA_df.loc[PCA_df.Fraction_weight.idxmax()].xy[1]\n",
    "        # neuron_results.loc[t,'PC1_shift_centroid'] = (sum(shifted_coor[:,1]) / len(shifted_coor), sum(shifted_coor[:,0]) / len(shifted_coor))\n",
    "        \n",
    "        neuron_results.loc[t,'DGI'] = analysis.DGI_3D(stack,entry_point)\n",
    "\n",
    "    neuron_results['convexity_2D'] = neuron_results['convex_perimeter']/neuron_results['object_perimeter']\n",
    "    neuron_results['circularity'] = (4*np.pi*neuron_results['area'])/(neuron_results['convex_perimeter']**2)\n",
    "    neuron_results['compactness'] = neuron_results['object_perimeter']#     p = Pool(cpu_count()-1)\n",
    "    csv_name = save_path+n_file+'_s'+subtype+'.csv'\n",
    "    neuron_results.to_csv(csv_name)\n",
    "    return neuron_results\n",
    "\n",
    "# if __name__ == '__main__':\n",
    "#     # c = cpu_count()-1\n",
    "#     with Pool(3) as p:\n",
    "#         p.map(process_image, N_folders)\n",
    "\n",
    "for n_file in tqdm(N_folders):\n",
    "    process_image(n_file)"
   ]
  },
  {
   "cell_type": "code",
   "execution_count": null,
   "metadata": {},
   "outputs": [],
   "source": []
  },
  {
   "cell_type": "code",
   "execution_count": null,
   "metadata": {},
   "outputs": [],
   "source": []
  },
  {
   "cell_type": "code",
   "execution_count": null,
   "metadata": {},
   "outputs": [],
   "source": []
  },
  {
   "cell_type": "code",
   "execution_count": null,
   "metadata": {},
   "outputs": [],
   "source": [
    "# for i, n_file in tqdm(enumerate(N_folders)):\n",
    "#     neuron_results = pd.DataFrame(columns=results_cols)\n",
    "#     entry_point = entry_points[n_file][1:]\n",
    "#     start_im = re.search('P(.*)_N', n_file)\n",
    "#     start_im = float(start_im.group(1))\n",
    "#     start_ana = int((start_age - start_im)/0.25)\n",
    "#     files_list = datautils.get_file_names(data_path+n_file, group_by='', \n",
    "#                                         order=True, nested_files=False, \n",
    "#                                         criteria='')\n",
    "#     neu_path = [f for f in files_list if 'clahe' in f.lower()][0]\n",
    "#     neuron = tif.imread(neu_path)\n",
    "#     mask_path = [f for f in files_list if 'mask' in f.lower()][0]\n",
    "#     mask = tif.imread(mask_path)\n",
    "#     neuron[mask==0] = 0\n",
    "#     neuron = neuron[start_ana:] #remove timepoints before start_ana from the 4D image array\n",
    "#     neuron[neuron != 0] = 1\n",
    "#     neu_2D = neuron.max(axis=1)\n",
    "#     neu_2D = neuron.max(axis=1)\n",
    "#     neuron_results['timepoint'] = [start_age+i*0.25 for i in range(len(neu_2D))]\n",
    "#     neuron_results['volume'] = neuron.sum(axis=tuple(np.arange(len(neuron.shape))[1:]))\n",
    "#     neuron_results['net_area'] = neu_2D.sum(axis=tuple(np.arange(len(neu_2D.shape))[1:]))\n",
    "\n",
    "#     reg_prop_2D = []\n",
    "#     reg_prop_3D = []\n",
    "#     for t, stack in enumerate(neuron):\n",
    "#         reg_prop_2D.append(regionprops(neu_2D[t])[0])\n",
    "#         reg_prop_3D.append(regionprops(stack)[0])\n",
    "#         img_PC = reg_prop_3D[t].coords\n",
    "#         neuron_results.loc[t,'DV_spread'] = (img_PC[:,1].max() - img_PC[:,1].min())*0.076\n",
    "#         neuron_results.loc[t,'AP_spread'] = (img_PC[:,2].max() - img_PC[:,2].min())*0.076\n",
    "#         neuron_results.loc[t,'density_3D'] = neuron_results.loc[t,'volume']/regionprops(stack)[0].area_convex\n",
    "\n",
    "#         verts, faces, normals, values = marching_cubes(stack, step_size=2, spacing=(0.4,0.076,0.076))\n",
    "#         neuron_results.loc[t,'surface_area'] = mesh_surface_area(verts, faces)\n",
    "#         convex_img_3D = reg_prop_3D[t].image_convex.astype('uint8')\n",
    "#         verts, faces, normals, values = marching_cubes(convex_img_3D, step_size=2, spacing=(0.4,0.076,0.076))\n",
    "#         neuron_results.loc[t,'convexity_3D'] = mesh_surface_area(verts, faces)/neuron_results.loc[t,'surface_area']\n",
    "\n",
    "#         asymmetry_values, PCA_df, shifted_coor = analysis.metric_dump(neu_2D[t],entry_point[1:],plot=False)\n",
    "#         asymmetries = ['asymmetry', 'x_asymmetry', 'y_asymmetry', 'PC1_asymmetry', 'PC2_asymmetry']\n",
    "#         neuron_results.loc[t,asymmetries]  = asymmetry_values\n",
    "\n",
    "#         PCA_res = ['xP_weight','xP_scale','xP_angle','xP_xy',\n",
    "#                     'xN_weight','xN_scale','xN_angle','xN_xy',\n",
    "#                     'yP_weight','yP_scale','yP_angle','yP_xy',\n",
    "#                     'yN_weight','yN_scale','yN_angle','yN_xy']\n",
    "#         PCA_arr = np.array(PCA_df.loc[:, PCA_df.columns != 'axis'])\n",
    "#         neuron_results.loc[t,PCA_res]  = PCA_arr.ravel()\n",
    "#         neuron_results.loc[t,'PC1_angle'] = PCA_df.loc[PCA_df.Fraction_weight.idxmax()].Angle\n",
    "#         neuron_results.loc[t,'PC1_x'] = PCA_df.loc[PCA_df.Fraction_weight.idxmax()].xy[0]\n",
    "#         neuron_results.loc[t,'PC1_y'] = PCA_df.loc[PCA_df.Fraction_weight.idxmax()].xy[1]\n",
    "\n",
    "#         neuron_results.loc[t,['centroidZ','centroidY','centroidX']] = reg_prop_3D[t].centroid\n",
    "#         centroid_EP = np.array(entry_point)-np.array(reg_prop_3D[t].centroid)\n",
    "#         neuron_results.loc[t,'cen_EP_dis'] = np.linalg.norm(centroid_EP[1:])\n",
    "#         neuron_results.loc[t,['cen_EP_Y','cen_EP_X']] = centroid_EP[1:]\n",
    "#         p1 = (centroid_EP[1],centroid_EP[2])\n",
    "#         neuron_results.loc[t,'cen_EP_angle'] = np.rad2deg((np.arctan2(*p1[::-1])) % (2 * np.pi))\n",
    "\n",
    "\n",
    "#     del neuron, neu_2D\n",
    "#     neuron_results['density_2D'] = [r.solidity for r in reg_prop_2D]\n",
    "#     # neuron_results['density_3D'] = [r.area_convex for r in reg_prop_3D]\n",
    "#     # neuron_results['density_3D'] = neuron_results.loc[t,'volume']/neuron_results['density_3D']\n",
    "#     neuron_results['area'] = [r.area_convex for r in reg_prop_2D]\n",
    "#     neuron_results['orientation'] = [r.orientation for r in reg_prop_2D]\n",
    "#     neuron_results['eccentricity'] = [r.eccentricity for r in reg_prop_2D]\n",
    "#     neuron_results['feret_diameter_max'] = [r.feret_diameter_max for r in reg_prop_2D]\n",
    "#     neuron_results['convex_perimeter'] = [perimeter(r.image_convex) for r in reg_prop_2D]\n",
    "#     neuron_results['object_perimeter'] = [r.perimeter for r in reg_prop_2D]\n",
    "#     neuron_results['convexity_2D'] = neuron_results['convex_perimeter']/neuron_results['object_perimeter']\n",
    "#     neuron_results['circularity'] = (4*np.pi*neuron_results['area'])/(neuron_results['convex_perimeter']**2)\n",
    "#     neuron_results['compactness'] = neuron_results['object_perimeter']**2/(4*np.pi*neuron_results['net_area'])\n",
    "#     del reg_prop_2D, reg_prop_3D\n",
    "\n",
    "#     csv_name = save_path+n_file+'_s'+subtype+'_new_111.csv'\n",
    "#     neuron_results.to_csv(csv_name)"
   ]
  },
  {
   "cell_type": "code",
   "execution_count": null,
   "metadata": {},
   "outputs": [],
   "source": []
  }
 ],
 "metadata": {
  "kernelspec": {
   "display_name": "Python 3.9.6 ('growth')",
   "language": "python",
   "name": "python3"
  },
  "language_info": {
   "codemirror_mode": {
    "name": "ipython",
    "version": 3
   },
   "file_extension": ".py",
   "mimetype": "text/x-python",
   "name": "python",
   "nbconvert_exporter": "python",
   "pygments_lexer": "ipython3",
   "version": "3.9.6"
  },
  "orig_nbformat": 4,
  "vscode": {
   "interpreter": {
    "hash": "3558778624732e82e76d08d0e1529767d5d68faabf4350c6a5545e8ecf2497ca"
   }
  }
 },
 "nbformat": 4,
 "nbformat_minor": 2
}
