{
 "cells": [
  {
   "cell_type": "code",
   "execution_count": 1,
   "metadata": {},
   "outputs": [],
   "source": [
    "# read txt document of entry points\n",
    "# also iterate over all tif files (adult 3D mask images) in the same path and perform analysis \n",
    "# all analysis except column analysis "
   ]
  },
  {
   "cell_type": "code",
   "execution_count": 2,
   "metadata": {},
   "outputs": [],
   "source": [
    "#  input and save paths\n",
    "data_path = '/home/tli_project/Desktop/Data/T4/neurons/SubtypeC/'\n",
    "save_path = '/home/tli_project/Desktop/Data/T4/neurons/SubtypeC/output/stable_9_Nov/'\n",
    "subtype = 'C'\n",
    "start_age = 37 # not used here\n",
    "stab_limit = 9 #put limit "
   ]
  },
  {
   "cell_type": "code",
   "execution_count": 3,
   "metadata": {},
   "outputs": [],
   "source": [
    "cols_names = ['0,0', '0,1', '1,1', '1,0', \n",
    "              '0,-1', '-1,-1', '-1,0', \n",
    "              '0,2','0,-2',\n",
    "              '1,2', '1,3', '1,4',\n",
    "              '1,-1', '1,-2', '1,-3', '1,-4',\n",
    "              '2,0', '2,1', '2,2', '2,3', '2,4', \n",
    "              '2,-1', '2,-2', '2,-3', '2,-4',\n",
    "              '-1,1', '-1,2', '-1,3', '-1,4',\n",
    "              '-1,-2', '-1,-3', '-1,-4',\n",
    "              '-2,0', '-2,1', '-2,2', '-2,3', '-2,4', \n",
    "              '-2,-1', '-2,-2', '-2,-3', '-2,-4']\n",
    "\n",
    "cols_px_vals = {col:i+1 for i, col in enumerate(cols_names)}"
   ]
  },
  {
   "cell_type": "code",
   "execution_count": 4,
   "metadata": {},
   "outputs": [],
   "source": [
    "# cols_px_vals = {'0,0': 1, '0,1': 2, '1,1': 3, '1,0': 4, \n",
    "#                 '0,-1': 5, '-1,-1': 6, '-1,0': 7, \n",
    "#                 '0,2': 8,'0,-2': 9,\n",
    "#                 '1,2': 10, '1,-1':11, '1,-2': 12,\n",
    "#                 '-1,2': 12,'-1,-2': 13,\n",
    "#                 '-2,-1':14, '2,1':15,\n",
    "#                 '-2,-2':16, '-2,-3':17}"
   ]
  },
  {
   "cell_type": "code",
   "execution_count": 5,
   "metadata": {},
   "outputs": [],
   "source": [
    "import os\n",
    "import utils.analysis as analysis\n",
    "import utils.datautils as datautils\n",
    "import matplotlib.pyplot as plt\n",
    "import tifffile as tif\n",
    "import numpy as np\n",
    "import re\n",
    "from tqdm import tqdm\n",
    "import pandas as pd\n",
    "import math\n",
    "from read_roi import read_roi_zip as col_zip\n",
    "from scipy import ndimage, spatial"
   ]
  },
  {
   "cell_type": "code",
   "execution_count": 6,
   "metadata": {},
   "outputs": [
    {
     "data": {
      "text/plain": [
       "['211104_P36_N1',\n",
       " '211104_P36_N3',\n",
       " '211107_P36_N2',\n",
       " '211113_P36_N1',\n",
       " '211114_P36_N3',\n",
       " '211121_P36.5_N3',\n",
       " '220209_P36_N1']"
      ]
     },
     "execution_count": 6,
     "metadata": {},
     "output_type": "execute_result"
    }
   ],
   "source": [
    "# getting list of folders in data_path, where each folder has files for one neuron\n",
    "N_folders = [name for name in os.listdir(data_path) if os.path.isdir(os.path.join(data_path, name))]\n",
    "N_folders = [f for f in N_folders if '_P' in f]\n",
    "N_folders = sorted(N_folders)\n",
    "N_folders"
   ]
  },
  {
   "cell_type": "code",
   "execution_count": 7,
   "metadata": {},
   "outputs": [],
   "source": [
    "def get_cols_labeled_neuron(n_file, cols_px_vals):\n",
    "\n",
    "    # openning the cols_zip file\n",
    "    cols_path = [f for f in files_list if 'colrois' in f.lower()][0]\n",
    "    Cols = col_zip(cols_path)\n",
    "\n",
    "    # entry_point = entry_points[n_file][1:] # remove the first T element\n",
    "    start_im = re.search('P(.*)_N', n_file)\n",
    "    start_im = float(start_im.group(1))\n",
    "    start_ana = int((start_age - start_im)/0.25)\n",
    "    files_list = datautils.get_file_names(data_path+n_file, group_by='', \n",
    "                                        order=True, nested_files=False, \n",
    "                                        criteria='')\n",
    "    neu_path = [f for f in files_list if 'clahe' in f.lower()][0]\n",
    "    neuron = tif.imread(neu_path)\n",
    "    mask_path = [f for f in files_list if 'mask' in f.lower()][0]\n",
    "    mask = tif.imread(mask_path)\n",
    "    neuron[mask==0] = 0\n",
    "\n",
    "    # in case you want to crop the image to certain timeponit-start \n",
    "    neuron = neuron[start_ana:] #remove timepoints before start_ana from the 4D image array\n",
    "\n",
    "    if stab_limit > 1:\n",
    "        lifetimes = analysis.cal_lifetimes(neuron, save=False)\n",
    "        neuron = lifetimes.copy()\n",
    "        neuron[neuron<stab_limit] = 0\n",
    "        trans_px = lifetimes.copy()\n",
    "        trans_px[trans_px>=stab_limit] = 0\n",
    "        trans_px[trans_px != 0] = 1\n",
    "\n",
    "    # get columns centroids (only three are needed but the code is simpler this way)\n",
    "    cols_centroids = {}\n",
    "    for col, val in Cols.items():\n",
    "        if val['type'] == 'oval':\n",
    "                x0 = val['left']+int(val['width']/2); a = int(val['width']/2)  # x center, half width                                       \n",
    "                y0 = val['top']+int(val['height']/2); b = int(val['height']/2)  # y center, half height  \n",
    "                cols_centroids[col] = (y0,x0,a,b) \n",
    "    \n",
    "    #[N,2] array of centroids of all the columns\n",
    "    cols_centroids_arr = np.array([(i[0],i[1]) for i in cols_centroids.values()])\n",
    "    cols_names = list(cols_centroids.keys())\n",
    "    # cols_px_vals = {col:i+1 for i, col in enumerate(cols_centroids.keys())}\n",
    "\n",
    "    # get the mask of each col based on distances from centroids \n",
    "    neu_PC = np.argwhere(np.ones_like(neuron[0,0])) #getting a point cloud of all the possible px in 2D [Y,X] array\n",
    "    cols_masks = np.zeros_like(neuron[0,0])\n",
    "    for px in tqdm(neu_PC):\n",
    "        dist, ind = spatial.KDTree(cols_centroids_arr).query(px)\n",
    "        col = cols_names[ind]\n",
    "        cols_masks[px[0],px[1]] = cols_px_vals[col]\n",
    "    \n",
    "    mask_4D = np.broadcast_to(cols_masks, neuron.shape)\n",
    "    col_labeled_neuron = neuron.copy()\n",
    "    col_labeled_neuron[col_labeled_neuron!=0] = 1\n",
    "    col_labeled_neuron = col_labeled_neuron * mask_4D\n",
    "    \n",
    "    # saving the result labeled image\n",
    "    col_labeled_neuron = col_labeled_neuron.astype('uint8')\n",
    "    name = save_path+n_file+'_stable'+str(stab_limit)+'_s'+subtype+'_cols_labeled.tif'\n",
    "    tif.imwrite(name, col_labeled_neuron, imagej=True, resolution=(1./0.076, 1./0.076),\n",
    "                metadata={'spacing': 0.4, 'unit': 'um', 'finterval': 1/10, 'axes':'TZYX'})\n",
    "\n",
    "    # option for saving the mask\n",
    "    name = save_path+n_file+'_stable'+str(stab_limit)+'_s'+subtype+'_cols_mask.tif'\n",
    "    tif.imwrite(name, cols_masks, imagej=True, resolution=(1./0.076, 1./0.076),\n",
    "                metadata={'spacing': 0.4, 'unit': 'um', 'finterval': 1/10, 'axes':'YX'})\n",
    "\n",
    "    return col_labeled_neuron, cols_masks\n",
    "\n",
    "def calc_col_occupancy(n_file, cols_px_vals):\n",
    "    col_labeled_neuron, cols_masks = get_cols_labeled_neuron(n_file, cols_px_vals)\n",
    "    col_occ_df_cols = list(cols_px_vals.keys())\n",
    "    col_occ_df_cols = col_occ_df_cols.insert(0,'timepoint')\n",
    "    col_occ_df = pd.DataFrame(columns=col_occ_df_cols)\n",
    "    for i, frame in enumerate(col_labeled_neuron):\n",
    "        t = start_age+i*0.25\n",
    "        result_line = {'timepoint':t}\n",
    "        for col, val in cols_px_vals.items():\n",
    "            result_line[col] = len(frame[frame == val])\n",
    "        col_occ_df = col_occ_df.append(result_line, ignore_index=True)\n",
    "    col_occ_df = col_occ_df.loc[:,col_occ_df.sum()!=0]\n",
    "    col_occ_df.to_csv(save_path+n_file+'_stable'+str(stab_limit)+'_s'+subtype+'_cols_occupanies.csv')\n",
    "    return col_occ_df"
   ]
  },
  {
   "cell_type": "code",
   "execution_count": 8,
   "metadata": {},
   "outputs": [
    {
     "name": "stderr",
     "output_type": "stream",
     "text": [
      "  0%|          | 0/7 [00:00<?, ?it/s]"
     ]
    },
    {
     "name": "stdout",
     "output_type": "stream",
     "text": [
      "first 5 files\n",
      "['/home/tli_project/Desktop/Data/T4/neurons/SubtypeC/211104_P36_N1/211104_P36_N1_R260_clahe.tif', '/home/tli_project/Desktop/Data/T4/neurons/SubtypeC/211104_P36_N1/211104_P36_N1_R260_JE_mask.tif', '/home/tli_project/Desktop/Data/T4/neurons/SubtypeC/211104_P36_N1/211104_P36_N1_R260_ColRois.zip', '/home/tli_project/Desktop/Data/T4/neurons/SubtypeC/211104_P36_N1/211104_P36_N1_R260_5D.tif', '/home/tli_project/Desktop/Data/T4/neurons/SubtypeC/211104_P36_N1/211104_P36_N1_CropRoi.roi']\n"
     ]
    },
    {
     "name": "stderr",
     "output_type": "stream",
     "text": [
      "100%|██████████| 84/84 [00:02<00:00, 36.42it/s]\n",
      "100%|██████████| 160000/160000 [00:04<00:00, 33903.86it/s]\n",
      " 14%|█▍        | 1/7 [00:20<02:05, 20.94s/it]"
     ]
    },
    {
     "name": "stdout",
     "output_type": "stream",
     "text": [
      "first 5 files\n",
      "['/home/tli_project/Desktop/Data/T4/neurons/SubtypeC/211104_P36_N3/211104_P36_N3_R290_colRois.zip', '/home/tli_project/Desktop/Data/T4/neurons/SubtypeC/211104_P36_N3/211104_P36_N3_R290_clahe.tif', '/home/tli_project/Desktop/Data/T4/neurons/SubtypeC/211104_P36_N3/211104_P36_N3_R290_JE_mask.tif', '/home/tli_project/Desktop/Data/T4/neurons/SubtypeC/211104_P36_N3/211104_P36_N3_R290_5D.tif', '/home/tli_project/Desktop/Data/T4/neurons/SubtypeC/211104_P36_N3/211104_P36_N3_CropRoi.roi']\n"
     ]
    },
    {
     "name": "stderr",
     "output_type": "stream",
     "text": [
      "100%|██████████| 84/84 [00:01<00:00, 44.05it/s]\n",
      "100%|██████████| 160000/160000 [00:06<00:00, 23409.52it/s]\n",
      " 29%|██▊       | 2/7 [00:39<01:37, 19.58s/it]"
     ]
    },
    {
     "name": "stdout",
     "output_type": "stream",
     "text": [
      "first 5 files\n",
      "['/home/tli_project/Desktop/Data/T4/neurons/SubtypeC/211107_P36_N2/211107_P36_N2_R250_clahe.tif', '/home/tli_project/Desktop/Data/T4/neurons/SubtypeC/211107_P36_N2/211107_P36_N2_R250_JE_mask.tif', '/home/tli_project/Desktop/Data/T4/neurons/SubtypeC/211107_P36_N2/211107_P36_N2_R250_ColRois.zip', '/home/tli_project/Desktop/Data/T4/neurons/SubtypeC/211107_P36_N2/211107_P36_N2_R250_5D.tif', '/home/tli_project/Desktop/Data/T4/neurons/SubtypeC/211107_P36_N2/211107_P36_N2_CropRoi.roi']\n"
     ]
    },
    {
     "name": "stderr",
     "output_type": "stream",
     "text": [
      "100%|██████████| 87/87 [00:02<00:00, 34.56it/s]\n",
      "100%|██████████| 160000/160000 [00:07<00:00, 22125.90it/s]\n",
      " 43%|████▎     | 3/7 [01:00<01:20, 20.12s/it]"
     ]
    },
    {
     "name": "stdout",
     "output_type": "stream",
     "text": [
      "first 5 files\n",
      "['/home/tli_project/Desktop/Data/T4/neurons/SubtypeC/211113_P36_N1/211113_P36_N1_FlipV_R230_clahe.tif', '/home/tli_project/Desktop/Data/T4/neurons/SubtypeC/211113_P36_N1/211113_P36_N1_FlipV_R230_JE_mask.tif', '/home/tli_project/Desktop/Data/T4/neurons/SubtypeC/211113_P36_N1/211113_P36_N1_FlipV_R230_ColRois.zip', '/home/tli_project/Desktop/Data/T4/neurons/SubtypeC/211113_P36_N1/211113_P36_N1_FlipV_R230_5D.tif', '/home/tli_project/Desktop/Data/T4/neurons/SubtypeC/211113_P36_N1/211113_P36_N1_CropRoi.roi']\n"
     ]
    },
    {
     "name": "stderr",
     "output_type": "stream",
     "text": [
      "100%|██████████| 81/81 [00:02<00:00, 28.19it/s]\n",
      "100%|██████████| 160000/160000 [00:08<00:00, 18498.39it/s]\n",
      " 57%|█████▋    | 4/7 [01:24<01:05, 21.88s/it]"
     ]
    },
    {
     "name": "stdout",
     "output_type": "stream",
     "text": [
      "first 5 files\n",
      "['/home/tli_project/Desktop/Data/T4/neurons/SubtypeC/211114_P36_N3/211114_P36_N3_flipV_R250_ColRois.zip', '/home/tli_project/Desktop/Data/T4/neurons/SubtypeC/211114_P36_N3/211114_P36_N3_Z15.55_5D.tif', '/home/tli_project/Desktop/Data/T4/neurons/SubtypeC/211114_P36_N3/211114_P36_N3_FlipV_R250_clahe.tif', '/home/tli_project/Desktop/Data/T4/neurons/SubtypeC/211114_P36_N3/211114_P36_N3_FlipV_R250_JE_mask.tif', '/home/tli_project/Desktop/Data/T4/neurons/SubtypeC/211114_P36_N3/211114_P36_N3_FlipV_R250_5D.tif']\n"
     ]
    },
    {
     "name": "stderr",
     "output_type": "stream",
     "text": [
      "100%|██████████| 88/88 [00:03<00:00, 29.26it/s]\n",
      "  0%|          | 0/160000 [00:00<?, ?it/s]\n",
      " 57%|█████▋    | 4/7 [01:32<01:09, 23.03s/it]\n"
     ]
    },
    {
     "ename": "KeyError",
     "evalue": "'0087-0152-0230'",
     "output_type": "error",
     "traceback": [
      "\u001b[0;31m---------------------------------------------------------------------------\u001b[0m",
      "\u001b[0;31mKeyError\u001b[0m                                  Traceback (most recent call last)",
      "\u001b[1;32m/home/tli_project/Desktop/TLI_preprocessing/Github_repo/TLI/pipeline/TLI_analysis/analysis_cols_cent.ipynb Cell 8\u001b[0m in \u001b[0;36m<cell line: 1>\u001b[0;34m()\u001b[0m\n\u001b[1;32m      <a href='vscode-notebook-cell:/home/tli_project/Desktop/TLI_preprocessing/Github_repo/TLI/pipeline/TLI_analysis/analysis_cols_cent.ipynb#W6sZmlsZQ%3D%3D?line=0'>1</a>\u001b[0m \u001b[39mfor\u001b[39;00m n_file \u001b[39min\u001b[39;00m tqdm(N_folders):\n\u001b[0;32m----> <a href='vscode-notebook-cell:/home/tli_project/Desktop/TLI_preprocessing/Github_repo/TLI/pipeline/TLI_analysis/analysis_cols_cent.ipynb#W6sZmlsZQ%3D%3D?line=1'>2</a>\u001b[0m     col_occ_df \u001b[39m=\u001b[39m calc_col_occupancy(n_file, cols_px_vals)\n",
      "\u001b[1;32m/home/tli_project/Desktop/TLI_preprocessing/Github_repo/TLI/pipeline/TLI_analysis/analysis_cols_cent.ipynb Cell 8\u001b[0m in \u001b[0;36mcalc_col_occupancy\u001b[0;34m(n_file, cols_px_vals)\u001b[0m\n\u001b[1;32m     <a href='vscode-notebook-cell:/home/tli_project/Desktop/TLI_preprocessing/Github_repo/TLI/pipeline/TLI_analysis/analysis_cols_cent.ipynb#W6sZmlsZQ%3D%3D?line=68'>69</a>\u001b[0m \u001b[39mdef\u001b[39;00m \u001b[39mcalc_col_occupancy\u001b[39m(n_file, cols_px_vals):\n\u001b[0;32m---> <a href='vscode-notebook-cell:/home/tli_project/Desktop/TLI_preprocessing/Github_repo/TLI/pipeline/TLI_analysis/analysis_cols_cent.ipynb#W6sZmlsZQ%3D%3D?line=69'>70</a>\u001b[0m     col_labeled_neuron, cols_masks \u001b[39m=\u001b[39m get_cols_labeled_neuron(n_file, cols_px_vals)\n\u001b[1;32m     <a href='vscode-notebook-cell:/home/tli_project/Desktop/TLI_preprocessing/Github_repo/TLI/pipeline/TLI_analysis/analysis_cols_cent.ipynb#W6sZmlsZQ%3D%3D?line=70'>71</a>\u001b[0m     col_occ_df_cols \u001b[39m=\u001b[39m \u001b[39mlist\u001b[39m(cols_px_vals\u001b[39m.\u001b[39mkeys())\n\u001b[1;32m     <a href='vscode-notebook-cell:/home/tli_project/Desktop/TLI_preprocessing/Github_repo/TLI/pipeline/TLI_analysis/analysis_cols_cent.ipynb#W6sZmlsZQ%3D%3D?line=71'>72</a>\u001b[0m     col_occ_df_cols \u001b[39m=\u001b[39m col_occ_df_cols\u001b[39m.\u001b[39minsert(\u001b[39m0\u001b[39m,\u001b[39m'\u001b[39m\u001b[39mtimepoint\u001b[39m\u001b[39m'\u001b[39m)\n",
      "\u001b[1;32m/home/tli_project/Desktop/TLI_preprocessing/Github_repo/TLI/pipeline/TLI_analysis/analysis_cols_cent.ipynb Cell 8\u001b[0m in \u001b[0;36mget_cols_labeled_neuron\u001b[0;34m(n_file, cols_px_vals)\u001b[0m\n\u001b[1;32m     <a href='vscode-notebook-cell:/home/tli_project/Desktop/TLI_preprocessing/Github_repo/TLI/pipeline/TLI_analysis/analysis_cols_cent.ipynb#W6sZmlsZQ%3D%3D?line=46'>47</a>\u001b[0m     dist, ind \u001b[39m=\u001b[39m spatial\u001b[39m.\u001b[39mKDTree(cols_centroids_arr)\u001b[39m.\u001b[39mquery(px)\n\u001b[1;32m     <a href='vscode-notebook-cell:/home/tli_project/Desktop/TLI_preprocessing/Github_repo/TLI/pipeline/TLI_analysis/analysis_cols_cent.ipynb#W6sZmlsZQ%3D%3D?line=47'>48</a>\u001b[0m     col \u001b[39m=\u001b[39m cols_names[ind]\n\u001b[0;32m---> <a href='vscode-notebook-cell:/home/tli_project/Desktop/TLI_preprocessing/Github_repo/TLI/pipeline/TLI_analysis/analysis_cols_cent.ipynb#W6sZmlsZQ%3D%3D?line=48'>49</a>\u001b[0m     cols_masks[px[\u001b[39m0\u001b[39m],px[\u001b[39m1\u001b[39m]] \u001b[39m=\u001b[39m cols_px_vals[col]\n\u001b[1;32m     <a href='vscode-notebook-cell:/home/tli_project/Desktop/TLI_preprocessing/Github_repo/TLI/pipeline/TLI_analysis/analysis_cols_cent.ipynb#W6sZmlsZQ%3D%3D?line=50'>51</a>\u001b[0m mask_4D \u001b[39m=\u001b[39m np\u001b[39m.\u001b[39mbroadcast_to(cols_masks, neuron\u001b[39m.\u001b[39mshape)\n\u001b[1;32m     <a href='vscode-notebook-cell:/home/tli_project/Desktop/TLI_preprocessing/Github_repo/TLI/pipeline/TLI_analysis/analysis_cols_cent.ipynb#W6sZmlsZQ%3D%3D?line=51'>52</a>\u001b[0m col_labeled_neuron \u001b[39m=\u001b[39m neuron\u001b[39m.\u001b[39mcopy()\n",
      "\u001b[0;31mKeyError\u001b[0m: '0087-0152-0230'"
     ]
    }
   ],
   "source": [
    "for n_file in tqdm(N_folders):\n",
    "    col_occ_df = calc_col_occupancy(n_file, cols_px_vals)"
   ]
  },
  {
   "cell_type": "code",
   "execution_count": null,
   "metadata": {},
   "outputs": [],
   "source": []
  },
  {
   "cell_type": "code",
   "execution_count": null,
   "metadata": {},
   "outputs": [],
   "source": []
  },
  {
   "cell_type": "code",
   "execution_count": null,
   "metadata": {},
   "outputs": [],
   "source": []
  }
 ],
 "metadata": {
  "kernelspec": {
   "display_name": "Python 3.9.13 ('plotting')",
   "language": "python",
   "name": "python3"
  },
  "language_info": {
   "codemirror_mode": {
    "name": "ipython",
    "version": 3
   },
   "file_extension": ".py",
   "mimetype": "text/x-python",
   "name": "python",
   "nbconvert_exporter": "python",
   "pygments_lexer": "ipython3",
   "version": "3.9.13"
  },
  "orig_nbformat": 4,
  "vscode": {
   "interpreter": {
    "hash": "d8f039b3452c649678a1c627e36aa37ec4e5f675ec8e97e9a0a01e09c89b48d8"
   }
  }
 },
 "nbformat": 4,
 "nbformat_minor": 2
}
