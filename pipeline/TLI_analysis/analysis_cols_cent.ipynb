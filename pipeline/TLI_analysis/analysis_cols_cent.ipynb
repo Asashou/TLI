{
 "cells": [
  {
   "cell_type": "code",
   "execution_count": 1,
   "metadata": {},
   "outputs": [],
   "source": [
    "# read txt document of entry points\n",
    "# also iterate over all tif files (adult 3D mask images) in the same path and perform analysis \n",
    "# all analysis except column analysis "
   ]
  },
  {
   "cell_type": "code",
   "execution_count": 2,
   "metadata": {},
   "outputs": [],
   "source": [
    "#  input and save paths\n",
    "data_path = '/home/tli_project/Desktop/Data/T4/neurons/SubtypeB/'\n",
    "save_path = '/home/tli_project/Desktop/Data/T4/neurons/SubtypeB/output/'\n",
    "subtype = 'B'\n",
    "start_age = 37"
   ]
  },
  {
   "cell_type": "code",
   "execution_count": 3,
   "metadata": {},
   "outputs": [],
   "source": [
    "import os\n",
    "import utils.analysis as analysis\n",
    "import utils.datautils as datautils\n",
    "import matplotlib.pyplot as plt\n",
    "import tifffile as tif\n",
    "import numpy as np\n",
    "import re\n",
    "from tqdm import tqdm\n",
    "import pandas as pd\n",
    "import math\n",
    "# from skimage.measure import regionprops\n",
    "from read_roi import read_roi_zip as col_zip\n",
    "# from scipy.spatial import ConvexHull, convex_hull_plot_2d\n",
    "from scipy import ndimage, spatial"
   ]
  },
  {
   "cell_type": "code",
   "execution_count": 4,
   "metadata": {},
   "outputs": [
    {
     "data": {
      "text/plain": [
       "['211011_P37_N1', '211107_P36_N1']"
      ]
     },
     "execution_count": 4,
     "metadata": {},
     "output_type": "execute_result"
    }
   ],
   "source": [
    "# getting list of folders in data_path, where each folder has files for one neuron\n",
    "N_folders = [name for name in os.listdir(data_path) if os.path.isdir(os.path.join(data_path, name))]\n",
    "N_folders = [f for f in N_folders if '_P' in f]\n",
    "N_folders = sorted(N_folders)\n",
    "N_folders"
   ]
  },
  {
   "cell_type": "code",
   "execution_count": 5,
   "metadata": {},
   "outputs": [],
   "source": [
    "# reading erntry_points file and converting it to dictionary of neu:[z,y,x]\n",
    "# EP_file = '/home/tli_project/Desktop/Data/T4/neurons/TLI_stage1_entry_points'\n",
    "# with open(EP_file) as f:\n",
    "#     entry_points = f.readlines()\n",
    "# entry_points = [l for l in entry_points if ': ' in l]\n",
    "# entry_points = [l.rstrip('\\n').split(':') for l in entry_points]\n",
    "# entry_points = {l[0]: l[1].split(',') for l in entry_points}\n",
    "# entry_points = {neu:[int(x) for x in val] for neu,val in entry_points.items()}"
   ]
  },
  {
   "cell_type": "code",
   "execution_count": 10,
   "metadata": {},
   "outputs": [],
   "source": [
    "def get_cols_labeled_neuron(n_file):\n",
    "    # entry_point = entry_points[n_file][1:] # remove the first T element\n",
    "    start_im = re.search('P(.*)_N', n_file)\n",
    "    start_im = float(start_im.group(1))\n",
    "    start_ana = int((start_age - start_im)/0.25)\n",
    "    files_list = datautils.get_file_names(data_path+n_file, group_by='', \n",
    "                                        order=True, nested_files=False, \n",
    "                                        criteria='')\n",
    "    neu_path = [f for f in files_list if 'clahe' in f.lower()][0]\n",
    "    neuron = tif.imread(neu_path)\n",
    "    mask_path = [f for f in files_list if 'mask' in f.lower()][0]\n",
    "    mask = tif.imread(mask_path)\n",
    "    neuron[mask==0] = 0\n",
    "    neuron[neuron != 0] = 1\n",
    "    # in case you want to crop the image to certain timeponit-start \n",
    "    # neuron = neuron[start_ana:] #remove timepoints before start_ana from the 4D image array\n",
    "    \n",
    "    # openning the cols_zip file\n",
    "    cols_path = [f for f in files_list if 'colrois' in f.lower()][0]\n",
    "    Cols = col_zip(cols_path)\n",
    "\n",
    "    # get columns centroids (only three are needed but the code is simpler this way)\n",
    "    cols_centroids = {}\n",
    "    for col, val in Cols.items():\n",
    "        if val['type'] == 'oval':\n",
    "                x0 = val['left']+int(val['width']/2); a = int(val['width']/2)  # x center, half width                                       \n",
    "                y0 = val['top']+int(val['height']/2); b = int(val['height']/2)  # y center, half height  \n",
    "                cols_centroids[col] = (y0,x0,a,b) \n",
    "    \n",
    "    #[N,2] array of centroids of all the columns\n",
    "    cols_centroids_arr = np.array([(i[0],i[1]) for i in cols_centroids.values()])\n",
    "    cols_names = list(cols_centroids.keys())\n",
    "    cols_px_vals = {col:i+1 for i, col in enumerate(cols_centroids.keys())}\n",
    "\n",
    "    # get the mask of each col based on distances from centroids \n",
    "    neu_PC = np.argwhere(np.ones_like(neuron[0,0])) #getting a point cloud of all the possible px in 2D [Y,X] array\n",
    "    # cols_masks = {col:np.zeros_like(neuron[0,0]) for col in cols_centroids.keys()}\n",
    "    cols_masks = np.zeros_like(neuron[0,0])\n",
    "    for px in tqdm(neu_PC):\n",
    "        dist, ind = spatial.KDTree(cols_centroids_arr).query(px)\n",
    "        col = cols_names[ind]\n",
    "        cols_masks[px[0],px[1]] = cols_px_vals[col]\n",
    "\n",
    "    # col_labeled_neuron = np.zeros_like(neuron)\n",
    "    \n",
    "    mask_4D = np.broadcast_to(cols_masks, neuron.shape)\n",
    "    col_labeled_neuron = neuron * mask_4D\n",
    "\n",
    "    # for col, val in cols_px_vals.items():\n",
    "    #     Roi_3D = np.broadcast_to(cols_masks[col], neuron.shape)\n",
    "    #     col_mask = Roi_3D * neuron\n",
    "    #     col_mask = col_mask * val\n",
    "        # col_labeled_neuron = col_labeled_neuron + col_mask\n",
    "    \n",
    "    # saving the result labeled image\n",
    "    col_labeled_neuron = col_labeled_neuron.astype('uint8')\n",
    "    name = save_path+n_file+'_cols_labeled.tif'\n",
    "    tif.imwrite(name, col_labeled_neuron, imagej=True, resolution=(1./0.076, 1./0.076),\n",
    "                metadata={'spacing': 0.4, 'unit': 'um', 'finterval': 1/10, 'axes':'TZYX'})\n",
    "    \n",
    "    # option for saving the mask\n",
    "    name = save_path+n_file+'_cols_mask.tif'\n",
    "    tif.imwrite(name, cols_masks, imagej=True, resolution=(1./0.076, 1./0.076),\n",
    "                metadata={'spacing': 0.4, 'unit': 'um', 'finterval': 1/10, 'axes':'YX'})\n",
    "\n",
    "    return col_labeled_neuron, cols_masks"
   ]
  },
  {
   "cell_type": "code",
   "execution_count": 11,
   "metadata": {},
   "outputs": [
    {
     "name": "stderr",
     "output_type": "stream",
     "text": [
      "  0%|          | 0/2 [00:00<?, ?it/s]"
     ]
    },
    {
     "name": "stdout",
     "output_type": "stream",
     "text": [
      "first 5 files\n",
      "['/home/tli_project/Desktop/Data/T4/neurons/SubtypeB/211011_P37_N1/test_line.tif', '/home/tli_project/Desktop/Data/T4/neurons/SubtypeB/211011_P37_N1/original_cols_3.png', '/home/tli_project/Desktop/Data/T4/neurons/SubtypeB/211011_P37_N1/original_cols_2.png', '/home/tli_project/Desktop/Data/T4/neurons/SubtypeB/211011_P37_N1/original_cols_10.png', '/home/tli_project/Desktop/Data/T4/neurons/SubtypeB/211011_P37_N1/mywarpedgrid_3.png']\n"
     ]
    },
    {
     "name": "stderr",
     "output_type": "stream",
     "text": [
      "100%|██████████| 160000/160000 [00:04<00:00, 32128.46it/s]\n",
      " 50%|█████     | 1/2 [00:09<00:09,  9.98s/it]"
     ]
    },
    {
     "name": "stdout",
     "output_type": "stream",
     "text": [
      "first 5 files\n",
      "['/home/tli_project/Desktop/Data/T4/neurons/SubtypeB/211107_P36_N1/211107_P36_N1_Z30.70_clahe.tif', '/home/tli_project/Desktop/Data/T4/neurons/SubtypeB/211107_P36_N1/211107_P36_N1_Z30.70_5D.tif', '/home/tli_project/Desktop/Data/T4/neurons/SubtypeB/211107_P36_N1/211107_P36_N1_R265_mask1.tif', '/home/tli_project/Desktop/Data/T4/neurons/SubtypeB/211107_P36_N1/211107_P36_N1_R265_Z30.70_5D.tif', '/home/tli_project/Desktop/Data/T4/neurons/SubtypeB/211107_P36_N1/211107_P36_N1_R265_ColRois.zip']\n"
     ]
    },
    {
     "name": "stderr",
     "output_type": "stream",
     "text": [
      "100%|██████████| 160000/160000 [00:04<00:00, 32707.72it/s]\n",
      "100%|██████████| 2/2 [00:19<00:00,  9.56s/it]\n"
     ]
    }
   ],
   "source": [
    "for n_file in tqdm(N_folders):\n",
    "    col_labeled_neuron, cols_masks = get_cols_labeled_neuron(n_file)"
   ]
  },
  {
   "cell_type": "code",
   "execution_count": null,
   "metadata": {},
   "outputs": [],
   "source": []
  }
 ],
 "metadata": {
  "kernelspec": {
   "display_name": "Python 3.9.13 ('plotting')",
   "language": "python",
   "name": "python3"
  },
  "language_info": {
   "codemirror_mode": {
    "name": "ipython",
    "version": 3
   },
   "file_extension": ".py",
   "mimetype": "text/x-python",
   "name": "python",
   "nbconvert_exporter": "python",
   "pygments_lexer": "ipython3",
   "version": "3.9.13"
  },
  "orig_nbformat": 4,
  "vscode": {
   "interpreter": {
    "hash": "d8f039b3452c649678a1c627e36aa37ec4e5f675ec8e97e9a0a01e09c89b48d8"
   }
  }
 },
 "nbformat": 4,
 "nbformat_minor": 2
}
