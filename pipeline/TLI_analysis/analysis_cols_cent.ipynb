{
 "cells": [
  {
   "cell_type": "code",
   "execution_count": 8,
   "metadata": {},
   "outputs": [],
   "source": [
    "# read txt document of entry points\n",
    "# also iterate over all tif files (adult 3D mask images) in the same path and perform analysis \n",
    "# all analysis except column analysis "
   ]
  },
  {
   "cell_type": "code",
   "execution_count": 14,
   "metadata": {},
   "outputs": [],
   "source": [
    "#  input and save paths\n",
    "data_path = '/home/tli_project/Desktop/Data/T4/neurons/SubtypeB/'\n",
    "save_path = '/home/tli_project/Desktop/Data/T4/neurons/SubtypeB/output/stable_9_Nov/'\n",
    "subtype = 'B'\n",
    "start_age = 37 # not used here\n",
    "stab_limit = 9 #put limit "
   ]
  },
  {
   "cell_type": "code",
   "execution_count": 15,
   "metadata": {},
   "outputs": [],
   "source": [
    "cols_names = ['0,0', '0,1', '1,1', '1,0', \n",
    "              '0,-1', '-1,-1', '-1,0', \n",
    "              '0,2','0,-2',\n",
    "              '1,2', '1,3', '1,4',\n",
    "              '1,-1', '1,-2', '1,-3', '1,-4',\n",
    "              '2,0', '2,1', '2,2', '2,3', '2,4', \n",
    "              '2,-1', '2,-2', '2,-3', '2,-4',\n",
    "              '-1,1', '-1,2', '-1,3', '-1,4',\n",
    "              '-1,-2', '-1,-3', '-1,-4',\n",
    "              '-2,0', '-2,1', '-2,2', '-2,3', '-2,4', \n",
    "              '-2,-1', '-2,-2', '-2,-3', '-2,-4']\n",
    "\n",
    "cols_px_vals = {col:i+1 for i, col in enumerate(cols_names)}"
   ]
  },
  {
   "cell_type": "code",
   "execution_count": 16,
   "metadata": {},
   "outputs": [],
   "source": [
    "import os\n",
    "import utils.analysis as analysis\n",
    "import utils.datautils as datautils\n",
    "import matplotlib.pyplot as plt\n",
    "import tifffile as tif\n",
    "import numpy as np\n",
    "import re\n",
    "from tqdm import tqdm\n",
    "import pandas as pd\n",
    "import math\n",
    "from read_roi import read_roi_zip as col_zip\n",
    "from scipy import ndimage, spatial"
   ]
  },
  {
   "cell_type": "code",
   "execution_count": 17,
   "metadata": {},
   "outputs": [
    {
     "data": {
      "text/plain": [
       "['211011_P37_N1', '211107_P36_N1']"
      ]
     },
     "execution_count": 17,
     "metadata": {},
     "output_type": "execute_result"
    }
   ],
   "source": [
    "# getting list of folders in data_path, where each folder has files for one neuron\n",
    "N_folders = [name for name in os.listdir(data_path) if os.path.isdir(os.path.join(data_path, name))]\n",
    "N_folders = [f for f in N_folders if '_P' in f]\n",
    "N_folders = sorted(N_folders)\n",
    "N_folders"
   ]
  },
  {
   "cell_type": "code",
   "execution_count": 13,
   "metadata": {},
   "outputs": [
    {
     "name": "stdout",
     "output_type": "stream",
     "text": [
      "first 5 files\n",
      "['/home/tli_project/Desktop/Data/T4/neurons/SubtypeB/211011_P37_N1/test_line.tif', '/home/tli_project/Desktop/Data/T4/neurons/SubtypeB/211011_P37_N1/original_cols_3.png', '/home/tli_project/Desktop/Data/T4/neurons/SubtypeB/211011_P37_N1/original_cols_2.png', '/home/tli_project/Desktop/Data/T4/neurons/SubtypeB/211011_P37_N1/original_cols_10.png', '/home/tli_project/Desktop/Data/T4/neurons/SubtypeB/211011_P37_N1/mywarpedgrid_3.png']\n"
     ]
    }
   ],
   "source": [
    "n_file = N_folders[0]\n",
    "start_im = re.search('P(.*)_N', n_file)\n",
    "start_im = float(start_im.group(1))\n",
    "start_ana = int((start_age - start_im)/0.25)\n",
    "files_list = datautils.get_file_names(data_path+n_file, group_by='', \n",
    "                                    order=True, nested_files=False, \n",
    "                                    criteria='')\n",
    "neu_path = [f for f in files_list if 'clahe' in f.lower()][0]\n",
    "neuron = tif.imread(neu_path)\n",
    "mask_path = [f for f in files_list if 'mask' in f.lower()][0]\n",
    "mask = tif.imread(mask_path)\n",
    "neuron[mask==0] = 0"
   ]
  },
  {
   "cell_type": "code",
   "execution_count": 18,
   "metadata": {},
   "outputs": [
    {
     "name": "stderr",
     "output_type": "stream",
     "text": [
      "100%|██████████| 84/84 [00:02<00:00, 38.21it/s]\n"
     ]
    }
   ],
   "source": [
    "lifetimes = analysis.cal_lifetimes(neuron)"
   ]
  },
  {
   "cell_type": "code",
   "execution_count": 20,
   "metadata": {},
   "outputs": [
    {
     "data": {
      "text/plain": [
       "(array([6.77128061e+08, 3.21419200e+06, 1.62894700e+06, 1.06829600e+06,\n",
       "        8.05397000e+05, 6.48008000e+05, 5.38697000e+05, 4.62957000e+05,\n",
       "        4.07968000e+05, 3.65929000e+05, 3.34147000e+05, 3.07728000e+05,\n",
       "        2.86308000e+05, 2.67997000e+05, 2.53346000e+05, 2.38253000e+05,\n",
       "        2.25847000e+05, 2.14260000e+05, 2.04232000e+05, 1.95587000e+05,\n",
       "        1.87473000e+05, 1.78476000e+05, 1.71373000e+05, 1.64254000e+05,\n",
       "        1.57887000e+05, 1.51866000e+05, 1.46367000e+05, 1.40970000e+05,\n",
       "        1.36635000e+05, 0.00000000e+00, 1.32370000e+05, 1.29000000e+05,\n",
       "        1.24557000e+05, 1.21561000e+05, 1.17518000e+05, 1.12796000e+05,\n",
       "        1.08348000e+05, 1.06021000e+05, 1.01599000e+05, 9.81340000e+04,\n",
       "        9.49020000e+04, 9.13740000e+04, 8.88050000e+04, 8.60190000e+04,\n",
       "        8.32660000e+04, 8.04890000e+04, 7.63860000e+04, 7.32060000e+04,\n",
       "        7.08000000e+04, 6.86760000e+04, 6.62090000e+04, 6.45940000e+04,\n",
       "        6.27400000e+04, 6.01840000e+04, 5.78790000e+04, 5.49050000e+04,\n",
       "        5.34390000e+04, 5.20030000e+04, 0.00000000e+00, 4.96160000e+04,\n",
       "        4.70970000e+04, 4.57410000e+04, 4.37210000e+04, 4.27600000e+04,\n",
       "        4.16620000e+04, 4.03890000e+04, 3.91950000e+04, 3.76480000e+04,\n",
       "        3.66850000e+04, 3.57580000e+04, 3.43110000e+04, 3.27410000e+04,\n",
       "        3.18670000e+04, 3.08870000e+04, 2.97930000e+04, 2.82530000e+04,\n",
       "        2.76960000e+04, 2.68010000e+04, 2.62300000e+04, 2.50880000e+04,\n",
       "        2.45250000e+04, 2.40970000e+04, 2.35780000e+04, 2.29710000e+04,\n",
       "        2.17960000e+04, 2.07470000e+04, 2.01360000e+04, 1.89730000e+04]),\n",
       " array([ 0.        ,  0.96590909,  1.93181818,  2.89772727,  3.86363636,\n",
       "         4.82954545,  5.79545455,  6.76136364,  7.72727273,  8.69318182,\n",
       "         9.65909091, 10.625     , 11.59090909, 12.55681818, 13.52272727,\n",
       "        14.48863636, 15.45454545, 16.42045455, 17.38636364, 18.35227273,\n",
       "        19.31818182, 20.28409091, 21.25      , 22.21590909, 23.18181818,\n",
       "        24.14772727, 25.11363636, 26.07954545, 27.04545455, 28.01136364,\n",
       "        28.97727273, 29.94318182, 30.90909091, 31.875     , 32.84090909,\n",
       "        33.80681818, 34.77272727, 35.73863636, 36.70454545, 37.67045455,\n",
       "        38.63636364, 39.60227273, 40.56818182, 41.53409091, 42.5       ,\n",
       "        43.46590909, 44.43181818, 45.39772727, 46.36363636, 47.32954545,\n",
       "        48.29545455, 49.26136364, 50.22727273, 51.19318182, 52.15909091,\n",
       "        53.125     , 54.09090909, 55.05681818, 56.02272727, 56.98863636,\n",
       "        57.95454545, 58.92045455, 59.88636364, 60.85227273, 61.81818182,\n",
       "        62.78409091, 63.75      , 64.71590909, 65.68181818, 66.64772727,\n",
       "        67.61363636, 68.57954545, 69.54545455, 70.51136364, 71.47727273,\n",
       "        72.44318182, 73.40909091, 74.375     , 75.34090909, 76.30681818,\n",
       "        77.27272727, 78.23863636, 79.20454545, 80.17045455, 81.13636364,\n",
       "        82.10227273, 83.06818182, 84.03409091, 85.        ]),\n",
       " <BarContainer object of 88 artists>)"
      ]
     },
     "execution_count": 20,
     "metadata": {},
     "output_type": "execute_result"
    },
    {
     "data": {
      "image/png": "[encoded data removed]",
      "text/plain": [
       "<Figure size 640x480 with 1 Axes>"
      ]
     },
     "metadata": {},
     "output_type": "display_data"
    }
   ],
   "source": [
    "plt.hist(lifetimes.ravel(), bins=88)"
   ]
  },
  {
   "cell_type": "code",
   "execution_count": 31,
   "metadata": {},
   "outputs": [
    {
     "data": {
      "text/plain": [
       "(array([9962., 6549., 6713., 4817., 5279., 4162., 3390., 4291., 3343.,\n",
       "        4241., 3041., 3212., 3665., 2673., 2325., 3937., 2854., 2335.,\n",
       "        2396., 3013., 2047., 1944., 2184., 2055., 1078.,  622., 1035.,\n",
       "        1885., 2226., 1921.,  942., 2511., 1634.,  862., 1929.,  939.,\n",
       "        1285.,  938., 1569., 1931., 1377.,  545.,  463.,  550.,  198.,\n",
       "         195.,  498.,  424.,  839.,  179.,  563., 1212., 1326.,  294.,\n",
       "        1100.,  440.,   47.,   33.,  286.,  147.,  239.,   56.,  538.,\n",
       "         447.,   73.,  183.,  123.,  172.,   49.,   97.,   94.,  368.,\n",
       "         111.,  101.,  233.,  157.,  252.,  500., 1104.]),\n",
       " array([ 5.,  6.,  7.,  8.,  9., 10., 11., 12., 13., 14., 15., 16., 17.,\n",
       "        18., 19., 20., 21., 22., 23., 24., 25., 26., 27., 28., 29., 30.,\n",
       "        31., 32., 33., 34., 35., 36., 37., 38., 39., 40., 41., 42., 43.,\n",
       "        44., 45., 46., 47., 48., 49., 50., 51., 52., 53., 54., 55., 56.,\n",
       "        57., 58., 59., 60., 61., 62., 63., 64., 65., 66., 67., 68., 69.,\n",
       "        70., 71., 72., 73., 74., 75., 76., 77., 78., 79., 80., 81., 82.,\n",
       "        83., 84.]),\n",
       " <BarContainer object of 79 artists>)"
      ]
     },
     "execution_count": 31,
     "metadata": {},
     "output_type": "execute_result"
    },
    {
     "data": {
      "image/png": "[encoded data removed]",
      "text/plain": [
       "<Figure size 640x480 with 1 Axes>"
      ]
     },
     "metadata": {},
     "output_type": "display_data"
    }
   ],
   "source": [
    "data = lifetimes[-1][(lifetimes[-1]>4) & (lifetimes[-1]<85)]\n",
    "plt.hist(data, bins=data.max()-data.min())"
   ]
  },
  {
   "cell_type": "code",
   "execution_count": 6,
   "metadata": {},
   "outputs": [],
   "source": [
    "def get_cols_labeled_neuron(n_file, cols_px_vals):\n",
    "    start_im = re.search('P(.*)_N', n_file)\n",
    "    start_im = float(start_im.group(1))\n",
    "    start_ana = int((start_age - start_im)/0.25)\n",
    "    files_list = datautils.get_file_names(data_path+n_file, group_by='', \n",
    "                                        order=True, nested_files=False, \n",
    "                                        criteria='')\n",
    "    neu_path = [f for f in files_list if 'clahe' in f.lower()][0]\n",
    "    neuron = tif.imread(neu_path)\n",
    "    mask_path = [f for f in files_list if 'mask' in f.lower()][0]\n",
    "    mask = tif.imread(mask_path)\n",
    "    neuron[mask==0] = 0\n",
    "\n",
    "    # in case you want to crop the image to certain timeponit-start \n",
    "    neuron = neuron[start_ana:] #remove timepoints before start_ana from the 4D image array\n",
    "\n",
    "    if stab_limit > 1:\n",
    "        lifetimes = analysis.cal_lifetimes(neuron, save=False)\n",
    "        neuron = lifetimes.copy()\n",
    "        neuron[neuron<stab_limit] = 0\n",
    "        trans_px = lifetimes.copy()\n",
    "        trans_px[trans_px>=stab_limit] = 0\n",
    "        trans_px[trans_px != 0] = 1\n",
    "\n",
    "    # openning the cols_zip file\n",
    "    cols_path = [f for f in files_list if 'colrois' in f.lower()][0]\n",
    "    Cols = col_zip(cols_path)\n",
    "\n",
    "    # get columns centroids (only three are needed but the code is simpler this way)\n",
    "    cols_centroids = {}\n",
    "    for col, val in Cols.items():\n",
    "        if val['type'] == 'oval':\n",
    "                x0 = val['left']+int(val['width']/2); a = int(val['width']/2)  # x center, half width                                       \n",
    "                y0 = val['top']+int(val['height']/2); b = int(val['height']/2)  # y center, half height  \n",
    "                cols_centroids[col] = (y0,x0,a,b) \n",
    "    \n",
    "    #[N,2] array of centroids of all the columns\n",
    "    cols_centroids_arr = np.array([(i[0],i[1]) for i in cols_centroids.values()])\n",
    "    cols_names = list(cols_centroids.keys())\n",
    "    # cols_px_vals = {col:i+1 for i, col in enumerate(cols_centroids.keys())}\n",
    "\n",
    "    # get the mask of each col based on distances from centroids \n",
    "    neu_PC = np.argwhere(np.ones_like(neuron[0,0])) #getting a point cloud of all the possible px in 2D [Y,X] array\n",
    "    cols_masks = np.zeros_like(neuron[0,0])\n",
    "    for px in tqdm(neu_PC):\n",
    "        dist, ind = spatial.KDTree(cols_centroids_arr).query(px)\n",
    "        col = cols_names[ind]\n",
    "        cols_masks[px[0],px[1]] = cols_px_vals[col]\n",
    "    \n",
    "    mask_4D = np.broadcast_to(cols_masks, neuron.shape)\n",
    "    col_labeled_neuron = neuron.copy()\n",
    "    col_labeled_neuron[col_labeled_neuron!=0] = 1\n",
    "    col_labeled_neuron = col_labeled_neuron * mask_4D\n",
    "    \n",
    "    # saving the result labeled image\n",
    "    col_labeled_neuron = col_labeled_neuron.astype('uint8')\n",
    "    name = save_path+n_file+'_stable'+str(stab_limit)+'_s'+subtype+'_cols_labeled.tif'\n",
    "    tif.imwrite(name, col_labeled_neuron, imagej=True, resolution=(1./0.076, 1./0.076),\n",
    "                metadata={'spacing': 0.4, 'unit': 'um', 'finterval': 1/10, 'axes':'TZYX'})\n",
    "\n",
    "    # option for saving the mask\n",
    "    name = save_path+n_file+'_stable'+str(stab_limit)+'_s'+subtype+'_cols_mask.tif'\n",
    "    tif.imwrite(name, cols_masks, imagej=True, resolution=(1./0.076, 1./0.076),\n",
    "                metadata={'spacing': 0.4, 'unit': 'um', 'finterval': 1/10, 'axes':'YX'})\n",
    "\n",
    "    return col_labeled_neuron, cols_masks\n",
    "\n",
    "def calc_col_occupancy(n_file, cols_px_vals):\n",
    "    col_labeled_neuron, cols_masks = get_cols_labeled_neuron(n_file, cols_px_vals)\n",
    "    col_occ_df_cols = list(cols_px_vals.keys())\n",
    "    col_occ_df_cols = col_occ_df_cols.insert(0,'timepoint')\n",
    "    col_occ_df = pd.DataFrame(columns=col_occ_df_cols)\n",
    "    for i, frame in enumerate(col_labeled_neuron):\n",
    "        t = start_age+i*0.25\n",
    "        result_line = {'timepoint':t}\n",
    "        for col, val in cols_px_vals.items():\n",
    "            result_line[col] = len(frame[frame == val])\n",
    "        col_occ_df = col_occ_df.append(result_line, ignore_index=True)\n",
    "    col_occ_df = col_occ_df.loc[:,col_occ_df.sum()!=0]\n",
    "    col_occ_df.to_csv(save_path+n_file+'_stable'+str(stab_limit)+'_s'+subtype+'_cols_occupanies.csv')\n",
    "    return col_occ_df"
   ]
  },
  {
   "cell_type": "code",
   "execution_count": 7,
   "metadata": {},
   "outputs": [
    {
     "name": "stderr",
     "output_type": "stream",
     "text": [
      "  0%|          | 0/2 [00:00<?, ?it/s]"
     ]
    },
    {
     "name": "stdout",
     "output_type": "stream",
     "text": [
      "first 5 files\n",
      "['/home/tli_project/Desktop/Data/T4/neurons/SubtypeB/211011_P37_N1/test_line.tif', '/home/tli_project/Desktop/Data/T4/neurons/SubtypeB/211011_P37_N1/original_cols_3.png', '/home/tli_project/Desktop/Data/T4/neurons/SubtypeB/211011_P37_N1/original_cols_2.png', '/home/tli_project/Desktop/Data/T4/neurons/SubtypeB/211011_P37_N1/original_cols_10.png', '/home/tli_project/Desktop/Data/T4/neurons/SubtypeB/211011_P37_N1/mywarpedgrid_3.png']\n"
     ]
    },
    {
     "name": "stderr",
     "output_type": "stream",
     "text": [
      "100%|██████████| 84/84 [00:02<00:00, 37.85it/s]\n",
      "100%|██████████| 160000/160000 [00:04<00:00, 32618.19it/s]\n",
      " 50%|█████     | 1/2 [00:18<00:18, 18.42s/it]"
     ]
    },
    {
     "name": "stdout",
     "output_type": "stream",
     "text": [
      "first 5 files\n",
      "['/home/tli_project/Desktop/Data/T4/neurons/SubtypeB/211107_P36_N1/211107_P36_N1_Z30.70_clahe.tif', '/home/tli_project/Desktop/Data/T4/neurons/SubtypeB/211107_P36_N1/211107_P36_N1_Z30.70_5D.tif', '/home/tli_project/Desktop/Data/T4/neurons/SubtypeB/211107_P36_N1/211107_P36_N1_R265_mask1.tif', '/home/tli_project/Desktop/Data/T4/neurons/SubtypeB/211107_P36_N1/211107_P36_N1_R265_Z30.70_5D.tif', '/home/tli_project/Desktop/Data/T4/neurons/SubtypeB/211107_P36_N1/211107_P36_N1_R265_ColRois.zip']\n"
     ]
    },
    {
     "name": "stderr",
     "output_type": "stream",
     "text": [
      "100%|██████████| 87/87 [00:01<00:00, 44.99it/s]\n",
      "100%|██████████| 160000/160000 [00:05<00:00, 31483.80it/s]\n",
      "100%|██████████| 2/2 [00:34<00:00, 17.45s/it]\n"
     ]
    }
   ],
   "source": [
    "for n_file in tqdm(N_folders):\n",
    "    col_occ_df = calc_col_occupancy(n_file, cols_px_vals)"
   ]
  },
  {
   "cell_type": "code",
   "execution_count": null,
   "metadata": {},
   "outputs": [],
   "source": []
  },
  {
   "cell_type": "code",
   "execution_count": null,
   "metadata": {},
   "outputs": [],
   "source": [
    "import re\n",
    "import numpy as np\n",
    "import tifffile as tif\n",
    "from scipy import spatial\n",
    "from tqdm import tqdm\n",
    "from multiprocessing import Pool\n",
    "\n",
    "def compute_mask_for_pixel(pixel, cols_centroids_arr, cols_names, cols_px_vals):\n",
    "    dist, ind = spatial.KDTree(cols_centroids_arr).query(pixel)\n",
    "    col = cols_names[ind]\n",
    "    return cols_px_vals[col]\n",
    "\n",
    "def get_cols_labeled_neuron(n_file, cols_px_vals):\n",
    "    # load necessary files\n",
    "    files_list = datautils.get_file_names(data_path+n_file, group_by='', \n",
    "                                        order=True, nested_files=False, \n",
    "                                        criteria='')\n",
    "    neu_path = [f for f in files_list if 'clahe' in f.lower()][0]\n",
    "    neuron = tif.imread(neu_path)\n",
    "    mask_path = [f for f in files_list if 'mask' in f.lower()][0]\n",
    "    mask = tif.imread(mask_path)\n",
    "    neuron[mask==0] = 0\n",
    "    \n",
    "    # crop image to start_ana timepoint\n",
    "    start_im = re.search('P(.*)_N', n_file)\n",
    "    start_im = float(start_im.group(1))\n",
    "    start_ana = int((start_age - start_im)/0.25)\n",
    "    neuron = neuron[start_ana:]\n",
    "    \n",
    "    # apply stability limit and get transition pixels\n",
    "    if stab_limit > 1:\n",
    "        lifetimes = analysis.cal_lifetimes(neuron, save=False)\n",
    "        neuron = lifetimes.copy()\n",
    "        neuron[neuron<stab_limit] = 0\n",
    "        trans_px = lifetimes.copy()\n",
    "        trans_px[trans_px>=stab_limit] = 0\n",
    "        trans_px[trans_px != 0] = 1\n",
    "    \n",
    "    # load column information\n",
    "    cols_path = [f for f in files_list if 'colrois' in f.lower()][0]\n",
    "    Cols = col_zip(cols_path)\n",
    "    cols_centroids = {}\n",
    "    for col, val in Cols.items():\n",
    "        if val['type'] == 'oval':\n",
    "            x0 = val['left']+int(val['width']/2); a = int(val['width']/2)  # x center, half width                                       \n",
    "            y0 = val['top']+int(val['height']/2); b = int(val['height']/2)  # y center, half height  \n",
    "            cols_centroids[col] = (y0,x0,a,b) \n",
    "    \n",
    "    # get centroids and names of all the columns\n",
    "    cols_centroids_arr = np.array([(i[0],i[1]) for i in cols_centroids.values()])\n",
    "    cols_names = list(cols_centroids.keys())\n",
    "\n",
    "    # compute masks for each pixel in the image\n",
    "    with Pool() as p:\n",
    "        mask_arr = np.array(list(tqdm(p.imap(\n",
    "            lambda pixel: compute_mask_for_pixel(pixel, cols_centroids_arr, cols_names, cols_px_vals), \n",
    "            np\n",
    "\n",
    "\n",
    "\n"
   ]
  },
  {
   "cell_type": "code",
   "execution_count": null,
   "metadata": {},
   "outputs": [],
   "source": []
  }
 ],
 "metadata": {
  "kernelspec": {
   "display_name": "Python 3",
   "language": "python",
   "name": "python3"
  },
  "language_info": {
   "codemirror_mode": {
    "name": "ipython",
    "version": 3
   },
   "file_extension": ".py",
   "mimetype": "text/x-python",
   "name": "python",
   "nbconvert_exporter": "python",
   "pygments_lexer": "ipython3",
   "version": "3.7.0 (v3.7.0:1bf9cc5093, Jun 26 2018, 23:26:24) \n[Clang 6.0 (clang-600.0.57)]"
  },
  "orig_nbformat": 4,
  "vscode": {
   "interpreter": {
    "hash": "e774977668b7c0ae8309835a5187aa7fbf7669e7d0bb59755bc63e573643edcd"
   }
  }
 },
 "nbformat": 4,
 "nbformat_minor": 2
}
