{
 "cells": [
  {
   "cell_type": "code",
   "execution_count": 1,
   "metadata": {},
   "outputs": [],
   "source": [
    "# read txt document of entry points\n",
    "# also iterate over all tif files (adult 3D mask images) in the same path and perform analysis \n",
    "# all analysis except column analysis "
   ]
  },
  {
   "cell_type": "code",
   "execution_count": 2,
   "metadata": {},
   "outputs": [],
   "source": [
    "#  input and save paths\n",
    "data_path = '/home/tli_project/Desktop/Data/controls/adult_columns/'\n",
    "save_path = '/home/tli_project/Desktop/Data/controls/adult_columns/'\n",
    "\n",
    "# px_resolution = (0.4, 0.076, 0.076) #z,y,x resolution\n",
    "save_name = 'adult_T4_cols_occupancies_Nov_2022.csv'\n",
    "mask_image = False # not used in the code"
   ]
  },
  {
   "cell_type": "code",
   "execution_count": 3,
   "metadata": {},
   "outputs": [],
   "source": [
    "cols_names = ['0,0', '0,1', '1,1', '1,0', \n",
    "              '0,-1', '-1,-1', '-1,0', \n",
    "              '0,2', '0,3', '0,-2',\n",
    "              '1,2', '1,3', '1,4',\n",
    "              '1,-1', '1,-2', '1,-3', '1,-4',\n",
    "              '2,0', '2,1', '2,2', '2,3', '2,4', \n",
    "              '2,-1', '2,-2', '2,-3', '2,-4',\n",
    "              '-1,1', '-1,2', '-1,3', '-1,4',\n",
    "              '-1,-2', '-1,-3', '-1,-4',\n",
    "              '-2,0', '-2,1', '-2,2', '-2,3', '-2,4', \n",
    "              '-2,-1', '-2,-2', '-2,-3', '-2,-4',\n",
    "              '3,1']\n",
    "\n",
    "cols_px_vals = {col:i+1 for i, col in enumerate(cols_names)}"
   ]
  },
  {
   "cell_type": "code",
   "execution_count": 4,
   "metadata": {},
   "outputs": [],
   "source": [
    "import os\n",
    "from os.path import basename\n",
    "import utils.analysis as analysis\n",
    "import utils.datautils as datautils\n",
    "import matplotlib.pyplot as plt\n",
    "import tifffile as tif\n",
    "import numpy as np\n",
    "import re\n",
    "from tqdm import tqdm\n",
    "import pandas as pd\n",
    "import math\n",
    "from read_roi import read_roi_zip as col_zip\n",
    "from scipy import ndimage, spatial"
   ]
  },
  {
   "cell_type": "code",
   "execution_count": 5,
   "metadata": {},
   "outputs": [],
   "source": [
    "# getting list of folders in data_path, where each folder has files for one neuron\n",
    "N_folders = [name for name in os.listdir(data_path) if os.path.isdir(os.path.join(data_path, name))]\n",
    "N_folders = [f for f in N_folders if 'T4' in f]\n",
    "N_folders = sorted(N_folders)"
   ]
  },
  {
   "cell_type": "code",
   "execution_count": 6,
   "metadata": {},
   "outputs": [],
   "source": [
    "def get_cols_labeled_neuron(n_file, cols_px_vals):\n",
    "    files_list = datautils.get_file_names(data_path+n_file, group_by='', \n",
    "                                        order=True, nested_files=False, \n",
    "                                        criteria='')\n",
    "    neu_path = [f for f in files_list if '_mask' in f.lower()][0]\n",
    "    neuron = tif.imread(neu_path)\n",
    "    mask_path = [f for f in files_list if (f[-6] == '_') & ('.tif' in f)][0]\n",
    "    subtype = mask_path[-5]\n",
    "    print(subtype)\n",
    "    mask = tif.imread(mask_path)\n",
    "    neuron[mask==0] = 0\n",
    "    neuron[neuron!=0] =1\n",
    "    print(neuron.shape, mask.shape)\n",
    "\n",
    "    # openning the cols_zip file\n",
    "    cols_path = [f for f in files_list if 'zip' in f.lower()][0]\n",
    "    Cols = col_zip(cols_path)\n",
    "\n",
    "        # get columns centroids (only three are needed but the code is simpler this way)\n",
    "    cols_centroids = {}\n",
    "    for col, val in Cols.items():\n",
    "        if val['type'] == 'oval':\n",
    "                x0 = val['left']+int(val['width']/2); a = int(val['width']/2)  # x center, half width                                       \n",
    "                y0 = val['top']+int(val['height']/2); b = int(val['height']/2)  # y center, half height  \n",
    "                cols_centroids[col] = (y0,x0,a,b) \n",
    "    \n",
    "    #[N,2] array of centroids of all the columns\n",
    "    cols_centroids_arr = np.array([(i[0],i[1]) for i in cols_centroids.values()])\n",
    "    cols_names = list(cols_centroids.keys())\n",
    "    # cols_px_vals = {col:i+1 for i, col in enumerate(cols_centroids.keys())}\n",
    "\n",
    "    # get the mask of each col based on distances from centroids \n",
    "    neu_PC = np.argwhere(np.ones_like(neuron[0])) #getting a point cloud of all the possible px in 2D [Y,X] array\n",
    "    cols_masks = np.zeros_like(neuron[0])\n",
    "    for px in tqdm(neu_PC):\n",
    "        dist, ind = spatial.KDTree(cols_centroids_arr).query(px)\n",
    "        col = cols_names[ind]\n",
    "        cols_masks[px[0],px[1]] = cols_px_vals[col]\n",
    "    \n",
    "    print(neuron.shape, cols_masks.shape)\n",
    "    mask_4D = np.broadcast_to(cols_masks, neuron.shape)\n",
    "    col_labeled_neuron = neuron.copy()\n",
    "    col_labeled_neuron[col_labeled_neuron!=0] = 1\n",
    "    col_labeled_neuron = col_labeled_neuron * mask_4D\n",
    "    \n",
    "    # saving the result labeled image\n",
    "    col_labeled_neuron = col_labeled_neuron.astype('uint8')\n",
    "    print(neuron.shape, col_labeled_neuron.shape)\n",
    "    name = save_path+n_file+'_s'+subtype+'_cols_labeled.tif'\n",
    "    tif.imwrite(name, col_labeled_neuron, imagej=True, resolution=(1./0.076, 1./0.076),\n",
    "                metadata={'spacing': 0.4, 'unit': 'um', 'finterval': 1/10, 'axes':'ZYX'})\n",
    "\n",
    "    # option for saving the mask\n",
    "    name = save_path+n_file+'_s'+subtype+'_cols_mask.tif'\n",
    "    tif.imwrite(name, cols_masks, imagej=True, resolution=(1./0.076, 1./0.076),\n",
    "                metadata={'spacing': 0.4, 'unit': 'um', 'finterval': 1/10, 'axes':'YX'})\n",
    "\n",
    "    return col_labeled_neuron, cols_masks\n",
    "\n",
    "def calc_col_occupancy(N_folders, cols_px_vals):\n",
    "    col_occ_df_cols = list(cols_px_vals.keys())\n",
    "    col_occ_df_cols = col_occ_df_cols.insert(0,'subtype')\n",
    "    col_occ_df_cols = col_occ_df_cols.insert(0,'neuron')\n",
    "    col_occ_df = pd.DataFrame(columns=col_occ_df_cols)\n",
    "    for i, n_file in enumerate(N_folders):\n",
    "        result_line = {}\n",
    "        mask_path = [f for f in n_file if (f[-6] == '_') & ('.tif' in f)][0]\n",
    "        result_line['neruon'] =  n_file[:5]\n",
    "        result_line['subtype'] = mask_path[-5]\n",
    "        col_labeled_neuron, cols_masks = get_cols_labeled_neuron(n_file, cols_px_vals)\n",
    "        for col, val in cols_px_vals.items():\n",
    "            result_line[col] = len(col_labeled_neuron[col_labeled_neuron == val])\n",
    "        col_occ_df = col_occ_df.append(result_line, ignore_index=True)\n",
    "        col_occ_df = col_occ_df.loc[:,col_occ_df.sum()!=0]\n",
    "    col_occ_df.to_csv(save_path+n_file+'_cols_occupanies.csv')\n",
    "    return col_occ_df"
   ]
  },
  {
   "cell_type": "code",
   "execution_count": 7,
   "metadata": {},
   "outputs": [
    {
     "name": "stderr",
     "output_type": "stream",
     "text": [
      "  0%|          | 0/28 [00:00<?, ?it/s]"
     ]
    },
    {
     "name": "stdout",
     "output_type": "stream",
     "text": [
      "first 5 files\n",
      "['/home/tli_project/Desktop/Data/controls/adult_columns/T4-11 (SubtypeB)/T4_11_mask.tif', '/home/tli_project/Desktop/Data/controls/adult_columns/T4-11 (SubtypeB)/T4_11.csv', '/home/tli_project/Desktop/Data/controls/adult_columns/T4-11 (SubtypeB)/T4-11_B.tif', '/home/tli_project/Desktop/Data/controls/adult_columns/T4-11 (SubtypeB)/T4-11.tif', '/home/tli_project/Desktop/Data/controls/adult_columns/T4-11 (SubtypeB)/RoiSet.zip']\n",
      "B\n"
     ]
    },
    {
     "name": "stderr",
     "output_type": "stream",
     "text": [
      "100%|██████████| 1048576/1048576 [00:31<00:00, 32963.00it/s]\n",
      "  4%|▎         | 1/28 [00:31<14:23, 31.98s/it]"
     ]
    },
    {
     "name": "stdout",
     "output_type": "stream",
     "text": [
      "first 5 files\n",
      "['/home/tli_project/Desktop/Data/controls/adult_columns/T4-12 (SubtypeC)/T4_12_mask.tif', '/home/tli_project/Desktop/Data/controls/adult_columns/T4-12 (SubtypeC)/T4_12.csv', '/home/tli_project/Desktop/Data/controls/adult_columns/T4-12 (SubtypeC)/T4-12_C.tif', '/home/tli_project/Desktop/Data/controls/adult_columns/T4-12 (SubtypeC)/T4-12.tif', '/home/tli_project/Desktop/Data/controls/adult_columns/T4-12 (SubtypeC)/RoiSet.zip']\n",
      "C\n"
     ]
    },
    {
     "name": "stderr",
     "output_type": "stream",
     "text": [
      "100%|██████████| 1048576/1048576 [00:32<00:00, 31830.04it/s]\n",
      "  7%|▋         | 2/28 [01:05<14:08, 32.63s/it]"
     ]
    },
    {
     "name": "stdout",
     "output_type": "stream",
     "text": [
      "first 5 files\n",
      "['/home/tli_project/Desktop/Data/controls/adult_columns/T4-13 (SubtypeB)/T4_13_mask.tif', '/home/tli_project/Desktop/Data/controls/adult_columns/T4-13 (SubtypeB)/T4_13.csv', '/home/tli_project/Desktop/Data/controls/adult_columns/T4-13 (SubtypeB)/T4-13_B.tif', '/home/tli_project/Desktop/Data/controls/adult_columns/T4-13 (SubtypeB)/T4-13.tif', '/home/tli_project/Desktop/Data/controls/adult_columns/T4-13 (SubtypeB)/RoiSet.zip']\n",
      "B\n"
     ]
    },
    {
     "name": "stderr",
     "output_type": "stream",
     "text": [
      "100%|██████████| 1048576/1048576 [00:34<00:00, 30433.72it/s]\n",
      " 11%|█         | 3/28 [01:39<14:01, 33.66s/it]"
     ]
    },
    {
     "name": "stdout",
     "output_type": "stream",
     "text": [
      "first 5 files\n",
      "['/home/tli_project/Desktop/Data/controls/adult_columns/T4-15 (SubtypeA)/T4_15_mask.tif', '/home/tli_project/Desktop/Data/controls/adult_columns/T4-15 (SubtypeA)/T4_15.csv', '/home/tli_project/Desktop/Data/controls/adult_columns/T4-15 (SubtypeA)/T4-15_A.tif', '/home/tli_project/Desktop/Data/controls/adult_columns/T4-15 (SubtypeA)/T4-15.tif', '/home/tli_project/Desktop/Data/controls/adult_columns/T4-15 (SubtypeA)/RoiSet.zip']\n",
      "A\n"
     ]
    },
    {
     "name": "stderr",
     "output_type": "stream",
     "text": [
      "100%|██████████| 1048576/1048576 [00:33<00:00, 31654.00it/s]\n",
      " 14%|█▍        | 4/28 [02:13<13:23, 33.49s/it]"
     ]
    },
    {
     "name": "stdout",
     "output_type": "stream",
     "text": [
      "first 5 files\n",
      "['/home/tli_project/Desktop/Data/controls/adult_columns/T4-16 (SubtypeC)/T4_16_mask.tif', '/home/tli_project/Desktop/Data/controls/adult_columns/T4-16 (SubtypeC)/T4_16.csv', '/home/tli_project/Desktop/Data/controls/adult_columns/T4-16 (SubtypeC)/T4-16_C.tif', '/home/tli_project/Desktop/Data/controls/adult_columns/T4-16 (SubtypeC)/T4-16.tif', '/home/tli_project/Desktop/Data/controls/adult_columns/T4-16 (SubtypeC)/RoiSet.zip']\n",
      "C\n"
     ]
    },
    {
     "name": "stderr",
     "output_type": "stream",
     "text": [
      "100%|██████████| 665496/665496 [00:20<00:00, 32485.99it/s]\n",
      " 18%|█▊        | 5/28 [02:33<11:03, 28.86s/it]"
     ]
    },
    {
     "name": "stdout",
     "output_type": "stream",
     "text": [
      "first 5 files\n",
      "['/home/tli_project/Desktop/Data/controls/adult_columns/T4-18 (SubtypeC)/T4_18_mask.tif', '/home/tli_project/Desktop/Data/controls/adult_columns/T4-18 (SubtypeC)/T4_18 1.csv', '/home/tli_project/Desktop/Data/controls/adult_columns/T4-18 (SubtypeC)/T4-19_C.tif', '/home/tli_project/Desktop/Data/controls/adult_columns/T4-18 (SubtypeC)/T4-19.tif', '/home/tli_project/Desktop/Data/controls/adult_columns/T4-18 (SubtypeC)/RoiSet.zip']\n",
      "C\n"
     ]
    },
    {
     "name": "stderr",
     "output_type": "stream",
     "text": [
      "100%|██████████| 461018/461018 [00:13<00:00, 33419.21it/s]\n",
      " 21%|██▏       | 6/28 [02:47<08:42, 23.77s/it]"
     ]
    },
    {
     "name": "stdout",
     "output_type": "stream",
     "text": [
      "first 5 files\n",
      "['/home/tli_project/Desktop/Data/controls/adult_columns/T4-19 (SubtypeD)/T4_19_mask.tif', '/home/tli_project/Desktop/Data/controls/adult_columns/T4-19 (SubtypeD)/T4_19.csv', '/home/tli_project/Desktop/Data/controls/adult_columns/T4-19 (SubtypeD)/T4-19_D.tif', '/home/tli_project/Desktop/Data/controls/adult_columns/T4-19 (SubtypeD)/T4-19.tif', '/home/tli_project/Desktop/Data/controls/adult_columns/T4-19 (SubtypeD)/RoiSet.zip']\n",
      "D\n"
     ]
    },
    {
     "name": "stderr",
     "output_type": "stream",
     "text": [
      "  0%|          | 146/499656 [00:00<00:17, 29135.43it/s]\n",
      " 21%|██▏       | 6/28 [02:47<10:15, 27.96s/it]\n"
     ]
    },
    {
     "ename": "KeyError",
     "evalue": "'0,3'",
     "output_type": "error",
     "traceback": [
      "\u001b[0;31m---------------------------------------------------------------------------\u001b[0m",
      "\u001b[0;31mKeyError\u001b[0m                                  Traceback (most recent call last)",
      "\u001b[1;32m/home/tli_project/Desktop/TLI_preprocessing/Github_repo/TLI/pipeline/TLI_analysis/analysis_cols_cent_adult.ipynb Cell 7\u001b[0m in \u001b[0;36m<cell line: 1>\u001b[0;34m()\u001b[0m\n\u001b[1;32m      <a href='vscode-notebook-cell:/home/tli_project/Desktop/TLI_preprocessing/Github_repo/TLI/pipeline/TLI_analysis/analysis_cols_cent_adult.ipynb#X21sZmlsZQ%3D%3D?line=0'>1</a>\u001b[0m \u001b[39mfor\u001b[39;00m n_file \u001b[39min\u001b[39;00m tqdm(N_folders):\n\u001b[0;32m----> <a href='vscode-notebook-cell:/home/tli_project/Desktop/TLI_preprocessing/Github_repo/TLI/pipeline/TLI_analysis/analysis_cols_cent_adult.ipynb#X21sZmlsZQ%3D%3D?line=1'>2</a>\u001b[0m     col_labeled_neuron, cols_masks \u001b[39m=\u001b[39m get_cols_labeled_neuron(n_file, cols_px_vals)\n",
      "\u001b[1;32m/home/tli_project/Desktop/TLI_preprocessing/Github_repo/TLI/pipeline/TLI_analysis/analysis_cols_cent_adult.ipynb Cell 7\u001b[0m in \u001b[0;36mget_cols_labeled_neuron\u001b[0;34m(n_file, cols_px_vals)\u001b[0m\n\u001b[1;32m     <a href='vscode-notebook-cell:/home/tli_project/Desktop/TLI_preprocessing/Github_repo/TLI/pipeline/TLI_analysis/analysis_cols_cent_adult.ipynb#X21sZmlsZQ%3D%3D?line=34'>35</a>\u001b[0m     dist, ind \u001b[39m=\u001b[39m spatial\u001b[39m.\u001b[39mKDTree(cols_centroids_arr)\u001b[39m.\u001b[39mquery(px)\n\u001b[1;32m     <a href='vscode-notebook-cell:/home/tli_project/Desktop/TLI_preprocessing/Github_repo/TLI/pipeline/TLI_analysis/analysis_cols_cent_adult.ipynb#X21sZmlsZQ%3D%3D?line=35'>36</a>\u001b[0m     col \u001b[39m=\u001b[39m cols_names[ind]\n\u001b[0;32m---> <a href='vscode-notebook-cell:/home/tli_project/Desktop/TLI_preprocessing/Github_repo/TLI/pipeline/TLI_analysis/analysis_cols_cent_adult.ipynb#X21sZmlsZQ%3D%3D?line=36'>37</a>\u001b[0m     cols_masks[px[\u001b[39m0\u001b[39m],px[\u001b[39m1\u001b[39m]] \u001b[39m=\u001b[39m cols_px_vals[col]\n\u001b[1;32m     <a href='vscode-notebook-cell:/home/tli_project/Desktop/TLI_preprocessing/Github_repo/TLI/pipeline/TLI_analysis/analysis_cols_cent_adult.ipynb#X21sZmlsZQ%3D%3D?line=38'>39</a>\u001b[0m mask_4D \u001b[39m=\u001b[39m np\u001b[39m.\u001b[39mbroadcast_to(cols_masks, neuron\u001b[39m.\u001b[39mshape)\n\u001b[1;32m     <a href='vscode-notebook-cell:/home/tli_project/Desktop/TLI_preprocessing/Github_repo/TLI/pipeline/TLI_analysis/analysis_cols_cent_adult.ipynb#X21sZmlsZQ%3D%3D?line=39'>40</a>\u001b[0m col_labeled_neuron \u001b[39m=\u001b[39m neuron\u001b[39m.\u001b[39mcopy()\n",
      "\u001b[0;31mKeyError\u001b[0m: '0,3'"
     ]
    }
   ],
   "source": [
    "for n_file in tqdm(N_folders):\n",
    "    col_labeled_neuron, cols_masks = get_cols_labeled_neuron(n_file, cols_px_vals)"
   ]
  },
  {
   "cell_type": "code",
   "execution_count": null,
   "metadata": {},
   "outputs": [],
   "source": []
  },
  {
   "cell_type": "code",
   "execution_count": null,
   "metadata": {},
   "outputs": [],
   "source": []
  }
 ],
 "metadata": {
  "kernelspec": {
   "display_name": "Python 3.9.13 ('plotting')",
   "language": "python",
   "name": "python3"
  },
  "language_info": {
   "codemirror_mode": {
    "name": "ipython",
    "version": 3
   },
   "file_extension": ".py",
   "mimetype": "text/x-python",
   "name": "python",
   "nbconvert_exporter": "python",
   "pygments_lexer": "ipython3",
   "version": "3.9.13"
  },
  "orig_nbformat": 4,
  "vscode": {
   "interpreter": {
    "hash": "d8f039b3452c649678a1c627e36aa37ec4e5f675ec8e97e9a0a01e09c89b48d8"
   }
  }
 },
 "nbformat": 4,
 "nbformat_minor": 2
}
