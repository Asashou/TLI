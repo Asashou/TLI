{
 "cells": [
  {
   "cell_type": "code",
   "execution_count": 1,
   "metadata": {},
   "outputs": [],
   "source": [
    "# read txt document of entry points\n",
    "# also iterate over all tif files (adult 3D mask images) in the same path and perform analysis \n",
    "# all analysis except column analysis "
   ]
  },
  {
   "cell_type": "code",
   "execution_count": 2,
   "metadata": {},
   "outputs": [],
   "source": [
    "#  input and save paths\n",
    "data_path = '/home/tli_project/Desktop/Data/controls/adult_columns/'\n",
    "save_path = '/home/tli_project/Desktop/Data/controls/adult_columns/adult_cols_occupancies/'\n",
    "\n",
    "# px_resolution = (0.4, 0.076, 0.076) #z,y,x resolution\n",
    "save_name = 'adult_T4_cols_occupancies_Nov_2022.csv'\n",
    "mask_image = False # not used in the code"
   ]
  },
  {
   "cell_type": "code",
   "execution_count": 3,
   "metadata": {},
   "outputs": [],
   "source": [
    "cols_names = ['0,0', '0,1', '1,1', '1,0', \n",
    "              '0,-1', '-1,-1', '-1,0', \n",
    "              '0,2', '0,3', '0,-2', '0,-3',\n",
    "              '1,2', '1,3', '1,4',\n",
    "              '1,-1', '1,-2', '1,-3', '1,-4',\n",
    "              '2,0', '2,1', '2,2', '2,3', '2,4', '2,5',\n",
    "              '2,-1', '2,-2', '2,-3', '2,-4',\n",
    "              '-1,1', '-1,2', '-1,3', '-1,4',\n",
    "              '-1,-2', '-1,-3', '-1,-4',\n",
    "              '-2,0', '-2,1', '-2,2', '-2,3', '-2,4', \n",
    "              '-2,-1', '-2,-2', '-2,-3', '-2,-4',\n",
    "              '3,0', '3,1', '3,2']\n",
    "\n",
    "cols_px_vals = {col:i+1 for i, col in enumerate(cols_names)}"
   ]
  },
  {
   "cell_type": "code",
   "execution_count": 4,
   "metadata": {},
   "outputs": [],
   "source": [
    "import os\n",
    "from os.path import basename\n",
    "import utils.analysis as analysis\n",
    "import utils.datautils as datautils\n",
    "import matplotlib.pyplot as plt\n",
    "import tifffile as tif\n",
    "import numpy as np\n",
    "import re\n",
    "from tqdm import tqdm\n",
    "import pandas as pd\n",
    "import math\n",
    "from read_roi import read_roi_zip as col_zip\n",
    "from scipy import ndimage, spatial"
   ]
  },
  {
   "cell_type": "code",
   "execution_count": 5,
   "metadata": {},
   "outputs": [],
   "source": [
    "# getting list of folders in data_path, where each folder has files for one neuron\n",
    "N_folders = [name for name in os.listdir(data_path) if os.path.isdir(os.path.join(data_path, name))]\n",
    "N_folders = [f for f in N_folders if 'T4' in f]\n",
    "N_folders = sorted(N_folders)"
   ]
  },
  {
   "cell_type": "code",
   "execution_count": 17,
   "metadata": {},
   "outputs": [],
   "source": [
    "def get_cols_labeled_neuron(n_file, cols_px_vals):\n",
    "    files_list = datautils.get_file_names(data_path+n_file, group_by='', \n",
    "                                        order=True, nested_files=False, \n",
    "                                        criteria='')\n",
    "    neu_path = [f for f in files_list if '_mask' in f.lower()][0]\n",
    "    neuron = tif.imread(neu_path)\n",
    "    mask_path = [f for f in files_list if (f[-6] == '_') & ('.tif' in f)][0]\n",
    "    mask = tif.imread(mask_path)\n",
    "    neuron[mask==0] = 0\n",
    "    neuron[neuron!=0] =1\n",
    "\n",
    "    # openning the cols_zip file\n",
    "    cols_path = [f for f in files_list if 'zip' in f.lower()][0]\n",
    "    Cols = col_zip(cols_path)\n",
    "\n",
    "        # get columns centroids (only three are needed but the code is simpler this way)\n",
    "    cols_centroids = {}\n",
    "    for col, val in Cols.items():\n",
    "        if val['type'] == 'oval':\n",
    "                x0 = val['left']+int(val['width']/2); a = int(val['width']/2)  # x center, half width                                       \n",
    "                y0 = val['top']+int(val['height']/2); b = int(val['height']/2)  # y center, half height  \n",
    "                cols_centroids[col] = (y0,x0,a,b) \n",
    "    \n",
    "    #[N,2] array of centroids of all the columns\n",
    "    cols_centroids_arr = np.array([(i[0],i[1]) for i in cols_centroids.values()])\n",
    "    cols_names = list(cols_centroids.keys())\n",
    "    # cols_px_vals = {col:i+1 for i, col in enumerate(cols_centroids.keys())}\n",
    "\n",
    "    # get the mask of each col based on distances from centroids \n",
    "    neu_PC = np.argwhere(np.ones_like(neuron[0])) #getting a point cloud of all the possible px in 2D [Y,X] array\n",
    "    cols_masks = np.zeros_like(neuron[0])\n",
    "    for px in tqdm(neu_PC):\n",
    "        dist, ind = spatial.KDTree(cols_centroids_arr).query(px)\n",
    "        col = cols_names[ind]\n",
    "        cols_masks[px[0],px[1]] = cols_px_vals[col]\n",
    "    \n",
    "    mask_4D = np.broadcast_to(cols_masks, neuron.shape)\n",
    "    col_labeled_neuron = neuron.copy()\n",
    "    col_labeled_neuron[col_labeled_neuron!=0] = 1\n",
    "    col_labeled_neuron = col_labeled_neuron * mask_4D\n",
    "    \n",
    "    # saving the result labeled image\n",
    "    col_labeled_neuron = col_labeled_neuron.astype('uint8')\n",
    "    name = save_path+n_file+'_s'+basename(mask_path)[:-4]+'_cols_labeled.tif'\n",
    "    tif.imwrite(name, col_labeled_neuron, imagej=True, resolution=(1./0.076, 1./0.076),\n",
    "                metadata={'spacing': 0.4, 'unit': 'um', 'finterval': 1/10, 'axes':'ZYX'})\n",
    "\n",
    "    # option for saving the mask\n",
    "    name = save_path+n_file+'_s'+basename(mask_path)[:-4]+'_cols_mask.tif'\n",
    "    tif.imwrite(name, cols_masks, imagej=True, resolution=(1./0.076, 1./0.076),\n",
    "                metadata={'spacing': 0.4, 'unit': 'um', 'finterval': 1/10, 'axes':'YX'})\n",
    "\n",
    "    return col_labeled_neuron, cols_masks\n",
    "\n",
    "def calc_col_occupancy(N_folders, cols_px_vals):\n",
    "    col_occ_df_cols = list(cols_px_vals.keys())\n",
    "    col_occ_df_cols.insert(0,'subtype')\n",
    "    col_occ_df_cols.insert(0,'neuron')\n",
    "    col_occ_df = pd.DataFrame(columns=col_occ_df_cols)\n",
    "    for i, n_file in tqdm(enumerate(N_folders)):\n",
    "        result_line = {}\n",
    "        # print(n_file)\n",
    "        # mask_path = [f for f in n_file if (f[-6] == '_') & ('.tif' in f)][0]\n",
    "        result_line['neruon'] = n_file.split(' ')[0]\n",
    "        result_line['subtype'] = n_file[-2]\n",
    "        print(result_line['neruon'], result_line['subtype'])\n",
    "        col_labeled_neuron, cols_masks = get_cols_labeled_neuron(n_file, cols_px_vals)\n",
    "        for col, val in cols_px_vals.items():\n",
    "            result_line[col] = len(col_labeled_neuron[col_labeled_neuron == val])\n",
    "        col_occ_df = col_occ_df.append(result_line, ignore_index=True)\n",
    "        col_occ_df = col_occ_df.loc[:,col_occ_df.sum()!=0]\n",
    "    col_occ_df.to_csv(save_path+n_file+'_cols_occupanies.csv')\n",
    "    return col_occ_df"
   ]
  },
  {
   "cell_type": "code",
   "execution_count": 18,
   "metadata": {},
   "outputs": [
    {
     "name": "stderr",
     "output_type": "stream",
     "text": [
      "0it [00:00, ?it/s]"
     ]
    },
    {
     "name": "stdout",
     "output_type": "stream",
     "text": [
      "T4-11 B\n",
      "first 5 files\n",
      "['/home/tli_project/Desktop/Data/controls/adult_columns/T4-11 (SubtypeB)/T4_11_mask.tif', '/home/tli_project/Desktop/Data/controls/adult_columns/T4-11 (SubtypeB)/T4_11.csv', '/home/tli_project/Desktop/Data/controls/adult_columns/T4-11 (SubtypeB)/T4-11_B.tif', '/home/tli_project/Desktop/Data/controls/adult_columns/T4-11 (SubtypeB)/T4-11.tif', '/home/tli_project/Desktop/Data/controls/adult_columns/T4-11 (SubtypeB)/RoiSet.zip']\n"
     ]
    },
    {
     "name": "stderr",
     "output_type": "stream",
     "text": [
      "100%|██████████| 1048576/1048576 [00:32<00:00, 32116.99it/s]\n",
      "1it [00:33, 33.01s/it]"
     ]
    },
    {
     "name": "stdout",
     "output_type": "stream",
     "text": [
      "T4-12 C\n",
      "first 5 files\n",
      "['/home/tli_project/Desktop/Data/controls/adult_columns/T4-12 (SubtypeC)/T4_12_mask.tif', '/home/tli_project/Desktop/Data/controls/adult_columns/T4-12 (SubtypeC)/T4_12.csv', '/home/tli_project/Desktop/Data/controls/adult_columns/T4-12 (SubtypeC)/T4-12_C.tif', '/home/tli_project/Desktop/Data/controls/adult_columns/T4-12 (SubtypeC)/T4-12.tif', '/home/tli_project/Desktop/Data/controls/adult_columns/T4-12 (SubtypeC)/RoiSet.zip']\n"
     ]
    },
    {
     "name": "stderr",
     "output_type": "stream",
     "text": [
      "100%|██████████| 1048576/1048576 [00:33<00:00, 31085.50it/s]\n",
      "2it [01:07, 33.60s/it]"
     ]
    },
    {
     "name": "stdout",
     "output_type": "stream",
     "text": [
      "T4-13 B\n",
      "first 5 files\n",
      "['/home/tli_project/Desktop/Data/controls/adult_columns/T4-13 (SubtypeB)/T4_13_mask.tif', '/home/tli_project/Desktop/Data/controls/adult_columns/T4-13 (SubtypeB)/T4_13.csv', '/home/tli_project/Desktop/Data/controls/adult_columns/T4-13 (SubtypeB)/T4-13_B.tif', '/home/tli_project/Desktop/Data/controls/adult_columns/T4-13 (SubtypeB)/T4-13.tif', '/home/tli_project/Desktop/Data/controls/adult_columns/T4-13 (SubtypeB)/RoiSet.zip']\n"
     ]
    },
    {
     "name": "stderr",
     "output_type": "stream",
     "text": [
      "100%|██████████| 1048576/1048576 [00:33<00:00, 31713.34it/s]\n",
      "3it [01:40, 33.50s/it]"
     ]
    },
    {
     "name": "stdout",
     "output_type": "stream",
     "text": [
      "T4-15 A\n",
      "first 5 files\n",
      "['/home/tli_project/Desktop/Data/controls/adult_columns/T4-15 (SubtypeA)/T4_15_mask.tif', '/home/tli_project/Desktop/Data/controls/adult_columns/T4-15 (SubtypeA)/T4_15.csv', '/home/tli_project/Desktop/Data/controls/adult_columns/T4-15 (SubtypeA)/T4-15_A.tif', '/home/tli_project/Desktop/Data/controls/adult_columns/T4-15 (SubtypeA)/T4-15.tif', '/home/tli_project/Desktop/Data/controls/adult_columns/T4-15 (SubtypeA)/RoiSet.zip']\n"
     ]
    },
    {
     "name": "stderr",
     "output_type": "stream",
     "text": [
      "100%|██████████| 1048576/1048576 [00:32<00:00, 31946.41it/s]\n",
      "4it [02:13, 33.32s/it]"
     ]
    },
    {
     "name": "stdout",
     "output_type": "stream",
     "text": [
      "T4-16 C\n",
      "first 5 files\n",
      "['/home/tli_project/Desktop/Data/controls/adult_columns/T4-16 (SubtypeC)/T4_16_mask.tif', '/home/tli_project/Desktop/Data/controls/adult_columns/T4-16 (SubtypeC)/T4_16.csv', '/home/tli_project/Desktop/Data/controls/adult_columns/T4-16 (SubtypeC)/T4-16_C.tif', '/home/tli_project/Desktop/Data/controls/adult_columns/T4-16 (SubtypeC)/T4-16.tif', '/home/tli_project/Desktop/Data/controls/adult_columns/T4-16 (SubtypeC)/RoiSet.zip']\n"
     ]
    },
    {
     "name": "stderr",
     "output_type": "stream",
     "text": [
      "100%|██████████| 665496/665496 [00:20<00:00, 31893.41it/s]\n",
      "5it [02:34, 28.94s/it]"
     ]
    },
    {
     "name": "stdout",
     "output_type": "stream",
     "text": [
      "T4-18 C\n",
      "first 5 files\n",
      "['/home/tli_project/Desktop/Data/controls/adult_columns/T4-18 (SubtypeC)/T4_18_mask.tif', '/home/tli_project/Desktop/Data/controls/adult_columns/T4-18 (SubtypeC)/T4_18 1.csv', '/home/tli_project/Desktop/Data/controls/adult_columns/T4-18 (SubtypeC)/T4-19_C.tif', '/home/tli_project/Desktop/Data/controls/adult_columns/T4-18 (SubtypeC)/T4-19.tif', '/home/tli_project/Desktop/Data/controls/adult_columns/T4-18 (SubtypeC)/RoiSet.zip']\n"
     ]
    },
    {
     "name": "stderr",
     "output_type": "stream",
     "text": [
      "100%|██████████| 461018/461018 [00:14<00:00, 31876.66it/s]\n",
      "6it [02:49, 24.05s/it]"
     ]
    },
    {
     "name": "stdout",
     "output_type": "stream",
     "text": [
      "T4-19 D\n",
      "first 5 files\n",
      "['/home/tli_project/Desktop/Data/controls/adult_columns/T4-19 (SubtypeD)/T4_19_mask.tif', '/home/tli_project/Desktop/Data/controls/adult_columns/T4-19 (SubtypeD)/T4_19.csv', '/home/tli_project/Desktop/Data/controls/adult_columns/T4-19 (SubtypeD)/T4-19_D.tif', '/home/tli_project/Desktop/Data/controls/adult_columns/T4-19 (SubtypeD)/T4-19.tif', '/home/tli_project/Desktop/Data/controls/adult_columns/T4-19 (SubtypeD)/RoiSet.zip']\n"
     ]
    },
    {
     "name": "stderr",
     "output_type": "stream",
     "text": [
      "100%|██████████| 499656/499656 [00:15<00:00, 31562.61it/s]\n",
      "7it [03:05, 21.40s/it]"
     ]
    },
    {
     "name": "stdout",
     "output_type": "stream",
     "text": [
      "T4-2 A\n",
      "first 5 files\n",
      "['/home/tli_project/Desktop/Data/controls/adult_columns/T4-2 (SubtypeA)/T4_2_mask.tif', '/home/tli_project/Desktop/Data/controls/adult_columns/T4-2 (SubtypeA)/T4_2.csv', '/home/tli_project/Desktop/Data/controls/adult_columns/T4-2 (SubtypeA)/T4-2.tif', '/home/tli_project/Desktop/Data/controls/adult_columns/T4-2 (SubtypeA)/T4-02_A.tif', '/home/tli_project/Desktop/Data/controls/adult_columns/T4-2 (SubtypeA)/RoiSet.zip']\n"
     ]
    },
    {
     "name": "stderr",
     "output_type": "stream",
     "text": [
      "100%|██████████| 403588/403588 [00:12<00:00, 31696.90it/s]\n",
      "8it [03:17, 18.66s/it]"
     ]
    },
    {
     "name": "stdout",
     "output_type": "stream",
     "text": [
      "T4-21 B\n",
      "first 5 files\n",
      "['/home/tli_project/Desktop/Data/controls/adult_columns/T4-21 (SubtypeB)/T4_21_mask.tif', '/home/tli_project/Desktop/Data/controls/adult_columns/T4-21 (SubtypeB)/T4_21.csv', '/home/tli_project/Desktop/Data/controls/adult_columns/T4-21 (SubtypeB)/T4-21_B.tif', '/home/tli_project/Desktop/Data/controls/adult_columns/T4-21 (SubtypeB)/T4-21.tif', '/home/tli_project/Desktop/Data/controls/adult_columns/T4-21 (SubtypeB)/RoiSet.zip']\n"
     ]
    },
    {
     "name": "stderr",
     "output_type": "stream",
     "text": [
      "100%|██████████| 1048576/1048576 [00:33<00:00, 31576.62it/s]\n",
      "9it [03:51, 23.29s/it]"
     ]
    },
    {
     "name": "stdout",
     "output_type": "stream",
     "text": [
      "T4-24 B\n",
      "first 5 files\n",
      "['/home/tli_project/Desktop/Data/controls/adult_columns/T4-24 (SubtypeB)/T4_24_mask.tif', '/home/tli_project/Desktop/Data/controls/adult_columns/T4-24 (SubtypeB)/T4_24.csv', '/home/tli_project/Desktop/Data/controls/adult_columns/T4-24 (SubtypeB)/T4-24_B.tif', '/home/tli_project/Desktop/Data/controls/adult_columns/T4-24 (SubtypeB)/T4-24.tif', '/home/tli_project/Desktop/Data/controls/adult_columns/T4-24 (SubtypeB)/RoiSet.zip']\n"
     ]
    },
    {
     "name": "stderr",
     "output_type": "stream",
     "text": [
      "100%|██████████| 1048576/1048576 [00:32<00:00, 31979.31it/s]\n",
      "10it [04:24, 26.32s/it]"
     ]
    },
    {
     "name": "stdout",
     "output_type": "stream",
     "text": [
      "T4-25 A\n",
      "first 5 files\n",
      "['/home/tli_project/Desktop/Data/controls/adult_columns/T4-25 (SubtypeA)/T4_25_mask.tif', '/home/tli_project/Desktop/Data/controls/adult_columns/T4-25 (SubtypeA)/T4_25.csv', '/home/tli_project/Desktop/Data/controls/adult_columns/T4-25 (SubtypeA)/T4-25_A.tif', '/home/tli_project/Desktop/Data/controls/adult_columns/T4-25 (SubtypeA)/T4-25.tif', '/home/tli_project/Desktop/Data/controls/adult_columns/T4-25 (SubtypeA)/RoiSet.zip']\n"
     ]
    },
    {
     "name": "stderr",
     "output_type": "stream",
     "text": [
      "100%|██████████| 435940/435940 [00:13<00:00, 31299.33it/s]\n",
      "11it [04:38, 22.58s/it]"
     ]
    },
    {
     "name": "stdout",
     "output_type": "stream",
     "text": [
      "T4-26 A\n",
      "first 5 files\n",
      "['/home/tli_project/Desktop/Data/controls/adult_columns/T4-26 (SubtypeA)/T4_26_mask.tif', '/home/tli_project/Desktop/Data/controls/adult_columns/T4-26 (SubtypeA)/T4_26.csv', '/home/tli_project/Desktop/Data/controls/adult_columns/T4-26 (SubtypeA)/T4-26_A.tif', '/home/tli_project/Desktop/Data/controls/adult_columns/T4-26 (SubtypeA)/T4-26.tif', '/home/tli_project/Desktop/Data/controls/adult_columns/T4-26 (SubtypeA)/RoiSet.zip']\n"
     ]
    },
    {
     "name": "stderr",
     "output_type": "stream",
     "text": [
      "100%|██████████| 515412/515412 [00:16<00:00, 31895.76it/s]\n",
      "12it [04:54, 20.69s/it]"
     ]
    },
    {
     "name": "stdout",
     "output_type": "stream",
     "text": [
      "T4-28 B\n",
      "first 5 files\n",
      "['/home/tli_project/Desktop/Data/controls/adult_columns/T4-28 (SubtypeB)/T4_28_mask.tif', '/home/tli_project/Desktop/Data/controls/adult_columns/T4-28 (SubtypeB)/T4_28.csv', '/home/tli_project/Desktop/Data/controls/adult_columns/T4-28 (SubtypeB)/T4-28_B.tif', '/home/tli_project/Desktop/Data/controls/adult_columns/T4-28 (SubtypeB)/T4-28.tif', '/home/tli_project/Desktop/Data/controls/adult_columns/T4-28 (SubtypeB)/RoiSet.zip']\n"
     ]
    },
    {
     "name": "stderr",
     "output_type": "stream",
     "text": [
      "100%|██████████| 507160/507160 [00:16<00:00, 31662.99it/s]\n",
      "13it [05:11, 19.30s/it]"
     ]
    },
    {
     "name": "stdout",
     "output_type": "stream",
     "text": [
      "T4-3 D\n",
      "first 5 files\n",
      "['/home/tli_project/Desktop/Data/controls/adult_columns/T4-3 (SubtypeD)/T4_3_mask.tif', '/home/tli_project/Desktop/Data/controls/adult_columns/T4-3 (SubtypeD)/T4_3.csv', '/home/tli_project/Desktop/Data/controls/adult_columns/T4-3 (SubtypeD)/T4-3.tif', '/home/tli_project/Desktop/Data/controls/adult_columns/T4-3 (SubtypeD)/T4-03_D.tif', '/home/tli_project/Desktop/Data/controls/adult_columns/T4-3 (SubtypeD)/RoiSet.zip']\n"
     ]
    },
    {
     "name": "stderr",
     "output_type": "stream",
     "text": [
      "100%|██████████| 600951/600951 [00:19<00:00, 31038.16it/s]\n",
      "14it [05:30, 19.38s/it]"
     ]
    },
    {
     "name": "stdout",
     "output_type": "stream",
     "text": [
      "T4-30 C\n",
      "first 5 files\n",
      "['/home/tli_project/Desktop/Data/controls/adult_columns/T4-30 (SubtypeC)/T4_30_mask.tif', '/home/tli_project/Desktop/Data/controls/adult_columns/T4-30 (SubtypeC)/T4_30.csv', '/home/tli_project/Desktop/Data/controls/adult_columns/T4-30 (SubtypeC)/T4-30_C.tif', '/home/tli_project/Desktop/Data/controls/adult_columns/T4-30 (SubtypeC)/T4-30.tif', '/home/tli_project/Desktop/Data/controls/adult_columns/T4-30 (SubtypeC)/RoiSet.zip']\n"
     ]
    },
    {
     "name": "stderr",
     "output_type": "stream",
     "text": [
      "100%|██████████| 1048576/1048576 [00:32<00:00, 31864.96it/s]\n",
      "15it [06:03, 23.58s/it]"
     ]
    },
    {
     "name": "stdout",
     "output_type": "stream",
     "text": [
      "T4-31 C\n",
      "first 5 files\n",
      "['/home/tli_project/Desktop/Data/controls/adult_columns/T4-31 (SubtypeC)/T4_31_mas.tif', '/home/tli_project/Desktop/Data/controls/adult_columns/T4-31 (SubtypeC)/T4_31.csv', '/home/tli_project/Desktop/Data/controls/adult_columns/T4-31 (SubtypeC)/T4_31(2)_mask.tif', '/home/tli_project/Desktop/Data/controls/adult_columns/T4-31 (SubtypeC)/T4_31(2).csv', '/home/tli_project/Desktop/Data/controls/adult_columns/T4-31 (SubtypeC)/T4-31_C.tif']\n"
     ]
    },
    {
     "name": "stderr",
     "output_type": "stream",
     "text": [
      "100%|██████████| 1048576/1048576 [00:33<00:00, 31499.66it/s]\n",
      "16it [06:37, 26.58s/it]"
     ]
    },
    {
     "name": "stdout",
     "output_type": "stream",
     "text": [
      "T4-32 C\n",
      "first 5 files\n",
      "['/home/tli_project/Desktop/Data/controls/adult_columns/T4-32 (SubtypeC)/T4_32_mask.tif', '/home/tli_project/Desktop/Data/controls/adult_columns/T4-32 (SubtypeC)/T4_32.csv', '/home/tli_project/Desktop/Data/controls/adult_columns/T4-32 (SubtypeC)/T4-32_C.tif', '/home/tli_project/Desktop/Data/controls/adult_columns/T4-32 (SubtypeC)/T4-32.tif', '/home/tli_project/Desktop/Data/controls/adult_columns/T4-32 (SubtypeC)/RoiSet.zip']\n"
     ]
    },
    {
     "name": "stderr",
     "output_type": "stream",
     "text": [
      "100%|██████████| 417240/417240 [00:13<00:00, 31682.18it/s]\n",
      "17it [06:50, 22.58s/it]"
     ]
    },
    {
     "name": "stdout",
     "output_type": "stream",
     "text": [
      "T4-35 A\n",
      "first 5 files\n",
      "['/home/tli_project/Desktop/Data/controls/adult_columns/T4-35 (SubtypeA)/T4_35_mask.tif', '/home/tli_project/Desktop/Data/controls/adult_columns/T4-35 (SubtypeA)/T4_35.csv', '/home/tli_project/Desktop/Data/controls/adult_columns/T4-35 (SubtypeA)/T4-35_A.tif', '/home/tli_project/Desktop/Data/controls/adult_columns/T4-35 (SubtypeA)/T4-35.tif', '/home/tli_project/Desktop/Data/controls/adult_columns/T4-35 (SubtypeA)/RoiSet.zip']\n"
     ]
    },
    {
     "name": "stderr",
     "output_type": "stream",
     "text": [
      "100%|██████████| 207765/207765 [00:06<00:00, 31929.71it/s]\n",
      "18it [06:57, 17.76s/it]"
     ]
    },
    {
     "name": "stdout",
     "output_type": "stream",
     "text": [
      "T4-36 B\n",
      "first 5 files\n",
      "['/home/tli_project/Desktop/Data/controls/adult_columns/T4-36 (SubtypeB)/T4_36_mas.tif', '/home/tli_project/Desktop/Data/controls/adult_columns/T4-36 (SubtypeB)/T4_36.csv', '/home/tli_project/Desktop/Data/controls/adult_columns/T4-36 (SubtypeB)/T4_36(2)_mask.tif', '/home/tli_project/Desktop/Data/controls/adult_columns/T4-36 (SubtypeB)/T4_36(2).csv', '/home/tli_project/Desktop/Data/controls/adult_columns/T4-36 (SubtypeB)/T4-36_B.tif']\n"
     ]
    },
    {
     "name": "stderr",
     "output_type": "stream",
     "text": [
      "100%|██████████| 336226/336226 [00:10<00:00, 31948.20it/s]\n",
      "19it [07:07, 15.62s/it]"
     ]
    },
    {
     "name": "stdout",
     "output_type": "stream",
     "text": [
      "T4-37 D\n",
      "first 5 files\n",
      "['/home/tli_project/Desktop/Data/controls/adult_columns/T4-37 (SubtypeD)/T4_37_mas.tif', '/home/tli_project/Desktop/Data/controls/adult_columns/T4-37 (SubtypeD)/T4_37.csv', '/home/tli_project/Desktop/Data/controls/adult_columns/T4-37 (SubtypeD)/T4_37(2)_mask.tif', '/home/tli_project/Desktop/Data/controls/adult_columns/T4-37 (SubtypeD)/T4_37(2).csv', '/home/tli_project/Desktop/Data/controls/adult_columns/T4-37 (SubtypeD)/T4-37_D.tif']\n"
     ]
    },
    {
     "name": "stderr",
     "output_type": "stream",
     "text": [
      "100%|██████████| 387822/387822 [00:11<00:00, 32457.06it/s]\n",
      "20it [07:20, 14.57s/it]"
     ]
    },
    {
     "name": "stdout",
     "output_type": "stream",
     "text": [
      "T4-4 B\n",
      "first 5 files\n",
      "['/home/tli_project/Desktop/Data/controls/adult_columns/T4-4 (SubtypeB)/T4_4_mask.tif', '/home/tli_project/Desktop/Data/controls/adult_columns/T4-4 (SubtypeB)/T4_4.csv', '/home/tli_project/Desktop/Data/controls/adult_columns/T4-4 (SubtypeB)/T4-4.tif', '/home/tli_project/Desktop/Data/controls/adult_columns/T4-4 (SubtypeB)/T4-04_B.tif', '/home/tli_project/Desktop/Data/controls/adult_columns/T4-4 (SubtypeB)/RoiSet.zip']\n"
     ]
    },
    {
     "name": "stderr",
     "output_type": "stream",
     "text": [
      "100%|██████████| 1048576/1048576 [00:32<00:00, 31985.32it/s]\n",
      "21it [07:53, 20.12s/it]"
     ]
    },
    {
     "name": "stdout",
     "output_type": "stream",
     "text": [
      "T4-40 A\n",
      "first 5 files\n",
      "['/home/tli_project/Desktop/Data/controls/adult_columns/T4-40 (SubtypeA)/T4_40_mask.tif', '/home/tli_project/Desktop/Data/controls/adult_columns/T4-40 (SubtypeA)/T4_40.csv', '/home/tli_project/Desktop/Data/controls/adult_columns/T4-40 (SubtypeA)/T4_40(2)_mask.tif', '/home/tli_project/Desktop/Data/controls/adult_columns/T4-40 (SubtypeA)/T4_40(2).csv', '/home/tli_project/Desktop/Data/controls/adult_columns/T4-40 (SubtypeA)/T4-40_A.tif']\n"
     ]
    },
    {
     "name": "stderr",
     "output_type": "stream",
     "text": [
      "100%|██████████| 467415/467415 [00:14<00:00, 32430.97it/s]\n",
      "22it [08:07, 18.43s/it]"
     ]
    },
    {
     "name": "stdout",
     "output_type": "stream",
     "text": [
      "T4-42 C\n",
      "first 5 files\n",
      "['/home/tli_project/Desktop/Data/controls/adult_columns/T4-42 (SubtypeC)/T4_42_mask.tif', '/home/tli_project/Desktop/Data/controls/adult_columns/T4-42 (SubtypeC)/T4_42.csv', '/home/tli_project/Desktop/Data/controls/adult_columns/T4-42 (SubtypeC)/T4-42_C.tif', '/home/tli_project/Desktop/Data/controls/adult_columns/T4-42 (SubtypeC)/T4-42.tif', '/home/tli_project/Desktop/Data/controls/adult_columns/T4-42 (SubtypeC)/RoiSet.zip']\n"
     ]
    },
    {
     "name": "stderr",
     "output_type": "stream",
     "text": [
      "100%|██████████| 341264/341264 [00:10<00:00, 31783.42it/s]\n",
      "23it [08:18, 16.15s/it]"
     ]
    },
    {
     "name": "stdout",
     "output_type": "stream",
     "text": [
      "T4-43 A\n",
      "first 5 files\n",
      "['/home/tli_project/Desktop/Data/controls/adult_columns/T4-43 (SubtypeA)/T4_43_mask.tif', '/home/tli_project/Desktop/Data/controls/adult_columns/T4-43 (SubtypeA)/T4_43.csv', '/home/tli_project/Desktop/Data/controls/adult_columns/T4-43 (SubtypeA)/T4-43_A.tif', '/home/tli_project/Desktop/Data/controls/adult_columns/T4-43 (SubtypeA)/T4-43.tif', '/home/tli_project/Desktop/Data/controls/adult_columns/T4-43 (SubtypeA)/RoiSet.zip']\n"
     ]
    },
    {
     "name": "stderr",
     "output_type": "stream",
     "text": [
      "100%|██████████| 218943/218943 [00:06<00:00, 32270.17it/s]\n",
      "24it [08:25, 13.35s/it]"
     ]
    },
    {
     "name": "stdout",
     "output_type": "stream",
     "text": [
      "T4-44 D\n",
      "first 5 files\n",
      "['/home/tli_project/Desktop/Data/controls/adult_columns/T4-44 (SubtypeD)/T4_44_mask.tif', '/home/tli_project/Desktop/Data/controls/adult_columns/T4-44 (SubtypeD)/T4_44.csv', '/home/tli_project/Desktop/Data/controls/adult_columns/T4-44 (SubtypeD)/T4-44_D.tif', '/home/tli_project/Desktop/Data/controls/adult_columns/T4-44 (SubtypeD)/T4-44.tif', '/home/tli_project/Desktop/Data/controls/adult_columns/T4-44 (SubtypeD)/RoiSet.zip']\n"
     ]
    },
    {
     "name": "stderr",
     "output_type": "stream",
     "text": [
      "100%|██████████| 409975/409975 [00:12<00:00, 31717.95it/s]\n",
      "25it [08:38, 13.29s/it]"
     ]
    },
    {
     "name": "stdout",
     "output_type": "stream",
     "text": [
      "T4-47 C\n",
      "first 5 files\n",
      "['/home/tli_project/Desktop/Data/controls/adult_columns/T4-47 (SubtypeC)/T4_47_mask.tif', '/home/tli_project/Desktop/Data/controls/adult_columns/T4-47 (SubtypeC)/T4_47.csv', '/home/tli_project/Desktop/Data/controls/adult_columns/T4-47 (SubtypeC)/T4-47_C.tif', '/home/tli_project/Desktop/Data/controls/adult_columns/T4-47 (SubtypeC)/T4-47.tif', '/home/tli_project/Desktop/Data/controls/adult_columns/T4-47 (SubtypeC)/RoiSet.zip']\n"
     ]
    },
    {
     "name": "stderr",
     "output_type": "stream",
     "text": [
      "100%|██████████| 249919/249919 [00:07<00:00, 31609.16it/s]\n",
      "26it [08:46, 11.69s/it]"
     ]
    },
    {
     "name": "stdout",
     "output_type": "stream",
     "text": [
      "T4-5 D\n",
      "first 5 files\n",
      "['/home/tli_project/Desktop/Data/controls/adult_columns/T4-5 (SubtypeD)/a_MAX_T4-26_x59y186.tif', '/home/tli_project/Desktop/Data/controls/adult_columns/T4-5 (SubtypeD)/T4_5_mask.tif', '/home/tli_project/Desktop/Data/controls/adult_columns/T4-5 (SubtypeD)/T4_5.csv', '/home/tli_project/Desktop/Data/controls/adult_columns/T4-5 (SubtypeD)/T4-5.tif', '/home/tli_project/Desktop/Data/controls/adult_columns/T4-5 (SubtypeD)/T4-05_D.tif']\n"
     ]
    },
    {
     "name": "stderr",
     "output_type": "stream",
     "text": [
      "100%|██████████| 1048576/1048576 [00:33<00:00, 31316.22it/s]\n",
      "27it [09:20, 18.34s/it]"
     ]
    },
    {
     "name": "stdout",
     "output_type": "stream",
     "text": [
      "T4-6 D\n",
      "first 5 files\n",
      "['/home/tli_project/Desktop/Data/controls/adult_columns/T4-6 (SubtypeD)/T4_6_mask.tif', '/home/tli_project/Desktop/Data/controls/adult_columns/T4-6 (SubtypeD)/T4_6.csv', '/home/tli_project/Desktop/Data/controls/adult_columns/T4-6 (SubtypeD)/T4-6.tif', '/home/tli_project/Desktop/Data/controls/adult_columns/T4-6 (SubtypeD)/T4-06_D.tif', '/home/tli_project/Desktop/Data/controls/adult_columns/T4-6 (SubtypeD)/RoiSet.zip']\n"
     ]
    },
    {
     "name": "stderr",
     "output_type": "stream",
     "text": [
      "100%|██████████| 1048576/1048576 [00:33<00:00, 31451.19it/s]\n",
      "28it [09:53, 21.21s/it]\n"
     ]
    }
   ],
   "source": [
    "# for n_file in tqdm(N_folders):\n",
    "    # col_labeled_neuron, cols_masks = get_cols_labeled_neuron(n_file, cols_px_vals)\n",
    "col_occ_df = calc_col_occupancy(N_folders, cols_px_vals)"
   ]
  },
  {
   "cell_type": "code",
   "execution_count": null,
   "metadata": {},
   "outputs": [],
   "source": []
  },
  {
   "cell_type": "code",
   "execution_count": null,
   "metadata": {},
   "outputs": [],
   "source": []
  },
  {
   "cell_type": "code",
   "execution_count": null,
   "metadata": {},
   "outputs": [],
   "source": []
  }
 ],
 "metadata": {
  "kernelspec": {
   "display_name": "Python 3.9.13 ('plotting')",
   "language": "python",
   "name": "python3"
  },
  "language_info": {
   "codemirror_mode": {
    "name": "ipython",
    "version": 3
   },
   "file_extension": ".py",
   "mimetype": "text/x-python",
   "name": "python",
   "nbconvert_exporter": "python",
   "pygments_lexer": "ipython3",
   "version": "3.9.13"
  },
  "orig_nbformat": 4,
  "vscode": {
   "interpreter": {
    "hash": "d8f039b3452c649678a1c627e36aa37ec4e5f675ec8e97e9a0a01e09c89b48d8"
   }
  }
 },
 "nbformat": 4,
 "nbformat_minor": 2
}
