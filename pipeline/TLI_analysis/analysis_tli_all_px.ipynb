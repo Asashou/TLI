{
 "cells": [
  {
   "cell_type": "code",
   "execution_count": 1,
   "metadata": {},
   "outputs": [],
   "source": [
    "# perform the same type of analysis performed on adults for 4D time-series tif files\n",
    "# iterate over folders that has the image file, and a mask file\n",
    "# the subtype has to be provided (for now)\n",
    "# Also reads a txt file for all entry_points"
   ]
  },
  {
   "cell_type": "markdown",
   "metadata": {},
   "source": [
    "For explanation of the the individual columns in the result csv file, expand the next cell"
   ]
  },
  {
   "cell_type": "code",
   "execution_count": 2,
   "metadata": {},
   "outputs": [
    {
     "data": {
      "text/plain": [
       "'\" Results\\' columns\\' description \\n\\'neuron\\':  neuron name extracted from file name\\n\\'subtype\\': neuron name extracted from file name\\n\\'entry_point\\': entry point of the neuron, read from seperate txt file\\n\\n\\'volume\\': volume of the masked 3D image in um3\\n\\'3D_convex_volume\\': volume of the convex-hull for the 3D image in um3\\n\\'net_area\\': area of the object in the 2D image (the 2D is a max projection of the 3D image) in um2\\n\\'area\\': area of the convex_hull surronding the 2D image (obtained from skimage.measure.regionprops) in um2 \\n\\n\\'density_2D\\': solidity value obtained from skimage.measure.regionprops on the 2D image\\n\\'density_3D\\': pixel count of 3D image/pixel count of 3D convexhull \\n\\'object_perimeter\\': object perimenter value obtained from skimage.measure.regionprops on the 2D image\\n\\'convex_perimeter\\': perimeter of the surronding convex_hull\\n\\n\\'AP_spread\\': (max-min) of value pixels index in last (x) dimension of the 2D image in um\\n\\'DV_spread\\': (max-min) of value pixels index in (y) dimension of the 2D image in um                \\n\\'ellipticity\\': (elipse_major - elipse_minor)/ elipse_major\\n\\'PCA_elongation\\': (max_eign_value - min_eign_value)/ max_eign_value\\n\\'eccentricity\\': eccentricity value obtained from skimage.measure.regionprops on the 2D image \\n\\'circularity\\': (4*np.pi*convex_area)/(convex_perimeter**2)\\n\\n\\n\\'compactness\\': object_perimeter**2/(4*np.pi*net_area)\\n\\'surface_area\\': mesh_surface_area of the marching_cubes on the 3D masked image in um2\\n\\'3D_convex_surface\\': mesh_surface_area of the marching_cubes on the 3D masked image in um2\\n\\n\\n\\n\\'convexity_2D\\': convex_perimeter/object_perimeter\\n\\'convexity_3D\\': 3D_convex_surface/surface_area\\n\\'orientation\\': orientation value obtained from skimage.measure.regionprops on the 2D image \\n\\'feret_diameter_max\\': feret_diameter_max value obtained from skimage.measure.regionprops on the 2D image \\n\\n\\'centroidZ\\': Z position of the centroid from regionprops on the 3D masked image \\n\\'centroidY\\': Y position of the centroid from regionprops on the 3D masked image \\n\\'centroidX\\': X position of the centroid from regionprops on the 3D masked image \\n\\'cen_EP_dis\\': ecludian distance of the centroid from the entry point\\n\\'cen_EP_angle\\': angle of the line between centroid from the entry point (np.arctan2)\\n\\'cen_EP_y\\', \\'cen_EP_x\\': the x,y position of the centroid with the entry point as center (0,0) \\n\\n£££ PCA analysis\\n\\'asymmetry\\', \\'x_asymmetry\\', \\'y_asymmetry\\', \\'PC1_asymmetry\\', \\'PC2_asymmetry\\': different attempts for asymmetry calculation (all bad)\\n\\n\\'xP_weight\\', \\'xP_scale\\',\\'xP_angle\\',\\'xP_xy\\':\\n\\'xN_weight\\',\\'xN_scale\\',\\'xN_angle\\',\\'xN_xy\\',\\n\\'yP_weight\\',\\'yP_scale\\',\\'yP_angle\\',\\'yP_xy\\',\\n\\'yN_weight\\',\\'yN_scale\\',\\'yN_angle\\',\\'yN_xy\\',\\n\\'PCA_angle\\':\\n\\'PCA_xy\\':\\n\\'PCA_shift_centroid_y\\', \\'PCA_shift_centroid_x\\': position of the 2D_image centroid after shifting according to PCA\\n\\n\\'DGI\\': from the old script \\n'"
      ]
     },
     "execution_count": 2,
     "metadata": {},
     "output_type": "execute_result"
    }
   ],
   "source": [
    "\"\"\"\" Results' columns' description \n",
    "'neuron':  neuron name extracted from file name\n",
    "'subtype': neuron name extracted from file name\n",
    "'entry_point': entry point of the neuron, read from seperate txt file\n",
    "\n",
    "'volume': volume of the masked 3D image in um3\n",
    "'3D_convex_volume': volume of the convex-hull for the 3D image in um3\n",
    "'net_area': area of the object in the 2D image (the 2D is a max projection of the 3D image) in um2\n",
    "'area': area of the convex_hull surronding the 2D image (obtained from skimage.measure.regionprops) in um2 \n",
    "\n",
    "'density_2D': solidity value obtained from skimage.measure.regionprops on the 2D image\n",
    "'density_3D': pixel count of 3D image/pixel count of 3D convexhull \n",
    "'object_perimeter': object perimenter value obtained from skimage.measure.regionprops on the 2D image\n",
    "'convex_perimeter': perimeter of the surronding convex_hull\n",
    "\n",
    "'AP_spread': (max-min) of value pixels index in last (x) dimension of the 2D image in um\n",
    "'DV_spread': (max-min) of value pixels index in (y) dimension of the 2D image in um                \n",
    "'ellipticity': (elipse_major - elipse_minor)/ elipse_major\n",
    "'PCA_elongation': (max_eign_value - min_eign_value)/ max_eign_value\n",
    "'eccentricity': eccentricity value obtained from skimage.measure.regionprops on the 2D image \n",
    "'circularity': (4*np.pi*convex_area)/(convex_perimeter**2)\n",
    "\n",
    "\n",
    "'compactness': object_perimeter**2/(4*np.pi*net_area)\n",
    "'surface_area': mesh_surface_area of the marching_cubes on the 3D masked image in um2\n",
    "'3D_convex_surface': mesh_surface_area of the marching_cubes on the 3D masked image in um2\n",
    "\n",
    "\n",
    "\n",
    "'convexity_2D': convex_perimeter/object_perimeter\n",
    "'convexity_3D': 3D_convex_surface/surface_area\n",
    "'orientation': orientation value obtained from skimage.measure.regionprops on the 2D image \n",
    "'feret_diameter_max': feret_diameter_max value obtained from skimage.measure.regionprops on the 2D image \n",
    "\n",
    "'centroidZ': Z position of the centroid from regionprops on the 3D masked image \n",
    "'centroidY': Y position of the centroid from regionprops on the 3D masked image \n",
    "'centroidX': X position of the centroid from regionprops on the 3D masked image \n",
    "'cen_EP_dis': ecludian distance of the centroid from the entry point\n",
    "'cen_EP_angle': angle of the line between centroid from the entry point (np.arctan2)\n",
    "'cen_EP_y', 'cen_EP_x': the x,y position of the centroid with the entry point as center (0,0) \n",
    "\n",
    "£££ PCA analysis\n",
    "'asymmetry', 'x_asymmetry', 'y_asymmetry', 'PC1_asymmetry', 'PC2_asymmetry': different attempts for asymmetry calculation (all bad)\n",
    "\n",
    "'xP_weight', 'xP_scale','xP_angle','xP_xy':\n",
    "'xN_weight','xN_scale','xN_angle','xN_xy',\n",
    "'yP_weight','yP_scale','yP_angle','yP_xy',\n",
    "'yN_weight','yN_scale','yN_angle','yN_xy',\n",
    "'PCA_angle':\n",
    "'PCA_xy':\n",
    "'PCA_shift_centroid_y', 'PCA_shift_centroid_x': position of the 2D_image centroid after shifting according to PCA\n",
    "\n",
    "'DGI': from the old script \n",
    "\"\"\"\n",
    "\n",
    "#The pixel resolution has to be provided to calculate everything in um(n) "
   ]
  },
  {
   "cell_type": "code",
   "execution_count": 3,
   "metadata": {},
   "outputs": [],
   "source": [
    "from tqdm import tqdm\n",
    "import os\n",
    "import re\n",
    "import tifffile as tif\n",
    "\n",
    "import utils.analysis as analysis\n",
    "import utils.datautils as datautils\n",
    "\n",
    "import numpy as np\n",
    "from skimage.measure import regionprops, marching_cubes, mesh_surface_area, perimeter, find_contours\n",
    "from skimage.measure.fit import spatial\n",
    "import pandas as pd\n",
    "import math\n",
    "from scipy.spatial import ConvexHull\n",
    "\n",
    "import matplotlib.pyplot as plt\n",
    "from matplotlib import colors\n",
    "import matplotlib.patches as mpatches\n",
    "# import seaborn as sns\n",
    "%matplotlib inline\n",
    "\n",
    "from timeit import default_timer as timer\n",
    "from multiprocessing import cpu_count, Process, Pool"
   ]
  },
  {
   "cell_type": "code",
   "execution_count": 4,
   "metadata": {},
   "outputs": [],
   "source": [
    "#  input and save paths\n",
    "data_path = '/home/tli_project/Desktop/Data/T4/neurons/SubtypeC/'\n",
    "save_path = '/home/tli_project/Desktop/Data/T4/neurons/all_px_output/'\n",
    "subtype = 'C'\n",
    "stab_limit = 1 # No. of timepoints for stable branches calculation. all pixels are included if stab_limit = 1 \n",
    "start_age = 37\n",
    "px_resolution = (0.4, 0.076, 0.076) #z,y,x resolution\n",
    "px_resolution = np.array(px_resolution)"
   ]
  },
  {
   "cell_type": "code",
   "execution_count": 5,
   "metadata": {},
   "outputs": [
    {
     "data": {
      "text/plain": [
       "['211104_P36_N1',\n",
       " '211104_P36_N3',\n",
       " '211107_P36_N2',\n",
       " '211113_P36_N1',\n",
       " '211114_P36_N3',\n",
       " '211121_P36.5_N3',\n",
       " '220209_P36_N1']"
      ]
     },
     "execution_count": 5,
     "metadata": {},
     "output_type": "execute_result"
    }
   ],
   "source": [
    "# getting list of folders in data_path, where each folder has files for one neuron\n",
    "N_folders = [name for name in os.listdir(data_path) if os.path.isdir(os.path.join(data_path, name))]\n",
    "N_folders = [f for f in N_folders if '_P' in f]\n",
    "N_folders = sorted(N_folders)\n",
    "N_folders"
   ]
  },
  {
   "cell_type": "code",
   "execution_count": 6,
   "metadata": {},
   "outputs": [],
   "source": [
    "# reading erntry_points file and converting it to dictionary of neu:[z,y,x]\n",
    "EP_file = '/home/tli_project/Desktop/Data/T4/neurons/TLI_stage1_entry_points'\n",
    "with open(EP_file) as f:\n",
    "    entry_points = f.readlines()\n",
    "entry_points = [l for l in entry_points if ': ' in l]\n",
    "entry_points = [l.rstrip('\\n').split(':') for l in entry_points]\n",
    "entry_points = {l[0]: l[1].split(',') for l in entry_points}\n",
    "entry_points = {neu:[int(x) for x in val] for neu,val in entry_points.items()}"
   ]
  },
  {
   "cell_type": "code",
   "execution_count": 7,
   "metadata": {},
   "outputs": [],
   "source": [
    "results_cols = ['timepoint',\n",
    "                'volume','3D_convex_volume', 'net_area', 'area',\n",
    "                'AP_spread', 'DV_spread', 'eccentricity', 'ellipticity','PCA_elongation', \n",
    "                'circularity', 'feret_diameter_max', \n",
    "                'density_2D', 'density_3D', \n",
    "                'object_perimeter', 'convex_perimeter', \n",
    "                'compactness', 'surface_area', '3D_convex_surface',\n",
    "                'convexity_2D', 'convexity_3D', 'orientation',\n",
    "                'centroidZ','centroidY', 'centroidX', 'px_variance', 'px_std',\n",
    "                'cen_EP_dis', 'cen_EP_angle', 'cen_EP_y', 'cen_EP_x',\n",
    "                'cen_EP_norm_y', 'cen_EP_norm_x',\n",
    "                'asymmetry', 'x_asymmetry', 'y_asymmetry', 'PC1_asymmetry', 'PC2_asymmetry',\n",
    "                'xP_weight','xP_scale','xP_angle','xP_xy', #all of this part is for the results from PCA_analysis\n",
    "                'xN_weight','xN_scale','xN_angle','xN_xy',\n",
    "                'yP_weight','yP_scale','yP_angle','yP_xy',\n",
    "                'yN_weight','yN_scale','yN_angle','yN_xy',\n",
    "                'PC1_angle','PC1_x','PC1_y', 'DGI', 'DGI_angle',\n",
    "                'PC1_angle2', 'PC1_cen_x', 'PC1_cen_y', 'PC1_ori_cen_x', 'PC1_ori_cen_y',\n",
    "                'trans_volume', 'avg_trans_dist', 'max_trans_dist',\n",
    "                'trans_cenPast_angle', 'trans_cen_angle', \n",
    "                'trans_cen_dis', 'trans_cen_y', 'trans_cen_x', \n",
    "                'trans_PCA_angle',  'AllPx_PCA_angle',\n",
    "                'trans_EP_y','trans_EP_x', 'trans_EP_dis',\n",
    "                'trans_EP_norm_y','trans_EP_norm_x',\n",
    "                'stable_Allcen_y','stable_Allcen_x', 'stable_Allcen_dis',\n",
    "                'trans_Allcen_y','trans_Allcen_x', 'trans_Allcen_dis',\n",
    "                'PC1_shift_centroid_y', 'PC1_shift_centroid_x']"
   ]
  },
  {
   "cell_type": "code",
   "execution_count": 8,
   "metadata": {},
   "outputs": [],
   "source": [
    "def get_theta_angle(img_2D, entry_point):\n",
    "    theta = regionprops(img_2D)[0].orientation\n",
    "    rotation_mat = np.matrix([[np.cos(theta), -np.sin(theta)],\n",
    "                            [np.sin(theta), np.cos(theta)]])\n",
    "    inv_rot_mat = np.linalg.inv(rotation_mat)\n",
    "\n",
    "\n",
    "    coords = (np.argwhere(img_2D) - entry_point).T\n",
    "    coords = np.vstack((coords[1],coords[0]))\n",
    "    # rotate the original coordinates\n",
    "    rotated_coords = rotation_mat * coords\n",
    "\n",
    "    x_transformed, y_transformed = rotated_coords.A\n",
    "    x_pos = x_transformed[x_transformed>=0]\n",
    "    x_neg = x_transformed[x_transformed<0]\n",
    "    y_pos = y_transformed[y_transformed>=0]\n",
    "    y_neg = y_transformed[y_transformed<0]\n",
    "\n",
    "    PCAs = {'x_pos':x_pos, 'x_neg':x_neg, 'y_pos':y_pos, 'y_neg':y_neg}\n",
    "    PCs_fractions = {key:len(x) for key,x in PCAs.items()}\n",
    "    \n",
    "    PC1 = {max(PCs_fractions, key=PCs_fractions.get): PCAs[max(PCs_fractions, key=PCs_fractions.get)]}\n",
    "\n",
    "    angular_rotation = {'x_pos':0, 'x_neg':180, 'y_pos':90, 'y_neg':270}\n",
    "    element = next(iter(PC1))\n",
    "    PC1_angle = np.rad2deg(theta) + angular_rotation[element]\n",
    "    PC1_angle = np.deg2rad(PC1_angle)\n",
    "\n",
    "    element = next(iter(PC1))\n",
    "    if 'x_pos' in element:\n",
    "        PC1_xys = rotated_coords[:,x_transformed>=0]\n",
    "        PC1_ori_xys = coords[:,x_transformed>=0]\n",
    "    elif 'x_neg' in element:\n",
    "        PC1_xys = rotated_coords[:,x_transformed<0]\n",
    "        PC1_ori_xys = coords[:,x_transformed<0]\n",
    "    elif 'y_pos' in element:\n",
    "        PC1_xys = rotated_coords[:,y_transformed>=0]\n",
    "        PC1_ori_xys = coords[:,y_transformed>=0]\n",
    "    elif 'y_neg' in element:\n",
    "        PC1_xys = rotated_coords[:,y_transformed<0]\n",
    "        PC1_ori_xys = coords[:,y_transformed<0]\n",
    "    PC1_cen = PC1_xys.mean(axis=1)\n",
    "    PC1_ori_cen = PC1_ori_xys.mean(axis=1)\n",
    "\n",
    "    return PC1_angle, PC1_cen, PC1_ori_cen"
   ]
  },
  {
   "cell_type": "code",
   "execution_count": 9,
   "metadata": {},
   "outputs": [
    {
     "name": "stderr",
     "output_type": "stream",
     "text": [
      "  0%|          | 0/7 [00:00<?, ?it/s]"
     ]
    },
    {
     "name": "stdout",
     "output_type": "stream",
     "text": [
      "first 5 files\n",
      "['/home/tli_project/Desktop/Data/T4/neurons/SubtypeC/211104_P36_N1/211104_P36_N1_R260_clahe.tif', '/home/tli_project/Desktop/Data/T4/neurons/SubtypeC/211104_P36_N1/211104_P36_N1_R260_JE_mask2.tif', '/home/tli_project/Desktop/Data/T4/neurons/SubtypeC/211104_P36_N1/211104_P36_N1_R260_JE_mask.tif', '/home/tli_project/Desktop/Data/T4/neurons/SubtypeC/211104_P36_N1/211104_P36_N1_R260_ColRois.zip', '/home/tli_project/Desktop/Data/T4/neurons/SubtypeC/211104_P36_N1/211104_P36_N1_R260_5D.tif']\n"
     ]
    },
    {
     "name": "stderr",
     "output_type": "stream",
     "text": [
      " 14%|█▍        | 1/7 [03:18<19:50, 198.45s/it]"
     ]
    },
    {
     "name": "stdout",
     "output_type": "stream",
     "text": [
      "first 5 files\n",
      "['/home/tli_project/Desktop/Data/T4/neurons/SubtypeC/211104_P36_N3/211104_P36_N3_R290_colRois.zip', '/home/tli_project/Desktop/Data/T4/neurons/SubtypeC/211104_P36_N3/211104_P36_N3_R290_clahe.tif', '/home/tli_project/Desktop/Data/T4/neurons/SubtypeC/211104_P36_N3/211104_P36_N3_R290_JE_mask.tif', '/home/tli_project/Desktop/Data/T4/neurons/SubtypeC/211104_P36_N3/211104_P36_N3_R290_5D.tif', '/home/tli_project/Desktop/Data/T4/neurons/SubtypeC/211104_P36_N3/211104_P36_N3_CropRoi.roi']\n"
     ]
    },
    {
     "name": "stderr",
     "output_type": "stream",
     "text": [
      " 29%|██▊       | 2/7 [05:30<13:17, 159.52s/it]"
     ]
    },
    {
     "name": "stdout",
     "output_type": "stream",
     "text": [
      "first 5 files\n",
      "['/home/tli_project/Desktop/Data/T4/neurons/SubtypeC/211107_P36_N2/211107_P36_N2_R250_clahe.tif', '/home/tli_project/Desktop/Data/T4/neurons/SubtypeC/211107_P36_N2/211107_P36_N2_R250_JE_mask.tif', '/home/tli_project/Desktop/Data/T4/neurons/SubtypeC/211107_P36_N2/211107_P36_N2_R250_ColRois.zip', '/home/tli_project/Desktop/Data/T4/neurons/SubtypeC/211107_P36_N2/211107_P36_N2_R250_5D.tif', '/home/tli_project/Desktop/Data/T4/neurons/SubtypeC/211107_P36_N2/211107_P36_N2_CropRoi.roi']\n"
     ]
    },
    {
     "name": "stderr",
     "output_type": "stream",
     "text": [
      " 43%|████▎     | 3/7 [06:39<07:52, 118.01s/it]"
     ]
    },
    {
     "name": "stdout",
     "output_type": "stream",
     "text": [
      "first 5 files\n",
      "['/home/tli_project/Desktop/Data/T4/neurons/SubtypeC/211113_P36_N1/211113_P36_N1_FlipV_R230_clahe.tif', '/home/tli_project/Desktop/Data/T4/neurons/SubtypeC/211113_P36_N1/211113_P36_N1_FlipV_R230_JE_mask.tif', '/home/tli_project/Desktop/Data/T4/neurons/SubtypeC/211113_P36_N1/211113_P36_N1_FlipV_R230_ColRois.zip', '/home/tli_project/Desktop/Data/T4/neurons/SubtypeC/211113_P36_N1/211113_P36_N1_FlipV_R230_5D.tif', '/home/tli_project/Desktop/Data/T4/neurons/SubtypeC/211113_P36_N1/211113_P36_N1_CropRoi.roi']\n"
     ]
    },
    {
     "name": "stderr",
     "output_type": "stream",
     "text": [
      " 57%|█████▋    | 4/7 [07:48<04:55, 98.62s/it] "
     ]
    },
    {
     "name": "stdout",
     "output_type": "stream",
     "text": [
      "first 5 files\n",
      "['/home/tli_project/Desktop/Data/T4/neurons/SubtypeC/211114_P36_N3/211114_P36_N3_flipV_R250_ColRois.zip', '/home/tli_project/Desktop/Data/T4/neurons/SubtypeC/211114_P36_N3/211114_P36_N3_Z15.55_5D.tif', '/home/tli_project/Desktop/Data/T4/neurons/SubtypeC/211114_P36_N3/211114_P36_N3_FlipV_R250_clahe.tif', '/home/tli_project/Desktop/Data/T4/neurons/SubtypeC/211114_P36_N3/211114_P36_N3_FlipV_R250_JE_mask.tif', '/home/tli_project/Desktop/Data/T4/neurons/SubtypeC/211114_P36_N3/211114_P36_N3_FlipV_R250_5D.tif']\n"
     ]
    },
    {
     "name": "stderr",
     "output_type": "stream",
     "text": [
      " 71%|███████▏  | 5/7 [09:51<03:34, 107.48s/it]"
     ]
    },
    {
     "name": "stdout",
     "output_type": "stream",
     "text": [
      "first 5 files\n",
      "['/home/tli_project/Desktop/Data/T4/neurons/SubtypeC/211121_P36.5_N3/211121_P36.5_N3_R290_clahe.tif', '/home/tli_project/Desktop/Data/T4/neurons/SubtypeC/211121_P36.5_N3/211121_P36.5_N3_R290_JE_mask.tif', '/home/tli_project/Desktop/Data/T4/neurons/SubtypeC/211121_P36.5_N3/211121_P36.5_N3_R290_ColRois.zip', '/home/tli_project/Desktop/Data/T4/neurons/SubtypeC/211121_P36.5_N3/211121_P36.5_N3_R290_5D.tif', '/home/tli_project/Desktop/Data/T4/neurons/SubtypeC/211121_P36.5_N3/211121_P36.5_N3_CropRoi.roi']\n"
     ]
    },
    {
     "name": "stderr",
     "output_type": "stream",
     "text": [
      " 86%|████████▌ | 6/7 [12:17<02:00, 120.51s/it]"
     ]
    },
    {
     "name": "stdout",
     "output_type": "stream",
     "text": [
      "first 5 files\n",
      "['/home/tli_project/Desktop/Data/T4/neurons/SubtypeC/220209_P36_N1/220209_P36_N1_FlipV_R270_clahe.tif', '/home/tli_project/Desktop/Data/T4/neurons/SubtypeC/220209_P36_N1/220209_P36_N1_FlipV_R270_JE_mask.tif', '/home/tli_project/Desktop/Data/T4/neurons/SubtypeC/220209_P36_N1/220209_P36_N1_FlipV_R270_ColRois.zip', '/home/tli_project/Desktop/Data/T4/neurons/SubtypeC/220209_P36_N1/220209_P36_N1_FlipV_R270_5D.tif', '/home/tli_project/Desktop/Data/T4/neurons/SubtypeC/220209_P36_N1/220209_P36_N1_CropRoi.roi']\n"
     ]
    },
    {
     "name": "stderr",
     "output_type": "stream",
     "text": [
      "100%|██████████| 7/7 [13:58<00:00, 119.76s/it]\n"
     ]
    }
   ],
   "source": [
    "def process_image(n_file):\n",
    "    neuron_results = pd.DataFrame(columns=results_cols)\n",
    "    entry_point = np.array(entry_points[n_file][1:]) # remove the first T element\n",
    "    start_im = re.search('P(.*)_N', n_file)\n",
    "    start_im = float(start_im.group(1))\n",
    "    start_ana = int((start_age - start_im)/0.25)\n",
    "    files_list = datautils.get_file_names(data_path+n_file, group_by='', \n",
    "                                        order=True, nested_files=False, \n",
    "                                        criteria='')\n",
    "    neu_path = [f for f in files_list if 'clahe' in f.lower()][0]\n",
    "    neuron = tif.imread(neu_path)\n",
    "    mask_path = [f for f in files_list if 'mask' in f.lower()][0]\n",
    "    mask = tif.imread(mask_path)\n",
    "    neuron[mask==0] = 0\n",
    "    neuron = neuron[start_ana:] #remove timepoints before start_ana from the 4D image array\n",
    "    if stab_limit > 1:\n",
    "        lifetimes = analysis.cal_lifetimes(neuron, save=False)\n",
    "        neuron = lifetimes.copy()\n",
    "        neuron[neuron<stab_limit] = 0\n",
    "        trans_px = lifetimes.copy()\n",
    "        trans_px[trans_px>=stab_limit] = 0\n",
    "        trans_px[trans_px != 0] = 1\n",
    "        neuron_results['trans_volume'] = trans_px.sum(axis=tuple(np.arange(len(trans_px.shape))[1:]))*px_resolution.prod()\n",
    "    else:\n",
    "        neuron_results['trans_volume'] = [0 for i in range(len(neuron))]\n",
    "    neuron[neuron != 0] = 1\n",
    "    neu_2D = neuron.max(axis=1)\n",
    "    neuron_results['timepoint'] = [start_age+i*0.25 for i in range(len(neu_2D))]\n",
    "    neuron_results['volume'] = neuron.sum(axis=tuple(np.arange(len(neuron.shape))[1:]))*px_resolution.prod()\n",
    "    neuron_results['net_area'] = neu_2D.sum(axis=tuple(np.arange(len(neu_2D.shape))[1:]))*px_resolution[1:].prod()\n",
    "    for t, stack in enumerate(neuron[stab_limit-1:], stab_limit-1):\n",
    "        reg_prop_2D = regionprops(neu_2D[t])[0]\n",
    "        reg_prop_3D = regionprops(stack)[0]\n",
    "        neuron_results.loc[t,'density_2D'] = reg_prop_2D.solidity\n",
    "        neuron_results.loc[t,'area'] = reg_prop_2D.area_convex*px_resolution[1:].prod()\n",
    "        neuron_results.loc[t,'orientation'] = reg_prop_2D.orientation * (180/np.pi)\n",
    "        neuron_results.loc[t,'eccentricity'] = reg_prop_2D.eccentricity\n",
    "        neuron_results.loc[t,'ellipticity'] = (reg_prop_2D.axis_major_length - reg_prop_2D.axis_minor_length)/reg_prop_2D.axis_major_length\n",
    "        neuron_results.loc[t,'feret_diameter_max'] = reg_prop_2D.feret_diameter_max*px_resolution[-1]\n",
    "        neuron_results.loc[t,'convex_perimeter'] = perimeter(reg_prop_2D.image_convex)*px_resolution[-1]\n",
    "        neuron_results.loc[t,'object_perimeter'] = reg_prop_2D.perimeter*px_resolution[-1]\n",
    "        neuron_results.loc[t,'3D_convex_volume'] = reg_prop_3D.area_convex*px_resolution.prod()\n",
    "        neuron_results.loc[t,'density_3D'] = neuron_results.loc[t,'volume']/neuron_results.loc[t,'3D_convex_volume']\n",
    "        img_PC = np.argwhere(stack)\n",
    "        neuron_results.loc[t,'DV_spread'] = (img_PC[:,1].max() - img_PC[:,1].min())*px_resolution[-1]\n",
    "        neuron_results.loc[t,'AP_spread'] = (img_PC[:,2].max() - img_PC[:,2].min())*px_resolution[-1]\n",
    "\n",
    "        centroid = np.array(reg_prop_3D.centroid)\n",
    "        neuron_results.loc[t,['centroidZ','centroidY','centroidX']] = centroid\n",
    "        p1 = centroid[1:] - entry_point[1:]\n",
    "        p1[0] = -1*p1[0]\n",
    "        neuron_results.loc[t,'cen_EP_dis'] = np.linalg.norm(p1)*px_resolution[-1]\n",
    "        neuron_results.loc[t,['cen_EP_y','cen_EP_x']] = p1\n",
    "        neuron_results.loc[t,'cen_EP_angle'] = np.rad2deg(np.arctan2(*p1) % (2 * np.pi))\n",
    "\n",
    "        p1[1] = 6*p1[1]/4\n",
    "        neuron_results.loc[t, ['cen_EP_norm_y', 'cen_EP_norm_x']] = p1[0], p1[1]\n",
    "\n",
    "        verts, faces, normals, values = marching_cubes(stack, step_size=2, spacing=(px_resolution))\n",
    "        neuron_results.loc[t,'surface_area'] = mesh_surface_area(verts, faces)\n",
    "        convex_img_3D = reg_prop_3D.image_convex.astype('uint8')\n",
    "        verts, faces, normals, values = marching_cubes(convex_img_3D, step_size=2, spacing=(px_resolution))\n",
    "        neuron_results.loc[t,'3D_convex_surface'] = mesh_surface_area(verts, faces)\n",
    "        neuron_results.loc[t,'convexity_3D'] = neuron_results.loc[t,'3D_convex_surface']/neuron_results.loc[t,'surface_area']\n",
    "\n",
    "        asymmetry_values, PCA_df, shifted_coor, evals = analysis.metric_dump(neu_2D[t],entry_point[1:],plot=False)\n",
    "        asymmetries = ['asymmetry', 'x_asymmetry', 'y_asymmetry', 'PC1_asymmetry', 'PC2_asymmetry']\n",
    "        neuron_results.loc[t,asymmetries]  = asymmetry_values\n",
    "        neuron_results.loc[t,'PCA_elongation'] = abs(evals[0]-evals[1])/evals.max()\n",
    "\n",
    "        PCA_res = ['xP_weight','xP_scale','xP_angle','xP_xy',\n",
    "                    'xN_weight','xN_scale','xN_angle','xN_xy',\n",
    "                    'yP_weight','yP_scale','yP_angle','yP_xy',\n",
    "                    'yN_weight','yN_scale','yN_angle','yN_xy']\n",
    "        PCA_arr = np.array(PCA_df.loc[:, PCA_df.columns != 'axis'])\n",
    "        neuron_results.loc[t,PCA_res]  = PCA_arr.ravel()\n",
    "        \n",
    "        neuron_results.loc[t,'PC1_angle'] = PCA_df.loc[PCA_df.Fraction_weight.idxmax()].Angle*-1\n",
    "\n",
    "        neuron_results.loc[t,'PC1_x'] = PCA_df.loc[PCA_df.Fraction_weight.idxmax()].xy[0]\n",
    "        neuron_results.loc[t,'PC1_y'] = PCA_df.loc[PCA_df.Fraction_weight.idxmax()].xy[1]\n",
    "\n",
    "        # neuron_results.loc[t,'PC1_shift_centroid'] = (sum(shifted_coor[:,1]) / len(shifted_coor), sum(shifted_coor[:,0]) / len(shifted_coor))\n",
    "        \n",
    "        neuron_results.loc[t,'DGI'], neuron_results.loc[t,'DGI_angle'] = analysis.DGI_3D(stack,entry_point)\n",
    "\n",
    "        neuron_results.loc[t,'px_variance'] = np.var(np.linalg.norm(img_PC, axis=0))/np.mean(np.linalg.norm(img_PC, axis=0))\n",
    "        neuron_results.loc[t,'px_std'] = np.std(img_PC)\n",
    "        \n",
    "        neuron_results.loc[t,'PC1_angle2'], PC1_center, PC1_ori_cen = get_theta_angle(neu_2D[t],entry_point[1:])\n",
    "        neuron_results.loc[t,'PC1_cen_x'], neuron_results.loc[t,'PC1_cen_y'] = PC1_center[0][0], PC1_center[1][0]\n",
    "        neuron_results.loc[t,'PC1_ori_cen_x'], neuron_results.loc[t,'PC1_ori_cen_y'] = PC1_ori_cen\n",
    "\n",
    "        if stab_limit > 1:\n",
    "            all_centroid = np.array(regionprops(lifetimes[t])[0].centroid)\n",
    "            All_px_2D = lifetimes[t].max(axis=0)\n",
    "            All_px_2D[All_px_2D!=0] = 1\n",
    "            asymmetry_values, PCA_df, shifted_coor, evals = analysis.metric_dump(All_px_2D,entry_point[1:],plot=False)\n",
    "            neuron_results.loc[t,'AllPx_PCA_angle'] = PCA_df.loc[PCA_df.Fraction_weight.idxmax()].Angle*-1\n",
    "\n",
    "            trans_2D = trans_px[t].max(axis=0)\n",
    "            asymmetry_values, PCA_df, shifted_coor, evals = analysis.metric_dump(trans_2D,entry_point[1:],plot=False)\n",
    "            neuron_results.loc[t,'trans_PCA_angle'] = PCA_df.loc[PCA_df.Fraction_weight.idxmax()].Angle*-1\n",
    "            trans_centroid = np.array(regionprops(trans_px[t])[0].centroid)\n",
    "            p1 = trans_centroid[1:] - centroid[1:]\n",
    "            p1[0] = -1*p1[0]\n",
    "            neuron_results.loc[t,'trans_cen_dis'] = np.linalg.norm(p1)*px_resolution[-1]\n",
    "            neuron_results.loc[t,['trans_cen_y','trans_cen_x']] = p1\n",
    "            neuron_results.loc[t,'trans_cen_angle'] = np.rad2deg(np.arctan2(*p1) % (2 * np.pi))\n",
    "\n",
    "            p1 = trans_centroid[1:] - all_centroid[1:]\n",
    "            p1[0] = -1*p1[0]\n",
    "            neuron_results.loc[t,'trans_Allcen_dis'] = np.linalg.norm(p1)*px_resolution[-1]\n",
    "            neuron_results.loc[t,['trans_Allcen_y','trans_Allcen_x']] = p1\n",
    "\n",
    "            p1 = centroid[1:] - all_centroid[1:]\n",
    "            p1[0] = -1*p1[0]\n",
    "            neuron_results.loc[t,'stable_Allcen_dis'] = np.linalg.norm(p1)*px_resolution[-1]\n",
    "            neuron_results.loc[t,['stable_Allcen_y','stable_Allcen_x']] = p1\n",
    "\n",
    "            p1 = trans_centroid[1:] - entry_point[1:]\n",
    "            p1[0] = -1*p1[0]\n",
    "            neuron_results.loc[t,'trans_EP_dis'] = np.linalg.norm(p1)*px_resolution[-1]\n",
    "            neuron_results.loc[t,['trans_EP_y','trans_EP_x']] = p1\n",
    "\n",
    "            p1[1] = 6*p1[1]/4\n",
    "            neuron_results.loc[t,['trans_EP_norm_y','trans_EP_norm_x']] = p1\n",
    "\n",
    "            try:\n",
    "                centroid = np.array(regionprops(neuron[t-1])[0].centroid)\n",
    "                p1 = trans_centroid[1:] - centroid[1:]\n",
    "                p1[0] = -1*p1[0]\n",
    "                neuron_results.loc[t,'trans_cenPast_angle'] = np.rad2deg(np.arctan2(*p1) % (2 * np.pi))\n",
    "            except:\n",
    "                neuron_results.loc[t,'trans_cenPast_angle'] = 0\n",
    "\n",
    "            contour = find_contours(neu_2D[t], 0.8)[0]\n",
    "            contour_tx = find_contours(trans_2D, 0.8)\n",
    "            results = []\n",
    "            for test in contour_tx:\n",
    "                if len(test)> 50:\n",
    "                    for px in test:\n",
    "                        dist, ind = spatial.KDTree(contour).query(px)\n",
    "                        results.append(dist)  \n",
    "            neuron_results.loc[t,'max_trans_dist'] = np.max(results)*px_resolution[-1]\n",
    "            neuron_results.loc[t,'avg_trans_dist'] = np.mean(results)*px_resolution[-1]\n",
    "\n",
    "    neuron_results['convexity_2D'] = neuron_results['convex_perimeter']/neuron_results['object_perimeter']\n",
    "    neuron_results['circularity'] = (4*np.pi*neuron_results['area'])/(neuron_results['convex_perimeter']**2)\n",
    "    neuron_results['compactness'] = (4*np.pi*neuron_results['net_area']) / neuron_results['object_perimeter']**2\n",
    "\n",
    "    csv_name = save_path+n_file+'_stable'+str(stab_limit)+'_s'+subtype+'.csv'\n",
    "    neuron_results.to_csv(csv_name)\n",
    "    return neuron_results, \n",
    "\n",
    "for n_file in tqdm(N_folders):\n",
    "    process_image(n_file)"
   ]
  },
  {
   "cell_type": "code",
   "execution_count": null,
   "metadata": {},
   "outputs": [],
   "source": []
  },
  {
   "cell_type": "code",
   "execution_count": 10,
   "metadata": {},
   "outputs": [],
   "source": [
    "# for i, n_file in tqdm(enumerate(N_folders)):\n",
    "#     neuron_results = pd.DataFrame(columns=results_cols)\n",
    "#     entry_point = entry_points[n_file][1:]\n",
    "#     start_im = re.search('P(.*)_N', n_file)\n",
    "#     start_im = float(start_im.group(1))\n",
    "#     start_ana = int((start_age - start_im)/0.25)\n",
    "#     files_list = datautils.get_file_names(data_path+n_file, group_by='', \n",
    "#                                         order=True, nested_files=False, \n",
    "#                                         criteria='')\n",
    "#     neu_path = [f for f in files_list if 'clahe' in f.lower()][0]\n",
    "#     neuron = tif.imread(neu_path)\n",
    "#     mask_path = [f for f in files_list if 'mask' in f.lower()][0]\n",
    "#     mask = tif.imread(mask_path)\n",
    "#     neuron[mask==0] = 0\n",
    "#     neuron = neuron[start_ana:] #remove timepoints before start_ana from the 4D image array\n",
    "#     neuron[neuron != 0] = 1\n",
    "#     neu_2D = neuron.max(axis=1)\n",
    "#     neu_2D = neuron.max(axis=1)\n",
    "#     neuron_results['timepoint'] = [start_age+i*0.25 for i in range(len(neu_2D))]\n",
    "#     neuron_results['volume'] = neuron.sum(axis=tuple(np.arange(len(neuron.shape))[1:]))\n",
    "#     neuron_results['net_area'] = neu_2D.sum(axis=tuple(np.arange(len(neu_2D.shape))[1:]))\n",
    "\n",
    "#     reg_prop_2D = []\n",
    "#     reg_prop_3D = []\n",
    "#     for t, stack in enumerate(neuron):\n",
    "#         reg_prop_2D.append(regionprops(neu_2D[t])[0])\n",
    "#         reg_prop_3D.append(regionprops(stack)[0])\n",
    "#         img_PC = reg_prop_3D[t].coords\n",
    "#         neuron_results.loc[t,'DV_spread'] = (img_PC[:,1].max() - img_PC[:,1].min())*0.076\n",
    "#         neuron_results.loc[t,'AP_spread'] = (img_PC[:,2].max() - img_PC[:,2].min())*0.076\n",
    "#         neuron_results.loc[t,'density_3D'] = neuron_results.loc[t,'volume']/regionprops(stack)[0].area_convex\n",
    "\n",
    "#         verts, faces, normals, values = marching_cubes(stack, step_size=2, spacing=(0.4,0.076,0.076))\n",
    "#         neuron_results.loc[t,'surface_area'] = mesh_surface_area(verts, faces)\n",
    "#         convex_img_3D = reg_prop_3D[t].image_convex.astype('uint8')\n",
    "#         verts, faces, normals, values = marching_cubes(convex_img_3D, step_size=2, spacing=(0.4,0.076,0.076))\n",
    "#         neuron_results.loc[t,'convexity_3D'] = mesh_surface_area(verts, faces)/neuron_results.loc[t,'surface_area']\n",
    "\n",
    "#         asymmetry_values, PCA_df, shifted_coor = analysis.metric_dump(neu_2D[t],entry_point[1:],plot=False)\n",
    "#         asymmetries = ['asymmetry', 'x_asymmetry', 'y_asymmetry', 'PC1_asymmetry', 'PC2_asymmetry']\n",
    "#         neuron_results.loc[t,asymmetries]  = asymmetry_values\n",
    "\n",
    "#         PCA_res = ['xP_weight','xP_scale','xP_angle','xP_xy',\n",
    "#                     'xN_weight','xN_scale','xN_angle','xN_xy',\n",
    "#                     'yP_weight','yP_scale','yP_angle','yP_xy',\n",
    "#                     'yN_weight','yN_scale','yN_angle','yN_xy']\n",
    "#         PCA_arr = np.array(PCA_df.loc[:, PCA_df.columns != 'axis'])\n",
    "#         neuron_results.loc[t,PCA_res]  = PCA_arr.ravel()\n",
    "#         neuron_results.loc[t,'PC1_angle'] = PCA_df.loc[PCA_df.Fraction_weight.idxmax()].Angle\n",
    "#         neuron_results.loc[t,'PC1_x'] = PCA_df.loc[PCA_df.Fraction_weight.idxmax()].xy[0]\n",
    "#         neuron_results.loc[t,'PC1_y'] = PCA_df.loc[PCA_df.Fraction_weight.idxmax()].xy[1]\n",
    "\n",
    "#         neuron_results.loc[t,['centroidZ','centroidY','centroidX']] = reg_prop_3D[t].centroid\n",
    "#         centroid_EP = np.array(entry_point)-np.array(reg_prop_3D[t].centroid)\n",
    "#         neuron_results.loc[t,'cen_EP_dis'] = np.linalg.norm(centroid_EP[1:])\n",
    "#         neuron_results.loc[t,['cen_EP_Y','cen_EP_X']] = centroid_EP[1:]\n",
    "#         p1 = (centroid_EP[1],centroid_EP[2])\n",
    "#         neuron_results.loc[t,'cen_EP_angle'] = np.rad2deg((np.arctan2(*p1[::-1])) % (2 * np.pi))\n",
    "\n",
    "\n",
    "#     del neuron, neu_2D\n",
    "#     neuron_results['density_2D'] = [r.solidity for r in reg_prop_2D]\n",
    "#     # neuron_results['density_3D'] = [r.area_convex for r in reg_prop_3D]\n",
    "#     # neuron_results['density_3D'] = neuron_results.loc[t,'volume']/neuron_results['density_3D']\n",
    "#     neuron_results['area'] = [r.area_convex for r in reg_prop_2D]\n",
    "#     neuron_results['orientation'] = [r.orientation for r in reg_prop_2D]\n",
    "#     neuron_results['eccentricity'] = [r.eccentricity for r in reg_prop_2D]\n",
    "#     neuron_results['feret_diameter_max'] = [r.feret_diameter_max for r in reg_prop_2D]\n",
    "#     neuron_results['convex_perimeter'] = [perimeter(r.image_convex) for r in reg_prop_2D]\n",
    "#     neuron_results['object_perimeter'] = [r.perimeter for r in reg_prop_2D]\n",
    "#     neuron_results['convexity_2D'] = neuron_results['convex_perimeter']/neuron_results['object_perimeter']\n",
    "#     neuron_results['circularity'] = (4*np.pi*neuron_results['area'])/(neuron_results['convex_perimeter']**2)\n",
    "#     neuron_results['compactness'] = neuron_results['object_perimeter']**2/(4*np.pi*neuron_results['net_area'])\n",
    "#     del reg_prop_2D, reg_prop_3D\n",
    "\n",
    "#     csv_name = save_path+n_file+'_s'+subtype+'_new_111.csv'\n",
    "#     neuron_results.to_csv(csv_name)"
   ]
  },
  {
   "cell_type": "code",
   "execution_count": null,
   "metadata": {},
   "outputs": [
    {
     "ename": "",
     "evalue": "",
     "output_type": "error",
     "traceback": [
      "\u001b[1;31mCanceled future for execute_request message before replies were done"
     ]
    },
    {
     "ename": "",
     "evalue": "",
     "output_type": "error",
     "traceback": [
      "\u001b[1;31mThe Kernel crashed while executing code in the the current cell or a previous cell. Please review the code in the cell(s) to identify a possible cause of the failure. Click <a href='https://aka.ms/vscodeJupyterKernelCrash'>here</a> for more info. View Jupyter <a href='command:jupyter.viewOutput'>log</a> for further details."
     ]
    }
   ],
   "source": [
    "print('memory cleared, and kernel stopped')\n",
    "print('Job is DONE!')\n",
    "os._exit(00)"
   ]
  },
  {
   "cell_type": "code",
   "execution_count": null,
   "metadata": {},
   "outputs": [],
   "source": []
  },
  {
   "cell_type": "code",
   "execution_count": null,
   "metadata": {},
   "outputs": [],
   "source": []
  },
  {
   "cell_type": "code",
   "execution_count": null,
   "metadata": {},
   "outputs": [],
   "source": []
  },
  {
   "cell_type": "code",
   "execution_count": null,
   "metadata": {},
   "outputs": [],
   "source": []
  }
 ],
 "metadata": {
  "kernelspec": {
   "display_name": "Python 3.9.7 ('plotting')",
   "language": "python",
   "name": "python3"
  },
  "language_info": {
   "codemirror_mode": {
    "name": "ipython",
    "version": 3
   },
   "file_extension": ".py",
   "mimetype": "text/x-python",
   "name": "python",
   "nbconvert_exporter": "python",
   "pygments_lexer": "ipython3",
   "version": "3.9.13"
  },
  "orig_nbformat": 4,
  "vscode": {
   "interpreter": {
    "hash": "d8f039b3452c649678a1c627e36aa37ec4e5f675ec8e97e9a0a01e09c89b48d8"
   }
  }
 },
 "nbformat": 4,
 "nbformat_minor": 2
}
