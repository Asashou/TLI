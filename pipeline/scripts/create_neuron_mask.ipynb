{
 "cells": [
  {
   "cell_type": "code",
   "execution_count": 2,
   "id": "0272bcad",
   "metadata": {},
   "outputs": [],
   "source": [
    "import numpy as np\n",
    "from skimage.filters import gaussian, threshold_otsu\n",
    "from skimage.color import rgb2gray\n",
    "import skimage.filters\n",
    "from scipy import ndimage\n",
    "from tqdm import tqdm\n",
    "import scipy.spatial as ss\n",
    "from tqdm import tqdm\n",
    "import tifffile as tif\n",
    "import matplotlib.pyplot as plt"
   ]
  },
  {
   "cell_type": "code",
   "execution_count": 3,
   "id": "5e6902ed",
   "metadata": {},
   "outputs": [],
   "source": [
    "import warnings\n",
    "warnings.simplefilter(action='ignore', category=FutureWarning)"
   ]
  },
  {
   "cell_type": "code",
   "execution_count": 4,
   "id": "c56f4a26",
   "metadata": {},
   "outputs": [],
   "source": [
    "def mask_image(volume, return_mask = False ,sig = 2):\n",
    "    \"\"\"\n",
    "    Create a binary mask from a 2 or 3-dimensional np.array.\n",
    "    Method normalizes the image, converts it to greyscale, then applies gaussian bluring (kernel width set to 2 by default, can be changed with sig parameter).\n",
    "    This is followed by thresholding the image using the isodata method and returning a binary mask. \n",
    "    Parameters\n",
    "    ----------\n",
    "    image           np.array\n",
    "                    np.array of an image (2 or 3D)\n",
    "    return_mask     bool\n",
    "                    If False (default), the mask is subtracted from the original image. If True, a boolian array is returned, of the shape of the original image, as a mask. \n",
    "    sig             Int\n",
    "                    kernel width for gaussian smoothing. set to 2 by default.\n",
    "    Returns\n",
    "    -------\n",
    "    mask            np.array\n",
    "                    Returns a binary np.array of equal shape to the original image, labeling the masked area.\n",
    "    \n",
    "    \"\"\"\n",
    "\n",
    "    image = volume.copy()\n",
    "    # if input image is 2D...\n",
    "\n",
    "    image = image.astype('float32')\n",
    "    # normalize to the range 0-1\n",
    "    image -= image.min()\n",
    "    image /= image.max()\n",
    "\n",
    "    # blur and grayscale before thresholding\n",
    "    blur = gaussian(image, sigma=sig)\n",
    "\n",
    "    # perform adaptive thresholding\n",
    "    t = threshold_otsu(blur.ravel())\n",
    "    mask = blur > t\n",
    "\n",
    "    # convert to bool\n",
    "    mask = np.array(mask, dtype=bool)\n",
    "\n",
    "    if return_mask == False:\n",
    "        image[mask==False] = 0\n",
    "        return image\n",
    "    else:\n",
    "        return mask\n"
   ]
  },
  {
   "cell_type": "code",
   "execution_count": 128,
   "id": "5f68730e",
   "metadata": {},
   "outputs": [
    {
     "data": {
      "text/plain": [
       "(86, 1024, 1024)"
      ]
     },
     "execution_count": 128,
     "metadata": {},
     "output_type": "execute_result"
    }
   ],
   "source": [
    "file = 'C:/Users/tli_project/Desktop/cell/retreat/start_end/clahe_GFP_211121_brain4.1_LP80_P36_last.tif'\n",
    "image = tif.imread(file)\n",
    "# image = image[np.newaxis,:,:,:]\n",
    "# image = np.swapaxes(image,1,3)\n",
    "# image = np.swapaxes(image,0,2)\n",
    "image.shape"
   ]
  },
  {
   "cell_type": "code",
   "execution_count": 129,
   "id": "1d075a18",
   "metadata": {},
   "outputs": [],
   "source": [
    "# img_gfp = image[:,:,1,:,:]"
   ]
  },
  {
   "cell_type": "code",
   "execution_count": 130,
   "id": "3a0ebde8",
   "metadata": {},
   "outputs": [],
   "source": [
    "# plt.imshow(image[20])"
   ]
  },
  {
   "cell_type": "code",
   "execution_count": 131,
   "id": "a0ac4c5f",
   "metadata": {},
   "outputs": [
    {
     "data": {
      "text/plain": [
       "(86, 1024, 1024)"
      ]
     },
     "execution_count": 131,
     "metadata": {},
     "output_type": "execute_result"
    }
   ],
   "source": [
    "masks = np.zeros(image.shape)\n",
    "masks.shape"
   ]
  },
  {
   "cell_type": "code",
   "execution_count": 136,
   "id": "e555207c",
   "metadata": {},
   "outputs": [],
   "source": [
    "for i, img in enumerate(image):\n",
    "    try:\n",
    "        masks[i] = mask_image(img, return_mask = True ,sig = 2)\n",
    "    except:\n",
    "        masks[i] = masks[i]"
   ]
  },
  {
   "cell_type": "code",
   "execution_count": 137,
   "id": "175bdad5",
   "metadata": {
    "scrolled": true
   },
   "outputs": [
    {
     "data": {
      "text/plain": [
       "(dtype('uint16'), 0, 1)"
      ]
     },
     "execution_count": 137,
     "metadata": {},
     "output_type": "execute_result"
    }
   ],
   "source": [
    "masks.dtype, masks.min(), masks.max()"
   ]
  },
  {
   "cell_type": "code",
   "execution_count": 138,
   "id": "3d0f860d",
   "metadata": {},
   "outputs": [],
   "source": [
    "masks = masks * 4000\n",
    "masks = masks.astype(np.uint16)"
   ]
  },
  {
   "cell_type": "code",
   "execution_count": 139,
   "id": "326d765c",
   "metadata": {},
   "outputs": [],
   "source": [
    "save_file = 'C:/Users/tli_project/Desktop/cell/retreat/start_end/clahe_GFP_211121_brain4.1_LP80_P36_last_mask1.tif'\n",
    "tif.imwrite(save_file, masks)"
   ]
  },
  {
   "cell_type": "code",
   "execution_count": null,
   "id": "71b9a3f8",
   "metadata": {},
   "outputs": [],
   "source": []
  },
  {
   "cell_type": "code",
   "execution_count": null,
   "id": "75c5165d",
   "metadata": {},
   "outputs": [],
   "source": []
  },
  {
   "cell_type": "code",
   "execution_count": 32,
   "id": "784209d5",
   "metadata": {},
   "outputs": [
    {
     "data": {
      "text/plain": [
       "<matplotlib.image.AxesImage at 0x2dae0464148>"
      ]
     },
     "execution_count": 32,
     "metadata": {},
     "output_type": "execute_result"
    },
    {
     "data": {
      "image/png": "[encoded data removed]",
      "text/plain": [
       "<Figure size 432x288 with 1 Axes>"
      ]
     },
     "metadata": {
      "needs_background": "light"
     },
     "output_type": "display_data"
    }
   ],
   "source": [
    "plt.imshow(masks[20,20])"
   ]
  },
  {
   "cell_type": "code",
   "execution_count": 33,
   "id": "920bcdd9",
   "metadata": {},
   "outputs": [],
   "source": [
    "masks = masks * 4000"
   ]
  },
  {
   "cell_type": "code",
   "execution_count": 34,
   "id": "97b11eb3",
   "metadata": {},
   "outputs": [],
   "source": [
    "masks = masks.astype(np.uint16)"
   ]
  },
  {
   "cell_type": "code",
   "execution_count": 35,
   "id": "d4029e75",
   "metadata": {},
   "outputs": [
    {
     "data": {
      "text/plain": [
       "4000"
      ]
     },
     "execution_count": 35,
     "metadata": {},
     "output_type": "execute_result"
    }
   ],
   "source": [
    "masks.max()"
   ]
  },
  {
   "cell_type": "code",
   "execution_count": 21,
   "id": "bd377b27",
   "metadata": {},
   "outputs": [],
   "source": [
    "tif.imwrite('211011_neuron1_masks.tif', masks)"
   ]
  },
  {
   "cell_type": "code",
   "execution_count": 36,
   "id": "f315995e",
   "metadata": {},
   "outputs": [],
   "source": [
    "for i, img in enumerate(masks):\n",
    "    tif.imwrite('211011_neuron1_masks2_'+str(i)+'.tif', img)"
   ]
  },
  {
   "cell_type": "code",
   "execution_count": null,
   "id": "20bc8df4",
   "metadata": {},
   "outputs": [],
   "source": []
  }
 ],
 "metadata": {
  "kernelspec": {
   "display_name": "Python 3 (ipykernel)",
   "language": "python",
   "name": "python3"
  },
  "language_info": {
   "codemirror_mode": {
    "name": "ipython",
    "version": 3
   },
   "file_extension": ".py",
   "mimetype": "text/x-python",
   "name": "python",
   "nbconvert_exporter": "python",
   "pygments_lexer": "ipython3",
   "version": "3.9.7"
  }
 },
 "nbformat": 4,
 "nbformat_minor": 5
}
