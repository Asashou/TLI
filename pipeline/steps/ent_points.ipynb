{
 "cells": [
  {
   "cell_type": "code",
   "execution_count": 48,
   "metadata": {},
   "outputs": [],
   "source": [
    "#imports\n",
    "import utils.analysis as analysis\n",
    "import utils.datautils as datautils\n",
    "import matplotlib.pyplot as plt\n",
    "import tifffile as tif\n",
    "import numpy as np\n",
    "import pandas as pd\n",
    "from read_roi import read_roi_zip as col_zip\n",
    "from read_roi import read_roi_file as col_f\n",
    "import os\n",
    "from PIL import Image\n",
    "import seaborn as sns"
   ]
  },
  {
   "cell_type": "code",
   "execution_count": 49,
   "metadata": {},
   "outputs": [],
   "source": [
    "data_path = '/Users/aichah/Desktop/TLI/data/columns/'\n",
    "save_path = '/Users/aichah/Desktop/TLI/data/columns/output/'"
   ]
  },
  {
   "cell_type": "code",
   "execution_count": 50,
   "metadata": {},
   "outputs": [
    {
     "name": "stdout",
     "output_type": "stream",
     "text": [
      "first 5 files\n",
      "['/Users/aichah/Desktop/TLI/data/columns/T4_50_sD_RoiSet.zip', '/Users/aichah/Desktop/TLI/data/columns/T4_49_sD_RoiSet.zip', '/Users/aichah/Desktop/TLI/data/columns/T4_47_sC_RoiSet.zip', '/Users/aichah/Desktop/TLI/data/columns/T4_45_sA_RoiSet.zip', '/Users/aichah/Desktop/TLI/data/columns/T4_44_sD_RoiSet.zip']\n"
     ]
    }
   ],
   "source": [
    "files_list = datautils.get_file_names(data_path, group_by='.zip', \n",
    "                                    order=True, nested_files=False, \n",
    "                                    criteria='')"
   ]
  },
  {
   "cell_type": "code",
   "execution_count": 51,
   "metadata": {},
   "outputs": [],
   "source": [
    "av_col = col_f('/Users/aichah/Desktop/TLI/data/columns/avg_Col.roi')\n",
    "av_roi = av_col['avg_Col']\n",
    "x1 = av_roi['left']+int(av_roi['width']/2); a = int(av_roi['width']/2)  # x center, half width                                       \n",
    "y1 = av_roi['top']+int(av_roi['height']/2); b = int(av_roi['height']/2)  # y center, half height\n",
    "a1=av_roi['height']\n",
    "b1=av_roi['width']"
   ]
  },
  {
   "cell_type": "code",
   "execution_count": 52,
   "metadata": {},
   "outputs": [],
   "source": [
    "results = []"
   ]
  },
  {
   "cell_type": "code",
   "execution_count": 75,
   "metadata": {},
   "outputs": [],
   "source": [
    "for file in files_list:\n",
    "    name = os.path.basename(file)[:-11]\n",
    "    subtype = name[-1]\n",
    "    Cols = col_zip(file)\n",
    "    ROI_2D = Cols['0,0']\n",
    "    av_roi = av_col['avg_Col']\n",
    "    x0 = ROI_2D['left']+int(ROI_2D['width']/2); a = int(ROI_2D['width']/2)  # x center, half width                                       \n",
    "    y0 = ROI_2D['top']+int(ROI_2D['height']/2); b = int(ROI_2D['height']/2)  # y center, half height\n",
    "    a0=ROI_2D['height']\n",
    "    b0=ROI_2D['width']\n",
    "    ori_y, ori_x = Cols['Entry']['y'][0],Cols['Entry']['x'][0]\n",
    "    y_f, x_f = analysis.transform_point(ori_y, ori_x, \n",
    "                                    x0, y0, #center of ellipse1 \n",
    "                                    a0, b0, #major and minor of ellispe1\n",
    "                                    x1, y1, #center of ellipse2 (ref)\n",
    "                                    a1, b1, # major and minor of ellipse2\n",
    "                                    X_length=800, #X_dim of final array\n",
    "                                    Y_length=800) #Y_dim of final array\n",
    "    results.append([name, subtype, ori_y, ori_x, y_f, x_f])\n",
    "    check_im = np.zeros([800,800])\n",
    "    av_nD, av_3D = analysis.roi_img(check_im, av_col['avg_Col'])\n",
    "    mask_nD, Roi_3D = analysis.roi_img(check_im, Cols['0,0'])\n",
    "    Roi_3D_1 = Roi_3D.copy()\n",
    "    Roi_3D_1[ori_y-2:ori_y+2, ori_x-2:ori_x+2] = 2\n",
    "    final_im = av_3D + Roi_3D_1\n",
    "    final_im[y_f-2:y_f+2, x_f-2:x_f+2] = 2\n",
    "    final_im = 100 * final_im\n",
    "    final_im = final_im.astype('uint8')\n",
    "    final_im = Image.fromarray(final_im)\n",
    "    final_im.save(save_path+name+'.png')"
   ]
  },
  {
   "cell_type": "code",
   "execution_count": 54,
   "metadata": {},
   "outputs": [],
   "source": [
    "columns_1 = ['name', 'subtype', 'ori_y', 'ori_x', 'y_f', 'x_f']\n",
    "results = pd.DataFrame(results, columns=columns_1)"
   ]
  },
  {
   "cell_type": "code",
   "execution_count": 76,
   "metadata": {},
   "outputs": [],
   "source": [
    "final_im_1 = av_3D*2\n",
    "final_im_2 = np.zeros((4,800,800))\n",
    "for i, st in enumerate(final_im_2):\n",
    "    final_im_2[i][av_3D!=0] = 2\n",
    "# final_im_2 = np.broadcast_to(final_im_1, img_nD.shape)\n",
    "# final_im_2 = final_im_2.copy()\n",
    "factor = {'A':10, 'B':20, 'C':30, 'D':40}\n",
    "colors = {'A':'red', 'B':'green', 'C':'blue', 'D':'yellow'}\n",
    "for index, row in results.iterrows():\n",
    "    y,x = row.y_f, row.x_f\n",
    "    final_im_1[y,x] = factor[row['subtype']]\n",
    "    if row.subtype == 'A':\n",
    "        final_im_2[0,y-2:y+2,x-2:x+2] = 10\n",
    "    elif row.subtype == 'B':\n",
    "        final_im_2[1,y-2:y+2,x-2:x+2] = 10\n",
    "    elif row.subtype == 'C':\n",
    "        final_im_2[2,y-2:y+2,x-2:x+2] = 10\n",
    "    elif row.subtype == 'D':\n",
    "        final_im_2[3,y-2:y+2,x-2:x+2] = 10      "
   ]
  },
  {
   "cell_type": "code",
   "execution_count": 77,
   "metadata": {},
   "outputs": [],
   "source": [
    "tif.imsave(save_path+'final_result_1.tif', final_im_1)\n",
    "tif.imsave(save_path+'final_result_5.tif', final_im_2[:,:400,:400])"
   ]
  },
  {
   "cell_type": "code",
   "execution_count": null,
   "metadata": {},
   "outputs": [],
   "source": []
  },
  {
   "cell_type": "code",
   "execution_count": null,
   "metadata": {},
   "outputs": [],
   "source": []
  },
  {
   "cell_type": "code",
   "execution_count": null,
   "metadata": {},
   "outputs": [],
   "source": []
  }
 ],
 "metadata": {
  "kernelspec": {
   "display_name": "Python 3.9.6 ('growth')",
   "language": "python",
   "name": "python3"
  },
  "language_info": {
   "codemirror_mode": {
    "name": "ipython",
    "version": 3
   },
   "file_extension": ".py",
   "mimetype": "text/x-python",
   "name": "python",
   "nbconvert_exporter": "python",
   "pygments_lexer": "ipython3",
   "version": "3.9.6"
  },
  "orig_nbformat": 4,
  "vscode": {
   "interpreter": {
    "hash": "3558778624732e82e76d08d0e1529767d5d68faabf4350c6a5545e8ecf2497ca"
   }
  }
 },
 "nbformat": 4,
 "nbformat_minor": 2
}
