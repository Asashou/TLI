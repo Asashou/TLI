{
 "cells": [
  {
   "cell_type": "markdown",
   "metadata": {},
   "source": [
    "Define your variables (That's the only cells you need to change). Then run the whole notebook"
   ]
  },
  {
   "cell_type": "code",
   "execution_count": 1,
   "metadata": {},
   "outputs": [],
   "source": [
    "image_path = '/home/tli_project/Desktop/Data/T4/stage2/220219/220219_analysis/220219_P48_N1/220219_P48_N1_clahe.tif'\n",
    "save_path = '/home/tli_project/Desktop/Data/T4/stage2/220219/220219_analysis/'\n",
    "save_name = 'SyNRA_4D_220219_P48_mask4'\n",
    "\n",
    "#N2V parameters\n",
    "model_name ='n2v_3D_v6'\n",
    "model_path ='/home/tli_project/Desktop/TLI_preprocessing/Work_folder/N2V/models/'\n",
    "\n",
    "#Clahe parameters:\n",
    "clipLimit = 1\n",
    "kernel_size = (45, 45)"
   ]
  },
  {
   "cell_type": "code",
   "execution_count": 2,
   "metadata": {},
   "outputs": [],
   "source": [
    "if save_path[-1] != '/':\n",
    "    save_path += '/'"
   ]
  },
  {
   "cell_type": "markdown",
   "metadata": {},
   "source": [
    "Load needed packages"
   ]
  },
  {
   "cell_type": "code",
   "execution_count": 3,
   "metadata": {},
   "outputs": [
    {
     "name": "stderr",
     "output_type": "stream",
     "text": [
      "2022-04-29 14:23:54.767966: I tensorflow/stream_executor/platform/default/dso_loader.cc:49] Successfully opened dynamic library libcudart.so.10.1\n"
     ]
    }
   ],
   "source": [
    "import tifffile as tif\n",
    "import numpy as np\n",
    "import utils.denoise as denoise\n",
    "import utils.datautils as datautils\n",
    "import Neurosetta as neu\n",
    "import matplotlib.pyplot as plt"
   ]
  },
  {
   "cell_type": "code",
   "execution_count": 4,
   "metadata": {},
   "outputs": [],
   "source": [
    "# Read 4D GFP image\n",
    "image_4D = tif.imread(image_path)"
   ]
  },
  {
   "cell_type": "code",
   "execution_count": 5,
   "metadata": {},
   "outputs": [
    {
     "name": "stderr",
     "output_type": "stream",
     "text": [
      "2022-04-29 14:21:06.712638: I tensorflow/compiler/jit/xla_cpu_device.cc:41] Not creating XLA devices, tf_xla_enable_xla_devices not set\n",
      "2022-04-29 14:21:06.713251: W tensorflow/stream_executor/platform/default/dso_loader.cc:60] Could not load dynamic library 'libcuda.so.1'; dlerror: libcuda.so.1: cannot open shared object file: No such file or directory; LD_LIBRARY_PATH: /home/tli_project/miniconda3/envs/preprocessing/lib/python3.8/site-packages/cv2/../../lib64:/app/lib\n",
      "2022-04-29 14:21:06.713260: W tensorflow/stream_executor/cuda/cuda_driver.cc:326] failed call to cuInit: UNKNOWN ERROR (303)\n",
      "2022-04-29 14:21:06.713286: I tensorflow/stream_executor/cuda/cuda_diagnostics.cc:169] retrieving CUDA diagnostic information for host: l-p0-345\n",
      "2022-04-29 14:21:06.713289: I tensorflow/stream_executor/cuda/cuda_diagnostics.cc:176] hostname: l-p0-345\n",
      "2022-04-29 14:21:06.713347: I tensorflow/stream_executor/cuda/cuda_diagnostics.cc:200] libcuda reported version is: Not found: was unable to find libcuda.so DSO loaded into this program\n",
      "2022-04-29 14:21:06.713371: I tensorflow/stream_executor/cuda/cuda_diagnostics.cc:204] kernel reported version is: 470.86.0\n",
      "2022-04-29 14:21:06.713524: I tensorflow/core/platform/cpu_feature_guard.cc:142] This TensorFlow binary is optimized with oneAPI Deep Neural Network Library (oneDNN) to use the following CPU instructions in performance-critical operations:  SSE4.1 SSE4.2 AVX AVX2 AVX512F FMA\n",
      "To enable them in other operations, rebuild TensorFlow with the appropriate compiler flags.\n",
      "2022-04-29 14:21:06.713972: I tensorflow/compiler/jit/xla_gpu_device.cc:99] Not creating XLA devices, tf_xla_enable_xla_devices not set\n"
     ]
    },
    {
     "name": "stdout",
     "output_type": "stream",
     "text": [
      "Loading network weights from 'weights_best.h5'.\n"
     ]
    },
    {
     "name": "stderr",
     "output_type": "stream",
     "text": [
      "applying N2V:   0%|          | 0/71 [00:00<?, ?it/s]"
     ]
    },
    {
     "name": "stdout",
     "output_type": "stream",
     "text": [
      "The input image is of type uint16 and will be casted to float32 for prediction.\n"
     ]
    },
    {
     "name": "stderr",
     "output_type": "stream",
     "text": [
      "2022-04-29 14:21:06.987571: I tensorflow/compiler/mlir/mlir_graph_optimization_pass.cc:116] None of the MLIR optimization passes are enabled (registered 2)\n",
      "2022-04-29 14:21:07.011566: I tensorflow/core/platform/profile_utils/cpu_utils.cc:112] CPU Frequency: 2496000000 Hz\n",
      "100%|██████████| 32/32 [01:09<00:00,  2.17s/it]\n",
      "applying N2V:   1%|▏         | 1/71 [01:11<1:22:59, 71.14s/it]"
     ]
    },
    {
     "name": "stdout",
     "output_type": "stream",
     "text": [
      "The input image is of type uint16 and will be casted to float32 for prediction.\n"
     ]
    },
    {
     "name": "stderr",
     "output_type": "stream",
     "text": [
      "100%|██████████| 32/32 [01:07<00:00,  2.12s/it]\n",
      "applying N2V:   3%|▎         | 2/71 [02:21<1:21:03, 70.48s/it]"
     ]
    },
    {
     "name": "stdout",
     "output_type": "stream",
     "text": [
      "The input image is of type uint16 and will be casted to float32 for prediction.\n"
     ]
    },
    {
     "name": "stderr",
     "output_type": "stream",
     "text": []
    }
   ],
   "source": [
    "image_4D = denoise.N2V_4D(image_4D, model_name=model_name, model_path=model_path, \n",
    "                            save=True, save_path=save_path, xy_pixel=0.076, \n",
    "                            z_pixel=0.4, save_file=save_name) "
   ]
  },
  {
   "cell_type": "code",
   "execution_count": 6,
   "metadata": {},
   "outputs": [],
   "source": [
    "# remove further noise pixels before applying clahe, by removing 95% quantil\n",
    "# threshold = np.quantile(image_4D,0.95)\n",
    "# # threshold = 4 * image_4D.mean()\n",
    "# image_4D[image_4D<threshold] = 0\n",
    "# image_4D[mask == 0] = 0"
   ]
  },
  {
   "cell_type": "code",
   "execution_count": 5,
   "metadata": {},
   "outputs": [
    {
     "name": "stderr",
     "output_type": "stream",
     "text": [
      "applying clahe: 100%|██████████| 71/71 [00:11<00:00,  6.36it/s]\n"
     ]
    }
   ],
   "source": [
    "image_4D = denoise.clahe_4D(image_4D, kernel_size=kernel_size, clipLimit=clipLimit, \n",
    "                            save=True, save_path=save_path, xy_pixel=0.076, \n",
    "                            z_pixel=0.4, save_file=save_name)"
   ]
  },
  {
   "cell_type": "code",
   "execution_count": 8,
   "metadata": {},
   "outputs": [],
   "source": [
    "# tif.imwrite(save_path+save_name+'1', image_4D, bigtiff=True, resolution=(1./1, 1./1),\n",
    "#                 metadata={'spacing': 1, 'unit': 'um', 'finterval': 1/10,'axes': 'TZYX'})"
   ]
  },
  {
   "cell_type": "code",
   "execution_count": 7,
   "metadata": {},
   "outputs": [
    {
     "name": "stderr",
     "output_type": "stream",
     "text": [
      "masking the image: 100%|██████████| 71/71 [00:28<00:00,  2.53it/s]\n"
     ]
    }
   ],
   "source": [
    "mask = denoise.mask_4D(image_4D, return_mask=False, \n",
    "                        xy_pixel=0.076, z_pixel=0.4, \n",
    "                        sig=1, save=True, \n",
    "                        save_path=save_path, \n",
    "                        save_file=save_name)"
   ]
  },
  {
   "cell_type": "code",
   "execution_count": 14,
   "metadata": {},
   "outputs": [
    {
     "data": {
      "text/plain": [
       "(0, 54287, 117.13803814904556, 28049.0)"
      ]
     },
     "execution_count": 14,
     "metadata": {},
     "output_type": "execute_result"
    }
   ],
   "source": [
    "mask.min(), mask.max(), mask.mean(), np.quantile(mask, 0.999)"
   ]
  },
  {
   "cell_type": "code",
   "execution_count": 15,
   "metadata": {},
   "outputs": [
    {
     "name": "stderr",
     "output_type": "stream",
     "text": [
      "/home/tli_project/.local/lib/python3.8/site-packages/tifffile/tifffile.py:2876: UserWarning: <tifffile.TiffWriter 'SyNRA_4D_220219_P48_masked.tif'> truncating ImageJ file\n",
      "  warnings.warn(\n"
     ]
    }
   ],
   "source": [
    "mask[mask>0] = 1\n",
    "image_4D = image_4D * mask\n",
    "save_file = save_path+save_name+'_masked.tif'\n",
    "tif.imwrite(save_file, image_4D, imagej=True, resolution=(1./0.076, 1./0.076),\n",
    "                metadata={'spacing': 0.4, 'unit': 'um', 'finterval': 1/10,'axes': 'TZYX'})"
   ]
  },
  {
   "cell_type": "code",
   "execution_count": 10,
   "metadata": {},
   "outputs": [],
   "source": [
    "# # masking the image using neurosetta\n",
    "# image_4D = neu.Neuron(image_4D)\n",
    "# mask =  neu.mask_Neuron(image_4D)\n",
    "# image_4D = image_4D.array\n",
    "# mask = mask.array\n",
    "# for i, img in enumerate(image_4D):\n",
    "#     image_4D[i] = datautils.img_limits(mask[i], limit=img.max())\n",
    "# image_4D = image_4D.astype('int16')\n",
    "# datautils.save_image(save_path+'mask2_'+save_name, image_4D)"
   ]
  },
  {
   "cell_type": "code",
   "execution_count": 11,
   "metadata": {},
   "outputs": [],
   "source": [
    "print('memory cleared, and kernel stopped')\n",
    "print('Job is DONE!')\n",
    "os._exit(00)"
   ]
  },
  {
   "cell_type": "code",
   "execution_count": null,
   "metadata": {},
   "outputs": [],
   "source": []
  }
 ],
 "metadata": {
  "interpreter": {
   "hash": "f3f6acc8ab4cd1097e4d91bbffd405bcf59aaff2754a866d7c8cf61e0274c3d7"
  },
  "kernelspec": {
   "display_name": "Python 3.8.12 64-bit ('preprocessing': conda)",
   "language": "python",
   "name": "python3"
  },
  "language_info": {
   "codemirror_mode": {
    "name": "ipython",
    "version": 3
   },
   "file_extension": ".py",
   "mimetype": "text/x-python",
   "name": "python",
   "nbconvert_exporter": "python",
   "pygments_lexer": "ipython3",
   "version": "3.8.12"
  },
  "orig_nbformat": 4
 },
 "nbformat": 4,
 "nbformat_minor": 2
}
