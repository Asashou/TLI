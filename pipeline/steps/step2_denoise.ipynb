{
 "cells": [
  {
   "cell_type": "markdown",
   "metadata": {},
   "source": [
    "Define your variables (That's the only cells you need to change). Then run the whole notebook"
   ]
  },
  {
   "cell_type": "code",
   "execution_count": 14,
   "metadata": {},
   "outputs": [],
   "source": [
    "image_path = '/home/tli_project/Desktop/Data/T4/stage1/220125_analysis/220125_P36.5_N1/meta/N2V_220125_P36.5_N1_Crop1_Regi_GFP.tif'\n",
    "save_path = '/home/tli_project/Desktop/Data/T4/stage1/220125_analysis/220125_P36.5_N1/meta/'\n",
    "save_name = '220125_P36.5_N1_Crop1_Regi_GFP.tif'\n",
    "\n",
    "#N2V parameters\n",
    "model_name ='n2v_3D_v6'\n",
    "model_path ='/home/tli_project/Desktop/TLI_preprocessing/Work_folder/N2V/models/'\n",
    "\n",
    "#Clahe parameters:\n",
    "clipLimit = 1\n",
    "kernel_size = (60, 60)"
   ]
  },
  {
   "cell_type": "code",
   "execution_count": 15,
   "metadata": {},
   "outputs": [],
   "source": [
    "if save_path[-1] != '/':\n",
    "    save_path += '/'"
   ]
  },
  {
   "cell_type": "markdown",
   "metadata": {},
   "source": [
    "Load needed packages"
   ]
  },
  {
   "cell_type": "code",
   "execution_count": 16,
   "metadata": {},
   "outputs": [],
   "source": [
    "import tifffile as tif\n",
    "import numpy as np\n",
    "import utils.denoise as denoise\n",
    "import utils.datautils as datautils\n",
    "import Neurosetta as neu\n",
    "import matplotlib.pyplot as plt"
   ]
  },
  {
   "cell_type": "code",
   "execution_count": 17,
   "metadata": {},
   "outputs": [],
   "source": [
    "# Read 4D GFP image\n",
    "image_4D = tif.imread(image_path)"
   ]
  },
  {
   "cell_type": "code",
   "execution_count": 5,
   "metadata": {},
   "outputs": [
    {
     "name": "stderr",
     "output_type": "stream",
     "text": [
      "2022-06-14 15:09:35.143788: I tensorflow/compiler/jit/xla_cpu_device.cc:41] Not creating XLA devices, tf_xla_enable_xla_devices not set\n",
      "2022-06-14 15:09:35.144553: W tensorflow/stream_executor/platform/default/dso_loader.cc:60] Could not load dynamic library 'libcuda.so.1'; dlerror: libcuda.so.1: cannot open shared object file: No such file or directory; LD_LIBRARY_PATH: /home/tli_project/miniconda3/envs/preprocessing/lib/python3.8/site-packages/cv2/../../lib64:/app/lib\n",
      "2022-06-14 15:09:35.144571: W tensorflow/stream_executor/cuda/cuda_driver.cc:326] failed call to cuInit: UNKNOWN ERROR (303)\n",
      "2022-06-14 15:09:35.144598: I tensorflow/stream_executor/cuda/cuda_diagnostics.cc:169] retrieving CUDA diagnostic information for host: l-p0-345\n",
      "2022-06-14 15:09:35.144603: I tensorflow/stream_executor/cuda/cuda_diagnostics.cc:176] hostname: l-p0-345\n",
      "2022-06-14 15:09:35.144758: I tensorflow/stream_executor/cuda/cuda_diagnostics.cc:200] libcuda reported version is: Not found: was unable to find libcuda.so DSO loaded into this program\n",
      "2022-06-14 15:09:35.144803: I tensorflow/stream_executor/cuda/cuda_diagnostics.cc:204] kernel reported version is: 470.86.0\n",
      "2022-06-14 15:09:35.145082: I tensorflow/core/platform/cpu_feature_guard.cc:142] This TensorFlow binary is optimized with oneAPI Deep Neural Network Library (oneDNN) to use the following CPU instructions in performance-critical operations:  SSE4.1 SSE4.2 AVX AVX2 AVX512F FMA\n",
      "To enable them in other operations, rebuild TensorFlow with the appropriate compiler flags.\n",
      "2022-06-14 15:09:35.145541: I tensorflow/compiler/jit/xla_gpu_device.cc:99] Not creating XLA devices, tf_xla_enable_xla_devices not set\n"
     ]
    },
    {
     "name": "stdout",
     "output_type": "stream",
     "text": [
      "Loading network weights from 'weights_best.h5'.\n"
     ]
    },
    {
     "name": "stderr",
     "output_type": "stream",
     "text": [
      "applying N2V:   0%|          | 0/91 [00:00<?, ?it/s]"
     ]
    },
    {
     "name": "stdout",
     "output_type": "stream",
     "text": [
      "The input image is of type uint16 and will be casted to float32 for prediction.\n"
     ]
    },
    {
     "name": "stderr",
     "output_type": "stream",
     "text": [
      "2022-06-14 15:09:37.467569: I tensorflow/compiler/mlir/mlir_graph_optimization_pass.cc:116] None of the MLIR optimization passes are enabled (registered 2)\n",
      "2022-06-14 15:09:37.492862: I tensorflow/core/platform/profile_utils/cpu_utils.cc:112] CPU Frequency: 2496000000 Hz\n",
      "100%|██████████| 32/32 [01:50<00:00,  3.46s/it]\n",
      "applying N2V:   1%|          | 1/91 [01:55<2:53:21, 115.57s/it]"
     ]
    },
    {
     "name": "stdout",
     "output_type": "stream",
     "text": [
      "The input image is of type uint16 and will be casted to float32 for prediction.\n"
     ]
    },
    {
     "name": "stderr",
     "output_type": "stream",
     "text": [
      "100%|██████████| 32/32 [01:52<00:00,  3.51s/it]\n",
      "applying N2V:   2%|▏         | 2/91 [03:52<2:52:48, 116.50s/it]"
     ]
    },
    {
     "name": "stdout",
     "output_type": "stream",
     "text": [
      "The input image is of type uint16 and will be casted to float32 for prediction.\n"
     ]
    },
    {
     "name": "stderr",
     "output_type": "stream",
     "text": [
      "100%|██████████| 32/32 [02:30<00:00,  4.69s/it]\n",
      "applying N2V:   3%|▎         | 3/91 [06:27<3:16:42, 134.12s/it]"
     ]
    },
    {
     "name": "stdout",
     "output_type": "stream",
     "text": [
      "The input image is of type uint16 and will be casted to float32 for prediction.\n"
     ]
    },
    {
     "name": "stderr",
     "output_type": "stream",
     "text": [
      "100%|██████████| 32/32 [01:39<00:00,  3.12s/it]\n",
      "applying N2V:   4%|▍         | 4/91 [08:12<2:57:30, 122.42s/it]"
     ]
    },
    {
     "name": "stdout",
     "output_type": "stream",
     "text": [
      "The input image is of type uint16 and will be casted to float32 for prediction.\n"
     ]
    },
    {
     "name": "stderr",
     "output_type": "stream",
     "text": [
      "100%|██████████| 32/32 [01:51<00:00,  3.48s/it]\n",
      "applying N2V:   5%|▌         | 5/91 [10:07<2:51:46, 119.84s/it]"
     ]
    },
    {
     "name": "stdout",
     "output_type": "stream",
     "text": [
      "The input image is of type uint16 and will be casted to float32 for prediction.\n"
     ]
    },
    {
     "name": "stderr",
     "output_type": "stream",
     "text": [
      "100%|██████████| 32/32 [01:39<00:00,  3.12s/it]\n",
      "applying N2V:   7%|▋         | 6/91 [11:51<2:42:09, 114.47s/it]"
     ]
    },
    {
     "name": "stdout",
     "output_type": "stream",
     "text": [
      "The input image is of type uint16 and will be casted to float32 for prediction.\n"
     ]
    },
    {
     "name": "stderr",
     "output_type": "stream",
     "text": [
      "100%|██████████| 32/32 [01:51<00:00,  3.50s/it]\n",
      "applying N2V:   8%|▊         | 7/91 [13:47<2:40:51, 114.90s/it]"
     ]
    },
    {
     "name": "stdout",
     "output_type": "stream",
     "text": [
      "The input image is of type uint16 and will be casted to float32 for prediction.\n"
     ]
    },
    {
     "name": "stderr",
     "output_type": "stream",
     "text": [
      "100%|██████████| 32/32 [01:25<00:00,  2.66s/it]\n",
      "applying N2V:   9%|▉         | 8/91 [15:15<2:27:21, 106.52s/it]"
     ]
    },
    {
     "name": "stdout",
     "output_type": "stream",
     "text": [
      "The input image is of type uint16 and will be casted to float32 for prediction.\n"
     ]
    },
    {
     "name": "stderr",
     "output_type": "stream",
     "text": [
      "100%|██████████| 32/32 [01:50<00:00,  3.45s/it]\n",
      "applying N2V:  10%|▉         | 9/91 [17:09<2:28:46, 108.86s/it]"
     ]
    },
    {
     "name": "stdout",
     "output_type": "stream",
     "text": [
      "The input image is of type uint16 and will be casted to float32 for prediction.\n"
     ]
    },
    {
     "name": "stderr",
     "output_type": "stream",
     "text": [
      "100%|██████████| 32/32 [01:25<00:00,  2.66s/it]\n",
      "applying N2V:  11%|█         | 10/91 [18:37<2:18:05, 102.28s/it]"
     ]
    },
    {
     "name": "stdout",
     "output_type": "stream",
     "text": [
      "The input image is of type uint16 and will be casted to float32 for prediction.\n"
     ]
    },
    {
     "name": "stderr",
     "output_type": "stream",
     "text": [
      "100%|██████████| 32/32 [01:41<00:00,  3.18s/it]\n",
      "applying N2V:  12%|█▏        | 11/91 [20:22<2:17:23, 103.04s/it]"
     ]
    },
    {
     "name": "stdout",
     "output_type": "stream",
     "text": [
      "The input image is of type uint16 and will be casted to float32 for prediction.\n"
     ]
    },
    {
     "name": "stderr",
     "output_type": "stream",
     "text": [
      "100%|██████████| 32/32 [01:39<00:00,  3.11s/it]\n",
      "applying N2V:  13%|█▎        | 12/91 [22:04<2:15:28, 102.89s/it]"
     ]
    },
    {
     "name": "stdout",
     "output_type": "stream",
     "text": [
      "The input image is of type uint16 and will be casted to float32 for prediction.\n"
     ]
    },
    {
     "name": "stderr",
     "output_type": "stream",
     "text": [
      "100%|██████████| 32/32 [01:27<00:00,  2.74s/it]\n",
      "applying N2V:  14%|█▍        | 13/91 [23:36<2:09:08, 99.34s/it] "
     ]
    },
    {
     "name": "stdout",
     "output_type": "stream",
     "text": [
      "The input image is of type uint16 and will be casted to float32 for prediction.\n"
     ]
    },
    {
     "name": "stderr",
     "output_type": "stream",
     "text": [
      "100%|██████████| 32/32 [01:36<00:00,  3.01s/it]\n",
      "applying N2V:  15%|█▌        | 14/91 [25:15<2:07:32, 99.38s/it]"
     ]
    },
    {
     "name": "stdout",
     "output_type": "stream",
     "text": [
      "The input image is of type uint16 and will be casted to float32 for prediction.\n"
     ]
    },
    {
     "name": "stderr",
     "output_type": "stream",
     "text": [
      "100%|██████████| 32/32 [01:23<00:00,  2.61s/it]\n",
      "applying N2V:  16%|█▋        | 15/91 [26:42<2:01:11, 95.67s/it]"
     ]
    },
    {
     "name": "stdout",
     "output_type": "stream",
     "text": [
      "The input image is of type uint16 and will be casted to float32 for prediction.\n"
     ]
    },
    {
     "name": "stderr",
     "output_type": "stream",
     "text": [
      "100%|██████████| 32/32 [01:37<00:00,  3.04s/it]\n",
      "applying N2V:  18%|█▊        | 16/91 [28:23<2:01:26, 97.16s/it]"
     ]
    },
    {
     "name": "stdout",
     "output_type": "stream",
     "text": [
      "The input image is of type uint16 and will be casted to float32 for prediction.\n"
     ]
    },
    {
     "name": "stderr",
     "output_type": "stream",
     "text": [
      "100%|██████████| 32/32 [01:21<00:00,  2.54s/it]\n",
      "applying N2V:  19%|█▊        | 17/91 [29:48<1:55:19, 93.50s/it]"
     ]
    },
    {
     "name": "stdout",
     "output_type": "stream",
     "text": [
      "The input image is of type uint16 and will be casted to float32 for prediction.\n"
     ]
    },
    {
     "name": "stderr",
     "output_type": "stream",
     "text": [
      "100%|██████████| 32/32 [01:36<00:00,  3.03s/it]\n",
      "applying N2V:  20%|█▉        | 18/91 [31:29<1:56:41, 95.91s/it]"
     ]
    },
    {
     "name": "stdout",
     "output_type": "stream",
     "text": [
      "The input image is of type uint16 and will be casted to float32 for prediction.\n"
     ]
    },
    {
     "name": "stderr",
     "output_type": "stream",
     "text": [
      "100%|██████████| 32/32 [01:18<00:00,  2.45s/it]\n",
      "applying N2V:  21%|██        | 19/91 [32:50<1:49:37, 91.36s/it]"
     ]
    },
    {
     "name": "stdout",
     "output_type": "stream",
     "text": [
      "The input image is of type uint16 and will be casted to float32 for prediction.\n"
     ]
    },
    {
     "name": "stderr",
     "output_type": "stream",
     "text": [
      "100%|██████████| 32/32 [01:35<00:00,  3.00s/it]\n",
      "applying N2V:  22%|██▏       | 20/91 [34:28<1:50:25, 93.32s/it]"
     ]
    },
    {
     "name": "stdout",
     "output_type": "stream",
     "text": [
      "The input image is of type uint16 and will be casted to float32 for prediction.\n"
     ]
    },
    {
     "name": "stderr",
     "output_type": "stream",
     "text": [
      "100%|██████████| 32/32 [01:22<00:00,  2.58s/it]\n",
      "applying N2V:  23%|██▎       | 21/91 [35:52<1:45:46, 90.66s/it]"
     ]
    },
    {
     "name": "stdout",
     "output_type": "stream",
     "text": [
      "The input image is of type uint16 and will be casted to float32 for prediction.\n"
     ]
    },
    {
     "name": "stderr",
     "output_type": "stream",
     "text": [
      "100%|██████████| 32/32 [01:30<00:00,  2.82s/it]\n",
      "applying N2V:  24%|██▍       | 22/91 [37:26<1:45:18, 91.58s/it]"
     ]
    },
    {
     "name": "stdout",
     "output_type": "stream",
     "text": [
      "The input image is of type uint16 and will be casted to float32 for prediction.\n"
     ]
    },
    {
     "name": "stderr",
     "output_type": "stream",
     "text": [
      "100%|██████████| 32/32 [01:29<00:00,  2.79s/it]\n",
      "applying N2V:  25%|██▌       | 23/91 [38:57<1:43:36, 91.42s/it]"
     ]
    },
    {
     "name": "stdout",
     "output_type": "stream",
     "text": [
      "The input image is of type uint16 and will be casted to float32 for prediction.\n"
     ]
    },
    {
     "name": "stderr",
     "output_type": "stream",
     "text": [
      "100%|██████████| 32/32 [01:26<00:00,  2.70s/it]\n",
      "applying N2V:  26%|██▋       | 24/91 [40:27<1:41:34, 90.96s/it]"
     ]
    },
    {
     "name": "stdout",
     "output_type": "stream",
     "text": [
      "The input image is of type uint16 and will be casted to float32 for prediction.\n"
     ]
    },
    {
     "name": "stderr",
     "output_type": "stream",
     "text": [
      "100%|██████████| 32/32 [01:32<00:00,  2.90s/it]\n",
      "applying N2V:  27%|██▋       | 25/91 [42:02<1:41:29, 92.27s/it]"
     ]
    },
    {
     "name": "stdout",
     "output_type": "stream",
     "text": [
      "The input image is of type uint16 and will be casted to float32 for prediction.\n"
     ]
    },
    {
     "name": "stderr",
     "output_type": "stream",
     "text": [
      "100%|██████████| 32/32 [01:23<00:00,  2.60s/it]\n",
      "applying N2V:  29%|██▊       | 26/91 [43:29<1:38:01, 90.49s/it]"
     ]
    },
    {
     "name": "stdout",
     "output_type": "stream",
     "text": [
      "The input image is of type uint16 and will be casted to float32 for prediction.\n"
     ]
    },
    {
     "name": "stderr",
     "output_type": "stream",
     "text": [
      "100%|██████████| 32/32 [01:36<00:00,  3.01s/it]\n",
      "applying N2V:  30%|██▉       | 27/91 [45:08<1:39:17, 93.09s/it]"
     ]
    },
    {
     "name": "stdout",
     "output_type": "stream",
     "text": [
      "The input image is of type uint16 and will be casted to float32 for prediction.\n"
     ]
    },
    {
     "name": "stderr",
     "output_type": "stream",
     "text": [
      "100%|██████████| 32/32 [01:21<00:00,  2.55s/it]\n",
      "applying N2V:  31%|███       | 28/91 [46:33<1:35:15, 90.72s/it]"
     ]
    },
    {
     "name": "stdout",
     "output_type": "stream",
     "text": [
      "The input image is of type uint16 and will be casted to float32 for prediction.\n"
     ]
    },
    {
     "name": "stderr",
     "output_type": "stream",
     "text": [
      "100%|██████████| 32/32 [01:34<00:00,  2.97s/it]\n",
      "applying N2V:  32%|███▏      | 29/91 [48:11<1:36:05, 92.99s/it]"
     ]
    },
    {
     "name": "stdout",
     "output_type": "stream",
     "text": [
      "The input image is of type uint16 and will be casted to float32 for prediction.\n"
     ]
    },
    {
     "name": "stderr",
     "output_type": "stream",
     "text": [
      "100%|██████████| 32/32 [01:21<00:00,  2.56s/it]\n",
      "applying N2V:  33%|███▎      | 30/91 [49:36<1:32:07, 90.61s/it]"
     ]
    },
    {
     "name": "stdout",
     "output_type": "stream",
     "text": [
      "The input image is of type uint16 and will be casted to float32 for prediction.\n"
     ]
    },
    {
     "name": "stderr",
     "output_type": "stream",
     "text": [
      "100%|██████████| 32/32 [01:36<00:00,  3.03s/it]\n",
      "applying N2V:  34%|███▍      | 31/91 [51:15<1:33:04, 93.08s/it]"
     ]
    },
    {
     "name": "stdout",
     "output_type": "stream",
     "text": [
      "The input image is of type uint16 and will be casted to float32 for prediction.\n"
     ]
    },
    {
     "name": "stderr",
     "output_type": "stream",
     "text": [
      "100%|██████████| 32/32 [01:21<00:00,  2.53s/it]\n",
      "applying N2V:  35%|███▌      | 32/91 [52:38<1:28:38, 90.15s/it]"
     ]
    },
    {
     "name": "stdout",
     "output_type": "stream",
     "text": [
      "The input image is of type uint16 and will be casted to float32 for prediction.\n"
     ]
    },
    {
     "name": "stderr",
     "output_type": "stream",
     "text": [
      "100%|██████████| 32/32 [01:39<00:00,  3.09s/it]\n",
      "applying N2V:  36%|███▋      | 33/91 [54:19<1:30:16, 93.39s/it]"
     ]
    },
    {
     "name": "stdout",
     "output_type": "stream",
     "text": [
      "The input image is of type uint16 and will be casted to float32 for prediction.\n"
     ]
    },
    {
     "name": "stderr",
     "output_type": "stream",
     "text": [
      "100%|██████████| 32/32 [01:21<00:00,  2.54s/it]\n",
      "applying N2V:  37%|███▋      | 34/91 [55:43<1:25:48, 90.32s/it]"
     ]
    },
    {
     "name": "stdout",
     "output_type": "stream",
     "text": [
      "The input image is of type uint16 and will be casted to float32 for prediction.\n"
     ]
    },
    {
     "name": "stderr",
     "output_type": "stream",
     "text": [
      "100%|██████████| 32/32 [01:31<00:00,  2.86s/it]\n",
      "applying N2V:  38%|███▊      | 35/91 [57:17<1:25:29, 91.59s/it]"
     ]
    },
    {
     "name": "stdout",
     "output_type": "stream",
     "text": [
      "The input image is of type uint16 and will be casted to float32 for prediction.\n"
     ]
    },
    {
     "name": "stderr",
     "output_type": "stream",
     "text": [
      "100%|██████████| 32/32 [01:29<00:00,  2.78s/it]\n",
      "applying N2V:  40%|███▉      | 36/91 [58:49<1:23:56, 91.57s/it]"
     ]
    },
    {
     "name": "stdout",
     "output_type": "stream",
     "text": [
      "The input image is of type uint16 and will be casted to float32 for prediction.\n"
     ]
    },
    {
     "name": "stderr",
     "output_type": "stream",
     "text": [
      "100%|██████████| 32/32 [01:23<00:00,  2.60s/it]\n",
      "applying N2V:  41%|████      | 37/91 [1:00:15<1:21:05, 90.10s/it]"
     ]
    },
    {
     "name": "stdout",
     "output_type": "stream",
     "text": [
      "The input image is of type uint16 and will be casted to float32 for prediction.\n"
     ]
    },
    {
     "name": "stderr",
     "output_type": "stream",
     "text": [
      "100%|██████████| 32/32 [01:34<00:00,  2.94s/it]\n",
      "applying N2V:  42%|████▏     | 38/91 [1:01:52<1:21:26, 92.20s/it]"
     ]
    },
    {
     "name": "stdout",
     "output_type": "stream",
     "text": [
      "The input image is of type uint16 and will be casted to float32 for prediction.\n"
     ]
    },
    {
     "name": "stderr",
     "output_type": "stream",
     "text": [
      "100%|██████████| 32/32 [01:20<00:00,  2.51s/it]\n",
      "applying N2V:  43%|████▎     | 39/91 [1:03:16<1:17:38, 89.59s/it]"
     ]
    },
    {
     "name": "stdout",
     "output_type": "stream",
     "text": [
      "The input image is of type uint16 and will be casted to float32 for prediction.\n"
     ]
    },
    {
     "name": "stderr",
     "output_type": "stream",
     "text": [
      "100%|██████████| 32/32 [01:32<00:00,  2.89s/it]\n",
      "applying N2V:  44%|████▍     | 40/91 [1:04:50<1:17:22, 91.03s/it]"
     ]
    },
    {
     "name": "stdout",
     "output_type": "stream",
     "text": [
      "The input image is of type uint16 and will be casted to float32 for prediction.\n"
     ]
    },
    {
     "name": "stderr",
     "output_type": "stream",
     "text": [
      "100%|██████████| 32/32 [01:20<00:00,  2.51s/it]\n",
      "applying N2V:  45%|████▌     | 41/91 [1:06:13<1:13:42, 88.44s/it]"
     ]
    },
    {
     "name": "stdout",
     "output_type": "stream",
     "text": [
      "The input image is of type uint16 and will be casted to float32 for prediction.\n"
     ]
    },
    {
     "name": "stderr",
     "output_type": "stream",
     "text": [
      "100%|██████████| 32/32 [01:29<00:00,  2.80s/it]\n",
      "applying N2V:  46%|████▌     | 42/91 [1:07:46<1:13:28, 89.98s/it]"
     ]
    },
    {
     "name": "stdout",
     "output_type": "stream",
     "text": [
      "The input image is of type uint16 and will be casted to float32 for prediction.\n"
     ]
    },
    {
     "name": "stderr",
     "output_type": "stream",
     "text": [
      "100%|██████████| 32/32 [01:29<00:00,  2.78s/it]\n",
      "applying N2V:  47%|████▋     | 43/91 [1:09:17<1:12:12, 90.27s/it]"
     ]
    },
    {
     "name": "stdout",
     "output_type": "stream",
     "text": [
      "The input image is of type uint16 and will be casted to float32 for prediction.\n"
     ]
    },
    {
     "name": "stderr",
     "output_type": "stream",
     "text": [
      "100%|██████████| 32/32 [01:25<00:00,  2.67s/it]\n",
      "applying N2V:  48%|████▊     | 44/91 [1:10:46<1:10:26, 89.92s/it]"
     ]
    },
    {
     "name": "stdout",
     "output_type": "stream",
     "text": [
      "The input image is of type uint16 and will be casted to float32 for prediction.\n"
     ]
    },
    {
     "name": "stderr",
     "output_type": "stream",
     "text": [
      "100%|██████████| 32/32 [01:35<00:00,  2.99s/it]\n",
      "applying N2V:  49%|████▉     | 45/91 [1:12:25<1:10:51, 92.42s/it]"
     ]
    },
    {
     "name": "stdout",
     "output_type": "stream",
     "text": [
      "The input image is of type uint16 and will be casted to float32 for prediction.\n"
     ]
    },
    {
     "name": "stderr",
     "output_type": "stream",
     "text": [
      "100%|██████████| 32/32 [01:19<00:00,  2.49s/it]\n",
      "applying N2V:  51%|█████     | 46/91 [1:13:48<1:07:13, 89.63s/it]"
     ]
    },
    {
     "name": "stdout",
     "output_type": "stream",
     "text": [
      "The input image is of type uint16 and will be casted to float32 for prediction.\n"
     ]
    },
    {
     "name": "stderr",
     "output_type": "stream",
     "text": [
      "100%|██████████| 32/32 [01:36<00:00,  3.02s/it]\n",
      "applying N2V:  52%|█████▏    | 47/91 [1:15:26<1:07:41, 92.32s/it]"
     ]
    },
    {
     "name": "stdout",
     "output_type": "stream",
     "text": [
      "The input image is of type uint16 and will be casted to float32 for prediction.\n"
     ]
    },
    {
     "name": "stderr",
     "output_type": "stream",
     "text": [
      "100%|██████████| 32/32 [01:16<00:00,  2.40s/it]\n",
      "applying N2V:  53%|█████▎    | 48/91 [1:16:45<1:03:15, 88.28s/it]"
     ]
    },
    {
     "name": "stdout",
     "output_type": "stream",
     "text": [
      "The input image is of type uint16 and will be casted to float32 for prediction.\n"
     ]
    },
    {
     "name": "stderr",
     "output_type": "stream",
     "text": [
      "100%|██████████| 32/32 [01:30<00:00,  2.83s/it]\n",
      "applying N2V:  54%|█████▍    | 49/91 [1:18:19<1:03:01, 90.04s/it]"
     ]
    },
    {
     "name": "stdout",
     "output_type": "stream",
     "text": [
      "The input image is of type uint16 and will be casted to float32 for prediction.\n"
     ]
    },
    {
     "name": "stderr",
     "output_type": "stream",
     "text": [
      "100%|██████████| 32/32 [01:26<00:00,  2.72s/it]\n",
      "applying N2V:  55%|█████▍    | 50/91 [1:19:48<1:01:16, 89.68s/it]"
     ]
    },
    {
     "name": "stdout",
     "output_type": "stream",
     "text": [
      "The input image is of type uint16 and will be casted to float32 for prediction.\n"
     ]
    },
    {
     "name": "stderr",
     "output_type": "stream",
     "text": [
      "100%|██████████| 32/32 [01:28<00:00,  2.77s/it]\n",
      "applying N2V:  56%|█████▌    | 51/91 [1:21:20<1:00:08, 90.22s/it]"
     ]
    },
    {
     "name": "stdout",
     "output_type": "stream",
     "text": [
      "The input image is of type uint16 and will be casted to float32 for prediction.\n"
     ]
    },
    {
     "name": "stderr",
     "output_type": "stream",
     "text": [
      "100%|██████████| 32/32 [01:32<00:00,  2.91s/it]\n",
      "applying N2V:  57%|█████▋    | 52/91 [1:22:55<59:34, 91.66s/it]  "
     ]
    },
    {
     "name": "stdout",
     "output_type": "stream",
     "text": [
      "The input image is of type uint16 and will be casted to float32 for prediction.\n"
     ]
    },
    {
     "name": "stderr",
     "output_type": "stream",
     "text": [
      "100%|██████████| 32/32 [01:29<00:00,  2.79s/it]\n",
      "applying N2V:  58%|█████▊    | 53/91 [1:24:28<58:19, 92.09s/it]"
     ]
    },
    {
     "name": "stdout",
     "output_type": "stream",
     "text": [
      "The input image is of type uint16 and will be casted to float32 for prediction.\n"
     ]
    },
    {
     "name": "stderr",
     "output_type": "stream",
     "text": [
      "100%|██████████| 32/32 [01:34<00:00,  2.97s/it]\n",
      "applying N2V:  59%|█████▉    | 54/91 [1:26:06<57:52, 93.84s/it]"
     ]
    },
    {
     "name": "stdout",
     "output_type": "stream",
     "text": [
      "The input image is of type uint16 and will be casted to float32 for prediction.\n"
     ]
    },
    {
     "name": "stderr",
     "output_type": "stream",
     "text": [
      "100%|██████████| 32/32 [01:24<00:00,  2.63s/it]\n",
      "applying N2V:  60%|██████    | 55/91 [1:27:34<55:14, 92.07s/it]"
     ]
    },
    {
     "name": "stdout",
     "output_type": "stream",
     "text": [
      "The input image is of type uint16 and will be casted to float32 for prediction.\n"
     ]
    },
    {
     "name": "stderr",
     "output_type": "stream",
     "text": [
      "100%|██████████| 32/32 [01:43<00:00,  3.22s/it]\n",
      "applying N2V:  62%|██████▏   | 56/91 [1:29:20<56:15, 96.43s/it]"
     ]
    },
    {
     "name": "stdout",
     "output_type": "stream",
     "text": [
      "The input image is of type uint16 and will be casted to float32 for prediction.\n"
     ]
    },
    {
     "name": "stderr",
     "output_type": "stream",
     "text": [
      "100%|██████████| 32/32 [01:26<00:00,  2.69s/it]\n",
      "applying N2V:  63%|██████▎   | 57/91 [1:30:50<53:26, 94.31s/it]"
     ]
    },
    {
     "name": "stdout",
     "output_type": "stream",
     "text": [
      "The input image is of type uint16 and will be casted to float32 for prediction.\n"
     ]
    },
    {
     "name": "stderr",
     "output_type": "stream",
     "text": [
      "100%|██████████| 32/32 [01:42<00:00,  3.22s/it]\n",
      "applying N2V:  64%|██████▎   | 58/91 [1:32:36<53:51, 97.92s/it]"
     ]
    },
    {
     "name": "stdout",
     "output_type": "stream",
     "text": [
      "The input image is of type uint16 and will be casted to float32 for prediction.\n"
     ]
    },
    {
     "name": "stderr",
     "output_type": "stream",
     "text": [
      "100%|██████████| 32/32 [01:24<00:00,  2.65s/it]\n",
      "applying N2V:  65%|██████▍   | 59/91 [1:34:04<50:42, 95.07s/it]"
     ]
    },
    {
     "name": "stdout",
     "output_type": "stream",
     "text": [
      "The input image is of type uint16 and will be casted to float32 for prediction.\n"
     ]
    },
    {
     "name": "stderr",
     "output_type": "stream",
     "text": [
      "100%|██████████| 32/32 [01:43<00:00,  3.23s/it]\n",
      "applying N2V:  66%|██████▌   | 60/91 [1:35:51<50:57, 98.62s/it]"
     ]
    },
    {
     "name": "stdout",
     "output_type": "stream",
     "text": [
      "The input image is of type uint16 and will be casted to float32 for prediction.\n"
     ]
    },
    {
     "name": "stderr",
     "output_type": "stream",
     "text": [
      "100%|██████████| 32/32 [01:19<00:00,  2.48s/it]\n",
      "applying N2V:  67%|██████▋   | 61/91 [1:37:15<47:01, 94.05s/it]"
     ]
    },
    {
     "name": "stdout",
     "output_type": "stream",
     "text": [
      "The input image is of type uint16 and will be casted to float32 for prediction.\n"
     ]
    },
    {
     "name": "stderr",
     "output_type": "stream",
     "text": [
      "100%|██████████| 32/32 [01:38<00:00,  3.09s/it]\n",
      "applying N2V:  68%|██████▊   | 62/91 [1:38:57<46:39, 96.52s/it]"
     ]
    },
    {
     "name": "stdout",
     "output_type": "stream",
     "text": [
      "The input image is of type uint16 and will be casted to float32 for prediction.\n"
     ]
    },
    {
     "name": "stderr",
     "output_type": "stream",
     "text": [
      "100%|██████████| 32/32 [01:17<00:00,  2.41s/it]\n",
      "applying N2V:  69%|██████▉   | 63/91 [1:40:16<42:37, 91.35s/it]"
     ]
    },
    {
     "name": "stdout",
     "output_type": "stream",
     "text": [
      "The input image is of type uint16 and will be casted to float32 for prediction.\n"
     ]
    },
    {
     "name": "stderr",
     "output_type": "stream",
     "text": [
      "100%|██████████| 32/32 [01:30<00:00,  2.83s/it]\n",
      "applying N2V:  70%|███████   | 64/91 [1:41:51<41:31, 92.27s/it]"
     ]
    },
    {
     "name": "stdout",
     "output_type": "stream",
     "text": [
      "The input image is of type uint16 and will be casted to float32 for prediction.\n"
     ]
    },
    {
     "name": "stderr",
     "output_type": "stream",
     "text": [
      "100%|██████████| 32/32 [01:30<00:00,  2.82s/it]\n",
      "applying N2V:  71%|███████▏  | 65/91 [1:43:23<39:57, 92.21s/it]"
     ]
    },
    {
     "name": "stdout",
     "output_type": "stream",
     "text": [
      "The input image is of type uint16 and will be casted to float32 for prediction.\n"
     ]
    },
    {
     "name": "stderr",
     "output_type": "stream",
     "text": [
      "100%|██████████| 32/32 [01:26<00:00,  2.70s/it]\n",
      "applying N2V:  73%|███████▎  | 66/91 [1:44:52<38:04, 91.39s/it]"
     ]
    },
    {
     "name": "stdout",
     "output_type": "stream",
     "text": [
      "The input image is of type uint16 and will be casted to float32 for prediction.\n"
     ]
    },
    {
     "name": "stderr",
     "output_type": "stream",
     "text": [
      "100%|██████████| 32/32 [01:34<00:00,  2.95s/it]\n",
      "applying N2V:  74%|███████▎  | 67/91 [1:46:29<37:13, 93.08s/it]"
     ]
    },
    {
     "name": "stdout",
     "output_type": "stream",
     "text": [
      "The input image is of type uint16 and will be casted to float32 for prediction.\n"
     ]
    },
    {
     "name": "stderr",
     "output_type": "stream",
     "text": [
      "100%|██████████| 32/32 [01:22<00:00,  2.58s/it]\n",
      "applying N2V:  75%|███████▍  | 68/91 [1:47:55<34:52, 90.99s/it]"
     ]
    },
    {
     "name": "stdout",
     "output_type": "stream",
     "text": [
      "The input image is of type uint16 and will be casted to float32 for prediction.\n"
     ]
    },
    {
     "name": "stderr",
     "output_type": "stream",
     "text": [
      "100%|██████████| 32/32 [01:35<00:00,  2.99s/it]\n",
      "applying N2V:  76%|███████▌  | 69/91 [1:49:34<34:13, 93.34s/it]"
     ]
    },
    {
     "name": "stdout",
     "output_type": "stream",
     "text": [
      "The input image is of type uint16 and will be casted to float32 for prediction.\n"
     ]
    },
    {
     "name": "stderr",
     "output_type": "stream",
     "text": [
      "100%|██████████| 32/32 [01:22<00:00,  2.58s/it]\n",
      "applying N2V:  77%|███████▋  | 70/91 [1:51:00<31:54, 91.15s/it]"
     ]
    },
    {
     "name": "stdout",
     "output_type": "stream",
     "text": [
      "The input image is of type uint16 and will be casted to float32 for prediction.\n"
     ]
    },
    {
     "name": "stderr",
     "output_type": "stream",
     "text": [
      "100%|██████████| 32/32 [01:37<00:00,  3.06s/it]\n",
      "applying N2V:  78%|███████▊  | 71/91 [1:52:41<31:23, 94.16s/it]"
     ]
    },
    {
     "name": "stdout",
     "output_type": "stream",
     "text": [
      "The input image is of type uint16 and will be casted to float32 for prediction.\n"
     ]
    },
    {
     "name": "stderr",
     "output_type": "stream",
     "text": [
      "100%|██████████| 32/32 [01:14<00:00,  2.33s/it]\n",
      "applying N2V:  79%|███████▉  | 72/91 [1:53:59<28:16, 89.27s/it]"
     ]
    },
    {
     "name": "stdout",
     "output_type": "stream",
     "text": [
      "The input image is of type uint16 and will be casted to float32 for prediction.\n"
     ]
    },
    {
     "name": "stderr",
     "output_type": "stream",
     "text": [
      "100%|██████████| 32/32 [01:35<00:00,  2.99s/it]\n",
      "applying N2V:  80%|████████  | 73/91 [1:55:38<27:40, 92.24s/it]"
     ]
    },
    {
     "name": "stdout",
     "output_type": "stream",
     "text": [
      "The input image is of type uint16 and will be casted to float32 for prediction.\n"
     ]
    },
    {
     "name": "stderr",
     "output_type": "stream",
     "text": [
      "100%|██████████| 32/32 [01:27<00:00,  2.72s/it]\n",
      "applying N2V:  81%|████████▏ | 74/91 [1:57:07<25:51, 91.29s/it]"
     ]
    },
    {
     "name": "stdout",
     "output_type": "stream",
     "text": [
      "The input image is of type uint16 and will be casted to float32 for prediction.\n"
     ]
    },
    {
     "name": "stderr",
     "output_type": "stream",
     "text": [
      "100%|██████████| 32/32 [01:27<00:00,  2.75s/it]\n",
      "applying N2V:  82%|████████▏ | 75/91 [1:58:38<24:19, 91.20s/it]"
     ]
    },
    {
     "name": "stdout",
     "output_type": "stream",
     "text": [
      "The input image is of type uint16 and will be casted to float32 for prediction.\n"
     ]
    },
    {
     "name": "stderr",
     "output_type": "stream",
     "text": [
      "100%|██████████| 32/32 [01:33<00:00,  2.93s/it]\n",
      "applying N2V:  84%|████████▎ | 76/91 [2:00:15<23:10, 92.71s/it]"
     ]
    },
    {
     "name": "stdout",
     "output_type": "stream",
     "text": [
      "The input image is of type uint16 and will be casted to float32 for prediction.\n"
     ]
    },
    {
     "name": "stderr",
     "output_type": "stream",
     "text": [
      "100%|██████████| 32/32 [01:22<00:00,  2.58s/it]\n",
      "applying N2V:  85%|████████▍ | 77/91 [2:01:40<21:09, 90.65s/it]"
     ]
    },
    {
     "name": "stdout",
     "output_type": "stream",
     "text": [
      "The input image is of type uint16 and will be casted to float32 for prediction.\n"
     ]
    },
    {
     "name": "stderr",
     "output_type": "stream",
     "text": [
      "100%|██████████| 32/32 [01:38<00:00,  3.07s/it]\n",
      "applying N2V:  86%|████████▌ | 78/91 [2:03:22<20:21, 93.92s/it]"
     ]
    },
    {
     "name": "stdout",
     "output_type": "stream",
     "text": [
      "The input image is of type uint16 and will be casted to float32 for prediction.\n"
     ]
    },
    {
     "name": "stderr",
     "output_type": "stream",
     "text": [
      "100%|██████████| 32/32 [01:25<00:00,  2.67s/it]\n",
      "applying N2V:  87%|████████▋ | 79/91 [2:04:51<18:30, 92.52s/it]"
     ]
    },
    {
     "name": "stdout",
     "output_type": "stream",
     "text": [
      "The input image is of type uint16 and will be casted to float32 for prediction.\n"
     ]
    },
    {
     "name": "stderr",
     "output_type": "stream",
     "text": [
      "100%|██████████| 32/32 [01:44<00:00,  3.26s/it]\n",
      "applying N2V:  88%|████████▊ | 80/91 [2:06:40<17:50, 97.28s/it]"
     ]
    },
    {
     "name": "stdout",
     "output_type": "stream",
     "text": [
      "The input image is of type uint16 and will be casted to float32 for prediction.\n"
     ]
    },
    {
     "name": "stderr",
     "output_type": "stream",
     "text": [
      "100%|██████████| 32/32 [01:22<00:00,  2.58s/it]\n",
      "applying N2V:  89%|████████▉ | 81/91 [2:08:04<15:34, 93.50s/it]"
     ]
    },
    {
     "name": "stdout",
     "output_type": "stream",
     "text": [
      "The input image is of type uint16 and will be casted to float32 for prediction.\n"
     ]
    },
    {
     "name": "stderr",
     "output_type": "stream",
     "text": [
      "100%|██████████| 32/32 [02:10<00:00,  4.09s/it]\n",
      "applying N2V:  90%|█████████ | 82/91 [2:10:18<15:50, 105.63s/it]"
     ]
    },
    {
     "name": "stdout",
     "output_type": "stream",
     "text": [
      "The input image is of type uint16 and will be casted to float32 for prediction.\n"
     ]
    },
    {
     "name": "stderr",
     "output_type": "stream",
     "text": [
      "100%|██████████| 32/32 [01:21<00:00,  2.56s/it]\n",
      "applying N2V:  91%|█████████ | 83/91 [2:11:42<13:12, 99.10s/it] "
     ]
    },
    {
     "name": "stdout",
     "output_type": "stream",
     "text": [
      "The input image is of type uint16 and will be casted to float32 for prediction.\n"
     ]
    },
    {
     "name": "stderr",
     "output_type": "stream",
     "text": [
      "100%|██████████| 32/32 [01:43<00:00,  3.25s/it]\n",
      "applying N2V:  92%|█████████▏| 84/91 [2:13:28<11:47, 101.11s/it]"
     ]
    },
    {
     "name": "stdout",
     "output_type": "stream",
     "text": [
      "The input image is of type uint16 and will be casted to float32 for prediction.\n"
     ]
    },
    {
     "name": "stderr",
     "output_type": "stream",
     "text": [
      "100%|██████████| 32/32 [01:19<00:00,  2.49s/it]\n",
      "applying N2V:  93%|█████████▎| 85/91 [2:14:50<09:31, 95.30s/it] "
     ]
    },
    {
     "name": "stdout",
     "output_type": "stream",
     "text": [
      "The input image is of type uint16 and will be casted to float32 for prediction.\n"
     ]
    },
    {
     "name": "stderr",
     "output_type": "stream",
     "text": [
      "100%|██████████| 32/32 [01:37<00:00,  3.03s/it]\n",
      "applying N2V:  95%|█████████▍| 86/91 [2:16:30<08:04, 96.84s/it]"
     ]
    },
    {
     "name": "stdout",
     "output_type": "stream",
     "text": [
      "The input image is of type uint16 and will be casted to float32 for prediction.\n"
     ]
    },
    {
     "name": "stderr",
     "output_type": "stream",
     "text": [
      "100%|██████████| 32/32 [01:24<00:00,  2.65s/it]\n",
      "applying N2V:  96%|█████████▌| 87/91 [2:17:57<06:15, 93.82s/it]"
     ]
    },
    {
     "name": "stdout",
     "output_type": "stream",
     "text": [
      "The input image is of type uint16 and will be casted to float32 for prediction.\n"
     ]
    },
    {
     "name": "stderr",
     "output_type": "stream",
     "text": [
      "100%|██████████| 32/32 [01:32<00:00,  2.89s/it]\n",
      "applying N2V:  97%|█████████▋| 88/91 [2:19:33<04:43, 94.40s/it]"
     ]
    },
    {
     "name": "stdout",
     "output_type": "stream",
     "text": [
      "The input image is of type uint16 and will be casted to float32 for prediction.\n"
     ]
    },
    {
     "name": "stderr",
     "output_type": "stream",
     "text": [
      "100%|██████████| 32/32 [01:27<00:00,  2.75s/it]\n",
      "applying N2V:  98%|█████████▊| 89/91 [2:21:03<03:06, 93.29s/it]"
     ]
    },
    {
     "name": "stdout",
     "output_type": "stream",
     "text": [
      "The input image is of type uint16 and will be casted to float32 for prediction.\n"
     ]
    },
    {
     "name": "stderr",
     "output_type": "stream",
     "text": [
      "100%|██████████| 32/32 [01:29<00:00,  2.79s/it]\n",
      "applying N2V:  99%|█████████▉| 90/91 [2:22:36<01:33, 93.19s/it]"
     ]
    },
    {
     "name": "stdout",
     "output_type": "stream",
     "text": [
      "The input image is of type uint16 and will be casted to float32 for prediction.\n"
     ]
    },
    {
     "name": "stderr",
     "output_type": "stream",
     "text": [
      "100%|██████████| 32/32 [01:31<00:00,  2.84s/it]\n",
      "applying N2V: 100%|██████████| 91/91 [2:24:09<00:00, 95.05s/it]\n"
     ]
    }
   ],
   "source": [
    "image_4D = denoise.N2V_4D(image_4D, model_name=model_name, model_path=model_path, \n",
    "                            save=True, save_path=save_path, xy_pixel=0.076, \n",
    "                            z_pixel=0.4, save_file=save_name) "
   ]
  },
  {
   "cell_type": "code",
   "execution_count": 18,
   "metadata": {},
   "outputs": [],
   "source": [
    "# remove further noise pixels before applying clahe, by removing 95% quantil\n",
    "# threshold = np.quantile(image_4D,0.95)\n",
    "# # threshold = 4 * image_4D.mean()\n",
    "threshold = 300\n",
    "image_4D[image_4D<threshold] = 0\n",
    "# image_4D[mask == 0] = 0"
   ]
  },
  {
   "cell_type": "code",
   "execution_count": 19,
   "metadata": {},
   "outputs": [
    {
     "data": {
      "text/plain": [
       "(0, 2613)"
      ]
     },
     "execution_count": 19,
     "metadata": {},
     "output_type": "execute_result"
    }
   ],
   "source": [
    "image_4D.min(), image_4D.max()"
   ]
  },
  {
   "cell_type": "code",
   "execution_count": 20,
   "metadata": {},
   "outputs": [
    {
     "name": "stderr",
     "output_type": "stream",
     "text": [
      "applying clahe: 100%|██████████| 91/91 [04:03<00:00,  2.68s/it]\n"
     ]
    }
   ],
   "source": [
    "image_4D = denoise.clahe_4D(image_4D, kernel_size=kernel_size, clipLimit=clipLimit, \n",
    "                            save=True, save_path=save_path, xy_pixel=0.076, \n",
    "                            z_pixel=0.4, save_file=save_name)"
   ]
  },
  {
   "cell_type": "code",
   "execution_count": null,
   "metadata": {},
   "outputs": [],
   "source": [
    "# tif.imwrite(save_path+save_name+'1', image_4D, bigtiff=True, resolution=(1./1, 1./1),\n",
    "#                 metadata={'spacing': 1, 'unit': 'um', 'finterval': 1/10,'axes': 'TZYX'})"
   ]
  },
  {
   "cell_type": "code",
   "execution_count": 7,
   "metadata": {},
   "outputs": [
    {
     "name": "stderr",
     "output_type": "stream",
     "text": [
      "masking the image: 100%|██████████| 93/93 [03:20<00:00,  2.15s/it]\n",
      "/home/tli_project/.local/lib/python3.8/site-packages/tifffile/tifffile.py:2876: UserWarning: <tifffile.TiffWriter 'mask_SyNRA_4D_211114_P36.tif'> truncating ImageJ file\n",
      "  warnings.warn(\n"
     ]
    }
   ],
   "source": [
    "mask = denoise.mask_4D(image_4D, return_mask=False, \n",
    "                        xy_pixel=0.076, z_pixel=0.4, \n",
    "                        sig=1, save=True, \n",
    "                        save_path=save_path, \n",
    "                        save_file=save_name)"
   ]
  },
  {
   "cell_type": "code",
   "execution_count": 14,
   "metadata": {},
   "outputs": [
    {
     "data": {
      "text/plain": [
       "(0, 54287, 117.13803814904556, 28049.0)"
      ]
     },
     "execution_count": 14,
     "metadata": {},
     "output_type": "execute_result"
    }
   ],
   "source": [
    "mask.min(), mask.max(), mask.mean(), np.quantile(mask, 0.999)"
   ]
  },
  {
   "cell_type": "code",
   "execution_count": 8,
   "metadata": {},
   "outputs": [
    {
     "name": "stderr",
     "output_type": "stream",
     "text": [
      "/home/tli_project/.local/lib/python3.8/site-packages/tifffile/tifffile.py:2876: UserWarning: <tifffile.TiffWriter 'SyNRA_4D_211114_P36_masked.tif'> truncating ImageJ file\n",
      "  warnings.warn(\n"
     ]
    }
   ],
   "source": [
    "mask[mask>0] = 1\n",
    "image_4D = image_4D * mask\n",
    "save_file = save_path+save_name+'_masked.tif'\n",
    "tif.imwrite(save_file, image_4D, imagej=True, resolution=(1./0.076, 1./0.076),\n",
    "                metadata={'spacing': 0.4, 'unit': 'um', 'finterval': 1/10,'axes': 'TZYX'})"
   ]
  },
  {
   "cell_type": "code",
   "execution_count": 15,
   "metadata": {},
   "outputs": [],
   "source": [
    "# # masking the image using neurosetta\n",
    "# image_4D = neu.Neuron(image_4D)\n",
    "# mask =  neu.mask_Neuron(image_4D)\n",
    "# image_4D = image_4D.array\n",
    "# mask = mask.array\n",
    "# for i, img in enumerate(image_4D):\n",
    "#     image_4D[i] = datautils.img_limits(mask[i], limit=img.max())\n",
    "# image_4D = image_4D.astype('int16')\n",
    "# datautils.save_image(save_path+'mask2_'+save_name, image_4D)"
   ]
  },
  {
   "cell_type": "code",
   "execution_count": 16,
   "metadata": {},
   "outputs": [
    {
     "ename": "Error",
     "evalue": "Canceled future for execute_request message before replies were done",
     "output_type": "error",
     "traceback": [
      "Error: Canceled future for execute_request message before replies were done",
      "at t.KernelShellFutureHandler.dispose (/home/tli_project/.var/app/com.visualstudio.code/data/vscode/extensions/ms-toolsai.jupyter-2022.3.1000901801/out/extension.js:2:1204175)",
      "at /home/tli_project/.var/app/com.visualstudio.code/data/vscode/extensions/ms-toolsai.jupyter-2022.3.1000901801/out/extension.js:2:1223227",
      "at Map.forEach (<anonymous>)",
      "at v._clearKernelState (/home/tli_project/.var/app/com.visualstudio.code/data/vscode/extensions/ms-toolsai.jupyter-2022.3.1000901801/out/extension.js:2:1223212)",
      "at v.dispose (/home/tli_project/.var/app/com.visualstudio.code/data/vscode/extensions/ms-toolsai.jupyter-2022.3.1000901801/out/extension.js:2:1216694)",
      "at /home/tli_project/.var/app/com.visualstudio.code/data/vscode/extensions/ms-toolsai.jupyter-2022.3.1000901801/out/extension.js:2:533674",
      "at t.swallowExceptions (/home/tli_project/.var/app/com.visualstudio.code/data/vscode/extensions/ms-toolsai.jupyter-2022.3.1000901801/out/extension.js:2:913059)",
      "at dispose (/home/tli_project/.var/app/com.visualstudio.code/data/vscode/extensions/ms-toolsai.jupyter-2022.3.1000901801/out/extension.js:2:533652)",
      "at t.RawSession.dispose (/home/tli_project/.var/app/com.visualstudio.code/data/vscode/extensions/ms-toolsai.jupyter-2022.3.1000901801/out/extension.js:2:537330)",
      "at runMicrotasks (<anonymous>)",
      "at processTicksAndRejections (node:internal/process/task_queues:96:5)"
     ]
    }
   ],
   "source": [
    "print('memory cleared, and kernel stopped')\n",
    "print('Job is DONE!')\n",
    "os._exit(00)"
   ]
  },
  {
   "cell_type": "code",
   "execution_count": null,
   "metadata": {},
   "outputs": [],
   "source": []
  }
 ],
 "metadata": {
  "interpreter": {
   "hash": "f3f6acc8ab4cd1097e4d91bbffd405bcf59aaff2754a866d7c8cf61e0274c3d7"
  },
  "kernelspec": {
   "display_name": "Python 3.8.12 64-bit ('preprocessing': conda)",
   "language": "python",
   "name": "python3"
  },
  "language_info": {
   "codemirror_mode": {
    "name": "ipython",
    "version": 3
   },
   "file_extension": ".py",
   "mimetype": "text/x-python",
   "name": "python",
   "nbconvert_exporter": "python",
   "pygments_lexer": "ipython3",
   "version": "3.8.12"
  },
  "orig_nbformat": 4
 },
 "nbformat": 4,
 "nbformat_minor": 2
}
