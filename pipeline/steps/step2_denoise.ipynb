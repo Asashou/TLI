{
 "cells": [
  {
   "cell_type": "markdown",
   "metadata": {},
   "source": [
    "Define your variables (That's the only cells you need to change). Then run the whole notebook"
   ]
  },
  {
   "cell_type": "code",
   "execution_count": null,
   "metadata": {},
   "outputs": [],
   "source": [
    "### files metadata\n",
    "xy_pixel: 0.0764616\n",
    "z_pixel: 0.4\n",
    "\n",
    "image_path = '/usr/home/mpg08/aicha.hajiali/TLI_project/TLI_data/registered/211104_analysis/4D_GFP_GFP_SyNRA_4D_211104_brain1.2.tif'\n",
    "save_path = '/usr/home/mpg08/aicha.hajiali/TLI_project/TLI_data/registered/211104_analysis/'\n",
    "save_name = '4D_GFP_211104_brain1.2'\n",
    "\n",
    "#N2V parameters\n",
    "model_name ='n2v_3D_v6'\n",
    "model_path ='/home/mpg08/aicha.hajiali/TLI_project/preprocessing/n2v/models/'\n",
    "\n",
    "#Clahe parameters:\n",
    "clipLimit = 1\n",
    "kernel_size = (45, 45)"
   ]
  },
  {
   "cell_type": "code",
   "execution_count": null,
   "metadata": {},
   "outputs": [],
   "source": [
    "if save_path[-1] != '/':\n",
    "    save_path += '/'"
   ]
  },
  {
   "cell_type": "markdown",
   "metadata": {},
   "source": [
    "Load needed packages"
   ]
  },
  {
   "cell_type": "code",
   "execution_count": null,
   "metadata": {},
   "outputs": [],
   "source": [
    "import tifffile as tif\n",
    "import utils.denoise as denoise\n",
    "import utils.datautils as datautils\n",
    "import Neurosetta as neu"
   ]
  },
  {
   "cell_type": "code",
   "execution_count": null,
   "metadata": {},
   "outputs": [],
   "source": [
    "# Read 4D GFP image\n",
    "image_4D = tif.imread(image_path)"
   ]
  },
  {
   "cell_type": "code",
   "execution_count": null,
   "metadata": {},
   "outputs": [],
   "source": [
    "image_4D = denoise.N2V_4D(image_4D, model_name=model_name, model_path=model_path, \n",
    "                            save=True, save_path=save_path, xy_pixel=0.076, \n",
    "                            z_pixel=0.4, save_file=save_name) "
   ]
  },
  {
   "cell_type": "code",
   "execution_count": null,
   "metadata": {},
   "outputs": [],
   "source": [
    "image_4D = denoise.clahe_4D(image_4D, kernel_size=kernel_size, clipLimit=clipLimit, \n",
    "                            save=True, save_path=save_path, xy_pixel=0.076, \n",
    "                            z_pixel=0.4, save_file=save_name) "
   ]
  }
 ],
 "metadata": {
  "language_info": {
   "name": "python"
  },
  "orig_nbformat": 4
 },
 "nbformat": 4,
 "nbformat_minor": 2
}
