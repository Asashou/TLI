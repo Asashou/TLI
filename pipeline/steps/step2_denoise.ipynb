{
 "cells": [
  {
   "cell_type": "markdown",
   "metadata": {},
   "source": [
    "Define your variables (That's the only cells you need to change). Then run the whole notebook"
   ]
  },
  {
   "cell_type": "code",
   "execution_count": 1,
   "metadata": {},
   "outputs": [],
   "source": [
    "image_path = '/home/tli_project/Desktop/Data/T4/stage1/211113/N2V_GFP_SyNRA_4D_211113_P36.tif'\n",
    "save_path = '/home/tli_project/Desktop/Data/T4/stage1/211113/test/'\n",
    "save_name = 'GFP_SyNRA_4D_211113_P36'\n",
    "\n",
    "#N2V parameters\n",
    "model_name ='n2v_3D_v6'\n",
    "model_path ='/home/tli_project/Desktop/TLI_preprocessing/Work_folder/N2V/models/'\n",
    "\n",
    "#Clahe parameters:\n",
    "clipLimit = 1\n",
    "kernel_size = (45, 45)"
   ]
  },
  {
   "cell_type": "code",
   "execution_count": 2,
   "metadata": {},
   "outputs": [],
   "source": [
    "if save_path[-1] != '/':\n",
    "    save_path += '/'"
   ]
  },
  {
   "cell_type": "markdown",
   "metadata": {},
   "source": [
    "Load needed packages"
   ]
  },
  {
   "cell_type": "code",
   "execution_count": 3,
   "metadata": {},
   "outputs": [
    {
     "name": "stderr",
     "output_type": "stream",
     "text": [
      "2022-03-16 16:06:39.805961: I tensorflow/stream_executor/platform/default/dso_loader.cc:49] Successfully opened dynamic library libcudart.so.10.1\n"
     ]
    }
   ],
   "source": [
    "import tifffile as tif\n",
    "import numpy as np\n",
    "import utils.denoise as denoise\n",
    "import utils.datautils as datautils\n",
    "import Neurosetta as neu\n",
    "import matplotlib.pyplot as plt"
   ]
  },
  {
   "cell_type": "code",
   "execution_count": 4,
   "metadata": {},
   "outputs": [],
   "source": [
    "# from skimage import data, img_as_float\n",
    "# from skimage import exposure\n",
    "# import cv2 as cv"
   ]
  },
  {
   "cell_type": "code",
   "execution_count": 20,
   "metadata": {},
   "outputs": [],
   "source": [
    "# Read 4D GFP image\n",
    "image_4D = tif.imread(image_path)"
   ]
  },
  {
   "cell_type": "code",
   "execution_count": 5,
   "metadata": {},
   "outputs": [
    {
     "name": "stderr",
     "output_type": "stream",
     "text": [
      "2022-03-14 15:29:33.154197: I tensorflow/compiler/jit/xla_cpu_device.cc:41] Not creating XLA devices, tf_xla_enable_xla_devices not set\n",
      "2022-03-14 15:29:33.154777: I tensorflow/stream_executor/platform/default/dso_loader.cc:49] Successfully opened dynamic library libcuda.so.1\n",
      "2022-03-14 15:29:33.259820: I tensorflow/stream_executor/cuda/cuda_gpu_executor.cc:941] successful NUMA node read from SysFS had negative value (-1), but there must be at least one NUMA node, so returning NUMA node zero\n",
      "2022-03-14 15:29:33.260596: I tensorflow/core/common_runtime/gpu/gpu_device.cc:1720] Found device 0 with properties: \n",
      "pciBusID: 0000:01:00.0 name: NVIDIA GeForce RTX 3090 computeCapability: 8.6\n",
      "coreClock: 1.695GHz coreCount: 82 deviceMemorySize: 23.69GiB deviceMemoryBandwidth: 871.81GiB/s\n",
      "2022-03-14 15:29:33.260616: I tensorflow/stream_executor/platform/default/dso_loader.cc:49] Successfully opened dynamic library libcudart.so.10.1\n",
      "2022-03-14 15:29:33.279375: I tensorflow/stream_executor/platform/default/dso_loader.cc:49] Successfully opened dynamic library libcublas.so.10\n",
      "2022-03-14 15:29:33.279452: I tensorflow/stream_executor/platform/default/dso_loader.cc:49] Successfully opened dynamic library libcublasLt.so.10\n",
      "2022-03-14 15:29:33.288853: I tensorflow/stream_executor/platform/default/dso_loader.cc:49] Successfully opened dynamic library libcufft.so.10\n",
      "2022-03-14 15:29:33.291257: I tensorflow/stream_executor/platform/default/dso_loader.cc:49] Successfully opened dynamic library libcurand.so.10\n",
      "2022-03-14 15:29:33.307317: I tensorflow/stream_executor/platform/default/dso_loader.cc:49] Successfully opened dynamic library libcusolver.so.10\n",
      "2022-03-14 15:29:33.313085: I tensorflow/stream_executor/platform/default/dso_loader.cc:49] Successfully opened dynamic library libcusparse.so.10\n",
      "2022-03-14 15:29:33.341556: I tensorflow/stream_executor/platform/default/dso_loader.cc:49] Successfully opened dynamic library libcudnn.so.7\n",
      "2022-03-14 15:29:33.341828: I tensorflow/stream_executor/cuda/cuda_gpu_executor.cc:941] successful NUMA node read from SysFS had negative value (-1), but there must be at least one NUMA node, so returning NUMA node zero\n",
      "2022-03-14 15:29:33.344008: I tensorflow/stream_executor/cuda/cuda_gpu_executor.cc:941] successful NUMA node read from SysFS had negative value (-1), but there must be at least one NUMA node, so returning NUMA node zero\n",
      "2022-03-14 15:29:33.345755: I tensorflow/core/common_runtime/gpu/gpu_device.cc:1862] Adding visible gpu devices: 0\n",
      "2022-03-14 15:29:33.346265: I tensorflow/core/platform/cpu_feature_guard.cc:142] This TensorFlow binary is optimized with oneAPI Deep Neural Network Library (oneDNN) to use the following CPU instructions in performance-critical operations:  SSE4.1 SSE4.2 AVX AVX2 AVX512F FMA\n",
      "To enable them in other operations, rebuild TensorFlow with the appropriate compiler flags.\n",
      "2022-03-14 15:29:33.348416: I tensorflow/stream_executor/cuda/cuda_gpu_executor.cc:941] successful NUMA node read from SysFS had negative value (-1), but there must be at least one NUMA node, so returning NUMA node zero\n",
      "2022-03-14 15:29:33.350481: I tensorflow/core/common_runtime/gpu/gpu_device.cc:1720] Found device 0 with properties: \n",
      "pciBusID: 0000:01:00.0 name: NVIDIA GeForce RTX 3090 computeCapability: 8.6\n",
      "coreClock: 1.695GHz coreCount: 82 deviceMemorySize: 23.69GiB deviceMemoryBandwidth: 871.81GiB/s\n",
      "2022-03-14 15:29:33.350545: I tensorflow/stream_executor/platform/default/dso_loader.cc:49] Successfully opened dynamic library libcudart.so.10.1\n",
      "2022-03-14 15:29:33.350591: I tensorflow/stream_executor/platform/default/dso_loader.cc:49] Successfully opened dynamic library libcublas.so.10\n",
      "2022-03-14 15:29:33.350618: I tensorflow/stream_executor/platform/default/dso_loader.cc:49] Successfully opened dynamic library libcublasLt.so.10\n",
      "2022-03-14 15:29:33.350642: I tensorflow/stream_executor/platform/default/dso_loader.cc:49] Successfully opened dynamic library libcufft.so.10\n",
      "2022-03-14 15:29:33.350665: I tensorflow/stream_executor/platform/default/dso_loader.cc:49] Successfully opened dynamic library libcurand.so.10\n",
      "2022-03-14 15:29:33.350687: I tensorflow/stream_executor/platform/default/dso_loader.cc:49] Successfully opened dynamic library libcusolver.so.10\n",
      "2022-03-14 15:29:33.350712: I tensorflow/stream_executor/platform/default/dso_loader.cc:49] Successfully opened dynamic library libcusparse.so.10\n",
      "2022-03-14 15:29:33.350735: I tensorflow/stream_executor/platform/default/dso_loader.cc:49] Successfully opened dynamic library libcudnn.so.7\n",
      "2022-03-14 15:29:33.350850: I tensorflow/stream_executor/cuda/cuda_gpu_executor.cc:941] successful NUMA node read from SysFS had negative value (-1), but there must be at least one NUMA node, so returning NUMA node zero\n",
      "2022-03-14 15:29:33.352574: I tensorflow/stream_executor/cuda/cuda_gpu_executor.cc:941] successful NUMA node read from SysFS had negative value (-1), but there must be at least one NUMA node, so returning NUMA node zero\n",
      "2022-03-14 15:29:33.353879: I tensorflow/core/common_runtime/gpu/gpu_device.cc:1862] Adding visible gpu devices: 0\n",
      "2022-03-14 15:29:33.353922: I tensorflow/stream_executor/platform/default/dso_loader.cc:49] Successfully opened dynamic library libcudart.so.10.1\n",
      "2022-03-14 15:34:58.533052: I tensorflow/core/common_runtime/gpu/gpu_device.cc:1261] Device interconnect StreamExecutor with strength 1 edge matrix:\n",
      "2022-03-14 15:34:58.533069: I tensorflow/core/common_runtime/gpu/gpu_device.cc:1267]      0 \n",
      "2022-03-14 15:34:58.533073: I tensorflow/core/common_runtime/gpu/gpu_device.cc:1280] 0:   N \n",
      "2022-03-14 15:34:58.533268: I tensorflow/stream_executor/cuda/cuda_gpu_executor.cc:941] successful NUMA node read from SysFS had negative value (-1), but there must be at least one NUMA node, so returning NUMA node zero\n",
      "2022-03-14 15:34:58.534117: I tensorflow/stream_executor/cuda/cuda_gpu_executor.cc:941] successful NUMA node read from SysFS had negative value (-1), but there must be at least one NUMA node, so returning NUMA node zero\n",
      "2022-03-14 15:34:58.534867: I tensorflow/stream_executor/cuda/cuda_gpu_executor.cc:941] successful NUMA node read from SysFS had negative value (-1), but there must be at least one NUMA node, so returning NUMA node zero\n",
      "2022-03-14 15:34:58.535537: I tensorflow/core/common_runtime/gpu/gpu_device.cc:1406] Created TensorFlow device (/job:localhost/replica:0/task:0/device:GPU:0 with 22001 MB memory) -> physical GPU (device: 0, name: NVIDIA GeForce RTX 3090, pci bus id: 0000:01:00.0, compute capability: 8.6)\n",
      "2022-03-14 15:34:58.535768: I tensorflow/compiler/jit/xla_gpu_device.cc:99] Not creating XLA devices, tf_xla_enable_xla_devices not set\n"
     ]
    },
    {
     "name": "stdout",
     "output_type": "stream",
     "text": [
      "Loading network weights from 'weights_best.h5'.\n"
     ]
    },
    {
     "name": "stderr",
     "output_type": "stream",
     "text": [
      "applying N2V:   0%|          | 0/86 [00:00<?, ?it/s]"
     ]
    },
    {
     "name": "stdout",
     "output_type": "stream",
     "text": [
      "The input image is of type int16 and will be casted to float32 for prediction.\n"
     ]
    },
    {
     "name": "stderr",
     "output_type": "stream",
     "text": [
      "2022-03-14 15:35:00.205751: I tensorflow/compiler/mlir/mlir_graph_optimization_pass.cc:116] None of the MLIR optimization passes are enabled (registered 2)\n",
      "2022-03-14 15:35:00.230710: I tensorflow/core/platform/profile_utils/cpu_utils.cc:112] CPU Frequency: 2496000000 Hz\n",
      "2022-03-14 15:35:00.435042: I tensorflow/stream_executor/platform/default/dso_loader.cc:49] Successfully opened dynamic library libcudnn.so.7\n",
      "2022-03-14 15:48:08.967657: W tensorflow/stream_executor/gpu/asm_compiler.cc:63] Running ptxas --version returned 256\n",
      "2022-03-14 15:48:09.100507: W tensorflow/stream_executor/gpu/redzone_allocator.cc:314] Internal: ptxas exited with non-zero error code 256, output: \n",
      "Relying on driver to perform ptx compilation. \n",
      "Modify $PATH to customize ptxas location.\n",
      "This message will be only logged once.\n",
      "2022-03-14 15:48:09.854446: I tensorflow/stream_executor/platform/default/dso_loader.cc:49] Successfully opened dynamic library libcublas.so.10\n",
      "100%|██████████| 32/32 [00:11<00:00,  2.71it/s]\n",
      "applying N2V:   1%|          | 1/86 [14:41<20:48:33, 881.33s/it]"
     ]
    },
    {
     "name": "stdout",
     "output_type": "stream",
     "text": [
      "The input image is of type int16 and will be casted to float32 for prediction.\n"
     ]
    },
    {
     "name": "stderr",
     "output_type": "stream",
     "text": [
      "100%|██████████| 32/32 [00:11<00:00,  2.87it/s]\n",
      "applying N2V:   2%|▏         | 2/86 [14:53<8:37:48, 369.87s/it] "
     ]
    },
    {
     "name": "stdout",
     "output_type": "stream",
     "text": [
      "The input image is of type int16 and will be casted to float32 for prediction.\n"
     ]
    },
    {
     "name": "stderr",
     "output_type": "stream",
     "text": [
      "100%|██████████| 32/32 [00:11<00:00,  2.89it/s]\n",
      "applying N2V:   3%|▎         | 3/86 [15:04<4:45:26, 206.34s/it]"
     ]
    },
    {
     "name": "stdout",
     "output_type": "stream",
     "text": [
      "The input image is of type int16 and will be casted to float32 for prediction.\n"
     ]
    },
    {
     "name": "stderr",
     "output_type": "stream",
     "text": [
      "100%|██████████| 32/32 [00:10<00:00,  2.93it/s]\n",
      "applying N2V:   5%|▍         | 4/86 [15:16<2:56:56, 129.47s/it]"
     ]
    },
    {
     "name": "stdout",
     "output_type": "stream",
     "text": [
      "The input image is of type int16 and will be casted to float32 for prediction.\n"
     ]
    },
    {
     "name": "stderr",
     "output_type": "stream",
     "text": [
      "100%|██████████| 32/32 [00:11<00:00,  2.86it/s]\n",
      "applying N2V:   6%|▌         | 5/86 [15:28<1:57:31, 87.06s/it] "
     ]
    },
    {
     "name": "stdout",
     "output_type": "stream",
     "text": [
      "The input image is of type int16 and will be casted to float32 for prediction.\n"
     ]
    },
    {
     "name": "stderr",
     "output_type": "stream",
     "text": [
      "100%|██████████| 32/32 [00:10<00:00,  2.91it/s]\n",
      "applying N2V:   7%|▋         | 6/86 [15:40<1:21:53, 61.42s/it]"
     ]
    },
    {
     "name": "stdout",
     "output_type": "stream",
     "text": [
      "The input image is of type int16 and will be casted to float32 for prediction.\n"
     ]
    },
    {
     "name": "stderr",
     "output_type": "stream",
     "text": [
      "100%|██████████| 32/32 [00:11<00:00,  2.89it/s]\n",
      "applying N2V:   8%|▊         | 7/86 [15:51<59:30, 45.19s/it]  "
     ]
    },
    {
     "name": "stdout",
     "output_type": "stream",
     "text": [
      "The input image is of type int16 and will be casted to float32 for prediction.\n"
     ]
    },
    {
     "name": "stderr",
     "output_type": "stream",
     "text": [
      "100%|██████████| 32/32 [00:11<00:00,  2.89it/s]\n",
      "applying N2V:   9%|▉         | 8/86 [16:03<44:54, 34.55s/it]"
     ]
    },
    {
     "name": "stdout",
     "output_type": "stream",
     "text": [
      "The input image is of type int16 and will be casted to float32 for prediction.\n"
     ]
    },
    {
     "name": "stderr",
     "output_type": "stream",
     "text": [
      "100%|██████████| 32/32 [00:11<00:00,  2.88it/s]\n",
      "applying N2V:  10%|█         | 9/86 [16:15<35:12, 27.44s/it]"
     ]
    },
    {
     "name": "stdout",
     "output_type": "stream",
     "text": [
      "The input image is of type int16 and will be casted to float32 for prediction.\n"
     ]
    },
    {
     "name": "stderr",
     "output_type": "stream",
     "text": [
      "100%|██████████| 32/32 [00:11<00:00,  2.90it/s]\n",
      "applying N2V:  12%|█▏        | 10/86 [16:27<28:36, 22.59s/it]"
     ]
    },
    {
     "name": "stdout",
     "output_type": "stream",
     "text": [
      "The input image is of type int16 and will be casted to float32 for prediction.\n"
     ]
    },
    {
     "name": "stderr",
     "output_type": "stream",
     "text": [
      "100%|██████████| 32/32 [00:10<00:00,  2.92it/s]\n",
      "applying N2V:  13%|█▎        | 11/86 [16:38<24:03, 19.24s/it]"
     ]
    },
    {
     "name": "stdout",
     "output_type": "stream",
     "text": [
      "The input image is of type int16 and will be casted to float32 for prediction.\n"
     ]
    },
    {
     "name": "stderr",
     "output_type": "stream",
     "text": [
      "100%|██████████| 32/32 [00:10<00:00,  2.92it/s]\n",
      "applying N2V:  14%|█▍        | 12/86 [16:50<20:53, 16.94s/it]"
     ]
    },
    {
     "name": "stdout",
     "output_type": "stream",
     "text": [
      "The input image is of type int16 and will be casted to float32 for prediction.\n"
     ]
    },
    {
     "name": "stderr",
     "output_type": "stream",
     "text": [
      "100%|██████████| 32/32 [00:11<00:00,  2.91it/s]\n",
      "applying N2V:  15%|█▌        | 13/86 [17:02<18:40, 15.35s/it]"
     ]
    },
    {
     "name": "stdout",
     "output_type": "stream",
     "text": [
      "The input image is of type int16 and will be casted to float32 for prediction.\n"
     ]
    },
    {
     "name": "stderr",
     "output_type": "stream",
     "text": [
      "100%|██████████| 32/32 [00:11<00:00,  2.90it/s]\n",
      "applying N2V:  16%|█▋        | 14/86 [17:13<17:05, 14.25s/it]"
     ]
    },
    {
     "name": "stdout",
     "output_type": "stream",
     "text": [
      "The input image is of type int16 and will be casted to float32 for prediction.\n"
     ]
    },
    {
     "name": "stderr",
     "output_type": "stream",
     "text": [
      "100%|██████████| 32/32 [00:11<00:00,  2.90it/s]\n",
      "applying N2V:  17%|█▋        | 15/86 [17:25<15:57, 13.49s/it]"
     ]
    },
    {
     "name": "stdout",
     "output_type": "stream",
     "text": [
      "The input image is of type int16 and will be casted to float32 for prediction.\n"
     ]
    },
    {
     "name": "stderr",
     "output_type": "stream",
     "text": [
      "100%|██████████| 32/32 [00:11<00:00,  2.90it/s]\n",
      "applying N2V:  19%|█▊        | 16/86 [17:37<15:06, 12.96s/it]"
     ]
    },
    {
     "name": "stdout",
     "output_type": "stream",
     "text": [
      "The input image is of type int16 and will be casted to float32 for prediction.\n"
     ]
    },
    {
     "name": "stderr",
     "output_type": "stream",
     "text": [
      "100%|██████████| 32/32 [00:11<00:00,  2.90it/s]\n",
      "applying N2V:  20%|█▉        | 17/86 [17:48<14:27, 12.58s/it]"
     ]
    },
    {
     "name": "stdout",
     "output_type": "stream",
     "text": [
      "The input image is of type int16 and will be casted to float32 for prediction.\n"
     ]
    },
    {
     "name": "stderr",
     "output_type": "stream",
     "text": [
      "100%|██████████| 32/32 [00:11<00:00,  2.88it/s]\n",
      "applying N2V:  21%|██        | 18/86 [18:00<13:59, 12.35s/it]"
     ]
    },
    {
     "name": "stdout",
     "output_type": "stream",
     "text": [
      "The input image is of type int16 and will be casted to float32 for prediction.\n"
     ]
    },
    {
     "name": "stderr",
     "output_type": "stream",
     "text": [
      "100%|██████████| 32/32 [00:11<00:00,  2.90it/s]\n",
      "applying N2V:  22%|██▏       | 19/86 [18:12<13:34, 12.16s/it]"
     ]
    },
    {
     "name": "stdout",
     "output_type": "stream",
     "text": [
      "The input image is of type int16 and will be casted to float32 for prediction.\n"
     ]
    },
    {
     "name": "stderr",
     "output_type": "stream",
     "text": [
      "100%|██████████| 32/32 [00:11<00:00,  2.88it/s]\n",
      "applying N2V:  23%|██▎       | 20/86 [18:24<13:15, 12.05s/it]"
     ]
    },
    {
     "name": "stdout",
     "output_type": "stream",
     "text": [
      "The input image is of type int16 and will be casted to float32 for prediction.\n"
     ]
    },
    {
     "name": "stderr",
     "output_type": "stream",
     "text": [
      "100%|██████████| 32/32 [00:11<00:00,  2.89it/s]\n",
      "applying N2V:  24%|██▍       | 21/86 [18:36<12:58, 11.97s/it]"
     ]
    },
    {
     "name": "stdout",
     "output_type": "stream",
     "text": [
      "The input image is of type int16 and will be casted to float32 for prediction.\n"
     ]
    },
    {
     "name": "stderr",
     "output_type": "stream",
     "text": [
      "100%|██████████| 32/32 [00:11<00:00,  2.89it/s]\n",
      "applying N2V:  26%|██▌       | 22/86 [18:47<12:42, 11.91s/it]"
     ]
    },
    {
     "name": "stdout",
     "output_type": "stream",
     "text": [
      "The input image is of type int16 and will be casted to float32 for prediction.\n"
     ]
    },
    {
     "name": "stderr",
     "output_type": "stream",
     "text": [
      "100%|██████████| 32/32 [00:11<00:00,  2.84it/s]\n",
      "applying N2V:  27%|██▋       | 23/86 [18:59<12:30, 11.92s/it]"
     ]
    },
    {
     "name": "stdout",
     "output_type": "stream",
     "text": [
      "The input image is of type int16 and will be casted to float32 for prediction.\n"
     ]
    },
    {
     "name": "stderr",
     "output_type": "stream",
     "text": [
      "100%|██████████| 32/32 [00:11<00:00,  2.89it/s]\n",
      "applying N2V:  28%|██▊       | 24/86 [19:11<12:16, 11.88s/it]"
     ]
    },
    {
     "name": "stdout",
     "output_type": "stream",
     "text": [
      "The input image is of type int16 and will be casted to float32 for prediction.\n"
     ]
    },
    {
     "name": "stderr",
     "output_type": "stream",
     "text": [
      "100%|██████████| 32/32 [00:11<00:00,  2.90it/s]\n",
      "applying N2V:  29%|██▉       | 25/86 [19:23<12:02, 11.84s/it]"
     ]
    },
    {
     "name": "stdout",
     "output_type": "stream",
     "text": [
      "The input image is of type int16 and will be casted to float32 for prediction.\n"
     ]
    },
    {
     "name": "stderr",
     "output_type": "stream",
     "text": [
      "100%|██████████| 32/32 [00:11<00:00,  2.91it/s]\n",
      "applying N2V:  30%|███       | 26/86 [19:35<11:47, 11.80s/it]"
     ]
    },
    {
     "name": "stdout",
     "output_type": "stream",
     "text": [
      "The input image is of type int16 and will be casted to float32 for prediction.\n"
     ]
    },
    {
     "name": "stderr",
     "output_type": "stream",
     "text": [
      "100%|██████████| 32/32 [00:11<00:00,  2.90it/s]\n",
      "applying N2V:  31%|███▏      | 27/86 [19:46<11:34, 11.78s/it]"
     ]
    },
    {
     "name": "stdout",
     "output_type": "stream",
     "text": [
      "The input image is of type int16 and will be casted to float32 for prediction.\n"
     ]
    },
    {
     "name": "stderr",
     "output_type": "stream",
     "text": [
      "100%|██████████| 32/32 [00:11<00:00,  2.89it/s]\n",
      "applying N2V:  33%|███▎      | 28/86 [19:58<11:23, 11.78s/it]"
     ]
    },
    {
     "name": "stdout",
     "output_type": "stream",
     "text": [
      "The input image is of type int16 and will be casted to float32 for prediction.\n"
     ]
    },
    {
     "name": "stderr",
     "output_type": "stream",
     "text": [
      "100%|██████████| 32/32 [00:11<00:00,  2.91it/s]\n",
      "applying N2V:  34%|███▎      | 29/86 [20:10<11:10, 11.76s/it]"
     ]
    },
    {
     "name": "stdout",
     "output_type": "stream",
     "text": [
      "The input image is of type int16 and will be casted to float32 for prediction.\n"
     ]
    },
    {
     "name": "stderr",
     "output_type": "stream",
     "text": [
      "100%|██████████| 32/32 [00:11<00:00,  2.90it/s]\n",
      "applying N2V:  35%|███▍      | 30/86 [20:22<10:58, 11.76s/it]"
     ]
    },
    {
     "name": "stdout",
     "output_type": "stream",
     "text": [
      "The input image is of type int16 and will be casted to float32 for prediction.\n"
     ]
    },
    {
     "name": "stderr",
     "output_type": "stream",
     "text": [
      "100%|██████████| 32/32 [00:11<00:00,  2.88it/s]\n",
      "applying N2V:  36%|███▌      | 31/86 [20:33<10:47, 11.77s/it]"
     ]
    },
    {
     "name": "stdout",
     "output_type": "stream",
     "text": [
      "The input image is of type int16 and will be casted to float32 for prediction.\n"
     ]
    },
    {
     "name": "stderr",
     "output_type": "stream",
     "text": [
      "100%|██████████| 32/32 [00:11<00:00,  2.88it/s]\n",
      "applying N2V:  37%|███▋      | 32/86 [20:45<10:36, 11.78s/it]"
     ]
    },
    {
     "name": "stdout",
     "output_type": "stream",
     "text": [
      "The input image is of type int16 and will be casted to float32 for prediction.\n"
     ]
    },
    {
     "name": "stderr",
     "output_type": "stream",
     "text": [
      "100%|██████████| 32/32 [00:11<00:00,  2.89it/s]\n",
      "applying N2V:  38%|███▊      | 33/86 [20:57<10:23, 11.77s/it]"
     ]
    },
    {
     "name": "stdout",
     "output_type": "stream",
     "text": [
      "The input image is of type int16 and will be casted to float32 for prediction.\n"
     ]
    },
    {
     "name": "stderr",
     "output_type": "stream",
     "text": [
      "100%|██████████| 32/32 [00:11<00:00,  2.88it/s]\n",
      "applying N2V:  40%|███▉      | 34/86 [21:09<10:12, 11.79s/it]"
     ]
    },
    {
     "name": "stdout",
     "output_type": "stream",
     "text": [
      "The input image is of type int16 and will be casted to float32 for prediction.\n"
     ]
    },
    {
     "name": "stderr",
     "output_type": "stream",
     "text": [
      "100%|██████████| 32/32 [00:11<00:00,  2.89it/s]\n",
      "applying N2V:  41%|████      | 35/86 [21:20<10:01, 11.79s/it]"
     ]
    },
    {
     "name": "stdout",
     "output_type": "stream",
     "text": [
      "The input image is of type int16 and will be casted to float32 for prediction.\n"
     ]
    },
    {
     "name": "stderr",
     "output_type": "stream",
     "text": [
      "100%|██████████| 32/32 [00:11<00:00,  2.90it/s]\n",
      "applying N2V:  42%|████▏     | 36/86 [21:32<09:48, 11.76s/it]"
     ]
    },
    {
     "name": "stdout",
     "output_type": "stream",
     "text": [
      "The input image is of type int16 and will be casted to float32 for prediction.\n"
     ]
    },
    {
     "name": "stderr",
     "output_type": "stream",
     "text": [
      "100%|██████████| 32/32 [00:11<00:00,  2.88it/s]\n",
      "applying N2V:  43%|████▎     | 37/86 [21:44<09:36, 11.77s/it]"
     ]
    },
    {
     "name": "stdout",
     "output_type": "stream",
     "text": [
      "The input image is of type int16 and will be casted to float32 for prediction.\n"
     ]
    },
    {
     "name": "stderr",
     "output_type": "stream",
     "text": [
      "100%|██████████| 32/32 [00:11<00:00,  2.90it/s]\n",
      "applying N2V:  44%|████▍     | 38/86 [21:56<09:24, 11.76s/it]"
     ]
    },
    {
     "name": "stdout",
     "output_type": "stream",
     "text": [
      "The input image is of type int16 and will be casted to float32 for prediction.\n"
     ]
    },
    {
     "name": "stderr",
     "output_type": "stream",
     "text": [
      "100%|██████████| 32/32 [00:11<00:00,  2.86it/s]\n",
      "applying N2V:  45%|████▌     | 39/86 [22:08<09:14, 11.80s/it]"
     ]
    },
    {
     "name": "stdout",
     "output_type": "stream",
     "text": [
      "The input image is of type int16 and will be casted to float32 for prediction.\n"
     ]
    },
    {
     "name": "stderr",
     "output_type": "stream",
     "text": [
      "100%|██████████| 32/32 [00:11<00:00,  2.89it/s]\n",
      "applying N2V:  47%|████▋     | 40/86 [22:19<09:02, 11.79s/it]"
     ]
    },
    {
     "name": "stdout",
     "output_type": "stream",
     "text": [
      "The input image is of type int16 and will be casted to float32 for prediction.\n"
     ]
    },
    {
     "name": "stderr",
     "output_type": "stream",
     "text": [
      "100%|██████████| 32/32 [00:11<00:00,  2.89it/s]\n",
      "applying N2V:  48%|████▊     | 41/86 [22:31<08:50, 11.78s/it]"
     ]
    },
    {
     "name": "stdout",
     "output_type": "stream",
     "text": [
      "The input image is of type int16 and will be casted to float32 for prediction.\n"
     ]
    },
    {
     "name": "stderr",
     "output_type": "stream",
     "text": [
      "100%|██████████| 32/32 [00:11<00:00,  2.90it/s]\n",
      "applying N2V:  49%|████▉     | 42/86 [22:43<08:37, 11.77s/it]"
     ]
    },
    {
     "name": "stdout",
     "output_type": "stream",
     "text": [
      "The input image is of type int16 and will be casted to float32 for prediction.\n"
     ]
    },
    {
     "name": "stderr",
     "output_type": "stream",
     "text": [
      "100%|██████████| 32/32 [00:11<00:00,  2.89it/s]\n",
      "applying N2V:  50%|█████     | 43/86 [22:55<08:25, 11.77s/it]"
     ]
    },
    {
     "name": "stdout",
     "output_type": "stream",
     "text": [
      "The input image is of type int16 and will be casted to float32 for prediction.\n"
     ]
    },
    {
     "name": "stderr",
     "output_type": "stream",
     "text": [
      "100%|██████████| 32/32 [00:11<00:00,  2.89it/s]\n",
      "applying N2V:  51%|█████     | 44/86 [23:06<08:14, 11.77s/it]"
     ]
    },
    {
     "name": "stdout",
     "output_type": "stream",
     "text": [
      "The input image is of type int16 and will be casted to float32 for prediction.\n"
     ]
    },
    {
     "name": "stderr",
     "output_type": "stream",
     "text": [
      "100%|██████████| 32/32 [00:11<00:00,  2.89it/s]\n",
      "applying N2V:  52%|█████▏    | 45/86 [23:18<08:02, 11.77s/it]"
     ]
    },
    {
     "name": "stdout",
     "output_type": "stream",
     "text": [
      "The input image is of type int16 and will be casted to float32 for prediction.\n"
     ]
    },
    {
     "name": "stderr",
     "output_type": "stream",
     "text": [
      "100%|██████████| 32/32 [00:11<00:00,  2.89it/s]\n",
      "applying N2V:  53%|█████▎    | 46/86 [23:30<07:50, 11.76s/it]"
     ]
    },
    {
     "name": "stdout",
     "output_type": "stream",
     "text": [
      "The input image is of type int16 and will be casted to float32 for prediction.\n"
     ]
    },
    {
     "name": "stderr",
     "output_type": "stream",
     "text": [
      "100%|██████████| 32/32 [00:11<00:00,  2.90it/s]\n",
      "applying N2V:  55%|█████▍    | 47/86 [23:42<07:38, 11.75s/it]"
     ]
    },
    {
     "name": "stdout",
     "output_type": "stream",
     "text": [
      "The input image is of type int16 and will be casted to float32 for prediction.\n"
     ]
    },
    {
     "name": "stderr",
     "output_type": "stream",
     "text": [
      "100%|██████████| 32/32 [00:11<00:00,  2.90it/s]\n",
      "applying N2V:  56%|█████▌    | 48/86 [23:53<07:26, 11.75s/it]"
     ]
    },
    {
     "name": "stdout",
     "output_type": "stream",
     "text": [
      "The input image is of type int16 and will be casted to float32 for prediction.\n"
     ]
    },
    {
     "name": "stderr",
     "output_type": "stream",
     "text": [
      "100%|██████████| 32/32 [00:11<00:00,  2.89it/s]\n",
      "applying N2V:  57%|█████▋    | 49/86 [24:05<07:15, 11.76s/it]"
     ]
    },
    {
     "name": "stdout",
     "output_type": "stream",
     "text": [
      "The input image is of type int16 and will be casted to float32 for prediction.\n"
     ]
    },
    {
     "name": "stderr",
     "output_type": "stream",
     "text": [
      "100%|██████████| 32/32 [00:11<00:00,  2.90it/s]\n",
      "applying N2V:  58%|█████▊    | 50/86 [24:17<07:02, 11.75s/it]"
     ]
    },
    {
     "name": "stdout",
     "output_type": "stream",
     "text": [
      "The input image is of type int16 and will be casted to float32 for prediction.\n"
     ]
    },
    {
     "name": "stderr",
     "output_type": "stream",
     "text": [
      "100%|██████████| 32/32 [00:11<00:00,  2.88it/s]\n",
      "applying N2V:  59%|█████▉    | 51/86 [24:29<06:51, 11.76s/it]"
     ]
    },
    {
     "name": "stdout",
     "output_type": "stream",
     "text": [
      "The input image is of type int16 and will be casted to float32 for prediction.\n"
     ]
    },
    {
     "name": "stderr",
     "output_type": "stream",
     "text": [
      "100%|██████████| 32/32 [00:11<00:00,  2.89it/s]\n",
      "applying N2V:  60%|██████    | 52/86 [24:40<06:40, 11.77s/it]"
     ]
    },
    {
     "name": "stdout",
     "output_type": "stream",
     "text": [
      "The input image is of type int16 and will be casted to float32 for prediction.\n"
     ]
    },
    {
     "name": "stderr",
     "output_type": "stream",
     "text": [
      "100%|██████████| 32/32 [00:11<00:00,  2.89it/s]\n",
      "applying N2V:  62%|██████▏   | 53/86 [24:52<06:28, 11.77s/it]"
     ]
    },
    {
     "name": "stdout",
     "output_type": "stream",
     "text": [
      "The input image is of type int16 and will be casted to float32 for prediction.\n"
     ]
    },
    {
     "name": "stderr",
     "output_type": "stream",
     "text": [
      "100%|██████████| 32/32 [00:11<00:00,  2.88it/s]\n",
      "applying N2V:  63%|██████▎   | 54/86 [25:04<06:16, 11.78s/it]"
     ]
    },
    {
     "name": "stdout",
     "output_type": "stream",
     "text": [
      "The input image is of type int16 and will be casted to float32 for prediction.\n"
     ]
    },
    {
     "name": "stderr",
     "output_type": "stream",
     "text": [
      "100%|██████████| 32/32 [00:11<00:00,  2.89it/s]\n",
      "applying N2V:  64%|██████▍   | 55/86 [25:16<06:06, 11.82s/it]"
     ]
    },
    {
     "name": "stdout",
     "output_type": "stream",
     "text": [
      "The input image is of type int16 and will be casted to float32 for prediction.\n"
     ]
    },
    {
     "name": "stderr",
     "output_type": "stream",
     "text": [
      "100%|██████████| 32/32 [00:11<00:00,  2.89it/s]\n",
      "applying N2V:  65%|██████▌   | 56/86 [25:28<05:54, 11.80s/it]"
     ]
    },
    {
     "name": "stdout",
     "output_type": "stream",
     "text": [
      "The input image is of type int16 and will be casted to float32 for prediction.\n"
     ]
    },
    {
     "name": "stderr",
     "output_type": "stream",
     "text": [
      "100%|██████████| 32/32 [00:11<00:00,  2.89it/s]\n",
      "applying N2V:  66%|██████▋   | 57/86 [25:40<05:42, 11.80s/it]"
     ]
    },
    {
     "name": "stdout",
     "output_type": "stream",
     "text": [
      "The input image is of type int16 and will be casted to float32 for prediction.\n"
     ]
    },
    {
     "name": "stderr",
     "output_type": "stream",
     "text": [
      "100%|██████████| 32/32 [00:11<00:00,  2.88it/s]\n",
      "applying N2V:  67%|██████▋   | 58/86 [25:51<05:30, 11.79s/it]"
     ]
    },
    {
     "name": "stdout",
     "output_type": "stream",
     "text": [
      "The input image is of type int16 and will be casted to float32 for prediction.\n"
     ]
    },
    {
     "name": "stderr",
     "output_type": "stream",
     "text": [
      "100%|██████████| 32/32 [00:11<00:00,  2.89it/s]\n",
      "applying N2V:  69%|██████▊   | 59/86 [26:03<05:18, 11.79s/it]"
     ]
    },
    {
     "name": "stdout",
     "output_type": "stream",
     "text": [
      "The input image is of type int16 and will be casted to float32 for prediction.\n"
     ]
    },
    {
     "name": "stderr",
     "output_type": "stream",
     "text": [
      "100%|██████████| 32/32 [00:11<00:00,  2.89it/s]\n",
      "applying N2V:  70%|██████▉   | 60/86 [26:15<05:06, 11.78s/it]"
     ]
    },
    {
     "name": "stdout",
     "output_type": "stream",
     "text": [
      "The input image is of type int16 and will be casted to float32 for prediction.\n"
     ]
    },
    {
     "name": "stderr",
     "output_type": "stream",
     "text": [
      "100%|██████████| 32/32 [00:11<00:00,  2.89it/s]\n",
      "applying N2V:  71%|███████   | 61/86 [26:27<04:54, 11.77s/it]"
     ]
    },
    {
     "name": "stdout",
     "output_type": "stream",
     "text": [
      "The input image is of type int16 and will be casted to float32 for prediction.\n"
     ]
    },
    {
     "name": "stderr",
     "output_type": "stream",
     "text": [
      "100%|██████████| 32/32 [00:11<00:00,  2.90it/s]\n",
      "applying N2V:  72%|███████▏  | 62/86 [26:38<04:42, 11.77s/it]"
     ]
    },
    {
     "name": "stdout",
     "output_type": "stream",
     "text": [
      "The input image is of type int16 and will be casted to float32 for prediction.\n"
     ]
    },
    {
     "name": "stderr",
     "output_type": "stream",
     "text": [
      "100%|██████████| 32/32 [00:11<00:00,  2.90it/s]\n",
      "applying N2V:  73%|███████▎  | 63/86 [26:50<04:30, 11.76s/it]"
     ]
    },
    {
     "name": "stdout",
     "output_type": "stream",
     "text": [
      "The input image is of type int16 and will be casted to float32 for prediction.\n"
     ]
    },
    {
     "name": "stderr",
     "output_type": "stream",
     "text": [
      "100%|██████████| 32/32 [00:11<00:00,  2.90it/s]\n",
      "applying N2V:  74%|███████▍  | 64/86 [27:02<04:18, 11.75s/it]"
     ]
    },
    {
     "name": "stdout",
     "output_type": "stream",
     "text": [
      "The input image is of type int16 and will be casted to float32 for prediction.\n"
     ]
    },
    {
     "name": "stderr",
     "output_type": "stream",
     "text": [
      "100%|██████████| 32/32 [00:11<00:00,  2.89it/s]\n",
      "applying N2V:  76%|███████▌  | 65/86 [27:14<04:06, 11.76s/it]"
     ]
    },
    {
     "name": "stdout",
     "output_type": "stream",
     "text": [
      "The input image is of type int16 and will be casted to float32 for prediction.\n"
     ]
    },
    {
     "name": "stderr",
     "output_type": "stream",
     "text": [
      "100%|██████████| 32/32 [00:11<00:00,  2.88it/s]\n",
      "applying N2V:  77%|███████▋  | 66/86 [27:25<03:55, 11.78s/it]"
     ]
    },
    {
     "name": "stdout",
     "output_type": "stream",
     "text": [
      "The input image is of type int16 and will be casted to float32 for prediction.\n"
     ]
    },
    {
     "name": "stderr",
     "output_type": "stream",
     "text": [
      "100%|██████████| 32/32 [00:11<00:00,  2.89it/s]\n",
      "applying N2V:  78%|███████▊  | 67/86 [27:37<03:43, 11.78s/it]"
     ]
    },
    {
     "name": "stdout",
     "output_type": "stream",
     "text": [
      "The input image is of type int16 and will be casted to float32 for prediction.\n"
     ]
    },
    {
     "name": "stderr",
     "output_type": "stream",
     "text": [
      "100%|██████████| 32/32 [00:11<00:00,  2.88it/s]\n",
      "applying N2V:  79%|███████▉  | 68/86 [27:49<03:32, 11.78s/it]"
     ]
    },
    {
     "name": "stdout",
     "output_type": "stream",
     "text": [
      "The input image is of type int16 and will be casted to float32 for prediction.\n"
     ]
    },
    {
     "name": "stderr",
     "output_type": "stream",
     "text": [
      "100%|██████████| 32/32 [00:11<00:00,  2.87it/s]\n",
      "applying N2V:  80%|████████  | 69/86 [28:01<03:20, 11.79s/it]"
     ]
    },
    {
     "name": "stdout",
     "output_type": "stream",
     "text": [
      "The input image is of type int16 and will be casted to float32 for prediction.\n"
     ]
    },
    {
     "name": "stderr",
     "output_type": "stream",
     "text": [
      "100%|██████████| 32/32 [00:11<00:00,  2.89it/s]\n",
      "applying N2V:  81%|████████▏ | 70/86 [28:13<03:08, 11.79s/it]"
     ]
    },
    {
     "name": "stdout",
     "output_type": "stream",
     "text": [
      "The input image is of type int16 and will be casted to float32 for prediction.\n"
     ]
    },
    {
     "name": "stderr",
     "output_type": "stream",
     "text": [
      "100%|██████████| 32/32 [00:11<00:00,  2.83it/s]\n",
      "applying N2V:  83%|████████▎ | 71/86 [28:25<02:57, 11.86s/it]"
     ]
    },
    {
     "name": "stdout",
     "output_type": "stream",
     "text": [
      "The input image is of type int16 and will be casted to float32 for prediction.\n"
     ]
    },
    {
     "name": "stderr",
     "output_type": "stream",
     "text": [
      "100%|██████████| 32/32 [00:11<00:00,  2.89it/s]\n",
      "applying N2V:  84%|████████▎ | 72/86 [28:36<02:45, 11.84s/it]"
     ]
    },
    {
     "name": "stdout",
     "output_type": "stream",
     "text": [
      "The input image is of type int16 and will be casted to float32 for prediction.\n"
     ]
    },
    {
     "name": "stderr",
     "output_type": "stream",
     "text": [
      "100%|██████████| 32/32 [00:11<00:00,  2.90it/s]\n",
      "applying N2V:  85%|████████▍ | 73/86 [28:48<02:33, 11.81s/it]"
     ]
    },
    {
     "name": "stdout",
     "output_type": "stream",
     "text": [
      "The input image is of type int16 and will be casted to float32 for prediction.\n"
     ]
    },
    {
     "name": "stderr",
     "output_type": "stream",
     "text": [
      "100%|██████████| 32/32 [00:11<00:00,  2.88it/s]\n",
      "applying N2V:  86%|████████▌ | 74/86 [29:00<02:21, 11.81s/it]"
     ]
    },
    {
     "name": "stdout",
     "output_type": "stream",
     "text": [
      "The input image is of type int16 and will be casted to float32 for prediction.\n"
     ]
    },
    {
     "name": "stderr",
     "output_type": "stream",
     "text": [
      "100%|██████████| 32/32 [00:11<00:00,  2.88it/s]\n",
      "applying N2V:  87%|████████▋ | 75/86 [29:12<02:09, 11.81s/it]"
     ]
    },
    {
     "name": "stdout",
     "output_type": "stream",
     "text": [
      "The input image is of type int16 and will be casted to float32 for prediction.\n"
     ]
    },
    {
     "name": "stderr",
     "output_type": "stream",
     "text": [
      "100%|██████████| 32/32 [00:11<00:00,  2.87it/s]\n",
      "applying N2V:  88%|████████▊ | 76/86 [29:24<01:58, 11.83s/it]"
     ]
    },
    {
     "name": "stdout",
     "output_type": "stream",
     "text": [
      "The input image is of type int16 and will be casted to float32 for prediction.\n"
     ]
    },
    {
     "name": "stderr",
     "output_type": "stream",
     "text": [
      "100%|██████████| 32/32 [00:11<00:00,  2.89it/s]\n",
      "applying N2V:  90%|████████▉ | 77/86 [29:35<01:46, 11.81s/it]"
     ]
    },
    {
     "name": "stdout",
     "output_type": "stream",
     "text": [
      "The input image is of type int16 and will be casted to float32 for prediction.\n"
     ]
    },
    {
     "name": "stderr",
     "output_type": "stream",
     "text": [
      "100%|██████████| 32/32 [00:11<00:00,  2.89it/s]\n",
      "applying N2V:  91%|█████████ | 78/86 [29:47<01:34, 11.80s/it]"
     ]
    },
    {
     "name": "stdout",
     "output_type": "stream",
     "text": [
      "The input image is of type int16 and will be casted to float32 for prediction.\n"
     ]
    },
    {
     "name": "stderr",
     "output_type": "stream",
     "text": [
      "100%|██████████| 32/32 [00:11<00:00,  2.90it/s]\n",
      "applying N2V:  92%|█████████▏| 79/86 [29:59<01:22, 11.78s/it]"
     ]
    },
    {
     "name": "stdout",
     "output_type": "stream",
     "text": [
      "The input image is of type int16 and will be casted to float32 for prediction.\n"
     ]
    },
    {
     "name": "stderr",
     "output_type": "stream",
     "text": [
      "100%|██████████| 32/32 [00:11<00:00,  2.89it/s]\n",
      "applying N2V:  93%|█████████▎| 80/86 [30:11<01:10, 11.78s/it]"
     ]
    },
    {
     "name": "stdout",
     "output_type": "stream",
     "text": [
      "The input image is of type int16 and will be casted to float32 for prediction.\n"
     ]
    },
    {
     "name": "stderr",
     "output_type": "stream",
     "text": [
      "100%|██████████| 32/32 [00:11<00:00,  2.90it/s]\n",
      "applying N2V:  94%|█████████▍| 81/86 [30:22<00:58, 11.77s/it]"
     ]
    },
    {
     "name": "stdout",
     "output_type": "stream",
     "text": [
      "The input image is of type int16 and will be casted to float32 for prediction.\n"
     ]
    },
    {
     "name": "stderr",
     "output_type": "stream",
     "text": [
      "100%|██████████| 32/32 [00:11<00:00,  2.88it/s]\n",
      "applying N2V:  95%|█████████▌| 82/86 [30:34<00:47, 11.78s/it]"
     ]
    },
    {
     "name": "stdout",
     "output_type": "stream",
     "text": [
      "The input image is of type int16 and will be casted to float32 for prediction.\n"
     ]
    },
    {
     "name": "stderr",
     "output_type": "stream",
     "text": [
      "100%|██████████| 32/32 [00:11<00:00,  2.89it/s]\n",
      "applying N2V:  97%|█████████▋| 83/86 [30:46<00:35, 11.77s/it]"
     ]
    },
    {
     "name": "stdout",
     "output_type": "stream",
     "text": [
      "The input image is of type int16 and will be casted to float32 for prediction.\n"
     ]
    },
    {
     "name": "stderr",
     "output_type": "stream",
     "text": [
      "100%|██████████| 32/32 [00:11<00:00,  2.89it/s]\n",
      "applying N2V:  98%|█████████▊| 84/86 [30:58<00:23, 11.77s/it]"
     ]
    },
    {
     "name": "stdout",
     "output_type": "stream",
     "text": [
      "The input image is of type int16 and will be casted to float32 for prediction.\n"
     ]
    },
    {
     "name": "stderr",
     "output_type": "stream",
     "text": [
      "100%|██████████| 32/32 [00:11<00:00,  2.88it/s]\n",
      "applying N2V:  99%|█████████▉| 85/86 [31:10<00:11, 11.79s/it]"
     ]
    },
    {
     "name": "stdout",
     "output_type": "stream",
     "text": [
      "The input image is of type int16 and will be casted to float32 for prediction.\n"
     ]
    },
    {
     "name": "stderr",
     "output_type": "stream",
     "text": [
      "100%|██████████| 32/32 [00:11<00:00,  2.89it/s]\n",
      "/home/tli_project/.local/lib/python3.8/site-packages/tifffile/tifffile.py:2876: UserWarning: <tifffile.TiffWriter 'N2V_GFP_SyNRA_4D_211113_P36.tif'> truncating ImageJ file\n",
      "  warnings.warn(\n"
     ]
    }
   ],
   "source": [
    "image_4D = denoise.N2V_4D(image_4D, model_name=model_name, model_path=model_path, \n",
    "                            save=True, save_path=save_path, xy_pixel=0.076, \n",
    "                            z_pixel=0.4, save_file=save_name) "
   ]
  },
  {
   "cell_type": "code",
   "execution_count": 6,
   "metadata": {},
   "outputs": [],
   "source": [
    "# remove further noise pixels before applying clahe, by removing 95% quantil\n",
    "# threshold = np.quantile(image_4D,0.95)\n",
    "# # threshold = 4 * image_4D.mean()\n",
    "# image_4D[image_4D<threshold] = 0\n",
    "# image_4D[mask == 0] = 0"
   ]
  },
  {
   "cell_type": "code",
   "execution_count": 7,
   "metadata": {},
   "outputs": [
    {
     "name": "stderr",
     "output_type": "stream",
     "text": [
      "/home/tli_project/.local/lib/python3.8/site-packages/tifffile/tifffile.py:2876: UserWarning: <tifffile.TiffWriter 'clahe_GFP_SyNRA…D_211113_P36.tif'> truncating ImageJ file\n",
      "  warnings.warn(\n"
     ]
    }
   ],
   "source": [
    "image_4D = denoise.clahe_4D(image_4D, kernel_size=kernel_size, clipLimit=clipLimit, \n",
    "                            save=True, save_path=save_path, xy_pixel=0.076, \n",
    "                            z_pixel=0.4, save_file=save_name) "
   ]
  },
  {
   "cell_type": "code",
   "execution_count": 8,
   "metadata": {},
   "outputs": [
    {
     "name": "stderr",
     "output_type": "stream",
     "text": [
      "masking the image: 100%|██████████| 86/86 [03:40<00:00,  2.57s/it]\n",
      "/home/tli_project/.local/lib/python3.8/site-packages/tifffile/tifffile.py:2876: UserWarning: <tifffile.TiffWriter 'mask_GFP_SyNRA_4D_211113_P36.tif'> truncating ImageJ file\n",
      "  warnings.warn(\n"
     ]
    }
   ],
   "source": [
    "mask = denoise.mask_4D(image_4D, return_mask=False, \n",
    "                        xy_pixel=0.076, z_pixel=0.4, \n",
    "                        sig=1.5, save=True, \n",
    "                        save_path=save_path, \n",
    "                        save_file=save_name)"
   ]
  },
  {
   "cell_type": "code",
   "execution_count": 9,
   "metadata": {},
   "outputs": [],
   "source": [
    "# # masking the image using neurosetta\n",
    "# image_4D = neu.Neuron(image_4D)\n",
    "# mask =  neu.mask_Neuron(image_4D)\n",
    "# image_4D = image_4D.array\n",
    "# mask = mask.array\n",
    "# for i, img in enumerate(image_4D):\n",
    "#     image_4D[i] = datautils.img_limits(mask[i], limit=img.max())\n",
    "# image_4D = image_4D.astype('int16')\n",
    "# datautils.save_image(save_path+'mask2_'+save_name, image_4D)"
   ]
  },
  {
   "cell_type": "code",
   "execution_count": 10,
   "metadata": {},
   "outputs": [],
   "source": [
    "print('memory cleared, and kernel stopped')\n",
    "print('Job is DONE!')\n",
    "os._exit(00)"
   ]
  },
  {
   "cell_type": "code",
   "execution_count": null,
   "metadata": {},
   "outputs": [],
   "source": []
  }
 ],
 "metadata": {
  "interpreter": {
   "hash": "f3f6acc8ab4cd1097e4d91bbffd405bcf59aaff2754a866d7c8cf61e0274c3d7"
  },
  "kernelspec": {
   "display_name": "Python 3.8.12 64-bit ('preprocessing': conda)",
   "language": "python",
   "name": "python3"
  },
  "language_info": {
   "codemirror_mode": {
    "name": "ipython",
    "version": 3
   },
   "file_extension": ".py",
   "mimetype": "text/x-python",
   "name": "python",
   "nbconvert_exporter": "python",
   "pygments_lexer": "ipython3",
   "version": "3.8.12"
  },
  "orig_nbformat": 4
 },
 "nbformat": 4,
 "nbformat_minor": 2
}
