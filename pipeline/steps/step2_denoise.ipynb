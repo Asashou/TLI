{
 "cells": [
  {
   "cell_type": "markdown",
   "metadata": {},
   "source": [
    "Define your variables (That's the only cells you need to change). Then run the whole notebook"
   ]
  },
  {
   "cell_type": "code",
   "execution_count": 1,
   "metadata": {},
   "outputs": [],
   "source": [
    "image_path = '/home/tli_project/Desktop/Data/T4/stage1/211025/4D_GFP_GFP_SyNRA_4D_Rigid_211025_P36.5.tif'\n",
    "save_path = '/home/tli_project/Desktop/Data/T4/stage1/211025/'\n",
    "save_name = '211025_P36.5'\n",
    "\n",
    "#N2V parameters\n",
    "model_name ='n2v_3D_v6'\n",
    "model_path ='/home/tli_project/Desktop/TLI_preprocessing/Work_folder/N2V/models/'\n",
    "\n",
    "#Clahe parameters:\n",
    "clipLimit = 1\n",
    "kernel_size = (45, 45)"
   ]
  },
  {
   "cell_type": "code",
   "execution_count": 2,
   "metadata": {},
   "outputs": [],
   "source": [
    "if save_path[-1] != '/':\n",
    "    save_path += '/'"
   ]
  },
  {
   "cell_type": "markdown",
   "metadata": {},
   "source": [
    "Load needed packages"
   ]
  },
  {
   "cell_type": "code",
   "execution_count": 3,
   "metadata": {},
   "outputs": [
    {
     "name": "stderr",
     "output_type": "stream",
     "text": [
      "2022-06-23 20:42:42.773342: I tensorflow/stream_executor/platform/default/dso_loader.cc:49] Successfully opened dynamic library libcudart.so.10.1\n"
     ]
    }
   ],
   "source": [
    "import tifffile as tif\n",
    "import numpy as np\n",
    "import utils.denoise as denoise\n",
    "import utils.datautils as datautils\n",
    "import Neurosetta as neu\n",
    "import matplotlib.pyplot as plt"
   ]
  },
  {
   "cell_type": "code",
   "execution_count": 4,
   "metadata": {},
   "outputs": [],
   "source": [
    "# Read 4D GFP image\n",
    "image_4D = tif.imread(image_path)"
   ]
  },
  {
   "cell_type": "code",
   "execution_count": 5,
   "metadata": {},
   "outputs": [],
   "source": [
    "# image_4D -= 30000\n",
    "# save_file = save_path+save_name+'_masked.tif'\n",
    "# tif.imwrite(save_file, image_4D, imagej=True, resolution=(1./0.076, 1./0.076),\n",
    "#                 metadata={'spacing': 0.4, 'unit': 'um', 'finterval': 1/10,'axes': 'TZYX'})"
   ]
  },
  {
   "cell_type": "code",
   "execution_count": 6,
   "metadata": {},
   "outputs": [
    {
     "name": "stderr",
     "output_type": "stream",
     "text": [
      "2022-06-23 20:42:47.716025: I tensorflow/compiler/jit/xla_cpu_device.cc:41] Not creating XLA devices, tf_xla_enable_xla_devices not set\n",
      "2022-06-23 20:42:47.716171: W tensorflow/stream_executor/platform/default/dso_loader.cc:60] Could not load dynamic library 'libcuda.so.1'; dlerror: libcuda.so.1: cannot open shared object file: No such file or directory; LD_LIBRARY_PATH: /home/tli_project/miniconda3/envs/preprocessing/lib/python3.8/site-packages/cv2/../../lib64:/app/lib\n",
      "2022-06-23 20:42:47.716178: W tensorflow/stream_executor/cuda/cuda_driver.cc:326] failed call to cuInit: UNKNOWN ERROR (303)\n",
      "2022-06-23 20:42:47.716193: I tensorflow/stream_executor/cuda/cuda_diagnostics.cc:169] retrieving CUDA diagnostic information for host: l-p0-345\n",
      "2022-06-23 20:42:47.716195: I tensorflow/stream_executor/cuda/cuda_diagnostics.cc:176] hostname: l-p0-345\n",
      "2022-06-23 20:42:47.716262: I tensorflow/stream_executor/cuda/cuda_diagnostics.cc:200] libcuda reported version is: Not found: was unable to find libcuda.so DSO loaded into this program\n",
      "2022-06-23 20:42:47.716288: I tensorflow/stream_executor/cuda/cuda_diagnostics.cc:204] kernel reported version is: 470.86.0\n",
      "2022-06-23 20:42:47.716387: I tensorflow/core/platform/cpu_feature_guard.cc:142] This TensorFlow binary is optimized with oneAPI Deep Neural Network Library (oneDNN) to use the following CPU instructions in performance-critical operations:  SSE4.1 SSE4.2 AVX AVX2 AVX512F FMA\n",
      "To enable them in other operations, rebuild TensorFlow with the appropriate compiler flags.\n",
      "2022-06-23 20:42:47.716813: I tensorflow/compiler/jit/xla_gpu_device.cc:99] Not creating XLA devices, tf_xla_enable_xla_devices not set\n"
     ]
    },
    {
     "name": "stdout",
     "output_type": "stream",
     "text": [
      "Loading network weights from 'weights_best.h5'.\n"
     ]
    },
    {
     "name": "stderr",
     "output_type": "stream",
     "text": [
      "applying N2V:   0%|          | 0/86 [00:00<?, ?it/s]"
     ]
    },
    {
     "name": "stdout",
     "output_type": "stream",
     "text": [
      "The input image is of type int16 and will be casted to float32 for prediction.\n"
     ]
    },
    {
     "name": "stderr",
     "output_type": "stream",
     "text": [
      "2022-06-23 20:42:48.818849: I tensorflow/compiler/mlir/mlir_graph_optimization_pass.cc:116] None of the MLIR optimization passes are enabled (registered 2)\n",
      "2022-06-23 20:42:48.836905: I tensorflow/core/platform/profile_utils/cpu_utils.cc:112] CPU Frequency: 2496000000 Hz\n",
      "2022-06-23 20:42:49.010420: W tensorflow/core/framework/cpu_allocator_impl.cc:80] Allocation of 742137856 exceeds 10% of free system memory.\n",
      "2022-06-23 20:42:49.339794: W tensorflow/core/framework/cpu_allocator_impl.cc:80] Allocation of 742137856 exceeds 10% of free system memory.\n",
      "2022-06-23 20:42:51.562357: W tensorflow/core/framework/cpu_allocator_impl.cc:80] Allocation of 742137856 exceeds 10% of free system memory.\n",
      "2022-06-23 20:42:51.600875: W tensorflow/core/framework/cpu_allocator_impl.cc:80] Allocation of 1484275712 exceeds 10% of free system memory.\n",
      "2022-06-23 20:42:51.722174: W tensorflow/core/framework/cpu_allocator_impl.cc:80] Allocation of 742137856 exceeds 10% of free system memory.\n",
      "100%|██████████| 32/32 [03:02<00:00,  5.69s/it]\n",
      "applying N2V:   1%|          | 1/86 [03:09<4:28:07, 189.27s/it]"
     ]
    },
    {
     "name": "stdout",
     "output_type": "stream",
     "text": [
      "The input image is of type int16 and will be casted to float32 for prediction.\n"
     ]
    },
    {
     "name": "stderr",
     "output_type": "stream",
     "text": [
      "100%|██████████| 32/32 [03:02<00:00,  5.71s/it]\n",
      "applying N2V:   2%|▏         | 2/86 [06:18<4:25:07, 189.37s/it]"
     ]
    },
    {
     "name": "stdout",
     "output_type": "stream",
     "text": [
      "The input image is of type int16 and will be casted to float32 for prediction.\n"
     ]
    },
    {
     "name": "stderr",
     "output_type": "stream",
     "text": [
      "100%|██████████| 32/32 [03:02<00:00,  5.71s/it]\n",
      "applying N2V:   3%|▎         | 3/86 [09:27<4:21:39, 189.15s/it]"
     ]
    },
    {
     "name": "stdout",
     "output_type": "stream",
     "text": [
      "The input image is of type int16 and will be casted to float32 for prediction.\n"
     ]
    },
    {
     "name": "stderr",
     "output_type": "stream",
     "text": [
      "100%|██████████| 32/32 [03:01<00:00,  5.69s/it]\n",
      "applying N2V:   5%|▍         | 4/86 [12:36<4:18:07, 188.87s/it]"
     ]
    },
    {
     "name": "stdout",
     "output_type": "stream",
     "text": [
      "The input image is of type int16 and will be casted to float32 for prediction.\n"
     ]
    },
    {
     "name": "stderr",
     "output_type": "stream",
     "text": [
      "100%|██████████| 32/32 [03:03<00:00,  5.73s/it]\n",
      "applying N2V:   6%|▌         | 5/86 [15:45<4:15:24, 189.19s/it]"
     ]
    },
    {
     "name": "stdout",
     "output_type": "stream",
     "text": [
      "The input image is of type int16 and will be casted to float32 for prediction.\n"
     ]
    },
    {
     "name": "stderr",
     "output_type": "stream",
     "text": [
      "100%|██████████| 32/32 [03:02<00:00,  5.72s/it]\n",
      "applying N2V:   7%|▋         | 6/86 [18:55<4:12:17, 189.22s/it]"
     ]
    },
    {
     "name": "stdout",
     "output_type": "stream",
     "text": [
      "The input image is of type int16 and will be casted to float32 for prediction.\n"
     ]
    },
    {
     "name": "stderr",
     "output_type": "stream",
     "text": [
      "100%|██████████| 32/32 [03:02<00:00,  5.71s/it]\n",
      "applying N2V:   8%|▊         | 7/86 [22:04<4:09:04, 189.17s/it]"
     ]
    },
    {
     "name": "stdout",
     "output_type": "stream",
     "text": [
      "The input image is of type int16 and will be casted to float32 for prediction.\n"
     ]
    },
    {
     "name": "stderr",
     "output_type": "stream",
     "text": [
      "100%|██████████| 32/32 [03:03<00:00,  5.74s/it]\n",
      "applying N2V:   9%|▉         | 8/86 [25:13<4:06:10, 189.37s/it]"
     ]
    },
    {
     "name": "stdout",
     "output_type": "stream",
     "text": [
      "The input image is of type int16 and will be casted to float32 for prediction.\n"
     ]
    },
    {
     "name": "stderr",
     "output_type": "stream",
     "text": [
      "100%|██████████| 32/32 [03:01<00:00,  5.68s/it]\n",
      "applying N2V:  10%|█         | 9/86 [28:21<4:02:26, 188.92s/it]"
     ]
    },
    {
     "name": "stdout",
     "output_type": "stream",
     "text": [
      "The input image is of type int16 and will be casted to float32 for prediction.\n"
     ]
    },
    {
     "name": "stderr",
     "output_type": "stream",
     "text": [
      "100%|██████████| 32/32 [03:01<00:00,  5.68s/it]\n",
      "applying N2V:  12%|█▏        | 10/86 [31:29<3:58:50, 188.56s/it]"
     ]
    },
    {
     "name": "stdout",
     "output_type": "stream",
     "text": [
      "The input image is of type int16 and will be casted to float32 for prediction.\n"
     ]
    },
    {
     "name": "stderr",
     "output_type": "stream",
     "text": [
      "100%|██████████| 32/32 [03:01<00:00,  5.68s/it]\n",
      "applying N2V:  13%|█▎        | 11/86 [34:37<3:55:29, 188.39s/it]"
     ]
    },
    {
     "name": "stdout",
     "output_type": "stream",
     "text": [
      "The input image is of type int16 and will be casted to float32 for prediction.\n"
     ]
    },
    {
     "name": "stderr",
     "output_type": "stream",
     "text": [
      "100%|██████████| 32/32 [03:00<00:00,  5.64s/it]\n",
      "applying N2V:  14%|█▍        | 12/86 [37:44<3:51:42, 187.87s/it]"
     ]
    },
    {
     "name": "stdout",
     "output_type": "stream",
     "text": [
      "The input image is of type int16 and will be casted to float32 for prediction.\n"
     ]
    },
    {
     "name": "stderr",
     "output_type": "stream",
     "text": [
      "100%|██████████| 32/32 [03:00<00:00,  5.65s/it]\n",
      "applying N2V:  15%|█▌        | 13/86 [40:51<3:48:13, 187.58s/it]"
     ]
    },
    {
     "name": "stdout",
     "output_type": "stream",
     "text": [
      "The input image is of type int16 and will be casted to float32 for prediction.\n"
     ]
    },
    {
     "name": "stderr",
     "output_type": "stream",
     "text": [
      "100%|██████████| 32/32 [03:00<00:00,  5.65s/it]\n",
      "applying N2V:  16%|█▋        | 14/86 [43:58<3:44:51, 187.38s/it]"
     ]
    },
    {
     "name": "stdout",
     "output_type": "stream",
     "text": [
      "The input image is of type int16 and will be casted to float32 for prediction.\n"
     ]
    },
    {
     "name": "stderr",
     "output_type": "stream",
     "text": [
      "100%|██████████| 32/32 [03:00<00:00,  5.64s/it]\n",
      "applying N2V:  17%|█▋        | 15/86 [47:04<3:41:27, 187.15s/it]"
     ]
    },
    {
     "name": "stdout",
     "output_type": "stream",
     "text": [
      "The input image is of type int16 and will be casted to float32 for prediction.\n"
     ]
    },
    {
     "name": "stderr",
     "output_type": "stream",
     "text": [
      "100%|██████████| 32/32 [03:00<00:00,  5.63s/it]\n",
      "applying N2V:  19%|█▊        | 16/86 [50:11<3:38:06, 186.94s/it]"
     ]
    },
    {
     "name": "stdout",
     "output_type": "stream",
     "text": [
      "The input image is of type int16 and will be casted to float32 for prediction.\n"
     ]
    },
    {
     "name": "stderr",
     "output_type": "stream",
     "text": [
      "100%|██████████| 32/32 [03:01<00:00,  5.67s/it]\n",
      "applying N2V:  20%|█▉        | 17/86 [53:18<3:35:15, 187.18s/it]"
     ]
    },
    {
     "name": "stdout",
     "output_type": "stream",
     "text": [
      "The input image is of type int16 and will be casted to float32 for prediction.\n"
     ]
    },
    {
     "name": "stderr",
     "output_type": "stream",
     "text": [
      "100%|██████████| 32/32 [03:01<00:00,  5.66s/it]\n",
      "applying N2V:  21%|██        | 18/86 [56:26<3:32:12, 187.24s/it]"
     ]
    },
    {
     "name": "stdout",
     "output_type": "stream",
     "text": [
      "The input image is of type int16 and will be casted to float32 for prediction.\n"
     ]
    },
    {
     "name": "stderr",
     "output_type": "stream",
     "text": [
      "100%|██████████| 32/32 [03:00<00:00,  5.65s/it]\n",
      "applying N2V:  22%|██▏       | 19/86 [59:33<3:28:59, 187.16s/it]"
     ]
    },
    {
     "name": "stdout",
     "output_type": "stream",
     "text": [
      "The input image is of type int16 and will be casted to float32 for prediction.\n"
     ]
    },
    {
     "name": "stderr",
     "output_type": "stream",
     "text": [
      "100%|██████████| 32/32 [03:01<00:00,  5.67s/it]\n",
      "applying N2V:  23%|██▎       | 20/86 [1:02:40<3:26:00, 187.28s/it]"
     ]
    },
    {
     "name": "stdout",
     "output_type": "stream",
     "text": [
      "The input image is of type int16 and will be casted to float32 for prediction.\n"
     ]
    },
    {
     "name": "stderr",
     "output_type": "stream",
     "text": [
      "100%|██████████| 32/32 [03:01<00:00,  5.66s/it]\n",
      "applying N2V:  24%|██▍       | 21/86 [1:05:48<3:22:55, 187.32s/it]"
     ]
    },
    {
     "name": "stdout",
     "output_type": "stream",
     "text": [
      "The input image is of type int16 and will be casted to float32 for prediction.\n"
     ]
    },
    {
     "name": "stderr",
     "output_type": "stream",
     "text": [
      "100%|██████████| 32/32 [03:01<00:00,  5.69s/it]\n",
      "applying N2V:  26%|██▌       | 22/86 [1:08:56<3:20:06, 187.59s/it]"
     ]
    },
    {
     "name": "stdout",
     "output_type": "stream",
     "text": [
      "The input image is of type int16 and will be casted to float32 for prediction.\n"
     ]
    },
    {
     "name": "stderr",
     "output_type": "stream",
     "text": [
      "100%|██████████| 32/32 [03:01<00:00,  5.68s/it]\n",
      "applying N2V:  27%|██▋       | 23/86 [1:12:04<3:17:04, 187.69s/it]"
     ]
    },
    {
     "name": "stdout",
     "output_type": "stream",
     "text": [
      "The input image is of type int16 and will be casted to float32 for prediction.\n"
     ]
    },
    {
     "name": "stderr",
     "output_type": "stream",
     "text": [
      "100%|██████████| 32/32 [03:02<00:00,  5.71s/it]\n",
      "applying N2V:  28%|██▊       | 24/86 [1:15:13<3:14:26, 188.17s/it]"
     ]
    },
    {
     "name": "stdout",
     "output_type": "stream",
     "text": [
      "The input image is of type int16 and will be casted to float32 for prediction.\n"
     ]
    },
    {
     "name": "stderr",
     "output_type": "stream",
     "text": [
      "100%|██████████| 32/32 [03:06<00:00,  5.82s/it]\n",
      "applying N2V:  29%|██▉       | 25/86 [1:18:25<3:12:32, 189.38s/it]"
     ]
    },
    {
     "name": "stdout",
     "output_type": "stream",
     "text": [
      "The input image is of type int16 and will be casted to float32 for prediction.\n"
     ]
    },
    {
     "name": "stderr",
     "output_type": "stream",
     "text": [
      "100%|██████████| 32/32 [03:01<00:00,  5.66s/it]\n",
      "applying N2V:  30%|███       | 26/86 [1:21:33<3:08:43, 188.73s/it]"
     ]
    },
    {
     "name": "stdout",
     "output_type": "stream",
     "text": [
      "The input image is of type int16 and will be casted to float32 for prediction.\n"
     ]
    },
    {
     "name": "stderr",
     "output_type": "stream",
     "text": [
      "100%|██████████| 32/32 [03:01<00:00,  5.66s/it]\n",
      "applying N2V:  31%|███▏      | 27/86 [1:24:40<3:05:15, 188.39s/it]"
     ]
    },
    {
     "name": "stdout",
     "output_type": "stream",
     "text": [
      "The input image is of type int16 and will be casted to float32 for prediction.\n"
     ]
    },
    {
     "name": "stderr",
     "output_type": "stream",
     "text": [
      "100%|██████████| 32/32 [03:00<00:00,  5.66s/it]\n",
      "applying N2V:  33%|███▎      | 28/86 [1:27:47<3:01:43, 187.99s/it]"
     ]
    },
    {
     "name": "stdout",
     "output_type": "stream",
     "text": [
      "The input image is of type int16 and will be casted to float32 for prediction.\n"
     ]
    },
    {
     "name": "stderr",
     "output_type": "stream",
     "text": [
      "100%|██████████| 32/32 [03:00<00:00,  5.65s/it]\n",
      "applying N2V:  34%|███▎      | 29/86 [1:30:54<2:58:19, 187.70s/it]"
     ]
    },
    {
     "name": "stdout",
     "output_type": "stream",
     "text": [
      "The input image is of type int16 and will be casted to float32 for prediction.\n"
     ]
    },
    {
     "name": "stderr",
     "output_type": "stream",
     "text": [
      "100%|██████████| 32/32 [03:01<00:00,  5.67s/it]\n",
      "applying N2V:  35%|███▍      | 30/86 [1:34:02<2:55:08, 187.65s/it]"
     ]
    },
    {
     "name": "stdout",
     "output_type": "stream",
     "text": [
      "The input image is of type int16 and will be casted to float32 for prediction.\n"
     ]
    },
    {
     "name": "stderr",
     "output_type": "stream",
     "text": [
      "100%|██████████| 32/32 [03:01<00:00,  5.68s/it]\n",
      "applying N2V:  36%|███▌      | 31/86 [1:37:10<2:52:04, 187.71s/it]"
     ]
    },
    {
     "name": "stdout",
     "output_type": "stream",
     "text": [
      "The input image is of type int16 and will be casted to float32 for prediction.\n"
     ]
    },
    {
     "name": "stderr",
     "output_type": "stream",
     "text": [
      "100%|██████████| 32/32 [03:01<00:00,  5.67s/it]\n",
      "applying N2V:  37%|███▋      | 32/86 [1:40:17<2:48:54, 187.68s/it]"
     ]
    },
    {
     "name": "stdout",
     "output_type": "stream",
     "text": [
      "The input image is of type int16 and will be casted to float32 for prediction.\n"
     ]
    },
    {
     "name": "stderr",
     "output_type": "stream",
     "text": [
      "100%|██████████| 32/32 [03:01<00:00,  5.68s/it]\n",
      "applying N2V:  38%|███▊      | 33/86 [1:43:25<2:45:51, 187.76s/it]"
     ]
    },
    {
     "name": "stdout",
     "output_type": "stream",
     "text": [
      "The input image is of type int16 and will be casted to float32 for prediction.\n"
     ]
    },
    {
     "name": "stderr",
     "output_type": "stream",
     "text": [
      "100%|██████████| 32/32 [03:01<00:00,  5.66s/it]\n",
      "applying N2V:  40%|███▉      | 34/86 [1:46:33<2:42:35, 187.61s/it]"
     ]
    },
    {
     "name": "stdout",
     "output_type": "stream",
     "text": [
      "The input image is of type int16 and will be casted to float32 for prediction.\n"
     ]
    },
    {
     "name": "stderr",
     "output_type": "stream",
     "text": [
      "100%|██████████| 32/32 [03:01<00:00,  5.66s/it]\n",
      "applying N2V:  41%|████      | 35/86 [1:49:40<2:39:21, 187.49s/it]"
     ]
    },
    {
     "name": "stdout",
     "output_type": "stream",
     "text": [
      "The input image is of type int16 and will be casted to float32 for prediction.\n"
     ]
    },
    {
     "name": "stderr",
     "output_type": "stream",
     "text": [
      "100%|██████████| 32/32 [03:01<00:00,  5.67s/it]\n",
      "applying N2V:  42%|████▏     | 36/86 [1:52:47<2:36:17, 187.55s/it]"
     ]
    },
    {
     "name": "stdout",
     "output_type": "stream",
     "text": [
      "The input image is of type int16 and will be casted to float32 for prediction.\n"
     ]
    },
    {
     "name": "stderr",
     "output_type": "stream",
     "text": [
      "100%|██████████| 32/32 [03:00<00:00,  5.65s/it]\n",
      "applying N2V:  43%|████▎     | 37/86 [1:55:54<2:33:02, 187.40s/it]"
     ]
    },
    {
     "name": "stdout",
     "output_type": "stream",
     "text": [
      "The input image is of type int16 and will be casted to float32 for prediction.\n"
     ]
    },
    {
     "name": "stderr",
     "output_type": "stream",
     "text": [
      "100%|██████████| 32/32 [03:01<00:00,  5.67s/it]\n",
      "applying N2V:  44%|████▍     | 38/86 [1:59:02<2:29:58, 187.46s/it]"
     ]
    },
    {
     "name": "stdout",
     "output_type": "stream",
     "text": [
      "The input image is of type int16 and will be casted to float32 for prediction.\n"
     ]
    },
    {
     "name": "stderr",
     "output_type": "stream",
     "text": [
      "100%|██████████| 32/32 [03:01<00:00,  5.67s/it]\n",
      "applying N2V:  45%|████▌     | 39/86 [2:02:10<2:26:53, 187.51s/it]"
     ]
    },
    {
     "name": "stdout",
     "output_type": "stream",
     "text": [
      "The input image is of type int16 and will be casted to float32 for prediction.\n"
     ]
    },
    {
     "name": "stderr",
     "output_type": "stream",
     "text": [
      "100%|██████████| 32/32 [03:01<00:00,  5.66s/it]\n",
      "applying N2V:  47%|████▋     | 40/86 [2:05:17<2:23:41, 187.43s/it]"
     ]
    },
    {
     "name": "stdout",
     "output_type": "stream",
     "text": [
      "The input image is of type int16 and will be casted to float32 for prediction.\n"
     ]
    },
    {
     "name": "stderr",
     "output_type": "stream",
     "text": [
      "100%|██████████| 32/32 [03:01<00:00,  5.67s/it]\n",
      "applying N2V:  48%|████▊     | 41/86 [2:08:24<2:20:35, 187.45s/it]"
     ]
    },
    {
     "name": "stdout",
     "output_type": "stream",
     "text": [
      "The input image is of type int16 and will be casted to float32 for prediction.\n"
     ]
    },
    {
     "name": "stderr",
     "output_type": "stream",
     "text": [
      "100%|██████████| 32/32 [03:02<00:00,  5.69s/it]\n",
      "applying N2V:  49%|████▉     | 42/86 [2:11:33<2:17:37, 187.66s/it]"
     ]
    },
    {
     "name": "stdout",
     "output_type": "stream",
     "text": [
      "The input image is of type int16 and will be casted to float32 for prediction.\n"
     ]
    },
    {
     "name": "stderr",
     "output_type": "stream",
     "text": [
      "100%|██████████| 32/32 [03:01<00:00,  5.68s/it]\n",
      "applying N2V:  50%|█████     | 43/86 [2:14:41<2:14:32, 187.74s/it]"
     ]
    },
    {
     "name": "stdout",
     "output_type": "stream",
     "text": [
      "The input image is of type int16 and will be casted to float32 for prediction.\n"
     ]
    },
    {
     "name": "stderr",
     "output_type": "stream",
     "text": [
      "100%|██████████| 32/32 [03:01<00:00,  5.67s/it]\n",
      "applying N2V:  51%|█████     | 44/86 [2:17:48<2:11:22, 187.68s/it]"
     ]
    },
    {
     "name": "stdout",
     "output_type": "stream",
     "text": [
      "The input image is of type int16 and will be casted to float32 for prediction.\n"
     ]
    },
    {
     "name": "stderr",
     "output_type": "stream",
     "text": [
      "100%|██████████| 32/32 [03:01<00:00,  5.67s/it]\n",
      "applying N2V:  52%|█████▏    | 45/86 [2:20:56<2:08:14, 187.67s/it]"
     ]
    },
    {
     "name": "stdout",
     "output_type": "stream",
     "text": [
      "The input image is of type int16 and will be casted to float32 for prediction.\n"
     ]
    },
    {
     "name": "stderr",
     "output_type": "stream",
     "text": [
      "100%|██████████| 32/32 [03:01<00:00,  5.66s/it]\n",
      "applying N2V:  53%|█████▎    | 46/86 [2:24:03<2:05:02, 187.57s/it]"
     ]
    },
    {
     "name": "stdout",
     "output_type": "stream",
     "text": [
      "The input image is of type int16 and will be casted to float32 for prediction.\n"
     ]
    },
    {
     "name": "stderr",
     "output_type": "stream",
     "text": [
      "100%|██████████| 32/32 [03:00<00:00,  5.65s/it]\n",
      "applying N2V:  55%|█████▍    | 47/86 [2:27:10<2:01:48, 187.40s/it]"
     ]
    },
    {
     "name": "stdout",
     "output_type": "stream",
     "text": [
      "The input image is of type int16 and will be casted to float32 for prediction.\n"
     ]
    },
    {
     "name": "stderr",
     "output_type": "stream",
     "text": [
      "100%|██████████| 32/32 [03:01<00:00,  5.68s/it]\n",
      "applying N2V:  56%|█████▌    | 48/86 [2:30:18<1:58:46, 187.54s/it]"
     ]
    },
    {
     "name": "stdout",
     "output_type": "stream",
     "text": [
      "The input image is of type int16 and will be casted to float32 for prediction.\n"
     ]
    },
    {
     "name": "stderr",
     "output_type": "stream",
     "text": [
      "100%|██████████| 32/32 [03:02<00:00,  5.69s/it]\n",
      "applying N2V:  57%|█████▋    | 49/86 [2:33:26<1:55:45, 187.72s/it]"
     ]
    },
    {
     "name": "stdout",
     "output_type": "stream",
     "text": [
      "The input image is of type int16 and will be casted to float32 for prediction.\n"
     ]
    },
    {
     "name": "stderr",
     "output_type": "stream",
     "text": [
      "100%|██████████| 32/32 [03:02<00:00,  5.69s/it]\n",
      "applying N2V:  58%|█████▊    | 50/86 [2:36:34<1:52:42, 187.86s/it]"
     ]
    },
    {
     "name": "stdout",
     "output_type": "stream",
     "text": [
      "The input image is of type int16 and will be casted to float32 for prediction.\n"
     ]
    },
    {
     "name": "stderr",
     "output_type": "stream",
     "text": [
      "100%|██████████| 32/32 [03:02<00:00,  5.71s/it]\n",
      "applying N2V:  59%|█████▉    | 51/86 [2:39:43<1:49:45, 188.17s/it]"
     ]
    },
    {
     "name": "stdout",
     "output_type": "stream",
     "text": [
      "The input image is of type int16 and will be casted to float32 for prediction.\n"
     ]
    },
    {
     "name": "stderr",
     "output_type": "stream",
     "text": [
      "100%|██████████| 32/32 [03:01<00:00,  5.68s/it]\n",
      "applying N2V:  60%|██████    | 52/86 [2:42:51<1:46:38, 188.19s/it]"
     ]
    },
    {
     "name": "stdout",
     "output_type": "stream",
     "text": [
      "The input image is of type int16 and will be casted to float32 for prediction.\n"
     ]
    },
    {
     "name": "stderr",
     "output_type": "stream",
     "text": [
      "100%|██████████| 32/32 [03:01<00:00,  5.67s/it]\n",
      "applying N2V:  62%|██████▏   | 53/86 [2:45:59<1:43:26, 188.06s/it]"
     ]
    },
    {
     "name": "stdout",
     "output_type": "stream",
     "text": [
      "The input image is of type int16 and will be casted to float32 for prediction.\n"
     ]
    },
    {
     "name": "stderr",
     "output_type": "stream",
     "text": [
      "100%|██████████| 32/32 [03:02<00:00,  5.69s/it]\n",
      "applying N2V:  63%|██████▎   | 54/86 [2:49:07<1:40:20, 188.15s/it]"
     ]
    },
    {
     "name": "stdout",
     "output_type": "stream",
     "text": [
      "The input image is of type int16 and will be casted to float32 for prediction.\n"
     ]
    },
    {
     "name": "stderr",
     "output_type": "stream",
     "text": [
      "100%|██████████| 32/32 [03:01<00:00,  5.68s/it]\n",
      "applying N2V:  64%|██████▍   | 55/86 [2:52:16<1:37:12, 188.14s/it]"
     ]
    },
    {
     "name": "stdout",
     "output_type": "stream",
     "text": [
      "The input image is of type int16 and will be casted to float32 for prediction.\n"
     ]
    },
    {
     "name": "stderr",
     "output_type": "stream",
     "text": [
      "100%|██████████| 32/32 [03:01<00:00,  5.68s/it]\n",
      "applying N2V:  65%|██████▌   | 56/86 [2:55:24<1:34:02, 188.08s/it]"
     ]
    },
    {
     "name": "stdout",
     "output_type": "stream",
     "text": [
      "The input image is of type int16 and will be casted to float32 for prediction.\n"
     ]
    },
    {
     "name": "stderr",
     "output_type": "stream",
     "text": [
      "100%|██████████| 32/32 [03:01<00:00,  5.68s/it]\n",
      "applying N2V:  66%|██████▋   | 57/86 [2:58:31<1:30:52, 188.01s/it]"
     ]
    },
    {
     "name": "stdout",
     "output_type": "stream",
     "text": [
      "The input image is of type int16 and will be casted to float32 for prediction.\n"
     ]
    },
    {
     "name": "stderr",
     "output_type": "stream",
     "text": [
      "100%|██████████| 32/32 [03:02<00:00,  5.70s/it]\n",
      "applying N2V:  67%|██████▋   | 58/86 [3:01:40<1:27:47, 188.12s/it]"
     ]
    },
    {
     "name": "stdout",
     "output_type": "stream",
     "text": [
      "The input image is of type int16 and will be casted to float32 for prediction.\n"
     ]
    },
    {
     "name": "stderr",
     "output_type": "stream",
     "text": [
      "100%|██████████| 32/32 [03:01<00:00,  5.68s/it]\n",
      "applying N2V:  69%|██████▊   | 59/86 [3:04:48<1:24:38, 188.10s/it]"
     ]
    },
    {
     "name": "stdout",
     "output_type": "stream",
     "text": [
      "The input image is of type int16 and will be casted to float32 for prediction.\n"
     ]
    },
    {
     "name": "stderr",
     "output_type": "stream",
     "text": [
      "100%|██████████| 32/32 [03:01<00:00,  5.68s/it]\n",
      "applying N2V:  70%|██████▉   | 60/86 [3:07:56<1:21:29, 188.05s/it]"
     ]
    },
    {
     "name": "stdout",
     "output_type": "stream",
     "text": [
      "The input image is of type int16 and will be casted to float32 for prediction.\n"
     ]
    },
    {
     "name": "stderr",
     "output_type": "stream",
     "text": [
      "100%|██████████| 32/32 [03:02<00:00,  5.70s/it]\n",
      "applying N2V:  71%|███████   | 61/86 [3:11:04<1:18:23, 188.14s/it]"
     ]
    },
    {
     "name": "stdout",
     "output_type": "stream",
     "text": [
      "The input image is of type int16 and will be casted to float32 for prediction.\n"
     ]
    },
    {
     "name": "stderr",
     "output_type": "stream",
     "text": [
      "100%|██████████| 32/32 [03:01<00:00,  5.66s/it]\n",
      "applying N2V:  72%|███████▏  | 62/86 [3:14:11<1:15:09, 187.91s/it]"
     ]
    },
    {
     "name": "stdout",
     "output_type": "stream",
     "text": [
      "The input image is of type int16 and will be casted to float32 for prediction.\n"
     ]
    },
    {
     "name": "stderr",
     "output_type": "stream",
     "text": [
      "100%|██████████| 32/32 [03:01<00:00,  5.68s/it]\n",
      "applying N2V:  73%|███████▎  | 63/86 [3:17:19<1:12:02, 187.92s/it]"
     ]
    },
    {
     "name": "stdout",
     "output_type": "stream",
     "text": [
      "The input image is of type int16 and will be casted to float32 for prediction.\n"
     ]
    },
    {
     "name": "stderr",
     "output_type": "stream",
     "text": [
      "100%|██████████| 32/32 [03:02<00:00,  5.70s/it]\n",
      "applying N2V:  74%|███████▍  | 64/86 [3:20:28<1:08:58, 188.11s/it]"
     ]
    },
    {
     "name": "stdout",
     "output_type": "stream",
     "text": [
      "The input image is of type int16 and will be casted to float32 for prediction.\n"
     ]
    },
    {
     "name": "stderr",
     "output_type": "stream",
     "text": [
      "100%|██████████| 32/32 [03:01<00:00,  5.68s/it]\n",
      "applying N2V:  76%|███████▌  | 65/86 [3:23:36<1:05:48, 188.02s/it]"
     ]
    },
    {
     "name": "stdout",
     "output_type": "stream",
     "text": [
      "The input image is of type int16 and will be casted to float32 for prediction.\n"
     ]
    },
    {
     "name": "stderr",
     "output_type": "stream",
     "text": [
      "100%|██████████| 32/32 [03:01<00:00,  5.67s/it]\n",
      "applying N2V:  77%|███████▋  | 66/86 [3:26:43<1:02:37, 187.88s/it]"
     ]
    },
    {
     "name": "stdout",
     "output_type": "stream",
     "text": [
      "The input image is of type int16 and will be casted to float32 for prediction.\n"
     ]
    },
    {
     "name": "stderr",
     "output_type": "stream",
     "text": [
      "100%|██████████| 32/32 [03:01<00:00,  5.68s/it]\n",
      "applying N2V:  78%|███████▊  | 67/86 [3:29:51<59:29, 187.89s/it]  "
     ]
    },
    {
     "name": "stdout",
     "output_type": "stream",
     "text": [
      "The input image is of type int16 and will be casted to float32 for prediction.\n"
     ]
    },
    {
     "name": "stderr",
     "output_type": "stream",
     "text": [
      "100%|██████████| 32/32 [03:01<00:00,  5.69s/it]\n",
      "applying N2V:  79%|███████▉  | 68/86 [3:32:59<56:23, 187.96s/it]"
     ]
    },
    {
     "name": "stdout",
     "output_type": "stream",
     "text": [
      "The input image is of type int16 and will be casted to float32 for prediction.\n"
     ]
    },
    {
     "name": "stderr",
     "output_type": "stream",
     "text": [
      "100%|██████████| 32/32 [03:01<00:00,  5.67s/it]\n",
      "applying N2V:  80%|████████  | 69/86 [3:36:07<53:15, 187.96s/it]"
     ]
    },
    {
     "name": "stdout",
     "output_type": "stream",
     "text": [
      "The input image is of type int16 and will be casted to float32 for prediction.\n"
     ]
    },
    {
     "name": "stderr",
     "output_type": "stream",
     "text": [
      "100%|██████████| 32/32 [03:01<00:00,  5.68s/it]\n",
      "applying N2V:  81%|████████▏ | 70/86 [3:39:15<50:06, 187.92s/it]"
     ]
    },
    {
     "name": "stdout",
     "output_type": "stream",
     "text": [
      "The input image is of type int16 and will be casted to float32 for prediction.\n"
     ]
    },
    {
     "name": "stderr",
     "output_type": "stream",
     "text": [
      "100%|██████████| 32/32 [03:01<00:00,  5.67s/it]\n",
      "applying N2V:  83%|████████▎ | 71/86 [3:42:23<46:56, 187.80s/it]"
     ]
    },
    {
     "name": "stdout",
     "output_type": "stream",
     "text": [
      "The input image is of type int16 and will be casted to float32 for prediction.\n"
     ]
    },
    {
     "name": "stderr",
     "output_type": "stream",
     "text": [
      "100%|██████████| 32/32 [03:01<00:00,  5.68s/it]\n",
      "applying N2V:  84%|████████▎ | 72/86 [3:45:30<43:49, 187.80s/it]"
     ]
    },
    {
     "name": "stdout",
     "output_type": "stream",
     "text": [
      "The input image is of type int16 and will be casted to float32 for prediction.\n"
     ]
    },
    {
     "name": "stderr",
     "output_type": "stream",
     "text": [
      "100%|██████████| 32/32 [03:01<00:00,  5.68s/it]\n",
      "applying N2V:  85%|████████▍ | 73/86 [3:48:38<40:41, 187.82s/it]"
     ]
    },
    {
     "name": "stdout",
     "output_type": "stream",
     "text": [
      "The input image is of type int16 and will be casted to float32 for prediction.\n"
     ]
    },
    {
     "name": "stderr",
     "output_type": "stream",
     "text": [
      "100%|██████████| 32/32 [03:01<00:00,  5.67s/it]\n",
      "applying N2V:  86%|████████▌ | 74/86 [3:51:46<37:32, 187.74s/it]"
     ]
    },
    {
     "name": "stdout",
     "output_type": "stream",
     "text": [
      "The input image is of type int16 and will be casted to float32 for prediction.\n"
     ]
    },
    {
     "name": "stderr",
     "output_type": "stream",
     "text": [
      "100%|██████████| 32/32 [03:01<00:00,  5.68s/it]\n",
      "applying N2V:  87%|████████▋ | 75/86 [3:54:54<34:25, 187.80s/it]"
     ]
    },
    {
     "name": "stdout",
     "output_type": "stream",
     "text": [
      "The input image is of type int16 and will be casted to float32 for prediction.\n"
     ]
    },
    {
     "name": "stderr",
     "output_type": "stream",
     "text": [
      "100%|██████████| 32/32 [03:02<00:00,  5.69s/it]\n",
      "applying N2V:  88%|████████▊ | 76/86 [3:58:02<31:19, 187.94s/it]"
     ]
    },
    {
     "name": "stdout",
     "output_type": "stream",
     "text": [
      "The input image is of type int16 and will be casted to float32 for prediction.\n"
     ]
    },
    {
     "name": "stderr",
     "output_type": "stream",
     "text": [
      "100%|██████████| 32/32 [03:01<00:00,  5.68s/it]\n",
      "applying N2V:  90%|████████▉ | 77/86 [4:01:10<28:11, 187.98s/it]"
     ]
    },
    {
     "name": "stdout",
     "output_type": "stream",
     "text": [
      "The input image is of type int16 and will be casted to float32 for prediction.\n"
     ]
    },
    {
     "name": "stderr",
     "output_type": "stream",
     "text": [
      "100%|██████████| 32/32 [03:01<00:00,  5.67s/it]\n",
      "applying N2V:  91%|█████████ | 78/86 [4:04:18<25:02, 187.87s/it]"
     ]
    },
    {
     "name": "stdout",
     "output_type": "stream",
     "text": [
      "The input image is of type int16 and will be casted to float32 for prediction.\n"
     ]
    },
    {
     "name": "stderr",
     "output_type": "stream",
     "text": [
      "100%|██████████| 32/32 [03:02<00:00,  5.71s/it]\n",
      "applying N2V:  92%|█████████▏| 79/86 [4:07:27<21:56, 188.13s/it]"
     ]
    },
    {
     "name": "stdout",
     "output_type": "stream",
     "text": [
      "The input image is of type int16 and will be casted to float32 for prediction.\n"
     ]
    },
    {
     "name": "stderr",
     "output_type": "stream",
     "text": [
      "100%|██████████| 32/32 [03:01<00:00,  5.68s/it]\n",
      "applying N2V:  93%|█████████▎| 80/86 [4:10:34<18:48, 188.03s/it]"
     ]
    },
    {
     "name": "stdout",
     "output_type": "stream",
     "text": [
      "The input image is of type int16 and will be casted to float32 for prediction.\n"
     ]
    },
    {
     "name": "stderr",
     "output_type": "stream",
     "text": [
      "100%|██████████| 32/32 [03:01<00:00,  5.68s/it]\n",
      "applying N2V:  94%|█████████▍| 81/86 [4:13:42<15:39, 187.98s/it]"
     ]
    },
    {
     "name": "stdout",
     "output_type": "stream",
     "text": [
      "The input image is of type int16 and will be casted to float32 for prediction.\n"
     ]
    },
    {
     "name": "stderr",
     "output_type": "stream",
     "text": [
      "100%|██████████| 32/32 [03:01<00:00,  5.67s/it]\n",
      "applying N2V:  95%|█████████▌| 82/86 [4:16:50<12:31, 187.84s/it]"
     ]
    },
    {
     "name": "stdout",
     "output_type": "stream",
     "text": [
      "The input image is of type int16 and will be casted to float32 for prediction.\n"
     ]
    },
    {
     "name": "stderr",
     "output_type": "stream",
     "text": [
      "100%|██████████| 32/32 [03:01<00:00,  5.67s/it]\n",
      "applying N2V:  97%|█████████▋| 83/86 [4:19:57<09:23, 187.72s/it]"
     ]
    },
    {
     "name": "stdout",
     "output_type": "stream",
     "text": [
      "The input image is of type int16 and will be casted to float32 for prediction.\n"
     ]
    },
    {
     "name": "stderr",
     "output_type": "stream",
     "text": [
      "100%|██████████| 32/32 [03:01<00:00,  5.66s/it]\n",
      "applying N2V:  98%|█████████▊| 84/86 [4:23:05<06:15, 187.62s/it]"
     ]
    },
    {
     "name": "stdout",
     "output_type": "stream",
     "text": [
      "The input image is of type int16 and will be casted to float32 for prediction.\n"
     ]
    },
    {
     "name": "stderr",
     "output_type": "stream",
     "text": [
      "100%|██████████| 32/32 [03:01<00:00,  5.67s/it]\n",
      "applying N2V:  99%|█████████▉| 85/86 [4:26:12<03:07, 187.64s/it]"
     ]
    },
    {
     "name": "stdout",
     "output_type": "stream",
     "text": [
      "The input image is of type int16 and will be casted to float32 for prediction.\n"
     ]
    },
    {
     "name": "stderr",
     "output_type": "stream",
     "text": [
      "100%|██████████| 32/32 [03:01<00:00,  5.67s/it]\n",
      "applying N2V: 100%|██████████| 86/86 [4:29:20<00:00, 187.91s/it]\n",
      "/home/tli_project/.local/lib/python3.8/site-packages/tifffile/tifffile.py:2876: UserWarning: <tifffile.TiffWriter 'N2V_211025_P36.5.tif'> truncating ImageJ file\n",
      "  warnings.warn(\n"
     ]
    }
   ],
   "source": [
    "image_4D = denoise.N2V_4D(image_4D, model_name=model_name, model_path=model_path, \n",
    "                            save=True, save_path=save_path, xy_pixel=0.076, \n",
    "                            z_pixel=0.4, save_file=save_name) "
   ]
  },
  {
   "cell_type": "code",
   "execution_count": 18,
   "metadata": {},
   "outputs": [],
   "source": [
    "# remove further noise pixels before applying clahe, by removing 95% quantil\n",
    "# threshold = np.quantile(image_4D,0.95)\n",
    "# # threshold = 4 * image_4D.mean()\n",
    "# threshold = 300\n",
    "# image_4D[image_4D<threshold] = 0\n",
    "# image_4D[mask == 0] = 0"
   ]
  },
  {
   "cell_type": "code",
   "execution_count": 5,
   "metadata": {},
   "outputs": [
    {
     "data": {
      "text/plain": [
       "(7374, 39496)"
      ]
     },
     "execution_count": 5,
     "metadata": {},
     "output_type": "execute_result"
    }
   ],
   "source": [
    "# image_4D.min(), image_4D.max()"
   ]
  },
  {
   "cell_type": "code",
   "execution_count": 7,
   "metadata": {},
   "outputs": [
    {
     "name": "stderr",
     "output_type": "stream",
     "text": [
      "applying clahe: 100%|██████████| 86/86 [03:58<00:00,  2.77s/it]\n",
      "/home/tli_project/.local/lib/python3.8/site-packages/tifffile/tifffile.py:2876: UserWarning: <tifffile.TiffWriter 'clahe_211025_P36.5.tif'> truncating ImageJ file\n",
      "  warnings.warn(\n"
     ]
    }
   ],
   "source": [
    "# image_4D = image_4D[:,3:31]\n",
    "image_4D = denoise.clahe_4D(image_4D, kernel_size=kernel_size, clipLimit=clipLimit, \n",
    "                            save=True, save_path=save_path, xy_pixel=0.076, \n",
    "                            z_pixel=0.4, save_file=save_name)"
   ]
  },
  {
   "cell_type": "code",
   "execution_count": null,
   "metadata": {},
   "outputs": [],
   "source": [
    "# tif.imwrite(save_path+save_name+'1', image_4D, bigtiff=True, resolution=(1./1, 1./1),\n",
    "#                 metadata={'spacing': 1, 'unit': 'um', 'finterval': 1/10,'axes': 'TZYX'})"
   ]
  },
  {
   "cell_type": "code",
   "execution_count": null,
   "metadata": {},
   "outputs": [
    {
     "name": "stderr",
     "output_type": "stream",
     "text": [
      "masking the image: 100%|██████████| 93/93 [03:20<00:00,  2.15s/it]\n",
      "/home/tli_project/.local/lib/python3.8/site-packages/tifffile/tifffile.py:2876: UserWarning: <tifffile.TiffWriter 'mask_SyNRA_4D_211114_P36.tif'> truncating ImageJ file\n",
      "  warnings.warn(\n"
     ]
    }
   ],
   "source": [
    "mask = denoise.mask_4D(image_4D, return_mask=False, \n",
    "                        xy_pixel=0.076, z_pixel=0.4, \n",
    "                        sig=1, save=True, \n",
    "                        save_path=save_path, \n",
    "                        save_file=save_name)"
   ]
  },
  {
   "cell_type": "code",
   "execution_count": 14,
   "metadata": {},
   "outputs": [
    {
     "data": {
      "text/plain": [
       "(0, 54287, 117.13803814904556, 28049.0)"
      ]
     },
     "execution_count": 14,
     "metadata": {},
     "output_type": "execute_result"
    }
   ],
   "source": [
    "mask.min(), mask.max(), mask.mean(), np.quantile(mask, 0.999)"
   ]
  },
  {
   "cell_type": "code",
   "execution_count": 8,
   "metadata": {},
   "outputs": [
    {
     "name": "stderr",
     "output_type": "stream",
     "text": [
      "/home/tli_project/.local/lib/python3.8/site-packages/tifffile/tifffile.py:2876: UserWarning: <tifffile.TiffWriter 'SyNRA_4D_211114_P36_masked.tif'> truncating ImageJ file\n",
      "  warnings.warn(\n"
     ]
    }
   ],
   "source": [
    "mask[mask>0] = 1\n",
    "image_4D = image_4D * mask\n",
    "save_file = save_path+save_name+'_masked.tif'\n",
    "tif.imwrite(save_file, image_4D, imagej=True, resolution=(1./0.076, 1./0.076),\n",
    "                metadata={'spacing': 0.4, 'unit': 'um', 'finterval': 1/10,'axes': 'TZYX'})"
   ]
  },
  {
   "cell_type": "code",
   "execution_count": 15,
   "metadata": {},
   "outputs": [],
   "source": [
    "# # masking the image using neurosetta\n",
    "# image_4D = neu.Neuron(image_4D)\n",
    "# mask =  neu.mask_Neuron(image_4D)\n",
    "# image_4D = image_4D.array\n",
    "# mask = mask.array\n",
    "# for i, img in enumerate(image_4D):\n",
    "#     image_4D[i] = datautils.img_limits(mask[i], limit=img.max())\n",
    "# image_4D = image_4D.astype('int16')\n",
    "# datautils.save_image(save_path+'mask2_'+save_name, image_4D)"
   ]
  },
  {
   "cell_type": "code",
   "execution_count": 7,
   "metadata": {},
   "outputs": [
    {
     "ename": "Error",
     "evalue": "Canceled future for execute_request message before replies were done",
     "output_type": "error",
     "traceback": [
      "Error: Canceled future for execute_request message before replies were done",
      "at t.KernelShellFutureHandler.dispose (/home/tli_project/.var/app/com.visualstudio.code/data/vscode/extensions/ms-toolsai.jupyter-2022.3.1000901801/out/extension.js:2:1204175)",
      "at /home/tli_project/.var/app/com.visualstudio.code/data/vscode/extensions/ms-toolsai.jupyter-2022.3.1000901801/out/extension.js:2:1223227",
      "at Map.forEach (<anonymous>)",
      "at v._clearKernelState (/home/tli_project/.var/app/com.visualstudio.code/data/vscode/extensions/ms-toolsai.jupyter-2022.3.1000901801/out/extension.js:2:1223212)",
      "at v.dispose (/home/tli_project/.var/app/com.visualstudio.code/data/vscode/extensions/ms-toolsai.jupyter-2022.3.1000901801/out/extension.js:2:1216694)",
      "at /home/tli_project/.var/app/com.visualstudio.code/data/vscode/extensions/ms-toolsai.jupyter-2022.3.1000901801/out/extension.js:2:533674",
      "at t.swallowExceptions (/home/tli_project/.var/app/com.visualstudio.code/data/vscode/extensions/ms-toolsai.jupyter-2022.3.1000901801/out/extension.js:2:913059)",
      "at dispose (/home/tli_project/.var/app/com.visualstudio.code/data/vscode/extensions/ms-toolsai.jupyter-2022.3.1000901801/out/extension.js:2:533652)",
      "at t.RawSession.dispose (/home/tli_project/.var/app/com.visualstudio.code/data/vscode/extensions/ms-toolsai.jupyter-2022.3.1000901801/out/extension.js:2:537330)",
      "at runMicrotasks (<anonymous>)",
      "at processTicksAndRejections (node:internal/process/task_queues:96:5)"
     ]
    }
   ],
   "source": [
    "print('memory cleared, and kernel stopped')\n",
    "print('Job is DONE!')\n",
    "os._exit(00)"
   ]
  },
  {
   "cell_type": "code",
   "execution_count": null,
   "metadata": {},
   "outputs": [],
   "source": []
  }
 ],
 "metadata": {
  "interpreter": {
   "hash": "f3f6acc8ab4cd1097e4d91bbffd405bcf59aaff2754a866d7c8cf61e0274c3d7"
  },
  "kernelspec": {
   "display_name": "Python 3.8.12 64-bit ('preprocessing': conda)",
   "language": "python",
   "name": "python3"
  },
  "language_info": {
   "codemirror_mode": {
    "name": "ipython",
    "version": 3
   },
   "file_extension": ".py",
   "mimetype": "text/x-python",
   "name": "python",
   "nbconvert_exporter": "python",
   "pygments_lexer": "ipython3",
   "version": "3.8.12"
  },
  "orig_nbformat": 4
 },
 "nbformat": 4,
 "nbformat_minor": 2
}
