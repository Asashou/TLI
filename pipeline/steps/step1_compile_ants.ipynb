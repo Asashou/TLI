{
 "cells": [
  {
   "cell_type": "markdown",
   "metadata": {},
   "source": [
    "Define your variables (That's the only cells you need to change). Then run the whole notebook"
   ]
  },
  {
   "cell_type": "code",
   "execution_count": 1,
   "metadata": {},
   "outputs": [],
   "source": [
    "method = 'SyNRA'\n",
    "metric = 'mattes'\n",
    "path_to_data = '/home/tli_project/Desktop/Data/T4/stage1/211025/'\n",
    "save_path = '/home/tli_project/Desktop/Data/T4/stage1/211025/'\n",
    "group_by = '_phase.tif'\n",
    "ch_names = ['GFP', 'Red']\n",
    "save_name = 'Rigid_211025_P36.5'\n",
    "compile = False\n",
    "filter = False"
   ]
  },
  {
   "cell_type": "code",
   "execution_count": 2,
   "metadata": {},
   "outputs": [],
   "source": [
    "if save_path[-1] != '/':\n",
    "    save_path += '/'"
   ]
  },
  {
   "cell_type": "markdown",
   "metadata": {},
   "source": [
    "Load packages and define functions"
   ]
  },
  {
   "cell_type": "code",
   "execution_count": 3,
   "metadata": {},
   "outputs": [],
   "source": [
    "import os\n",
    "from timeit import default_timer as timer"
   ]
  },
  {
   "cell_type": "code",
   "execution_count": 4,
   "metadata": {},
   "outputs": [
    {
     "name": "stderr",
     "output_type": "stream",
     "text": [
      "/home/tli_project/.local/lib/python3.8/site-packages/statsmodels/compat/pandas.py:65: FutureWarning: pandas.Int64Index is deprecated and will be removed from pandas in a future version. Use pandas.Index with the appropriate dtype instead.\n",
      "  from pandas import Int64Index as NumericIndex\n"
     ]
    }
   ],
   "source": [
    "import utils.datautils as datautils\n",
    "import utils.registration as registration"
   ]
  },
  {
   "cell_type": "markdown",
   "metadata": {},
   "source": [
    "Running the pipeline"
   ]
  },
  {
   "cell_type": "code",
   "execution_count": 5,
   "metadata": {},
   "outputs": [
    {
     "name": "stdout",
     "output_type": "stream",
     "text": [
      "first 5 files\n",
      "['/home/tli_project/Desktop/Data/T4/stage1/211025/Rigid_211025_P36.5_GFP_phase.tif', '/home/tli_project/Desktop/Data/T4/stage1/211025/Rigid_211025_P36.5_Red_phase.tif']\n"
     ]
    }
   ],
   "source": [
    "# reading list of 3D images into dictionary of channels as indicated in ch_names, and applying median filter on the last ch\n",
    "image_4D = datautils.read_files(path_to_data, group_by ,compile=compile, ch_names=ch_names, filter=filter,\n",
    "                                order=False, save=True, save_path=save_path, save_file=group_by+'_raw', \n",
    "                                xy_pixel=0.076, z_pixel=0.4)"
   ]
  },
  {
   "cell_type": "code",
   "execution_count": 7,
   "metadata": {},
   "outputs": [
    {
     "name": "stderr",
     "output_type": "stream",
     "text": [
      "1it [00:22, 22.24s/it]\n",
      "1it [00:20, 20.68s/it]\n"
     ]
    }
   ],
   "source": [
    "# # in case for manual shift\n",
    "# from skimage.filters import gaussian\n",
    "# from skimage.registration import phase_cross_correlation as corr\n",
    "# from tqdm import tqdm\n",
    "# import pandas as pd\n",
    "# from scipy import ndimage\n",
    "# import numpy as np\n",
    "\n",
    "# shift = np.array([10,0,-16])\n",
    "# for ch, img in image_4D.items():\n",
    "#     for ind, stack in tqdm(enumerate(img[90:], start=90)):\n",
    "#         temp = ndimage.shift(stack, shift) \n",
    "#         image_4D[ch][ind] = temp.copy()"
   ]
  },
  {
   "cell_type": "code",
   "execution_count": 8,
   "metadata": {},
   "outputs": [
    {
     "name": "stderr",
     "output_type": "stream",
     "text": [
      "/home/tli_project/.local/lib/python3.8/site-packages/tifffile/tifffile.py:2876: UserWarning:\n",
      "\n",
      "<tifffile.TiffWriter 'Rigid_221015_P36…itched3_GFP.tif'> truncating ImageJ file\n",
      "\n",
      "/home/tli_project/.local/lib/python3.8/site-packages/tifffile/tifffile.py:2876: UserWarning:\n",
      "\n",
      "<tifffile.TiffWriter 'Rigid_221015_P36…itched3_Red.tif'> truncating ImageJ file\n",
      "\n"
     ]
    }
   ],
   "source": [
    "# save_name = 'Rigid_221015_P36_stitched3'\n",
    "# import tifffile as tif\n",
    "# for ch, img in image_4D.items():\n",
    "#     name = save_path+save_name+'_'+ch+'.tif'\n",
    "#     tif.imwrite(name, img, imagej=True, resolution=(1./0.076, 1./0.076),\n",
    "#                 metadata={'spacing': 0.4, 'unit': 'um', 'finterval': 1/10,'axes': 'TZYX'})"
   ]
  },
  {
   "cell_type": "code",
   "execution_count": 6,
   "metadata": {},
   "outputs": [
    {
     "name": "stderr",
     "output_type": "stream",
     "text": [
      "                                                                         \r"
     ]
    }
   ],
   "source": [
    "# measuring the cosine_similarity check of GFP channel before registration\n",
    "pre_checks = datautils.similarity_4D(image_4D[ch_names[0]], \n",
    "                                    save=True, \n",
    "                                    save_path=save_path, \n",
    "                                    save_file='pre_checks.csv')"
   ]
  },
  {
   "cell_type": "code",
   "execution_count": 6,
   "metadata": {},
   "outputs": [
    {
     "name": "stderr",
     "output_type": "stream",
     "text": [
      "85it [14:45, 10.42s/it]\n",
      "/home/tli_project/.local/lib/python3.8/site-packages/tifffile/tifffile.py:2876: UserWarning:\n",
      "\n",
      "<tifffile.TiffWriter 'Rigid_211025_P36.5_GFP_phase.tif'> truncating ImageJ file\n",
      "\n",
      "/home/tli_project/.local/lib/python3.8/site-packages/tifffile/tifffile.py:2876: UserWarning:\n",
      "\n",
      "<tifffile.TiffWriter 'Rigid_211025_P36.5_Red_phase.tif'> truncating ImageJ file\n",
      "\n"
     ]
    }
   ],
   "source": [
    "# run this cell if you want to apply phase_correlation\n",
    "from skimage.filters import gaussian\n",
    "from skimage.registration import phase_cross_correlation as corr\n",
    "from tqdm import tqdm\n",
    "import pandas as pd\n",
    "from scipy import ndimage\n",
    "import numpy as np\n",
    "import tifffile as tif\n",
    "\n",
    "shifts = []\n",
    "for ind, st in tqdm(enumerate(image_4D['GFP'][1:])):\n",
    "    fixed = image_4D['GFP'][ind].copy()\n",
    "    moving = st.copy()\n",
    "    fixed = gaussian(fixed, sigma=1)\n",
    "    moving = gaussian(moving, sigma=1)\n",
    "    shift, error, diffphase = corr(fixed, moving)\n",
    "    shifts.append(shift)\n",
    "\n",
    "shifts_s = pd.Series(shifts)\n",
    "name = save_path+save_name+'Phase_shifts.csv'\n",
    "shifts_s.to_csv(name)\n",
    "\n",
    "current_shift = np.array([0,0,0])\n",
    "for ind, shi in enumerate(shifts):\n",
    "    current_shift = current_shift+shi\n",
    "    image_4D['GFP'][ind+1] = ndimage.shift(image_4D['GFP'][ind+1], current_shift) \n",
    "    image_4D['Red'][ind+1] = ndimage.shift(image_4D['Red'][ind+1], current_shift)\n",
    "\n",
    "for ch, img in image_4D.items():\n",
    "    name = save_path+save_name+'_'+ch+'_phase.tif'\n",
    "    tif.imwrite(name, img, imagej=True, resolution=(1./0.076, 1./0.076),\n",
    "                metadata={'spacing': 0.4, 'unit': 'um', 'finterval': 1/10,'axes': 'TZYX'})"
   ]
  },
  {
   "cell_type": "code",
   "execution_count": 7,
   "metadata": {},
   "outputs": [
    {
     "name": "stderr",
     "output_type": "stream",
     "text": [
      "applying_antspy: 100%|██████████| 87/87 [7:02:16<00:00, 291.22s/it]  \n"
     ]
    }
   ],
   "source": [
    "# running antspy, saving output into temp 3D files, and then compiling them to 4D and finally deleting the temp 3D files\n",
    "# name_shifts = method+csv_name\n",
    "registration.antspy_drift_corr(img_4D_g=image_4D[ch_names[0]],\n",
    "                                img_4D_r=image_4D[ch_names[1]], \n",
    "                                ch_names=ch_names,\n",
    "                                save_path=save_path, \n",
    "                                save_name=save_name,\n",
    "                                ref_t = 7,\n",
    "                                # ref_t = int(len(image_4D[ch_names[0]])/2),\n",
    "                                drift_corr=method, metric=metric) "
   ]
  },
  {
   "cell_type": "code",
   "execution_count": 8,
   "metadata": {},
   "outputs": [],
   "source": [
    "del image_4D"
   ]
  },
  {
   "cell_type": "code",
   "execution_count": 9,
   "metadata": {},
   "outputs": [
    {
     "name": "stdout",
     "output_type": "stream",
     "text": [
      "first 5 files\n",
      "['/home/tli_project/Desktop/Data/T4/stage1/211025/GFP_SyNRA_Rigid_211025_P36.5_001.tif', '/home/tli_project/Desktop/Data/T4/stage1/211025/GFP_SyNRA_Rigid_211025_P36.5_002.tif', '/home/tli_project/Desktop/Data/T4/stage1/211025/GFP_SyNRA_Rigid_211025_P36.5_003.tif', '/home/tli_project/Desktop/Data/T4/stage1/211025/GFP_SyNRA_Rigid_211025_P36.5_004.tif', '/home/tli_project/Desktop/Data/T4/stage1/211025/GFP_SyNRA_Rigid_211025_P36.5_005.tif']\n"
     ]
    },
    {
     "name": "stderr",
     "output_type": "stream",
     "text": [
      "                                                                \r"
     ]
    },
    {
     "name": "stdout",
     "output_type": "stream",
     "text": [
      "dict_keys(['GFP']) <class 'list'> 86\n",
      "compiling the GFP channel\n"
     ]
    },
    {
     "name": "stderr",
     "output_type": "stream",
     "text": [
      "/home/tli_project/.local/lib/python3.8/site-packages/tifffile/tifffile.py:2876: UserWarning:\n",
      "\n",
      "<tifffile.TiffWriter '4D_GFP_GFP_SyNRA…11025_P36.5.tif'> truncating ImageJ file\n",
      "\n",
      "                                                                         \r"
     ]
    },
    {
     "name": "stdout",
     "output_type": "stream",
     "text": [
      "first 5 files\n",
      "['/home/tli_project/Desktop/Data/T4/stage1/211025/Red_SyNRA_Rigid_211025_P36.5_001.tif', '/home/tli_project/Desktop/Data/T4/stage1/211025/Red_SyNRA_Rigid_211025_P36.5_002.tif', '/home/tli_project/Desktop/Data/T4/stage1/211025/Red_SyNRA_Rigid_211025_P36.5_003.tif', '/home/tli_project/Desktop/Data/T4/stage1/211025/Red_SyNRA_Rigid_211025_P36.5_004.tif', '/home/tli_project/Desktop/Data/T4/stage1/211025/Red_SyNRA_Rigid_211025_P36.5_005.tif']\n"
     ]
    },
    {
     "name": "stderr",
     "output_type": "stream",
     "text": [
      "                                                                \r"
     ]
    },
    {
     "name": "stdout",
     "output_type": "stream",
     "text": [
      "dict_keys(['Red']) <class 'list'> 86\n",
      "compiling the Red channel\n"
     ]
    },
    {
     "name": "stderr",
     "output_type": "stream",
     "text": [
      "/home/tli_project/.local/lib/python3.8/site-packages/tifffile/tifffile.py:2876: UserWarning:\n",
      "\n",
      "<tifffile.TiffWriter '4D_Red_Red_SyNRA…11025_P36.5.tif'> truncating ImageJ file\n",
      "\n"
     ]
    }
   ],
   "source": [
    "# compiling the registered 3D images into 4D and deleting the temp files for both channels \n",
    "gfp_name = ch_names[0]+'_'+method+'_4D_'+save_name+'.tif'\n",
    "gfp_list = datautils.get_file_names(path=save_path, \n",
    "                                    group_by=ch_names[0]+'_'+method, \n",
    "                                    order=False, nested_files=False, criteria='tif')\n",
    "gfp_4D = datautils.files_to_4D(files_list=gfp_list, ch_names=[ch_names[0]], filter=False, \n",
    "                                save=True, save_path=save_path, save_file=gfp_name,\n",
    "                                xy_pixel=0.0764616, z_pixel=0.4)\n",
    "for file in gfp_list:\n",
    "    os.remove(file)\n",
    "\n",
    "# measuring the cosine_similarity check of GFP channel after registration\n",
    "post_checks = datautils.similarity_4D(gfp_4D[ch_names[0]], save=True, \n",
    "                                        save_path=save_path, \n",
    "                                        save_file=method+'_checks.csv')\n",
    "\n",
    "del gfp_4D\n",
    "\n",
    "red_name = ch_names[1]+'_'+method+'_4D_'+save_name+'.tif'\n",
    "red_list = datautils.get_file_names(path=save_path, \n",
    "                                    group_by=ch_names[1]+'_'+method, \n",
    "                                    order=False, \n",
    "                                    nested_files=False, criteria='tif')\n",
    "red_4D = datautils.files_to_4D(files_list=red_list, ch_names=[ch_names[1]], filter=False,\n",
    "                                save=True, save_path=save_path, save_file=red_name,\n",
    "                                xy_pixel=0.0764616, z_pixel=0.4)\n",
    "for file in red_list:\n",
    "    os.remove(file)\n",
    "\n",
    "# deleting the final compiled 4D images\n",
    "del red_4D "
   ]
  },
  {
   "cell_type": "code",
   "execution_count": null,
   "metadata": {},
   "outputs": [
    {
     "ename": "Error",
     "evalue": "Canceled future for execute_request message before replies were done",
     "output_type": "error",
     "traceback": [
      "Error: Canceled future for execute_request message before replies were done",
      "at t.KernelShellFutureHandler.dispose (/home/tli_project/.var/app/com.visualstudio.code/data/vscode/extensions/ms-toolsai.jupyter-2022.3.1000901801/out/extension.js:2:1204175)",
      "at /home/tli_project/.var/app/com.visualstudio.code/data/vscode/extensions/ms-toolsai.jupyter-2022.3.1000901801/out/extension.js:2:1223227",
      "at Map.forEach (<anonymous>)",
      "at v._clearKernelState (/home/tli_project/.var/app/com.visualstudio.code/data/vscode/extensions/ms-toolsai.jupyter-2022.3.1000901801/out/extension.js:2:1223212)",
      "at v.dispose (/home/tli_project/.var/app/com.visualstudio.code/data/vscode/extensions/ms-toolsai.jupyter-2022.3.1000901801/out/extension.js:2:1216694)",
      "at /home/tli_project/.var/app/com.visualstudio.code/data/vscode/extensions/ms-toolsai.jupyter-2022.3.1000901801/out/extension.js:2:533674",
      "at t.swallowExceptions (/home/tli_project/.var/app/com.visualstudio.code/data/vscode/extensions/ms-toolsai.jupyter-2022.3.1000901801/out/extension.js:2:913059)",
      "at dispose (/home/tli_project/.var/app/com.visualstudio.code/data/vscode/extensions/ms-toolsai.jupyter-2022.3.1000901801/out/extension.js:2:533652)",
      "at t.RawSession.dispose (/home/tli_project/.var/app/com.visualstudio.code/data/vscode/extensions/ms-toolsai.jupyter-2022.3.1000901801/out/extension.js:2:537330)",
      "at runMicrotasks (<anonymous>)",
      "at processTicksAndRejections (node:internal/process/task_queues:96:5)"
     ]
    }
   ],
   "source": [
    "print('memory cleared, and kernel stopped')\n",
    "print('Job is DONE!')\n",
    "os._exit(00)"
   ]
  },
  {
   "cell_type": "code",
   "execution_count": null,
   "metadata": {},
   "outputs": [],
   "source": []
  }
 ],
 "metadata": {
  "kernelspec": {
   "display_name": "Python 3 (ipykernel)",
   "language": "python",
   "name": "python3"
  },
  "language_info": {
   "codemirror_mode": {
    "name": "ipython",
    "version": 3
   },
   "file_extension": ".py",
   "mimetype": "text/x-python",
   "name": "python",
   "nbconvert_exporter": "python",
   "pygments_lexer": "ipython3",
   "version": "3.8.12"
  }
 },
 "nbformat": 4,
 "nbformat_minor": 2
}
