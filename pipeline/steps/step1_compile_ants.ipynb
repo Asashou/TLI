{
 "cells": [
  {
   "cell_type": "markdown",
   "metadata": {},
   "source": [
    "Define your variables (That's the only cells you need to change). Then run the whole notebook"
   ]
  },
  {
   "cell_type": "code",
   "execution_count": 11,
   "metadata": {},
   "outputs": [],
   "source": [
    "method = 'SyNRA'\n",
    "save_path = '/home/tli_project/Desktop/Data/T4/stage1/211025/211025_analysis_demons/'\n",
    "path_to_data = '/home/tli_project/Desktop/Data/T4/stage1/211025/211025_analysis_MS/'\n",
    "group_by = '__raw'\n",
    "ch_names = ['GFP', 'Red']\n",
    "save_name = '211025_brain3.1_LP40_P36.30_'\n",
    "compile = False\n",
    "metric = 'demons'"
   ]
  },
  {
   "cell_type": "code",
   "execution_count": 12,
   "metadata": {},
   "outputs": [],
   "source": [
    "if save_path[-1] != '/':\n",
    "    save_path += '/'"
   ]
  },
  {
   "cell_type": "markdown",
   "metadata": {},
   "source": [
    "Load packages and define functions"
   ]
  },
  {
   "cell_type": "code",
   "execution_count": 13,
   "metadata": {},
   "outputs": [],
   "source": [
    "import os\n",
    "from timeit import default_timer as timer"
   ]
  },
  {
   "cell_type": "code",
   "execution_count": 14,
   "metadata": {},
   "outputs": [],
   "source": [
    "import utils.datautils as datautils\n",
    "import utils.registration as registration"
   ]
  },
  {
   "cell_type": "markdown",
   "metadata": {},
   "source": [
    "Running the pipeline"
   ]
  },
  {
   "cell_type": "code",
   "execution_count": 15,
   "metadata": {},
   "outputs": [
    {
     "name": "stdout",
     "output_type": "stream",
     "text": [
      "first 5 files\n",
      "['/home/tli_project/Desktop/Data/T4/stage1/211025/211025_analysis_MS/4D_GFP_211025_brain3.1_LP40_P36.30__raw.tif', '/home/tli_project/Desktop/Data/T4/stage1/211025/211025_analysis_MS/4D_red_211025_brain3.1_LP40_P36.30__raw.tif']\n"
     ]
    }
   ],
   "source": [
    "# reading list of 3D images into dictionary of channels as indicated in ch_names, and applying median filter on the last ch\n",
    "image_4D = datautils.read_files(path_to_data, group_by ,compile=compile, ch_names=ch_names,\n",
    "                                order=False, save=False, save_path=save_path, save_file=group_by+'_raw', \n",
    "                                xy_pixel=0.076, z_pixel=0.4)"
   ]
  },
  {
   "cell_type": "code",
   "execution_count": 16,
   "metadata": {},
   "outputs": [
    {
     "name": "stderr",
     "output_type": "stream",
     "text": [
      "cosine_sim for timepoint: 100%|██████████| 85/85 [01:27<00:00,  1.03s/it]\n"
     ]
    }
   ],
   "source": [
    "# measuring the cosine_similarity check of GFP channel before registration\n",
    "pre_checks = datautils.similarity_4D(image_4D[ch_names[0]], save=True, save_path=save_path, save_file='pre_checks.csv')"
   ]
  },
  {
   "cell_type": "code",
   "execution_count": 17,
   "metadata": {},
   "outputs": [
    {
     "name": "stderr",
     "output_type": "stream",
     "text": [
      "100%|██████████| 87/87 [12:34:53<00:00, 520.62s/it]  \n"
     ]
    }
   ],
   "source": [
    "# running antspy, saving output into temp 3D files, and then compiling them to 4D and finally deleting the temp 3D files\n",
    "# name_shifts = method+csv_name\n",
    "registration.antspy_drift_corr(img_4D_g=image_4D[ch_names[0]],\n",
    "                                img_4D_r=image_4D[ch_names[1]], \n",
    "                                ch_names=ch_names,\n",
    "                                save_path=save_path, \n",
    "                                save_name=save_name,\n",
    "                                ref_t = int(len(image_4D[ch_names[0]])/2),\n",
    "                                drift_corr=method, metric=metric) "
   ]
  },
  {
   "cell_type": "code",
   "execution_count": 18,
   "metadata": {},
   "outputs": [
    {
     "name": "stdout",
     "output_type": "stream",
     "text": [
      "first 5 files\n",
      "['/home/tli_project/Desktop/Data/T4/stage1/211025/211025_analysis_demons/GFP_SyNRA211025_brain3.1_LP40_P36.30_001.tif', '/home/tli_project/Desktop/Data/T4/stage1/211025/211025_analysis_demons/GFP_SyNRA211025_brain3.1_LP40_P36.30_002.tif', '/home/tli_project/Desktop/Data/T4/stage1/211025/211025_analysis_demons/GFP_SyNRA211025_brain3.1_LP40_P36.30_003.tif', '/home/tli_project/Desktop/Data/T4/stage1/211025/211025_analysis_demons/GFP_SyNRA211025_brain3.1_LP40_P36.30_004.tif', '/home/tli_project/Desktop/Data/T4/stage1/211025/211025_analysis_demons/GFP_SyNRA211025_brain3.1_LP40_P36.30_005.tif']\n"
     ]
    },
    {
     "name": "stderr",
     "output_type": "stream",
     "text": [
      "compiling_files: 100%|██████████| 86/86 [00:27<00:00,  3.18it/s]\n"
     ]
    },
    {
     "name": "stdout",
     "output_type": "stream",
     "text": [
      "dict_keys(['GFP']) <class 'list'> 86\n",
      "compiling the GFP channel\n"
     ]
    },
    {
     "name": "stderr",
     "output_type": "stream",
     "text": [
      "/home/tli_project/.local/lib/python3.8/site-packages/tifffile/tifffile.py:2876: UserWarning:\n",
      "\n",
      "<tifffile.TiffWriter '4D_GFP_GFP_SyNRA_4D___raw.tif'> truncating ImageJ file\n",
      "\n"
     ]
    },
    {
     "name": "stdout",
     "output_type": "stream",
     "text": [
      "files_to_4D runtime 71.16511765494943\n"
     ]
    },
    {
     "name": "stderr",
     "output_type": "stream",
     "text": [
      "cosine_sim for timepoint: 100%|██████████| 85/85 [00:57<00:00,  1.47it/s]\n"
     ]
    },
    {
     "name": "stdout",
     "output_type": "stream",
     "text": [
      "first 5 files\n",
      "['/home/tli_project/Desktop/Data/T4/stage1/211025/211025_analysis_demons/Red_SyNRA211025_brain3.1_LP40_P36.30_001.tif', '/home/tli_project/Desktop/Data/T4/stage1/211025/211025_analysis_demons/Red_SyNRA211025_brain3.1_LP40_P36.30_002.tif', '/home/tli_project/Desktop/Data/T4/stage1/211025/211025_analysis_demons/Red_SyNRA211025_brain3.1_LP40_P36.30_003.tif', '/home/tli_project/Desktop/Data/T4/stage1/211025/211025_analysis_demons/Red_SyNRA211025_brain3.1_LP40_P36.30_004.tif', '/home/tli_project/Desktop/Data/T4/stage1/211025/211025_analysis_demons/Red_SyNRA211025_brain3.1_LP40_P36.30_005.tif']\n"
     ]
    },
    {
     "name": "stderr",
     "output_type": "stream",
     "text": [
      "compiling_files: 100%|██████████| 86/86 [00:27<00:00,  3.18it/s]\n"
     ]
    },
    {
     "name": "stdout",
     "output_type": "stream",
     "text": [
      "dict_keys(['Red']) <class 'list'> 86\n",
      "compiling the Red channel\n"
     ]
    },
    {
     "name": "stderr",
     "output_type": "stream",
     "text": [
      "/home/tli_project/.local/lib/python3.8/site-packages/tifffile/tifffile.py:2876: UserWarning:\n",
      "\n",
      "<tifffile.TiffWriter '4D_Red_Red_SyNRA_4D___raw.tif'> truncating ImageJ file\n",
      "\n"
     ]
    },
    {
     "name": "stdout",
     "output_type": "stream",
     "text": [
      "files_to_4D runtime 80.06582072004676\n"
     ]
    }
   ],
   "source": [
    "# compiling the registered 3D images into 4D and deleting the temp files for both channels \n",
    "gfp_list = datautils.get_file_names(path=save_path, group_by=ch_names[0]+'_'+method+save_name, \n",
    "                                    order=False, nested_files=False, criteria='tif')\n",
    "gfp_name = ch_names[0]+'_'+method+'_4D_'+group_by+'.tif'\n",
    "gfp_4D = datautils.files_to_4D(files_list=gfp_list, ch_names=[ch_names[0]], filter=False, \n",
    "                                save=True, save_path=save_path, save_file=gfp_name,\n",
    "                                xy_pixel=0.0764616, z_pixel=0.4)\n",
    "for file in gfp_list:\n",
    "    os.remove(file)\n",
    "\n",
    "# measuring the cosine_similarity check of GFP channel after registration\n",
    "post_checks = datautils.similarity_4D(gfp_4D[ch_names[0]], save=True, \n",
    "                                        save_path=save_path, \n",
    "                                        save_file=method+'_checks.csv')\n",
    "\n",
    "red_list = datautils.get_file_names(path=save_path, group_by=ch_names[1]+'_'+method+save_name, \n",
    "                                    order=False, nested_files=False, criteria='tif')\n",
    "red_name = ch_names[1]+'_'+method+'_4D_'+group_by+'.tif'\n",
    "red_4D = datautils.files_to_4D(files_list=red_list, ch_names=[ch_names[1]], filter=False,\n",
    "                                save=True, save_path=save_path, save_file=red_name,\n",
    "                                xy_pixel=0.0764616, z_pixel=0.4)\n",
    "for file in red_list:\n",
    "    os.remove(file)\n",
    "\n",
    "# deleting the final compiled 4D images\n",
    "del gfp_4D, red_4D "
   ]
  },
  {
   "cell_type": "code",
   "execution_count": null,
   "metadata": {},
   "outputs": [],
   "source": [
    "print('memory cleared, and kernel stopped')\n",
    "print('Job is DONE!')\n",
    "os._exit(00)"
   ]
  },
  {
   "cell_type": "code",
   "execution_count": null,
   "metadata": {},
   "outputs": [],
   "source": []
  }
 ],
 "metadata": {
  "kernelspec": {
   "display_name": "Python 3 (ipykernel)",
   "language": "python",
   "name": "python3"
  },
  "language_info": {
   "codemirror_mode": {
    "name": "ipython",
    "version": 3
   },
   "file_extension": ".py",
   "mimetype": "text/x-python",
   "name": "python",
   "nbconvert_exporter": "python",
   "pygments_lexer": "ipython3",
   "version": "3.8.12"
  }
 },
 "nbformat": 4,
 "nbformat_minor": 2
}
