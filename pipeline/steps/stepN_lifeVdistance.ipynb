{
 "cells": [
  {
   "cell_type": "code",
   "execution_count": null,
   "metadata": {},
   "outputs": [],
   "source": [
    "# the aim of this notebook is to compute pixels lifetimes and distances between transient pixels and stable ones\n",
    "# The script results in array \"final_results\" of shape (n,6), where n is number of trans pixels and 6 is features: \n",
    "# (t,z,y,x,neighbour_idx, distance, life)\n",
    "# for this script to run you need to provide input image and the limit for splitting pixels into transient and stable\n",
    "#  the script also import the analysis.py module from utils folder"
   ]
  },
  {
   "cell_type": "code",
   "execution_count": 34,
   "metadata": {},
   "outputs": [],
   "source": [
    "img_path = '/home/tli_project/Desktop/test_lifetime/seg_1_211104_P36_N1_GFP.tif'\n",
    "stab_path = '/home/tli_project/Desktop/test_lifetime/output/stable_211104_new.tif'\n",
    "stab_limit = 10\n",
    "\n",
    "save_path = '/home/tli_project/Desktop/test_lifetime/output/'\n",
    "save_name = 'XX'"
   ]
  },
  {
   "cell_type": "code",
   "execution_count": 35,
   "metadata": {},
   "outputs": [],
   "source": [
    "import matplotlib.pyplot as plt\n",
    "import tifffile as tif\n",
    "import numpy as np\n",
    "from tqdm import tqdm\n",
    "import utils.analysis as analysis\n",
    "# from pykdtree.kdtree import KDTree\n",
    "from scipy import spatial"
   ]
  },
  {
   "cell_type": "code",
   "execution_count": 36,
   "metadata": {},
   "outputs": [],
   "source": [
    "neuron = tif.imread(img_path)\n",
    "# make sure images are binary\n",
    "neuron[neuron!=0] = 1"
   ]
  },
  {
   "cell_type": "code",
   "execution_count": 37,
   "metadata": {},
   "outputs": [],
   "source": [
    "# either read the stable image or calculate it using the stable_px fuction \n",
    "# stable_n = tif.imread(stab_path)\n",
    "stable_n = analysis.stable_px(neuron, \n",
    "                            st_limit = stab_limit, \n",
    "                            save=False, \n",
    "                            save_path=save_path, \n",
    "                            save_file=save_name, \n",
    "                            xy_pixel=0.076, \n",
    "                            z_pixel=0.4)\n",
    "# make sure images are binary\n",
    "stable_n[stable_n!=0] = 1 "
   ]
  },
  {
   "cell_type": "code",
   "execution_count": 38,
   "metadata": {},
   "outputs": [],
   "source": [
    "# get the 4D_img of transient pixels\n",
    "transient = neuron - stable_n"
   ]
  },
  {
   "cell_type": "code",
   "execution_count": 51,
   "metadata": {},
   "outputs": [
    {
     "name": "stderr",
     "output_type": "stream",
     "text": [
      "100%|██████████| 80/80 [00:19<00:00,  4.15it/s]\n"
     ]
    },
    {
     "name": "stdout",
     "output_type": "stream",
     "text": [
      "(7948157, 6)\n"
     ]
    }
   ],
   "source": [
    "# computing distances\n",
    "scope = np.arange(stab_limit-1, len(neuron),1)\n",
    "stable_PC = np.argwhere(stable_n==1)\n",
    "trans_PC = np.argwhere(transient==1)\n",
    "### the result will be saved as pointcloud: t,z,y,x,neigbour,distance\n",
    "distances = []\n",
    "for t in tqdm(scope):\n",
    "    stable = stable_PC[stable_PC[:,0]==t]\n",
    "    trans = trans_PC[trans_PC[:,0]==t]\n",
    "    kd_tree = spatial.KDTree(stable)\n",
    "    dist, idx = kd_tree.query(trans, k=1, workers=-1)\n",
    "    closest = [stable[ind] for ind in idx]\n",
    "    for i, px in enumerate(trans):\n",
    "        new_px = np.array([px[0], px[1], px[2], px[3], closest[i], dist[i]], dtype=object)\n",
    "        distances.append(new_px)\n",
    "        # new_px = np.expand_dims(new_px, axis = 0)\n",
    "        # np.concatenate((distances,new_px))\n",
    "\n",
    "distances = np.array(distances)\n",
    "print(distances.shape)"
   ]
  },
  {
   "cell_type": "code",
   "execution_count": 39,
   "metadata": {},
   "outputs": [],
   "source": [
    "# calculate lifetimes of neuron (not important for computing distances)\n",
    "lifetimes = analysis.px_lifetimes(neuron)"
   ]
  },
  {
   "cell_type": "code",
   "execution_count": 40,
   "metadata": {},
   "outputs": [
    {
     "name": "stderr",
     "output_type": "stream",
     "text": [
      "100%|██████████| 3102012/3102012 [00:30<00:00, 101860.64it/s]\n"
     ]
    }
   ],
   "source": [
    "# extending lifetimes to include all timepoints of each pixel with increasing lifetime\n",
    "extended_lifes = []\n",
    "for px in tqdm(lifetimes):\n",
    "    t, z, y, x, l = px[0], px[1], px[2], px[3], px[4]\n",
    "    for i in np.arange(px[-1]-1,-1,-1):\n",
    "        t = px[0] - i\n",
    "        l = px[-1] - i\n",
    "        new_px = np.array([t, px[1], px[2], px[3], l])\n",
    "        extended_lifes.append(new_px)\n",
    "        # new_px = np.expand_dims(new_px, axis = 0)\n",
    "        # np.concatenate((extended_lifes,new_px))\n",
    "\n",
    "extended_lifes = np.array(extended_lifes)"
   ]
  },
  {
   "cell_type": "code",
   "execution_count": 41,
   "metadata": {},
   "outputs": [
    {
     "data": {
      "text/plain": [
       "(3102012, 20261361, 20261361)"
      ]
     },
     "execution_count": 41,
     "metadata": {},
     "output_type": "execute_result"
    }
   ],
   "source": [
    "# checking # of pixels in extended_lifes equals pixels in neuron \n",
    "len(lifetimes), len(extended_lifes), len(np.argwhere(neuron))"
   ]
  },
  {
   "cell_type": "code",
   "execution_count": 46,
   "metadata": {},
   "outputs": [
    {
     "data": {
      "text/plain": [
       "(20261361, 9418925)"
      ]
     },
     "execution_count": 46,
     "metadata": {},
     "output_type": "execute_result"
    }
   ],
   "source": [
    "len(np.argwhere(transient))+len(np.argwhere(stable_n)), len(np.argwhere(transient))"
   ]
  },
  {
   "cell_type": "code",
   "execution_count": 49,
   "metadata": {},
   "outputs": [
    {
     "data": {
      "text/plain": [
       "(2691553, 3102012)"
      ]
     },
     "execution_count": 49,
     "metadata": {},
     "output_type": "execute_result"
    }
   ],
   "source": [
    "# filter the lifetimes for the transient pixels only (life smaller than limit)\n",
    "trans_lifes1 = lifetimes[lifetimes[:,-1] < stab_limit] \n",
    "\n",
    "trans_lifes = analysis.px_lifetimes(transient)\n",
    "\n",
    "len(trans_lifes), len(trans_lifes1)"
   ]
  },
  {
   "cell_type": "code",
   "execution_count": 50,
   "metadata": {},
   "outputs": [
    {
     "name": "stderr",
     "output_type": "stream",
     "text": [
      "100%|██████████| 3102012/3102012 [00:17<00:00, 173270.67it/s]\n"
     ]
    },
    {
     "data": {
      "text/plain": [
       "(3102012, 9418925, 9418925)"
      ]
     },
     "execution_count": 50,
     "metadata": {},
     "output_type": "execute_result"
    }
   ],
   "source": [
    "# filter the lifetimes for the transient pixels only (life smaller than limit)\n",
    "trans_lifes = analysis.px_lifetimes(transient)\n",
    "\n",
    "# extend lifes to include pixels' previous time-points\n",
    "# extending lifetimes to include all timepoints of each pixel with increasing lifetime\n",
    "trans_lifes_extend = []\n",
    "for px in tqdm(trans_lifes):\n",
    "    t, z, y, x, l = px[0], px[1], px[2], px[3], px[4]\n",
    "    for i in np.arange(px[-1]-1,-1,-1):\n",
    "        t = px[0] - i\n",
    "        l = px[-1] - i\n",
    "        new_px = np.array([t, px[1], px[2], px[3], l])\n",
    "        trans_lifes_extend.append(new_px)\n",
    "        # new_px = np.expand_dims(new_px, axis = 0)\n",
    "        # np.concatenate((extended_lifes,new_px))\n",
    "\n",
    "trans_lifes_extend = np.array(trans_lifes_extend)\n",
    "\n",
    "# checking # of pixels in extended_lifes equals pixels in neuron \n",
    "len(trans_lifes), len(trans_lifes_extend), len(np.argwhere(transient))"
   ]
  },
  {
   "cell_type": "code",
   "execution_count": 52,
   "metadata": {},
   "outputs": [
    {
     "name": "stderr",
     "output_type": "stream",
     "text": [
      "100%|██████████| 80/80 [01:00<00:00,  1.33it/s]\n"
     ]
    },
    {
     "name": "stdout",
     "output_type": "stream",
     "text": [
      "(7948157, 7)\n"
     ]
    }
   ],
   "source": [
    "# combining lifetimes info with distances using KDtree\n",
    "# you can either work with extendedlifes with lifetimes\n",
    "scope = np.arange(stab_limit-1, len(neuron),1)\n",
    "### the result will be saved as pointcloud: t,z,y,x,neigbour,distance,life\n",
    "final_results = []\n",
    "for t in tqdm(scope):\n",
    "    t_dist = distances[distances[:,0]==t]\n",
    "    t_lifes = trans_lifes_extend[trans_lifes_extend[:,0]==t]\n",
    "    kd_tree = spatial.KDTree(t_dist[:,1:4])\n",
    "    dist, idx = kd_tree.query(t_lifes[:,1:4], k=1, workers=-1)\n",
    "    closest = [t_dist[ind] for ind in idx]\n",
    "    for i, px in enumerate(t_lifes):\n",
    "        new_px = np.array([px[0], px[1], px[2], px[3], closest[i][4], closest[i][5], px[4]], dtype=object)\n",
    "        final_results.append(new_px)\n",
    "\n",
    "final_results = np.array(final_results)\n",
    "print(final_results.shape)"
   ]
  },
  {
   "cell_type": "code",
   "execution_count": 54,
   "metadata": {},
   "outputs": [
    {
     "data": {
      "text/plain": [
       "array([[9, 2, 191, 125, array([  9,  11, 193, 128]), 9.695359714832659,\n",
       "        1],\n",
       "       [9, 2, 192, 124, array([  9,  10, 196, 128]), 9.797958971132712,\n",
       "        1],\n",
       "       [9, 2, 192, 125, array([  9,  10, 196, 128]), 9.433981132056603,\n",
       "        1]], dtype=object)"
      ]
     },
     "execution_count": 54,
     "metadata": {},
     "output_type": "execute_result"
    }
   ],
   "source": [
    "final_results[:3]"
   ]
  },
  {
   "cell_type": "code",
   "execution_count": 55,
   "metadata": {},
   "outputs": [
    {
     "data": {
      "text/plain": [
       "array([[9, 2, 191, 125, array([  9,  11, 193, 128]), 9.695359714832659],\n",
       "       [9, 2, 192, 124, array([  9,  10, 196, 128]), 9.797958971132712],\n",
       "       [9, 2, 192, 125, array([  9,  10, 196, 128]), 9.433981132056603]],\n",
       "      dtype=object)"
      ]
     },
     "execution_count": 55,
     "metadata": {},
     "output_type": "execute_result"
    }
   ],
   "source": [
    "distances[:3]"
   ]
  },
  {
   "cell_type": "code",
   "execution_count": 57,
   "metadata": {},
   "outputs": [
    {
     "data": {
      "text/plain": [
       "array([[ 11,   0, 186, 124,   1],\n",
       "       [ 11,   0, 186, 125,   1]])"
      ]
     },
     "execution_count": 57,
     "metadata": {},
     "output_type": "execute_result"
    }
   ],
   "source": [
    "trans_lifes_extend[(trans_lifes_extend[:,0]==11) & (trans_lifes_extend[:,1]==0) & (trans_lifes_extend[:,2]==186) & (trans_lifes_extend[:,3]>123)]"
   ]
  },
  {
   "cell_type": "code",
   "execution_count": 58,
   "metadata": {},
   "outputs": [
    {
     "data": {
      "text/plain": [
       "0.0"
      ]
     },
     "execution_count": 58,
     "metadata": {},
     "output_type": "execute_result"
    }
   ],
   "source": [
    "dist.sum()"
   ]
  },
  {
   "cell_type": "code",
   "execution_count": 60,
   "metadata": {},
   "outputs": [
    {
     "data": {
      "text/plain": [
       "Text(0.5, 0, 'distance of transient pixel to nearest stable')"
      ]
     },
     "execution_count": 60,
     "metadata": {},
     "output_type": "execute_result"
    },
    {
     "data": {
      "image/png": "[encoded data removed]",
      "text/plain": [
       "<Figure size 432x288 with 1 Axes>"
      ]
     },
     "metadata": {
      "needs_background": "light"
     },
     "output_type": "display_data"
    }
   ],
   "source": [
    "plot = plt.scatter(final_results[:,5], final_results[:,6])\n",
    "plt.ylabel('transient pixel lifetime')\n",
    "plt.xlabel('distance of transient pixel to nearest stable')"
   ]
  },
  {
   "cell_type": "code",
   "execution_count": 72,
   "metadata": {},
   "outputs": [
    {
     "data": {
      "text/plain": [
       "Text(0, 0.5, 'distance of transient pixel to nearest stable')"
      ]
     },
     "execution_count": 72,
     "metadata": {},
     "output_type": "execute_result"
    },
    {
     "data": {
      "image/png": "[encoded data removed]",
      "text/plain": [
       "<Figure size 432x288 with 1 Axes>"
      ]
     },
     "metadata": {
      "needs_background": "light"
     },
     "output_type": "display_data"
    }
   ],
   "source": [
    "plot = plt.scatter(final_results[:,0]*0.25+36, final_results[:,5], marker='.', alpha=0.1)\n",
    "plt.xlabel('APF (hr)')\n",
    "plt.ylabel('distance of transient px to nearest stable')"
   ]
  },
  {
   "cell_type": "code",
   "execution_count": null,
   "metadata": {},
   "outputs": [],
   "source": []
  }
 ],
 "metadata": {
  "interpreter": {
   "hash": "f3f6acc8ab4cd1097e4d91bbffd405bcf59aaff2754a866d7c8cf61e0274c3d7"
  },
  "kernelspec": {
   "display_name": "Python 3.8.12 64-bit ('preprocessing': conda)",
   "language": "python",
   "name": "python3"
  },
  "language_info": {
   "codemirror_mode": {
    "name": "ipython",
    "version": 3
   },
   "file_extension": ".py",
   "mimetype": "text/x-python",
   "name": "python",
   "nbconvert_exporter": "python",
   "pygments_lexer": "ipython3",
   "version": "3.8.12"
  },
  "orig_nbformat": 4
 },
 "nbformat": 4,
 "nbformat_minor": 2
}
