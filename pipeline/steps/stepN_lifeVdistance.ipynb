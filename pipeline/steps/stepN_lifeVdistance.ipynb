{
 "cells": [
  {
   "cell_type": "code",
   "execution_count": 1,
   "metadata": {},
   "outputs": [],
   "source": [
    "# the aim of this notebook is to compute pixels lifetimes and distances between transient pixels and stable ones\n",
    "# The script results in array \"final_results\" of shape (n,6), where n is number of trans pixels and 6 is features: \n",
    "# (t,z,y,x,neighbour_idx, distance, life)\n",
    "# for this script to run you need to provide input image and the limit for splitting pixels into transient and stable\n",
    "#  the script also import the analysis.py module from utils folder"
   ]
  },
  {
   "cell_type": "code",
   "execution_count": 2,
   "metadata": {},
   "outputs": [],
   "source": [
    "img_path = '/home/tli_project/Desktop/test_lifetime/seg_1_211104_P36_N1_GFP.tif'\n",
    "stab_path = '/home/tli_project/Desktop/test_lifetime/output/stable_211104_new.tif'\n",
    "stab_limit = 10\n",
    "\n",
    "save_path = '/home/tli_project/Desktop/test_lifetime/output/'\n",
    "save_name = 'XX'"
   ]
  },
  {
   "cell_type": "code",
   "execution_count": 3,
   "metadata": {},
   "outputs": [],
   "source": [
    "import matplotlib.pyplot as plt\n",
    "import tifffile as tif\n",
    "import numpy as np\n",
    "from tqdm import tqdm\n",
    "import utils.analysis as analysis\n",
    "# from pykdtree.kdtree import KDTree\n",
    "from scipy import spatial"
   ]
  },
  {
   "cell_type": "code",
   "execution_count": 4,
   "metadata": {},
   "outputs": [],
   "source": [
    "neuron = tif.imread(img_path)\n",
    "# make sure images are binary\n",
    "neuron[neuron!=0] = 1"
   ]
  },
  {
   "cell_type": "code",
   "execution_count": 5,
   "metadata": {},
   "outputs": [
    {
     "name": "stderr",
     "output_type": "stream",
     "text": [
      "calculating stable: 100%|██████████| 8640000/8640000 [01:04<00:00, 133736.84it/s]\n",
      "calculating stable: 100%|██████████| 410459/410459 [00:09<00:00, 42474.00it/s]\n"
     ]
    }
   ],
   "source": [
    "# either read the stable image or calculate it using the stable_px fuction \n",
    "# stable_n = tif.imread(stab_path)\n",
    "stable_n = analysis.stable_px(neuron, \n",
    "                            st_limit = stab_limit, \n",
    "                            save=False, \n",
    "                            save_path=save_path, \n",
    "                            save_file=save_name, \n",
    "                            xy_pixel=0.076, \n",
    "                            z_pixel=0.4)\n",
    "# make sure images are binary\n",
    "stable_n[stable_n!=0] = 1 "
   ]
  },
  {
   "cell_type": "code",
   "execution_count": 6,
   "metadata": {},
   "outputs": [],
   "source": [
    "# get the 4D_img of transient pixels\n",
    "transient = neuron[9:] - stable_n[9:]"
   ]
  },
  {
   "cell_type": "code",
   "execution_count": 46,
   "metadata": {},
   "outputs": [
    {
     "data": {
      "text/plain": [
       "(80, 7948157)"
      ]
     },
     "execution_count": 46,
     "metadata": {},
     "output_type": "execute_result"
    }
   ],
   "source": [
    "len(transient), len(np.argwhere(transient))"
   ]
  },
  {
   "cell_type": "code",
   "execution_count": 47,
   "metadata": {},
   "outputs": [
    {
     "name": "stderr",
     "output_type": "stream",
     "text": [
      "100%|██████████| 80/80 [00:17<00:00,  4.47it/s]"
     ]
    },
    {
     "name": "stdout",
     "output_type": "stream",
     "text": [
      "(7240578, 6)\n"
     ]
    },
    {
     "name": "stderr",
     "output_type": "stream",
     "text": [
      "\n"
     ]
    }
   ],
   "source": [
    "# computing distances\n",
    "scope = np.arange(stab_limit-1, len(neuron),1)\n",
    "stable_PC = np.argwhere(stable_n==1)\n",
    "trans_PC = np.argwhere(transient==1)\n",
    "### the result will be saved as pointcloud: t,z,y,x,neigbour,distance\n",
    "distances = []\n",
    "for t in tqdm(scope):\n",
    "    stable = stable_PC[stable_PC[:,0]==t]\n",
    "    trans = trans_PC[trans_PC[:,0]==t]\n",
    "    kd_tree = spatial.KDTree(stable)\n",
    "    dist, idx = kd_tree.query(trans, k=1, workers=-1)\n",
    "    closest = [stable[ind] for ind in idx]\n",
    "    for i, px in enumerate(trans):\n",
    "        new_px = np.array([px[0], px[1], px[2], px[3], closest[i], dist[i]], dtype=object)\n",
    "        distances.append(new_px)\n",
    "        # new_px = np.expand_dims(new_px, axis = 0)\n",
    "        # np.concatenate((distances,new_px))\n",
    "\n",
    "distances = np.array(distances)\n",
    "print(distances.shape)"
   ]
  },
  {
   "cell_type": "code",
   "execution_count": 7,
   "metadata": {},
   "outputs": [
    {
     "name": "stdout",
     "output_type": "stream",
     "text": [
      "[[  0  10 191 125]\n",
      " [  0  10 192 124]\n",
      " [  0  10 192 125]\n",
      " [  0  10 192 126]\n",
      " [  0  10 193 124]] [[  9  42 208 184]\n",
      " [  9  42 209 184]\n",
      " [  9  42 209 185]\n",
      " [  9  42 210 185]\n",
      " [  9  42 210 186]]\n"
     ]
    },
    {
     "name": "stderr",
     "output_type": "stream",
     "text": [
      "100%|██████████| 80/80 [00:35<00:00,  2.23it/s]\n"
     ]
    },
    {
     "name": "stdout",
     "output_type": "stream",
     "text": [
      "(7240578, 6)\n"
     ]
    }
   ],
   "source": [
    "# computing distances\n",
    "scope = np.arange(stab_limit-1, len(neuron),1)\n",
    "stable_PC1 = np.argwhere(stable_n==1)\n",
    "trans_PC1 = np.argwhere(transient==1)\n",
    "stable_PC1[:,1] = stable_PC1[:,1]*(400/76)\n",
    "trans_PC1[:,1] = trans_PC1[:,1]*(400/76)\n",
    "print(trans_PC1[:5], stable_PC1[:5])\n",
    "### the result will be saved as pointcloud: t,z,y,x,neigbour,distance\n",
    "distances = []\n",
    "for t in tqdm(scope):\n",
    "    stable = stable_PC1[stable_PC1[:,0]==t]\n",
    "    # stable[:,1] = stable[:,1]*(400/76)\n",
    "    trans = trans_PC1[trans_PC1[:,0]==t]\n",
    "    # trans[:,1] = trans[:,1]*(400/76)\n",
    "    kd_tree = spatial.KDTree(stable)\n",
    "    dist, idx = kd_tree.query(trans, k=1, workers=-1)\n",
    "    closest = [stable[ind] for ind in idx]\n",
    "    for i, px in enumerate(trans):\n",
    "        new_px = np.array([px[0], px[1], px[2], px[3], closest[i], dist[i]], dtype=object)\n",
    "        distances.append(new_px)\n",
    "        # new_px = np.expand_dims(new_px, axis = 0)\n",
    "        # np.concatenate((distances,new_px))\n",
    "\n",
    "distances = np.array(distances)\n",
    "print(distances.shape)"
   ]
  },
  {
   "cell_type": "code",
   "execution_count": 18,
   "metadata": {},
   "outputs": [
    {
     "data": {
      "image/png": "[encoded data removed]",
      "text/plain": [
       "<Figure size 432x288 with 1 Axes>"
      ]
     },
     "metadata": {
      "needs_background": "light"
     },
     "output_type": "display_data"
    }
   ],
   "source": [
    "plot1 = plt.hist(distances[:,-1], bins=100)"
   ]
  },
  {
   "cell_type": "code",
   "execution_count": 9,
   "metadata": {},
   "outputs": [
    {
     "name": "stderr",
     "output_type": "stream",
     "text": [
      "calculating stable: 100%|██████████| 8640000/8640000 [01:16<00:00, 112908.55it/s]\n"
     ]
    }
   ],
   "source": [
    "# calculate lifetimes of neuron (not important for computing distances)\n",
    "lifetimes = analysis.px_lifetimes(neuron)"
   ]
  },
  {
   "cell_type": "code",
   "execution_count": 10,
   "metadata": {},
   "outputs": [
    {
     "name": "stderr",
     "output_type": "stream",
     "text": [
      "100%|██████████| 3102012/3102012 [00:57<00:00, 54310.30it/s] \n"
     ]
    }
   ],
   "source": [
    "# extending lifetimes to include all timepoints of each pixel with increasing lifetime\n",
    "extended_lifes = []\n",
    "for px in tqdm(lifetimes):\n",
    "    t, z, y, x, l = px[0], px[1], px[2], px[3], px[4]\n",
    "    for i in np.arange(px[-1]-1,-1,-1):\n",
    "        t = px[0] - i\n",
    "        l = px[-1] - i\n",
    "        new_px = np.array([t, px[1], px[2], px[3], l])\n",
    "        extended_lifes.append(new_px)\n",
    "        # new_px = np.expand_dims(new_px, axis = 0)\n",
    "        # np.concatenate((extended_lifes,new_px))\n",
    "\n",
    "extended_lifes = np.array(extended_lifes)"
   ]
  },
  {
   "cell_type": "code",
   "execution_count": 11,
   "metadata": {},
   "outputs": [
    {
     "data": {
      "text/plain": [
       "(3102012, 20261361, 20261361)"
      ]
     },
     "execution_count": 11,
     "metadata": {},
     "output_type": "execute_result"
    }
   ],
   "source": [
    "# checking # of pixels in extended_lifes equals pixels in neuron \n",
    "len(lifetimes), len(extended_lifes), len(np.argwhere(neuron))"
   ]
  },
  {
   "cell_type": "code",
   "execution_count": 12,
   "metadata": {},
   "outputs": [
    {
     "data": {
      "text/plain": [
       "(18790593, 7948157, 18790593)"
      ]
     },
     "execution_count": 12,
     "metadata": {},
     "output_type": "execute_result"
    }
   ],
   "source": [
    "len(np.argwhere(transient))+len(np.argwhere(stable_n[9:])), len(np.argwhere(transient)), len(np.argwhere(neuron[9:]))"
   ]
  },
  {
   "cell_type": "code",
   "execution_count": 56,
   "metadata": {},
   "outputs": [
    {
     "name": "stderr",
     "output_type": "stream",
     "text": [
      "calculating stable: 100%|██████████| 8640000/8640000 [00:28<00:00, 298542.06it/s]\n"
     ]
    },
    {
     "data": {
      "text/plain": [
       "(2754248, 2659037)"
      ]
     },
     "execution_count": 56,
     "metadata": {},
     "output_type": "execute_result"
    }
   ],
   "source": [
    "# filter the lifetimes for the transient pixels only (life smaller than limit)\n",
    "trans_lifes1 = lifetimes[lifetimes[:,-1] < 9] \n",
    "\n",
    "trans_lifes = analysis.px_lifetimes(transient)\n",
    "\n",
    "len(trans_lifes), len(trans_lifes1)"
   ]
  },
  {
   "cell_type": "code",
   "execution_count": 13,
   "metadata": {},
   "outputs": [
    {
     "name": "stderr",
     "output_type": "stream",
     "text": [
      "calculating stable: 100%|██████████| 8640000/8640000 [00:55<00:00, 155566.82it/s]\n",
      "100%|██████████| 2754248/2754248 [00:40<00:00, 68044.97it/s] \n"
     ]
    },
    {
     "data": {
      "text/plain": [
       "(2754248, 7948157, 7948157)"
      ]
     },
     "execution_count": 13,
     "metadata": {},
     "output_type": "execute_result"
    }
   ],
   "source": [
    "# filter the lifetimes for the transient pixels only (life smaller than limit)\n",
    "trans_lifes = analysis.px_lifetimes(transient)\n",
    "\n",
    "# extend lifes to include pixels' previous time-points\n",
    "# extending lifetimes to include all timepoints of each pixel with increasing lifetime\n",
    "trans_lifes_extend = []\n",
    "for px in tqdm(trans_lifes):\n",
    "    t, z, y, x, l = px[0], px[1], px[2], px[3], px[4]\n",
    "    for i in np.arange(px[-1]-1,-1,-1):\n",
    "        t = px[0] - i\n",
    "        l = px[-1] - i\n",
    "        new_px = np.array([t, px[1], px[2], px[3], l])\n",
    "        trans_lifes_extend.append(new_px)\n",
    "        # new_px = np.expand_dims(new_px, axis = 0)\n",
    "        # np.concatenate((extended_lifes,new_px))\n",
    "\n",
    "trans_lifes_extend = np.array(trans_lifes_extend)\n",
    "\n",
    "# checking # of pixels in extended_lifes equals pixels in neuron \n",
    "len(trans_lifes), len(trans_lifes_extend), len(np.argwhere(transient))"
   ]
  },
  {
   "cell_type": "code",
   "execution_count": 14,
   "metadata": {},
   "outputs": [
    {
     "name": "stderr",
     "output_type": "stream",
     "text": [
      "100%|██████████| 80/80 [01:57<00:00,  1.47s/it]\n"
     ]
    },
    {
     "name": "stdout",
     "output_type": "stream",
     "text": [
      "(7240578, 7)\n"
     ]
    }
   ],
   "source": [
    "# combining lifetimes info with distances using KDtree\n",
    "# you can either work with extendedlifes with lifetimes\n",
    "scope = np.arange(stab_limit-1, len(neuron),1)\n",
    "### the result will be saved as pointcloud: t,z,y,x,neigbour,distance,life\n",
    "final_results = []\n",
    "for t in tqdm(scope):\n",
    "    t_dist = distances[distances[:,0]==t]\n",
    "    t_lifes = trans_lifes_extend[trans_lifes_extend[:,0]==t]\n",
    "    kd_tree = spatial.KDTree(t_dist[:,1:4])\n",
    "    dist, idx = kd_tree.query(t_lifes[:,1:4], k=1, workers=-1)\n",
    "    closest = [t_dist[ind] for ind in idx]\n",
    "    for i, px in enumerate(t_lifes):\n",
    "        new_px = np.array([px[0], px[1], px[2], px[3], closest[i][4], closest[i][5], px[4]], dtype=object)\n",
    "        final_results.append(new_px)\n",
    "\n",
    "final_results = np.array(final_results)\n",
    "print(final_results.shape)"
   ]
  },
  {
   "cell_type": "code",
   "execution_count": 61,
   "metadata": {},
   "outputs": [
    {
     "data": {
      "text/plain": [
       "array([], shape=(0, 5), dtype=int64)"
      ]
     },
     "execution_count": 61,
     "metadata": {},
     "output_type": "execute_result"
    }
   ],
   "source": [
    "trans_lifes_extend[(trans_lifes_extend[:,0]==11) & (trans_lifes_extend[:,1]==0) & (trans_lifes_extend[:,2]==186) & (trans_lifes_extend[:,3]>123)]"
   ]
  },
  {
   "cell_type": "code",
   "execution_count": 15,
   "metadata": {},
   "outputs": [
    {
     "data": {
      "text/plain": [
       "0.0"
      ]
     },
     "execution_count": 15,
     "metadata": {},
     "output_type": "execute_result"
    }
   ],
   "source": [
    "dist.sum()"
   ]
  },
  {
   "cell_type": "code",
   "execution_count": 16,
   "metadata": {},
   "outputs": [
    {
     "data": {
      "text/plain": [
       "Text(0.5, 0, 'distance of transient pixel to nearest stable')"
      ]
     },
     "execution_count": 16,
     "metadata": {},
     "output_type": "execute_result"
    },
    {
     "data": {
      "image/png": "[encoded data removed]",
      "text/plain": [
       "<Figure size 432x288 with 1 Axes>"
      ]
     },
     "metadata": {
      "needs_background": "light"
     },
     "output_type": "display_data"
    }
   ],
   "source": [
    "plot = plt.scatter(final_results[:,5], final_results[:,6])\n",
    "plt.ylabel('transient pixel lifetime')\n",
    "plt.xlabel('distance of transient pixel to nearest stable')"
   ]
  },
  {
   "cell_type": "code",
   "execution_count": 17,
   "metadata": {},
   "outputs": [
    {
     "data": {
      "text/plain": [
       "Text(0, 0.5, 'distance of transient px to nearest stable')"
      ]
     },
     "execution_count": 17,
     "metadata": {},
     "output_type": "execute_result"
    },
    {
     "data": {
      "image/png": "[encoded data removed]",
      "text/plain": [
       "<Figure size 432x288 with 1 Axes>"
      ]
     },
     "metadata": {
      "needs_background": "light"
     },
     "output_type": "display_data"
    }
   ],
   "source": [
    "plot = plt.scatter(final_results[:,0]*0.25+36, final_results[:,5], marker='.', alpha=0.1)\n",
    "plt.xlabel('APF (hr)')\n",
    "plt.ylabel('distance of transient px to nearest stable')"
   ]
  },
  {
   "cell_type": "code",
   "execution_count": null,
   "metadata": {},
   "outputs": [],
   "source": []
  }
 ],
 "metadata": {
  "interpreter": {
   "hash": "f3f6acc8ab4cd1097e4d91bbffd405bcf59aaff2754a866d7c8cf61e0274c3d7"
  },
  "kernelspec": {
   "display_name": "Python 3.8.12 64-bit ('preprocessing': conda)",
   "language": "python",
   "name": "python3"
  },
  "language_info": {
   "codemirror_mode": {
    "name": "ipython",
    "version": 3
   },
   "file_extension": ".py",
   "mimetype": "text/x-python",
   "name": "python",
   "nbconvert_exporter": "python",
   "pygments_lexer": "ipython3",
   "version": "3.8.12"
  },
  "orig_nbformat": 4
 },
 "nbformat": 4,
 "nbformat_minor": 2
}
