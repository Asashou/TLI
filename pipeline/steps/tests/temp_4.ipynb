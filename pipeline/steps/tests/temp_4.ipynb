{
 "cells": [
  {
   "cell_type": "code",
   "execution_count": 26,
   "metadata": {},
   "outputs": [],
   "source": [
    "import tifffile as tif\n",
    "import numpy as np\n",
    "import matplotlib.pyplot as plt"
   ]
  },
  {
   "cell_type": "code",
   "execution_count": 27,
   "metadata": {},
   "outputs": [],
   "source": [
    "image = tif.imread('/home/tli_project/Desktop/Data/T4/neurons/SubtypeA/211114_P36_N2/211114_P36_N2_FlipV_R277_JE_mask.tif')\n",
    "mask = tif.imread('/home/tli_project/Desktop/Data/T4/neurons/SubtypeA/output/stable_211114_P36_N2.tif')\n",
    "# image[mask==0]=0\n",
    "# mask[mask!=0] = 1\n"
   ]
  },
  {
   "cell_type": "code",
   "execution_count": 28,
   "metadata": {},
   "outputs": [
    {
     "data": {
      "text/plain": [
       "((93, 500, 500), (85, 500, 500))"
      ]
     },
     "execution_count": 28,
     "metadata": {},
     "output_type": "execute_result"
    }
   ],
   "source": [
    "image[image!=0] = 1\n",
    "mask[mask!=0] = 1\n",
    "image = image.sum(axis=1)\n",
    "mask = mask.sum(axis=1)\n",
    "image[image!=0] = 1\n",
    "mask[mask!=0] = 1\n",
    "mask.shape, image[4:].shape"
   ]
  },
  {
   "cell_type": "code",
   "execution_count": 29,
   "metadata": {},
   "outputs": [],
   "source": [
    "image = image[4:]\n",
    "image = image - mask"
   ]
  },
  {
   "cell_type": "code",
   "execution_count": 30,
   "metadata": {},
   "outputs": [
    {
     "data": {
      "text/plain": [
       "((89, 500, 500), 1)"
      ]
     },
     "execution_count": 30,
     "metadata": {},
     "output_type": "execute_result"
    }
   ],
   "source": [
    "image.shape, image.max()"
   ]
  },
  {
   "cell_type": "code",
   "execution_count": 36,
   "metadata": {},
   "outputs": [],
   "source": [
    "image = image.astype('uint8')\n",
    "tif.imsave('/home/tli_project/Desktop/Data/T4/neurons/SubtypeA/output/transient2_211114_P36_N2.tif',image)"
   ]
  },
  {
   "cell_type": "code",
   "execution_count": 35,
   "metadata": {},
   "outputs": [
    {
     "data": {
      "text/plain": [
       "<matplotlib.image.AxesImage at 0x7fed54a98790>"
      ]
     },
     "execution_count": 35,
     "metadata": {},
     "output_type": "execute_result"
    },
    {
     "data": {
      "image/png": "[encoded data removed]",
      "text/plain": [
       "<Figure size 432x288 with 1 Axes>"
      ]
     },
     "metadata": {
      "needs_background": "light"
     },
     "output_type": "display_data"
    }
   ],
   "source": [
    "plt.imshow(image[50])"
   ]
  },
  {
   "cell_type": "code",
   "execution_count": 9,
   "metadata": {},
   "outputs": [],
   "source": [
    "# image_4d = np.concatenate((mask,image))"
   ]
  },
  {
   "cell_type": "code",
   "execution_count": 11,
   "metadata": {},
   "outputs": [],
   "source": [
    "# save_file = '/home/tli_project/Desktop/Data/T4/neurons/SubtypeC_D/211114_P36_N3/new.tif'\n",
    "# tif.imwrite(save_file, image_4d, imagej=True, resolution=(1./0.076, 1./0.076),\n",
    "#                 metadata={'spacing': 0.4, 'unit': 'um', 'finterval': 1/10,'axes': 'TZYX'})"
   ]
  },
  {
   "cell_type": "code",
   "execution_count": 47,
   "metadata": {},
   "outputs": [],
   "source": [
    "img_2D = mask.sum(axis=1)\n",
    "img_2D[img_2D!=0] = 1"
   ]
  },
  {
   "cell_type": "code",
   "execution_count": 48,
   "metadata": {},
   "outputs": [
    {
     "data": {
      "text/plain": [
       "(85, 400, 400)"
      ]
     },
     "execution_count": 48,
     "metadata": {},
     "output_type": "execute_result"
    }
   ],
   "source": [
    "img_2D.shape"
   ]
  },
  {
   "cell_type": "code",
   "execution_count": 49,
   "metadata": {},
   "outputs": [],
   "source": [
    "y = []\n",
    "x = []\n",
    "for t, st in enumerate(img_2D):\n",
    "    points = np.argwhere(st)\n",
    "    try:\n",
    "        y.append(points[:,-2].max() - points[:,-2].min())\n",
    "        x.append(points[:,-1].max() - points[:,-1].min())\n",
    "    except:\n",
    "        pass\n",
    "result = np.array(x)/np.array(y)"
   ]
  },
  {
   "cell_type": "code",
   "execution_count": 50,
   "metadata": {},
   "outputs": [
    {
     "data": {
      "text/plain": [
       "array([0.51941748, 0.59459459, 0.60674157, 0.63235294, 0.7027027 ,\n",
       "       0.66326531, 0.57727273, 0.59278351, 0.605     , 0.58      ,\n",
       "       0.51707317, 0.63819095, 0.59734513, 0.80113636, 0.66995074,\n",
       "       0.5       , 0.58857143, 0.65697674, 0.66871166, 0.7615894 ,\n",
       "       0.72988506, 0.66666667, 0.67204301, 0.62130178, 0.60512821,\n",
       "       0.6627907 , 0.79754601, 0.79310345, 0.84827586, 0.77297297,\n",
       "       1.01324503, 0.90804598, 0.93037975, 0.84713376, 0.91719745,\n",
       "       0.77018634, 0.7357513 , 0.76282051, 0.92073171, 0.8516129 ,\n",
       "       0.73369565, 0.72      , 0.76315789, 0.71122995, 0.625     ,\n",
       "       0.65296804, 0.65333333, 0.73762376, 0.59166667, 0.64573991,\n",
       "       0.79816514, 0.77319588, 0.74      , 0.80099502, 0.70720721,\n",
       "       0.64016736, 0.67105263, 0.63090129, 0.64853556, 0.66935484,\n",
       "       0.6328125 , 0.67420814, 0.73333333, 0.69298246, 0.66949153,\n",
       "       0.75454545, 0.75336323, 0.73819742, 0.59448819, 0.6302521 ,\n",
       "       0.62248996, 0.64      , 0.68674699, 0.63333333, 0.59215686,\n",
       "       0.5502008 , 0.55514706, 0.60384615, 0.65702479, 0.69327731,\n",
       "       0.67073171, 0.68939394, 0.62686567, 0.62989324, 0.59926471])"
      ]
     },
     "execution_count": 50,
     "metadata": {},
     "output_type": "execute_result"
    }
   ],
   "source": [
    "result"
   ]
  },
  {
   "cell_type": "code",
   "execution_count": null,
   "metadata": {},
   "outputs": [],
   "source": []
  },
  {
   "cell_type": "code",
   "execution_count": 51,
   "metadata": {},
   "outputs": [
    {
     "data": {
      "text/plain": [
       "<matplotlib.collections.PathCollection at 0x7f5d3c2cd5b0>"
      ]
     },
     "execution_count": 51,
     "metadata": {},
     "output_type": "execute_result"
    },
    {
     "data": {
      "image/png": "[encoded data removed]",
      "text/plain": [
       "<Figure size 432x288 with 1 Axes>"
      ]
     },
     "metadata": {
      "needs_background": "light"
     },
     "output_type": "display_data"
    }
   ],
   "source": [
    "plt.scatter(x,y, c=np.arange(len(x)))"
   ]
  },
  {
   "cell_type": "code",
   "execution_count": 52,
   "metadata": {},
   "outputs": [],
   "source": [
    "import cv2\n",
    "def find_ellipses(img): #img is grayscale image of what I want to fit\n",
    "        # ret,thresh = cv2.threshold(img,127,255,0)\n",
    "        # _,contours,hierarchy = cv2.findContours(thresh,cv2.RETR_LIST,cv2.CHAIN_APPROX_SIMPLE)\n",
    "        _,contours,hierarchy = cv2.findContours(img, 1, 2,3)\n",
    "        if len(contours) != 0:\n",
    "            for cont in contours:\n",
    "                if len(cont) < 5:\n",
    "                    break\n",
    "                elps = cv2.fitEllipse(cont)\n",
    "                return elps  #only returns one ellipse for now\n",
    "        return None"
   ]
  },
  {
   "cell_type": "code",
   "execution_count": 53,
   "metadata": {},
   "outputs": [
    {
     "data": {
      "text/plain": [
       "<matplotlib.image.AxesImage at 0x7f5d526c8e80>"
      ]
     },
     "execution_count": 53,
     "metadata": {},
     "output_type": "execute_result"
    },
    {
     "data": {
      "image/png": "[encoded data removed]",
      "text/plain": [
       "<Figure size 432x288 with 1 Axes>"
      ]
     },
     "metadata": {
      "needs_background": "light"
     },
     "output_type": "display_data"
    }
   ],
   "source": [
    "plt.imshow(img_2D[10])"
   ]
  },
  {
   "cell_type": "code",
   "execution_count": 54,
   "metadata": {},
   "outputs": [
    {
     "ename": "error",
     "evalue": "OpenCV(4.5.5) :-1: error: (-5:Bad argument) in function 'findContours'\n> Overload resolution failed:\n>  - Can't parse 'contours'. Input argument doesn't provide sequence protocol\n>  - Can't parse 'contours'. Input argument doesn't provide sequence protocol\n",
     "output_type": "error",
     "traceback": [
      "\u001b[0;31m---------------------------------------------------------------------------\u001b[0m",
      "\u001b[0;31merror\u001b[0m                                     Traceback (most recent call last)",
      "\u001b[1;32m/home/tli_project/Desktop/TLI_preprocessing/Work_folder/steps/tests/temp.ipynb Cell 14'\u001b[0m in \u001b[0;36m<module>\u001b[0;34m\u001b[0m\n\u001b[1;32m      <a href='vscode-notebook-cell:/home/tli_project/Desktop/TLI_preprocessing/Work_folder/steps/tests/temp.ipynb#ch0000009?line=0'>1</a>\u001b[0m test \u001b[39m=\u001b[39m img_2D[\u001b[39m10\u001b[39m]\n\u001b[1;32m      <a href='vscode-notebook-cell:/home/tli_project/Desktop/TLI_preprocessing/Work_folder/steps/tests/temp.ipynb#ch0000009?line=1'>2</a>\u001b[0m test \u001b[39m=\u001b[39m test\u001b[39m.\u001b[39mastype(\u001b[39m'\u001b[39m\u001b[39muint8\u001b[39m\u001b[39m'\u001b[39m)\n\u001b[0;32m----> <a href='vscode-notebook-cell:/home/tli_project/Desktop/TLI_preprocessing/Work_folder/steps/tests/temp.ipynb#ch0000009?line=2'>3</a>\u001b[0m elli \u001b[39m=\u001b[39m find_ellipses(test)\n",
      "\u001b[1;32m/home/tli_project/Desktop/TLI_preprocessing/Work_folder/steps/tests/temp.ipynb Cell 12'\u001b[0m in \u001b[0;36mfind_ellipses\u001b[0;34m(img)\u001b[0m\n\u001b[1;32m      <a href='vscode-notebook-cell:/home/tli_project/Desktop/TLI_preprocessing/Work_folder/steps/tests/temp.ipynb#ch0000008?line=1'>2</a>\u001b[0m \u001b[39mdef\u001b[39;00m \u001b[39mfind_ellipses\u001b[39m(img): \u001b[39m#img is grayscale image of what I want to fit\u001b[39;00m\n\u001b[1;32m      <a href='vscode-notebook-cell:/home/tli_project/Desktop/TLI_preprocessing/Work_folder/steps/tests/temp.ipynb#ch0000008?line=2'>3</a>\u001b[0m         \u001b[39m# ret,thresh = cv2.threshold(img,127,255,0)\u001b[39;00m\n\u001b[1;32m      <a href='vscode-notebook-cell:/home/tli_project/Desktop/TLI_preprocessing/Work_folder/steps/tests/temp.ipynb#ch0000008?line=3'>4</a>\u001b[0m         \u001b[39m# _,contours,hierarchy = cv2.findContours(thresh,cv2.RETR_LIST,cv2.CHAIN_APPROX_SIMPLE)\u001b[39;00m\n\u001b[0;32m----> <a href='vscode-notebook-cell:/home/tli_project/Desktop/TLI_preprocessing/Work_folder/steps/tests/temp.ipynb#ch0000008?line=4'>5</a>\u001b[0m         _,contours,hierarchy \u001b[39m=\u001b[39m cv2\u001b[39m.\u001b[39;49mfindContours(img, \u001b[39m1\u001b[39;49m, \u001b[39m2\u001b[39;49m,\u001b[39m3\u001b[39;49m)\n\u001b[1;32m      <a href='vscode-notebook-cell:/home/tli_project/Desktop/TLI_preprocessing/Work_folder/steps/tests/temp.ipynb#ch0000008?line=5'>6</a>\u001b[0m         \u001b[39mif\u001b[39;00m \u001b[39mlen\u001b[39m(contours) \u001b[39m!=\u001b[39m \u001b[39m0\u001b[39m:\n\u001b[1;32m      <a href='vscode-notebook-cell:/home/tli_project/Desktop/TLI_preprocessing/Work_folder/steps/tests/temp.ipynb#ch0000008?line=6'>7</a>\u001b[0m             \u001b[39mfor\u001b[39;00m cont \u001b[39min\u001b[39;00m contours:\n",
      "\u001b[0;31merror\u001b[0m: OpenCV(4.5.5) :-1: error: (-5:Bad argument) in function 'findContours'\n> Overload resolution failed:\n>  - Can't parse 'contours'. Input argument doesn't provide sequence protocol\n>  - Can't parse 'contours'. Input argument doesn't provide sequence protocol\n"
     ]
    }
   ],
   "source": [
    "test = img_2D[10]\n",
    "test = test.astype('uint8')\n",
    "elli = find_ellipses(test)"
   ]
  },
  {
   "cell_type": "code",
   "execution_count": 8,
   "metadata": {},
   "outputs": [],
   "source": [
    "import cv2\n",
    "\n",
    "moments = cv2.moments(cnt)\n",
    "ellipse = cv2.fitEllipse(cnt)\n",
    "rect = cv2.minAreaRect(cnt)\n",
    "box = cv2.cv.BoxPoints(rect)\n",
    "box = np.int0(box)\n",
    "cv2.drawContours(im,[box],0,(0,0,255),2)\n",
    "cv2.ellipse(im,ellipse,(0,255,0),2)"
   ]
  },
  {
   "cell_type": "code",
   "execution_count": 55,
   "metadata": {},
   "outputs": [],
   "source": [
    "result = []\n",
    "for t, st in enumerate(img_2D[1:]):\n",
    "    points = st - img_2D[t]\n",
    "    points[points<0] = 0\n",
    "    points = np.argwhere(points)\n",
    "    result.append(points[:,-2].mean())\n"
   ]
  },
  {
   "cell_type": "code",
   "execution_count": 56,
   "metadata": {},
   "outputs": [],
   "source": [
    "result1 = []\n",
    "for t, st in enumerate(img_2D[1:]):\n",
    "    points = st - img_2D[t]\n",
    "    points[points<0] = 0\n",
    "    points = np.argwhere(points)\n",
    "    result1.append(points[:,-1].mean())"
   ]
  },
  {
   "cell_type": "code",
   "execution_count": 64,
   "metadata": {},
   "outputs": [],
   "source": [
    "\n",
    "img_PC = np.argwhere(img_2D)"
   ]
  },
  {
   "cell_type": "code",
   "execution_count": 65,
   "metadata": {},
   "outputs": [
    {
     "data": {
      "text/plain": [
       "array([[ 75, 220],\n",
       "       [ 75, 221],\n",
       "       [ 75, 222],\n",
       "       [ 76, 219],\n",
       "       [ 76, 220],\n",
       "       [ 76, 221],\n",
       "       [ 76, 222],\n",
       "       [ 76, 223],\n",
       "       [ 77, 218],\n",
       "       [ 77, 219]])"
      ]
     },
     "execution_count": 65,
     "metadata": {},
     "output_type": "execute_result"
    }
   ],
   "source": [
    "points = img_PC[img_PC[:,0]==10][:,1:]\n",
    "points[:10]"
   ]
  },
  {
   "cell_type": "code",
   "execution_count": 66,
   "metadata": {},
   "outputs": [],
   "source": [
    "from scipy.spatial import ConvexHull, convex_hull_plot_2d\n",
    "\n",
    "hull = ConvexHull(points, qhull_options='Qc')"
   ]
  },
  {
   "cell_type": "code",
   "execution_count": 44,
   "metadata": {},
   "outputs": [
    {
     "data": {
      "image/png": "[encoded data removed]",
      "text/plain": [
       "<Figure size 432x288 with 1 Axes>"
      ]
     },
     "metadata": {
      "needs_background": "light"
     },
     "output_type": "display_data"
    }
   ],
   "source": [
    "import matplotlib.pyplot as plt\n",
    "\n",
    "plt.plot(points[:,0], points[:,1], 'o')\n",
    "\n",
    "# for simplex in hull.simplices:\n",
    "\n",
    "#     plt.plot(points[simplex, 0], points[simplex, 1], 'k-')\n",
    "\n",
    "# plt.plot(points[hull.vertices,0], points[hull.vertices,1], 'r--', lw=2)\n",
    "\n",
    "plt.plot(points[hull.vertices[0],0], points[hull.vertices[0],1], 'ro')\n",
    "\n",
    "plt.show()"
   ]
  },
  {
   "cell_type": "code",
   "execution_count": 45,
   "metadata": {},
   "outputs": [
    {
     "ename": "ValueError",
     "evalue": "Convex hull is not 2-D",
     "output_type": "error",
     "traceback": [
      "\u001b[0;31m---------------------------------------------------------------------------\u001b[0m",
      "\u001b[0;31mValueError\u001b[0m                                Traceback (most recent call last)",
      "\u001b[1;32m/home/tli_project/Desktop/TLI_preprocessing/Work_folder/steps/tests/temp.ipynb Cell 7'\u001b[0m in \u001b[0;36m<module>\u001b[0;34m\u001b[0m\n\u001b[1;32m      <a href='vscode-notebook-cell:/home/tli_project/Desktop/TLI_preprocessing/Work_folder/steps/tests/temp.ipynb#ch0000013?line=4'>5</a>\u001b[0m \u001b[39mfor\u001b[39;00m visible_facet \u001b[39min\u001b[39;00m hull\u001b[39m.\u001b[39msimplices[hull\u001b[39m.\u001b[39mgood]:\n\u001b[1;32m      <a href='vscode-notebook-cell:/home/tli_project/Desktop/TLI_preprocessing/Work_folder/steps/tests/temp.ipynb#ch0000013?line=6'>7</a>\u001b[0m     ax\u001b[39m.\u001b[39mplot(hull\u001b[39m.\u001b[39mpoints[visible_facet, \u001b[39m0\u001b[39m],\n\u001b[1;32m      <a href='vscode-notebook-cell:/home/tli_project/Desktop/TLI_preprocessing/Work_folder/steps/tests/temp.ipynb#ch0000013?line=7'>8</a>\u001b[0m \n\u001b[1;32m      <a href='vscode-notebook-cell:/home/tli_project/Desktop/TLI_preprocessing/Work_folder/steps/tests/temp.ipynb#ch0000013?line=8'>9</a>\u001b[0m             hull\u001b[39m.\u001b[39mpoints[visible_facet, \u001b[39m1\u001b[39m],\n\u001b[0;32m   (...)\u001b[0m\n\u001b[1;32m     <a href='vscode-notebook-cell:/home/tli_project/Desktop/TLI_preprocessing/Work_folder/steps/tests/temp.ipynb#ch0000013?line=11'>12</a>\u001b[0m \n\u001b[1;32m     <a href='vscode-notebook-cell:/home/tli_project/Desktop/TLI_preprocessing/Work_folder/steps/tests/temp.ipynb#ch0000013?line=12'>13</a>\u001b[0m             lw\u001b[39m=\u001b[39m\u001b[39m6\u001b[39m)\n\u001b[0;32m---> <a href='vscode-notebook-cell:/home/tli_project/Desktop/TLI_preprocessing/Work_folder/steps/tests/temp.ipynb#ch0000013?line=14'>15</a>\u001b[0m convex_hull_plot_2d(hull, ax\u001b[39m=\u001b[39;49max)\n\u001b[1;32m     <a href='vscode-notebook-cell:/home/tli_project/Desktop/TLI_preprocessing/Work_folder/steps/tests/temp.ipynb#ch0000013?line=16'>17</a>\u001b[0m plt\u001b[39m.\u001b[39mshow()\n",
      "File \u001b[0;32m<decorator-gen-3>:2\u001b[0m, in \u001b[0;36mconvex_hull_plot_2d\u001b[0;34m(hull, ax)\u001b[0m\n",
      "File \u001b[0;32m~/miniconda3/envs/preprocessing/lib/python3.8/site-packages/scipy/spatial/_plotutils.py:20\u001b[0m, in \u001b[0;36m_held_figure\u001b[0;34m(func, obj, ax, **kw)\u001b[0m\n\u001b[1;32m     <a href='file:///home/tli_project/miniconda3/envs/preprocessing/lib/python3.8/site-packages/scipy/spatial/_plotutils.py?line=17'>18</a>\u001b[0m was_held \u001b[39m=\u001b[39m \u001b[39mgetattr\u001b[39m(ax, \u001b[39m'\u001b[39m\u001b[39mishold\u001b[39m\u001b[39m'\u001b[39m, \u001b[39mlambda\u001b[39;00m: \u001b[39mTrue\u001b[39;00m)()\n\u001b[1;32m     <a href='file:///home/tli_project/miniconda3/envs/preprocessing/lib/python3.8/site-packages/scipy/spatial/_plotutils.py?line=18'>19</a>\u001b[0m \u001b[39mif\u001b[39;00m was_held:\n\u001b[0;32m---> <a href='file:///home/tli_project/miniconda3/envs/preprocessing/lib/python3.8/site-packages/scipy/spatial/_plotutils.py?line=19'>20</a>\u001b[0m     \u001b[39mreturn\u001b[39;00m func(obj, ax\u001b[39m=\u001b[39;49max, \u001b[39m*\u001b[39;49m\u001b[39m*\u001b[39;49mkw)\n\u001b[1;32m     <a href='file:///home/tli_project/miniconda3/envs/preprocessing/lib/python3.8/site-packages/scipy/spatial/_plotutils.py?line=20'>21</a>\u001b[0m \u001b[39mtry\u001b[39;00m:\n\u001b[1;32m     <a href='file:///home/tli_project/miniconda3/envs/preprocessing/lib/python3.8/site-packages/scipy/spatial/_plotutils.py?line=21'>22</a>\u001b[0m     ax\u001b[39m.\u001b[39mhold(\u001b[39mTrue\u001b[39;00m)\n",
      "File \u001b[0;32m~/miniconda3/envs/preprocessing/lib/python3.8/site-packages/scipy/spatial/_plotutils.py:139\u001b[0m, in \u001b[0;36mconvex_hull_plot_2d\u001b[0;34m(hull, ax)\u001b[0m\n\u001b[1;32m    <a href='file:///home/tli_project/miniconda3/envs/preprocessing/lib/python3.8/site-packages/scipy/spatial/_plotutils.py?line=135'>136</a>\u001b[0m \u001b[39mfrom\u001b[39;00m \u001b[39mmatplotlib\u001b[39;00m\u001b[39m.\u001b[39;00m\u001b[39mcollections\u001b[39;00m \u001b[39mimport\u001b[39;00m LineCollection  \u001b[39m# type: ignore[import]\u001b[39;00m\n\u001b[1;32m    <a href='file:///home/tli_project/miniconda3/envs/preprocessing/lib/python3.8/site-packages/scipy/spatial/_plotutils.py?line=137'>138</a>\u001b[0m \u001b[39mif\u001b[39;00m hull\u001b[39m.\u001b[39mpoints\u001b[39m.\u001b[39mshape[\u001b[39m1\u001b[39m] \u001b[39m!=\u001b[39m \u001b[39m2\u001b[39m:\n\u001b[0;32m--> <a href='file:///home/tli_project/miniconda3/envs/preprocessing/lib/python3.8/site-packages/scipy/spatial/_plotutils.py?line=138'>139</a>\u001b[0m     \u001b[39mraise\u001b[39;00m \u001b[39mValueError\u001b[39;00m(\u001b[39m\"\u001b[39m\u001b[39mConvex hull is not 2-D\u001b[39m\u001b[39m\"\u001b[39m)\n\u001b[1;32m    <a href='file:///home/tli_project/miniconda3/envs/preprocessing/lib/python3.8/site-packages/scipy/spatial/_plotutils.py?line=140'>141</a>\u001b[0m ax\u001b[39m.\u001b[39mplot(hull\u001b[39m.\u001b[39mpoints[:,\u001b[39m0\u001b[39m], hull\u001b[39m.\u001b[39mpoints[:,\u001b[39m1\u001b[39m], \u001b[39m'\u001b[39m\u001b[39mo\u001b[39m\u001b[39m'\u001b[39m)\n\u001b[1;32m    <a href='file:///home/tli_project/miniconda3/envs/preprocessing/lib/python3.8/site-packages/scipy/spatial/_plotutils.py?line=141'>142</a>\u001b[0m line_segments \u001b[39m=\u001b[39m [hull\u001b[39m.\u001b[39mpoints[simplex] \u001b[39mfor\u001b[39;00m simplex \u001b[39min\u001b[39;00m hull\u001b[39m.\u001b[39msimplices]\n",
      "\u001b[0;31mValueError\u001b[0m: Convex hull is not 2-D"
     ]
    },
    {
     "data": {
      "image/png": "[encoded data removed]",
      "text/plain": [
       "<Figure size 432x288 with 1 Axes>"
      ]
     },
     "metadata": {
      "needs_background": "light"
     },
     "output_type": "display_data"
    }
   ],
   "source": [
    "fig = plt.figure()\n",
    "\n",
    "ax = fig.add_subplot(1,1,1)\n",
    "\n",
    "for visible_facet in hull.simplices[hull.good]:\n",
    "\n",
    "    ax.plot(hull.points[visible_facet, 0],\n",
    "\n",
    "            hull.points[visible_facet, 1],\n",
    "\n",
    "            color='violet',\n",
    "\n",
    "            lw=6)\n",
    "\n",
    "convex_hull_plot_2d(hull, ax=ax)\n",
    "\n",
    "plt.show()"
   ]
  },
  {
   "cell_type": "code",
   "execution_count": 67,
   "metadata": {},
   "outputs": [
    {
     "data": {
      "text/plain": [
       "array([280., 264.])"
      ]
     },
     "execution_count": 67,
     "metadata": {},
     "output_type": "execute_result"
    }
   ],
   "source": [
    "hull.max_bound"
   ]
  },
  {
   "cell_type": "code",
   "execution_count": 68,
   "metadata": {},
   "outputs": [
    {
     "data": {
      "text/plain": [
       "array([ 75., 158.])"
      ]
     },
     "execution_count": 68,
     "metadata": {},
     "output_type": "execute_result"
    }
   ],
   "source": [
    "hull.min_bound"
   ]
  },
  {
   "cell_type": "code",
   "execution_count": 74,
   "metadata": {},
   "outputs": [
    {
     "data": {
      "text/plain": [
       "3.872002180812384"
      ]
     },
     "execution_count": 74,
     "metadata": {},
     "output_type": "execute_result"
    }
   ],
   "source": [
    "4*np.pi *(hull.volume/np.linalg.norm(hull.max_bound-hull.min_bound)**2)"
   ]
  },
  {
   "cell_type": "code",
   "execution_count": 48,
   "metadata": {},
   "outputs": [
    {
     "data": {
      "text/plain": [
       "(400, 400)"
      ]
     },
     "execution_count": 48,
     "metadata": {},
     "output_type": "execute_result"
    }
   ],
   "source": [
    "image = tif.imread('/home/tli_project/Desktop/Data/T4/neurons/SubtypeB/output/stable_211011_P37_N1.tif')\n",
    "\n",
    "img_2D = image[-1].sum(axis=0)\n",
    "img_2D.shape"
   ]
  },
  {
   "cell_type": "code",
   "execution_count": 49,
   "metadata": {},
   "outputs": [
    {
     "data": {
      "text/plain": [
       "0.8061603271197585"
      ]
     },
     "execution_count": 49,
     "metadata": {},
     "output_type": "execute_result"
    }
   ],
   "source": [
    "img_PC = np.argwhere(img_2D)\n",
    "\n",
    "from scipy.spatial import ConvexHull, convex_hull_plot_2d\n",
    "\n",
    "hull = ConvexHull(img_PC, qhull_options='Qc')\n",
    "\n",
    "4*np.pi *hull.volume/(hull.area*hull.area)"
   ]
  },
  {
   "cell_type": "code",
   "execution_count": 51,
   "metadata": {},
   "outputs": [
    {
     "data": {
      "text/plain": [
       "(23488.500000000004, 605.0926292011328)"
      ]
     },
     "execution_count": 51,
     "metadata": {},
     "output_type": "execute_result"
    }
   ],
   "source": [
    "hull.volume, hull.area"
   ]
  },
  {
   "cell_type": "code",
   "execution_count": 52,
   "metadata": {},
   "outputs": [
    {
     "data": {
      "text/plain": [
       "148321"
      ]
     },
     "execution_count": 52,
     "metadata": {},
     "output_type": "execute_result"
    }
   ],
   "source": [
    "img_2D.sum()"
   ]
  },
  {
   "cell_type": "code",
   "execution_count": 53,
   "metadata": {},
   "outputs": [
    {
     "data": {
      "text/plain": [
       "<matplotlib.image.AxesImage at 0x7fed531920d0>"
      ]
     },
     "execution_count": 53,
     "metadata": {},
     "output_type": "execute_result"
    },
    {
     "data": {
      "image/png": "[encoded data removed]",
      "text/plain": [
       "<Figure size 432x288 with 1 Axes>"
      ]
     },
     "metadata": {
      "needs_background": "light"
     },
     "output_type": "display_data"
    }
   ],
   "source": [
    "plt.imshow(img_2D)"
   ]
  },
  {
   "cell_type": "code",
   "execution_count": 54,
   "metadata": {},
   "outputs": [
    {
     "data": {
      "text/plain": [
       "(400, 400)"
      ]
     },
     "execution_count": 54,
     "metadata": {},
     "output_type": "execute_result"
    }
   ],
   "source": [
    "img_2D.shape"
   ]
  },
  {
   "cell_type": "code",
   "execution_count": 55,
   "metadata": {},
   "outputs": [
    {
     "data": {
      "text/plain": [
       "160000"
      ]
     },
     "execution_count": 55,
     "metadata": {},
     "output_type": "execute_result"
    }
   ],
   "source": [
    "400*400\n"
   ]
  },
  {
   "cell_type": "code",
   "execution_count": null,
   "metadata": {},
   "outputs": [],
   "source": []
  }
 ],
 "metadata": {
  "interpreter": {
   "hash": "f3f6acc8ab4cd1097e4d91bbffd405bcf59aaff2754a866d7c8cf61e0274c3d7"
  },
  "kernelspec": {
   "display_name": "Python 3.8.12 ('preprocessing')",
   "language": "python",
   "name": "python3"
  },
  "language_info": {
   "codemirror_mode": {
    "name": "ipython",
    "version": 3
   },
   "file_extension": ".py",
   "mimetype": "text/x-python",
   "name": "python",
   "nbconvert_exporter": "python",
   "pygments_lexer": "ipython3",
   "version": "3.8.12"
  },
  "orig_nbformat": 4
 },
 "nbformat": 4,
 "nbformat_minor": 2
}
