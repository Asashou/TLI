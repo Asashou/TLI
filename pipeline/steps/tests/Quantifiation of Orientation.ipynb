{
 "cells": [
  {
   "cell_type": "code",
   "execution_count": 11,
   "metadata": {},
   "outputs": [],
   "source": [
    "from skimage import data, exposure, filters, io, segmentation, external\n",
    "import matplotlib.pyplot as plt\n",
    "import numpy as np\n",
    "import pandas as pd\n",
    "import seaborn as sns\n",
    "%matplotlib inline"
   ]
  },
  {
   "cell_type": "code",
   "execution_count": 12,
   "metadata": {},
   "outputs": [],
   "source": [
    "def dendritic_polarplot(sine, cos, nbins, norm_ori_vec, DGI, Name):\n",
    "    \n",
    "    ## Convert vector coordinates into degree\n",
    "    angles = np.arctan2(cos, sine)\n",
    "    vec_angles = np.degrees(angles)\n",
    "\n",
    "    \n",
    "    ## Separate the vectors into different bins according to directions\n",
    "    \n",
    "    histo = np.histogram(vec_angles, bins = nbins)\n",
    "    histo = np.array(histo)\n",
    "    \n",
    "    ## Colour the bars differently\n",
    "    \n",
    "    cmap_hist = sns.husl_palette(nbins)\n",
    "    \n",
    "    ## Normalize the bar length\n",
    "    \n",
    "    bar_length = []\n",
    "    for elem in histo[0]:\n",
    "        bar_length.append(elem/np.sum(histo[0]))\n",
    "    bar_length.append(0)\n",
    "    bar_length = np.array(bar_length)\n",
    "    \n",
    "    \n",
    "    ## Add the normalized orientation vector of the dendrite\n",
    "    \n",
    "    ori_angle = np.degrees(np.arctan2(-norm_ori_vec[1], -norm_ori_vec[0]))\n",
    "    \n",
    "    ## Round DGI to 3 decimals\n",
    "    \n",
    "    DGI = round(DGI, 4)\n",
    "    \n",
    "    ## Make polar plot and add vector\n",
    "    sns.set()\n",
    "    ax = plt.subplot(111, polar=True)\n",
    "    \n",
    "    bins = np.arange(0.0, 2*np.pi, 2*np.pi/nbins)\n",
    " #  arrow = ax.arrow((-ori_angle/180*np.pi)-np.pi/2, 0, 0, DGI, length_includes_head = True, head_width = 0.08, head_length = 0.05,label = DGI)\n",
    "    bars = ax.bar(-bins-(np.pi/2), bar_length[:-1], width = np.repeat(2*np.pi/nbins, nbins), bottom=0.0, alpha = 0.4)\n",
    "    \n",
    "    ax.set_rticks([0.1, 0.2, 0.3, 0.4])\n",
    "    ax.set_yticklabels(['', '', '', ''])\n",
    "#     ax.set_rlabel_position(-ori_angle+90)\n",
    "#     legend = ax.legend(loc = 'upper right', bbox_to_anchor=(1.05,1.05), handles = [arrow])\n",
    "    ax.set_xticklabels([])\n",
    "    ax.set_label([None])\n",
    "# ax.set_xticklabels(['      Posterior', '', 'Dorsal', '', 'Anterior      ', '', 'Ventral', ''])\n",
    "    for i in range(len(bars)):\n",
    "        bars[i].set_facecolor(cmap_hist[i])\n",
    "        bars[i].set_alpha(0.4)\n",
    "        bars[i].set_edgecolor('k')\n",
    "    plt.savefig('%s.png' % Name, dpi = 1000)\n",
    "    plt.show()\n",
    "    \n",
    "    print(bar_length)\n",
    "    \n",
    "    return True"
   ]
  },
  {
   "cell_type": "code",
   "execution_count": 16,
   "metadata": {},
   "outputs": [],
   "source": [
    "all_norm_vectors = np.vstack((np.array(pd.read_csv('Output/T4-7_x165y148_Layer3(J).csv')),\n",
    "                              np.array(pd.read_csv('Output/T4-5_x179y170_Layer3(C).csv')),\n",
    "                              np.array(pd.read_csv('Output/T4-4_x145y128_Layer3(C).csv')),\n",
    "                              np.array(pd.read_csv('Output/T4-3_x147y140_Layer3(J).csv')),\n",
    "                              np.array(pd.read_csv('Output/T4-3_x135y121_Layer3(C).csv')),\n",
    "                               np.array(pd.read_csv('Output/T4-1_x178y157_Layer3(J).csv')),\n",
    "                              np.array(pd.read_csv('Output/T4-1_x133y157_Layer3(C).csv'))))\n",
    "\n",
    "image = ('Control Layer3 n7')\n",
    "np.savetxt(\"%s.csv\" % image, all_norm_vectors, fmt=\"%.10f\", delimiter=',')"
   ]
  },
  {
   "cell_type": "code",
   "execution_count": 17,
   "metadata": {},
   "outputs": [],
   "source": [
    "mean_vector = np.sum(all_norm_vectors, axis=0) \n",
    "mean_vector_length = np.linalg.norm(mean_vector)\n",
    "mean_norm_vector = mean_vector/ mean_vector_length\n",
    "num_vectors = all_norm_vectors.shape[0]\n",
    "DGI = mean_vector_length/ num_vectors\n",
    "\n",
    "\n"
   ]
  },
  {
   "cell_type": "code",
   "execution_count": 18,
   "metadata": {},
   "outputs": [
    {
     "data": {
      "image/png": "[encoded data removed]",
      "text/plain": [
       "<Figure size 432x288 with 1 Axes>"
      ]
     },
     "metadata": {},
     "output_type": "display_data"
    },
    {
     "name": "stdout",
     "output_type": "stream",
     "text": [
      "[0.32409078 0.09720195 0.0478713  0.02739443 0.05092789 0.06573973\n",
      " 0.03285263 0.02085608 0.01778799 0.02013215 0.05519104 0.23995404\n",
      " 0.        ]\n"
     ]
    }
   ],
   "source": [
    "a = dendritic_polarplot(all_norm_vectors[:, 0], all_norm_vectors[:, 1], 12, mean_norm_vector, DGI, 'Control Layer3 n7')"
   ]
  },
  {
   "cell_type": "code",
   "execution_count": null,
   "metadata": {},
   "outputs": [],
   "source": []
  },
  {
   "cell_type": "code",
   "execution_count": null,
   "metadata": {
    "collapsed": true
   },
   "outputs": [],
   "source": []
  }
 ],
 "metadata": {
  "kernelspec": {
   "display_name": "Python 3.9.6 ('growth')",
   "language": "python",
   "name": "python3"
  },
  "language_info": {
   "codemirror_mode": {
    "name": "ipython",
    "version": 3
   },
   "file_extension": ".py",
   "mimetype": "text/x-python",
   "name": "python",
   "nbconvert_exporter": "python",
   "pygments_lexer": "ipython3",
   "version": "3.9.6"
  },
  "vscode": {
   "interpreter": {
    "hash": "3558778624732e82e76d08d0e1529767d5d68faabf4350c6a5545e8ecf2497ca"
   }
  }
 },
 "nbformat": 4,
 "nbformat_minor": 2
}
