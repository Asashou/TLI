{
 "cells": [
  {
   "cell_type": "code",
   "execution_count": 19,
   "metadata": {},
   "outputs": [],
   "source": [
    "#####\n",
    "## The aim of this script is to take the y,x coordinate of a point in elipse1 and \n",
    "#   transfer it to the corresponding y',x' coordinate in elipse2"
   ]
  },
  {
   "cell_type": "code",
   "execution_count": 20,
   "metadata": {},
   "outputs": [],
   "source": [
    "import numpy as np\n",
    "import matplotlib.pyplot as plt"
   ]
  },
  {
   "cell_type": "code",
   "execution_count": 33,
   "metadata": {},
   "outputs": [],
   "source": [
    "# Drawing ellipse1\n",
    "x0 = 80; a = 50  # x center, half width                                       \n",
    "y0 = 120; b = 100  # y center, half height \n",
    "x = np.linspace(0, 150,150)  # x values of interest\n",
    "y = np.linspace(0, 250,250)[:,None]  # y values of interest, as a \"ellipse\" array\n",
    "ellipse = ((x-x0)/a)**2 + ((y-y0)/b)**2 <= 1  # True for points inside the ellipse\n",
    "ellipse = ellipse.astype(int)"
   ]
  },
  {
   "cell_type": "code",
   "execution_count": 34,
   "metadata": {},
   "outputs": [
    {
     "data": {
      "text/plain": [
       "<matplotlib.image.AxesImage at 0x7f80f099fbe0>"
      ]
     },
     "execution_count": 34,
     "metadata": {},
     "output_type": "execute_result"
    },
    {
     "data": {
      "image/png": "[encoded data removed]",
      "text/plain": [
       "<Figure size 432x288 with 1 Axes>"
      ]
     },
     "metadata": {
      "needs_background": "light"
     },
     "output_type": "display_data"
    }
   ],
   "source": [
    "#definning the point-of-interest (y,x) and drawing center, start (Sy,Sx) and (y,x)\n",
    "S_radian = np.radians(0)\n",
    "Sy, Sx = int(y0+b*np.sin(S_radian)), int(x0+a*np.cos(S_radian))\n",
    "y, x = 80, 80\n",
    "ellipse[y0,x0] = 4\n",
    "ellipse[Sy,Sx] = 4\n",
    "ellipse[y,x] = 4\n",
    "\n",
    "plt.imshow(ellipse)"
   ]
  },
  {
   "cell_type": "code",
   "execution_count": 35,
   "metadata": {},
   "outputs": [
    {
     "name": "stdout",
     "output_type": "stream",
     "text": [
      "1.5707963267948966 90.0\n"
     ]
    }
   ],
   "source": [
    "#getting angle (in radians) between start and point-of-interest\n",
    "vect, ref = (y-y0,x-x0), (Sy-y0,Sx-x0)\n",
    "unit_vector_1 = vect/np.linalg.norm(vect)\n",
    "unit_vector_2 = ref / np.linalg.norm(ref)\n",
    "dot_product = np.dot(unit_vector_1, unit_vector_2)\n",
    "p_radian = np.arccos(dot_product)\n",
    "p_deg = np.degrees(p_radian)\n",
    "# if vect[0]<0: ### this is a stupid solution to make the angle clockwise, but it works here\n",
    "#     p_deg = 360 - p_deg\n",
    "#     p_radian = np.radians(p_deg)\n",
    "print(p_radian, p_deg)"
   ]
  },
  {
   "cell_type": "code",
   "execution_count": 36,
   "metadata": {},
   "outputs": [
    {
     "data": {
      "text/plain": [
       "(120, 80)"
      ]
     },
     "execution_count": 36,
     "metadata": {},
     "output_type": "execute_result"
    }
   ],
   "source": [
    "#finding the point based on the angle, center and diameters\n",
    "# Py, Px = int(y0+b*np.sin(p_radian)), int(x0+a*np.cos(p_radian))  THIS SOLUTION DIDN't WORK\n",
    "# Py1 = y0+(Px1-x0)/np.arctan(p_radian)\n",
    "\n",
    "#the solution that worked\n",
    "if vect[-1]<0:\n",
    "    Px1 = int(x0-a*b/(np.sqrt(b**2+a**2*np.tan(p_radian)**2))) \n",
    "else:\n",
    "    Px1 = int(x0+a*b/(np.sqrt(b**2+a**2*np.tan(p_radian)**2))) \n",
    "if vect[0]<0:\n",
    "    Py1 = y0-int(np.sqrt((np.tan(p_radian)*(Px1-x0))**2))\n",
    "else:\n",
    "    Py1 = y0+int(np.sqrt((np.tan(p_radian)*(Px1-x0))**2))\n",
    "# Py1 = int(y0+a*b/(np.sqrt(a**2+b**2*np.tan(p_radian)**2)))\n",
    "Py1, Px1"
   ]
  },
  {
   "cell_type": "code",
   "execution_count": 37,
   "metadata": {},
   "outputs": [],
   "source": [
    "# Py1, Px1 = 218, 80"
   ]
  },
  {
   "cell_type": "code",
   "execution_count": 38,
   "metadata": {},
   "outputs": [
    {
     "name": "stdout",
     "output_type": "stream",
     "text": [
      "the point is in the ellipse 4\n",
      "angle to found point nan nan\n"
     ]
    },
    {
     "name": "stderr",
     "output_type": "stream",
     "text": [
      "/var/folders/5d/tj6rj8cn7_xdplpgkz202g5rnq_4v2/T/ipykernel_68442/2888638461.py:5: RuntimeWarning: invalid value encountered in true_divide\n",
      "  unit_vector_1 = vect2/np.linalg.norm(vect2)\n"
     ]
    },
    {
     "data": {
      "text/plain": [
       "<matplotlib.image.AxesImage at 0x7f80e080d190>"
      ]
     },
     "execution_count": 38,
     "metadata": {},
     "output_type": "execute_result"
    },
    {
     "data": {
      "image/png": "[encoded data removed]",
      "text/plain": [
       "<Figure size 432x288 with 1 Axes>"
      ]
     },
     "metadata": {
      "needs_background": "light"
     },
     "output_type": "display_data"
    }
   ],
   "source": [
    "### THE CORRECT POINTS ARE (FROM THE SHAPE and CONFIRMED BY ANGLE FROM START)\n",
    "Py2, Px2 = Py1, Px1\n",
    "print('the point is in the ellipse', ellipse[Py2,Px2]) ### the point is in the ellipse\n",
    "vect2, ref = (Py2-y0,Px2-x0), (Sy-y0,Sx-x0)\n",
    "unit_vector_1 = vect2/np.linalg.norm(vect2)\n",
    "unit_vector_2 = ref / np.linalg.norm(ref)\n",
    "dot_product2 = np.dot(unit_vector_1, unit_vector_2)\n",
    "p_radian2 = np.arccos(dot_product2)\n",
    "p_deg2 = np.degrees(p_radian2)\n",
    "print('angle to found point', p_deg2, p_radian2)\n",
    "ellipse[Py2,Px2] = 4\n",
    "plt.imshow(ellipse)"
   ]
  },
  {
   "cell_type": "code",
   "execution_count": 39,
   "metadata": {},
   "outputs": [
    {
     "name": "stderr",
     "output_type": "stream",
     "text": [
      "/var/folders/5d/tj6rj8cn7_xdplpgkz202g5rnq_4v2/T/ipykernel_68442/1500330915.py:5: RuntimeWarning: divide by zero encountered in double_scalars\n",
      "  ratio = vect_length/cross_length\n"
     ]
    },
    {
     "data": {
      "text/plain": [
       "((-40, 0), (0, 0), 40.0, 0.0, inf)"
      ]
     },
     "execution_count": 39,
     "metadata": {},
     "output_type": "execute_result"
    }
   ],
   "source": [
    "# Py1,Px1 = 218,80\n",
    "vect, cross = (y-y0,x-x0), (Py1-y0,Px1-x0)\n",
    "vect_length = np.linalg.norm(vect)\n",
    "cross_length = np.linalg.norm(cross)\n",
    "ratio = vect_length/cross_length \n",
    "vect, cross, vect_length, cross_length, ratio"
   ]
  },
  {
   "cell_type": "code",
   "execution_count": 40,
   "metadata": {},
   "outputs": [
    {
     "data": {
      "text/plain": [
       "<matplotlib.image.AxesImage at 0x7f80c05b9220>"
      ]
     },
     "execution_count": 40,
     "metadata": {},
     "output_type": "execute_result"
    },
    {
     "data": {
      "image/png": "[encoded data removed]",
      "text/plain": [
       "<Figure size 432x288 with 1 Axes>"
      ]
     },
     "metadata": {
      "needs_background": "light"
     },
     "output_type": "display_data"
    }
   ],
   "source": [
    "# Drawing ellipse2\n",
    "x0 = 30; a = 20  # x center, half width                                       \n",
    "y0 = 45; b = 40  # y center, half height \n",
    "x = np.linspace(0, 100,100)  # x values of interest\n",
    "y = np.linspace(0, 100,100)[:,None]  # y values of interest, as a \"ellipse\" array\n",
    "ellipse2 = ((x-x0)/a)**2 + ((y-y0)/b)**2 <= 1  # True for points inside the ellipse\n",
    "ellipse2 = ellipse2.astype(int)\n",
    "#definning the point-of-interest (y,x) and drawing center, start (Sy,Sx) and (y,x)\n",
    "S_radian = np.radians(0)\n",
    "Sy, Sx = int(y0+b*np.sin(S_radian)), int(x0+a*np.cos(S_radian))\n",
    "# y, x = 155, 50\n",
    "ellipse2[y0,x0] = 4\n",
    "ellipse2[Sy,Sx] = 4\n",
    "# ellipse[y,x] = 4\n",
    "plt.imshow(ellipse2)"
   ]
  },
  {
   "cell_type": "code",
   "execution_count": 41,
   "metadata": {},
   "outputs": [
    {
     "data": {
      "text/plain": [
       "(30, 20, 40, 1.633123935319537e+16)"
      ]
     },
     "execution_count": 41,
     "metadata": {},
     "output_type": "execute_result"
    }
   ],
   "source": [
    "x0, a, b, np.tan(p_radian)"
   ]
  },
  {
   "cell_type": "code",
   "execution_count": 42,
   "metadata": {},
   "outputs": [
    {
     "name": "stdout",
     "output_type": "stream",
     "text": [
      "45 30\n"
     ]
    },
    {
     "data": {
      "text/plain": [
       "<matplotlib.image.AxesImage at 0x7f80d2257850>"
      ]
     },
     "execution_count": 42,
     "metadata": {},
     "output_type": "execute_result"
    },
    {
     "data": {
      "image/png": "[encoded data removed]",
      "text/plain": [
       "<Figure size 432x288 with 1 Axes>"
      ]
     },
     "metadata": {
      "needs_background": "light"
     },
     "output_type": "display_data"
    }
   ],
   "source": [
    "#finding the point based on the angle, center and diameters\n",
    "# Py, Px = int(y0+b*np.sin(p_radian)), int(x0+a*np.cos(p_radian))  THIS SOLUTION DIDN't WORK\n",
    "if vect[-1]<0:\n",
    "    Px1 = int(x0-a*b/(np.sqrt(b**2+a**2*np.tan(p_radian)**2))) \n",
    "else:\n",
    "    Px1 = int(x0+a*b/(np.sqrt(b**2+a**2*np.tan(p_radian)**2))) \n",
    "#### Px1 is off by 1 only\n",
    "# Py1 = y0+(Px1-x0)/np.arctan(p_radian)\n",
    "if vect[0]<0:\n",
    "    Py1 = y0-int(np.tan(p_radian)*(Px1-x0))\n",
    "else:\n",
    "    Py1 = y0+int(np.tan(p_radian)*(Px1-x0))\n",
    "# Py1 = int(y0+a*b/(np.sqrt(a**2+b**2*np.tan(p_radian)**2)))\n",
    "print(Py1, Px1)\n",
    "ellipse2[Py1,Px1] = 4\n",
    "plt.imshow(ellipse2)"
   ]
  },
  {
   "cell_type": "code",
   "execution_count": 31,
   "metadata": {},
   "outputs": [
    {
     "data": {
      "text/plain": [
       "(8.0, 20.0, 0.4, 3.141592653589793, 180.0)"
      ]
     },
     "execution_count": 31,
     "metadata": {},
     "output_type": "execute_result"
    }
   ],
   "source": [
    "cross2 = (Py1-y0,Px1-x0)\n",
    "cross2_length = np.linalg.norm(cross2)\n",
    "vect2_length = ratio*cross2_length\n",
    "vect2_length, cross2_length, ratio, p_radian, p_deg"
   ]
  },
  {
   "cell_type": "code",
   "execution_count": 32,
   "metadata": {},
   "outputs": [
    {
     "data": {
      "text/plain": [
       "<matplotlib.image.AxesImage at 0x7f80a07dba30>"
      ]
     },
     "execution_count": 32,
     "metadata": {},
     "output_type": "execute_result"
    },
    {
     "data": {
      "image/png": "[encoded data removed]",
      "text/plain": [
       "<Figure size 432x288 with 1 Axes>"
      ]
     },
     "metadata": {
      "needs_background": "light"
     },
     "output_type": "display_data"
    }
   ],
   "source": [
    "if Py1 < y0:\n",
    "    y = y0-int(vect2_length*np.sqrt(np.sin(p_radian)**2))\n",
    "else:\n",
    "    y = y0+int(vect2_length*np.sqrt(np.sin(p_radian)**2))\n",
    "if Px1 < x0:\n",
    "    x = x0-int(vect2_length*np.sqrt(np.cos(p_radian)**2))\n",
    "else:\n",
    "    x = x0+int(vect2_length*np.sqrt(np.cos(p_radian)**2))\n",
    "ellipse2[y,x] = 4\n",
    "plt.imshow(ellipse2)"
   ]
  },
  {
   "cell_type": "code",
   "execution_count": 80,
   "metadata": {},
   "outputs": [],
   "source": [
    "def transform_point(y=200, x=80, \n",
    "                    x0=80, y0=120, #center of ellipse1 \n",
    "                    a0=50, b0=100, #major and minor of ellispe1\n",
    "                    x1=30, y1=45, #center of ellipse2 (ref)\n",
    "                    a1=20, b1=40, # major and minor of ellipse2\n",
    "                    X_length=150, #X_dim of final array\n",
    "                    Y_length=250): #Y_dim of final array\n",
    "    \"\"\"\n",
    "    This function transform the  y,x coordinates of a point in ellipse1 \n",
    "    to y_f,x_f coordinate of the corresponding point in ellipse2\n",
    "    INPUT: y,x coordinates of the point in ellipse1 \n",
    "           y0,x0,a0,b0 center and dimaters of ellipse1 \n",
    "           y1,x1,a1,b1 center and dimaters of ellipse2\n",
    "    Returns y_f, x_f coordinates of the corresponding point in ellipse2\n",
    "    NOTE: the point has to be inside the ellipse1 and not on the boarder\n",
    "    \"\"\"\n",
    "    \n",
    "    # Drawing ellipse1 \n",
    "    # X_dim = np.linspace(0, X_length,X_length)  # x values of interest\n",
    "    # Y_dim = np.linspace(0, Y_length,Y_length)[:,None]  # y values of interest, as a \"ellipse\" array\n",
    "    # ellipse = ((X_dim-x0)/a0)**2 + ((Y_dim-y0)/b0)**2 <= 1  # True for points inside the ellipse\n",
    "    # ellipse = ellipse.astype(int)\n",
    "    #definning the point-of-interest (y,x) and drawing center, start (Sy,Sx) and (y,x)\n",
    "    # Drawing ellipse2\n",
    "    # ellipse1 = ((X_dim-x1)/a1)**2 + ((Y_dim-y1)/b1)**2 <= 1  # True for points inside the ellipse\n",
    "    # ellipse1 = ellipse1.astype(int)\n",
    "    # Sy1, Sx1 = int(y1+b1*np.sin(S_radian)), int(x1+a1*np.cos(S_radian))\n",
    "\n",
    "    #definning start point for calculating angle\n",
    "    S_radian = np.radians(0)\n",
    "    Sy0, Sx0 = int(y0+b0*np.sin(S_radian)), int(x0+a0*np.cos(S_radian))\n",
    "    \n",
    "    #getting angle (in radians) between start and point-of-interest\n",
    "    vect, ref = (y-y0,x-x0), (Sy0-y0,Sx0-x0)\n",
    "    unit_vector_1 = vect/np.linalg.norm(vect)\n",
    "    unit_vector_2 = ref / np.linalg.norm(ref)\n",
    "    dot_product = np.dot(unit_vector_1, unit_vector_2)\n",
    "    p_radian = np.arccos(dot_product)\n",
    "    #finding the cross point in ellipse1 based on the angle, center and diameters\n",
    "    if vect[-1]<0:\n",
    "        Px0 = int(x0-a0*b0/(np.sqrt(b0**2+a0**2*np.tan(p_radian)**2))) \n",
    "    else:\n",
    "        Px0 = int(x0+a0*b0/(np.sqrt(b0**2+a0**2*np.tan(p_radian)**2))) \n",
    "    if vect[0]<0:\n",
    "        Py0 = y0-int(np.sqrt((np.tan(p_radian)*(Px0-x0))**2))\n",
    "    else:\n",
    "        Py0 = y0+int(np.sqrt((np.tan(p_radian)*(Px0-x0))**2))\n",
    "    \n",
    "    # calculating ratio of point length to cross length\n",
    "    cross = (Py0-y0,Px0-x0)\n",
    "    vect_length = np.linalg.norm(vect)\n",
    "    cross_length = np.linalg.norm(cross)\n",
    "    ratio = vect_length/cross_length \n",
    "\n",
    "    #finding the cross point in ellipse2 based on the angle, center and diameters\n",
    "    if vect[-1]<0:\n",
    "        Px1 = x1-int(a1*b1/(np.sqrt(b1**2+a1**2*np.tan(p_radian)**2))) \n",
    "    else:\n",
    "        Px1 = x1+int(a1*b1/(np.sqrt(b1**2+a1**2*np.tan(p_radian)**2))) \n",
    "    if vect[0]<0:\n",
    "        Py1 = y1-int(np.tan(p_radian)*(Px1-x1))\n",
    "    else:\n",
    "        Py1 = y1+int(np.tan(p_radian)*(Px1-x1))\n",
    "    \n",
    "    # calculating cross point to ellipse2 and point_length\n",
    "    cross2 = (Py1-y1,Px1-x1)\n",
    "    cross2_length = np.linalg.norm(cross2)\n",
    "    vect2_length = ratio*cross2_length\n",
    "\n",
    "    # x_f, x_f coordinated of the transformed point from ellipse1 to ellipse2\n",
    "    if Py1 < y1:\n",
    "        y_f = y1-int(vect2_length*np.sqrt(np.sin(p_radian)**2))\n",
    "    else:\n",
    "        y_f = y1+int(vect2_length*np.sqrt(np.sin(p_radian)**2))\n",
    "    if Px1 < x1:\n",
    "        x_f = x1-int(vect2_length*np.sqrt(np.cos(p_radian)**2))\n",
    "    else:\n",
    "        x_f = x1+int(vect2_length*np.sqrt(np.cos(p_radian)**2))\n",
    "\n",
    "    return y_f, x_f"
   ]
  },
  {
   "cell_type": "code",
   "execution_count": 81,
   "metadata": {},
   "outputs": [
    {
     "name": "stderr",
     "output_type": "stream",
     "text": [
      "/var/folders/5d/tj6rj8cn7_xdplpgkz202g5rnq_4v2/T/ipykernel_68149/164901980.py:53: RuntimeWarning: divide by zero encountered in double_scalars\n",
      "  ratio = vect_length/cross_length\n",
      "/var/folders/5d/tj6rj8cn7_xdplpgkz202g5rnq_4v2/T/ipykernel_68149/164901980.py:68: RuntimeWarning: invalid value encountered in double_scalars\n",
      "  vect2_length = ratio*cross2_length\n"
     ]
    },
    {
     "ename": "ValueError",
     "evalue": "cannot convert float NaN to integer",
     "output_type": "error",
     "traceback": [
      "\u001b[0;31m---------------------------------------------------------------------------\u001b[0m",
      "\u001b[0;31mValueError\u001b[0m                                Traceback (most recent call last)",
      "\u001b[0;32m/var/folders/5d/tj6rj8cn7_xdplpgkz202g5rnq_4v2/T/ipykernel_68149/643176363.py\u001b[0m in \u001b[0;36m<module>\u001b[0;34m\u001b[0m\n\u001b[0;32m----> 1\u001b[0;31m y_final, x_final = transform_point(y=130, x=80, \n\u001b[0m\u001b[1;32m      2\u001b[0m                                     \u001b[0mx0\u001b[0m\u001b[0;34m=\u001b[0m\u001b[0;36m80\u001b[0m\u001b[0;34m,\u001b[0m \u001b[0my0\u001b[0m\u001b[0;34m=\u001b[0m\u001b[0;36m120\u001b[0m\u001b[0;34m,\u001b[0m \u001b[0;31m#center of ellipse1\u001b[0m\u001b[0;34m\u001b[0m\u001b[0;34m\u001b[0m\u001b[0m\n\u001b[1;32m      3\u001b[0m                                     \u001b[0ma0\u001b[0m\u001b[0;34m=\u001b[0m\u001b[0;36m50\u001b[0m\u001b[0;34m,\u001b[0m \u001b[0mb0\u001b[0m\u001b[0;34m=\u001b[0m\u001b[0;36m100\u001b[0m\u001b[0;34m,\u001b[0m \u001b[0;31m#major and minor of ellispe1\u001b[0m\u001b[0;34m\u001b[0m\u001b[0;34m\u001b[0m\u001b[0m\n\u001b[1;32m      4\u001b[0m                                     \u001b[0mx1\u001b[0m\u001b[0;34m=\u001b[0m\u001b[0;36m30\u001b[0m\u001b[0;34m,\u001b[0m \u001b[0my1\u001b[0m\u001b[0;34m=\u001b[0m\u001b[0;36m45\u001b[0m\u001b[0;34m,\u001b[0m \u001b[0;31m#center of ellipse2 (ref)\u001b[0m\u001b[0;34m\u001b[0m\u001b[0;34m\u001b[0m\u001b[0m\n\u001b[1;32m      5\u001b[0m                                     \u001b[0ma1\u001b[0m\u001b[0;34m=\u001b[0m\u001b[0;36m20\u001b[0m\u001b[0;34m,\u001b[0m \u001b[0mb1\u001b[0m\u001b[0;34m=\u001b[0m\u001b[0;36m40\u001b[0m\u001b[0;34m,\u001b[0m \u001b[0;31m# major and minor of ellipse2\u001b[0m\u001b[0;34m\u001b[0m\u001b[0;34m\u001b[0m\u001b[0m\n",
      "\u001b[0;32m/var/folders/5d/tj6rj8cn7_xdplpgkz202g5rnq_4v2/T/ipykernel_68149/164901980.py\u001b[0m in \u001b[0;36mtransform_point\u001b[0;34m(y, x, x0, y0, a0, b0, x1, y1, a1, b1, X_length, Y_length)\u001b[0m\n\u001b[1;32m     72\u001b[0m         \u001b[0my_f\u001b[0m \u001b[0;34m=\u001b[0m \u001b[0my1\u001b[0m\u001b[0;34m-\u001b[0m\u001b[0mint\u001b[0m\u001b[0;34m(\u001b[0m\u001b[0mvect2_length\u001b[0m\u001b[0;34m*\u001b[0m\u001b[0mnp\u001b[0m\u001b[0;34m.\u001b[0m\u001b[0msqrt\u001b[0m\u001b[0;34m(\u001b[0m\u001b[0mnp\u001b[0m\u001b[0;34m.\u001b[0m\u001b[0msin\u001b[0m\u001b[0;34m(\u001b[0m\u001b[0mp_radian\u001b[0m\u001b[0;34m)\u001b[0m\u001b[0;34m**\u001b[0m\u001b[0;36m2\u001b[0m\u001b[0;34m)\u001b[0m\u001b[0;34m)\u001b[0m\u001b[0;34m\u001b[0m\u001b[0;34m\u001b[0m\u001b[0m\n\u001b[1;32m     73\u001b[0m     \u001b[0;32melse\u001b[0m\u001b[0;34m:\u001b[0m\u001b[0;34m\u001b[0m\u001b[0;34m\u001b[0m\u001b[0m\n\u001b[0;32m---> 74\u001b[0;31m         \u001b[0my_f\u001b[0m \u001b[0;34m=\u001b[0m \u001b[0my1\u001b[0m\u001b[0;34m+\u001b[0m\u001b[0mint\u001b[0m\u001b[0;34m(\u001b[0m\u001b[0mvect2_length\u001b[0m\u001b[0;34m*\u001b[0m\u001b[0mnp\u001b[0m\u001b[0;34m.\u001b[0m\u001b[0msqrt\u001b[0m\u001b[0;34m(\u001b[0m\u001b[0mnp\u001b[0m\u001b[0;34m.\u001b[0m\u001b[0msin\u001b[0m\u001b[0;34m(\u001b[0m\u001b[0mp_radian\u001b[0m\u001b[0;34m)\u001b[0m\u001b[0;34m**\u001b[0m\u001b[0;36m2\u001b[0m\u001b[0;34m)\u001b[0m\u001b[0;34m)\u001b[0m\u001b[0;34m\u001b[0m\u001b[0;34m\u001b[0m\u001b[0m\n\u001b[0m\u001b[1;32m     75\u001b[0m     \u001b[0;32mif\u001b[0m \u001b[0mPx1\u001b[0m \u001b[0;34m<\u001b[0m \u001b[0mx1\u001b[0m\u001b[0;34m:\u001b[0m\u001b[0;34m\u001b[0m\u001b[0;34m\u001b[0m\u001b[0m\n\u001b[1;32m     76\u001b[0m         \u001b[0mx_f\u001b[0m \u001b[0;34m=\u001b[0m \u001b[0mx1\u001b[0m\u001b[0;34m-\u001b[0m\u001b[0mint\u001b[0m\u001b[0;34m(\u001b[0m\u001b[0mvect2_length\u001b[0m\u001b[0;34m*\u001b[0m\u001b[0mnp\u001b[0m\u001b[0;34m.\u001b[0m\u001b[0msqrt\u001b[0m\u001b[0;34m(\u001b[0m\u001b[0mnp\u001b[0m\u001b[0;34m.\u001b[0m\u001b[0mcos\u001b[0m\u001b[0;34m(\u001b[0m\u001b[0mp_radian\u001b[0m\u001b[0;34m)\u001b[0m\u001b[0;34m**\u001b[0m\u001b[0;36m2\u001b[0m\u001b[0;34m)\u001b[0m\u001b[0;34m)\u001b[0m\u001b[0;34m\u001b[0m\u001b[0;34m\u001b[0m\u001b[0m\n",
      "\u001b[0;31mValueError\u001b[0m: cannot convert float NaN to integer"
     ]
    }
   ],
   "source": [
    "y_final, x_final = transform_point(y=130, x=80, \n",
    "                                    x0=80, y0=120, #center of ellipse1 \n",
    "                                    a0=50, b0=100, #major and minor of ellispe1\n",
    "                                    x1=30, y1=45, #center of ellipse2 (ref)\n",
    "                                    a1=20, b1=40, # major and minor of ellipse2\n",
    "                                    X_length=150, #X_dim of final array\n",
    "                                    Y_length=250) #Y_dim of final array"
   ]
  },
  {
   "cell_type": "code",
   "execution_count": 13,
   "metadata": {},
   "outputs": [
    {
     "data": {
      "text/plain": [
       "(48, 30)"
      ]
     },
     "execution_count": 13,
     "metadata": {},
     "output_type": "execute_result"
    }
   ],
   "source": [
    "y_final, x_final"
   ]
  },
  {
   "cell_type": "code",
   "execution_count": null,
   "metadata": {},
   "outputs": [],
   "source": [
    "plt.imshow(ellipse)\n",
    "# plt.imshow(ellipse1)"
   ]
  },
  {
   "cell_type": "code",
   "execution_count": 34,
   "metadata": {},
   "outputs": [
    {
     "data": {
      "text/plain": [
       "120"
      ]
     },
     "execution_count": 34,
     "metadata": {},
     "output_type": "execute_result"
    }
   ],
   "source": [
    "120-int(np.tan(1.5707963267948966)*(80-80))"
   ]
  },
  {
   "cell_type": "code",
   "execution_count": null,
   "metadata": {},
   "outputs": [],
   "source": []
  }
 ],
 "metadata": {
  "interpreter": {
   "hash": "3558778624732e82e76d08d0e1529767d5d68faabf4350c6a5545e8ecf2497ca"
  },
  "kernelspec": {
   "display_name": "Python 3.9.6 ('growth')",
   "language": "python",
   "name": "python3"
  },
  "language_info": {
   "codemirror_mode": {
    "name": "ipython",
    "version": 3
   },
   "file_extension": ".py",
   "mimetype": "text/x-python",
   "name": "python",
   "nbconvert_exporter": "python",
   "pygments_lexer": "ipython3",
   "version": "3.9.6"
  },
  "orig_nbformat": 4
 },
 "nbformat": 4,
 "nbformat_minor": 2
}
