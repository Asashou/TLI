{
 "cells": [
  {
   "cell_type": "code",
   "execution_count": 207,
   "metadata": {},
   "outputs": [],
   "source": [
    "# You only need to change values in this cell and then run the whole script \n",
    "\n",
    "image_path = 'T4-24 (SubtypeB)/T4-24.tif'\n",
    "Roi_path = 'T4-24 (SubtypeB)/RoiSet.zip'\n",
    "save_path = 'T4-24 (SubtypeB)/'\n",
    "save_name = 'T4_24'\n",
    "normalize = True\n",
    "sig = 1 # this number define the gaussian blur radius. If 1, then no blur is applied\n",
    "\n",
    "# entry_point = (38,185,225) #entry point of the neuron (Z,Y,X)\n",
    "\n",
    "if save_path[-1] != '/':\n",
    "    save_path += '/'"
   ]
  },
  {
   "cell_type": "code",
   "execution_count": 208,
   "metadata": {},
   "outputs": [],
   "source": [
    "#imports\n",
    "import matplotlib.pyplot as plt\n",
    "import tifffile as tif\n",
    "import numpy as np\n",
    "from tqdm import tqdm\n",
    "import pandas as pd\n",
    "from read_roi import read_roi_zip as co_zip\n",
    "import cv2\n",
    "from skimage.filters import gaussian, threshold_otsu\n",
    "from scipy import ndimage"
   ]
  },
  {
   "cell_type": "code",
   "execution_count": 209,
   "metadata": {},
   "outputs": [],
   "source": [
    "def mask_image(volume, return_mask = False ,sig = 1):\n",
    "    image = volume.copy()\n",
    "    image = image.astype('float32')\n",
    "    image -= image.min()\n",
    "    image /= image.max()\n",
    "    blur = gaussian(image, sigma=sig)\n",
    "    t = threshold_otsu(blur)\n",
    "    mask = blur > t\n",
    "    mask = np.array(mask, dtype=bool)\n",
    "    if return_mask == False:\n",
    "        image[mask==False] = 0\n",
    "        mask = image\n",
    "    return mask\n",
    "\n",
    "def segment_3D(image):\n",
    "    s = ndimage.generate_binary_structure(len(image.shape), len(image.shape))\n",
    "    labeled_array, num_labels = ndimage.label(image, structure=s)\n",
    "    labels = np.unique(labeled_array)\n",
    "    labels = labels[labels!=0]\n",
    "    neu_sizes = {}\n",
    "    for l in labels:\n",
    "        neu_sizes[l] = (labeled_array == l).sum()/(labeled_array == l).max()\n",
    "    # sorted_sizes = sorted(neu_sizes.items(), key=operator.itemgetter(1), reverse=True)\n",
    "    max_label = max(neu_sizes, key=neu_sizes.get)\n",
    "    neuron = labeled_array.copy()\n",
    "    neuron [neuron!=max_label] = 0       \n",
    "    return neuron\n",
    "\n",
    "def col_occupancy(neuron, cols_zip, normalize=True, plot=True, save=True, save_path='', save_file=''):\n",
    "    cols_occ = {}\n",
    "    for key, val in tqdm(cols_zip.items()):\n",
    "        if val['type'] == 'oval':\n",
    "            x0 = val['left']+int(val['width']/2); a = int(val['width']/2)  # x center, half width                                       \n",
    "            y0 = val['top']+int(val['height']/2); b = int(val['height']/2)  # y center, half height                                      \n",
    "            x = np.linspace(0, neuron.shape[-1],neuron.shape[-1])  # x values of interest\n",
    "            y = np.linspace(0, neuron.shape[-2],neuron.shape[-2])[:,None]  # y values of interest, as a \"column\" array\n",
    "            column = ((x-x0)/a)**2 + ((y-y0)/b)**2 <= 1  # True for points inside the ellipse\n",
    "            column = column.astype(int)\n",
    "        elif val['type'] == 'freehand':\n",
    "            rois = np.array(list(zip(val['x'],val['y'])))\n",
    "            rois = rois.astype(int)\n",
    "            column = np.zeros([neuron.shape[-2],neuron.shape[-1]])\n",
    "            column = cv2.fillPoly(column, pts =[rois], color=(255,255,255))\n",
    "            column[column>0] = 1\n",
    "        col_filter = np.broadcast_to(column, neuron.shape)\n",
    "        col_size = col_filter.sum()\n",
    "        nue_sub = col_filter * neuron # pixels occupied by neuron in the column\n",
    "        cols_occ[key] = nue_sub.sum()/col_size\n",
    "    cols_occ = pd.Series(cols_occ)\n",
    "    if normalize:\n",
    "        cols_occ = cols_occ/cols_occ.max()\n",
    "    if save == True:\n",
    "        if save_file == '':\n",
    "            save_file = \"col_occupancy.csv\"\n",
    "        csv_file = save_path+save_file\n",
    "        if '.csv' not in csv_file:\n",
    "            csv_file +='.csv'\n",
    "        cols_occ.to_csv(csv_file, sep=';')\n",
    "\n",
    "    return cols_occ"
   ]
  },
  {
   "cell_type": "code",
   "execution_count": 210,
   "metadata": {},
   "outputs": [],
   "source": [
    "image = tif.imread(image_path)"
   ]
  },
  {
   "cell_type": "code",
   "execution_count": 211,
   "metadata": {},
   "outputs": [],
   "source": [
    "mask = mask_image(image, return_mask = False ,sig = sig)\n",
    "mask = segment_3D(mask)\n",
    "neuron = image.copy()\n",
    "neuron[mask==0] = 0\n",
    "tif.imwrite(save_path+save_name+'_mask.tif', neuron, \n",
    "            imagej=True, resolution=(1./0.076, 1./0.076),\n",
    "            metadata={'spacing': 0.4, 'unit': 'um', 'finterval': 1/10,'axes': 'ZYX'})"
   ]
  },
  {
   "cell_type": "code",
   "execution_count": 212,
   "metadata": {},
   "outputs": [],
   "source": [
    "cols_zip = rois = co_zip(Roi_path)\n",
    "neuron[neuron!=0] = 1"
   ]
  },
  {
   "cell_type": "code",
   "execution_count": 213,
   "metadata": {},
   "outputs": [
    {
     "name": "stderr",
     "output_type": "stream",
     "text": [
      "100%|██████████| 15/15 [00:01<00:00,  7.78it/s]\n"
     ]
    }
   ],
   "source": [
    "T4_4b_Cols_Ai = col_occupancy(neuron, \n",
    "                              cols_zip, \n",
    "                              normalize=normalize, \n",
    "                              save=True, \n",
    "                              save_path=save_path, \n",
    "                              save_file=save_name)"
   ]
  },
  {
   "cell_type": "code",
   "execution_count": null,
   "metadata": {},
   "outputs": [],
   "source": []
  },
  {
   "cell_type": "code",
   "execution_count": null,
   "metadata": {},
   "outputs": [],
   "source": []
  }
 ],
 "metadata": {
  "interpreter": {
   "hash": "3558778624732e82e76d08d0e1529767d5d68faabf4350c6a5545e8ecf2497ca"
  },
  "kernelspec": {
   "display_name": "Python 3 (ipykernel)",
   "language": "python",
   "name": "python3"
  },
  "language_info": {
   "codemirror_mode": {
    "name": "ipython",
    "version": 3
   },
   "file_extension": ".py",
   "mimetype": "text/x-python",
   "name": "python",
   "nbconvert_exporter": "python",
   "pygments_lexer": "ipython3",
   "version": "3.10.4"
  }
 },
 "nbformat": 4,
 "nbformat_minor": 2
}
