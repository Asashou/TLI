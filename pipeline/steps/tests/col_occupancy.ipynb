{
 "cells": [
  {
   "cell_type": "code",
   "execution_count": 48,
   "metadata": {},
   "outputs": [],
   "source": [
    "#imports\n",
    "# import utils.analysis as analysis\n",
    "import matplotlib.pyplot as plt\n",
    "import tifffile as tif\n",
    "import numpy as np\n",
    "from tqdm import tqdm\n",
    "import pandas as pd\n",
    "# import roifile as roi\n",
    "from read_roi import read_roi_zip as co_zip\n",
    "import cv2"
   ]
  },
  {
   "cell_type": "code",
   "execution_count": 49,
   "metadata": {},
   "outputs": [],
   "source": [
    "image_path = '/Users/aichah/Desktop/TLI/data/cntrl/220511_TLI_cntl_P56_S01_B5B_Fh_R40_N1_Td_GFP_seg.tif'\n",
    "# cols_path = '/Users/aichah/Desktop/TLI/data/cols/T4-4 (subtype B)/Aicha/T4_4b_FlipV_R20_Cols_1.tif'\n",
    "Roi_path = '/Users/aichah/Desktop/TLI/data/cntrl/220511_TLI_cntl_P56_S01_B5B_Fh_R80_N1_Td_ColROIs.zip'\n",
    "save_path = '/Users/aichah/Desktop/TLI/data/cntrl/'\n",
    "save_name = '220511_TLI_cntl_P56_S01_B5B_Fh_R40_N1_Td_GFP1_test'\n",
    "\n",
    "##\n",
    "# entry_point = (0,38,185,225) #entry point of the neuron (T,Z,Y,X), where Z=0\n",
    "\n",
    "if save_path[-1] != '/':\n",
    "    save_path += '/'"
   ]
  },
  {
   "cell_type": "code",
   "execution_count": 50,
   "metadata": {},
   "outputs": [],
   "source": [
    "image = tif.imread(image_path)\n",
    "# Cols = tif.imread(cols_path)\n",
    "cols_zip = rois = co_zip(Roi_path)\n",
    "neuron = image.copy()"
   ]
  },
  {
   "cell_type": "code",
   "execution_count": 51,
   "metadata": {},
   "outputs": [
    {
     "data": {
      "text/plain": [
       "(0.0, 0.0, 0.003105291, 1.0)"
      ]
     },
     "execution_count": 51,
     "metadata": {},
     "output_type": "execute_result"
    }
   ],
   "source": [
    "neuron.min(), np.quantile(neuron,0.99), neuron.mean(), neuron.max()"
   ]
  },
  {
   "cell_type": "code",
   "execution_count": 52,
   "metadata": {},
   "outputs": [],
   "source": [
    "neuron[neuron>0] = 1\n",
    "# Cols[Cols>0] = 1"
   ]
  },
  {
   "cell_type": "code",
   "execution_count": 53,
   "metadata": {},
   "outputs": [
    {
     "data": {
      "text/plain": [
       "<matplotlib.image.AxesImage at 0x7fdd50f21df0>"
      ]
     },
     "execution_count": 53,
     "metadata": {},
     "output_type": "execute_result"
    },
    {
     "data": {
      "image/png": "[encoded data removed]",
      "text/plain": [
       "<Figure size 432x288 with 1 Axes>"
      ]
     },
     "metadata": {
      "needs_background": "light"
     },
     "output_type": "display_data"
    }
   ],
   "source": [
    "plt.imshow(neuron[15])"
   ]
  },
  {
   "cell_type": "code",
   "execution_count": 54,
   "metadata": {},
   "outputs": [
    {
     "data": {
      "text/plain": [
       "37490.0"
      ]
     },
     "execution_count": 54,
     "metadata": {},
     "output_type": "execute_result"
    }
   ],
   "source": [
    "neuron.sum()"
   ]
  },
  {
   "cell_type": "code",
   "execution_count": 55,
   "metadata": {},
   "outputs": [],
   "source": [
    "# neuron = neuron[np.newaxis,:]\n",
    "# neuron.shape"
   ]
  },
  {
   "cell_type": "code",
   "execution_count": 68,
   "metadata": {},
   "outputs": [
    {
     "data": {
      "text/plain": [
       "odict_keys(['1_00', '2_+10', '3_+1+1', '4_0+1', '5_-10', '6_-1-1', '7_0-1', 'B_+2+1', 'D_+1+2', 'A_+20', 'G_-20', 'F_-1+1', 'H_-2-1', 'J_-2-1', 'E_0+2', 'L_+1-1', 'K_0-2', 'C_+2+2', 'I_-2-2'])"
      ]
     },
     "execution_count": 68,
     "metadata": {},
     "output_type": "execute_result"
    }
   ],
   "source": [
    "cols_zip.keys()"
   ]
  },
  {
   "cell_type": "code",
   "execution_count": 31,
   "metadata": {},
   "outputs": [],
   "source": [
    "# rois = np.array(list(zip(cols_zip['C']['x'],cols_zip['C']['y'])))\n",
    "# rois = rois.astype(int)\n",
    "# test = np.zeros([1024,1024])\n",
    "# test = cv2.fillPoly(test, pts =[rois], color=(255,255,255))\n",
    "# plt.imshow(test)"
   ]
  },
  {
   "cell_type": "code",
   "execution_count": 32,
   "metadata": {},
   "outputs": [],
   "source": [
    "# test[test>0]  = 1"
   ]
  },
  {
   "cell_type": "code",
   "execution_count": 42,
   "metadata": {},
   "outputs": [],
   "source": [
    "def col_occupancy(neuron, cols_zip, normalize=True, plot=True, save=True, save_path='', save_file=''):\n",
    "    cols_occ = {}\n",
    "    for key, val in tqdm(cols_zip.items()):\n",
    "        if val['type'] == 'oval':\n",
    "            x0 = val['left']+int(val['width']/2); a = int(val['width']/2)  # x center, half width                                       \n",
    "            y0 = val['top']+int(val['height']/2); b = int(val['height']/2)  # y center, half height                                      \n",
    "            x = np.linspace(0, neuron.shape[-2],neuron.shape[-1])  # x values of interest\n",
    "            y = np.linspace(0, neuron.shape[-2],neuron.shape[-1])[:,None]  # y values of interest, as a \"column\" array\n",
    "            column = ((x-x0)/a)**2 + ((y-y0)/b)**2 <= 1  # True for points inside the ellipse\n",
    "            column = column.astype(int)\n",
    "        elif val['type'] == 'freehand':\n",
    "            rois = np.array(list(zip(val['x'],val['y'])))\n",
    "            rois = rois.astype(int)\n",
    "            column = np.zeros([neuron.shape[-2],neuron.shape[-1]])\n",
    "            column = cv2.fillPoly(column, pts =[rois], color=(255,255,255))\n",
    "            column[column>0] = 1\n",
    "        col_filter = np.broadcast_to(column, neuron.shape)\n",
    "        # filter = filter.copy()\n",
    "        # filter -= filter.min()\n",
    "        # filter = filter/filter.max()\n",
    "        col_size = col_filter.sum()\n",
    "        nue_sub = col_filter * neuron # pixels occupied by neuron in the column\n",
    "        cols_occ[key] = nue_sub.sum()/col_size\n",
    "    cols_occ = pd.Series(cols_occ)\n",
    "    if normalize:\n",
    "        cols_occ = cols_occ/cols_occ.max()\n",
    "    if save == True:\n",
    "        if save_file == '':\n",
    "            save_file = \"col_occupancy.csv\"\n",
    "        csv_file = save_path+save_file\n",
    "        if '.csv' not in csv_file:\n",
    "            csv_file +='.csv'\n",
    "        cols_occ.to_csv(csv_file, sep=';')\n",
    "\n",
    "    return cols_occ"
   ]
  },
  {
   "cell_type": "code",
   "execution_count": null,
   "metadata": {},
   "outputs": [],
   "source": []
  },
  {
   "cell_type": "code",
   "execution_count": 34,
   "metadata": {},
   "outputs": [
    {
     "name": "stderr",
     "output_type": "stream",
     "text": [
      "100%|██████████| 21/21 [00:00<00:00, 55.69it/s]\n"
     ]
    }
   ],
   "source": [
    "T4_4b_Cols_Ai = col_occupancy(neuron, cols_zip, normalize=True, plot=True, save=True, save_path=save_path, save_file=save_name)"
   ]
  },
  {
   "cell_type": "code",
   "execution_count": 1,
   "metadata": {},
   "outputs": [],
   "source": [
    "def vect_alpha(vect, ref):\n",
    "    \"\"\"\n",
    "    This function takes a point cloud of (N,D) and calculates the angles between these vectors and the ref vector (tuple)\n",
    "    all vectors are assumed to start from center\n",
    "    return angles calculated as numpy (N,1)\n",
    "    \"\"\"\n",
    "    unit_vector_1 = vect/np.linalg.norm(vect)\n",
    "    unit_vector_2 = ref / np.linalg.norm(ref)\n",
    "    dot_product = np.dot(unit_vector_1, unit_vector_2)\n",
    "    angle = np.arccos(dot_product)\n",
    "    vect_deg = np.degrees(angle)\n",
    "    return vect_deg"
   ]
  },
  {
   "cell_type": "code",
   "execution_count": 148,
   "metadata": {},
   "outputs": [
    {
     "name": "stdout",
     "output_type": "stream",
     "text": [
      "120 130\n",
      "(30, -30) (0, 50) [ 0.70710678 -0.70710678] [0. 1.]\n",
      "2.356194490192345 135.0\n",
      "1\n",
      "81.51947863075975 166 35 36\n"
     ]
    },
    {
     "data": {
      "text/plain": [
       "<matplotlib.image.AxesImage at 0x7f8b112bd550>"
      ]
     },
     "execution_count": 148,
     "metadata": {},
     "output_type": "execute_result"
    },
    {
     "data": {
      "image/png": "[encoded data removed]",
      "text/plain": [
       "<Figure size 432x288 with 1 Axes>"
      ]
     },
     "metadata": {
      "needs_background": "light"
     },
     "output_type": "display_data"
    }
   ],
   "source": [
    "import numpy as np\n",
    "import matplotlib.pyplot as plt\n",
    "\n",
    "# Drawing the ellipse\n",
    "x0 = 80; a = 50  # x center, half width                                       \n",
    "y0 = 120; b = 100  # y center, half height \n",
    "x = np.linspace(0, 250,250)  # x values of interest\n",
    "y = np.linspace(0, 250,250)[:,None]  # y values of interest, as a \"ellipse\" array\n",
    "ellipse = ((x-x0)/a)**2 + ((y-y0)/b)**2 <= 1  # True for points inside the ellipse\n",
    "ellipse = ellipse.astype(int)\n",
    "\n",
    "#definning center, start (Sy,Sx) and point-of-interest (y,x)\n",
    "S_radian = np.radians(0)\n",
    "Sy, Sx = int(y0+b*np.sin(S_radian)), int(x0+a*np.cos(S_radian))\n",
    "print(Sy, Sx)\n",
    "y, x = 150, 50\n",
    "ellipse[y0,x0] = 5\n",
    "ellipse[Sy,Sx] = 5\n",
    "ellipse[y,x] = 5\n",
    "\n",
    "#getting angle (in radians) between start and point-of-interest\n",
    "vect, ref = (y-y0,x-x0), (Sy-y0,Sx-x0)\n",
    "unit_vector_1 = vect/np.linalg.norm(vect)\n",
    "unit_vector_2 = ref / np.linalg.norm(ref)\n",
    "print(vect, ref, unit_vector_1, unit_vector_2)\n",
    "dot_product = np.dot(unit_vector_1, unit_vector_2)\n",
    "p_radian = np.arccos(dot_product)\n",
    "p_deg = np.degrees(p_radian)\n",
    "# if vect[0]<0: ### this is a stupid solution to make the angle clockwise, but it works here\n",
    "#     p_deg = 360 - p_deg\n",
    "#     p_radian = np.radians(p_deg)\n",
    "print(p_radian, p_deg)\n",
    "\n",
    "### THE CORRECT POINTS ARE (FROM THE SHAPE and CONFIRMED BY ANGLE FROM START)\n",
    "Py2, Px2 = 166, 36 ###angle between (25-y0,25-x0) and (10,0) is 71.56 (measured online)\n",
    "print(ellipse[Py2,Px2])\n",
    "ellipse[Py2,Px2] = 10\n",
    "\n",
    "#finding the point based on the angle, center and diameters\n",
    "# Py, Px = int(y0+b*np.sin(p_radian)), int(x0+a*np.cos(p_radian))  THIS SOLUTION DIDN't WORK\n",
    "if vect[-1]<0:\n",
    "    Px1 = int(x0-a*b/(np.sqrt(b**2+a**2*np.tan(p_radian)**2))) \n",
    "elif vect[-1]>0:\n",
    "    Px1 = int(x0+a*b/(np.sqrt(b**2+a**2*np.tan(p_radian)**2))) \n",
    "#### Px1 is off by 1 only\n",
    "Py1 = y0+(Px1-x0)/np.arctan(p_radian)\n",
    "# Py1 = int(y0+a*b/(np.sqrt(a**2+b**2*np.tan(p_radian)**2)))\n",
    "print(Py1, Py2, Px1, Px2)\n",
    "plt.imshow(ellipse)\n"
   ]
  },
  {
   "cell_type": "code",
   "execution_count": 26,
   "metadata": {},
   "outputs": [
    {
     "data": {
      "text/plain": [
       "(23.71390676354104, 41.99007438041998, 1.3734007669450157, 78.69006752597979)"
      ]
     },
     "execution_count": 26,
     "metadata": {},
     "output_type": "execute_result"
    }
   ],
   "source": [
    "Px1 = x0+a*b/(np.sqrt(b**2+a**2*np.tan(p_radian)**2))\n",
    "Py1 = y0+a*b/(np.sqrt(a**2+b**2*np.tan(p_radian)**2))\n",
    "# Py1 = Px1*np.tan(p_radian)\n",
    "Px1, Py1, p_radian, p_deg"
   ]
  },
  {
   "cell_type": "code",
   "execution_count": null,
   "metadata": {},
   "outputs": [],
   "source": []
  },
  {
   "cell_type": "code",
   "execution_count": 123,
   "metadata": {},
   "outputs": [
    {
     "name": "stdout",
     "output_type": "stream",
     "text": [
      "40 30\n"
     ]
    },
    {
     "data": {
      "text/plain": [
       "<matplotlib.image.AxesImage at 0x7ff221156d60>"
      ]
     },
     "execution_count": 123,
     "metadata": {},
     "output_type": "execute_result"
    },
    {
     "data": {
      "image/png": "[encoded data removed]",
      "text/plain": [
       "<Figure size 432x288 with 1 Axes>"
      ]
     },
     "metadata": {
      "needs_background": "light"
     },
     "output_type": "display_data"
    }
   ],
   "source": [
    "import numpy as np\n",
    "import matplotlib.pyplot as plt\n",
    "x0 = 0+int(20); a = int(20/2)  # x center, half width                                       \n",
    "y0 = 0+int(40); b = int(40/2)  # y center, half height                                      \n",
    "x = np.linspace(0, 100,100)  # x values of interest\n",
    "y = np.linspace(0, 100,100)[:,None]  # y values of interest, as a \"column\" array\n",
    "column = ((x-x0)/a)**2 + ((y-y0)/b)**2 <= 1  # True for points inside the ellipse\n",
    "column = column.astype(int)\n",
    "column[45,28] = 5\n",
    "column[y0,x0] = 5\n",
    "y, x = 45, 28\n",
    "R_radian = np.radians(0)\n",
    "Ry, Rx = int(y0+b*np.sin(R_radian)), int(x0+a*np.cos(R_radian))\n",
    "print(Ry,Rx)\n",
    "column[Ry,Rx] = 5\n",
    "# column[60,10] = 5\n",
    "plt.imshow(column)"
   ]
  },
  {
   "cell_type": "code",
   "execution_count": 126,
   "metadata": {},
   "outputs": [
    {
     "data": {
      "text/plain": [
       "(40, 30)"
      ]
     },
     "execution_count": 126,
     "metadata": {},
     "output_type": "execute_result"
    }
   ],
   "source": [
    "Ry,Rx"
   ]
  },
  {
   "cell_type": "code",
   "execution_count": 118,
   "metadata": {},
   "outputs": [
    {
     "data": {
      "text/plain": [
       "(32.005383208083494, 0.5585993153435624)"
      ]
     },
     "execution_count": 118,
     "metadata": {},
     "output_type": "execute_result"
    }
   ],
   "source": [
    "vect = (y-y0,x-x0)\n",
    "angle = vect_alpha(vect, (Ry-y0,Rx-x0))\n",
    "P_radian = np.radians(angle)\n",
    "angle, P_radian"
   ]
  },
  {
   "cell_type": "code",
   "execution_count": 122,
   "metadata": {},
   "outputs": [
    {
     "data": {
      "text/plain": [
       "<matplotlib.image.AxesImage at 0x7ff1c0216ee0>"
      ]
     },
     "execution_count": 122,
     "metadata": {},
     "output_type": "execute_result"
    },
    {
     "data": {
      "image/png": "[encoded data removed]",
      "text/plain": [
       "<Figure size 432x288 with 1 Axes>"
      ]
     },
     "metadata": {
      "needs_background": "light"
     },
     "output_type": "display_data"
    }
   ],
   "source": [
    "angle = 18\n",
    "P_radian = np.radians(angle)\n",
    "Py, Px = int(y0+b*np.sin(P_radian)), int(x0+a*np.cos(P_radian))\n",
    "# print(Ry,Rx)\n",
    "column[Py,Px] = 5\n",
    "plt.imshow(column)"
   ]
  },
  {
   "cell_type": "code",
   "execution_count": 49,
   "metadata": {},
   "outputs": [
    {
     "data": {
      "text/plain": [
       "1.5707963267948966"
      ]
     },
     "execution_count": 49,
     "metadata": {},
     "output_type": "execute_result"
    }
   ],
   "source": [
    "np.radians(90)"
   ]
  },
  {
   "cell_type": "code",
   "execution_count": null,
   "metadata": {},
   "outputs": [],
   "source": [
    "rois = np.array(list(zip(cols_zip['2']['x'],cols_zip['2']['y'])))\n",
    "rois = rois.astype(int)\n",
    "test = np.zeros([1024,1024])\n",
    "test = cv2.fillPoly(test, pts =[rois], color=(255,255,255))\n",
    "plt.imshow(test)"
   ]
  },
  {
   "cell_type": "code",
   "execution_count": 68,
   "metadata": {},
   "outputs": [],
   "source": [
    "def col_occupancy(neuron, cols, plot=True, save=True, save_path='', save_file=''):\n",
    "    cols_hist = {}\n",
    "    ind = 0\n",
    "    for col in tqdm(cols, desc='calculating Col occupancy', leave=False):\n",
    "        ind += 1\n",
    "        cols_hist['col_'+str(ind)] = []\n",
    "        filter = np.broadcast_to(col, neuron.shape)\n",
    "        filter = filter.copy()\n",
    "        filter -= filter.min()\n",
    "        filter = filter/filter.max()\n",
    "        col_size = filter.sum()\n",
    "        nue_sub = filter * neuron # pixels occupied by neuron in the column\n",
    "        # for t in tqdm(nue_sub, leave=False):\n",
    "        cols_hist['col_'+str(ind)].append(nue_sub.sum()/col_size)\n",
    "    #convert the results to dataframe\n",
    "    occupancy = pd.DataFrame(cols_hist)  \n",
    "    # if save_path != '' and save_path[-1] != '/':\n",
    "    #     save_path += '/'\n",
    "    # if plot:\n",
    "    #     fig_name = save_path+save_file+'_col_occupancy.pdf'\n",
    "    #     #ploting the results\n",
    "    #     plt.figure(figsize=(8, 6), dpi=80)\n",
    "    #     cols = list(cols_hist.keys())\n",
    "    #     for col in cols:\n",
    "    #         plt.plot(occupancy.timepoints, occupancy[col], label=col)\n",
    "    #     plt.legend(bbox_to_anchor=(1.05, 1), loc=2, borderaxespad=0.)\n",
    "    #     plt.title('Column Occupancy')\n",
    "    #     plt.ylabel(\"\\n\".join(wrap('Column Occupancy [a.u.]',30)))\n",
    "    #     plt.xlabel(\"Hours After Puparium Formation [h]\")\n",
    "    #     plt.savefig(fig_name, bbox_inches='tight')\n",
    "    \n",
    "    # if save == True:\n",
    "    #     if save_file == '':\n",
    "    #         save_file = \"col_occupancy.csv\"\n",
    "    #     csv_file = save_path+save_file\n",
    "    #     if '.csv' not in csv_file:\n",
    "    #         csv_file +='.csv'\n",
    "    #     occupancy.to_csv(csv_file, sep=';')\n",
    "    return occupancy"
   ]
  },
  {
   "cell_type": "code",
   "execution_count": 69,
   "metadata": {},
   "outputs": [
    {
     "name": "stderr",
     "output_type": "stream",
     "text": [
      "calculating Col occupancy:  95%|█████████▌| 19/20 [00:06<00:00,  3.23it/s]/var/folders/5d/tj6rj8cn7_xdplpgkz202g5rnq_4v2/T/ipykernel_30202/3240750036.py:10: RuntimeWarning: invalid value encountered in true_divide\n",
      "  filter = filter/filter.max()\n",
      "                                                                          \r"
     ]
    }
   ],
   "source": [
    "T4_4b_Cols_Ai = col_occupancy(neuron, Cols, plot=True, save=True, save_path='', save_file='')"
   ]
  },
  {
   "cell_type": "code",
   "execution_count": 70,
   "metadata": {},
   "outputs": [
    {
     "data": {
      "text/html": [
       "<div>\n",
       "<style scoped>\n",
       "    .dataframe tbody tr th:only-of-type {\n",
       "        vertical-align: middle;\n",
       "    }\n",
       "\n",
       "    .dataframe tbody tr th {\n",
       "        vertical-align: top;\n",
       "    }\n",
       "\n",
       "    .dataframe thead th {\n",
       "        text-align: right;\n",
       "    }\n",
       "</style>\n",
       "<table border=\"1\" class=\"dataframe\">\n",
       "  <thead>\n",
       "    <tr style=\"text-align: right;\">\n",
       "      <th></th>\n",
       "      <th>col_1</th>\n",
       "      <th>col_2</th>\n",
       "      <th>col_3</th>\n",
       "      <th>col_4</th>\n",
       "      <th>col_5</th>\n",
       "      <th>col_6</th>\n",
       "      <th>col_7</th>\n",
       "      <th>col_8</th>\n",
       "      <th>col_9</th>\n",
       "      <th>col_10</th>\n",
       "      <th>col_11</th>\n",
       "      <th>col_12</th>\n",
       "      <th>col_13</th>\n",
       "      <th>col_14</th>\n",
       "      <th>col_15</th>\n",
       "      <th>col_16</th>\n",
       "      <th>col_17</th>\n",
       "      <th>col_18</th>\n",
       "      <th>col_19</th>\n",
       "      <th>col_20</th>\n",
       "    </tr>\n",
       "  </thead>\n",
       "  <tbody>\n",
       "    <tr>\n",
       "      <th>0</th>\n",
       "      <td>0.985699</td>\n",
       "      <td>0.969371</td>\n",
       "      <td>0.980607</td>\n",
       "      <td>0.960109</td>\n",
       "      <td>0.980025</td>\n",
       "      <td>0.935903</td>\n",
       "      <td>0.940126</td>\n",
       "      <td>0.899597</td>\n",
       "      <td>0.893014</td>\n",
       "      <td>0.957344</td>\n",
       "      <td>0.870015</td>\n",
       "      <td>0.875321</td>\n",
       "      <td>0.905705</td>\n",
       "      <td>0.927187</td>\n",
       "      <td>0.931213</td>\n",
       "      <td>0.933284</td>\n",
       "      <td>0.93046</td>\n",
       "      <td>0.935005</td>\n",
       "      <td>0.922964</td>\n",
       "      <td>NaN</td>\n",
       "    </tr>\n",
       "  </tbody>\n",
       "</table>\n",
       "</div>"
      ],
      "text/plain": [
       "      col_1     col_2     col_3     col_4     col_5     col_6     col_7  \\\n",
       "0  0.985699  0.969371  0.980607  0.960109  0.980025  0.935903  0.940126   \n",
       "\n",
       "      col_8     col_9    col_10    col_11    col_12    col_13    col_14  \\\n",
       "0  0.899597  0.893014  0.957344  0.870015  0.875321  0.905705  0.927187   \n",
       "\n",
       "     col_15    col_16   col_17    col_18    col_19  col_20  \n",
       "0  0.931213  0.933284  0.93046  0.935005  0.922964     NaN  "
      ]
     },
     "execution_count": 70,
     "metadata": {},
     "output_type": "execute_result"
    }
   ],
   "source": [
    "T4_4b_Cols_Ai"
   ]
  },
  {
   "cell_type": "code",
   "execution_count": null,
   "metadata": {},
   "outputs": [],
   "source": []
  },
  {
   "cell_type": "code",
   "execution_count": null,
   "metadata": {},
   "outputs": [],
   "source": []
  },
  {
   "cell_type": "code",
   "execution_count": 81,
   "metadata": {},
   "outputs": [
    {
     "data": {
      "text/plain": [
       "<matplotlib.image.AxesImage at 0x7f87417e0fd0>"
      ]
     },
     "execution_count": 81,
     "metadata": {},
     "output_type": "execute_result"
    },
    {
     "data": {
      "image/png": "[encoded data removed]",
      "text/plain": [
       "<Figure size 432x288 with 1 Axes>"
      ]
     },
     "metadata": {
      "needs_background": "light"
     },
     "output_type": "display_data"
    }
   ],
   "source": [
    "import numpy as np\n",
    "from matplotlib import pyplot\n",
    "\n",
    "x0 = 376+int(73/2); a = int(73/2)  # x center, half width                                       \n",
    "y0 = 537+int(92/2); b = int(92/2)  # y center, half height                                      \n",
    "x = np.linspace(0, 1024, 1024)  # x values of interest\n",
    "y = np.linspace(0, 1024, 1024)[:,None]  # y values of interest, as a \"column\" array\n",
    "ellipse = ((x-x0)/a)**2 + ((y-y0)/b)**2 <= 1  # True for points inside the ellipse\n",
    "\n",
    "pyplot.imshow(ellipse)"
   ]
  },
  {
   "cell_type": "code",
   "execution_count": 50,
   "metadata": {},
   "outputs": [
    {
     "data": {
      "text/plain": [
       "1"
      ]
     },
     "execution_count": 50,
     "metadata": {},
     "output_type": "execute_result"
    }
   ],
   "source": [
    "neuron[neuron>0] = 1\n",
    "neuron.max()"
   ]
  },
  {
   "cell_type": "code",
   "execution_count": 53,
   "metadata": {},
   "outputs": [
    {
     "data": {
      "text/plain": [
       "True"
      ]
     },
     "execution_count": 53,
     "metadata": {},
     "output_type": "execute_result"
    }
   ],
   "source": [
    "filter = np.broadcast_to(ellipse, neuron.shape)\n",
    "filter = filter.copy()\n",
    "filter.max()"
   ]
  },
  {
   "cell_type": "code",
   "execution_count": 55,
   "metadata": {},
   "outputs": [],
   "source": [
    "filter = np.broadcast_to(ellipse, neuron.shape)\n",
    "filter = filter.copy()\n",
    "filter[filter==True] = 1\n",
    "# filter -= filter.min()\n",
    "# filter = filter/filter.max()\n",
    "col_size = filter.sum()\n",
    "nue_sub = filter * neuron # pixels occupied by neuron in the column"
   ]
  },
  {
   "cell_type": "code",
   "execution_count": 57,
   "metadata": {},
   "outputs": [
    {
     "data": {
      "text/plain": [
       "(51, 1024, 1024)"
      ]
     },
     "execution_count": 57,
     "metadata": {},
     "output_type": "execute_result"
    }
   ],
   "source": [
    "nue_sub.shape"
   ]
  },
  {
   "cell_type": "code",
   "execution_count": 59,
   "metadata": {},
   "outputs": [
    {
     "data": {
      "text/plain": [
       "<matplotlib.image.AxesImage at 0x7f8768ebadc0>"
      ]
     },
     "execution_count": 59,
     "metadata": {},
     "output_type": "execute_result"
    },
    {
     "data": {
      "image/png": "[encoded data removed]",
      "text/plain": [
       "<Figure size 432x288 with 1 Axes>"
      ]
     },
     "metadata": {
      "needs_background": "light"
     },
     "output_type": "display_data"
    }
   ],
   "source": [
    "plt.imshow(nue_sub[30])"
   ]
  },
  {
   "cell_type": "code",
   "execution_count": 49,
   "metadata": {},
   "outputs": [
    {
     "data": {
      "text/plain": [
       "42730066"
      ]
     },
     "execution_count": 49,
     "metadata": {},
     "output_type": "execute_result"
    }
   ],
   "source": [
    "neuron[neuron>0] = 1\n",
    "test = neuron.sum()\n",
    "test = test*ellipse\n",
    "test.max()"
   ]
  },
  {
   "cell_type": "code",
   "execution_count": 45,
   "metadata": {},
   "outputs": [
    {
     "ename": "TypeError",
     "evalue": "'numpy.uint64' object does not support item assignment",
     "output_type": "error",
     "traceback": [
      "\u001b[0;31m---------------------------------------------------------------------------\u001b[0m",
      "\u001b[0;31mTypeError\u001b[0m                                 Traceback (most recent call last)",
      "\u001b[0;32m/var/folders/5d/tj6rj8cn7_xdplpgkz202g5rnq_4v2/T/ipykernel_30202/3691075894.py\u001b[0m in \u001b[0;36m<module>\u001b[0;34m\u001b[0m\n\u001b[1;32m      1\u001b[0m \u001b[0mtest\u001b[0m \u001b[0;34m=\u001b[0m \u001b[0mneuron\u001b[0m\u001b[0;34m.\u001b[0m\u001b[0msum\u001b[0m\u001b[0;34m(\u001b[0m\u001b[0;34m)\u001b[0m\u001b[0;34m\u001b[0m\u001b[0;34m\u001b[0m\u001b[0m\n\u001b[0;32m----> 2\u001b[0;31m \u001b[0mtest\u001b[0m\u001b[0;34m[\u001b[0m\u001b[0mellipse\u001b[0m\u001b[0;34m==\u001b[0m\u001b[0;32mFalse\u001b[0m\u001b[0;34m]\u001b[0m \u001b[0;34m=\u001b[0m \u001b[0;36m0\u001b[0m\u001b[0;34m\u001b[0m\u001b[0;34m\u001b[0m\u001b[0m\n\u001b[0m\u001b[1;32m      3\u001b[0m \u001b[0mplt\u001b[0m\u001b[0;34m.\u001b[0m\u001b[0mimshow\u001b[0m\u001b[0;34m(\u001b[0m\u001b[0mtest\u001b[0m\u001b[0;34m)\u001b[0m\u001b[0;34m\u001b[0m\u001b[0;34m\u001b[0m\u001b[0m\n",
      "\u001b[0;31mTypeError\u001b[0m: 'numpy.uint64' object does not support item assignment"
     ]
    }
   ],
   "source": [
    "test = neuron.sum()\n",
    "test[ellipse==False] = 0\n",
    "plt.imshow(test)"
   ]
  },
  {
   "cell_type": "code",
   "execution_count": 33,
   "metadata": {},
   "outputs": [
    {
     "data": {
      "text/plain": [
       "<matplotlib.image.AxesImage at 0x7f8768b21a00>"
      ]
     },
     "execution_count": 33,
     "metadata": {},
     "output_type": "execute_result"
    },
    {
     "data": {
      "image/png": "[encoded data removed]",
      "text/plain": [
       "<Figure size 432x288 with 1 Axes>"
      ]
     },
     "metadata": {
      "needs_background": "light"
     },
     "output_type": "display_data"
    }
   ],
   "source": [
    "import numpy as np\n",
    "from matplotlib import pyplot\n",
    "\n",
    "x0 = 4; a = 5  # x center, half width                                       \n",
    "y0 = 2; b = 3  # y center, half height                                      \n",
    "x = np.linspace(-10, 10, 100)  # x values of interest\n",
    "y = np.linspace(-5, 5, 100)[:,None]  # y values of interest, as a \"column\" array\n",
    "ellipse = ((x-x0)/a)**2 + ((y-y0)/b)**2 <= 1  # True for points inside the ellipse\n",
    "\n",
    "pyplot.imshow(ellipse)"
   ]
  },
  {
   "cell_type": "code",
   "execution_count": 27,
   "metadata": {},
   "outputs": [
    {
     "data": {
      "text/plain": [
       "OrderedDict([('0047-0583-0412',\n",
       "              {'type': 'oval',\n",
       "               'left': 376,\n",
       "               'top': 537,\n",
       "               'width': 73,\n",
       "               'height': 92,\n",
       "               'name': '0047-0583-0412',\n",
       "               'position': {'channel': 0, 'slice': 24, 'frame': 1}}),\n",
       "             ('0047-0479-0407',\n",
       "              {'type': 'oval',\n",
       "               'left': 371,\n",
       "               'top': 433,\n",
       "               'width': 73,\n",
       "               'height': 92,\n",
       "               'name': '0047-0479-0407',\n",
       "               'position': {'channel': 0, 'slice': 24, 'frame': 1}}),\n",
       "             ('0047-0526-0476',\n",
       "              {'type': 'oval',\n",
       "               'left': 440,\n",
       "               'top': 480,\n",
       "               'width': 73,\n",
       "               'height': 92,\n",
       "               'name': '0047-0526-0476',\n",
       "               'position': {'channel': 0, 'slice': 24, 'frame': 1}}),\n",
       "             ('0047-0627-0507',\n",
       "              {'type': 'oval',\n",
       "               'left': 471,\n",
       "               'top': 581,\n",
       "               'width': 73,\n",
       "               'height': 92,\n",
       "               'name': '0047-0627-0507',\n",
       "               'position': {'channel': 0, 'slice': 24, 'frame': 1}}),\n",
       "             ('0047-0672-0443',\n",
       "              {'type': 'oval',\n",
       "               'left': 407,\n",
       "               'top': 626,\n",
       "               'width': 73,\n",
       "               'height': 92,\n",
       "               'name': '0047-0672-0443',\n",
       "               'position': {'channel': 0, 'slice': 24, 'frame': 1}}),\n",
       "             ('0047-0631-0348',\n",
       "              {'type': 'oval',\n",
       "               'left': 312,\n",
       "               'top': 585,\n",
       "               'width': 73,\n",
       "               'height': 92,\n",
       "               'name': '0047-0631-0348',\n",
       "               'position': {'channel': 0, 'slice': 24, 'frame': 1}}),\n",
       "             ('0047-0525-0341',\n",
       "              {'type': 'oval',\n",
       "               'left': 305,\n",
       "               'top': 479,\n",
       "               'width': 73,\n",
       "               'height': 92,\n",
       "               'name': '0047-0525-0341',\n",
       "               'position': {'channel': 0, 'slice': 24, 'frame': 1}}),\n",
       "             ('0047-0417-0344',\n",
       "              {'type': 'oval',\n",
       "               'left': 308,\n",
       "               'top': 371,\n",
       "               'width': 73,\n",
       "               'height': 92,\n",
       "               'name': '0047-0417-0344',\n",
       "               'position': {'channel': 0, 'slice': 24, 'frame': 1}}),\n",
       "             ('0047-0373-0414',\n",
       "              {'type': 'oval',\n",
       "               'left': 378,\n",
       "               'top': 327,\n",
       "               'width': 73,\n",
       "               'height': 92,\n",
       "               'name': '0047-0373-0414',\n",
       "               'position': {'channel': 0, 'slice': 24, 'frame': 1}}),\n",
       "             ('0047-0426-0479',\n",
       "              {'type': 'oval',\n",
       "               'left': 443,\n",
       "               'top': 380,\n",
       "               'width': 73,\n",
       "               'height': 92,\n",
       "               'name': '0047-0426-0479',\n",
       "               'position': {'channel': 0, 'slice': 24, 'frame': 1}}),\n",
       "             ('0047-0477-0548',\n",
       "              {'type': 'oval',\n",
       "               'left': 512,\n",
       "               'top': 431,\n",
       "               'width': 73,\n",
       "               'height': 92,\n",
       "               'name': '0047-0477-0548',\n",
       "               'position': {'channel': 0, 'slice': 24, 'frame': 1}}),\n",
       "             ('0047-0569-0574',\n",
       "              {'type': 'oval',\n",
       "               'left': 538,\n",
       "               'top': 523,\n",
       "               'width': 73,\n",
       "               'height': 92,\n",
       "               'name': '0047-0569-0574',\n",
       "               'position': {'channel': 0, 'slice': 24, 'frame': 1}}),\n",
       "             ('0047-0672-0577',\n",
       "              {'type': 'oval',\n",
       "               'left': 541,\n",
       "               'top': 626,\n",
       "               'width': 73,\n",
       "               'height': 92,\n",
       "               'name': '0047-0672-0577',\n",
       "               'position': {'channel': 0, 'slice': 24, 'frame': 1}}),\n",
       "             ('0047-0727-0508',\n",
       "              {'type': 'oval',\n",
       "               'left': 472,\n",
       "               'top': 681,\n",
       "               'width': 73,\n",
       "               'height': 92,\n",
       "               'name': '0047-0727-0508',\n",
       "               'position': {'channel': 0, 'slice': 24, 'frame': 1}}),\n",
       "             ('0047-0770-0436',\n",
       "              {'type': 'oval',\n",
       "               'left': 400,\n",
       "               'top': 724,\n",
       "               'width': 73,\n",
       "               'height': 92,\n",
       "               'name': '0047-0770-0436',\n",
       "               'position': {'channel': 0, 'slice': 24, 'frame': 1}}),\n",
       "             ('0047-0726-0368',\n",
       "              {'type': 'oval',\n",
       "               'left': 332,\n",
       "               'top': 680,\n",
       "               'width': 73,\n",
       "               'height': 92,\n",
       "               'name': '0047-0726-0368',\n",
       "               'position': {'channel': 0, 'slice': 24, 'frame': 1}}),\n",
       "             ('0047-0670-0274',\n",
       "              {'type': 'oval',\n",
       "               'left': 238,\n",
       "               'top': 624,\n",
       "               'width': 73,\n",
       "               'height': 92,\n",
       "               'name': '0047-0670-0274',\n",
       "               'position': {'channel': 0, 'slice': 24, 'frame': 1}}),\n",
       "             ('0047-0563-0265',\n",
       "              {'type': 'oval',\n",
       "               'left': 229,\n",
       "               'top': 517,\n",
       "               'width': 73,\n",
       "               'height': 92,\n",
       "               'name': '0047-0563-0265',\n",
       "               'position': {'channel': 0, 'slice': 24, 'frame': 1}}),\n",
       "             ('0047-0459-0270',\n",
       "              {'type': 'oval',\n",
       "               'left': 234,\n",
       "               'top': 413,\n",
       "               'width': 73,\n",
       "               'height': 92,\n",
       "               'name': '0047-0459-0270',\n",
       "               'position': {'channel': 0, 'slice': 24, 'frame': 1}})])"
      ]
     },
     "execution_count": 27,
     "metadata": {},
     "output_type": "execute_result"
    }
   ],
   "source": [
    "cols_zip"
   ]
  },
  {
   "cell_type": "code",
   "execution_count": 17,
   "metadata": {},
   "outputs": [
    {
     "data": {
      "text/plain": [
       "((51, 1024, 1024), (512, 512))"
      ]
     },
     "execution_count": 17,
     "metadata": {},
     "output_type": "execute_result"
    }
   ],
   "source": [
    "neuron.shape, Cols.shape"
   ]
  },
  {
   "cell_type": "code",
   "execution_count": null,
   "metadata": {},
   "outputs": [],
   "source": [
    "def col_occupancy(neuron, cols, nor_fact=1, start_t=36, plot=True, save=True, save_path='', save_file=''):\n",
    "    cols_hist = {}\n",
    "    ind = 0\n",
    "    for col in tqdm(rang\n",
    "    for col in tqdm(cols, desc='calculating Col occupancy', leave=False):\n",
    "        ind += 1\n",
    "        cols_hist['col_'+str(ind)] = []\n",
    "        filter = np.broadcast_to(col, neuron.shape)\n",
    "        filter = filter.copy()\n",
    "        filter -= filter.min()\n",
    "        filter = filter/filter.max()\n",
    "        col_size = filter.sum()\n",
    "        nue_sub = filter * neuron # pixels occupied by neuron in the column\n",
    "        for t in tqdm(nue_sub, leave=False):\n",
    "            cols_hist['col_'+str(ind)].append(t.sum()/col_size)\n",
    "    #convert the results to dataframe\n",
    "    occupancy = pd.DataFrame(cols_hist)  \n",
    "    # definning timepoints\n",
    "    T_length = np.arange(len(cols_hist[list(cols_hist.keys())[0]]))\n",
    "    occupancy['timepoints'] = [start_t+(i*0.25) for i in range(0,len(occupancy.index))] \n",
    "    if save_path != '' and save_path[-1] != '/':\n",
    "        save_path += '/'\n",
    "    if plot:\n",
    "        fig_name = save_path+save_file+'_col_occupancy.pdf'\n",
    "        #ploting the results\n",
    "        plt.figure(figsize=(8, 6), dpi=80)\n",
    "        cols = list(cols_hist.keys())\n",
    "        for col in cols:\n",
    "            plt.plot(occupancy.timepoints, occupancy[col], label=col)\n",
    "        plt.legend(bbox_to_anchor=(1.05, 1), loc=2, borderaxespad=0.)\n",
    "        plt.title('Column Occupancy')\n",
    "        plt.ylabel(\"\\n\".join(wrap('Column Occupancy [a.u.]',30)))\n",
    "        plt.xlabel(\"Hours After Puparium Formation [h]\")\n",
    "        plt.savefig(fig_name, bbox_inches='tight')\n",
    "    \n",
    "    if save == True:\n",
    "        if save_file == '':\n",
    "            save_file = \"col_occupancy.csv\"\n",
    "        csv_file = save_path+save_file\n",
    "        if '.csv' not in csv_file:\n",
    "            csv_file +='.csv'\n",
    "        occupancy.to_csv(csv_file, sep=';')\n",
    "    return occupancy"
   ]
  }
 ],
 "metadata": {
  "interpreter": {
   "hash": "3558778624732e82e76d08d0e1529767d5d68faabf4350c6a5545e8ecf2497ca"
  },
  "kernelspec": {
   "display_name": "Python 3.9.6 ('growth')",
   "language": "python",
   "name": "python3"
  },
  "language_info": {
   "codemirror_mode": {
    "name": "ipython",
    "version": 3
   },
   "file_extension": ".py",
   "mimetype": "text/x-python",
   "name": "python",
   "nbconvert_exporter": "python",
   "pygments_lexer": "ipython3",
   "version": "3.9.6"
  },
  "orig_nbformat": 4
 },
 "nbformat": 4,
 "nbformat_minor": 2
}
