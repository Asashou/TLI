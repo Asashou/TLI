{
 "cells": [
  {
   "cell_type": "code",
   "execution_count": 8,
   "metadata": {},
   "outputs": [],
   "source": [
    "from skimage import data, exposure, filters, io, segmentation\n",
    "import matplotlib.pyplot as plt\n",
    "import numpy as np\n",
    "import pandas as pd\n",
    "import seaborn as sns\n",
    "import tifffile as tif\n",
    "sns.set()\n",
    "from skimage.filters import gaussian, threshold_otsu\n",
    "%matplotlib inline"
   ]
  },
  {
   "cell_type": "code",
   "execution_count": 9,
   "metadata": {},
   "outputs": [],
   "source": [
    "def Vector(x, y, image_2D, savepath):\n",
    "    \n",
    "    ## Import picture as array\n",
    "    \n",
    "    # im = io.imread(loadpath)\n",
    "    im = image_2D\n",
    "    \n",
    "    ## Set dendritic branching point(dbp) as the maximum value\n",
    "    \n",
    "    im[y, x] = 255\n",
    "    \n",
    "    ## Save image\n",
    "    \n",
    "    io.imsave('%s.png' % savepath, im)\n",
    "    \n",
    "    ## Define dbp with the input index (y, x)\n",
    "\n",
    "    dbp = np.array([y, x])\n",
    "    \n",
    "    ## Retrieve the index of all pixel values above a threshold\n",
    "    \n",
    "    # pixel_co = np.argwhere(im > np.quantile(im, 0.90))\n",
    "    pixel_co = np.argwhere(im)        \n",
    "    \n",
    "    \n",
    "    ## Substract the dbp index from every pixel to calculate the vectors\n",
    "    \n",
    "    norm_pixel_values = pixel_co - dbp\n",
    "    \n",
    "    norm_pixel_values[:,0]*= -1\n",
    "   \n",
    "    ## Find vector length to every pixel\n",
    "    \n",
    "    vec_length = np.linalg.norm(norm_pixel_values, axis=1)\n",
    "\n",
    "    ## Delete dbp index\n",
    "    \n",
    "    dbp_index = np.argwhere(vec_length == 0)\n",
    "    \n",
    "    norm_pixel_values = np.delete(norm_pixel_values, (dbp_index), axis=0)\n",
    "    \n",
    "    vec_length = np.delete(vec_length, dbp_index)\n",
    "\n",
    "    \n",
    "    ## Normalize vector length \n",
    "    \n",
    "    norm_vectors = norm_pixel_values / vec_length[:, np.newaxis]\n",
    "    \n",
    "    ## Add all vectors together \n",
    "    \n",
    "    ori_vec = [norm_vectors.sum(axis=0)]\n",
    "    \n",
    "    ## Calculate length of the sum vector\n",
    "    \n",
    "    ori_vec_length = np.linalg.norm(ori_vec)\n",
    "    \n",
    "    ## Calculate normalized vector in the same orientation as sum vector\n",
    "    \n",
    "    norm_ori_vec = ori_vec / ori_vec_length  \n",
    "    num_pixel = norm_pixel_values.shape[0]\n",
    "\n",
    "    ## Calculate DGI\n",
    "    \n",
    "    DGI = np.divide(ori_vec_length, num_pixel)\n",
    "    \n",
    "    ## Plot the vector starting at the dbp in the image together with the used pixels as a scatterplot\n",
    "    \n",
    "    ax = plt.subplot(111)\n",
    "    \n",
    "    ax.scatter( norm_pixel_values[:, 1], norm_pixel_values[:, 0], marker = '.', alpha = 0.5)\n",
    "    ax.arrow( 0, 0, 50*norm_ori_vec[0, 1], 50*norm_ori_vec[0,0], width = 1, head_width= 5, head_length=5, fc='k', ec='k')\n",
    "    ax.axis('equal')\n",
    "    plt.savefig('%s_scatter.png' % savepath, dpi = 1000)\n",
    "    \n",
    "    \n",
    "    plt.show()\n",
    "    \n",
    "    ## Save Data to csv file\n",
    "    \n",
    "    np.savetxt(\"%s.csv\" % savepath, norm_vectors, fmt=\"%.10f\", delimiter=',')\n",
    "    print(num_pixel)\n",
    "    return(norm_ori_vec, norm_vectors, DGI, num_pixel)\n",
    "            "
   ]
  },
  {
   "cell_type": "code",
   "execution_count": 68,
   "metadata": {},
   "outputs": [],
   "source": [
    "def mask_image(volume, return_mask = False ,sig = 1):\n",
    "    \"\"\"\n",
    "    Create a binary mask from a 2 or 3-dimensional np.array.\n",
    "    Method normalizes the image, converts it to greyscale, then applies gaussian bluring (kernel width set to 2 by default, can be changed with sig parameter).\n",
    "    This is followed by thresholding the image using the isodata method and returning a binary mask. \n",
    "    Parameters\n",
    "    ----------\n",
    "    image           np.array\n",
    "                    np.array of an image (2 or 3D)\n",
    "    return_mask     bool\n",
    "                    If False (default), the mask is subtracted from the original image. If True, a boolian array is returned, of the shape of the original image, as a mask. \n",
    "    sig             Int\n",
    "                    kernel width for gaussian smoothing. set to 2 by default.\n",
    "    Returns\n",
    "    -------\n",
    "    mask            np.array\n",
    "                    Returns a binary np.array of equal shape to the original image, labeling the masked area.\n",
    "    \"\"\"\n",
    "    # for i in tqdm(range(1), desc = '3D_mask'):\n",
    "    image = volume.copy()\n",
    "    image = image.astype('float32')\n",
    "    # normalize to the range 0-1\n",
    "    image -= image.min()\n",
    "    image /= image.max()\n",
    "    # blur and grayscale before thresholding\n",
    "    blur = gaussian(image, sigma=sig)\n",
    "    # perform adaptive thresholding\n",
    "    t = threshold_otsu(blur)\n",
    "    mask = blur > t\n",
    "    # convert to bool\n",
    "    mask = np.array(mask, dtype=bool)\n",
    "    if return_mask == False:\n",
    "        image[mask==False] = 0\n",
    "        mask = image\n",
    "    return mask"
   ]
  },
  {
   "cell_type": "code",
   "execution_count": 137,
   "metadata": {},
   "outputs": [
    {
     "data": {
      "text/plain": [
       "(469, 299)"
      ]
     },
     "execution_count": 137,
     "metadata": {},
     "output_type": "execute_result"
    }
   ],
   "source": [
    "loadpath = '/Users/aichah/Desktop/TLI/data/300322_B4O2D1_layer4_x86_y350.tif'\n",
    "image_2D = tif.imread(loadpath)\n",
    "image_2D.shape"
   ]
  },
  {
   "cell_type": "code",
   "execution_count": 138,
   "metadata": {},
   "outputs": [],
   "source": [
    "# image_2D = image_2D[85,:,1]\n",
    "# image_2D = image_2D.max(axis=0)"
   ]
  },
  {
   "cell_type": "code",
   "execution_count": 139,
   "metadata": {},
   "outputs": [
    {
     "data": {
      "text/plain": [
       "(0, 255)"
      ]
     },
     "execution_count": 139,
     "metadata": {},
     "output_type": "execute_result"
    }
   ],
   "source": [
    "image_2D.min(), image_2D.max()"
   ]
  },
  {
   "cell_type": "code",
   "execution_count": 140,
   "metadata": {},
   "outputs": [],
   "source": [
    "mask = mask_image(image_2D, return_mask = False ,sig = 1)"
   ]
  },
  {
   "cell_type": "code",
   "execution_count": 141,
   "metadata": {},
   "outputs": [
    {
     "data": {
      "text/plain": [
       "<matplotlib.image.AxesImage at 0x7fe109e14400>"
      ]
     },
     "execution_count": 141,
     "metadata": {},
     "output_type": "execute_result"
    },
    {
     "data": {
      "image/png": "[encoded data removed]",
      "text/plain": [
       "<Figure size 432x288 with 1 Axes>"
      ]
     },
     "metadata": {
      "needs_background": "light"
     },
     "output_type": "display_data"
    }
   ],
   "source": [
    "plt.imshow(mask)"
   ]
  },
  {
   "cell_type": "code",
   "execution_count": 142,
   "metadata": {
    "scrolled": false
   },
   "outputs": [
    {
     "name": "stderr",
     "output_type": "stream",
     "text": [
      "Lossy conversion from float32 to uint8. Range [0.0, 255.0]. Convert image to uint8 prior to saving to suppress this warning.\n"
     ]
    },
    {
     "data": {
      "image/png": "[encoded data removed]",
      "text/plain": [
       "<Figure size 432x288 with 1 Axes>"
      ]
     },
     "metadata": {
      "needs_background": "light"
     },
     "output_type": "display_data"
    },
    {
     "name": "stdout",
     "output_type": "stream",
     "text": [
      "17295\n"
     ]
    }
   ],
   "source": [
    "savepath = '/Users/aichah/Desktop/TLI/data/montage/'\n",
    "a, b, c, d = Vector(86,350, mask, savepath)\n"
   ]
  },
  {
   "cell_type": "code",
   "execution_count": 143,
   "metadata": {},
   "outputs": [
    {
     "data": {
      "text/plain": [
       "array([[0.92774644, 0.37321112]])"
      ]
     },
     "execution_count": 143,
     "metadata": {},
     "output_type": "execute_result"
    }
   ],
   "source": [
    "a"
   ]
  },
  {
   "cell_type": "code",
   "execution_count": 144,
   "metadata": {},
   "outputs": [],
   "source": [
    "def dendritic_polarplot(sine, cos, nbins, norm_ori_vec, DGI, savepath, num_pixel, num_pixel_Adult):\n",
    "    \n",
    "  ## Convert vector coordinates into degree\n",
    "    angles = np.arctan2(cos, sine)\n",
    "    vec_angles = np.degrees(angles)\n",
    "    \n",
    "    ## Separate the vectors into different bins according to directions\n",
    "    \n",
    "    histo = np.histogram(vec_angles, bins = nbins)\n",
    "    # histo = np.array(histo)\n",
    "    \n",
    "    ## Colour the bars differently\n",
    "    \n",
    "    cmap_hist = sns.husl_palette(nbins)\n",
    "    \n",
    "    ## Normalize the bar length (Normalized to Adult pixel number)\n",
    "    \n",
    "    bar_length = []\n",
    "    for elem in histo[0]:\n",
    "        bar_length.append(elem/num_pixel_Adult)\n",
    "    bar_length.append(0)\n",
    "    bar_length = np.array(bar_length)\n",
    "    \n",
    "    ## Add the normalized orientation vector of the dendrite\n",
    "    \n",
    "    ori_angle = np.degrees(np.arctan2(-norm_ori_vec[0, 1], -norm_ori_vec[0, 0]))\n",
    "    \n",
    "    ## Round DSI to 3 decimals\n",
    "    \n",
    "    DGI = round(DGI, 4)\n",
    "    \n",
    "    ## Make polar plot and add vector\n",
    "    \n",
    "    ax = plt.subplot(111, polar=True)\n",
    "    \n",
    "    bins = np.arange(0.0, 2*np.pi, 2*np.pi/nbins)\n",
    "    bars = ax.bar(-bins-(np.pi/2), 3*bar_length[:-1], width = np.repeat(2*np.pi/nbins, nbins), bottom=0.0, alpha = 0.4)\n",
    "    arrow = ax.arrow((-ori_angle/180*np.pi)-np.pi/2, 0, 0, (DGI*(num_pixel/num_pixel_Adult)), \n",
    "                    head_width = 0.08, head_length = 0.05,label = DGI, fc='k', ec='k')\n",
    "    \n",
    "    ax.set_rticks([0.1, 0.2, 0.3, 0.4, 0.5, 0.6, 0.7,0.8])\n",
    "    ax.set_yticklabels(['', '', '', '', '', '', '', ''])\n",
    "    # plt.tick_params(\n",
    "    #                 axis='x',          # changes apply to the x-axis\n",
    "    #                 which='both',      # both major and minor ticks are affected\n",
    "    #                 bottom=False,      # ticks along the bottom edge are off\n",
    "    #                 top=False,         # ticks along the top edge are off\n",
    "    #                 labelbottom=False) # labels along the bottom edge are off\n",
    "    ax.set_rlabel_position(-ori_angle+90)\n",
    "#     legend = ax.legend(loc = 'upper right', bbox_to_anchor=(1.08,1.08), handles = [arrow])\n",
    "    # ax.set_xticklabels(['', '', '', '', '', '', '', ''])\n",
    "#     plt.setp(plt.gca().get_legend().get_texts(), fontsize='16')\n",
    "    \n",
    "    for i in range(len(bars)):\n",
    "        bars[i].set_facecolor(cmap_hist[i])\n",
    "        bars[i].set_alpha(0.4)\n",
    "        bars[i].set_edgecolor('k')\n",
    "    plt.savefig('%s_plot.png' % savepath, dpi = 1000)\n",
    "    plt.show()\n",
    "\n",
    "    print(bar_length)\n",
    "    \n",
    "    return True"
   ]
  },
  {
   "cell_type": "code",
   "execution_count": 145,
   "metadata": {
    "scrolled": false
   },
   "outputs": [
    {
     "data": {
      "image/png": "[encoded data removed]",
      "text/plain": [
       "<Figure size 432x288 with 1 Axes>"
      ]
     },
     "metadata": {
      "needs_background": "light"
     },
     "output_type": "display_data"
    },
    {
     "name": "stdout",
     "output_type": "stream",
     "text": [
      "[0.06498988 0.00370049 0.00161897 0.00156114 0.00792136 0.14102342\n",
      " 0.48360798 0.19358196 0.03607979 0.01503325 0.01295172 0.03793004\n",
      " 0.        ]\n"
     ]
    }
   ],
   "source": [
    "z= dendritic_polarplot(b[:,0], b[:,1], 12, a, c, savepath, d, d)"
   ]
  },
  {
   "cell_type": "code",
   "execution_count": null,
   "metadata": {},
   "outputs": [],
   "source": []
  },
  {
   "cell_type": "code",
   "execution_count": null,
   "metadata": {},
   "outputs": [],
   "source": []
  },
  {
   "cell_type": "code",
   "execution_count": null,
   "metadata": {},
   "outputs": [],
   "source": []
  },
  {
   "cell_type": "code",
   "execution_count": null,
   "metadata": {},
   "outputs": [],
   "source": []
  },
  {
   "cell_type": "code",
   "execution_count": null,
   "metadata": {},
   "outputs": [],
   "source": []
  }
 ],
 "metadata": {
  "kernelspec": {
   "display_name": "Python 3.9.6 ('growth')",
   "language": "python",
   "name": "python3"
  },
  "language_info": {
   "codemirror_mode": {
    "name": "ipython",
    "version": 3
   },
   "file_extension": ".py",
   "mimetype": "text/x-python",
   "name": "python",
   "nbconvert_exporter": "python",
   "pygments_lexer": "ipython3",
   "version": "3.9.6"
  },
  "vscode": {
   "interpreter": {
    "hash": "3558778624732e82e76d08d0e1529767d5d68faabf4350c6a5545e8ecf2497ca"
   }
  }
 },
 "nbformat": 4,
 "nbformat_minor": 2
}
