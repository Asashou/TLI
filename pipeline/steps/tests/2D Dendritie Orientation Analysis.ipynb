{
 "cells": [
  {
   "cell_type": "code",
   "execution_count": 3,
   "metadata": {},
   "outputs": [],
   "source": [
    "from skimage import data, exposure, filters, io, segmentation\n",
    "import matplotlib.pyplot as plt\n",
    "import numpy as np\n",
    "import pandas as pd\n",
    "import seaborn as sns\n",
    "import tifffile as tif\n",
    "sns.set()\n",
    "%matplotlib inline"
   ]
  },
  {
   "cell_type": "code",
   "execution_count": 19,
   "metadata": {},
   "outputs": [],
   "source": [
    "def Vector(x, y, image_2D, savepath):\n",
    "    \n",
    "    ## Import picture as array\n",
    "    \n",
    "    # im = io.imread(loadpath)\n",
    "    im = image_2D\n",
    "    \n",
    "    ## Set dendritic branching point(dbp) as the maximum value\n",
    "    \n",
    "    im[y, x] = 255\n",
    "    \n",
    "    ## Save image\n",
    "    \n",
    "    io.imsave('%s.png' % savepath, im)\n",
    "    \n",
    "    ## Define dbp with the input index (y, x)\n",
    "\n",
    "    dbp = np.array([y, x])\n",
    "    \n",
    "    ## Retrieve the index of all pixel values above a threshold\n",
    "    \n",
    "    # pixel_co = np.argwhere(im > np.quantile(im, 0.90))\n",
    "    pixel_co = np.argwhere(im)        \n",
    "    \n",
    "    \n",
    "    ## Substract the dbp index from every pixel to calculate the vectors\n",
    "    \n",
    "    norm_pixel_values = pixel_co - dbp\n",
    "    \n",
    "    norm_pixel_values[:,0]*= -1\n",
    "   \n",
    "    ## Find vector length to every pixel\n",
    "    \n",
    "    vec_length = np.linalg.norm(norm_pixel_values, axis=1)\n",
    "\n",
    "    ## Delete dbp index\n",
    "    \n",
    "    dbp_index = np.argwhere(vec_length == 0)\n",
    "    \n",
    "    norm_pixel_values = np.delete(norm_pixel_values, (dbp_index), axis=0)\n",
    "    \n",
    "    vec_length = np.delete(vec_length, dbp_index)\n",
    "\n",
    "    \n",
    "    ## Normalize vector length \n",
    "    \n",
    "    norm_vectors = norm_pixel_values / vec_length[:, np.newaxis]\n",
    "    \n",
    "    ## Add all vectors together \n",
    "    \n",
    "    ori_vec = [norm_vectors.sum(axis=0)]\n",
    "    \n",
    "    ## Calculate length of the sum vector\n",
    "    \n",
    "    ori_vec_length = np.linalg.norm(ori_vec)\n",
    "    \n",
    "    ## Calculate normalized vector in the same orientation as sum vector\n",
    "    \n",
    "    norm_ori_vec = ori_vec / ori_vec_length  \n",
    "    num_pixel = norm_pixel_values.shape[0]\n",
    "\n",
    "    ## Calculate DGI\n",
    "    \n",
    "    DGI = np.divide(ori_vec_length, num_pixel)\n",
    "    \n",
    "    ## Plot the vector starting at the dbp in the image together with the used pixels as a scatterplot\n",
    "    \n",
    "    ax = plt.subplot(111)\n",
    "    \n",
    "    ax.scatter( norm_pixel_values[:, 1], norm_pixel_values[:, 0], marker = '.', alpha = 0.5)\n",
    "    ax.arrow( 0, 0, 50*norm_ori_vec[0, 1], 50*norm_ori_vec[0,0], width = 1, head_width= 5, head_length=5, fc='k', ec='k')\n",
    "    ax.axis('equal')\n",
    "    plt.savefig('%s_scatter.png' % savepath, dpi = 1000)\n",
    "    \n",
    "    \n",
    "    plt.show()\n",
    "    \n",
    "    ## Save Data to csv file\n",
    "    \n",
    "    np.savetxt(\"%s.csv\" % savepath, norm_vectors, fmt=\"%.10f\", delimiter=',')\n",
    "    print(num_pixel)\n",
    "    return(norm_ori_vec, norm_vectors, DGI, num_pixel)\n",
    "            "
   ]
  },
  {
   "cell_type": "code",
   "execution_count": 20,
   "metadata": {},
   "outputs": [
    {
     "data": {
      "text/plain": [
       "(88, 37, 2, 400, 400)"
      ]
     },
     "execution_count": 20,
     "metadata": {},
     "output_type": "execute_result"
    }
   ],
   "source": [
    "loadpath = '/Users/aichah/Desktop/TLI/data/montage/stable_211107_P36_N2_1.tif'\n",
    "image_2D = tif.imread(loadpath)\n",
    "image_2D.shape"
   ]
  },
  {
   "cell_type": "code",
   "execution_count": 21,
   "metadata": {},
   "outputs": [],
   "source": [
    "image_2D = image_2D[85,:,1]\n",
    "image_2D = image_2D.max(axis=0)"
   ]
  },
  {
   "cell_type": "code",
   "execution_count": 22,
   "metadata": {},
   "outputs": [
    {
     "data": {
      "text/plain": [
       "(400, 400)"
      ]
     },
     "execution_count": 22,
     "metadata": {},
     "output_type": "execute_result"
    }
   ],
   "source": [
    "image_2D.shape"
   ]
  },
  {
   "cell_type": "code",
   "execution_count": 23,
   "metadata": {
    "scrolled": false
   },
   "outputs": [
    {
     "data": {
      "image/png": "[encoded data removed]",
      "text/plain": [
       "<Figure size 432x288 with 1 Axes>"
      ]
     },
     "metadata": {
      "needs_background": "light"
     },
     "output_type": "display_data"
    },
    {
     "name": "stdout",
     "output_type": "stream",
     "text": [
      "9001\n"
     ]
    }
   ],
   "source": [
    "savepath = '/Users/aichah/Desktop/TLI/data/montage/'\n",
    "a, b, c, d = Vector(150,275, image_2D, savepath)\n"
   ]
  },
  {
   "cell_type": "code",
   "execution_count": 32,
   "metadata": {},
   "outputs": [
    {
     "data": {
      "text/plain": [
       "array([[0.9958061 , 0.09148885]])"
      ]
     },
     "execution_count": 32,
     "metadata": {},
     "output_type": "execute_result"
    }
   ],
   "source": [
    "a"
   ]
  },
  {
   "cell_type": "code",
   "execution_count": 45,
   "metadata": {},
   "outputs": [],
   "source": [
    "def dendritic_polarplot(sine, cos, nbins, norm_ori_vec, DGI, savepath, num_pixel, num_pixel_Adult):\n",
    "    \n",
    "  ## Convert vector coordinates into degree\n",
    "    angles = np.arctan2(cos, sine)\n",
    "    vec_angles = np.degrees(angles)\n",
    "    \n",
    "    ## Separate the vectors into different bins according to directions\n",
    "    \n",
    "    histo = np.histogram(vec_angles, bins = nbins)\n",
    "    # histo = np.array(histo)\n",
    "    \n",
    "    ## Colour the bars differently\n",
    "    \n",
    "    cmap_hist = sns.husl_palette(nbins)\n",
    "    \n",
    "    ## Normalize the bar length (Normalized to Adult pixel number)\n",
    "    \n",
    "    bar_length = []\n",
    "    for elem in histo[0]:\n",
    "        bar_length.append(elem/num_pixel_Adult)\n",
    "    bar_length.append(0)\n",
    "    bar_length = np.array(bar_length)\n",
    "    \n",
    "    ## Add the normalized orientation vector of the dendrite\n",
    "    \n",
    "    ori_angle = np.degrees(np.arctan2(-norm_ori_vec[0, 1], -norm_ori_vec[0, 0]))\n",
    "    \n",
    "    ## Round DSI to 3 decimals\n",
    "    \n",
    "    DGI = round(DGI, 4)\n",
    "    \n",
    "    ## Make polar plot and add vector\n",
    "    \n",
    "    ax = plt.subplot(111, polar=True)\n",
    "    \n",
    "    bins = np.arange(0.0, 2*np.pi, 2*np.pi/nbins)\n",
    "    bars = ax.bar(-bins-(np.pi/2), 3*bar_length[:-1], width = np.repeat(2*np.pi/nbins, nbins), bottom=0.0, alpha = 0.4)\n",
    "    arrow = ax.arrow((-ori_angle/180*np.pi)-np.pi/2, 0, 0, (DGI*(num_pixel/num_pixel_Adult)), \n",
    "                    head_width = 0.08, head_length = 0.05,label = DGI, fc='k', ec='k')\n",
    "    \n",
    "    ax.set_rticks([0.1, 0.2, 0.3, 0.4, 0.5, 0.6, 0.7,0.8])\n",
    "    # ax.set_yticklabels(['', 0.2, '', 0.4, '', 0.6, '', 0.8])\n",
    "    ax.set_rlabel_position(-ori_angle+90)\n",
    "#     legend = ax.legend(loc = 'upper right', bbox_to_anchor=(1.08,1.08), handles = [arrow])\n",
    "    # ax.set_xticklabels(['', '', '', '', '', '', '', ''])\n",
    "#     plt.setp(plt.gca().get_legend().get_texts(), fontsize='16')\n",
    "    \n",
    "    for i in range(len(bars)):\n",
    "        bars[i].set_facecolor(cmap_hist[i])\n",
    "        bars[i].set_alpha(0.4)\n",
    "        bars[i].set_edgecolor('k')\n",
    "    plt.savefig('%s_plot.png' % savepath, dpi = 1000)\n",
    "    plt.show()\n",
    "\n",
    "    print(bar_length)\n",
    "    \n",
    "    return True"
   ]
  },
  {
   "cell_type": "code",
   "execution_count": 46,
   "metadata": {
    "scrolled": false
   },
   "outputs": [
    {
     "data": {
      "image/png": "[encoded data removed]",
      "text/plain": [
       "<Figure size 432x288 with 1 Axes>"
      ]
     },
     "metadata": {
      "needs_background": "light"
     },
     "output_type": "display_data"
    },
    {
     "name": "stdout",
     "output_type": "stream",
     "text": [
      "[0.01222086 0.0628819  0.07054772 0.0903233  0.11898678 0.1172092\n",
      " 0.13587379 0.09654483 0.08754583 0.07954672 0.07421398 0.0541051\n",
      " 0.        ]\n"
     ]
    }
   ],
   "source": [
    "z= dendritic_polarplot(b[:,0], b[:,1], 12, a, c, savepath, d, d)"
   ]
  },
  {
   "cell_type": "code",
   "execution_count": null,
   "metadata": {},
   "outputs": [],
   "source": []
  },
  {
   "cell_type": "code",
   "execution_count": null,
   "metadata": {},
   "outputs": [],
   "source": []
  },
  {
   "cell_type": "code",
   "execution_count": null,
   "metadata": {},
   "outputs": [],
   "source": []
  },
  {
   "cell_type": "code",
   "execution_count": null,
   "metadata": {},
   "outputs": [],
   "source": []
  },
  {
   "cell_type": "code",
   "execution_count": null,
   "metadata": {},
   "outputs": [],
   "source": []
  }
 ],
 "metadata": {
  "kernelspec": {
   "display_name": "Python 3.9.6 ('growth')",
   "language": "python",
   "name": "python3"
  },
  "language_info": {
   "codemirror_mode": {
    "name": "ipython",
    "version": 3
   },
   "file_extension": ".py",
   "mimetype": "text/x-python",
   "name": "python",
   "nbconvert_exporter": "python",
   "pygments_lexer": "ipython3",
   "version": "3.9.6"
  },
  "vscode": {
   "interpreter": {
    "hash": "3558778624732e82e76d08d0e1529767d5d68faabf4350c6a5545e8ecf2497ca"
   }
  }
 },
 "nbformat": 4,
 "nbformat_minor": 2
}
