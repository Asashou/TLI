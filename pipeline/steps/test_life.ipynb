{
 "cells": [
  {
   "cell_type": "code",
   "execution_count": 1,
   "metadata": {},
   "outputs": [],
   "source": [
    "img_path = '/home/tli_project/Desktop/Data/T4/neurons/seg_1_211104_P36_N1_GFP.tif'\n",
    "stab_path = '/home/tli_project/Desktop/Data/T4/neurons/output/stable_seg_1_211104_P36_N1_GFP.tif'"
   ]
  },
  {
   "cell_type": "code",
   "execution_count": 2,
   "metadata": {},
   "outputs": [],
   "source": [
    "import matplotlib.pyplot as plt\n",
    "import tifffile as tif\n",
    "import numpy as np\n",
    "import utils.analysis as analysis"
   ]
  },
  {
   "cell_type": "code",
   "execution_count": 3,
   "metadata": {},
   "outputs": [],
   "source": [
    "img_all = tif.imread(img_path)\n",
    "img_stab = tif.imread(stab_path)"
   ]
  },
  {
   "cell_type": "code",
   "execution_count": 4,
   "metadata": {},
   "outputs": [],
   "source": [
    "img_all[img_all!=0] = 1\n",
    "img_stab[img_stab!=0] = 1 "
   ]
  },
  {
   "cell_type": "code",
   "execution_count": 5,
   "metadata": {},
   "outputs": [
    {
     "data": {
      "text/plain": [
       "(89, 54, 400, 400)"
      ]
     },
     "execution_count": 5,
     "metadata": {},
     "output_type": "execute_result"
    }
   ],
   "source": [
    "img_all.shape"
   ]
  },
  {
   "cell_type": "code",
   "execution_count": 28,
   "metadata": {},
   "outputs": [],
   "source": [
    "arr = np.array([[1,2,3],[4,0,6]])"
   ]
  },
  {
   "cell_type": "code",
   "execution_count": 33,
   "metadata": {},
   "outputs": [
    {
     "data": {
      "text/plain": [
       "array([[0, 0],\n",
       "       [1, 1]])"
      ]
     },
     "execution_count": 33,
     "metadata": {},
     "output_type": "execute_result"
    }
   ],
   "source": [
    "np.argwhere(arr<2)   "
   ]
  },
  {
   "cell_type": "code",
   "execution_count": 38,
   "metadata": {},
   "outputs": [
    {
     "data": {
      "text/plain": [
       "[0, 0]"
      ]
     },
     "execution_count": 38,
     "metadata": {},
     "output_type": "execute_result"
    }
   ],
   "source": [
    "list(el for el in test[0])"
   ]
  },
  {
   "cell_type": "code",
   "execution_count": 44,
   "metadata": {},
   "outputs": [
    {
     "ename": "SyntaxError",
     "evalue": "invalid syntax (496947931.py, line 4)",
     "output_type": "error",
     "traceback": [
      "\u001b[0;36m  Input \u001b[0;32mIn [44]\u001b[0;36m\u001b[0m\n\u001b[0;31m    print(arr[el for el in i])\u001b[0m\n\u001b[0m                 ^\u001b[0m\n\u001b[0;31mSyntaxError\u001b[0m\u001b[0;31m:\u001b[0m invalid syntax\n"
     ]
    }
   ],
   "source": [
    "for i in test:\n",
    "    ind = list(el for el in i)\n",
    "    print(i, ind)\n",
    "    el = \n",
    "    print(arr[el for el in i])"
   ]
  },
  {
   "cell_type": "code",
   "execution_count": 40,
   "metadata": {},
   "outputs": [
    {
     "data": {
      "text/plain": [
       "[1, 1]"
      ]
     },
     "execution_count": 40,
     "metadata": {},
     "output_type": "execute_result"
    }
   ],
   "source": [
    "ind"
   ]
  },
  {
   "cell_type": "code",
   "execution_count": 50,
   "metadata": {},
   "outputs": [
    {
     "ename": "IndexError",
     "evalue": "only integers, slices (`:`), ellipsis (`...`), numpy.newaxis (`None`) and integer or boolean arrays are valid indices",
     "output_type": "error",
     "traceback": [
      "\u001b[0;31m---------------------------------------------------------------------------\u001b[0m",
      "\u001b[0;31mIndexError\u001b[0m                                Traceback (most recent call last)",
      "Input \u001b[0;32mIn [50]\u001b[0m, in \u001b[0;36m<module>\u001b[0;34m\u001b[0m\n\u001b[1;32m      1\u001b[0m l \u001b[38;5;241m=\u001b[39m [\u001b[38;5;241m1\u001b[39m,\u001b[38;5;241m1\u001b[39m]\n\u001b[0;32m----> 2\u001b[0m \u001b[43marr\u001b[49m\u001b[43m[\u001b[49m\u001b[43m(\u001b[49m\u001b[43mi\u001b[49m\u001b[43m \u001b[49m\u001b[38;5;28;43;01mfor\u001b[39;49;00m\u001b[43m \u001b[49m\u001b[43mi\u001b[49m\u001b[43m \u001b[49m\u001b[38;5;129;43;01min\u001b[39;49;00m\u001b[43m \u001b[49m\u001b[43ml\u001b[49m\u001b[43m)\u001b[49m\u001b[43m]\u001b[49m\n",
      "\u001b[0;31mIndexError\u001b[0m: only integers, slices (`:`), ellipsis (`...`), numpy.newaxis (`None`) and integer or boolean arrays are valid indices"
     ]
    }
   ],
   "source": [
    "l = [1,1]\n",
    "arr[(i for i in l)]"
   ]
  },
  {
   "cell_type": "code",
   "execution_count": 22,
   "metadata": {},
   "outputs": [
    {
     "data": {
      "text/plain": [
       "(array([0]), array([0]))"
      ]
     },
     "execution_count": 22,
     "metadata": {},
     "output_type": "execute_result"
    }
   ],
   "source": [
    "np.where((arr<2) & (arr>0))"
   ]
  },
  {
   "cell_type": "code",
   "execution_count": 45,
   "metadata": {},
   "outputs": [
    {
     "data": {
      "text/plain": [
       "True"
      ]
     },
     "execution_count": 45,
     "metadata": {},
     "output_type": "execute_result"
    }
   ],
   "source": [
    "# converting 4D image to pointcloud and back to 4D image \n",
    "T, Z, Y, X = np.where(img_all == 1)\n",
    "val = np.array(list(zip(T,Z,Y,X)))\n",
    "test2 = np.empty_like(img_all)\n",
    "for px in val:\n",
    "    t,z,y,x = px[0],px[1],px[2],px[3]\n",
    "    test2[t,z,y,x] = 1\n",
    "\n",
    "(test2 == img_all).all()\n",
    "# tif.imsave('test5.tif', test2, imagej=True)"
   ]
  },
  {
   "cell_type": "code",
   "execution_count": 46,
   "metadata": {},
   "outputs": [],
   "source": [
    "lifetimes1 = analysis.px_lifetimes(img_all)"
   ]
  },
  {
   "cell_type": "code",
   "execution_count": 47,
   "metadata": {},
   "outputs": [
    {
     "data": {
      "text/plain": [
       "(numpy.ndarray, (3102012, 5))"
      ]
     },
     "execution_count": 47,
     "metadata": {},
     "output_type": "execute_result"
    }
   ],
   "source": [
    "type(lifetimes1), lifetimes1.shape"
   ]
  },
  {
   "cell_type": "code",
   "execution_count": 48,
   "metadata": {},
   "outputs": [
    {
     "data": {
      "text/plain": [
       "array([[ 11,   0, 186, 125,   1],\n",
       "       [ 11,   0, 187, 123,   1]])"
      ]
     },
     "execution_count": 48,
     "metadata": {},
     "output_type": "execute_result"
    }
   ],
   "source": [
    "lifetimes1[1:3]"
   ]
  },
  {
   "cell_type": "code",
   "execution_count": 49,
   "metadata": {},
   "outputs": [
    {
     "data": {
      "text/plain": [
       "True"
      ]
     },
     "execution_count": 49,
     "metadata": {},
     "output_type": "execute_result"
    }
   ],
   "source": [
    "# sanity check for lifetimes\n",
    "# if taking all pixels with all lifetimes, the resulting image should equal the input img \n",
    "test = np.empty_like(img_all)\n",
    "st_limit = 1\n",
    "for px in lifetimes1:\n",
    "    z, y, x = px[1], px[2], px[3]\n",
    "    for i in np.arange(px[-1]-st_limit,-1,-1):\n",
    "        t = px[0] - i\n",
    "        test[t,z,y,x] = 1 \n",
    "\n",
    "(test == img_all).all()"
   ]
  },
  {
   "cell_type": "code",
   "execution_count": null,
   "metadata": {},
   "outputs": [],
   "source": []
  },
  {
   "cell_type": "code",
   "execution_count": 6,
   "metadata": {},
   "outputs": [
    {
     "name": "stderr",
     "output_type": "stream",
     "text": [
      "                                                             \r"
     ]
    }
   ],
   "source": [
    "stable_img = analysis.stable_branch(img_all, \n",
    "                                    stab_limit=4, \n",
    "                                    save=True, \n",
    "                                    save_path='', \n",
    "                                    save_file='test_slow.tif', \n",
    "                                    xy_pixel=0.076, \n",
    "                                    z_pixel=0.4)"
   ]
  },
  {
   "cell_type": "code",
   "execution_count": 54,
   "metadata": {},
   "outputs": [],
   "source": [
    "stable_img1 = analysis.stable_px(img_all, \n",
    "                                st_limit = 4, \n",
    "                                save=True, \n",
    "                                save_path='', \n",
    "                                save_file='test_final.tif', \n",
    "                                xy_pixel=0.076, \n",
    "                                z_pixel=0.4)"
   ]
  },
  {
   "cell_type": "code",
   "execution_count": 55,
   "metadata": {},
   "outputs": [
    {
     "data": {
      "text/plain": [
       "True"
      ]
     },
     "execution_count": 55,
     "metadata": {},
     "output_type": "execute_result"
    }
   ],
   "source": [
    "(img_stab[4:] == stable_img1[4:]).all()"
   ]
  },
  {
   "cell_type": "code",
   "execution_count": 5,
   "metadata": {},
   "outputs": [],
   "source": [
    "lifetimes1 = analysis.px_lifetimes(img_all)"
   ]
  },
  {
   "cell_type": "code",
   "execution_count": 6,
   "metadata": {},
   "outputs": [
    {
     "data": {
      "text/plain": [
       "True"
      ]
     },
     "execution_count": 6,
     "metadata": {},
     "output_type": "execute_result"
    }
   ],
   "source": [
    "# sanity check for lifetimes\n",
    "# if taking all pixels with all lifetimes, the resulting image should equal the input img \n",
    "test = np.empty_like(img_all)\n",
    "st_limit = 1\n",
    "for px in lifetimes1:\n",
    "    z, y, x = px[1], px[2], px[3]\n",
    "    for i in np.arange(px[-1]-st_limit,-1,-1):\n",
    "        t = px[0] - i\n",
    "        test[t,z,y,x] = 1 \n",
    "\n",
    "(test == img_all).all()"
   ]
  },
  {
   "cell_type": "code",
   "execution_count": 72,
   "metadata": {},
   "outputs": [
    {
     "data": {
      "text/plain": [
       "<matplotlib.colorbar.Colorbar at 0x7f9a4607d520>"
      ]
     },
     "execution_count": 72,
     "metadata": {},
     "output_type": "execute_result"
    },
    {
     "data": {
      "image/png": "[encoded data removed]",
      "text/plain": [
       "<Figure size 576x504 with 2 Axes>"
      ]
     },
     "metadata": {
      "needs_background": "light"
     },
     "output_type": "display_data"
    }
   ],
   "source": [
    "test = lifetimes1[lifetimes1[:,0] == 88]\n",
    "# test = lifetimes1[lifetimes1[:,-1] > 3]\n",
    "# test = test[test]\n",
    "x, y = test[:,3], test[:,2]\n",
    "color = test[:,-1]\n",
    "cm = plt.cm.get_cmap('cividis')\n",
    "\n",
    "\n",
    "fig = plt.figure()\n",
    "ax = fig.add_subplot()\n",
    "ax.set_aspect('auto')\n",
    "fig.set_size_inches(8,7)\n",
    "\n",
    "\n",
    "# Create cubic bounding box to simulate equal aspect ratio\n",
    "max_range = 400\n",
    "Xb = 0.5*max_range*np.mgrid[-1:2:2,-1:2:2,-1:2:2][0].flatten() + 0.5*(400)\n",
    "# Yb = 0.5*max_range*np.mgrid[-1:2:2,-1:2:2,-1:2:2][1].flatten() + 0.5*(400)\n",
    "# Comment or uncomment following both lines to test the fake bounding box:\n",
    "# ax.plot(Xb, Xb, 'w')\n",
    "for xb, yb in zip(Xb, Xb):\n",
    "    ax.plot([xb], [xb], 'w')\n",
    "# ax.scatter(400,400,'w')\n",
    "sc = ax.scatter(x,y, s=0.5,\n",
    "                cmap=cm,\n",
    "                c=color,\n",
    "                linewidth=0, \n",
    "                antialiased=False)\n",
    "plt.colorbar(sc)"
   ]
  },
  {
   "cell_type": "code",
   "execution_count": 77,
   "metadata": {},
   "outputs": [
    {
     "data": {
      "image/png": "[encoded data removed]",
      "text/plain": [
       "<Figure size 432x288 with 1 Axes>"
      ]
     },
     "metadata": {
      "needs_background": "light"
     },
     "output_type": "display_data"
    }
   ],
   "source": [
    "plt.hist(lifetimes1[:,-1], bins=90)\n",
    "plt.yscale('log')\n",
    "plt.xticks(range(0,90,5))\n",
    "plt.show()"
   ]
  },
  {
   "cell_type": "code",
   "execution_count": 56,
   "metadata": {},
   "outputs": [],
   "source": [
    "lifetimes1 = analysis.px_lifetimes(stable_img1)"
   ]
  },
  {
   "cell_type": "code",
   "execution_count": 57,
   "metadata": {},
   "outputs": [],
   "source": [
    "test1 = lifetimes1[lifetimes1[:,0] == 88]\n",
    "test = np.empty_like(stable_img1)\n",
    "st_limit = 1\n",
    "for px in test1:\n",
    "    z, y, x = px[1], px[2], px[3]\n",
    "    for i in np.arange(px[-1]-st_limit,-1,-1):\n",
    "        t = px[0] - i\n",
    "        test[t,z,y,x] = 1 \n",
    "\n",
    "tif.imwrite('test_12.tif', test, \n",
    "            imagej=True, \n",
    "            resolution=(1./1, 1./1),\n",
    "            metadata={'spacing': 1, \n",
    "                      'unit': 'um', \n",
    "                      'finterval': 1/10,\n",
    "                      'axes': 'TZYX'})"
   ]
  },
  {
   "cell_type": "code",
   "execution_count": 7,
   "metadata": {},
   "outputs": [],
   "source": [
    "Z, Y, X = np.where(img_all[0] > -1)\n",
    "points = np.array(list(zip(Z,Y,X)))\n",
    "lifetimes = []\n",
    "for px in points:\n",
    "    px_life = img_all[:,px[0],px[1],px[2]]\n",
    "    if px_life.sum() > 0:\n",
    "        px_high = np.where(px_life == 1)[0]\n",
    "        if len(px_high) == 1:\n",
    "            px_coor = [px_high[0], px[0],px[1],px[2], 1]\n",
    "            lifetimes.append(px_coor)\n",
    "        else:\n",
    "            life = 1\n",
    "            for i, t in enumerate(px_high[1:]):\n",
    "                if t - px_high[i] == 1:\n",
    "                    life += 1\n",
    "                else:\n",
    "                    px_coor = [px_high[i], px[0],px[1],px[2],life]\n",
    "                    lifetimes.append(px_coor)\n",
    "                    life = 1\n",
    "            # if life > 1:\n",
    "            px_coor = [px_high[-1], px[0],px[1],px[2],life]\n",
    "            lifetimes.append(px_coor)"
   ]
  },
  {
   "cell_type": "code",
   "execution_count": 113,
   "metadata": {},
   "outputs": [],
   "source": [
    "# lifetimes = np.array(lifetimes)\n",
    "unique_rows = np.unique(lifetimes, axis=0)\n",
    "len(unique_rows), len(lifetimes)\n",
    "# len(np.unique(lifetimes), axis=)"
   ]
  },
  {
   "cell_type": "code",
   "execution_count": 115,
   "metadata": {},
   "outputs": [],
   "source": [
    "lifetimes1 = []\n",
    "for z in range(img_all[0].shape[0]):\n",
    "    for y in range(img_all[0].shape[1]):\n",
    "        for x in range(img_all[0].shape[2]):\n",
    "            px = img_all[:,z,y,x]\n",
    "            if px.sum() > 0:\n",
    "                iter = np.where(px == 1)[0]\n",
    "                # lifetimes.append([(z,y,x),px,iter])\n",
    "                life = 1\n",
    "                if len(iter) == 1:\n",
    "                    lifetimes1.append([iter[0],z,y,x,1])\n",
    "                else:\n",
    "                    for i, t in enumerate(iter[1:]):\n",
    "                        if t - iter[i] == 1:\n",
    "                            life += 1\n",
    "                        elif t - iter[i] > 1:\n",
    "                            lifetimes1.append([iter[i],z,y,x,life])\n",
    "                            life = 1\n",
    "                    # if life > 1:\n",
    "                    lifetimes1.append([iter[-1],z,y,x,life])"
   ]
  },
  {
   "cell_type": "code",
   "execution_count": 8,
   "metadata": {},
   "outputs": [
    {
     "data": {
      "text/plain": [
       "True"
      ]
     },
     "execution_count": 8,
     "metadata": {},
     "output_type": "execute_result"
    }
   ],
   "source": [
    "lifetimes = np.array(lifetimes)\n",
    "# lifetimes1 = np.array(lifetimes1)\n",
    "(lifetimes == lifetimes1).all()\n",
    "# np.where(lifetimes[100:125] != lifetimes1[100:125])"
   ]
  },
  {
   "cell_type": "code",
   "execution_count": 130,
   "metadata": {},
   "outputs": [
    {
     "data": {
      "text/plain": [
       "(3102012, 3102012)"
      ]
     },
     "execution_count": 130,
     "metadata": {},
     "output_type": "execute_result"
    }
   ],
   "source": [
    "all_px = lifetimes[lifetimes[:,-1]>0]\n",
    "len(all_px), len(lifetimes)"
   ]
  },
  {
   "cell_type": "code",
   "execution_count": 131,
   "metadata": {},
   "outputs": [
    {
     "data": {
      "text/plain": [
       "(840725, 3102012)"
      ]
     },
     "execution_count": 131,
     "metadata": {},
     "output_type": "execute_result"
    }
   ],
   "source": [
    "stable_px = lifetimes[lifetimes[:,-1]>3]\n",
    "len(stable_px), len(lifetimes)"
   ]
  },
  {
   "cell_type": "code",
   "execution_count": 132,
   "metadata": {},
   "outputs": [
    {
     "data": {
      "text/plain": [
       "0.2710257084756603"
      ]
     },
     "execution_count": 132,
     "metadata": {},
     "output_type": "execute_result"
    }
   ],
   "source": [
    "len(stable_px) / len(lifetimes)"
   ]
  },
  {
   "cell_type": "code",
   "execution_count": 154,
   "metadata": {},
   "outputs": [],
   "source": [
    "# lifetimes to pointcloud and 4D image\n",
    "# px_PC = []\n",
    "st_limit = 4\n",
    "stable_px = lifetimes[lifetimes[:,-1]>st_limit-1]\n",
    "stable_img = np.empty_like(img_all)\n",
    "for px in stable_px:\n",
    "    z, y, x = px[1], px[2], px[3]\n",
    "    for i in np.arange(px[-1]-st_limit,-1,-1):\n",
    "        t = px[0] - i\n",
    "        stable_img[t,z,y,x] = 1\n",
    "        # px_PC.append([t,z,y,x])\n",
    "\n",
    "tif.imsave('test_stable3.tif', stable_img, imagej=True)"
   ]
  },
  {
   "cell_type": "code",
   "execution_count": 152,
   "metadata": {},
   "outputs": [],
   "source": [
    "# lifetimes to pointcloud\n",
    "px_PC = []\n",
    "st_limit = 1\n",
    "test2 = np.empty_like(img_all)\n",
    "for px in all_px:\n",
    "    z, y, x = px[1], px[2], px[3]\n",
    "    for i in np.arange(px[-1]-st_limit,-1,-1):\n",
    "    # for i in np.arange(stable_limit, px[-1]):\n",
    "        t = px[0] - i\n",
    "        px_PC.append([t,z,y,x])\n",
    "        test2[t,z,y,x] = 1\n",
    "\n",
    "# pointcloud to  4D image\n",
    "# test2 = np.empty_like(img_all)\n",
    "# for px in px_PC:\n",
    "#     t,z,y,x = px[0],px[1],px[2],px[3]\n",
    "#     test2[t,z,y,x] = 1\n",
    "\n",
    "# tif.imsave('test_all_2.tif', test2, imagej=True)"
   ]
  },
  {
   "cell_type": "code",
   "execution_count": 153,
   "metadata": {},
   "outputs": [
    {
     "data": {
      "text/plain": [
       "True"
      ]
     },
     "execution_count": 153,
     "metadata": {},
     "output_type": "execute_result"
    }
   ],
   "source": [
    "(test2 == img_all).all()"
   ]
  },
  {
   "cell_type": "code",
   "execution_count": 151,
   "metadata": {},
   "outputs": [
    {
     "data": {
      "text/plain": [
       "array([5, 4, 3, 2, 1, 0])"
      ]
     },
     "execution_count": 151,
     "metadata": {},
     "output_type": "execute_result"
    }
   ],
   "source": [
    "np.arange(6-1,-1,-1)"
   ]
  },
  {
   "cell_type": "code",
   "execution_count": 128,
   "metadata": {},
   "outputs": [],
   "source": [
    "# converting 4D image to pointcloud and back to 4D image \n",
    "stable_img = np.empty_like(img_all)\n",
    "for px in all_px:\n",
    "    z,y,x = px[1], px[2], px[3]\n",
    "    start = px[0] - px[-1] + 1\n",
    "    end = px[0]+1\n",
    "    stable_img[start:end,z,y,x] = 1\n",
    "\n",
    "# converting 4D image to pointcloud and back to 4D image \n",
    "T, Z, Y, X = np.where(img_all == 1)\n",
    "val = np.array(list(zip(T,Z,Y,X)))\n",
    "test2 = np.empty_like(img_all)\n",
    "for px in val:\n",
    "    t,z,y,x = px[0],px[1],px[2],px[3]\n",
    "    test2[t,z,y,x] = 1\n",
    "\n",
    "(test2 == img_all).all()\n",
    "# tif.imsave('test5.tif', test2, imagej=True)\n",
    "\n",
    "\n",
    "# tif.imsave('test_img.all.tif', stable_img, imagej=True)"
   ]
  },
  {
   "cell_type": "code",
   "execution_count": 134,
   "metadata": {},
   "outputs": [
    {
     "data": {
      "text/plain": [
       "20261361"
      ]
     },
     "execution_count": 134,
     "metadata": {},
     "output_type": "execute_result"
    }
   ],
   "source": [
    "# converting 4D image to pointcloud and back to 4D image \n",
    "T, Z, Y, X = np.where(img_all == 1)\n",
    "val = np.array(list(zip(T,Z,Y,X)))\n",
    "test2 = np.empty_like(img_all)\n",
    "for px in val:\n",
    "    t,z,y,x = px[0],px[1],px[2],px[3]\n",
    "    test2[t,z,y,x] = 1\n",
    "\n",
    "len(val)\n",
    "# tif.imsave('test5.tif', test2, imagej=True)"
   ]
  },
  {
   "cell_type": "code",
   "execution_count": null,
   "metadata": {},
   "outputs": [],
   "source": []
  },
  {
   "cell_type": "code",
   "execution_count": null,
   "metadata": {},
   "outputs": [],
   "source": [
    "# converting 4D image to pointcloud and back to 4D image \n",
    "test6 = np.empty_like(img_all)\n",
    "for px in lifetimes:\n",
    "    z,y,x = px[1], px[2], px[3]\n",
    "    test6[px[0]:px[0]-px[4],z,y,x] = 1\n",
    "\n",
    "tif.imsave('test9.tif', test6, imagej=True)\n",
    "\n",
    "(test6 == img_all).all()"
   ]
  },
  {
   "cell_type": "code",
   "execution_count": null,
   "metadata": {},
   "outputs": [],
   "source": []
  },
  {
   "cell_type": "code",
   "execution_count": null,
   "metadata": {},
   "outputs": [],
   "source": []
  },
  {
   "cell_type": "code",
   "execution_count": null,
   "metadata": {},
   "outputs": [],
   "source": []
  },
  {
   "cell_type": "code",
   "execution_count": null,
   "metadata": {},
   "outputs": [],
   "source": []
  },
  {
   "cell_type": "code",
   "execution_count": 42,
   "metadata": {},
   "outputs": [
    {
     "data": {
      "text/plain": [
       "False"
      ]
     },
     "execution_count": 42,
     "metadata": {},
     "output_type": "execute_result"
    }
   ],
   "source": [
    "# converting 4D image to pointcloud and back to 4D image \n",
    "test6 = np.empty_like(img_all)\n",
    "for px in lifetimes:\n",
    "    z,y,x = px[1], px[2], px[3]\n",
    "    test6[px[0]:px[0]-px[4],z,y,x] = 1\n",
    "\n",
    "tif.imsave('test9.tif', test6, imagej=True)\n",
    "\n",
    "(test6 == img_all).all()"
   ]
  },
  {
   "cell_type": "code",
   "execution_count": 43,
   "metadata": {},
   "outputs": [
    {
     "data": {
      "text/plain": [
       "False"
      ]
     },
     "execution_count": 43,
     "metadata": {},
     "output_type": "execute_result"
    }
   ],
   "source": [
    "# converting 4D image to pointcloud and back to 4D image \n",
    "test7 = np.empty_like(img_all)\n",
    "for px in lifetimes1:\n",
    "    z,y,x = px[1], px[2], px[3]\n",
    "    test7[px[0]:px[0]-px[4],z,y,x] = 1\n",
    "\n",
    "tif.imsave('test10.tif', test7, imagej=True)\n",
    "\n",
    "(test7 == img_all).all()"
   ]
  },
  {
   "cell_type": "code",
   "execution_count": 45,
   "metadata": {},
   "outputs": [
    {
     "data": {
      "text/plain": [
       "(88, 9650719)"
      ]
     },
     "execution_count": 45,
     "metadata": {},
     "output_type": "execute_result"
    }
   ],
   "source": [
    "test6.sum(), test7.sum()"
   ]
  },
  {
   "cell_type": "code",
   "execution_count": 47,
   "metadata": {},
   "outputs": [
    {
     "data": {
      "text/plain": [
       "array([[ 11,   0, 186, 124,   1],\n",
       "       [ 11,   0, 186, 125,   1],\n",
       "       [ 11,   0, 187, 123,   1],\n",
       "       ...,\n",
       "       [  0,  52, 245, 138,   1],\n",
       "       [  0,  52, 245, 139,   1],\n",
       "       [  0,  52, 246, 138,   1]])"
      ]
     },
     "execution_count": 47,
     "metadata": {},
     "output_type": "execute_result"
    }
   ],
   "source": [
    "lifetimes1"
   ]
  },
  {
   "cell_type": "code",
   "execution_count": 5,
   "metadata": {},
   "outputs": [],
   "source": [
    "# trans_px = img_all - img_stab"
   ]
  },
  {
   "cell_type": "code",
   "execution_count": 5,
   "metadata": {},
   "outputs": [],
   "source": [
    "lifetimes = []\n",
    "for z in range(img_all[0].shape[0]):\n",
    "    for y in range(img_all[0].shape[1]):\n",
    "        for x in range(img_all[0].shape[2]):\n",
    "            px = img_all[:,z,y,x]\n",
    "            if px.sum() > 0:\n",
    "                iter = np.where(px == 1)[0]\n",
    "                # lifetimes.append([(z,y,x),px,iter])\n",
    "                life = 1\n",
    "                if len(iter) == 1:\n",
    "                    lifetimes.append([iter[0],z,y,x,1])\n",
    "                else:\n",
    "                    for i, t in enumerate(iter[1:]):\n",
    "                        if t - iter[i] == 1:\n",
    "                            life += 1\n",
    "                        elif t - iter[i] > 1:\n",
    "                            lifetimes.append([iter[i-1],z,y,x,life])\n",
    "                            life = 1\n",
    "                    lifetimes.append([iter[i-1],z,y,x,life])\n",
    "lifetimes = np.array(lifetimes)\n"
   ]
  },
  {
   "cell_type": "code",
   "execution_count": 7,
   "metadata": {},
   "outputs": [
    {
     "data": {
      "text/plain": [
       "array([[ 11,   0, 186, 125,   1],\n",
       "       [ 11,   0, 187, 123,   1],\n",
       "       [ 11,   0, 187, 124,   1],\n",
       "       [ 11,   0, 187, 125,   1]])"
      ]
     },
     "execution_count": 7,
     "metadata": {},
     "output_type": "execute_result"
    }
   ],
   "source": [
    "lifetimes[1:5]"
   ]
  },
  {
   "cell_type": "code",
   "execution_count": 6,
   "metadata": {},
   "outputs": [],
   "source": [
    "stable_px = lifetimes[lifetimes[:,-1] > 3]"
   ]
  },
  {
   "cell_type": "code",
   "execution_count": 7,
   "metadata": {},
   "outputs": [
    {
     "data": {
      "text/plain": [
       "((840725, 5), (3102012, 5))"
      ]
     },
     "execution_count": 7,
     "metadata": {},
     "output_type": "execute_result"
    }
   ],
   "source": [
    "stable_px.shape, lifetimes.shape"
   ]
  },
  {
   "cell_type": "code",
   "execution_count": 70,
   "metadata": {},
   "outputs": [],
   "source": [
    "test2 = np.empty_like(img_all)\n",
    "for px in lifetimes:\n",
    "    t,z,y,x = px[0],px[1],px[2],px[3]\n",
    "    test2[t,z,y,x] = 1"
   ]
  },
  {
   "cell_type": "code",
   "execution_count": 71,
   "metadata": {},
   "outputs": [
    {
     "data": {
      "text/plain": [
       "False"
      ]
     },
     "execution_count": 71,
     "metadata": {},
     "output_type": "execute_result"
    }
   ],
   "source": [
    "(test2 == img_all).all()"
   ]
  },
  {
   "cell_type": "code",
   "execution_count": 73,
   "metadata": {},
   "outputs": [],
   "source": [
    "tif.imsave('test4.tif', test2, imagej=True)"
   ]
  },
  {
   "cell_type": "code",
   "execution_count": null,
   "metadata": {},
   "outputs": [],
   "source": []
  },
  {
   "cell_type": "code",
   "execution_count": null,
   "metadata": {},
   "outputs": [],
   "source": []
  },
  {
   "cell_type": "code",
   "execution_count": null,
   "metadata": {},
   "outputs": [],
   "source": []
  },
  {
   "cell_type": "code",
   "execution_count": null,
   "metadata": {},
   "outputs": [],
   "source": []
  },
  {
   "cell_type": "code",
   "execution_count": null,
   "metadata": {},
   "outputs": [],
   "source": []
  },
  {
   "cell_type": "code",
   "execution_count": 194,
   "metadata": {},
   "outputs": [
    {
     "data": {
      "text/plain": [
       "<matplotlib.collections.PathCollection at 0x7ff19e9247c0>"
      ]
     },
     "execution_count": 194,
     "metadata": {},
     "output_type": "execute_result"
    },
    {
     "data": {
      "image/png": "[encoded data removed]",
      "text/plain": [
       "<Figure size 432x288 with 1 Axes>"
      ]
     },
     "metadata": {
      "needs_background": "light"
     },
     "output_type": "display_data"
    }
   ],
   "source": [
    "\n",
    "plt.scatter(np.array(lifetimes)[:, 0],np.array(lifetimes)[:, -1], marker='.', alpha=0.01)"
   ]
  },
  {
   "cell_type": "code",
   "execution_count": 155,
   "metadata": {},
   "outputs": [
    {
     "data": {
      "image/png": "[encoded data removed]",
      "text/plain": [
       "<Figure size 432x288 with 1 Axes>"
      ]
     },
     "metadata": {
      "needs_background": "light"
     },
     "output_type": "display_data"
    }
   ],
   "source": [
    "# plt.hist(np.array(lifetimes).T[-1], bins=100)\n",
    "\n",
    "# plt.subplot(211)\n",
    "# hist, bins, _ = plt.hist(np.array(lifetimes).T[-1], bins=90)\n",
    "\n",
    "# logbins = np.logspace(np.log10(bins[0]),np.log10(bins[-1]),len(bins))\n",
    "# plt.subplot(212)\n",
    "plt.hist(np.array(lifetimes).T[-1], bins=25)\n",
    "# plt.yscale('log')\n",
    "plt.show()"
   ]
  },
  {
   "cell_type": "code",
   "execution_count": 159,
   "metadata": {},
   "outputs": [
    {
     "data": {
      "image/png": "[encoded data removed]",
      "text/plain": [
       "<Figure size 432x288 with 1 Axes>"
      ]
     },
     "metadata": {
      "needs_background": "light"
     },
     "output_type": "display_data"
    }
   ],
   "source": [
    "plt.hist(np.array(lifetimes).T[-1], bins=90)\n",
    "plt.yscale('log')\n",
    "plt.xticks(range(0,90,5))\n",
    "plt.show()"
   ]
  },
  {
   "cell_type": "code",
   "execution_count": 174,
   "metadata": {},
   "outputs": [
    {
     "data": {
      "text/plain": [
       "696259"
      ]
     },
     "execution_count": 174,
     "metadata": {},
     "output_type": "execute_result"
    }
   ],
   "source": [
    "test = np.array(lifetimes).T[-1]\n",
    "test = test[test > 4]\n",
    "len(test)"
   ]
  },
  {
   "cell_type": "code",
   "execution_count": 175,
   "metadata": {},
   "outputs": [
    {
     "data": {
      "image/png": "[encoded data removed]",
      "text/plain": [
       "<Figure size 432x288 with 1 Axes>"
      ]
     },
     "metadata": {
      "needs_background": "light"
     },
     "output_type": "display_data"
    }
   ],
   "source": [
    "plt.hist(test)\n",
    "# plt.yscale('log')\n",
    "plt.xticks(range(100,90,5))\n",
    "plt.show()"
   ]
  },
  {
   "cell_type": "code",
   "execution_count": 141,
   "metadata": {},
   "outputs": [
    {
     "data": {
      "text/plain": [
       "3102012"
      ]
     },
     "execution_count": 141,
     "metadata": {},
     "output_type": "execute_result"
    }
   ],
   "source": [
    "len(np.array(lifetimes).T[-1])"
   ]
  },
  {
   "cell_type": "code",
   "execution_count": 149,
   "metadata": {},
   "outputs": [
    {
     "data": {
      "text/plain": [
       "(array([115448.,  62885.,  44935.,  32535.,  20894.,  20015.,  17572.,\n",
       "         16991.,  11772.,  38950.]),\n",
       " array([11. , 18.8, 26.6, 34.4, 42.2, 50. , 57.8, 65.6, 73.4, 81.2, 89. ]),\n",
       " <BarContainer object of 10 artists>)"
      ]
     },
     "execution_count": 149,
     "metadata": {},
     "output_type": "execute_result"
    },
    {
     "data": {
      "image/png": "[encoded data removed]",
      "text/plain": [
       "<Figure size 432x288 with 1 Axes>"
      ]
     },
     "metadata": {
      "needs_background": "light"
     },
     "output_type": "display_data"
    }
   ],
   "source": [
    "plt.hist(test)"
   ]
  },
  {
   "cell_type": "code",
   "execution_count": 135,
   "metadata": {},
   "outputs": [
    {
     "data": {
      "text/plain": [
       "dtype('int64')"
      ]
     },
     "execution_count": 135,
     "metadata": {},
     "output_type": "execute_result"
    }
   ],
   "source": [
    "test.dtype"
   ]
  },
  {
   "cell_type": "code",
   "execution_count": null,
   "metadata": {},
   "outputs": [],
   "source": []
  }
 ],
 "metadata": {
  "interpreter": {
   "hash": "f3f6acc8ab4cd1097e4d91bbffd405bcf59aaff2754a866d7c8cf61e0274c3d7"
  },
  "kernelspec": {
   "display_name": "Python 3.8.12 64-bit ('preprocessing': conda)",
   "language": "python",
   "name": "python3"
  },
  "language_info": {
   "codemirror_mode": {
    "name": "ipython",
    "version": 3
   },
   "file_extension": ".py",
   "mimetype": "text/x-python",
   "name": "python",
   "nbconvert_exporter": "python",
   "pygments_lexer": "ipython3",
   "version": "3.8.12"
  },
  "orig_nbformat": 4
 },
 "nbformat": 4,
 "nbformat_minor": 2
}
