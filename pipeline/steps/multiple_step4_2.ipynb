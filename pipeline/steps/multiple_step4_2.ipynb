{
 "cells": [
  {
   "cell_type": "code",
   "execution_count": 5,
   "metadata": {},
   "outputs": [],
   "source": [
    "# this notebook iterate over neuron 4D files (already masked and filtered) \n",
    "# and stream-pipeline the defined analysis steps \n",
    "# and save the output into one dataframe per neuron with the following columns\n",
    "# Output_name : XXXXXXXXX define\n",
    "# output_cols: XXXXXX define"
   ]
  },
  {
   "cell_type": "code",
   "execution_count": 6,
   "metadata": {},
   "outputs": [],
   "source": [
    "data_path = '/home/tli_project/Desktop/Data/T4/neurons/SubtypeA/'\n",
    "save_path = '/home/tli_project/Desktop/Data/T4/neurons/SubtypeA/output/'\n",
    "\n",
    "##\n",
    "stab_limit = 5 #(No. of timepoints for stable branches calculation)\n",
    "start_age = 37\n",
    "subtype='A' #define the subtype to be used in DGI func\n",
    "\n",
    "analysis_type = '3D' #define whether the analysis_type is 2D or 3D\n",
    "entry_points = {'211104_P36_N1': (0,25,220,230),\n",
    "                '211104_P36_N3': (0,27,110,250),\n",
    "                '211107_P36_N2': (0,27,225,235),\n",
    "                '211107_P36_N3': (0,27,225,235),\n",
    "                '211113_P36_N1': (0,26,200,220),\n",
    "                '211114_P36_N3': (0,28,260,200),\n",
    "                '211121_P36.5_N3': (0,34,195,165),\n",
    "                '220127_P36_N1': (0,19,210,220),\n",
    "                '220209_P36_N1': (0,27,225,235),\n",
    "                '211011_P37_N1': (0,38,150,200),\n",
    "                '211104_P36_N2': (0,16,240,240), \n",
    "                '211107_P36_N1': (0,33,185,250),\n",
    "                '211113_P36_N2': (0,28,195,270), \n",
    "                '211114_P36_N1': (0,44,225,170), \n",
    "                '211114_P36_N2': (0,43,280,250), \n",
    "                '220209_P36_N2': (0,27,290,245),    \n",
    "                '211121_P36.5_N1': (0,24,210,260), \n",
    "                '211121_P36.5_N2': (0,31,235,240),\n",
    "                '211028_P36_N1': (0,25,210,240),\n",
    "                '211025_P36.5_N1': (0,25,210,240),\n",
    "                '211025_P36.5_N2': (0,25,210,240),\n",
    "                '211025_P36.5_N3': (0,25,210,240),\n",
    "                '211025_P36.5_N4': (0,25,210,240)}\n",
    "\n",
    "\n",
    "if save_path[-1] != '/':\n",
    "    save_path += '/'\n",
    "if data_path[-1] != '/':\n",
    "    data_path += '/'"
   ]
  },
  {
   "cell_type": "code",
   "execution_count": 7,
   "metadata": {},
   "outputs": [],
   "source": [
    "import os\n",
    "import utils.analysis as analysis\n",
    "import utils.datautils as datautils\n",
    "import matplotlib.pyplot as plt\n",
    "import tifffile as tif\n",
    "import numpy as np\n",
    "import re\n",
    "from tqdm import tqdm\n",
    "import pandas as pd\n",
    "import math\n",
    "from skimage.measure import regionprops\n",
    "from read_roi import read_roi_zip as col_zip\n",
    "from scipy.spatial import ConvexHull, convex_hull_plot_2d\n",
    "import os\n",
    "from matplotlib import colors\n",
    "import seaborn as sns\n",
    "import cv2\n",
    "from skimage import measure, io, morphology, transform\n",
    "from mpl_toolkits.mplot3d.art3d import Poly3DCollection\n",
    "import glob\n",
    "from sklearn import decomposition\n",
    "from scipy import spatial\n",
    "import pickle\n",
    "import itertools\n",
    "\n",
    "import matplotlib as mpl\n",
    "from cycler import cycler\n",
    "\n",
    "%matplotlib inline"
   ]
  },
  {
   "cell_type": "code",
   "execution_count": 8,
   "metadata": {},
   "outputs": [
    {
     "data": {
      "text/plain": [
       "['211028_P36_N1',\n",
       " '211104_P36_N2',\n",
       " '211107_P36_N1',\n",
       " '211113_P36_N2',\n",
       " '211114_P36_N1']"
      ]
     },
     "execution_count": 8,
     "metadata": {},
     "output_type": "execute_result"
    }
   ],
   "source": [
    "N_folders = [name for name in os.listdir(data_path) if os.path.isdir(os.path.join(data_path, name))]\n",
    "N_folders = [f for f in N_folders if '_P' in f]\n",
    "N_folders = sorted(N_folders)\n",
    "N_folders[:5]"
   ]
  },
  {
   "cell_type": "code",
   "execution_count": 9,
   "metadata": {},
   "outputs": [
    {
     "name": "stderr",
     "output_type": "stream",
     "text": [
      "0it [00:00, ?it/s]"
     ]
    },
    {
     "name": "stdout",
     "output_type": "stream",
     "text": [
      "first 5 files\n",
      "['/home/tli_project/Desktop/Data/T4/neurons/SubtypeA/211028_P36_N1/211028_P36_N1_R225_clahe.tif', '/home/tli_project/Desktop/Data/T4/neurons/SubtypeA/211028_P36_N1/211028_P36_N1_R225_JE_mask.tif', '/home/tli_project/Desktop/Data/T4/neurons/SubtypeA/211028_P36_N1/211028_P36_N1_R225_ColRois.zip', '/home/tli_project/Desktop/Data/T4/neurons/SubtypeA/211028_P36_N1/211028_P36_N1_R225_5D.tif', '/home/tli_project/Desktop/Data/T4/neurons/SubtypeA/211028_P36_N1/211028_P36_N1_CropRoi.roi']\n"
     ]
    },
    {
     "name": "stderr",
     "output_type": "stream",
     "text": [
      "100%|██████████| 84/84 [00:02<00:00, 37.59it/s]\n",
      "100%|██████████| 85/85 [01:30<00:00,  1.06s/it]\n",
      "1it [01:48, 108.53s/it]"
     ]
    },
    {
     "name": "stdout",
     "output_type": "stream",
     "text": [
      "first 5 files\n",
      "['/home/tli_project/Desktop/Data/T4/neurons/SubtypeA/211104_P36_N2/211104_P36_N2_R270_mask.tif', '/home/tli_project/Desktop/Data/T4/neurons/SubtypeA/211104_P36_N2/211104_P36_N2_R270_clahe.tif', '/home/tli_project/Desktop/Data/T4/neurons/SubtypeA/211104_P36_N2/211104_P36_N2_R270_ColROIs.zip', '/home/tli_project/Desktop/Data/T4/neurons/SubtypeA/211104_P36_N2/211104_P36_N2_R270_5D_new.tif', '/home/tli_project/Desktop/Data/T4/neurons/SubtypeA/211104_P36_N2/211104_P36_N2_R270_5D.tif']\n"
     ]
    },
    {
     "name": "stderr",
     "output_type": "stream",
     "text": [
      "100%|██████████| 84/84 [00:04<00:00, 17.65it/s]\n",
      "100%|██████████| 85/85 [02:59<00:00,  2.12s/it]\n",
      "2it [05:18, 167.93s/it]"
     ]
    },
    {
     "name": "stdout",
     "output_type": "stream",
     "text": [
      "first 5 files\n",
      "['/home/tli_project/Desktop/Data/T4/neurons/SubtypeA/211107_P36_N1/211107_P36_N1_Z30.70_clahe.tif', '/home/tli_project/Desktop/Data/T4/neurons/SubtypeA/211107_P36_N1/211107_P36_N1_Z30.70_5D.tif', '/home/tli_project/Desktop/Data/T4/neurons/SubtypeA/211107_P36_N1/211107_P36_N1_R265_mask1.tif', '/home/tli_project/Desktop/Data/T4/neurons/SubtypeA/211107_P36_N1/211107_P36_N1_R265_Z30.70_5D.tif', '/home/tli_project/Desktop/Data/T4/neurons/SubtypeA/211107_P36_N1/211107_P36_N1_R265_ColRois.zip']\n"
     ]
    },
    {
     "name": "stderr",
     "output_type": "stream",
     "text": [
      "100%|██████████| 87/87 [00:03<00:00, 26.63it/s]\n",
      "100%|██████████| 88/88 [02:40<00:00,  1.83s/it]\n",
      "3it [08:19, 174.14s/it]"
     ]
    },
    {
     "name": "stdout",
     "output_type": "stream",
     "text": [
      "first 5 files\n",
      "['/home/tli_project/Desktop/Data/T4/neurons/SubtypeA/211113_P36_N2/211113_P36_N2_new_CropRoi.roi', '/home/tli_project/Desktop/Data/T4/neurons/SubtypeA/211113_P36_N2/211113_P36_N2_FlipV_R245_mask.tif', '/home/tli_project/Desktop/Data/T4/neurons/SubtypeA/211113_P36_N2/211113_P36_N2_FlipV_R245_clahe.tif', '/home/tli_project/Desktop/Data/T4/neurons/SubtypeA/211113_P36_N2/211113_P36_N2_FlipV_R245_ColRois.zip', '/home/tli_project/Desktop/Data/T4/neurons/SubtypeA/211113_P36_N2/211113_P36_N2_FlipV_R245_5D_new.tif']\n"
     ]
    },
    {
     "name": "stderr",
     "output_type": "stream",
     "text": [
      "100%|██████████| 81/81 [00:01<00:00, 47.13it/s]\n",
      "100%|██████████| 82/82 [02:04<00:00,  1.51s/it]\n",
      "4it [10:41, 161.52s/it]"
     ]
    },
    {
     "name": "stdout",
     "output_type": "stream",
     "text": [
      "first 5 files\n",
      "['/home/tli_project/Desktop/Data/T4/neurons/SubtypeA/211114_P36_N1/211114_P36_N1_FlipV_R277_clahe1.tif', '/home/tli_project/Desktop/Data/T4/neurons/SubtypeA/211114_P36_N1/211114_P36_N1_FlipV_R277_JE_mask.tif', '/home/tli_project/Desktop/Data/T4/neurons/SubtypeA/211114_P36_N1/211114_P36_N1_FlipV_R277_ColRois.zip', '/home/tli_project/Desktop/Data/T4/neurons/SubtypeA/211114_P36_N1/211114_P36_N1_FlipV_R277_5D.tif', '/home/tli_project/Desktop/Data/T4/neurons/SubtypeA/211114_P36_N1/211114_P36_N1_CropRoi.roi']\n"
     ]
    },
    {
     "name": "stderr",
     "output_type": "stream",
     "text": [
      "100%|██████████| 88/88 [00:04<00:00, 17.99it/s]\n",
      "100%|██████████| 89/89 [03:23<00:00,  2.28s/it]\n",
      "5it [14:49, 192.77s/it]"
     ]
    },
    {
     "name": "stdout",
     "output_type": "stream",
     "text": [
      "first 5 files\n",
      "['/home/tli_project/Desktop/Data/T4/neurons/SubtypeA/211114_P36_N2/211114_P36_N2_FlipV_R277_JE_seg.tif', '/home/tli_project/Desktop/Data/T4/neurons/SubtypeA/211114_P36_N2/211114_P36_N2_FlipV_R272_clahe.tif', '/home/tli_project/Desktop/Data/T4/neurons/SubtypeA/211114_P36_N2/211114_P36_N2_FlipV_R272_ColRois.zip', '/home/tli_project/Desktop/Data/T4/neurons/SubtypeA/211114_P36_N2/211114_P36_N2_FlipV_R272_5D.tif', '/home/tli_project/Desktop/Data/T4/neurons/SubtypeA/211114_P36_N2/211114_P36_N2_CropRoi.roi']\n"
     ]
    },
    {
     "name": "stderr",
     "output_type": "stream",
     "text": [
      "5it [14:58, 179.65s/it]\n"
     ]
    },
    {
     "ename": "IndexError",
     "evalue": "list index out of range",
     "output_type": "error",
     "traceback": [
      "\u001b[0;31m---------------------------------------------------------------------------\u001b[0m",
      "\u001b[0;31mIndexError\u001b[0m                                Traceback (most recent call last)",
      "\u001b[0;32m/tmp/ipykernel_483744/2890238098.py\u001b[0m in \u001b[0;36m<module>\u001b[0;34m\u001b[0m\n\u001b[1;32m     11\u001b[0m             \u001b[0mneu_path\u001b[0m \u001b[0;34m=\u001b[0m \u001b[0;34m[\u001b[0m\u001b[0mf\u001b[0m \u001b[0;32mfor\u001b[0m \u001b[0mf\u001b[0m \u001b[0;32min\u001b[0m \u001b[0mfiles_list\u001b[0m \u001b[0;32mif\u001b[0m \u001b[0;34m'clahe'\u001b[0m \u001b[0;32min\u001b[0m \u001b[0mf\u001b[0m\u001b[0;34m.\u001b[0m\u001b[0mlower\u001b[0m\u001b[0;34m(\u001b[0m\u001b[0;34m)\u001b[0m\u001b[0;34m]\u001b[0m\u001b[0;34m[\u001b[0m\u001b[0;36m0\u001b[0m\u001b[0;34m]\u001b[0m\u001b[0;34m\u001b[0m\u001b[0;34m\u001b[0m\u001b[0m\n\u001b[1;32m     12\u001b[0m             \u001b[0mneuron\u001b[0m \u001b[0;34m=\u001b[0m \u001b[0mtif\u001b[0m\u001b[0;34m.\u001b[0m\u001b[0mimread\u001b[0m\u001b[0;34m(\u001b[0m\u001b[0mneu_path\u001b[0m\u001b[0;34m)\u001b[0m\u001b[0;34m\u001b[0m\u001b[0;34m\u001b[0m\u001b[0m\n\u001b[0;32m---> 13\u001b[0;31m             \u001b[0mmask_path\u001b[0m \u001b[0;34m=\u001b[0m \u001b[0;34m[\u001b[0m\u001b[0mf\u001b[0m \u001b[0;32mfor\u001b[0m \u001b[0mf\u001b[0m \u001b[0;32min\u001b[0m \u001b[0mfiles_list\u001b[0m \u001b[0;32mif\u001b[0m \u001b[0;34m'mask'\u001b[0m \u001b[0;32min\u001b[0m \u001b[0mf\u001b[0m\u001b[0;34m.\u001b[0m\u001b[0mlower\u001b[0m\u001b[0;34m(\u001b[0m\u001b[0;34m)\u001b[0m\u001b[0;34m]\u001b[0m\u001b[0;34m[\u001b[0m\u001b[0;36m0\u001b[0m\u001b[0;34m]\u001b[0m\u001b[0;34m\u001b[0m\u001b[0;34m\u001b[0m\u001b[0m\n\u001b[0m\u001b[1;32m     14\u001b[0m             \u001b[0mmask\u001b[0m \u001b[0;34m=\u001b[0m \u001b[0mtif\u001b[0m\u001b[0;34m.\u001b[0m\u001b[0mimread\u001b[0m\u001b[0;34m(\u001b[0m\u001b[0mmask_path\u001b[0m\u001b[0;34m)\u001b[0m\u001b[0;34m\u001b[0m\u001b[0;34m\u001b[0m\u001b[0m\n\u001b[1;32m     15\u001b[0m             \u001b[0mneuron\u001b[0m\u001b[0;34m[\u001b[0m\u001b[0mmask\u001b[0m\u001b[0;34m==\u001b[0m\u001b[0;36m0\u001b[0m\u001b[0;34m]\u001b[0m \u001b[0;34m=\u001b[0m \u001b[0;36m0\u001b[0m\u001b[0;34m\u001b[0m\u001b[0;34m\u001b[0m\u001b[0m\n",
      "\u001b[0;31mIndexError\u001b[0m: list index out of range"
     ]
    }
   ],
   "source": [
    "for i, fold in tqdm(enumerate(N_folders)):\n",
    "    # try:\n",
    "    #     for n in [1]:\n",
    "            entry_point = entry_points[fold]\n",
    "            start_im = re.search('P(.*)_N', fold)\n",
    "            start_im = float(start_im.group(1))\n",
    "            start_ana = int((start_age - start_im)/0.25)\n",
    "            files_list = datautils.get_file_names(data_path+fold, group_by='', \n",
    "                                                order=True, nested_files=False, \n",
    "                                                criteria='')\n",
    "            neu_path = [f for f in files_list if 'clahe' in f.lower()][0]\n",
    "            neuron = tif.imread(neu_path)\n",
    "            mask_path = [f for f in files_list if 'mask' in f.lower()][0]\n",
    "            mask = tif.imread(mask_path)\n",
    "            neuron[mask==0] = 0\n",
    "            neuron = neuron[start_ana:]\n",
    "            neuron[neuron != 0] = 1\n",
    "            lifetimes = analysis.cal_lifetimes(neuron, save=False)\n",
    "            stable_neuron = analysis.stable_N(lifetimes, stab_limit=stab_limit) \n",
    "            newly_formed = lifetimes.copy()\n",
    "            newly_formed[newly_formed != 5] = 0\n",
    "            neu_2D = neuron.max(axis=1)\n",
    "            stable_2D = stable_neuron.max(axis=1)\n",
    "            newly_2D = newly_formed.max(axis=1)\n",
    "            if analysis_type=='3D':\n",
    "                image = neuron\n",
    "                stable_im = stable_neuron\n",
    "            elif analysis_type=='2D':\n",
    "                image = neu_2D\n",
    "                stable_im = stable_2D\n",
    "            else:\n",
    "                print('the analysis type is not recognized')\n",
    "                break\n",
    "            output_results = analysis.N_volume(image, stable_im, normalize=False, \n",
    "                                                start_t=start_age, plot=False, \n",
    "                                                save=False, save_path=save_path, \n",
    "                                                save_file='Vol_'+fold)\n",
    "            DGIs = analysis.calculate_DGI(entry_point, image, \n",
    "                                subtype=subtype,\n",
    "                                start_t=start_age, \n",
    "                                save=True, save_path='', \n",
    "                                save_file='')\n",
    "            output_results = pd.merge(output_results, DGIs, on='timepoints')\n",
    "            area, perimeter, density, circularity = analysis.cal_circularity(neu_2D)\n",
    "            output_results['circularity'] = circularity[:]\n",
    "            output_results['density'] = density[:]\n",
    "            output_results['area'] = area[:]\n",
    "            output_results['perimeter'] = perimeter[:]\n",
    "            # yx_stable = []\n",
    "            # yx_new = []\n",
    "            yx_all = []\n",
    "            surface_area = []     \n",
    "            for t, stack in enumerate(neu_2D[:],0):\n",
    "                mo = cv2.moments(stack,binaryImage=False)\n",
    "                # mo_newly = cv2.moments(newly_2D[t],binaryImage=False)\n",
    "                # yx_stable.append((mo['m01']/mo['m00'], mo['m10']/mo['m00']))\n",
    "                # yx_new.append((mo_newly['m01']/mo_newly['m00'], mo_newly['m10']/mo_newly['m00']))\n",
    "                yx_all.append((mo['m01']/mo['m00'], mo['m10']/mo['m00']))\n",
    "                verts, faces, normals, values = measure.marching_cubes(neuron[t], step_size=2, spacing=(0.4,0.076,0.076))\n",
    "                surface_area.append(measure.mesh_surface_area(verts, faces))\n",
    "            # output_results['stab_cent'] = yx_stable\n",
    "            # output_results['newly_cent'] = yx_new\n",
    "            output_results['all_cent'] = yx_all\n",
    "            output_results['surface_area'] = surface_area\n",
    "            output_file = save_path+fold+'_s'+subtype+'_output.csv'\n",
    "            output_file = output_file.replace('.tif','')\n",
    "            output_results.to_csv(output_file, sep=';')  \n",
    "    # except:\n",
    "    #     pass          "
   ]
  },
  {
   "cell_type": "code",
   "execution_count": null,
   "metadata": {},
   "outputs": [],
   "source": []
  },
  {
   "cell_type": "code",
   "execution_count": null,
   "metadata": {},
   "outputs": [],
   "source": []
  }
 ],
 "metadata": {
  "kernelspec": {
   "display_name": "Python 3.9.6 ('growth')",
   "language": "python",
   "name": "python3"
  },
  "language_info": {
   "codemirror_mode": {
    "name": "ipython",
    "version": 3
   },
   "file_extension": ".py",
   "mimetype": "text/x-python",
   "name": "python",
   "nbconvert_exporter": "python",
   "pygments_lexer": "ipython3",
   "version": "3.9.6"
  },
  "orig_nbformat": 4,
  "vscode": {
   "interpreter": {
    "hash": "3558778624732e82e76d08d0e1529767d5d68faabf4350c6a5545e8ecf2497ca"
   }
  }
 },
 "nbformat": 4,
 "nbformat_minor": 2
}
