{
 "cells": [
  {
   "cell_type": "code",
   "execution_count": 1,
   "metadata": {},
   "outputs": [],
   "source": [
    "# this notebook iterate over neuron 4D files (already masked and filtered) \n",
    "# and stream-pipeline the defined analysis steps \n",
    "# and save the output into one dataframe per neuron with the following columns\n",
    "# output_cols: timepoints, vol_all, vol_stable, growthR_all, growthR_stable, transient_px_N, transient_px_per ...."
   ]
  },
  {
   "cell_type": "code",
   "execution_count": 2,
   "metadata": {},
   "outputs": [],
   "source": [
    "data_path = '/Users/aichah/Desktop/TLI/data/test_data/'\n",
    "save_path = '/Users/aichah/Desktop/TLI/data/test_data/output/'\n",
    "entry_points = [[0, 27, 234, 181],\n",
    "                [0, 26, 255, 203],\n",
    "                [0, 28, 172, 193],\n",
    "                [0, 36, 178, 184],\n",
    "                [0, 22, 216, 105],\n",
    "                [0, 45, 232, 194]] # define the entry point for each neuron in the folder\n",
    "stab_limit = 5 #(No. of timepoints for stable branches calculation)\n",
    "\n",
    "if save_path[-1] != '/':\n",
    "    save_path += '/'"
   ]
  },
  {
   "cell_type": "code",
   "execution_count": 3,
   "metadata": {},
   "outputs": [],
   "source": [
    "import os\n",
    "import utils.analysis as analysis\n",
    "import utils.datautils as datautils\n",
    "import matplotlib.pyplot as plt\n",
    "import pandas as pd\n",
    "import tifffile as tif\n",
    "import numpy as np\n",
    "import re\n",
    "from tqdm import tqdm\n",
    "from timeit import default_timer as timer"
   ]
  },
  {
   "cell_type": "code",
   "execution_count": 4,
   "metadata": {},
   "outputs": [
    {
     "name": "stdout",
     "output_type": "stream",
     "text": [
      "first 5 files\n",
      "['/Users/aichah/Desktop/TLI/data/test_data/220209_P36_N2_mask_flipV_JESUS.tif', '/Users/aichah/Desktop/TLI/data/test_data/220209_P36_N1_mask_flipV_JESUS_new_mask.tif', '/Users/aichah/Desktop/TLI/data/test_data/211121_P36.5_N3_GFP_JESUS_label.tif', '/Users/aichah/Desktop/TLI/data/test_data/211113_P36_N2_GFP_JESUS_new_mask.tif', '/Users/aichah/Desktop/TLI/data/test_data/211113_P36_N1_mask3_JESUS.tif']\n"
     ]
    }
   ],
   "source": [
    "files_list = datautils.get_file_names(data_path, group_by='', \n",
    "                                        order=True, nested_files=False, \n",
    "                                        criteria='tif')"
   ]
  },
  {
   "cell_type": "code",
   "execution_count": 5,
   "metadata": {},
   "outputs": [
    {
     "name": "stderr",
     "output_type": "stream",
     "text": [
      "100%|██████████| 87/87 [00:04<00:00, 18.14it/s]\n",
      "100%|██████████| 87/87 [00:05<00:00, 16.06it/s]\n",
      "100%|██████████| 91/91 [00:07<00:00, 11.70it/s]\n",
      "100%|██████████| 85/85 [00:05<00:00, 15.42it/s]\n",
      "100%|██████████| 85/85 [00:05<00:00, 16.95it/s]\n",
      "100%|██████████| 91/91 [00:04<00:00, 21.14it/s]\n",
      "100%|██████████| 91/91 [00:04<00:00, 18.72it/s]\n",
      "6it [03:17, 32.99s/it]\n"
     ]
    },
    {
     "ename": "IndexError",
     "evalue": "list index out of range",
     "output_type": "error",
     "traceback": [
      "\u001b[0;31m---------------------------------------------------------------------------\u001b[0m",
      "\u001b[0;31mIndexError\u001b[0m                                Traceback (most recent call last)",
      "\u001b[0;32m/var/folders/5d/tj6rj8cn7_xdplpgkz202g5rnq_4v2/T/ipykernel_22960/925591887.py\u001b[0m in \u001b[0;36m<module>\u001b[0;34m\u001b[0m\n\u001b[1;32m     24\u001b[0m     \u001b[0moutput_results\u001b[0m\u001b[0;34m[\u001b[0m\u001b[0;34m'growthR_stable'\u001b[0m\u001b[0;34m]\u001b[0m \u001b[0;34m=\u001b[0m \u001b[0moutput_results\u001b[0m\u001b[0;34m.\u001b[0m\u001b[0mvol_stable\u001b[0m\u001b[0;34m.\u001b[0m\u001b[0mdiff\u001b[0m\u001b[0;34m(\u001b[0m\u001b[0;34m)\u001b[0m\u001b[0;34m/\u001b[0m\u001b[0moutput_results\u001b[0m\u001b[0;34m.\u001b[0m\u001b[0mvol_stable\u001b[0m\u001b[0;34m\u001b[0m\u001b[0;34m\u001b[0m\u001b[0m\n\u001b[1;32m     25\u001b[0m     \u001b[0moutput_results\u001b[0m\u001b[0;34m[\u001b[0m\u001b[0;34m'trans_per'\u001b[0m\u001b[0;34m]\u001b[0m \u001b[0;34m=\u001b[0m \u001b[0;34m(\u001b[0m\u001b[0moutput_results\u001b[0m\u001b[0;34m.\u001b[0m\u001b[0mvol_all\u001b[0m \u001b[0;34m-\u001b[0m \u001b[0moutput_results\u001b[0m\u001b[0;34m.\u001b[0m\u001b[0mvol_stable\u001b[0m\u001b[0;34m)\u001b[0m\u001b[0;34m/\u001b[0m\u001b[0moutput_results\u001b[0m\u001b[0;34m.\u001b[0m\u001b[0mvol_stable\u001b[0m\u001b[0;34m\u001b[0m\u001b[0;34m\u001b[0m\u001b[0m\n\u001b[0;32m---> 26\u001b[0;31m     DGIs = analysis.calculate_DGI(entry_points[i], neuron, \n\u001b[0m\u001b[1;32m     27\u001b[0m                                   \u001b[0mstart_t\u001b[0m\u001b[0;34m=\u001b[0m\u001b[0mstart_age\u001b[0m\u001b[0;34m,\u001b[0m\u001b[0;34m\u001b[0m\u001b[0;34m\u001b[0m\u001b[0m\n\u001b[1;32m     28\u001b[0m                                   \u001b[0msave\u001b[0m\u001b[0;34m=\u001b[0m\u001b[0;32mFalse\u001b[0m\u001b[0;34m,\u001b[0m \u001b[0msave_path\u001b[0m\u001b[0;34m=\u001b[0m\u001b[0;34m''\u001b[0m\u001b[0;34m,\u001b[0m\u001b[0;34m\u001b[0m\u001b[0;34m\u001b[0m\u001b[0m\n",
      "\u001b[0;31mIndexError\u001b[0m: list index out of range"
     ]
    }
   ],
   "source": [
    "for i, file in tqdm(enumerate(files_list)):\n",
    "    file_name = os.path.basename(file)\n",
    "    start_age = re.search('P(.*)_N', file_name)\n",
    "    start_age = float(start_age.group(1))\n",
    "    neuron = tif.imread(file)\n",
    "    neuron[neuron != 0] = 1\n",
    "    lifetimes = analysis.cal_lifetimes(neuron, save=False, \n",
    "                                        save_path=save_path, save_file=file_name, \n",
    "                                        xy_pixel=0.076, z_pixel=0.4)\n",
    "    stable_neuron = analysis.stable_N(lifetimes, stab_limit=stab_limit, save=False, \n",
    "                                        save_path=save_path, save_file=file_name, \n",
    "                                        xy_pixel=0.076, z_pixel=0.4)\n",
    "    timepoints = [start_age+(i*0.25) for i in np.arange(len(lifetimes))]   \n",
    "    output_results = pd.DataFrame({'timepoints':timepoints})\n",
    "    output_results = analysis.N_volume(neuron, stable_neuron, normalize=False, \n",
    "                                    start_t=start_age, plot=False, \n",
    "                                    save=False, save_path=save_path, \n",
    "                                    save_file='Vol_'+file_name)\n",
    "    vol_all = lifetimes.copy()\n",
    "    vol_all[vol_all > 0] = 1\n",
    "    output_results['vol_all1'] = vol_all.sum(axis=(1,2,3))\n",
    "    output_results['vol_stable1'] = stable_neuron.sum(axis=(1,2,3))     \n",
    "    output_results['growthR_all'] = output_results.vol_all.diff()/output_results.vol_all\n",
    "    output_results['growthR_stable'] = output_results.vol_stable.diff()/output_results.vol_stable\n",
    "    output_results['trans_per'] = (output_results.vol_all - output_results.vol_stable)/output_results.vol_stable\n",
    "    DGIs = analysis.calculate_DGI(entry_points[i], neuron, \n",
    "                                  start_t=start_age, \n",
    "                                  save=False, save_path='', \n",
    "                                  save_file='')\n",
    "    output_results = pd.merge(output_results, DGIs, on='timepoints')\n",
    "    output_file = save_path+file_name+'_output.csv'\n",
    "    output_file = output_file.replace('.tif','')\n",
    "    output_results.to_csv(output_file, sep=';')"
   ]
  },
  {
   "cell_type": "code",
   "execution_count": null,
   "metadata": {},
   "outputs": [],
   "source": []
  },
  {
   "cell_type": "code",
   "execution_count": null,
   "metadata": {},
   "outputs": [],
   "source": []
  },
  {
   "cell_type": "code",
   "execution_count": null,
   "metadata": {},
   "outputs": [],
   "source": []
  },
  {
   "cell_type": "code",
   "execution_count": 5,
   "metadata": {},
   "outputs": [
    {
     "name": "stderr",
     "output_type": "stream",
     "text": [
      "100%|██████████| 87/87 [00:04<00:00, 17.92it/s]\n"
     ]
    }
   ],
   "source": [
    "neuron = tif.imread(files_list[0])\n",
    "neuron[neuron != 0] = 1\n",
    "lifetimes = analysis.cal_lifetimes(neuron, save=False, \n",
    "                                    save_path=save_path, save_file='', \n",
    "                                    xy_pixel=0.076, z_pixel=0.4)\n",
    "# print(i, 'step1', round(timer(),3)-start)\n",
    "stable_neuron = analysis.stable_N(lifetimes, stab_limit=stab_limit, save=False, \n",
    "                                    save_path=save_path, save_file='', \n",
    "                                    xy_pixel=0.076, z_pixel=0.4)"
   ]
  },
  {
   "cell_type": "code",
   "execution_count": 28,
   "metadata": {},
   "outputs": [],
   "source": [
    "timepoints = [36+(i*0.25) for i in np.arange(len(lifetimes))]\n",
    "output_results = pd.DataFrame({'timepoints':timepoints})\n",
    "# results['lifetimes'] = lifetimes.sum(axis=(1,2,3))\n",
    "vol_all = lifetimes.copy()\n",
    "vol_all[vol_all > 0] = 1\n",
    "output_results['vol_all'] = vol_all.sum(axis=(1,2,3))\n",
    "output_results['vol_stable'] = stable_neuron.sum(axis=(1,2,3))\n",
    "output_results['growthR_all'] = output_results.vol_all.diff()/output_results.vol_all\n",
    "output_results['growthR_stable'] = output_results.vol_stable.diff()/output_results.vol_stable\n",
    "output_results['trans_per'] = (output_results.vol_all - output_results.vol_stable)/output_results.vol_stable\n",
    "output_results['trans_per'] = round(output_results['trans_per'],4)"
   ]
  },
  {
   "cell_type": "code",
   "execution_count": 29,
   "metadata": {},
   "outputs": [],
   "source": [
    "output_file = save_path+'test'+'_output.csv'\n",
    "output_file = output_file.replace('.tif','')\n",
    "output_results.to_csv(output_file, sep=';')"
   ]
  },
  {
   "cell_type": "code",
   "execution_count": null,
   "metadata": {},
   "outputs": [],
   "source": []
  },
  {
   "cell_type": "code",
   "execution_count": 11,
   "metadata": {},
   "outputs": [
    {
     "name": "stdout",
     "output_type": "stream",
     "text": [
      "(88, 43, 400, 400) 88.0\n"
     ]
    },
    {
     "data": {
      "text/plain": [
       "array([ 123443.,  239413.,  323224.,  385346.,  487428.,  484679.,\n",
       "        558009.,  635354.,  691009.,  758363.,  827638.,  920673.,\n",
       "        966155., 1036822., 1101022., 1178023., 1270735., 1282131.,\n",
       "       1367939., 1449523., 1515779., 1547416., 1611608., 1654075.,\n",
       "       1669984., 1744900., 1839306., 1808726., 1899697., 1950807.,\n",
       "       2014772., 2084854., 2136871., 2209047., 2320012., 2412037.,\n",
       "       2502678., 2591585., 2686672., 2765242., 2842314., 2877460.,\n",
       "       2970268., 3077839., 3108871., 3222517., 3336783., 3444485.,\n",
       "       3559534., 3652819., 3770924., 3866230., 3933022., 4038608.,\n",
       "       4139690., 4227536., 4305086., 4409369., 4505620., 4564247.,\n",
       "       4662106., 4773230., 4890997., 4963604., 5040907., 5140954.,\n",
       "       5236425., 5319872., 5428655., 5525791., 5607824., 5696629.,\n",
       "       5764142., 5873177., 5952445., 6058495., 6157246., 6218669.,\n",
       "       6312947., 6320229., 6361238., 6479895., 6510165., 6628513.,\n",
       "       6720061., 6772669., 6879097., 6946732.])"
      ]
     },
     "execution_count": 11,
     "metadata": {},
     "output_type": "execute_result"
    }
   ],
   "source": [
    "print(lifetimes.shape, lifetimes.max())\n",
    "lifetimes.sum(axis=(1,2,3))"
   ]
  },
  {
   "cell_type": "code",
   "execution_count": 5,
   "metadata": {},
   "outputs": [
    {
     "name": "stderr",
     "output_type": "stream",
     "text": [
      "100%|██████████| 87/87 [00:04<00:00, 18.31it/s]\n",
      "100%|██████████| 87/87 [00:05<00:00, 16.23it/s]\n",
      "100%|██████████| 91/91 [00:07<00:00, 12.77it/s]\n",
      "100%|██████████| 85/85 [00:04<00:00, 17.96it/s]\n",
      "100%|██████████| 85/85 [00:04<00:00, 17.38it/s]\n",
      "100%|██████████| 91/91 [00:04<00:00, 21.00it/s]\n",
      "100%|██████████| 91/91 [00:04<00:00, 18.57it/s]\n",
      "6it [02:48, 28.00s/it]\n"
     ]
    },
    {
     "ename": "IndexError",
     "evalue": "list index out of range",
     "output_type": "error",
     "traceback": [
      "\u001b[0;31m---------------------------------------------------------------------------\u001b[0m",
      "\u001b[0;31mIndexError\u001b[0m                                Traceback (most recent call last)",
      "\u001b[0;32m/var/folders/5d/tj6rj8cn7_xdplpgkz202g5rnq_4v2/T/ipykernel_21756/3580484287.py\u001b[0m in \u001b[0;36m<module>\u001b[0;34m\u001b[0m\n\u001b[1;32m     19\u001b[0m     \u001b[0moutput_results\u001b[0m\u001b[0;34m[\u001b[0m\u001b[0;34m'growthR_stable'\u001b[0m\u001b[0;34m]\u001b[0m \u001b[0;34m=\u001b[0m \u001b[0moutput_results\u001b[0m\u001b[0;34m.\u001b[0m\u001b[0mvol_stable\u001b[0m\u001b[0;34m.\u001b[0m\u001b[0mdiff\u001b[0m\u001b[0;34m(\u001b[0m\u001b[0;34m)\u001b[0m\u001b[0;34m/\u001b[0m\u001b[0moutput_results\u001b[0m\u001b[0;34m.\u001b[0m\u001b[0mvol_stable\u001b[0m\u001b[0;34m\u001b[0m\u001b[0;34m\u001b[0m\u001b[0m\n\u001b[1;32m     20\u001b[0m     \u001b[0moutput_results\u001b[0m\u001b[0;34m[\u001b[0m\u001b[0;34m'trans_per'\u001b[0m\u001b[0;34m]\u001b[0m \u001b[0;34m=\u001b[0m \u001b[0;34m(\u001b[0m\u001b[0moutput_results\u001b[0m\u001b[0;34m.\u001b[0m\u001b[0mvol_all\u001b[0m \u001b[0;34m-\u001b[0m \u001b[0moutput_results\u001b[0m\u001b[0;34m.\u001b[0m\u001b[0mvol_stable\u001b[0m\u001b[0;34m)\u001b[0m\u001b[0;34m/\u001b[0m\u001b[0moutput_results\u001b[0m\u001b[0;34m.\u001b[0m\u001b[0mvol_stable\u001b[0m\u001b[0;34m\u001b[0m\u001b[0;34m\u001b[0m\u001b[0m\n\u001b[0;32m---> 21\u001b[0;31m     DGIs = analysis.calculate_DGI(entry_points[i], neuron, \n\u001b[0m\u001b[1;32m     22\u001b[0m                                   \u001b[0mstart_t\u001b[0m\u001b[0;34m=\u001b[0m\u001b[0mstart_age\u001b[0m\u001b[0;34m,\u001b[0m\u001b[0;34m\u001b[0m\u001b[0;34m\u001b[0m\u001b[0m\n\u001b[1;32m     23\u001b[0m                                   \u001b[0msave\u001b[0m\u001b[0;34m=\u001b[0m\u001b[0;32mFalse\u001b[0m\u001b[0;34m,\u001b[0m \u001b[0msave_path\u001b[0m\u001b[0;34m=\u001b[0m\u001b[0;34m''\u001b[0m\u001b[0;34m,\u001b[0m\u001b[0;34m\u001b[0m\u001b[0;34m\u001b[0m\u001b[0m\n",
      "\u001b[0;31mIndexError\u001b[0m: list index out of range"
     ]
    }
   ],
   "source": [
    "for i, file in tqdm(enumerate(files_list)):\n",
    "    file_name = os.path.basename(file)\n",
    "    start_age = re.search('P(.*)_N', file_name)\n",
    "    start_age = float(start_age.group(1))\n",
    "    neuron = tif.imread(file)\n",
    "    neuron[neuron != 0] = 1\n",
    "    lifetimes = analysis.cal_lifetimes(neuron, save=False, \n",
    "                                        save_path=save_path, save_file=file_name, \n",
    "                                        xy_pixel=0.076, z_pixel=0.4)\n",
    "    stable_neuron = analysis.stable_N(lifetimes, stab_limit=stab_limit, save=False, \n",
    "                                        save_path=save_path, save_file=file_name, \n",
    "                                        xy_pixel=0.076, z_pixel=0.4)\n",
    "    timepoints = [start_age+(i*0.25) for i in np.arange(len(lifetimes))]     \n",
    "    output_results = analysis.N_volume(neuron, stable_neuron, normalize=False, \n",
    "                                        start_t=start_age, plot=False, \n",
    "                                        save=False, save_path=save_path, \n",
    "                                        save_file='Vol_'+file_name)\n",
    "    output_results['growthR_all'] = output_results.vol_all.diff()/output_results.vol_all\n",
    "    output_results['growthR_stable'] = output_results.vol_stable.diff()/output_results.vol_stable\n",
    "    output_results['trans_per'] = (output_results.vol_all - output_results.vol_stable)/output_results.vol_stable\n",
    "    DGIs = analysis.calculate_DGI(entry_points[i], neuron, \n",
    "                                  start_t=start_age, \n",
    "                                  save=False, save_path='', \n",
    "                                  save_file='')\n",
    "    output_results = pd.merge(output_results, DGIs, on='timepoints')\n",
    "    output_file = save_path+file_name+'_output.csv'\n",
    "    output_file = output_file.replace('.tif','')\n",
    "    output_results.to_csv(output_file, sep=';')\n",
    "    "
   ]
  },
  {
   "cell_type": "code",
   "execution_count": null,
   "metadata": {},
   "outputs": [],
   "source": []
  },
  {
   "cell_type": "code",
   "execution_count": null,
   "metadata": {},
   "outputs": [],
   "source": []
  },
  {
   "cell_type": "code",
   "execution_count": null,
   "metadata": {},
   "outputs": [],
   "source": []
  },
  {
   "cell_type": "code",
   "execution_count": null,
   "metadata": {},
   "outputs": [],
   "source": []
  },
  {
   "cell_type": "code",
   "execution_count": null,
   "metadata": {},
   "outputs": [],
   "source": []
  },
  {
   "cell_type": "code",
   "execution_count": 7,
   "metadata": {},
   "outputs": [
    {
     "name": "stderr",
     "output_type": "stream",
     "text": [
      "100%|██████████| 87/87 [00:04<00:00, 18.10it/s]\n"
     ]
    }
   ],
   "source": [
    "neuron = tif.imread(files_list[0])\n",
    "neuron[neuron != 0] = 1\n",
    "lifetimes = analysis.cal_lifetimes(neuron, save=False, \n",
    "                                    save_path=save_path, save_file='', \n",
    "                                    xy_pixel=0.076, z_pixel=0.4)\n",
    "# print(i, 'step1', round(timer(),3)-start)\n",
    "stable_neuron = analysis.stable_N(lifetimes, stab_limit=stab_limit, save=False, \n",
    "                                    save_path=save_path, save_file='', \n",
    "                                    xy_pixel=0.076, z_pixel=0.4)"
   ]
  },
  {
   "cell_type": "code",
   "execution_count": 9,
   "metadata": {},
   "outputs": [
    {
     "data": {
      "text/plain": [
       "(1.0, 88.0, (88, 43, 400, 400), (88, 43, 400, 400))"
      ]
     },
     "execution_count": 9,
     "metadata": {},
     "output_type": "execute_result"
    }
   ],
   "source": [
    "stable_neuron.max(), lifetimes.max(), lifetimes.shape, stable_neuron.shape"
   ]
  },
  {
   "cell_type": "code",
   "execution_count": 17,
   "metadata": {},
   "outputs": [
    {
     "data": {
      "text/plain": [
       "(88, 10364140.0)"
      ]
     },
     "execution_count": 17,
     "metadata": {},
     "output_type": "execute_result"
    }
   ],
   "source": [
    "len(stable_neuron>0), stable_neuron.sum()"
   ]
  },
  {
   "cell_type": "code",
   "execution_count": 18,
   "metadata": {},
   "outputs": [
    {
     "data": {
      "text/plain": [
       "295148933.0"
      ]
     },
     "execution_count": 18,
     "metadata": {},
     "output_type": "execute_result"
    }
   ],
   "source": [
    "tt = lifetimes[lifetimes>0]\n",
    "tt.sum()"
   ]
  },
  {
   "cell_type": "code",
   "execution_count": 26,
   "metadata": {},
   "outputs": [
    {
     "data": {
      "text/plain": [
       "array([ 123443.,  239413.,  323224.,  385346.,  487428.,  484679.,\n",
       "        558009.,  635354.,  691009.,  758363.,  827638.,  920673.,\n",
       "        966155., 1036822., 1101022., 1178023., 1270735., 1282131.,\n",
       "       1367939., 1449523., 1515779., 1547416., 1611608., 1654075.,\n",
       "       1669984., 1744900., 1839306., 1808726., 1899697., 1950807.,\n",
       "       2014772., 2084854., 2136871., 2209047., 2320012., 2412037.,\n",
       "       2502678., 2591585., 2686672., 2765242., 2842314., 2877460.,\n",
       "       2970268., 3077839., 3108871., 3222517., 3336783., 3444485.,\n",
       "       3559534., 3652819., 3770924., 3866230., 3933022., 4038608.,\n",
       "       4139690., 4227536., 4305086., 4409369., 4505620., 4564247.,\n",
       "       4662106., 4773230., 4890997., 4963604., 5040907., 5140954.,\n",
       "       5236425., 5319872., 5428655., 5525791., 5607824., 5696629.,\n",
       "       5764142., 5873177., 5952445., 6058495., 6157246., 6218669.,\n",
       "       6312947., 6320229., 6361238., 6479895., 6510165., 6628513.,\n",
       "       6720061., 6772669., 6879097., 6946732.])"
      ]
     },
     "execution_count": 26,
     "metadata": {},
     "output_type": "execute_result"
    }
   ],
   "source": [
    "lifetimes.sum(axis=(1,2,3))"
   ]
  },
  {
   "cell_type": "code",
   "execution_count": 6,
   "metadata": {},
   "outputs": [
    {
     "name": "stderr",
     "output_type": "stream",
     "text": [
      "100%|██████████| 87/87 [00:04<00:00, 17.60it/s]\n",
      "100%|██████████| 87/87 [00:05<00:00, 16.94it/s]\n",
      "100%|██████████| 91/91 [00:06<00:00, 13.63it/s]\n"
     ]
    }
   ],
   "source": [
    "for i, file in tqdm(enumerate(files_list)):\n",
    "    # start = round(timer(),3)\n",
    "    file_name = os.path.basename(file)\n",
    "    start_age = re.search('P(.*)_N', file_name)\n",
    "    start_age = float(start_age.group(1))\n",
    "    neuron = tif.imread(file)\n",
    "    neuron[neuron != 0] = 1\n",
    "    lifetimes = analysis.cal_lifetimes(neuron, save=False, \n",
    "                                        save_path=save_path, save_file=file_name, \n",
    "                                        xy_pixel=0.076, z_pixel=0.4)\n",
    "    # print(i, 'step1', round(timer(),3)-start)\n",
    "    stable_neuron = analysis.stable_N(lifetimes, stab_limit=stab_limit, save=False, \n",
    "                                        save_path=save_path, save_file=file_name, \n",
    "                                        xy_pixel=0.076, z_pixel=0.4)\n",
    "    timepoints = [start_age+(i*0.25) for i in np.arange(len(lifetimes))]     \n",
    "    # print(i, 'step2', round(timer(),3)-start)\n",
    "    # output_results = analysis.N_volume(neuron, stable_neuron, normalize=False, \n",
    "    #                                     start_t=start_age, plot=False, \n",
    "    #                                     save=False, save_path=save_path, \n",
    "    #                                     save_file='Vol_'+file_name)\n",
    "    output_results = pd.DataFrame({'timepoints':timepoints})\n",
    "    output_results['vol_all'] = len(np.where(lifetimes>0)[0])\n",
    "    output_results['vol_stable'] = len(np.where(stable_neuron>0)[0])\n",
    "    # output_results['vol_stable2'] = len(np.where(lifetimes>=stab_limit)[0])\n",
    "    # print(i, 'step3', round(timer(),3)-start)\n",
    "    output_results['growthR_all'] = output_results.vol_all.diff()/output_results.vol_all\n",
    "    output_results['growthR_stable'] = output_results.vol_stable.diff()/output_results.vol_stable\n",
    "    output_results['trans_per'] = (output_results.vol_all - output_results.vol_stable)/output_results.vol_stable\n",
    "    # output_results.growthR_all = round(output_results.growthR_all, 3)\n",
    "    # output_results.growthR_stable = round(output_results.growthR_stable, 3)\n",
    "    # output_results['trans_per'] = round(output_results['trans_per'], 3)\n",
    "    # print(i, 'step4', round(timer(),3)-start)\n",
    "    # output_transient = analysis.trans_px_levels(lifetimes, stab_limit=stab_limit, \n",
    "    #                                             start_t=start_age, plot=False, \n",
    "    #                                             save=False, save_path='', \n",
    "    #                                             save_file='')\n",
    "    # output_results = pd.merge(output_results, output_transient, on='timepoints')\n",
    "    # # print(i, 'step5', round(timer(),3)-start)\n",
    "    # output_transient = analysis.trans_px_levels2(neuron, stable_neuron, \n",
    "    #                                             start_t=start_age, plot=False, \n",
    "    #                                             save=False, save_path='', \n",
    "    #                                             save_file='')\n",
    "    # output_results = pd.merge(output_results, output_transient, on='timepoints')\n",
    "    # print(i, 'step6', round(timer(),3)-start)\n",
    "    DGIs = analysis.calculate_DGI(entry_points[i], neuron, \n",
    "                                  start_t=start_age, \n",
    "                                  save=False, save_path='', \n",
    "                                  save_file='')\n",
    "    output_results = pd.merge(output_results, DGIs, on='timepoints')\n",
    "    # print(i, 'step7', round(timer(),3)-start)\n",
    "    output_file = save_path+file_name+'_output.csv'\n",
    "    output_file = output_file.replace('.tif','')\n",
    "    output_results.to_csv(output_file, sep=';')\n",
    "\n",
    "    # del neuron, stable_neuron, lifetimes, DGIs, output_results, output_transient"
   ]
  },
  {
   "cell_type": "code",
   "execution_count": 1,
   "metadata": {},
   "outputs": [
    {
     "ename": "NameError",
     "evalue": "name 'neuron' is not defined",
     "output_type": "error",
     "traceback": [
      "\u001b[0;31m---------------------------------------------------------------------------\u001b[0m",
      "\u001b[0;31mNameError\u001b[0m                                 Traceback (most recent call last)",
      "\u001b[0;32m/var/folders/5d/tj6rj8cn7_xdplpgkz202g5rnq_4v2/T/ipykernel_21269/3319299582.py\u001b[0m in \u001b[0;36m<module>\u001b[0;34m\u001b[0m\n\u001b[0;32m----> 1\u001b[0;31m \u001b[0mneuron\u001b[0m\u001b[0;34m\u001b[0m\u001b[0;34m\u001b[0m\u001b[0m\n\u001b[0m",
      "\u001b[0;31mNameError\u001b[0m: name 'neuron' is not defined"
     ]
    }
   ],
   "source": [
    "neuron"
   ]
  },
  {
   "cell_type": "code",
   "execution_count": null,
   "metadata": {},
   "outputs": [],
   "source": []
  }
 ],
 "metadata": {
  "interpreter": {
   "hash": "f3f6acc8ab4cd1097e4d91bbffd405bcf59aaff2754a866d7c8cf61e0274c3d7"
  },
  "kernelspec": {
   "display_name": "Python 3.8.12 64-bit ('preprocessing': conda)",
   "language": "python",
   "name": "python3"
  },
  "language_info": {
   "codemirror_mode": {
    "name": "ipython",
    "version": 3
   },
   "file_extension": ".py",
   "mimetype": "text/x-python",
   "name": "python",
   "nbconvert_exporter": "python",
   "pygments_lexer": "ipython3",
   "version": "3.9.6"
  },
  "orig_nbformat": 4
 },
 "nbformat": 4,
 "nbformat_minor": 2
}
