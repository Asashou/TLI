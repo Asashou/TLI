{
 "cells": [
  {
   "cell_type": "code",
   "execution_count": 1,
   "metadata": {},
   "outputs": [],
   "source": [
    "# this notebook iterate over neuron 4D files (already masked and filtered) \n",
    "# and stream-pipeline the defined analysis steps \n",
    "# and save the output into one dataframe per neuron with the following columns\n",
    "# output_cols: timepoints, vol_all, vol_stable, growthR_all, growthR_stable, transient_px_N, transient_px_per ...."
   ]
  },
  {
   "cell_type": "code",
   "execution_count": 2,
   "metadata": {},
   "outputs": [],
   "source": [
    "data_path = '/Users/aichah/Desktop/TLI/data/test_data/'\n",
    "save_path = '/Users/aichah/Desktop/TLI/data/test_data/output/'\n",
    "entry_points = [[0, 27, 234, 181],\n",
    "                [0, 26, 255, 203],\n",
    "                [0, 28, 172, 193],\n",
    "                [0, 36, 178, 184],\n",
    "                [0, 22, 216, 105],\n",
    "                [0, 45, 232, 194]] # define the entry point for each neuron in the folder\n",
    "stab_limit = 5 #(No. of timepoints for stable branches calculation)\n",
    "\n",
    "if save_path[-1] != '/':\n",
    "    save_path += '/'"
   ]
  },
  {
   "cell_type": "code",
   "execution_count": 3,
   "metadata": {},
   "outputs": [],
   "source": [
    "import os\n",
    "import utils.analysis as analysis\n",
    "import utils.datautils as datautils\n",
    "import matplotlib.pyplot as plt\n",
    "import pandas as pd\n",
    "import tifffile as tif\n",
    "import numpy as np\n",
    "import re\n",
    "from tqdm import tqdm"
   ]
  },
  {
   "cell_type": "code",
   "execution_count": 4,
   "metadata": {},
   "outputs": [
    {
     "name": "stdout",
     "output_type": "stream",
     "text": [
      "first 5 files\n",
      "['/Users/aichah/Desktop/TLI/data/test_data/220209_P36_N2_mask_flipV_JESUS.tif', '/Users/aichah/Desktop/TLI/data/test_data/220209_P36_N1_mask_flipV_JESUS_new_mask.tif', '/Users/aichah/Desktop/TLI/data/test_data/211121_P36.5_N3_GFP_JESUS_label.tif', '/Users/aichah/Desktop/TLI/data/test_data/211113_P36_N2_GFP_JESUS_new_mask.tif', '/Users/aichah/Desktop/TLI/data/test_data/211113_P36_N1_mask3_JESUS.tif']\n"
     ]
    }
   ],
   "source": [
    "files_list = datautils.get_file_names(data_path, group_by='', \n",
    "                                        order=True, nested_files=False, \n",
    "                                        criteria='tif')"
   ]
  },
  {
   "cell_type": "code",
   "execution_count": 5,
   "metadata": {},
   "outputs": [
    {
     "name": "stderr",
     "output_type": "stream",
     "text": [
      "100%|██████████| 87/87 [00:05<00:00, 17.11it/s]\n",
      "calculating neuron volume: 100%|██████████| 88/88 [00:00<00:00, 176.26it/s]\n",
      "calculating stable volume: 100%|██████████| 88/88 [00:00<00:00, 295.65it/s]\n",
      "100%|██████████| 88/88 [00:01<00:00, 45.45it/s]\n",
      "100%|██████████| 87/87 [00:05<00:00, 16.56it/s]\n",
      "calculating neuron volume: 100%|██████████| 88/88 [00:00<00:00, 185.81it/s]\n",
      "calculating stable volume: 100%|██████████| 88/88 [00:00<00:00, 304.57it/s]\n",
      "100%|██████████| 88/88 [00:02<00:00, 38.89it/s]\n",
      "100%|██████████| 91/91 [00:07<00:00, 11.63it/s]\n",
      "calculating neuron volume: 100%|██████████| 92/92 [00:00<00:00, 133.80it/s]\n",
      "calculating stable volume: 100%|██████████| 92/92 [00:00<00:00, 246.98it/s]\n",
      "100%|██████████| 92/92 [00:02<00:00, 33.61it/s]\n",
      "100%|██████████| 85/85 [00:05<00:00, 16.37it/s]\n",
      "calculating neuron volume: 100%|██████████| 86/86 [00:00<00:00, 207.21it/s]\n",
      "calculating stable volume: 100%|██████████| 86/86 [00:00<00:00, 312.33it/s]\n",
      "100%|██████████| 86/86 [00:01<00:00, 48.23it/s]\n",
      "100%|██████████| 85/85 [00:05<00:00, 16.58it/s]\n",
      "calculating neuron volume: 100%|██████████| 86/86 [00:00<00:00, 180.30it/s]\n",
      "calculating stable volume: 100%|██████████| 86/86 [00:00<00:00, 287.44it/s]\n",
      "100%|██████████| 86/86 [00:02<00:00, 38.62it/s]\n",
      "100%|██████████| 91/91 [00:04<00:00, 21.56it/s]\n",
      "calculating neuron volume: 100%|██████████| 92/92 [00:00<00:00, 222.70it/s]\n",
      "calculating stable volume: 100%|██████████| 92/92 [00:00<00:00, 352.95it/s]\n",
      "100%|██████████| 92/92 [00:01<00:00, 53.00it/s]\n",
      "100%|██████████| 91/91 [00:05<00:00, 17.36it/s]\n",
      "calculating neuron volume: 100%|██████████| 92/92 [00:00<00:00, 196.74it/s]\n",
      "calculating stable volume: 100%|██████████| 92/92 [00:00<00:00, 263.36it/s]\n",
      "100%|██████████| 92/92 [00:01<00:00, 47.51it/s]\n",
      "6it [04:19, 43.23s/it]\n"
     ]
    },
    {
     "ename": "IndexError",
     "evalue": "list index out of range",
     "output_type": "error",
     "traceback": [
      "\u001b[0;31m---------------------------------------------------------------------------\u001b[0m",
      "\u001b[0;31mIndexError\u001b[0m                                Traceback (most recent call last)",
      "\u001b[0;32m/var/folders/5d/tj6rj8cn7_xdplpgkz202g5rnq_4v2/T/ipykernel_16477/3707695458.py\u001b[0m in \u001b[0;36m<module>\u001b[0;34m\u001b[0m\n\u001b[1;32m     24\u001b[0m                                                 save_file='')\n\u001b[1;32m     25\u001b[0m     \u001b[0moutput_results\u001b[0m \u001b[0;34m=\u001b[0m \u001b[0mpd\u001b[0m\u001b[0;34m.\u001b[0m\u001b[0mmerge\u001b[0m\u001b[0;34m(\u001b[0m\u001b[0moutput_results\u001b[0m\u001b[0;34m,\u001b[0m \u001b[0moutput_transient\u001b[0m\u001b[0;34m,\u001b[0m \u001b[0mon\u001b[0m\u001b[0;34m=\u001b[0m\u001b[0;34m'timepoints'\u001b[0m\u001b[0;34m)\u001b[0m\u001b[0;34m\u001b[0m\u001b[0;34m\u001b[0m\u001b[0m\n\u001b[0;32m---> 26\u001b[0;31m     DGIs = analysis.calculate_DGI(entry_points[i], neuron, \n\u001b[0m\u001b[1;32m     27\u001b[0m                                   \u001b[0mstart_t\u001b[0m\u001b[0;34m=\u001b[0m\u001b[0mstart_age\u001b[0m\u001b[0;34m,\u001b[0m\u001b[0;34m\u001b[0m\u001b[0;34m\u001b[0m\u001b[0m\n\u001b[1;32m     28\u001b[0m                                   \u001b[0msave\u001b[0m\u001b[0;34m=\u001b[0m\u001b[0;32mFalse\u001b[0m\u001b[0;34m,\u001b[0m \u001b[0msave_path\u001b[0m\u001b[0;34m=\u001b[0m\u001b[0;34m''\u001b[0m\u001b[0;34m,\u001b[0m\u001b[0;34m\u001b[0m\u001b[0;34m\u001b[0m\u001b[0m\n",
      "\u001b[0;31mIndexError\u001b[0m: list index out of range"
     ]
    }
   ],
   "source": [
    "for i, file in tqdm(enumerate(files_list)):\n",
    "    file_name = os.path.basename(file)\n",
    "    start_age = re.search('P(.*)_N', file_name)\n",
    "    start_age = float(start_age.group(1))\n",
    "    neuron = tif.imread(file)\n",
    "    neuron[neuron != 0] = 1\n",
    "    lifetimes = analysis.cal_lifetimes(neuron, save=False, \n",
    "                                        save_path=save_path, save_file=file_name, \n",
    "                                        xy_pixel=0.076, z_pixel=0.4)\n",
    "    stable_neuron = analysis.stable_N(lifetimes, stab_limit=stab_limit, save=False, \n",
    "                                        save_path=save_path, save_file=file_name, \n",
    "                                        xy_pixel=0.076, z_pixel=0.4)\n",
    "    output_results = analysis.N_volume(neuron, stable_neuron, normalize=False, \n",
    "                                        start_t=start_age, plot=False, \n",
    "                                        save=False, save_path=save_path, \n",
    "                                        save_file='Vol_'+file_name)\n",
    "    output_results['growthR_all'] = output_results.vol_all.diff()/output_results.vol_all\n",
    "    output_results['growthR_stable'] = output_results.vol_stable.diff()/output_results.vol_stable\n",
    "    output_transient = analysis.trans_px_levels(lifetimes, stab_limit=stab_limit, \n",
    "                                                start_t=start_age, plot=False, \n",
    "                                                save=False, save_path='', \n",
    "                                                save_file='')\n",
    "    output_results = pd.merge(output_results, output_transient, on='timepoints')\n",
    "    DGIs = analysis.calculate_DGI(entry_points[i], neuron, \n",
    "                                  start_t=start_age, \n",
    "                                  save=False, save_path='', \n",
    "                                  save_file='')\n",
    "    output_results = pd.merge(output_results, DGIs, on='timepoints')\n",
    "    output_file = save_path+file_name+'_output.csv'\n",
    "    output_results.to_csv(output_file, sep=';')\n",
    "\n",
    "    # del neuron, stable_neuron, lifetimes, DGIs, output_results, output_transient"
   ]
  },
  {
   "cell_type": "code",
   "execution_count": null,
   "metadata": {},
   "outputs": [],
   "source": []
  }
 ],
 "metadata": {
  "interpreter": {
   "hash": "f3f6acc8ab4cd1097e4d91bbffd405bcf59aaff2754a866d7c8cf61e0274c3d7"
  },
  "kernelspec": {
   "display_name": "Python 3.8.12 64-bit ('preprocessing': conda)",
   "language": "python",
   "name": "python3"
  },
  "language_info": {
   "codemirror_mode": {
    "name": "ipython",
    "version": 3
   },
   "file_extension": ".py",
   "mimetype": "text/x-python",
   "name": "python",
   "nbconvert_exporter": "python",
   "pygments_lexer": "ipython3",
   "version": "3.9.6"
  },
  "orig_nbformat": 4
 },
 "nbformat": 4,
 "nbformat_minor": 2
}
