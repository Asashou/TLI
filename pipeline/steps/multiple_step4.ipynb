{
 "cells": [
  {
   "cell_type": "code",
   "execution_count": 2,
   "metadata": {},
   "outputs": [],
   "source": [
    "# this notebook iterate over neuron 4D files (already masked and filtered) \n",
    "# and stream-pipeline the defined analysis steps \n",
    "# and save the output into one dataframe per neuron with the following columns\n",
    "# Output_name : XXXXXXXXX define\n",
    "# output_cols: XXXXXX define"
   ]
  },
  {
   "cell_type": "code",
   "execution_count": 1,
   "metadata": {},
   "outputs": [],
   "source": [
    "data_path = '/home/tli_project/Desktop/Data/T4/neurons/SubtypeA/'\n",
    "save_path = '/home/tli_project/Desktop/Data/T4/neurons/SubtypeA/output/'\n",
    "\n",
    "##\n",
    "stab_limit = 5 #(No. of timepoints for stable branches calculation)\n",
    "start_age = 37\n",
    "subtype='A' #define the subtype to be used in DGI func\n",
    "analysis_type = '3D' #define whether the analysis_type is 2D or 3D\n",
    "\n",
    "# entry point (t,z,y,x)\n",
    "# entry_point = [(0,16,240,240), (0,33,185,250),  for subtype A\n",
    "#                 (0,28,195,270), (0,44,225,170), \n",
    "#                 (0,43,280,250), (0,24,210,260),  \n",
    "#                 (0,31,235,240), (0,27,290,245)]\n",
    "entry_points = {'211104_P36_N1': (0,25,220,230),\n",
    "                '211104_P36_N3': (0,27,110,250),\n",
    "                '211107_P36_N2': (0,27,225,235),\n",
    "                '211107_P36_N3': (0,27,225,235),\n",
    "                '211113_P36_N1': (0,26,200,220),\n",
    "                '211114_P36_N3': (0,28,260,200),\n",
    "                '211121_P36.5_N3': (0,34,195,165),\n",
    "                '220127_P36_N1': (0,19,210,220),\n",
    "                '220209_P36_N1': (0,27,225,235),\n",
    "                '211011_P37_N1': (0,38,150,200),\n",
    "                '211104_P36_N2': (0,16,240,240), \n",
    "                '211107_P36_N1': (0,33,185,250),\n",
    "                '211113_P36_N2': (0,28,195,270), \n",
    "                '211114_P36_N1': (0,44,225,170), \n",
    "                '211114_P36_N2': (0,43,280,250), \n",
    "                '220209_P36_N2': (0,27,290,245),  \n",
    "                '211121_P36.5_N1': (0,24,210,260), \n",
    "                '211121_P36.5_N2': (0,31,235,240),\n",
    "                '211028_P36_N1': (0,25,210,240)}\n",
    "\n",
    "\n",
    "if save_path[-1] != '/':\n",
    "    save_path += '/'\n",
    "if data_path[-1] != '/':\n",
    "    data_path += '/'"
   ]
  },
  {
   "cell_type": "code",
   "execution_count": 2,
   "metadata": {},
   "outputs": [
    {
     "data": {
      "text/plain": [
       "{'211104_P36_N1': (0, 25, 220, 230),\n",
       " '211104_P36_N3': (0, 27, 110, 250),\n",
       " '211107_P36_N2': (0, 27, 225, 235),\n",
       " '211107_P36_N3': (0, 27, 225, 235),\n",
       " '211113_P36_N1': (0, 26, 200, 220),\n",
       " '211114_P36_N3': (0, 28, 260, 200),\n",
       " '211121_P36.5_N3': (0, 34, 195, 165),\n",
       " '220127_P36_N1': (0, 19, 210, 220),\n",
       " '220209_P36_N1': (0, 27, 225, 235),\n",
       " '211011_P37_N1': (0, 38, 150, 200),\n",
       " '211104_P36_N2': (0, 16, 240, 240),\n",
       " '211107_P36_N1': (0, 33, 185, 250),\n",
       " '211113_P36_N2': (0, 28, 195, 270),\n",
       " '211114_P36_N1': (0, 44, 225, 170),\n",
       " '211114_P36_N2': (0, 43, 280, 250),\n",
       " '220209_P36_N2': (0, 27, 290, 245),\n",
       " '211121_P36.5_N1': (0, 24, 210, 260),\n",
       " '211121_P36.5_N2': (0, 31, 235, 240),\n",
       " '211028_P36_N1': (0, 25, 210, 240)}"
      ]
     },
     "execution_count": 2,
     "metadata": {},
     "output_type": "execute_result"
    }
   ],
   "source": [
    "# if the analysis is done on 2D max_projection. Then, remove Z from entry-points\n",
    "if analysis_type == '2D':\n",
    "    for neu, ent in entry_points.items():\n",
    "        entry_points[neu] = (ent[0],ent[-2],ent[-1])\n",
    "entry_points"
   ]
  },
  {
   "cell_type": "code",
   "execution_count": 3,
   "metadata": {},
   "outputs": [],
   "source": [
    "import os\n",
    "import utils.analysis as analysis\n",
    "import utils.datautils as datautils\n",
    "import matplotlib.pyplot as plt\n",
    "import tifffile as tif\n",
    "import numpy as np\n",
    "import re\n",
    "from tqdm import tqdm\n",
    "import pandas as pd\n",
    "import math\n",
    "from skimage.measure import regionprops\n",
    "from read_roi import read_roi_zip as col_zip\n",
    "from scipy.spatial import ConvexHull, convex_hull_plot_2d"
   ]
  },
  {
   "cell_type": "code",
   "execution_count": 4,
   "metadata": {},
   "outputs": [
    {
     "data": {
      "text/plain": [
       "['211104_P36_N2',\n",
       " '211107_P36_N1',\n",
       " '211113_P36_N2',\n",
       " '211114_P36_N1',\n",
       " '211114_P36_N2',\n",
       " '211121_P36.5_N1',\n",
       " '211121_P36.5_N2',\n",
       " '220209_P36_N2']"
      ]
     },
     "execution_count": 4,
     "metadata": {},
     "output_type": "execute_result"
    }
   ],
   "source": [
    "N_folders = [name for name in os.listdir(data_path) if os.path.isdir(os.path.join(data_path, name))]\n",
    "N_folders = [f for f in N_folders if '_P' in f]\n",
    "N_folders = sorted(N_folders)\n",
    "N_folders"
   ]
  },
  {
   "cell_type": "code",
   "execution_count": 5,
   "metadata": {},
   "outputs": [
    {
     "name": "stderr",
     "output_type": "stream",
     "text": [
      "0it [00:00, ?it/s]"
     ]
    },
    {
     "name": "stdout",
     "output_type": "stream",
     "text": [
      "first 5 files\n",
      "['/home/tli_project/Desktop/Data/T4/neurons/SubtypeA/211104_P36_N2/211104_P36_N2_R270_mask.tif', '/home/tli_project/Desktop/Data/T4/neurons/SubtypeA/211104_P36_N2/211104_P36_N2_R270_clahe.tif', '/home/tli_project/Desktop/Data/T4/neurons/SubtypeA/211104_P36_N2/211104_P36_N2_R270_ColROIs.zip', '/home/tli_project/Desktop/Data/T4/neurons/SubtypeA/211104_P36_N2/211104_P36_N2_R270_5D.tif', '/home/tli_project/Desktop/Data/T4/neurons/SubtypeA/211104_P36_N2/211104_P36_N2_CropROI.roi']\n"
     ]
    },
    {
     "name": "stderr",
     "output_type": "stream",
     "text": [
      "100%|██████████| 84/84 [00:02<00:00, 34.89it/s]\n",
      "100%|██████████| 85/85 [01:59<00:00,  1.40s/it]\n",
      "1it [02:24, 144.72s/it]"
     ]
    },
    {
     "name": "stdout",
     "output_type": "stream",
     "text": [
      "first 5 files\n",
      "['/home/tli_project/Desktop/Data/T4/neurons/SubtypeA/211107_P36_N1/211107_P36_N1_Z30.70_clahe.tif', '/home/tli_project/Desktop/Data/T4/neurons/SubtypeA/211107_P36_N1/211107_P36_N1_Z30.70_5D.tif', '/home/tli_project/Desktop/Data/T4/neurons/SubtypeA/211107_P36_N1/211107_P36_N1_R265_mask1.tif', '/home/tli_project/Desktop/Data/T4/neurons/SubtypeA/211107_P36_N1/211107_P36_N1_R265_Z30.70_5D.tif', '/home/tli_project/Desktop/Data/T4/neurons/SubtypeA/211107_P36_N1/211107_P36_N1_R265_ColRois.zip']\n"
     ]
    },
    {
     "name": "stderr",
     "output_type": "stream",
     "text": [
      "100%|██████████| 87/87 [00:01<00:00, 48.80it/s]\n",
      "100%|██████████| 88/88 [01:50<00:00,  1.26s/it]\n",
      "2it [04:31, 134.21s/it]"
     ]
    },
    {
     "name": "stdout",
     "output_type": "stream",
     "text": [
      "first 5 files\n",
      "['/home/tli_project/Desktop/Data/T4/neurons/SubtypeA/211113_P36_N2/211113_P36_N2_new_CropRoi.roi', '/home/tli_project/Desktop/Data/T4/neurons/SubtypeA/211113_P36_N2/211113_P36_N2_FlipV_R245_mask.tif', '/home/tli_project/Desktop/Data/T4/neurons/SubtypeA/211113_P36_N2/211113_P36_N2_FlipV_R245_clahe.tif', '/home/tli_project/Desktop/Data/T4/neurons/SubtypeA/211113_P36_N2/211113_P36_N2_FlipV_R245_ColRois.zip', '/home/tli_project/Desktop/Data/T4/neurons/SubtypeA/211113_P36_N2/211113_P36_N2_FlipV_R245_5D_new.tif']\n"
     ]
    },
    {
     "name": "stderr",
     "output_type": "stream",
     "text": [
      "100%|██████████| 81/81 [00:01<00:00, 46.75it/s]\n",
      "100%|██████████| 82/82 [01:24<00:00,  1.03s/it]\n",
      "3it [06:10, 118.30s/it]"
     ]
    },
    {
     "name": "stdout",
     "output_type": "stream",
     "text": [
      "first 5 files\n",
      "['/home/tli_project/Desktop/Data/T4/neurons/SubtypeA/211114_P36_N1/211114_P36_N1_FlipV_R277_clahe1.tif', '/home/tli_project/Desktop/Data/T4/neurons/SubtypeA/211114_P36_N1/211114_P36_N1_FlipV_R277_JE_mask.tif', '/home/tli_project/Desktop/Data/T4/neurons/SubtypeA/211114_P36_N1/211114_P36_N1_FlipV_R277_ColRois.zip', '/home/tli_project/Desktop/Data/T4/neurons/SubtypeA/211114_P36_N1/211114_P36_N1_FlipV_R277_5D.tif', '/home/tli_project/Desktop/Data/T4/neurons/SubtypeA/211114_P36_N1/211114_P36_N1_CropRoi.roi']\n"
     ]
    },
    {
     "name": "stderr",
     "output_type": "stream",
     "text": [
      "100%|██████████| 88/88 [00:03<00:00, 23.65it/s]\n",
      "100%|██████████| 89/89 [02:00<00:00,  1.35s/it]\n",
      "4it [08:42, 131.60s/it]"
     ]
    },
    {
     "name": "stdout",
     "output_type": "stream",
     "text": [
      "first 5 files\n",
      "['/home/tli_project/Desktop/Data/T4/neurons/SubtypeA/211114_P36_N2/stable_211114_P36_N2.tif', '/home/tli_project/Desktop/Data/T4/neurons/SubtypeA/211114_P36_N2/211114_P36_N2_volume.pdf', '/home/tli_project/Desktop/Data/T4/neurons/SubtypeA/211114_P36_N2/211114_P36_N2_FlipV_R277_JE_mask.tif', '/home/tli_project/Desktop/Data/T4/neurons/SubtypeA/211114_P36_N2/211114_P36_N2_FlipV_R272_clahe.tif', '/home/tli_project/Desktop/Data/T4/neurons/SubtypeA/211114_P36_N2/211114_P36_N2_FlipV_R272_ColRois.zip']\n"
     ]
    },
    {
     "name": "stderr",
     "output_type": "stream",
     "text": [
      "100%|██████████| 88/88 [00:05<00:00, 15.03it/s]\n",
      "100%|██████████| 89/89 [02:16<00:00,  1.53s/it]\n",
      "5it [11:48, 151.09s/it]"
     ]
    },
    {
     "name": "stdout",
     "output_type": "stream",
     "text": [
      "first 5 files\n",
      "['/home/tli_project/Desktop/Data/T4/neurons/SubtypeA/211121_P36.5_N1/211121_P36.5_N1_Z11.48_CropRoi.roi', '/home/tli_project/Desktop/Data/T4/neurons/SubtypeA/211121_P36.5_N1/211121_P36.5_N1_R295_mask1.tif', '/home/tli_project/Desktop/Data/T4/neurons/SubtypeA/211121_P36.5_N1/211121_P36.5_N1_R295_clahe.tif', '/home/tli_project/Desktop/Data/T4/neurons/SubtypeA/211121_P36.5_N1/211121_P36.5_N1_R295_ColRois.zip', '/home/tli_project/Desktop/Data/T4/neurons/SubtypeA/211121_P36.5_N1/211121_P36.5_N1_5D_R295.tif']\n"
     ]
    },
    {
     "name": "stderr",
     "output_type": "stream",
     "text": [
      "100%|██████████| 89/89 [00:01<00:00, 51.11it/s]\n",
      "100%|██████████| 90/90 [01:22<00:00,  1.09it/s]\n",
      "6it [13:25, 132.77s/it]"
     ]
    },
    {
     "name": "stdout",
     "output_type": "stream",
     "text": [
      "first 5 files\n",
      "['/home/tli_project/Desktop/Data/T4/neurons/SubtypeA/211121_P36.5_N2/211121_P36.5_N2_Z18.62_CropRoi.roi', '/home/tli_project/Desktop/Data/T4/neurons/SubtypeA/211121_P36.5_N2/211121_P36.5_N2_R302_mask.tif', '/home/tli_project/Desktop/Data/T4/neurons/SubtypeA/211121_P36.5_N2/211121_P36.5_N2_R302_clahe_m.tif', '/home/tli_project/Desktop/Data/T4/neurons/SubtypeA/211121_P36.5_N2/211121_P36.5_N2_R302_clahe.tif', '/home/tli_project/Desktop/Data/T4/neurons/SubtypeA/211121_P36.5_N2/211121_P36.5_N2_R302_ColRois.zip']\n"
     ]
    },
    {
     "name": "stderr",
     "output_type": "stream",
     "text": [
      "100%|██████████| 89/89 [00:02<00:00, 43.92it/s]\n",
      "100%|██████████| 90/90 [01:51<00:00,  1.24s/it]\n",
      "7it [15:34, 131.37s/it]"
     ]
    },
    {
     "name": "stdout",
     "output_type": "stream",
     "text": [
      "first 5 files\n",
      "['/home/tli_project/Desktop/Data/T4/neurons/SubtypeA/220209_P36_N2/220209_P36_N2_FlipV_R255_mask.tif', '/home/tli_project/Desktop/Data/T4/neurons/SubtypeA/220209_P36_N2/220209_P36_N2_FlipV_R255_clahe.tif', '/home/tli_project/Desktop/Data/T4/neurons/SubtypeA/220209_P36_N2/220209_P36_N2_FlipV_R255_5D_new.tif', '/home/tli_project/Desktop/Data/T4/neurons/SubtypeA/220209_P36_N2/220209_P36_N2_CropROI.roi']\n"
     ]
    },
    {
     "name": "stderr",
     "output_type": "stream",
     "text": [
      "100%|██████████| 83/83 [00:01<00:00, 46.46it/s]\n",
      "100%|██████████| 84/84 [01:53<00:00,  1.35s/it]\n",
      "8it [17:42, 132.86s/it]\n"
     ]
    }
   ],
   "source": [
    "for i, fold in tqdm(enumerate(N_folders)):\n",
    "    try:\n",
    "        entry_point = entry_points[fold]\n",
    "        circ = lambda r: (4 * math.pi * r.area) / (r.perimeter * r.perimeter)\n",
    "        for i in [1]:\n",
    "            start_im = re.search('P(.*)_N', fold)\n",
    "            start_im = float(start_im.group(1))\n",
    "            start_ana = int((start_age - start_im)/0.25)\n",
    "            files_list = datautils.get_file_names(data_path+fold, group_by='', \n",
    "                                                order=True, nested_files=False, \n",
    "                                                criteria='')\n",
    "            neu_path = [f for f in files_list if 'clahe' in f.lower()][0]\n",
    "            neuron = tif.imread(neu_path)\n",
    "            mask_path = [f for f in files_list if 'mask' in f.lower()][0]\n",
    "            mask = tif.imread(mask_path)\n",
    "            neuron[mask==0] = 0\n",
    "            neuron = neuron[start_ana:]\n",
    "            neuron[neuron != 0] = 1\n",
    "            lifetimes = analysis.cal_lifetimes(neuron, save=False, \n",
    "                                            save_path=save_path, save_file='', \n",
    "                                            xy_pixel=0.076, z_pixel=0.4)\n",
    "            stable_neuron = analysis.stable_N(lifetimes, stab_limit=stab_limit, save=True, \n",
    "                                                save_path=save_path, save_file=fold, \n",
    "                                                xy_pixel=0.076, z_pixel=0.4) \n",
    "            neu_2D = neuron.max(axis=1)\n",
    "            stable_2D = stable_neuron.max(axis=1)\n",
    "            if analysis_type=='3D':\n",
    "                image = neuron\n",
    "                stable_im = stable_neuron\n",
    "            elif analysis_type=='2D':\n",
    "                image = neu_2D\n",
    "                stable_im = stable_2D\n",
    "            else:\n",
    "                print('the analysis type is not recognized')\n",
    "                break\n",
    "            output_results = analysis.N_volume(image, stable_im, normalize=False, \n",
    "                                                start_t=start_age, plot=False, \n",
    "                                                save=False, save_path=save_path, \n",
    "                                                save_file='Vol_'+fold)\n",
    "            output_results['growthR_all'] = output_results.vol_all.diff()/output_results.vol_all\n",
    "            output_results['growthR_stable'] = output_results.vol_stable.diff()/output_results.vol_stable\n",
    "            DGIs = analysis.calculate_DGI(entry_point, stable_im, \n",
    "                                subtype=subtype,\n",
    "                                start_t=start_age, \n",
    "                                save=True, save_path='', \n",
    "                                save_file='')\n",
    "            output_results = pd.merge(output_results, DGIs, on='timepoints')\n",
    "            cir_im = stable_2D.copy()\n",
    "            # cir_im[stable_2D!=0] = 1\n",
    "            # circularity = []\n",
    "            # circularity2 = []\n",
    "            # for st in cir_im:\n",
    "            #     circularity.append([circ(region) for region in regionprops(st)])\n",
    "            #     img_PC = np.argwhere(st)\n",
    "            #     try:\n",
    "            #         for i in [1]:\n",
    "            #             hull = ConvexHull(img_PC, qhull_options='Qc')\n",
    "            #             circ2 = 4*np.pi *hull.volume/(hull.area*hull.area)\n",
    "            #             circularity2.append(circ2)\n",
    "            #     except:\n",
    "            #         circularity2.append(0)\n",
    "            # circularity = [s[0] for s in circularity[4:]]\n",
    "            # circularity2 = circularity2[4:]\n",
    "            # output_results['circularity'] = circularity\n",
    "            # output_results['circularity2'] = circularity2\n",
    "            area, perimeter, density, circularity = analysis.cal_circularity(cir_im)\n",
    "            circularity = circularity[4:]\n",
    "            density = density[4:]\n",
    "            area = area[4:]\n",
    "            perimeter = perimeter[4:]\n",
    "            output_results['circularity'] = circularity\n",
    "            output_results['density'] = density\n",
    "            output_results['area'] = area\n",
    "            output_results['perimeter'] = perimeter\n",
    "            output_file = save_path+fold+'_s'+subtype+'_output.csv'\n",
    "            output_file = output_file.replace('.tif','')\n",
    "            output_results.to_csv(output_file, sep=';')\n",
    "            # cols_path = [f for f in files_list if 'colrois' in f.lower()][0]\n",
    "            # Cols = col_zip(cols_path)\n",
    "            # analysis.col_occupancy(stable_2D, cols_zip=Cols, norm_cols=Cols, \n",
    "            #                             normalize_cols=True, nor_fact=1, \n",
    "            #                             start_t=start_age, \n",
    "            #                             plot=True, save=True, \n",
    "            #                             save_path=save_path, \n",
    "            #                             save_file='st_2Dpx_'+fold+'_s'+subtype)\n",
    "            # analysis.col_occupancy(stable_neuron, cols_zip=Cols, norm_cols=Cols, \n",
    "            #                             normalize_cols=True, nor_fact=1, \n",
    "            #                             start_t=start_age, \n",
    "            #                             plot=True, save=True, \n",
    "            #                             save_path=save_path, \n",
    "            #                             save_file='st_3Dpx_'+fold+'_s'+subtype)\n",
    "            # del neuron, lifetimes, stable_neuron, neu_2D, stable_2D, output_results, DGIs\n",
    "    except:\n",
    "        pass"
   ]
  },
  {
   "cell_type": "code",
   "execution_count": null,
   "metadata": {},
   "outputs": [],
   "source": []
  }
 ],
 "metadata": {
  "interpreter": {
   "hash": "d8f039b3452c649678a1c627e36aa37ec4e5f675ec8e97e9a0a01e09c89b48d8"
  },
  "kernelspec": {
   "display_name": "Python 3.9.7 ('plotting')",
   "language": "python",
   "name": "python3"
  },
  "language_info": {
   "codemirror_mode": {
    "name": "ipython",
    "version": 3
   },
   "file_extension": ".py",
   "mimetype": "text/x-python",
   "name": "python",
   "nbconvert_exporter": "python",
   "pygments_lexer": "ipython3",
   "version": "3.9.7"
  },
  "orig_nbformat": 4
 },
 "nbformat": 4,
 "nbformat_minor": 2
}
