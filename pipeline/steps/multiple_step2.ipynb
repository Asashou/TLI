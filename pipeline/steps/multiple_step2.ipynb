{
 "cells": [
  {
   "cell_type": "code",
   "execution_count": null,
   "metadata": {},
   "outputs": [],
   "source": [
    "import tifffile as tif\n",
    "import numpy as np\n",
    "import utils.denoise as denoise\n",
    "import utils.datautils as datautils\n",
    "import Neurosetta as neu"
   ]
  },
  {
   "cell_type": "code",
   "execution_count": 1,
   "metadata": {},
   "outputs": [
    {
     "name": "stderr",
     "output_type": "stream",
     "text": [
      "/home/tli_project/.local/lib/python3.8/site-packages/statsmodels/compat/pandas.py:65: FutureWarning: pandas.Int64Index is deprecated and will be removed from pandas in a future version. Use pandas.Index with the appropriate dtype instead.\n",
      "  from pandas import Int64Index as NumericIndex\n"
     ]
    }
   ],
   "source": [
    "image_path = '/home/tli_project/Desktop/Data/T4/stage1/211121/N2V_GFP_SyNRA_211121_brain4.1.tif'\n",
    "save_path = '/home/tli_project/Desktop/Data/T4/stage1/211121'\n",
    "save_name = '4D_GFP_SyNRA_211121_brain4.1'\n",
    "\n",
    "#N2V parameters\n",
    "model_name ='n2v_3D_v6'\n",
    "model_path ='/home/tli_project/Desktop/TLI_preprocessing/Work_folder/N2V/models/'\n",
    "\n",
    "#Clahe parameters:\n",
    "clipLimit = 1\n",
    "kernel_size = (45, 45)\n",
    "\n",
    "if save_path[-1] != '/':\n",
    "    save_path += '/'"
   ]
  },
  {
   "cell_type": "code",
   "execution_count": 2,
   "metadata": {},
   "outputs": [],
   "source": [
    "# Read 4D GFP image\n",
    "image_4D = tif.imread(image_path)\n",
    "\n",
    "image_4D = denoise.N2V_4D(image_4D, model_name=model_name, model_path=model_path, \n",
    "                            save=True, save_path=save_path, xy_pixel=0.076, \n",
    "                            z_pixel=0.4, save_file=save_name)\n",
    "\n",
    "# remove further noise pixels before applying clahe, by removing 95% quantil\n",
    "threshold = np.quantile(image_4D,0.95)\n",
    "# threshold = 4 * image_4D.mean()\n",
    "image_4D[image_4D<threshold] = 0\n",
    "\n",
    "image_4D = denoise.clahe_4D(image_4D, kernel_size=kernel_size, clipLimit=clipLimit, \n",
    "                            save=True, save_path=save_path, xy_pixel=0.076, \n",
    "                            z_pixel=0.4, save_file=save_name) \n",
    "\n",
    "# masking the image\n",
    "image_4D = neu.Neuron(image_4D)\n",
    "mask =  neu.mask_Neuron(image_4D)\n",
    "\n",
    "image_4D = image_4D.array\n",
    "mask = mask.array\n",
    "for i, img in enumerate(image_4D):\n",
    "    mask[i] = datautils.img_limits(mask[i], limit=img.max(), ddtype='int16')\n",
    "mask = mask.astype('int16')\n",
    "datautils.save_image(save_path+'mask_'+save_name, mask)"
   ]
  },
  {
   "cell_type": "code",
   "execution_count": 3,
   "metadata": {},
   "outputs": [
    {
     "name": "stdout",
     "output_type": "stream",
     "text": [
      "first 5 files\n",
      "['/home/tli_project/Desktop/Data/T4/stage1/211015/211015/211015_brain1.2_LP40_P36_00001.tif', '/home/tli_project/Desktop/Data/T4/stage1/211015/211015/211015_brain1.2_LP40_P36_00002.tif', '/home/tli_project/Desktop/Data/T4/stage1/211015/211015/211015_brain1.2_LP40_P36_00003.tif', '/home/tli_project/Desktop/Data/T4/stage1/211015/211015/211015_brain1.2_LP40_P36_00004.tif', '/home/tli_project/Desktop/Data/T4/stage1/211015/211015/211015_brain1.2_LP40_P36_00005.tif']\n"
     ]
    },
    {
     "name": "stderr",
     "output_type": "stream",
     "text": [
      "compiling_files:   0%|          | 0/91 [00:00<?, ?it/s]<tifffile.TiffFile '211015_brain1.2_…0_P36_00001.tif'> asarray failed to reshape (172, 1024, 1024) to (8, 10, 2, 1024, 1024)\n",
      "compiling_files:   1%|          | 1/91 [00:26<40:03, 26.70s/it]<tifffile.TiffFile '211015_brain1.2_…0_P36_00002.tif'> asarray failed to reshape (172, 1024, 1024) to (8, 10, 2, 1024, 1024)\n",
      "compiling_files:   2%|▏         | 2/91 [00:53<39:34, 26.68s/it]<tifffile.TiffFile '211015_brain1.2_…0_P36_00003.tif'> asarray failed to reshape (172, 1024, 1024) to (8, 10, 2, 1024, 1024)\n",
      "compiling_files:   3%|▎         | 3/91 [01:20<39:15, 26.77s/it]<tifffile.TiffFile '211015_brain1.2_…0_P36_00004.tif'> asarray failed to reshape (172, 1024, 1024) to (8, 10, 2, 1024, 1024)\n",
      "compiling_files:   4%|▍         | 4/91 [01:47<38:54, 26.83s/it]<tifffile.TiffFile '211015_brain1.2_…0_P36_00005.tif'> asarray failed to reshape (172, 1024, 1024) to (8, 10, 2, 1024, 1024)\n",
      "compiling_files:   5%|▌         | 5/91 [02:13<38:24, 26.79s/it]<tifffile.TiffFile '211015_brain1.2_…0_P36_00006.tif'> asarray failed to reshape (172, 1024, 1024) to (8, 10, 2, 1024, 1024)\n",
      "compiling_files:   7%|▋         | 6/91 [02:40<37:56, 26.78s/it]<tifffile.TiffFile '211015_brain1.2_…0_P36_00007.tif'> asarray failed to reshape (172, 1024, 1024) to (8, 10, 2, 1024, 1024)\n",
      "compiling_files:   8%|▊         | 7/91 [03:07<37:27, 26.75s/it]<tifffile.TiffFile '211015_brain1.2_…0_P36_00008.tif'> asarray failed to reshape (172, 1024, 1024) to (8, 10, 2, 1024, 1024)\n",
      "compiling_files:   9%|▉         | 8/91 [03:34<37:02, 26.78s/it]<tifffile.TiffFile '211015_brain1.2_…0_P36_00009.tif'> asarray failed to reshape (172, 1024, 1024) to (8, 10, 2, 1024, 1024)\n",
      "compiling_files:  10%|▉         | 9/91 [04:00<36:32, 26.74s/it]<tifffile.TiffFile '211015_brain1.2_…0_P36_00010.tif'> asarray failed to reshape (172, 1024, 1024) to (8, 10, 2, 1024, 1024)\n",
      "compiling_files:  11%|█         | 10/91 [04:28<36:29, 27.03s/it]<tifffile.TiffFile '211015_brain1.2_…0_P36_00011.tif'> asarray failed to reshape (172, 1024, 1024) to (8, 10, 2, 1024, 1024)\n",
      "compiling_files:  12%|█▏        | 11/91 [04:56<36:15, 27.19s/it]<tifffile.TiffFile '211015_brain1.2_…0_P36_00012.tif'> asarray failed to reshape (172, 1024, 1024) to (8, 10, 2, 1024, 1024)\n",
      "compiling_files:  13%|█▎        | 12/91 [05:23<35:53, 27.25s/it]<tifffile.TiffFile '211015_brain1.2_…0_P36_00013.tif'> asarray failed to reshape (172, 1024, 1024) to (8, 10, 2, 1024, 1024)\n",
      "compiling_files:  14%|█▍        | 13/91 [05:51<35:50, 27.57s/it]<tifffile.TiffFile '211015_brain1.2_…0_P36_00014.tif'> asarray failed to reshape (172, 1024, 1024) to (8, 10, 2, 1024, 1024)\n",
      "compiling_files:  15%|█▌        | 14/91 [06:20<35:48, 27.90s/it]<tifffile.TiffFile '211015_brain1.2_…0_P36_00015.tif'> asarray failed to reshape (172, 1024, 1024) to (8, 10, 2, 1024, 1024)\n",
      "compiling_files:  16%|█▋        | 15/91 [06:49<35:44, 28.22s/it]<tifffile.TiffFile '211015_brain1.2_…0_P36_00016.tif'> asarray failed to reshape (172, 1024, 1024) to (8, 10, 2, 1024, 1024)\n",
      "compiling_files:  18%|█▊        | 16/91 [07:17<35:23, 28.32s/it]<tifffile.TiffFile '211015_brain1.2_…0_P36_00017.tif'> asarray failed to reshape (172, 1024, 1024) to (8, 10, 2, 1024, 1024)\n",
      "compiling_files:  19%|█▊        | 17/91 [07:47<35:13, 28.57s/it]<tifffile.TiffFile '211015_brain1.2_…0_P36_00018.tif'> asarray failed to reshape (172, 1024, 1024) to (8, 10, 2, 1024, 1024)\n",
      "compiling_files:  20%|█▉        | 18/91 [08:16<34:56, 28.72s/it]<tifffile.TiffFile '211015_brain1.2_…0_P36_00019.tif'> asarray failed to reshape (172, 1024, 1024) to (8, 10, 2, 1024, 1024)\n",
      "compiling_files:  21%|██        | 19/91 [08:44<34:28, 28.73s/it]<tifffile.TiffFile '211015_brain1.2_…0_P36_00020.tif'> asarray failed to reshape (172, 1024, 1024) to (8, 10, 2, 1024, 1024)\n",
      "compiling_files:  22%|██▏       | 20/91 [09:13<33:56, 28.69s/it]<tifffile.TiffFile '211015_brain1.2_…0_P36_00021.tif'> asarray failed to reshape (172, 1024, 1024) to (8, 10, 2, 1024, 1024)\n",
      "compiling_files:  23%|██▎       | 21/91 [09:42<33:28, 28.69s/it]<tifffile.TiffFile '211015_brain1.2_…0_P36_00022.tif'> asarray failed to reshape (172, 1024, 1024) to (8, 10, 2, 1024, 1024)\n",
      "compiling_files:  24%|██▍       | 22/91 [10:11<33:14, 28.90s/it]<tifffile.TiffFile '211015_brain1.2_…0_P36_00023.tif'> asarray failed to reshape (172, 1024, 1024) to (8, 10, 2, 1024, 1024)\n",
      "compiling_files:  25%|██▌       | 23/91 [10:41<32:56, 29.07s/it]<tifffile.TiffFile '211015_brain1.2_…0_P36_00024.tif'> asarray failed to reshape (172, 1024, 1024) to (8, 10, 2, 1024, 1024)\n",
      "compiling_files:  26%|██▋       | 24/91 [11:10<32:27, 29.06s/it]<tifffile.TiffFile '211015_brain1.2_…0_P36_00025.tif'> asarray failed to reshape (172, 1024, 1024) to (8, 10, 2, 1024, 1024)\n",
      "compiling_files:  27%|██▋       | 25/91 [11:38<31:44, 28.86s/it]<tifffile.TiffFile '211015_brain1.2_…0_P36_00026.tif'> asarray failed to reshape (172, 1024, 1024) to (8, 10, 2, 1024, 1024)\n",
      "compiling_files:  29%|██▊       | 26/91 [12:07<31:13, 28.83s/it]<tifffile.TiffFile '211015_brain1.2_…0_P36_00027.tif'> asarray failed to reshape (172, 1024, 1024) to (8, 10, 2, 1024, 1024)\n",
      "compiling_files:  30%|██▉       | 27/91 [12:35<30:34, 28.67s/it]<tifffile.TiffFile '211015_brain1.2_…0_P36_00028.tif'> asarray failed to reshape (172, 1024, 1024) to (8, 10, 2, 1024, 1024)\n",
      "compiling_files:  31%|███       | 28/91 [13:03<29:58, 28.55s/it]<tifffile.TiffFile '211015_brain1.2_…0_P36_00029.tif'> asarray failed to reshape (172, 1024, 1024) to (8, 10, 2, 1024, 1024)\n",
      "compiling_files:  32%|███▏      | 29/91 [13:32<29:30, 28.55s/it]<tifffile.TiffFile '211015_brain1.2_…0_P36_00030.tif'> asarray failed to reshape (172, 1024, 1024) to (8, 10, 2, 1024, 1024)\n",
      "compiling_files:  33%|███▎      | 30/91 [14:00<29:01, 28.55s/it]<tifffile.TiffFile '211015_brain1.2_…0_P36_00031.tif'> asarray failed to reshape (172, 1024, 1024) to (8, 10, 2, 1024, 1024)\n",
      "compiling_files:  34%|███▍      | 31/91 [14:29<28:34, 28.57s/it]<tifffile.TiffFile '211015_brain1.2_…0_P36_00032.tif'> asarray failed to reshape (172, 1024, 1024) to (8, 10, 2, 1024, 1024)\n",
      "compiling_files:  35%|███▌      | 32/91 [14:58<28:06, 28.58s/it]<tifffile.TiffFile '211015_brain1.2_…0_P36_00033.tif'> asarray failed to reshape (172, 1024, 1024) to (8, 10, 2, 1024, 1024)\n",
      "compiling_files:  36%|███▋      | 33/91 [15:26<27:35, 28.54s/it]<tifffile.TiffFile '211015_brain1.2_…0_P36_00034.tif'> asarray failed to reshape (172, 1024, 1024) to (8, 10, 2, 1024, 1024)\n",
      "compiling_files:  37%|███▋      | 34/91 [15:55<27:06, 28.53s/it]<tifffile.TiffFile '211015_brain1.2_…0_P36_00035.tif'> asarray failed to reshape (172, 1024, 1024) to (8, 10, 2, 1024, 1024)\n",
      "compiling_files:  38%|███▊      | 35/91 [16:23<26:37, 28.52s/it]<tifffile.TiffFile '211015_brain1.2_…0_P36_00036.tif'> asarray failed to reshape (172, 1024, 1024) to (8, 10, 2, 1024, 1024)\n",
      "compiling_files:  40%|███▉      | 36/91 [16:52<26:16, 28.66s/it]<tifffile.TiffFile '211015_brain1.2_…0_P36_00037.tif'> asarray failed to reshape (172, 1024, 1024) to (8, 10, 2, 1024, 1024)\n",
      "compiling_files:  41%|████      | 37/91 [17:21<25:45, 28.62s/it]<tifffile.TiffFile '211015_brain1.2_…0_P36_00038.tif'> asarray failed to reshape (172, 1024, 1024) to (8, 10, 2, 1024, 1024)\n",
      "compiling_files:  42%|████▏     | 38/91 [17:49<25:15, 28.60s/it]<tifffile.TiffFile '211015_brain1.2_…0_P36_00039.tif'> asarray failed to reshape (172, 1024, 1024) to (8, 10, 2, 1024, 1024)\n",
      "compiling_files:  43%|████▎     | 39/91 [18:18<24:49, 28.65s/it]<tifffile.TiffFile '211015_brain1.2_…0_P36_00040.tif'> asarray failed to reshape (172, 1024, 1024) to (8, 10, 2, 1024, 1024)\n",
      "compiling_files:  44%|████▍     | 40/91 [18:47<24:20, 28.63s/it]<tifffile.TiffFile '211015_brain1.2_…0_P36_00041.tif'> asarray failed to reshape (172, 1024, 1024) to (8, 10, 2, 1024, 1024)\n",
      "compiling_files:  45%|████▌     | 41/91 [19:15<23:55, 28.71s/it]<tifffile.TiffFile '211015_brain1.2_…0_P36_00042.tif'> asarray failed to reshape (172, 1024, 1024) to (8, 10, 2, 1024, 1024)\n",
      "compiling_files:  46%|████▌     | 42/91 [19:44<23:27, 28.73s/it]<tifffile.TiffFile '211015_brain1.2_…0_P36_00043.tif'> asarray failed to reshape (172, 1024, 1024) to (8, 10, 2, 1024, 1024)\n",
      "compiling_files:  47%|████▋     | 43/91 [20:13<22:56, 28.67s/it]<tifffile.TiffFile '211015_brain1.2_…0_P36_00044.tif'> asarray failed to reshape (172, 1024, 1024) to (8, 10, 2, 1024, 1024)\n",
      "compiling_files:  48%|████▊     | 44/91 [20:42<22:30, 28.73s/it]<tifffile.TiffFile '211015_brain1.2_…0_P36_00045.tif'> asarray failed to reshape (172, 1024, 1024) to (8, 10, 2, 1024, 1024)\n",
      "compiling_files:  49%|████▉     | 45/91 [21:10<22:03, 28.76s/it]<tifffile.TiffFile '211015_brain1.2_…0_P36_00046.tif'> asarray failed to reshape (172, 1024, 1024) to (8, 10, 2, 1024, 1024)\n",
      "compiling_files:  51%|█████     | 46/91 [21:40<21:39, 28.87s/it]<tifffile.TiffFile '211015_brain1.2_…0_P36_00047.tif'> asarray failed to reshape (172, 1024, 1024) to (8, 10, 2, 1024, 1024)\n",
      "compiling_files:  52%|█████▏    | 47/91 [22:08<21:10, 28.88s/it]<tifffile.TiffFile '211015_brain1.2_…0_P36_00048.tif'> asarray failed to reshape (172, 1024, 1024) to (8, 10, 2, 1024, 1024)\n",
      "compiling_files:  53%|█████▎    | 48/91 [22:38<20:45, 28.95s/it]<tifffile.TiffFile '211015_brain1.2_…0_P36_00049.tif'> asarray failed to reshape (172, 1024, 1024) to (8, 10, 2, 1024, 1024)\n",
      "compiling_files:  54%|█████▍    | 49/91 [23:07<20:17, 28.99s/it]<tifffile.TiffFile '211015_brain1.2_…0_P36_00050.tif'> asarray failed to reshape (172, 1024, 1024) to (8, 10, 2, 1024, 1024)\n",
      "compiling_files:  55%|█████▍    | 50/91 [23:36<19:50, 29.05s/it]<tifffile.TiffFile '211015_brain1.2_…0_P36_00051.tif'> asarray failed to reshape (172, 1024, 1024) to (8, 10, 2, 1024, 1024)\n",
      "compiling_files:  56%|█████▌    | 51/91 [24:05<19:23, 29.09s/it]<tifffile.TiffFile '211015_brain1.2_…0_P36_00052.tif'> asarray failed to reshape (172, 1024, 1024) to (8, 10, 2, 1024, 1024)\n",
      "compiling_files:  57%|█████▋    | 52/91 [24:34<18:55, 29.12s/it]<tifffile.TiffFile '211015_brain1.2_…0_P36_00053.tif'> asarray failed to reshape (172, 1024, 1024) to (8, 10, 2, 1024, 1024)\n",
      "compiling_files:  58%|█████▊    | 53/91 [25:03<18:19, 28.94s/it]<tifffile.TiffFile '211015_brain1.2_…0_P36_00054.tif'> asarray failed to reshape (172, 1024, 1024) to (8, 10, 2, 1024, 1024)\n",
      "compiling_files:  59%|█████▉    | 54/91 [25:32<17:50, 28.93s/it]<tifffile.TiffFile '211015_brain1.2_…0_P36_00055.tif'> asarray failed to reshape (172, 1024, 1024) to (8, 10, 2, 1024, 1024)\n",
      "compiling_files:  60%|██████    | 55/91 [26:01<17:21, 28.92s/it]<tifffile.TiffFile '211015_brain1.2_…0_P36_00056.tif'> asarray failed to reshape (172, 1024, 1024) to (8, 10, 2, 1024, 1024)\n",
      "compiling_files:  62%|██████▏   | 56/91 [26:29<16:50, 28.86s/it]<tifffile.TiffFile '211015_brain1.2_…0_P36_00057.tif'> asarray failed to reshape (172, 1024, 1024) to (8, 10, 2, 1024, 1024)\n",
      "compiling_files:  63%|██████▎   | 57/91 [26:58<16:16, 28.73s/it]<tifffile.TiffFile '211015_brain1.2_…0_P36_00058.tif'> asarray failed to reshape (172, 1024, 1024) to (8, 10, 2, 1024, 1024)\n",
      "compiling_files:  64%|██████▎   | 58/91 [27:26<15:46, 28.69s/it]<tifffile.TiffFile '211015_brain1.2_…0_P36_00059.tif'> asarray failed to reshape (172, 1024, 1024) to (8, 10, 2, 1024, 1024)\n",
      "compiling_files:  65%|██████▍   | 59/91 [27:55<15:20, 28.78s/it]<tifffile.TiffFile '211015_brain1.2_…0_P36_00060.tif'> asarray failed to reshape (172, 1024, 1024) to (8, 10, 2, 1024, 1024)\n",
      "compiling_files:  66%|██████▌   | 60/91 [28:24<14:55, 28.90s/it]<tifffile.TiffFile '211015_brain1.2_…0_P36_00061.tif'> asarray failed to reshape (172, 1024, 1024) to (8, 10, 2, 1024, 1024)\n",
      "compiling_files:  67%|██████▋   | 61/91 [28:54<14:28, 28.96s/it]<tifffile.TiffFile '211015_brain1.2_…0_P36_00062.tif'> asarray failed to reshape (172, 1024, 1024) to (8, 10, 2, 1024, 1024)\n",
      "compiling_files:  68%|██████▊   | 62/91 [29:23<14:01, 29.00s/it]<tifffile.TiffFile '211015_brain1.2_…0_P36_00063.tif'> asarray failed to reshape (172, 1024, 1024) to (8, 10, 2, 1024, 1024)\n",
      "compiling_files:  69%|██████▉   | 63/91 [29:49<13:13, 28.33s/it]<tifffile.TiffFile '211015_brain1.2_…0_P36_00064.tif'> asarray failed to reshape (172, 1024, 1024) to (8, 10, 2, 1024, 1024)\n",
      "compiling_files:  70%|███████   | 64/91 [30:16<12:32, 27.88s/it]<tifffile.TiffFile '211015_brain1.2_…0_P36_00065.tif'> asarray failed to reshape (172, 1024, 1024) to (8, 10, 2, 1024, 1024)\n",
      "compiling_files:  71%|███████▏  | 65/91 [30:43<11:56, 27.57s/it]<tifffile.TiffFile '211015_brain1.2_…0_P36_00066.tif'> asarray failed to reshape (172, 1024, 1024) to (8, 10, 2, 1024, 1024)\n",
      "compiling_files:  73%|███████▎  | 66/91 [31:10<11:22, 27.29s/it]<tifffile.TiffFile '211015_brain1.2_…0_P36_00067.tif'> asarray failed to reshape (172, 1024, 1024) to (8, 10, 2, 1024, 1024)\n",
      "compiling_files:  74%|███████▎  | 67/91 [31:36<10:47, 26.98s/it]<tifffile.TiffFile '211015_brain1.2_…0_P36_00068.tif'> asarray failed to reshape (172, 1024, 1024) to (8, 10, 2, 1024, 1024)\n",
      "compiling_files:  75%|███████▍  | 68/91 [32:03<10:18, 26.87s/it]<tifffile.TiffFile '211015_brain1.2_…0_P36_00069.tif'> asarray failed to reshape (172, 1024, 1024) to (8, 10, 2, 1024, 1024)\n",
      "compiling_files:  76%|███████▌  | 69/91 [32:29<09:46, 26.67s/it]<tifffile.TiffFile '211015_brain1.2_…0_P36_00070.tif'> asarray failed to reshape (172, 1024, 1024) to (8, 10, 2, 1024, 1024)\n",
      "compiling_files:  77%|███████▋  | 70/91 [32:55<09:18, 26.60s/it]<tifffile.TiffFile '211015_brain1.2_…0_P36_00071.tif'> asarray failed to reshape (172, 1024, 1024) to (8, 10, 2, 1024, 1024)\n",
      "compiling_files:  78%|███████▊  | 71/91 [33:21<08:49, 26.48s/it]<tifffile.TiffFile '211015_brain1.2_…0_P36_00072.tif'> asarray failed to reshape (172, 1024, 1024) to (8, 10, 2, 1024, 1024)\n",
      "compiling_files:  79%|███████▉  | 72/91 [33:48<08:23, 26.52s/it]<tifffile.TiffFile '211015_brain1.2_…0_P36_00073.tif'> asarray failed to reshape (172, 1024, 1024) to (8, 10, 2, 1024, 1024)\n",
      "compiling_files:  80%|████████  | 73/91 [34:15<07:58, 26.59s/it]<tifffile.TiffFile '211015_brain1.2_…0_P36_00074.tif'> asarray failed to reshape (172, 1024, 1024) to (8, 10, 2, 1024, 1024)\n",
      "compiling_files:  81%|████████▏ | 74/91 [34:41<07:32, 26.61s/it]<tifffile.TiffFile '211015_brain1.2_…0_P36_00075.tif'> asarray failed to reshape (172, 1024, 1024) to (8, 10, 2, 1024, 1024)\n",
      "compiling_files:  82%|████████▏ | 75/91 [35:08<07:05, 26.58s/it]<tifffile.TiffFile '211015_brain1.2_…0_P36_00076.tif'> asarray failed to reshape (172, 1024, 1024) to (8, 10, 2, 1024, 1024)\n",
      "compiling_files:  84%|████████▎ | 76/91 [35:35<06:39, 26.65s/it]<tifffile.TiffFile '211015_brain1.2_…0_P36_00077.tif'> asarray failed to reshape (172, 1024, 1024) to (8, 10, 2, 1024, 1024)\n",
      "compiling_files:  85%|████████▍ | 77/91 [36:02<06:13, 26.68s/it]<tifffile.TiffFile '211015_brain1.2_…0_P36_00078.tif'> asarray failed to reshape (172, 1024, 1024) to (8, 10, 2, 1024, 1024)\n",
      "compiling_files:  86%|████████▌ | 78/91 [36:28<05:47, 26.71s/it]<tifffile.TiffFile '211015_brain1.2_…0_P36_00079.tif'> asarray failed to reshape (172, 1024, 1024) to (8, 10, 2, 1024, 1024)\n",
      "compiling_files:  87%|████████▋ | 79/91 [36:55<05:20, 26.71s/it]<tifffile.TiffFile '211015_brain1.2_…0_P36_00080.tif'> asarray failed to reshape (172, 1024, 1024) to (8, 10, 2, 1024, 1024)\n",
      "compiling_files:  88%|████████▊ | 80/91 [37:22<04:53, 26.73s/it]<tifffile.TiffFile '211015_brain1.2_…0_P36_00081.tif'> asarray failed to reshape (172, 1024, 1024) to (8, 10, 2, 1024, 1024)\n",
      "compiling_files:  89%|████████▉ | 81/91 [37:49<04:27, 26.72s/it]<tifffile.TiffFile '211015_brain1.2_…0_P36_00082.tif'> asarray failed to reshape (172, 1024, 1024) to (8, 10, 2, 1024, 1024)\n",
      "compiling_files:  90%|█████████ | 82/91 [38:15<04:00, 26.72s/it]<tifffile.TiffFile '211015_brain1.2_…0_P36_00083.tif'> asarray failed to reshape (172, 1024, 1024) to (8, 10, 2, 1024, 1024)\n",
      "compiling_files:  91%|█████████ | 83/91 [38:42<03:33, 26.72s/it]<tifffile.TiffFile '211015_brain1.2_…0_P36_00084.tif'> asarray failed to reshape (172, 1024, 1024) to (8, 10, 2, 1024, 1024)\n",
      "compiling_files:  92%|█████████▏| 84/91 [39:09<03:07, 26.74s/it]<tifffile.TiffFile '211015_brain1.2_…0_P36_00085.tif'> asarray failed to reshape (172, 1024, 1024) to (8, 10, 2, 1024, 1024)\n",
      "compiling_files:  93%|█████████▎| 85/91 [39:35<02:40, 26.74s/it]<tifffile.TiffFile '211015_brain1.2_…0_P36_00086.tif'> asarray failed to reshape (172, 1024, 1024) to (8, 10, 2, 1024, 1024)\n",
      "compiling_files:  95%|█████████▍| 86/91 [40:02<02:13, 26.76s/it]<tifffile.TiffFile '211015_brain1.2_…0_P36_00087.tif'> asarray failed to reshape (172, 1024, 1024) to (8, 10, 2, 1024, 1024)\n",
      "compiling_files:  96%|█████████▌| 87/91 [40:29<01:47, 26.77s/it]<tifffile.TiffFile '211015_brain1.2_…0_P36_00088.tif'> asarray failed to reshape (172, 1024, 1024) to (8, 10, 2, 1024, 1024)\n",
      "compiling_files:  97%|█████████▋| 88/91 [40:56<01:20, 26.77s/it]<tifffile.TiffFile '211015_brain1.2_…0_P36_00089.tif'> asarray failed to reshape (172, 1024, 1024) to (8, 10, 2, 1024, 1024)\n",
      "compiling_files:  98%|█████████▊| 89/91 [41:23<00:53, 26.76s/it]<tifffile.TiffFile '211015_brain1.2_…0_P36_00090.tif'> asarray failed to reshape (172, 1024, 1024) to (8, 10, 2, 1024, 1024)\n",
      "compiling_files:  99%|█████████▉| 90/91 [41:49<00:26, 26.76s/it]<tifffile.TiffFile '211015_brain1.2_…0_P36_00091.tif'> asarray failed to reshape (172, 1024, 1024) to (8, 10, 2, 1024, 1024)\n",
      "                                                                \r"
     ]
    },
    {
     "name": "stdout",
     "output_type": "stream",
     "text": [
      "dict_keys(['GFP', 'red']) <class 'list'> 91\n",
      "compiling the GFP channel\n",
      "compiling the red channel\n",
      "files_to_4D runtime 2555.5580544043332\n"
     ]
    },
    {
     "name": "stderr",
     "output_type": "stream",
     "text": [
      "                                                                         \r"
     ]
    },
    {
     "name": "stdout",
     "output_type": "stream",
     "text": [
      "first 5 files\n",
      "[]\n"
     ]
    },
    {
     "name": "stderr",
     "output_type": "stream",
     "text": [
      "                                   \r"
     ]
    },
    {
     "ename": "ValueError",
     "evalue": "min() arg is an empty sequence",
     "output_type": "error",
     "traceback": [
      "\u001b[0;31m---------------------------------------------------------------------------\u001b[0m",
      "\u001b[0;31mValueError\u001b[0m                                Traceback (most recent call last)",
      "Input \u001b[0;32mIn [3]\u001b[0m, in \u001b[0;36m<module>\u001b[0;34m\u001b[0m\n\u001b[1;32m     22\u001b[0m gfp_list \u001b[38;5;241m=\u001b[39m datautils\u001b[38;5;241m.\u001b[39mget_file_names(path\u001b[38;5;241m=\u001b[39msave_path, group_by\u001b[38;5;241m=\u001b[39mch_names[\u001b[38;5;241m0\u001b[39m]\u001b[38;5;241m+\u001b[39m\u001b[38;5;124m'\u001b[39m\u001b[38;5;124m_\u001b[39m\u001b[38;5;124m'\u001b[39m\u001b[38;5;241m+\u001b[39mmethod\u001b[38;5;241m+\u001b[39msave_name, \n\u001b[1;32m     23\u001b[0m                                     order\u001b[38;5;241m=\u001b[39m\u001b[38;5;28;01mFalse\u001b[39;00m, nested_files\u001b[38;5;241m=\u001b[39m\u001b[38;5;28;01mFalse\u001b[39;00m, criteria\u001b[38;5;241m=\u001b[39m\u001b[38;5;124m'\u001b[39m\u001b[38;5;124mtif\u001b[39m\u001b[38;5;124m'\u001b[39m)\n\u001b[1;32m     24\u001b[0m gfp_name \u001b[38;5;241m=\u001b[39m ch_names[\u001b[38;5;241m0\u001b[39m]\u001b[38;5;241m+\u001b[39m\u001b[38;5;124m'\u001b[39m\u001b[38;5;124m_\u001b[39m\u001b[38;5;124m'\u001b[39m\u001b[38;5;241m+\u001b[39mmethod\u001b[38;5;241m+\u001b[39m\u001b[38;5;124m'\u001b[39m\u001b[38;5;124m_\u001b[39m\u001b[38;5;124m'\u001b[39m\u001b[38;5;241m+\u001b[39mgroup_by\u001b[38;5;241m+\u001b[39m\u001b[38;5;124m'\u001b[39m\u001b[38;5;124m.tif\u001b[39m\u001b[38;5;124m'\u001b[39m\n\u001b[0;32m---> 25\u001b[0m gfp_4D \u001b[38;5;241m=\u001b[39m \u001b[43mdatautils\u001b[49m\u001b[38;5;241;43m.\u001b[39;49m\u001b[43mfiles_to_4D\u001b[49m\u001b[43m(\u001b[49m\u001b[43mfiles_list\u001b[49m\u001b[38;5;241;43m=\u001b[39;49m\u001b[43mgfp_list\u001b[49m\u001b[43m,\u001b[49m\u001b[43m \u001b[49m\u001b[43mch_names\u001b[49m\u001b[38;5;241;43m=\u001b[39;49m\u001b[43m[\u001b[49m\u001b[43mch_names\u001b[49m\u001b[43m[\u001b[49m\u001b[38;5;241;43m0\u001b[39;49m\u001b[43m]\u001b[49m\u001b[43m]\u001b[49m\u001b[43m,\u001b[49m\u001b[43m \u001b[49m\u001b[38;5;28;43mfilter\u001b[39;49m\u001b[38;5;241;43m=\u001b[39;49m\u001b[38;5;28;43;01mFalse\u001b[39;49;00m\u001b[43m,\u001b[49m\u001b[43m \u001b[49m\n\u001b[1;32m     26\u001b[0m \u001b[43m                                \u001b[49m\u001b[43msave\u001b[49m\u001b[38;5;241;43m=\u001b[39;49m\u001b[38;5;28;43;01mTrue\u001b[39;49;00m\u001b[43m,\u001b[49m\u001b[43m \u001b[49m\u001b[43msave_path\u001b[49m\u001b[38;5;241;43m=\u001b[39;49m\u001b[43msave_path\u001b[49m\u001b[43m,\u001b[49m\u001b[43m \u001b[49m\u001b[43msave_file\u001b[49m\u001b[38;5;241;43m=\u001b[39;49m\u001b[43mgfp_name\u001b[49m\u001b[43m,\u001b[49m\n\u001b[1;32m     27\u001b[0m \u001b[43m                                \u001b[49m\u001b[43mxy_pixel\u001b[49m\u001b[38;5;241;43m=\u001b[39;49m\u001b[38;5;241;43m0.0764616\u001b[39;49m\u001b[43m,\u001b[49m\u001b[43m \u001b[49m\u001b[43mz_pixel\u001b[49m\u001b[38;5;241;43m=\u001b[39;49m\u001b[38;5;241;43m0.4\u001b[39;49m\u001b[43m)\u001b[49m\n\u001b[1;32m     28\u001b[0m \u001b[38;5;28;01mfor\u001b[39;00m file \u001b[38;5;129;01min\u001b[39;00m gfp_list:\n\u001b[1;32m     29\u001b[0m     os\u001b[38;5;241m.\u001b[39mremove(file)\n",
      "File \u001b[0;32m~/Desktop/TLI_preprocessing/Work_folder/steps/utils/datautils.py:89\u001b[0m, in \u001b[0;36mfiles_to_4D\u001b[0;34m(files_list, ch_names, filter, save, save_path, save_file, xy_pixel, z_pixel)\u001b[0m\n\u001b[1;32m     87\u001b[0m     \u001b[38;5;28;01mfor\u001b[39;00m ch \u001b[38;5;129;01min\u001b[39;00m ch_names:\n\u001b[1;32m     88\u001b[0m         image_4D[ch]\u001b[38;5;241m.\u001b[39mappend(image[ch])\n\u001b[0;32m---> 89\u001b[0m z_dim \u001b[38;5;241m=\u001b[39m \u001b[38;5;28;43mmin\u001b[39;49m\u001b[43m(\u001b[49m\u001b[43m[\u001b[49m\u001b[38;5;28;43mlen\u001b[39;49m\u001b[43m(\u001b[49m\u001b[43mimg\u001b[49m\u001b[43m)\u001b[49m\u001b[43m \u001b[49m\u001b[38;5;28;43;01mfor\u001b[39;49;00m\u001b[43m \u001b[49m\u001b[43mimg\u001b[49m\u001b[43m \u001b[49m\u001b[38;5;129;43;01min\u001b[39;49;00m\u001b[43m \u001b[49m\u001b[43mimage_4D\u001b[49m\u001b[43m[\u001b[49m\u001b[43mch_names\u001b[49m\u001b[43m[\u001b[49m\u001b[38;5;241;43m0\u001b[39;49m\u001b[43m]\u001b[49m\u001b[43m]\u001b[49m\u001b[43m]\u001b[49m\u001b[43m)\u001b[49m\n\u001b[1;32m     90\u001b[0m \u001b[38;5;28mprint\u001b[39m(image_4D\u001b[38;5;241m.\u001b[39mkeys(), \u001b[38;5;28mtype\u001b[39m(image_4D[ch_names[\u001b[38;5;241m-\u001b[39m\u001b[38;5;241m1\u001b[39m]]), \u001b[38;5;28mlen\u001b[39m(image_4D[ch_names[\u001b[38;5;241m-\u001b[39m\u001b[38;5;241m1\u001b[39m]]))\n\u001b[1;32m     91\u001b[0m \u001b[38;5;28;01mfor\u001b[39;00m ch \u001b[38;5;129;01min\u001b[39;00m ch_names:\n",
      "\u001b[0;31mValueError\u001b[0m: min() arg is an empty sequence"
     ]
    }
   ],
   "source": [
    "image_path = '/home/tli_project/Desktop/Data/T4/stage1/211113/4D_GFP_GFP_SyNRA_4D_211113_brain2.2_LP40_P36.tif'\n",
    "save_path = '/home/tli_project/Desktop/Data/T4/stage1/211113'\n",
    "save_name = '4D_GFP_SyNRA_211113_brain2.2_P36'\n",
    "\n",
    "#N2V parameters\n",
    "model_name ='n2v_3D_v6'\n",
    "model_path ='/home/tli_project/Desktop/TLI_preprocessing/Work_folder/N2V/models/'\n",
    "\n",
    "#Clahe parameters:\n",
    "clipLimit = 1\n",
    "kernel_size = (45, 45)\n",
    "\n",
    "if save_path[-1] != '/':\n",
    "    save_path += '/'"
   ]
  },
  {
   "cell_type": "code",
   "execution_count": 5,
   "metadata": {},
   "outputs": [],
   "source": [
    "# Read 4D GFP image\n",
    "image_4D = tif.imread(image_path)\n",
    "\n",
    "image_4D = denoise.N2V_4D(image_4D, model_name=model_name, model_path=model_path, \n",
    "                            save=True, save_path=save_path, xy_pixel=0.076, \n",
    "                            z_pixel=0.4, save_file=save_name)\n",
    "\n",
    "# remove further noise pixels before applying clahe, by removing 95% quantil\n",
    "threshold = np.quantile(image_4D,0.95)\n",
    "# threshold = 4 * image_4D.mean()\n",
    "image_4D[image_4D<threshold] = 0\n",
    "\n",
    "image_4D = denoise.clahe_4D(image_4D, kernel_size=kernel_size, clipLimit=clipLimit, \n",
    "                            save=True, save_path=save_path, xy_pixel=0.076, \n",
    "                            z_pixel=0.4, save_file=save_name) \n",
    "\n",
    "# masking the image\n",
    "image_4D = neu.Neuron(image_4D)\n",
    "mask =  neu.mask_Neuron(image_4D)\n",
    "\n",
    "image_4D = image_4D.array\n",
    "mask = mask.array\n",
    "for i, img in enumerate(image_4D):\n",
    "    mask[i] = datautils.img_limits(mask[i], limit=img.max(), ddtype='int16')\n",
    "mask = mask.astype('int16')\n",
    "datautils.save_image(save_path+'mask_'+save_name, mask)"
   ]
  },
  {
   "cell_type": "code",
   "execution_count": 6,
   "metadata": {},
   "outputs": [
    {
     "name": "stdout",
     "output_type": "stream",
     "text": [
      "first 5 files\n",
      "['/home/tli_project/Desktop/Data/T4/stage1/211016/211016/211016_brain2.2_LP40_P36__00001.tif', '/home/tli_project/Desktop/Data/T4/stage1/211016/211016/211016_brain2.2_LP40_P36__00002.tif', '/home/tli_project/Desktop/Data/T4/stage1/211016/211016/211016_brain2.2_LP40_P36__00003.tif', '/home/tli_project/Desktop/Data/T4/stage1/211016/211016/211016_brain2.2_LP40_P36__00004.tif', '/home/tli_project/Desktop/Data/T4/stage1/211016/211016/211016_brain2.2_LP40_P36__00005.tif']\n"
     ]
    },
    {
     "name": "stderr",
     "output_type": "stream",
     "text": [
      "compiling_files:   0%|          | 0/88 [00:00<?, ?it/s]<tifffile.TiffFile '211016_brain2.2…0_P36__00001.tif'> asarray failed to reshape (172, 1024, 1024) to (8, 10, 2, 1024, 1024)\n",
      "compiling_files:   1%|          | 1/88 [00:26<38:57, 26.86s/it]<tifffile.TiffFile '211016_brain2.2…0_P36__00002.tif'> asarray failed to reshape (172, 1024, 1024) to (8, 10, 2, 1024, 1024)\n",
      "compiling_files:   2%|▏         | 2/88 [00:54<39:14, 27.38s/it]<tifffile.TiffFile '211016_brain2.2…0_P36__00003.tif'> asarray failed to reshape (172, 1024, 1024) to (8, 10, 2, 1024, 1024)\n",
      "compiling_files:   3%|▎         | 3/88 [01:21<38:28, 27.16s/it]<tifffile.TiffFile '211016_brain2.2…0_P36__00004.tif'> asarray failed to reshape (172, 1024, 1024) to (8, 10, 2, 1024, 1024)\n",
      "compiling_files:   5%|▍         | 4/88 [01:49<38:22, 27.41s/it]<tifffile.TiffFile '211016_brain2.2…0_P36__00005.tif'> asarray failed to reshape (172, 1024, 1024) to (8, 10, 2, 1024, 1024)\n",
      "compiling_files:   6%|▌         | 5/88 [02:16<37:38, 27.21s/it]<tifffile.TiffFile '211016_brain2.2…0_P36__00006.tif'> asarray failed to reshape (172, 1024, 1024) to (8, 10, 2, 1024, 1024)\n",
      "compiling_files:   7%|▋         | 6/88 [02:43<37:07, 27.17s/it]<tifffile.TiffFile '211016_brain2.2…0_P36__00007.tif'> asarray failed to reshape (172, 1024, 1024) to (8, 10, 2, 1024, 1024)\n",
      "compiling_files:   8%|▊         | 7/88 [03:10<36:33, 27.08s/it]<tifffile.TiffFile '211016_brain2.2…0_P36__00008.tif'> asarray failed to reshape (172, 1024, 1024) to (8, 10, 2, 1024, 1024)\n",
      "compiling_files:   9%|▉         | 8/88 [03:37<36:02, 27.03s/it]<tifffile.TiffFile '211016_brain2.2…0_P36__00009.tif'> asarray failed to reshape (172, 1024, 1024) to (8, 10, 2, 1024, 1024)\n",
      "compiling_files:  10%|█         | 9/88 [04:03<35:30, 26.96s/it]<tifffile.TiffFile '211016_brain2.2…0_P36__00010.tif'> asarray failed to reshape (172, 1024, 1024) to (8, 10, 2, 1024, 1024)\n",
      "compiling_files:  11%|█▏        | 10/88 [04:30<35:00, 26.93s/it]<tifffile.TiffFile '211016_brain2.2…0_P36__00011.tif'> asarray failed to reshape (172, 1024, 1024) to (8, 10, 2, 1024, 1024)\n",
      "compiling_files:  12%|█▎        | 11/88 [04:57<34:31, 26.90s/it]<tifffile.TiffFile '211016_brain2.2…0_P36__00012.tif'> asarray failed to reshape (172, 1024, 1024) to (8, 10, 2, 1024, 1024)\n",
      "compiling_files:  14%|█▎        | 12/88 [05:24<34:02, 26.87s/it]<tifffile.TiffFile '211016_brain2.2…0_P36__00013.tif'> asarray failed to reshape (172, 1024, 1024) to (8, 10, 2, 1024, 1024)\n",
      "compiling_files:  15%|█▍        | 13/88 [05:51<33:34, 26.86s/it]<tifffile.TiffFile '211016_brain2.2…0_P36__00014.tif'> asarray failed to reshape (172, 1024, 1024) to (8, 10, 2, 1024, 1024)\n",
      "compiling_files:  16%|█▌        | 14/88 [06:18<33:06, 26.85s/it]<tifffile.TiffFile '211016_brain2.2…0_P36__00015.tif'> asarray failed to reshape (172, 1024, 1024) to (8, 10, 2, 1024, 1024)\n",
      "compiling_files:  17%|█▋        | 15/88 [06:44<32:40, 26.85s/it]<tifffile.TiffFile '211016_brain2.2…0_P36__00016.tif'> asarray failed to reshape (172, 1024, 1024) to (8, 10, 2, 1024, 1024)\n",
      "compiling_files:  18%|█▊        | 16/88 [07:11<32:13, 26.85s/it]<tifffile.TiffFile '211016_brain2.2…0_P36__00017.tif'> asarray failed to reshape (172, 1024, 1024) to (8, 10, 2, 1024, 1024)\n",
      "compiling_files:  19%|█▉        | 17/88 [07:38<31:45, 26.84s/it]<tifffile.TiffFile '211016_brain2.2…0_P36__00018.tif'> asarray failed to reshape (172, 1024, 1024) to (8, 10, 2, 1024, 1024)\n",
      "compiling_files:  20%|██        | 18/88 [08:05<31:18, 26.84s/it]<tifffile.TiffFile '211016_brain2.2…0_P36__00019.tif'> asarray failed to reshape (172, 1024, 1024) to (8, 10, 2, 1024, 1024)\n",
      "compiling_files:  22%|██▏       | 19/88 [08:32<30:51, 26.83s/it]<tifffile.TiffFile '211016_brain2.2…0_P36__00020.tif'> asarray failed to reshape (172, 1024, 1024) to (8, 10, 2, 1024, 1024)\n",
      "compiling_files:  23%|██▎       | 20/88 [08:59<30:24, 26.84s/it]<tifffile.TiffFile '211016_brain2.2…0_P36__00021.tif'> asarray failed to reshape (172, 1024, 1024) to (8, 10, 2, 1024, 1024)\n",
      "compiling_files:  24%|██▍       | 21/88 [09:25<29:59, 26.85s/it]<tifffile.TiffFile '211016_brain2.2…0_P36__00022.tif'> asarray failed to reshape (172, 1024, 1024) to (8, 10, 2, 1024, 1024)\n",
      "compiling_files:  25%|██▌       | 22/88 [09:52<29:32, 26.86s/it]<tifffile.TiffFile '211016_brain2.2…0_P36__00023.tif'> asarray failed to reshape (172, 1024, 1024) to (8, 10, 2, 1024, 1024)\n",
      "compiling_files:  26%|██▌       | 23/88 [10:19<29:06, 26.86s/it]<tifffile.TiffFile '211016_brain2.2…0_P36__00024.tif'> asarray failed to reshape (172, 1024, 1024) to (8, 10, 2, 1024, 1024)\n",
      "compiling_files:  27%|██▋       | 24/88 [10:46<28:40, 26.88s/it]<tifffile.TiffFile '211016_brain2.2…0_P36__00025.tif'> asarray failed to reshape (172, 1024, 1024) to (8, 10, 2, 1024, 1024)\n",
      "compiling_files:  28%|██▊       | 25/88 [11:13<28:12, 26.87s/it]<tifffile.TiffFile '211016_brain2.2…0_P36__00026.tif'> asarray failed to reshape (172, 1024, 1024) to (8, 10, 2, 1024, 1024)\n",
      "compiling_files:  30%|██▉       | 26/88 [11:40<27:46, 26.87s/it]<tifffile.TiffFile '211016_brain2.2…0_P36__00027.tif'> asarray failed to reshape (172, 1024, 1024) to (8, 10, 2, 1024, 1024)\n",
      "compiling_files:  31%|███       | 27/88 [12:07<27:19, 26.88s/it]<tifffile.TiffFile '211016_brain2.2…0_P36__00028.tif'> asarray failed to reshape (172, 1024, 1024) to (8, 10, 2, 1024, 1024)\n",
      "compiling_files:  32%|███▏      | 28/88 [12:34<26:52, 26.88s/it]<tifffile.TiffFile '211016_brain2.2…0_P36__00029.tif'> asarray failed to reshape (172, 1024, 1024) to (8, 10, 2, 1024, 1024)\n",
      "compiling_files:  33%|███▎      | 29/88 [13:00<26:25, 26.88s/it]<tifffile.TiffFile '211016_brain2.2…0_P36__00030.tif'> asarray failed to reshape (172, 1024, 1024) to (8, 10, 2, 1024, 1024)\n",
      "compiling_files:  34%|███▍      | 30/88 [13:27<25:58, 26.87s/it]<tifffile.TiffFile '211016_brain2.2…0_P36__00031.tif'> asarray failed to reshape (172, 1024, 1024) to (8, 10, 2, 1024, 1024)\n",
      "compiling_files:  35%|███▌      | 31/88 [13:54<25:31, 26.88s/it]<tifffile.TiffFile '211016_brain2.2…0_P36__00032.tif'> asarray failed to reshape (172, 1024, 1024) to (8, 10, 2, 1024, 1024)\n",
      "compiling_files:  36%|███▋      | 32/88 [14:21<25:05, 26.88s/it]<tifffile.TiffFile '211016_brain2.2…0_P36__00033.tif'> asarray failed to reshape (172, 1024, 1024) to (8, 10, 2, 1024, 1024)\n",
      "compiling_files:  38%|███▊      | 33/88 [14:48<24:38, 26.88s/it]<tifffile.TiffFile '211016_brain2.2…0_P36__00034.tif'> asarray failed to reshape (172, 1024, 1024) to (8, 10, 2, 1024, 1024)\n",
      "compiling_files:  39%|███▊      | 34/88 [15:15<24:10, 26.87s/it]<tifffile.TiffFile '211016_brain2.2…0_P36__00035.tif'> asarray failed to reshape (172, 1024, 1024) to (8, 10, 2, 1024, 1024)\n",
      "compiling_files:  40%|███▉      | 35/88 [15:42<23:43, 26.87s/it]<tifffile.TiffFile '211016_brain2.2…0_P36__00036.tif'> asarray failed to reshape (172, 1024, 1024) to (8, 10, 2, 1024, 1024)\n",
      "compiling_files:  41%|████      | 36/88 [16:09<23:19, 26.91s/it]<tifffile.TiffFile '211016_brain2.2…0_P36__00037.tif'> asarray failed to reshape (172, 1024, 1024) to (8, 10, 2, 1024, 1024)\n",
      "compiling_files:  42%|████▏     | 37/88 [16:36<22:51, 26.89s/it]<tifffile.TiffFile '211016_brain2.2…0_P36__00038.tif'> asarray failed to reshape (172, 1024, 1024) to (8, 10, 2, 1024, 1024)\n",
      "compiling_files:  43%|████▎     | 38/88 [17:02<22:24, 26.88s/it]<tifffile.TiffFile '211016_brain2.2…0_P36__00039.tif'> asarray failed to reshape (172, 1024, 1024) to (8, 10, 2, 1024, 1024)\n",
      "compiling_files:  44%|████▍     | 39/88 [17:29<21:57, 26.90s/it]<tifffile.TiffFile '211016_brain2.2…0_P36__00040.tif'> asarray failed to reshape (172, 1024, 1024) to (8, 10, 2, 1024, 1024)\n",
      "compiling_files:  45%|████▌     | 40/88 [17:56<21:29, 26.87s/it]<tifffile.TiffFile '211016_brain2.2…0_P36__00041.tif'> asarray failed to reshape (172, 1024, 1024) to (8, 10, 2, 1024, 1024)\n",
      "compiling_files:  47%|████▋     | 41/88 [18:23<21:05, 26.92s/it]<tifffile.TiffFile '211016_brain2.2…0_P36__00042.tif'> asarray failed to reshape (172, 1024, 1024) to (8, 10, 2, 1024, 1024)\n",
      "compiling_files:  48%|████▊     | 42/88 [18:50<20:38, 26.92s/it]<tifffile.TiffFile '211016_brain2.2…0_P36__00043.tif'> asarray failed to reshape (172, 1024, 1024) to (8, 10, 2, 1024, 1024)\n",
      "compiling_files:  49%|████▉     | 43/88 [19:17<20:11, 26.92s/it]<tifffile.TiffFile '211016_brain2.2…0_P36__00044.tif'> asarray failed to reshape (172, 1024, 1024) to (8, 10, 2, 1024, 1024)\n",
      "compiling_files:  50%|█████     | 44/88 [19:44<19:43, 26.89s/it]<tifffile.TiffFile '211016_brain2.2…0_P36__00045.tif'> asarray failed to reshape (172, 1024, 1024) to (8, 10, 2, 1024, 1024)\n",
      "compiling_files:  51%|█████     | 45/88 [20:11<19:16, 26.89s/it]<tifffile.TiffFile '211016_brain2.2…0_P36__00046.tif'> asarray failed to reshape (172, 1024, 1024) to (8, 10, 2, 1024, 1024)\n",
      "compiling_files:  52%|█████▏    | 46/88 [20:38<18:48, 26.87s/it]<tifffile.TiffFile '211016_brain2.2…0_P36__00047.tif'> asarray failed to reshape (172, 1024, 1024) to (8, 10, 2, 1024, 1024)\n",
      "compiling_files:  53%|█████▎    | 47/88 [21:04<18:21, 26.86s/it]<tifffile.TiffFile '211016_brain2.2…0_P36__00048.tif'> asarray failed to reshape (172, 1024, 1024) to (8, 10, 2, 1024, 1024)\n",
      "compiling_files:  55%|█████▍    | 48/88 [21:31<17:54, 26.86s/it]<tifffile.TiffFile '211016_brain2.2…0_P36__00049.tif'> asarray failed to reshape (172, 1024, 1024) to (8, 10, 2, 1024, 1024)\n",
      "compiling_files:  56%|█████▌    | 49/88 [21:58<17:27, 26.85s/it]<tifffile.TiffFile '211016_brain2.2…0_P36__00050.tif'> asarray failed to reshape (172, 1024, 1024) to (8, 10, 2, 1024, 1024)\n",
      "compiling_files:  57%|█████▋    | 50/88 [22:25<17:00, 26.86s/it]<tifffile.TiffFile '211016_brain2.2…0_P36__00051.tif'> asarray failed to reshape (172, 1024, 1024) to (8, 10, 2, 1024, 1024)\n",
      "compiling_files:  58%|█████▊    | 51/88 [22:52<16:33, 26.85s/it]<tifffile.TiffFile '211016_brain2.2…0_P36__00052.tif'> asarray failed to reshape (172, 1024, 1024) to (8, 10, 2, 1024, 1024)\n",
      "compiling_files:  59%|█████▉    | 52/88 [23:19<16:07, 26.87s/it]<tifffile.TiffFile '211016_brain2.2…0_P36__00053.tif'> asarray failed to reshape (172, 1024, 1024) to (8, 10, 2, 1024, 1024)\n",
      "compiling_files:  60%|██████    | 53/88 [23:46<15:40, 26.87s/it]<tifffile.TiffFile '211016_brain2.2…0_P36__00054.tif'> asarray failed to reshape (172, 1024, 1024) to (8, 10, 2, 1024, 1024)\n",
      "compiling_files:  61%|██████▏   | 54/88 [24:12<15:12, 26.85s/it]<tifffile.TiffFile '211016_brain2.2…0_P36__00055.tif'> asarray failed to reshape (172, 1024, 1024) to (8, 10, 2, 1024, 1024)\n",
      "compiling_files:  62%|██████▎   | 55/88 [24:39<14:45, 26.84s/it]<tifffile.TiffFile '211016_brain2.2…0_P36__00056.tif'> asarray failed to reshape (172, 1024, 1024) to (8, 10, 2, 1024, 1024)\n",
      "compiling_files:  64%|██████▎   | 56/88 [25:06<14:18, 26.84s/it]<tifffile.TiffFile '211016_brain2.2…0_P36__00057.tif'> asarray failed to reshape (172, 1024, 1024) to (8, 10, 2, 1024, 1024)\n",
      "compiling_files:  65%|██████▍   | 57/88 [25:33<13:54, 26.91s/it]<tifffile.TiffFile '211016_brain2.2…0_P36__00058.tif'> asarray failed to reshape (172, 1024, 1024) to (8, 10, 2, 1024, 1024)\n",
      "compiling_files:  66%|██████▌   | 58/88 [26:00<13:27, 26.90s/it]<tifffile.TiffFile '211016_brain2.2…0_P36__00059.tif'> asarray failed to reshape (172, 1024, 1024) to (8, 10, 2, 1024, 1024)\n",
      "compiling_files:  67%|██████▋   | 59/88 [26:27<13:00, 26.91s/it]<tifffile.TiffFile '211016_brain2.2…0_P36__00060.tif'> asarray failed to reshape (172, 1024, 1024) to (8, 10, 2, 1024, 1024)\n",
      "compiling_files:  68%|██████▊   | 60/88 [26:54<12:32, 26.88s/it]<tifffile.TiffFile '211016_brain2.2…0_P36__00061.tif'> asarray failed to reshape (172, 1024, 1024) to (8, 10, 2, 1024, 1024)\n",
      "compiling_files:  69%|██████▉   | 61/88 [27:21<12:05, 26.86s/it]<tifffile.TiffFile '211016_brain2.2…0_P36__00062.tif'> asarray failed to reshape (172, 1024, 1024) to (8, 10, 2, 1024, 1024)\n",
      "compiling_files:  70%|███████   | 62/88 [27:47<11:38, 26.88s/it]<tifffile.TiffFile '211016_brain2.2…0_P36__00063.tif'> asarray failed to reshape (172, 1024, 1024) to (8, 10, 2, 1024, 1024)\n",
      "compiling_files:  72%|███████▏  | 63/88 [28:14<11:11, 26.86s/it]<tifffile.TiffFile '211016_brain2.2…0_P36__00064.tif'> asarray failed to reshape (172, 1024, 1024) to (8, 10, 2, 1024, 1024)\n",
      "compiling_files:  73%|███████▎  | 64/88 [28:41<10:43, 26.83s/it]<tifffile.TiffFile '211016_brain2.2…0_P36__00065.tif'> asarray failed to reshape (172, 1024, 1024) to (8, 10, 2, 1024, 1024)\n",
      "compiling_files:  74%|███████▍  | 65/88 [29:08<10:17, 26.86s/it]<tifffile.TiffFile '211016_brain2.2…0_P36__00066.tif'> asarray failed to reshape (172, 1024, 1024) to (8, 10, 2, 1024, 1024)\n",
      "compiling_files:  75%|███████▌  | 66/88 [29:35<09:50, 26.85s/it]<tifffile.TiffFile '211016_brain2.2…0_P36__00067.tif'> asarray failed to reshape (172, 1024, 1024) to (8, 10, 2, 1024, 1024)\n",
      "compiling_files:  76%|███████▌  | 67/88 [30:02<09:23, 26.85s/it]<tifffile.TiffFile '211016_brain2.2…0_P36__00068.tif'> asarray failed to reshape (172, 1024, 1024) to (8, 10, 2, 1024, 1024)\n",
      "compiling_files:  77%|███████▋  | 68/88 [30:28<08:56, 26.83s/it]<tifffile.TiffFile '211016_brain2.2…0_P36__00069.tif'> asarray failed to reshape (172, 1024, 1024) to (8, 10, 2, 1024, 1024)\n",
      "compiling_files:  78%|███████▊  | 69/88 [30:55<08:29, 26.82s/it]<tifffile.TiffFile '211016_brain2.2…0_P36__00070.tif'> asarray failed to reshape (172, 1024, 1024) to (8, 10, 2, 1024, 1024)\n",
      "compiling_files:  80%|███████▉  | 70/88 [31:22<08:02, 26.82s/it]<tifffile.TiffFile '211016_brain2.2…0_P36__00071.tif'> asarray failed to reshape (172, 1024, 1024) to (8, 10, 2, 1024, 1024)\n",
      "compiling_files:  81%|████████  | 71/88 [31:49<07:36, 26.83s/it]<tifffile.TiffFile '211016_brain2.2…0_P36__00072.tif'> asarray failed to reshape (172, 1024, 1024) to (8, 10, 2, 1024, 1024)\n",
      "compiling_files:  82%|████████▏ | 72/88 [32:16<07:09, 26.84s/it]<tifffile.TiffFile '211016_brain2.2…0_P36__00073.tif'> asarray failed to reshape (172, 1024, 1024) to (8, 10, 2, 1024, 1024)\n",
      "compiling_files:  83%|████████▎ | 73/88 [32:43<06:42, 26.83s/it]<tifffile.TiffFile '211016_brain2.2…0_P36__00074.tif'> asarray failed to reshape (172, 1024, 1024) to (8, 10, 2, 1024, 1024)\n",
      "compiling_files:  84%|████████▍ | 74/88 [33:09<06:15, 26.83s/it]<tifffile.TiffFile '211016_brain2.2…0_P36__00075.tif'> asarray failed to reshape (172, 1024, 1024) to (8, 10, 2, 1024, 1024)\n",
      "compiling_files:  85%|████████▌ | 75/88 [33:36<05:48, 26.82s/it]<tifffile.TiffFile '211016_brain2.2…0_P36__00076.tif'> asarray failed to reshape (172, 1024, 1024) to (8, 10, 2, 1024, 1024)\n",
      "compiling_files:  86%|████████▋ | 76/88 [34:03<05:21, 26.82s/it]<tifffile.TiffFile '211016_brain2.2…0_P36__00077.tif'> asarray failed to reshape (172, 1024, 1024) to (8, 10, 2, 1024, 1024)\n",
      "compiling_files:  88%|████████▊ | 77/88 [34:30<04:55, 26.82s/it]<tifffile.TiffFile '211016_brain2.2…0_P36__00078.tif'> asarray failed to reshape (172, 1024, 1024) to (8, 10, 2, 1024, 1024)\n",
      "compiling_files:  89%|████████▊ | 78/88 [34:57<04:28, 26.82s/it]<tifffile.TiffFile '211016_brain2.2…0_P36__00079.tif'> asarray failed to reshape (172, 1024, 1024) to (8, 10, 2, 1024, 1024)\n",
      "compiling_files:  90%|████████▉ | 79/88 [35:24<04:01, 26.86s/it]<tifffile.TiffFile '211016_brain2.2…0_P36__00080.tif'> asarray failed to reshape (172, 1024, 1024) to (8, 10, 2, 1024, 1024)\n",
      "compiling_files:  91%|█████████ | 80/88 [35:50<03:34, 26.84s/it]<tifffile.TiffFile '211016_brain2.2…0_P36__00081.tif'> asarray failed to reshape (172, 1024, 1024) to (8, 10, 2, 1024, 1024)\n",
      "compiling_files:  92%|█████████▏| 81/88 [36:17<03:08, 26.89s/it]<tifffile.TiffFile '211016_brain2.2…0_P36__00082.tif'> asarray failed to reshape (172, 1024, 1024) to (8, 10, 2, 1024, 1024)\n",
      "compiling_files:  93%|█████████▎| 82/88 [36:44<02:41, 26.86s/it]<tifffile.TiffFile '211016_brain2.2…0_P36__00083.tif'> asarray failed to reshape (172, 1024, 1024) to (8, 10, 2, 1024, 1024)\n",
      "compiling_files:  94%|█████████▍| 83/88 [37:11<02:14, 26.88s/it]<tifffile.TiffFile '211016_brain2.2…0_P36__00084.tif'> asarray failed to reshape (172, 1024, 1024) to (8, 10, 2, 1024, 1024)\n",
      "compiling_files:  95%|█████████▌| 84/88 [37:38<01:47, 26.82s/it]<tifffile.TiffFile '211016_brain2.2…0_P36__00085.tif'> asarray failed to reshape (172, 1024, 1024) to (8, 10, 2, 1024, 1024)\n",
      "compiling_files:  97%|█████████▋| 85/88 [38:05<01:20, 26.82s/it]<tifffile.TiffFile '211016_brain2.2…0_P36__00086.tif'> asarray failed to reshape (172, 1024, 1024) to (8, 10, 2, 1024, 1024)\n",
      "compiling_files:  98%|█████████▊| 86/88 [38:31<00:53, 26.78s/it]<tifffile.TiffFile '211016_brain2.2…0_P36__00087.tif'> asarray failed to reshape (172, 1024, 1024) to (8, 10, 2, 1024, 1024)\n",
      "compiling_files:  99%|█████████▉| 87/88 [38:58<00:26, 26.78s/it]<tifffile.TiffFile '211016_brain2.2…0_P36__00088.tif'> asarray failed to reshape (172, 1024, 1024) to (8, 10, 2, 1024, 1024)\n",
      "                                                                \r"
     ]
    },
    {
     "name": "stdout",
     "output_type": "stream",
     "text": [
      "dict_keys(['GFP', 'red']) <class 'list'> 88\n",
      "compiling the GFP channel\n",
      "compiling the red channel\n",
      "files_to_4D runtime 2389.017529641278\n"
     ]
    },
    {
     "name": "stderr",
     "output_type": "stream",
     "text": [
      "                                                                         \r"
     ]
    },
    {
     "name": "stdout",
     "output_type": "stream",
     "text": [
      "first 5 files\n",
      "['/home/tli_project/Desktop/Data/T4/stage1/211016/211016_analysis/GFP_SyNRA_211016_brain2.2_LP40_P36_001.tif', '/home/tli_project/Desktop/Data/T4/stage1/211016/211016_analysis/GFP_SyNRA_211016_brain2.2_LP40_P36_002.tif', '/home/tli_project/Desktop/Data/T4/stage1/211016/211016_analysis/GFP_SyNRA_211016_brain2.2_LP40_P36_003.tif', '/home/tli_project/Desktop/Data/T4/stage1/211016/211016_analysis/GFP_SyNRA_211016_brain2.2_LP40_P36_004.tif', '/home/tli_project/Desktop/Data/T4/stage1/211016/211016_analysis/GFP_SyNRA_211016_brain2.2_LP40_P36_005.tif']\n"
     ]
    },
    {
     "name": "stderr",
     "output_type": "stream",
     "text": [
      "                                                                \r"
     ]
    },
    {
     "name": "stdout",
     "output_type": "stream",
     "text": [
      "dict_keys(['GFP']) <class 'list'> 88\n",
      "compiling the GFP channel\n"
     ]
    },
    {
     "name": "stderr",
     "output_type": "stream",
     "text": [
      "/home/tli_project/.local/lib/python3.8/site-packages/tifffile/tifffile.py:2876: UserWarning:\n",
      "\n",
      "<tifffile.TiffWriter '4D_GFP_GFP_SyNR…2.2_LP40_P36.tif'> truncating ImageJ file\n",
      "\n"
     ]
    },
    {
     "name": "stdout",
     "output_type": "stream",
     "text": [
      "files_to_4D runtime 50.91410826891661\n"
     ]
    },
    {
     "name": "stderr",
     "output_type": "stream",
     "text": [
      "                                                                         \r"
     ]
    },
    {
     "name": "stdout",
     "output_type": "stream",
     "text": [
      "first 5 files\n",
      "['/home/tli_project/Desktop/Data/T4/stage1/211016/211016_analysis/red_SyNRA_211016_brain2.2_LP40_P36_001.tif', '/home/tli_project/Desktop/Data/T4/stage1/211016/211016_analysis/red_SyNRA_211016_brain2.2_LP40_P36_002.tif', '/home/tli_project/Desktop/Data/T4/stage1/211016/211016_analysis/red_SyNRA_211016_brain2.2_LP40_P36_003.tif', '/home/tli_project/Desktop/Data/T4/stage1/211016/211016_analysis/red_SyNRA_211016_brain2.2_LP40_P36_004.tif', '/home/tli_project/Desktop/Data/T4/stage1/211016/211016_analysis/red_SyNRA_211016_brain2.2_LP40_P36_005.tif']\n"
     ]
    },
    {
     "name": "stderr",
     "output_type": "stream",
     "text": [
      "                                                                \r"
     ]
    },
    {
     "name": "stdout",
     "output_type": "stream",
     "text": [
      "dict_keys(['red']) <class 'list'> 88\n",
      "compiling the red channel\n"
     ]
    },
    {
     "name": "stderr",
     "output_type": "stream",
     "text": [
      "/home/tli_project/.local/lib/python3.8/site-packages/tifffile/tifffile.py:2876: UserWarning:\n",
      "\n",
      "<tifffile.TiffWriter '4D_red_red_SyNR…2.2_LP40_P36.tif'> truncating ImageJ file\n",
      "\n"
     ]
    },
    {
     "name": "stdout",
     "output_type": "stream",
     "text": [
      "files_to_4D runtime 73.2091960189864\n",
      "211016_brain2.2_LP40_P36  is done, and it took 29116.150530406274\n"
     ]
    }
   ],
   "source": [
    "image_path = '/home/tli_project/Desktop/Data/T4/stage1/211107/4D_GFP_GFP_SyNRA_4D_211107_brain2.1_LP40_P36.tif'\n",
    "save_path = '/home/tli_project/Desktop/Data/T4/stage1/211107'\n",
    "save_name = '4D_GFP_SyNRA_211107_brain2.1_P36'\n",
    "\n",
    "#N2V parameters\n",
    "model_name ='n2v_3D_v6'\n",
    "model_path ='/home/tli_project/Desktop/TLI_preprocessing/Work_folder/N2V/models/'\n",
    "\n",
    "#Clahe parameters:\n",
    "clipLimit = 1\n",
    "kernel_size = (45, 45)\n",
    "\n",
    "if save_path[-1] != '/':\n",
    "    save_path += '/'"
   ]
  },
  {
   "cell_type": "code",
   "execution_count": 7,
   "metadata": {},
   "outputs": [],
   "source": [
    "# Read 4D GFP image\n",
    "image_4D = tif.imread(image_path)\n",
    "\n",
    "image_4D = denoise.N2V_4D(image_4D, model_name=model_name, model_path=model_path, \n",
    "                            save=True, save_path=save_path, xy_pixel=0.076, \n",
    "                            z_pixel=0.4, save_file=save_name)\n",
    "\n",
    "# remove further noise pixels before applying clahe, by removing 95% quantil\n",
    "threshold = np.quantile(image_4D,0.95)\n",
    "# threshold = 4 * image_4D.mean()\n",
    "image_4D[image_4D<threshold] = 0\n",
    "\n",
    "image_4D = denoise.clahe_4D(image_4D, kernel_size=kernel_size, clipLimit=clipLimit, \n",
    "                            save=True, save_path=save_path, xy_pixel=0.076, \n",
    "                            z_pixel=0.4, save_file=save_name) \n",
    "\n",
    "# masking the image\n",
    "image_4D = neu.Neuron(image_4D)\n",
    "mask =  neu.mask_Neuron(image_4D)\n",
    "\n",
    "image_4D = image_4D.array\n",
    "mask = mask.array\n",
    "for i, img in enumerate(image_4D):\n",
    "    mask[i] = datautils.img_limits(mask[i], limit=img.max(), ddtype='int16')\n",
    "mask = mask.astype('int16')\n",
    "datautils.save_image(save_path+'mask_'+save_name, mask)"
   ]
  },
  {
   "cell_type": "code",
   "execution_count": null,
   "metadata": {},
   "outputs": [],
   "source": [
    "print('memory cleared, and kernel stopped')\n",
    "print('Job is DONE!')\n",
    "os._exit(00)"
   ]
  },
  {
   "cell_type": "code",
   "execution_count": null,
   "metadata": {},
   "outputs": [],
   "source": []
  }
 ],
 "metadata": {
  "interpreter": {
   "hash": "f3f6acc8ab4cd1097e4d91bbffd405bcf59aaff2754a866d7c8cf61e0274c3d7"
  },
  "kernelspec": {
   "display_name": "Python 3.8.12 64-bit ('preprocessing': conda)",
   "language": "python",
   "name": "python3"
  },
  "language_info": {
   "codemirror_mode": {
    "name": "ipython",
    "version": 3
   },
   "file_extension": ".py",
   "mimetype": "text/x-python",
   "name": "python",
   "nbconvert_exporter": "python",
   "pygments_lexer": "ipython3",
   "version": "3.8.12"
  },
  "orig_nbformat": 4
 },
 "nbformat": 4,
 "nbformat_minor": 2
}
