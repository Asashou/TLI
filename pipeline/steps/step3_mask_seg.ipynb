{
 "cells": [
  {
   "cell_type": "code",
   "execution_count": 1,
   "metadata": {},
   "outputs": [],
   "source": [
    "data_path = '/home/tli_project/Desktop/Data/T4/neurons/SubtypeC_D/220127_P36_N1/220127_P36_N1_Z30_mask_JESUS.tif'\n",
    "mask_path = '/home/tli_project/Desktop/Data/T4/stage1/220127/220127_analysis/220127_P36_N1/211114_P36_N1_FlipV_R277_mask6.tif'\n",
    "save_path = '/home/tli_project/Desktop/Data/T4/neurons/SubtypeC_D/220127_P36_N1/'\n",
    "save_name = '220127_P36_N1_Z30_JE'\n",
    "sig=1"
   ]
  },
  {
   "cell_type": "code",
   "execution_count": 2,
   "metadata": {},
   "outputs": [
    {
     "name": "stderr",
     "output_type": "stream",
     "text": [
      "2022-06-29 13:09:57.681917: I tensorflow/stream_executor/platform/default/dso_loader.cc:49] Successfully opened dynamic library libcudart.so.10.1\n"
     ]
    }
   ],
   "source": [
    "import tifffile as tif\n",
    "import Neurosetta as neu\n",
    "import matplotlib.pyplot as plt\n",
    "import utils.datautils as datautils\n",
    "import utils.denoise as denoise\n",
    "import utils.segment as segment\n",
    "from timeit import default_timer as timer\n",
    "import numpy as np \n",
    "from scipy import ndimage"
   ]
  },
  {
   "cell_type": "code",
   "execution_count": 3,
   "metadata": {},
   "outputs": [],
   "source": [
    "neuron = tif.imread(data_path)"
   ]
  },
  {
   "cell_type": "code",
   "execution_count": 4,
   "metadata": {},
   "outputs": [],
   "source": [
    "save_file = save_path+save_name+'_seg2.tif'\n",
    "tif.imwrite(save_file, neuron, imagej=True, resolution=(1./0.076, 1./0.076),\n",
    "                metadata={'spacing': 0.4, 'unit': 'um', 'finterval': 1/10,'axes': 'TZYX'})"
   ]
  },
  {
   "cell_type": "code",
   "execution_count": 18,
   "metadata": {},
   "outputs": [
    {
     "ename": "FileNotFoundError",
     "evalue": "[Errno 2] No such file or directory: '/home/tli_project/Desktop/Data/T4/stage1/211114/analysis/211114_P36_N1/211114_P36_N1_FlipV_R277_mask6.tif'",
     "output_type": "error",
     "traceback": [
      "\u001b[0;31m---------------------------------------------------------------------------\u001b[0m",
      "\u001b[0;31mFileNotFoundError\u001b[0m                         Traceback (most recent call last)",
      "\u001b[1;32m/home/tli_project/Desktop/TLI_preprocessing/Work_folder/steps/step3_mask_seg.ipynb Cell 6'\u001b[0m in \u001b[0;36m<module>\u001b[0;34m\u001b[0m\n\u001b[1;32m      <a href='vscode-notebook-cell:/home/tli_project/Desktop/TLI_preprocessing/Work_folder/steps/step3_mask_seg.ipynb#ch0000033?line=0'>1</a>\u001b[0m neuron \u001b[39m-\u001b[39m\u001b[39m=\u001b[39m neuron\u001b[39m.\u001b[39mmin()\n\u001b[0;32m----> <a href='vscode-notebook-cell:/home/tli_project/Desktop/TLI_preprocessing/Work_folder/steps/step3_mask_seg.ipynb#ch0000033?line=1'>2</a>\u001b[0m mask \u001b[39m=\u001b[39m tif\u001b[39m.\u001b[39;49mimread(mask_path)\n\u001b[1;32m      <a href='vscode-notebook-cell:/home/tli_project/Desktop/TLI_preprocessing/Work_folder/steps/step3_mask_seg.ipynb#ch0000033?line=2'>3</a>\u001b[0m neuron[mask\u001b[39m==\u001b[39m\u001b[39m0\u001b[39m] \u001b[39m=\u001b[39m \u001b[39m0\u001b[39m\n\u001b[1;32m      <a href='vscode-notebook-cell:/home/tli_project/Desktop/TLI_preprocessing/Work_folder/steps/step3_mask_seg.ipynb#ch0000033?line=3'>4</a>\u001b[0m save_file \u001b[39m=\u001b[39m save_path\u001b[39m+\u001b[39msave_name\u001b[39m+\u001b[39m\u001b[39m'\u001b[39m\u001b[39m_seg2.tif\u001b[39m\u001b[39m'\u001b[39m\n",
      "File \u001b[0;32m~/.local/lib/python3.8/site-packages/tifffile/tifffile.py:891\u001b[0m, in \u001b[0;36mimread\u001b[0;34m(files, aszarr, **kwargs)\u001b[0m\n\u001b[1;32m    <a href='file:///home/tli_project/.local/lib/python3.8/site-packages/tifffile/tifffile.py?line=887'>888</a>\u001b[0m     files \u001b[39m=\u001b[39m files[\u001b[39m0\u001b[39m]\n\u001b[1;32m    <a href='file:///home/tli_project/.local/lib/python3.8/site-packages/tifffile/tifffile.py?line=889'>890</a>\u001b[0m \u001b[39mif\u001b[39;00m \u001b[39misinstance\u001b[39m(files, (\u001b[39mstr\u001b[39m, os\u001b[39m.\u001b[39mPathLike)) \u001b[39mor\u001b[39;00m \u001b[39mhasattr\u001b[39m(files, \u001b[39m'\u001b[39m\u001b[39mseek\u001b[39m\u001b[39m'\u001b[39m):\n\u001b[0;32m--> <a href='file:///home/tli_project/.local/lib/python3.8/site-packages/tifffile/tifffile.py?line=890'>891</a>\u001b[0m     \u001b[39mwith\u001b[39;00m TiffFile(files, \u001b[39m*\u001b[39;49m\u001b[39m*\u001b[39;49mkwargs_file) \u001b[39mas\u001b[39;00m tif:\n\u001b[1;32m    <a href='file:///home/tli_project/.local/lib/python3.8/site-packages/tifffile/tifffile.py?line=891'>892</a>\u001b[0m         \u001b[39mif\u001b[39;00m aszarr:\n\u001b[1;32m    <a href='file:///home/tli_project/.local/lib/python3.8/site-packages/tifffile/tifffile.py?line=892'>893</a>\u001b[0m             \u001b[39mreturn\u001b[39;00m tif\u001b[39m.\u001b[39maszarr(\u001b[39m*\u001b[39m\u001b[39m*\u001b[39mkwargs)\n",
      "File \u001b[0;32m~/.local/lib/python3.8/site-packages/tifffile/tifffile.py:3131\u001b[0m, in \u001b[0;36mTiffFile.__init__\u001b[0;34m(self, arg, mode, name, offset, size, _multifile, _useframes, _parent, **kwargs)\u001b[0m\n\u001b[1;32m   <a href='file:///home/tli_project/.local/lib/python3.8/site-packages/tifffile/tifffile.py?line=3127'>3128</a>\u001b[0m \u001b[39mif\u001b[39;00m mode \u001b[39mnot\u001b[39;00m \u001b[39min\u001b[39;00m (\u001b[39mNone\u001b[39;00m, \u001b[39m'\u001b[39m\u001b[39mrb\u001b[39m\u001b[39m'\u001b[39m, \u001b[39m'\u001b[39m\u001b[39mr+b\u001b[39m\u001b[39m'\u001b[39m):\n\u001b[1;32m   <a href='file:///home/tli_project/.local/lib/python3.8/site-packages/tifffile/tifffile.py?line=3128'>3129</a>\u001b[0m     \u001b[39mraise\u001b[39;00m \u001b[39mValueError\u001b[39;00m(\u001b[39mf\u001b[39m\u001b[39m'\u001b[39m\u001b[39minvalid mode \u001b[39m\u001b[39m{\u001b[39;00mmode\u001b[39m!r}\u001b[39;00m\u001b[39m'\u001b[39m)\n\u001b[0;32m-> <a href='file:///home/tli_project/.local/lib/python3.8/site-packages/tifffile/tifffile.py?line=3130'>3131</a>\u001b[0m fh \u001b[39m=\u001b[39m FileHandle(arg, mode\u001b[39m=\u001b[39;49mmode, name\u001b[39m=\u001b[39;49mname, offset\u001b[39m=\u001b[39;49moffset, size\u001b[39m=\u001b[39;49msize)\n\u001b[1;32m   <a href='file:///home/tli_project/.local/lib/python3.8/site-packages/tifffile/tifffile.py?line=3131'>3132</a>\u001b[0m \u001b[39mself\u001b[39m\u001b[39m.\u001b[39m_fh \u001b[39m=\u001b[39m fh\n\u001b[1;32m   <a href='file:///home/tli_project/.local/lib/python3.8/site-packages/tifffile/tifffile.py?line=3132'>3133</a>\u001b[0m \u001b[39mself\u001b[39m\u001b[39m.\u001b[39m_multifile \u001b[39m=\u001b[39m \u001b[39mbool\u001b[39m(_multifile)\n",
      "File \u001b[0;32m~/.local/lib/python3.8/site-packages/tifffile/tifffile.py:10447\u001b[0m, in \u001b[0;36mFileHandle.__init__\u001b[0;34m(self, file, mode, name, offset, size)\u001b[0m\n\u001b[1;32m  <a href='file:///home/tli_project/.local/lib/python3.8/site-packages/tifffile/tifffile.py?line=10444'>10445</a>\u001b[0m \u001b[39mself\u001b[39m\u001b[39m.\u001b[39mis_file \u001b[39m=\u001b[39m \u001b[39mNone\u001b[39;00m\n\u001b[1;32m  <a href='file:///home/tli_project/.local/lib/python3.8/site-packages/tifffile/tifffile.py?line=10445'>10446</a>\u001b[0m \u001b[39mself\u001b[39m\u001b[39m.\u001b[39m_lock \u001b[39m=\u001b[39m NullContext()\n\u001b[0;32m> <a href='file:///home/tli_project/.local/lib/python3.8/site-packages/tifffile/tifffile.py?line=10446'>10447</a>\u001b[0m \u001b[39mself\u001b[39;49m\u001b[39m.\u001b[39;49mopen()\n",
      "File \u001b[0;32m~/.local/lib/python3.8/site-packages/tifffile/tifffile.py:10460\u001b[0m, in \u001b[0;36mFileHandle.open\u001b[0;34m(self)\u001b[0m\n\u001b[1;32m  <a href='file:///home/tli_project/.local/lib/python3.8/site-packages/tifffile/tifffile.py?line=10457'>10458</a>\u001b[0m \u001b[39mself\u001b[39m\u001b[39m.\u001b[39m_file \u001b[39m=\u001b[39m os\u001b[39m.\u001b[39mpath\u001b[39m.\u001b[39mrealpath(\u001b[39mself\u001b[39m\u001b[39m.\u001b[39m_file)\n\u001b[1;32m  <a href='file:///home/tli_project/.local/lib/python3.8/site-packages/tifffile/tifffile.py?line=10458'>10459</a>\u001b[0m \u001b[39mself\u001b[39m\u001b[39m.\u001b[39m_dir, \u001b[39mself\u001b[39m\u001b[39m.\u001b[39m_name \u001b[39m=\u001b[39m os\u001b[39m.\u001b[39mpath\u001b[39m.\u001b[39msplit(\u001b[39mself\u001b[39m\u001b[39m.\u001b[39m_file)\n\u001b[0;32m> <a href='file:///home/tli_project/.local/lib/python3.8/site-packages/tifffile/tifffile.py?line=10459'>10460</a>\u001b[0m \u001b[39mself\u001b[39m\u001b[39m.\u001b[39m_fh \u001b[39m=\u001b[39m \u001b[39mopen\u001b[39;49m(\u001b[39mself\u001b[39;49m\u001b[39m.\u001b[39;49m_file, \u001b[39mself\u001b[39;49m\u001b[39m.\u001b[39;49m_mode)\n\u001b[1;32m  <a href='file:///home/tli_project/.local/lib/python3.8/site-packages/tifffile/tifffile.py?line=10460'>10461</a>\u001b[0m \u001b[39mself\u001b[39m\u001b[39m.\u001b[39m_close \u001b[39m=\u001b[39m \u001b[39mTrue\u001b[39;00m\n\u001b[1;32m  <a href='file:///home/tli_project/.local/lib/python3.8/site-packages/tifffile/tifffile.py?line=10461'>10462</a>\u001b[0m \u001b[39mif\u001b[39;00m \u001b[39mself\u001b[39m\u001b[39m.\u001b[39m_offset \u001b[39mis\u001b[39;00m \u001b[39mNone\u001b[39;00m:\n",
      "\u001b[0;31mFileNotFoundError\u001b[0m: [Errno 2] No such file or directory: '/home/tli_project/Desktop/Data/T4/stage1/211114/analysis/211114_P36_N1/211114_P36_N1_FlipV_R277_mask6.tif'"
     ]
    }
   ],
   "source": [
    "neuron -= neuron.min()\n",
    "mask = tif.imread(mask_path)\n",
    "neuron[mask==0] = 0\n",
    "save_file = save_path+save_name+'_seg2.tif'\n",
    "tif.imwrite(save_file, neuron, imagej=True, resolution=(1./0.076, 1./0.076),\n",
    "                metadata={'spacing': 0.4, 'unit': 'um', 'finterval': 1/10,'axes': 'TZYX'})"
   ]
  },
  {
   "cell_type": "code",
   "execution_count": 4,
   "metadata": {},
   "outputs": [
    {
     "data": {
      "text/plain": [
       "(0, 1, (93, 41, 400, 400))"
      ]
     },
     "execution_count": 4,
     "metadata": {},
     "output_type": "execute_result"
    }
   ],
   "source": [
    "neuron.min(), neuron.max(), neuron.shape"
   ]
  },
  {
   "cell_type": "code",
   "execution_count": 5,
   "metadata": {},
   "outputs": [
    {
     "name": "stderr",
     "output_type": "stream",
     "text": [
      "masking the image: 100%|██████████| 93/93 [00:10<00:00,  8.61it/s]\n"
     ]
    }
   ],
   "source": [
    "mask = denoise.mask_4D(neuron, return_mask=False, \n",
    "                        xy_pixel=0.076, z_pixel=0.4, \n",
    "                        sig=sig, save=True, \n",
    "                        save_path=save_path, \n",
    "                        save_file=save_name)"
   ]
  },
  {
   "cell_type": "code",
   "execution_count": 5,
   "metadata": {},
   "outputs": [
    {
     "name": "stderr",
     "output_type": "stream",
     "text": [
      "matching segments: 100%|██████████| 92/92 [00:10<00:00,  9.11it/s]\n"
     ]
    },
    {
     "name": "stdout",
     "output_type": "stream",
     "text": [
      "dict_keys([1])\n"
     ]
    }
   ],
   "source": [
    "seg = segment.segment_4D(neuron, neu_no=1, \n",
    "                        max_neu_no=1, min_size=5000,\n",
    "                        xy_pixel=0.076, z_pixel=0.4,\n",
    "                        save=True, save_path=save_path, \n",
    "                        save_file=save_name)\n",
    "\n",
    "print(seg.keys())"
   ]
  },
  {
   "cell_type": "code",
   "execution_count": 9,
   "metadata": {},
   "outputs": [
    {
     "data": {
      "text/plain": [
       "61"
      ]
     },
     "execution_count": 9,
     "metadata": {},
     "output_type": "execute_result"
    }
   ],
   "source": [
    "len(seg[1])"
   ]
  },
  {
   "cell_type": "code",
   "execution_count": 19,
   "metadata": {},
   "outputs": [
    {
     "data": {
      "text/plain": [
       "(93, 41, 400, 400)"
      ]
     },
     "execution_count": 19,
     "metadata": {},
     "output_type": "execute_result"
    }
   ],
   "source": [
    "neuron.shape"
   ]
  },
  {
   "cell_type": "code",
   "execution_count": 4,
   "metadata": {},
   "outputs": [],
   "source": [
    "s = ndimage.generate_binary_structure(len(neuron.shape), len(neuron.shape))\n",
    "labeled_array, num_labels = ndimage.label(neuron, structure=s)\n",
    "labels = np.unique(labeled_array)\n",
    "labels = labels[labels!=0]\n",
    "test = labeled_array.copy()\n",
    "test[test!=1] = 0\n",
    "test2 = neuron.copy()\n",
    "test2[test==0] = 0\n",
    "# test = test.astype('uint16')\n",
    "# save_file = save_path+save_name+'_seg.tif'\n",
    "# tif.imwrite(save_file, test, imagej=True, resolution=(1./0.076, 1./0.076),\n",
    "#                 metadata={'spacing': 0.4, 'unit': 'um', 'finterval': 1/10,'axes': 'TZYX'})\n",
    "save_file = save_path+save_name+'_seg2.tif'\n",
    "tif.imwrite(save_file, test2, imagej=True, resolution=(1./0.076, 1./0.076),\n",
    "                metadata={'spacing': 0.4, 'unit': 'um', 'finterval': 1/10,'axes': 'TZYX'})"
   ]
  },
  {
   "cell_type": "code",
   "execution_count": null,
   "metadata": {},
   "outputs": [],
   "source": []
  },
  {
   "cell_type": "code",
   "execution_count": null,
   "metadata": {},
   "outputs": [],
   "source": []
  },
  {
   "cell_type": "code",
   "execution_count": 5,
   "metadata": {},
   "outputs": [],
   "source": [
    "N = neu.read_Neuron(data_path)\n",
    "# neu.Compare_Thresholds(N)"
   ]
  },
  {
   "cell_type": "code",
   "execution_count": 6,
   "metadata": {},
   "outputs": [],
   "source": [
    "# Get the integer value of the threshold\n",
    "t = neu.get_threshold(N, method = 'GHT',kappa = 50, omega = 0.7)\n",
    "\n",
    "# generate an np.array of the image, that has had our threshold applied to it\n",
    "thresholded_image = neu.apply_threshold(N,t, inplace = False)"
   ]
  },
  {
   "cell_type": "code",
   "execution_count": 14,
   "metadata": {},
   "outputs": [],
   "source": [
    "tif.imsave(save_path+'mask1', thresholded_image)"
   ]
  },
  {
   "cell_type": "code",
   "execution_count": 8,
   "metadata": {},
   "outputs": [],
   "source": [
    "N2 = neu.make_Neuron(N.array.copy()) "
   ]
  },
  {
   "cell_type": "code",
   "execution_count": 10,
   "metadata": {},
   "outputs": [],
   "source": [
    "N2 = neu.make_Neuron(N.array.copy()) \n",
    "t_original = neu.get_threshold(N)\n",
    "# blur the Original image with a gaussian\n",
    "N2.Gaussian_filter(sigma = 7.5)\n",
    "t_blurred = neu.get_threshold(N2)\n",
    "# Generate the mask\n",
    "mask = N2.Generate_mask(t_blurred)"
   ]
  },
  {
   "cell_type": "code",
   "execution_count": 11,
   "metadata": {},
   "outputs": [],
   "source": [
    "N.Mask_image(mask = mask)\n",
    "# Then apply the threshold fromt he original image to this\n",
    "\n",
    "N.Mask_image(t = t_original)\n",
    "N = neu.double_thresholding(N,sigma = 7.5)\n",
    "\n",
    "# Save the thresholded image as a tif\n",
    "N.save_tif(save_path+'mask3.tif')\n"
   ]
  },
  {
   "cell_type": "code",
   "execution_count": 18,
   "metadata": {},
   "outputs": [
    {
     "ename": "ValueError",
     "evalue": "the ImageJ format does not support data type '?'",
     "output_type": "error",
     "traceback": [
      "\u001b[0;31m---------------------------------------------------------------------------\u001b[0m",
      "\u001b[0;31mValueError\u001b[0m                                Traceback (most recent call last)",
      "\u001b[1;32m/home/tli_project/Desktop/TLI_preprocessing/Work_folder/steps/step3_mask_seg.ipynb Cell 10'\u001b[0m in \u001b[0;36m<module>\u001b[0;34m\u001b[0m\n\u001b[0;32m----> <a href='vscode-notebook-cell:/home/tli_project/Desktop/TLI_preprocessing/Work_folder/steps/step3_mask_seg.ipynb#ch0000024?line=0'>1</a>\u001b[0m datautils\u001b[39m.\u001b[39;49msave_image(save_path\u001b[39m+\u001b[39;49m\u001b[39m'\u001b[39;49m\u001b[39mmask2\u001b[39;49m\u001b[39m'\u001b[39;49m, mask, xy_pixel\u001b[39m=\u001b[39;49m\u001b[39m0.0764616\u001b[39;49m, z_pixel\u001b[39m=\u001b[39;49m\u001b[39m0.4\u001b[39;49m)\n",
      "File \u001b[0;32m~/Desktop/TLI_preprocessing/Work_folder/steps/utils/datautils.py:20\u001b[0m, in \u001b[0;36msave_image\u001b[0;34m(name, image, xy_pixel, z_pixel)\u001b[0m\n\u001b[1;32m     <a href='file:///home/tli_project/Desktop/TLI_preprocessing/Work_folder/steps/utils/datautils.py?line=15'>16</a>\u001b[0m     dim \u001b[39m=\u001b[39m \u001b[39m'\u001b[39m\u001b[39mTZYX\u001b[39m\u001b[39m'\u001b[39m\n\u001b[1;32m     <a href='file:///home/tli_project/Desktop/TLI_preprocessing/Work_folder/steps/utils/datautils.py?line=16'>17</a>\u001b[0m \u001b[39m# if image.dtype != 'uint16': ###this part to be omitted later\u001b[39;00m\n\u001b[1;32m     <a href='file:///home/tli_project/Desktop/TLI_preprocessing/Work_folder/steps/utils/datautils.py?line=17'>18</a>\u001b[0m \u001b[39m#     print('image type is not uint16')\u001b[39;00m\n\u001b[1;32m     <a href='file:///home/tli_project/Desktop/TLI_preprocessing/Work_folder/steps/utils/datautils.py?line=18'>19</a>\u001b[0m \u001b[39m#     image = image.astype('uint16')\u001b[39;00m\n\u001b[0;32m---> <a href='file:///home/tli_project/Desktop/TLI_preprocessing/Work_folder/steps/utils/datautils.py?line=19'>20</a>\u001b[0m tif\u001b[39m.\u001b[39;49mimwrite(name, image, imagej\u001b[39m=\u001b[39;49m\u001b[39mTrue\u001b[39;49;00m, dtype\u001b[39m=\u001b[39;49mimage\u001b[39m.\u001b[39;49mdtype, resolution\u001b[39m=\u001b[39;49m(\u001b[39m1.\u001b[39;49m\u001b[39m/\u001b[39;49mxy_pixel, \u001b[39m1.\u001b[39;49m\u001b[39m/\u001b[39;49mxy_pixel),\n\u001b[1;32m     <a href='file:///home/tli_project/Desktop/TLI_preprocessing/Work_folder/steps/utils/datautils.py?line=20'>21</a>\u001b[0m             metadata\u001b[39m=\u001b[39;49m{\u001b[39m'\u001b[39;49m\u001b[39mspacing\u001b[39;49m\u001b[39m'\u001b[39;49m: z_pixel, \u001b[39m'\u001b[39;49m\u001b[39munit\u001b[39;49m\u001b[39m'\u001b[39;49m: \u001b[39m'\u001b[39;49m\u001b[39mum\u001b[39;49m\u001b[39m'\u001b[39;49m, \u001b[39m'\u001b[39;49m\u001b[39mfinterval\u001b[39;49m\u001b[39m'\u001b[39;49m: \u001b[39m1\u001b[39;49m\u001b[39m/\u001b[39;49m\u001b[39m10\u001b[39;49m,\u001b[39m'\u001b[39;49m\u001b[39maxes\u001b[39;49m\u001b[39m'\u001b[39;49m: dim})\n\u001b[1;32m     <a href='file:///home/tli_project/Desktop/TLI_preprocessing/Work_folder/steps/utils/datautils.py?line=21'>22</a>\u001b[0m \u001b[39mreturn\u001b[39;00m\n",
      "File \u001b[0;32m~/.local/lib/python3.8/site-packages/tifffile/tifffile.py:966\u001b[0m, in \u001b[0;36mimwrite\u001b[0;34m(file, data, shape, dtype, **kwargs)\u001b[0m\n\u001b[1;32m    <a href='file:///home/tli_project/.local/lib/python3.8/site-packages/tifffile/tifffile.py?line=962'>963</a>\u001b[0m     tifargs[\u001b[39m'\u001b[39m\u001b[39mbyteorder\u001b[39m\u001b[39m'\u001b[39m] \u001b[39m=\u001b[39m byteorder\n\u001b[1;32m    <a href='file:///home/tli_project/.local/lib/python3.8/site-packages/tifffile/tifffile.py?line=964'>965</a>\u001b[0m \u001b[39mwith\u001b[39;00m TiffWriter(file, \u001b[39m*\u001b[39m\u001b[39m*\u001b[39mtifargs) \u001b[39mas\u001b[39;00m tif:\n\u001b[0;32m--> <a href='file:///home/tli_project/.local/lib/python3.8/site-packages/tifffile/tifffile.py?line=965'>966</a>\u001b[0m     result \u001b[39m=\u001b[39m tif\u001b[39m.\u001b[39;49mwrite(data, shape, dtype, \u001b[39m*\u001b[39;49m\u001b[39m*\u001b[39;49mkwargs)\n\u001b[1;32m    <a href='file:///home/tli_project/.local/lib/python3.8/site-packages/tifffile/tifffile.py?line=966'>967</a>\u001b[0m \u001b[39mreturn\u001b[39;00m result\n",
      "File \u001b[0;32m~/.local/lib/python3.8/site-packages/tifffile/tifffile.py:1769\u001b[0m, in \u001b[0;36mTiffWriter.write\u001b[0;34m(self, data, shape, dtype, photometric, planarconfig, extrasamples, volumetric, tile, contiguous, truncate, align, rowsperstrip, bitspersample, compression, predictor, subsampling, jpegtables, colormap, description, datetime, resolution, subfiletype, software, subifds, metadata, extratags, returnoffset, ijmetadata, compress)\u001b[0m\n\u001b[1;32m   <a href='file:///home/tli_project/.local/lib/python3.8/site-packages/tifffile/tifffile.py?line=1766'>1767</a>\u001b[0m     description \u001b[39m=\u001b[39m \u001b[39mNone\u001b[39;00m\n\u001b[1;32m   <a href='file:///home/tli_project/.local/lib/python3.8/site-packages/tifffile/tifffile.py?line=1767'>1768</a>\u001b[0m \u001b[39mif\u001b[39;00m datadtypechar \u001b[39mnot\u001b[39;00m \u001b[39min\u001b[39;00m \u001b[39m'\u001b[39m\u001b[39mBHhf\u001b[39m\u001b[39m'\u001b[39m:\n\u001b[0;32m-> <a href='file:///home/tli_project/.local/lib/python3.8/site-packages/tifffile/tifffile.py?line=1768'>1769</a>\u001b[0m     \u001b[39mraise\u001b[39;00m \u001b[39mValueError\u001b[39;00m(\n\u001b[1;32m   <a href='file:///home/tli_project/.local/lib/python3.8/site-packages/tifffile/tifffile.py?line=1769'>1770</a>\u001b[0m         \u001b[39m'\u001b[39m\u001b[39mthe ImageJ format does not support data type \u001b[39m\u001b[39m'\u001b[39m\n\u001b[1;32m   <a href='file:///home/tli_project/.local/lib/python3.8/site-packages/tifffile/tifffile.py?line=1770'>1771</a>\u001b[0m         \u001b[39mf\u001b[39m\u001b[39m'\u001b[39m\u001b[39m{\u001b[39;00mdatadtypechar\u001b[39m!r}\u001b[39;00m\u001b[39m'\u001b[39m\n\u001b[1;32m   <a href='file:///home/tli_project/.local/lib/python3.8/site-packages/tifffile/tifffile.py?line=1771'>1772</a>\u001b[0m     )\n\u001b[1;32m   <a href='file:///home/tli_project/.local/lib/python3.8/site-packages/tifffile/tifffile.py?line=1772'>1773</a>\u001b[0m \u001b[39mif\u001b[39;00m volumetric \u001b[39mor\u001b[39;00m (tile \u001b[39mand\u001b[39;00m \u001b[39mlen\u001b[39m(tile) \u001b[39m>\u001b[39m \u001b[39m2\u001b[39m):\n\u001b[1;32m   <a href='file:///home/tli_project/.local/lib/python3.8/site-packages/tifffile/tifffile.py?line=1773'>1774</a>\u001b[0m     \u001b[39mraise\u001b[39;00m \u001b[39mValueError\u001b[39;00m(\n\u001b[1;32m   <a href='file:///home/tli_project/.local/lib/python3.8/site-packages/tifffile/tifffile.py?line=1774'>1775</a>\u001b[0m         \u001b[39m'\u001b[39m\u001b[39mthe ImageJ format does not support ImageDepth\u001b[39m\u001b[39m'\u001b[39m\n\u001b[1;32m   <a href='file:///home/tli_project/.local/lib/python3.8/site-packages/tifffile/tifffile.py?line=1775'>1776</a>\u001b[0m     )\n",
      "\u001b[0;31mValueError\u001b[0m: the ImageJ format does not support data type '?'"
     ]
    }
   ],
   "source": [
    "datautils.save_image(save_path+'mask2', mask, xy_pixel=0.0764616, z_pixel=0.4)"
   ]
  },
  {
   "cell_type": "code",
   "execution_count": 11,
   "metadata": {},
   "outputs": [
    {
     "ename": "NameError",
     "evalue": "name 'mask_path' is not defined",
     "output_type": "error",
     "traceback": [
      "\u001b[0;31m---------------------------------------------------------------------------\u001b[0m",
      "\u001b[0;31mNameError\u001b[0m                                 Traceback (most recent call last)",
      "\u001b[1;32m/home/tli_project/Desktop/TLI_preprocessing/Work_folder/steps/step3_mask_seg.ipynb Cell 4'\u001b[0m in \u001b[0;36m<module>\u001b[0;34m\u001b[0m\n\u001b[0;32m----> <a href='vscode-notebook-cell:/home/tli_project/Desktop/TLI_preprocessing/Work_folder/steps/step3_mask_seg.ipynb#ch0000021?line=0'>1</a>\u001b[0m mask \u001b[39m=\u001b[39m tif\u001b[39m.\u001b[39mimread(mask_path)\n\u001b[1;32m      <a href='vscode-notebook-cell:/home/tli_project/Desktop/TLI_preprocessing/Work_folder/steps/step3_mask_seg.ipynb#ch0000021?line=1'>2</a>\u001b[0m neuron[mask\u001b[39m==\u001b[39m\u001b[39m0\u001b[39m] \u001b[39m=\u001b[39m \u001b[39m0\u001b[39m\n\u001b[1;32m      <a href='vscode-notebook-cell:/home/tli_project/Desktop/TLI_preprocessing/Work_folder/steps/step3_mask_seg.ipynb#ch0000021?line=2'>3</a>\u001b[0m save_file \u001b[39m=\u001b[39m save_path\u001b[39m+\u001b[39msave_name\u001b[39m+\u001b[39m\u001b[39m'\u001b[39m\u001b[39m_seg2.tif\u001b[39m\u001b[39m'\u001b[39m\n",
      "\u001b[0;31mNameError\u001b[0m: name 'mask_path' is not defined"
     ]
    }
   ],
   "source": [
    "mask = tif.imread(mask_path)\n",
    "neuron[mask==0] = 0\n",
    "save_file = save_path+save_name+'_seg2.tif'\n",
    "tif.imwrite(save_file, neuron, imagej=True, resolution=(1./0.076, 1./0.076),\n",
    "                metadata={'spacing': 0.4, 'unit': 'um', 'finterval': 1/10,'axes': 'TZYX'})"
   ]
  },
  {
   "cell_type": "code",
   "execution_count": 30,
   "metadata": {},
   "outputs": [
    {
     "data": {
      "text/plain": [
       "54113"
      ]
     },
     "execution_count": 30,
     "metadata": {},
     "output_type": "execute_result"
    }
   ],
   "source": [
    "neuron.max()"
   ]
  },
  {
   "cell_type": "code",
   "execution_count": 31,
   "metadata": {},
   "outputs": [
    {
     "data": {
      "text/plain": [
       "<matplotlib.image.AxesImage at 0x7f9ad66e64f0>"
      ]
     },
     "execution_count": 31,
     "metadata": {},
     "output_type": "execute_result"
    },
    {
     "data": {
      "image/png": "[encoded data removed]",
      "text/plain": [
       "<Figure size 432x288 with 1 Axes>"
      ]
     },
     "metadata": {
      "needs_background": "light"
     },
     "output_type": "display_data"
    }
   ],
   "source": [
    "import matplotlib.pyplot as plt\n",
    "plt.imshow(neuron[35,30])"
   ]
  },
  {
   "cell_type": "code",
   "execution_count": null,
   "metadata": {},
   "outputs": [
    {
     "data": {
      "text/plain": [
       "<matplotlib.image.AxesImage at 0x7efdb5ad2550>"
      ]
     },
     "execution_count": 13,
     "metadata": {},
     "output_type": "execute_result"
    },
    {
     "data": {
      "image/png": "[encoded data removed]",
      "text/plain": [
       "<Figure size 432x288 with 1 Axes>"
      ]
     },
     "metadata": {
      "needs_background": "light"
     },
     "output_type": "display_data"
    }
   ],
   "source": [
    "test = neuron[35,30].copy()\n",
    "test[test<9000] = 0\n",
    "plt.imshow(test)"
   ]
  },
  {
   "cell_type": "code",
   "execution_count": null,
   "metadata": {},
   "outputs": [],
   "source": [
    "# plt.imshow(neuron[20,20])"
   ]
  },
  {
   "cell_type": "code",
   "execution_count": null,
   "metadata": {},
   "outputs": [],
   "source": [
    "#make image as binary\n",
    "# neuron -= neuron.min()\n",
    "# neuron[neuron != 0] = 1\n",
    "neuron[35][neuron[35]<10001] = 0\n",
    "plt.imshow(neuron[35,30])"
   ]
  },
  {
   "cell_type": "code",
   "execution_count": 32,
   "metadata": {},
   "outputs": [],
   "source": [
    "from timeit import default_timer as timer\n",
    "import numpy as np \n",
    "from scipy import ndimage\n",
    "\n",
    "s = ndimage.generate_binary_structure(len(neuron.shape), len(neuron.shape))\n",
    "labeled_array, num_labels = ndimage.label(neuron, structure=s)\n",
    "labels = np.unique(labeled_array)\n",
    "labels = labels[labels!=0]"
   ]
  },
  {
   "cell_type": "code",
   "execution_count": 33,
   "metadata": {},
   "outputs": [
    {
     "data": {
      "text/plain": [
       "array([ 1,  2,  3,  4,  5,  6,  7,  8,  9, 10, 11, 12, 13, 14, 15, 16, 17,\n",
       "       18], dtype=int32)"
      ]
     },
     "execution_count": 33,
     "metadata": {},
     "output_type": "execute_result"
    }
   ],
   "source": [
    "labels"
   ]
  },
  {
   "cell_type": "code",
   "execution_count": 34,
   "metadata": {},
   "outputs": [
    {
     "data": {
      "text/plain": [
       "<matplotlib.image.AxesImage at 0x7f9ad65df0d0>"
      ]
     },
     "execution_count": 34,
     "metadata": {},
     "output_type": "execute_result"
    },
    {
     "data": {
      "image/png": "[encoded data removed]",
      "text/plain": [
       "<Figure size 432x288 with 1 Axes>"
      ]
     },
     "metadata": {
      "needs_background": "light"
     },
     "output_type": "display_data"
    }
   ],
   "source": [
    "test = labeled_array.copy()\n",
    "test[test!=1] = 0\n",
    "plt.imshow(test[36,30])"
   ]
  },
  {
   "cell_type": "code",
   "execution_count": 35,
   "metadata": {},
   "outputs": [
    {
     "data": {
      "text/plain": [
       "dtype('int32')"
      ]
     },
     "execution_count": 35,
     "metadata": {},
     "output_type": "execute_result"
    }
   ],
   "source": [
    "test.dtype"
   ]
  },
  {
   "cell_type": "code",
   "execution_count": 36,
   "metadata": {},
   "outputs": [],
   "source": [
    "test2 = neuron.copy()\n",
    "test2[test==0] = 0\n",
    "test = test.astype('uint16')\n",
    "save_file = save_path+save_name+'_seg.tif'\n",
    "tif.imwrite(save_file, test, imagej=True, resolution=(1./0.076, 1./0.076),\n",
    "                metadata={'spacing': 0.4, 'unit': 'um', 'finterval': 1/10,'axes': 'TZYX'})\n",
    "save_file = save_path+save_name+'_seg2.tif'\n",
    "tif.imwrite(save_file, test2, imagej=True, resolution=(1./0.076, 1./0.076),\n",
    "                metadata={'spacing': 0.4, 'unit': 'um', 'finterval': 1/10,'axes': 'TZYX'})"
   ]
  },
  {
   "cell_type": "code",
   "execution_count": 8,
   "metadata": {},
   "outputs": [
    {
     "name": "stderr",
     "output_type": "stream",
     "text": [
      "                                                                  \r"
     ]
    },
    {
     "name": "stdout",
     "output_type": "stream",
     "text": [
      "dict_keys([1])\n"
     ]
    }
   ],
   "source": [
    "seg = segment.segment_4D(neuron, neu_no=1, \n",
    "                        max_neu_no=1, min_size=5000,\n",
    "                        xy_pixel=0.076, z_pixel=0.4,\n",
    "                        save=True, save_path=save_path, \n",
    "                        save_file=save_name)\n",
    "\n",
    "print(seg.keys())"
   ]
  },
  {
   "cell_type": "code",
   "execution_count": null,
   "metadata": {},
   "outputs": [],
   "source": [
    "print('memory cleared, and kernel stopped')\n",
    "print('Job is DONE!')\n",
    "os._exit(00)"
   ]
  },
  {
   "cell_type": "code",
   "execution_count": null,
   "metadata": {},
   "outputs": [],
   "source": []
  }
 ],
 "metadata": {
  "kernelspec": {
   "display_name": "Python 3.9.6 ('growth')",
   "language": "python",
   "name": "python3"
  },
  "language_info": {
   "codemirror_mode": {
    "name": "ipython",
    "version": 3
   },
   "file_extension": ".py",
   "mimetype": "text/x-python",
   "name": "python",
   "nbconvert_exporter": "python",
   "pygments_lexer": "ipython3",
   "version": "3.9.6"
  },
  "orig_nbformat": 4,
  "vscode": {
   "interpreter": {
    "hash": "3558778624732e82e76d08d0e1529767d5d68faabf4350c6a5545e8ecf2497ca"
   }
  }
 },
 "nbformat": 4,
 "nbformat_minor": 2
}
