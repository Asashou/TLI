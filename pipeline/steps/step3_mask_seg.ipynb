{
 "cells": [
  {
   "cell_type": "code",
   "execution_count": 5,
   "metadata": {},
   "outputs": [],
   "source": [
    "import tifffile as tif\n",
    "import Neurosetta as neu\n",
    "import matplotlib.pyplot as plt\n",
    "import utils.datautils as datautils\n",
    "import utils.segment as segment"
   ]
  },
  {
   "cell_type": "code",
   "execution_count": 6,
   "metadata": {},
   "outputs": [],
   "source": [
    "data_path = '/home/tli_project/Desktop/Data/T4/stage1/220209/clahe_old_220209_brain2.2_LP40_P36_SyNRA_shifted.tif'\n",
    "save_path = '/home/tli_project/Desktop/Data/T4/stage1/220209/'\n",
    "save_name = 'GFP_220209_brain2.2_LP40_P36_SyNRA_shifted'"
   ]
  },
  {
   "cell_type": "code",
   "execution_count": 7,
   "metadata": {},
   "outputs": [],
   "source": [
    "neuron = tif.imread(data_path)"
   ]
  },
  {
   "cell_type": "code",
   "execution_count": 4,
   "metadata": {},
   "outputs": [],
   "source": [
    "#neuron = neuron[:,:,1]"
   ]
  },
  {
   "cell_type": "code",
   "execution_count": 8,
   "metadata": {},
   "outputs": [
    {
     "name": "stderr",
     "output_type": "stream",
     "text": [
      "masking the image: 100%|██████████| 88/88 [00:00<00:00, 551717.12it/s]\n"
     ]
    }
   ],
   "source": [
    "mask = segment.mask_4D(neuron, xy_pixel=0.076, z_pixel=0.4, sig=2, save=True, save_path=save_path, save_file=save_name)"
   ]
  },
  {
   "cell_type": "code",
   "execution_count": 16,
   "metadata": {},
   "outputs": [
    {
     "name": "stderr",
     "output_type": "stream",
     "text": [
      "Masking each time point: 100%|██████████| 92/92 [00:31<00:00,  2.90it/s]\n"
     ]
    }
   ],
   "source": [
    "# masking the image\n",
    "# neuron = neu.Neuron(neuron[:,:,1])\n",
    "# mask =  neu.mask_Neuron(neuron)"
   ]
  },
  {
   "cell_type": "code",
   "execution_count": 17,
   "metadata": {},
   "outputs": [
    {
     "data": {
      "text/plain": [
       "<matplotlib.image.AxesImage at 0x7f5bc7e11310>"
      ]
     },
     "execution_count": 17,
     "metadata": {},
     "output_type": "execute_result"
    },
    {
     "data": {
      "image/png": "[encoded data removed]",
      "text/plain": [
       "<Figure size 432x288 with 1 Axes>"
      ]
     },
     "metadata": {
      "needs_background": "light"
     },
     "output_type": "display_data"
    }
   ],
   "source": [
    "test = mask.array\n",
    "plt.imshow(test[40,20])"
   ]
  },
  {
   "cell_type": "code",
   "execution_count": 6,
   "metadata": {},
   "outputs": [
    {
     "ename": "NameError",
     "evalue": "name 'test' is not defined",
     "output_type": "error",
     "traceback": [
      "\u001b[0;31m---------------------------------------------------------------------------\u001b[0m",
      "\u001b[0;31mNameError\u001b[0m                                 Traceback (most recent call last)",
      "Input \u001b[0;32mIn [6]\u001b[0m, in \u001b[0;36m<module>\u001b[0;34m\u001b[0m\n\u001b[0;32m----> 1\u001b[0m test \u001b[38;5;241m=\u001b[39m segment\u001b[38;5;241m.\u001b[39msegment_4D(\u001b[43mtest\u001b[49m, neu_no\u001b[38;5;241m=\u001b[39m\u001b[38;5;241m1\u001b[39m, \n\u001b[1;32m      2\u001b[0m                         max_neu_no\u001b[38;5;241m=\u001b[39m\u001b[38;5;241m1\u001b[39m, min_size\u001b[38;5;241m=\u001b[39m\u001b[38;5;241m5000\u001b[39m,\n\u001b[1;32m      3\u001b[0m                         xy_pixel\u001b[38;5;241m=\u001b[39m\u001b[38;5;241m0.076\u001b[39m, z_pixel\u001b[38;5;241m=\u001b[39m\u001b[38;5;241m0.4\u001b[39m,\n\u001b[1;32m      4\u001b[0m                         \u001b[38;5;28mfilter\u001b[39m\u001b[38;5;241m=\u001b[39m\u001b[38;5;28;01mTrue\u001b[39;00m, save\u001b[38;5;241m=\u001b[39m\u001b[38;5;28;01mTrue\u001b[39;00m, save_path\u001b[38;5;241m=\u001b[39msave_path, \n\u001b[1;32m      5\u001b[0m                         save_file\u001b[38;5;241m=\u001b[39msave_name)\n",
      "\u001b[0;31mNameError\u001b[0m: name 'test' is not defined"
     ]
    }
   ],
   "source": [
    "segment.segment_4D(mask, neu_no=1, \n",
    "                    max_neu_no=1, min_size=5000,\n",
    "                    xy_pixel=0.076, z_pixel=0.4,\n",
    "                    filter=True, save=True, save_path=save_path, \n",
    "                    save_file=save_name)"
   ]
  },
  {
   "cell_type": "code",
   "execution_count": null,
   "metadata": {},
   "outputs": [],
   "source": []
  },
  {
   "cell_type": "code",
   "execution_count": null,
   "metadata": {},
   "outputs": [],
   "source": []
  }
 ],
 "metadata": {
  "interpreter": {
   "hash": "f3f6acc8ab4cd1097e4d91bbffd405bcf59aaff2754a866d7c8cf61e0274c3d7"
  },
  "kernelspec": {
   "display_name": "Python 3.8.12 64-bit ('preprocessing': conda)",
   "language": "python",
   "name": "python3"
  },
  "language_info": {
   "codemirror_mode": {
    "name": "ipython",
    "version": 3
   },
   "file_extension": ".py",
   "mimetype": "text/x-python",
   "name": "python",
   "nbconvert_exporter": "python",
   "pygments_lexer": "ipython3",
   "version": "3.8.12"
  },
  "orig_nbformat": 4
 },
 "nbformat": 4,
 "nbformat_minor": 2
}
