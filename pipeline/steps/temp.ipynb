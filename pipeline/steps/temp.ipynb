{
 "cells": [
  {
   "cell_type": "code",
   "execution_count": 1,
   "metadata": {},
   "outputs": [],
   "source": [
    "save_path = '/home/tli_project/Desktop/Data/T4/stage1/220209_analysis'\n",
    "path_to_data = save_path\n",
    "group_by = 'GFP_220209'\n",
    "ch_names = ['GFP']\n",
    "save_name = group_by\n",
    "compile = True"
   ]
  },
  {
   "cell_type": "code",
   "execution_count": 2,
   "metadata": {},
   "outputs": [],
   "source": [
    "if save_path[-1] != '/':\n",
    "    save_path += '/'"
   ]
  },
  {
   "cell_type": "code",
   "execution_count": 3,
   "metadata": {},
   "outputs": [
    {
     "name": "stderr",
     "output_type": "stream",
     "text": [
      "/home/tli_project/.local/lib/python3.8/site-packages/statsmodels/compat/pandas.py:65: FutureWarning: pandas.Int64Index is deprecated and will be removed from pandas in a future version. Use pandas.Index with the appropriate dtype instead.\n",
      "  from pandas import Int64Index as NumericIndex\n"
     ]
    }
   ],
   "source": [
    "import os\n",
    "import utils.datautils as datautils\n",
    "import utils.registration as registration"
   ]
  },
  {
   "cell_type": "code",
   "execution_count": 4,
   "metadata": {},
   "outputs": [
    {
     "name": "stdout",
     "output_type": "stream",
     "text": [
      "first 5 files\n",
      "['/home/tli_project/Desktop/Data/T4/stage1/220209_analysis/GFP_220209_brain2.2_LP40_P36001.tif', '/home/tli_project/Desktop/Data/T4/stage1/220209_analysis/GFP_220209_brain2.2_LP40_P36002.tif', '/home/tli_project/Desktop/Data/T4/stage1/220209_analysis/GFP_220209_brain2.2_LP40_P36003.tif', '/home/tli_project/Desktop/Data/T4/stage1/220209_analysis/GFP_220209_brain2.2_LP40_P36004.tif', '/home/tli_project/Desktop/Data/T4/stage1/220209_analysis/GFP_220209_brain2.2_LP40_P36005.tif']\n"
     ]
    },
    {
     "name": "stderr",
     "output_type": "stream",
     "text": [
      "compiling_files: 100%|██████████| 88/88 [00:43<00:00,  2.03it/s]\n"
     ]
    },
    {
     "name": "stdout",
     "output_type": "stream",
     "text": [
      "dict_keys(['GFP']) <class 'list'> 88\n",
      "compiling the GFP channel\n"
     ]
    },
    {
     "name": "stderr",
     "output_type": "stream",
     "text": [
      "/home/tli_project/.local/lib/python3.8/site-packages/tifffile/tifffile.py:2876: UserWarning:\n",
      "\n",
      "<tifffile.TiffWriter '4D_GFP_GFP_220209_raw.tif'> truncating ImageJ file\n",
      "\n"
     ]
    },
    {
     "name": "stdout",
     "output_type": "stream",
     "text": [
      "files_to_4D runtime 100.8123397231102\n"
     ]
    },
    {
     "ename": "NameError",
     "evalue": "name 'method' is not defined",
     "output_type": "error",
     "traceback": [
      "\u001b[0;31m---------------------------------------------------------------------------\u001b[0m",
      "\u001b[0;31mNameError\u001b[0m                                 Traceback (most recent call last)",
      "Input \u001b[0;32mIn [4]\u001b[0m, in \u001b[0;36m<module>\u001b[0;34m\u001b[0m\n\u001b[1;32m      2\u001b[0m image_4D \u001b[38;5;241m=\u001b[39m datautils\u001b[38;5;241m.\u001b[39mread_files(path_to_data, group_by ,\u001b[38;5;28mcompile\u001b[39m\u001b[38;5;241m=\u001b[39m\u001b[38;5;28mcompile\u001b[39m, ch_names\u001b[38;5;241m=\u001b[39mch_names,\n\u001b[1;32m      3\u001b[0m                                 order\u001b[38;5;241m=\u001b[39m\u001b[38;5;28;01mFalse\u001b[39;00m, save\u001b[38;5;241m=\u001b[39m\u001b[38;5;28;01mTrue\u001b[39;00m, save_path\u001b[38;5;241m=\u001b[39msave_path, save_file\u001b[38;5;241m=\u001b[39mgroup_by\u001b[38;5;241m+\u001b[39m\u001b[38;5;124m'\u001b[39m\u001b[38;5;124m_raw\u001b[39m\u001b[38;5;124m'\u001b[39m, \n\u001b[1;32m      4\u001b[0m                                 xy_pixel\u001b[38;5;241m=\u001b[39m\u001b[38;5;241m0.076\u001b[39m, z_pixel\u001b[38;5;241m=\u001b[39m\u001b[38;5;241m0.4\u001b[39m, \u001b[38;5;28mfilter\u001b[39m\u001b[38;5;241m=\u001b[39m\u001b[38;5;28;01mFalse\u001b[39;00m)\n\u001b[1;32m      6\u001b[0m \u001b[38;5;66;03m# measuring the cosine_similarity check of GFP channel after registration\u001b[39;00m\n\u001b[1;32m      7\u001b[0m post_checks \u001b[38;5;241m=\u001b[39m datautils\u001b[38;5;241m.\u001b[39msimilarity_4D(image_4D[ch_names[\u001b[38;5;241m0\u001b[39m]], save\u001b[38;5;241m=\u001b[39m\u001b[38;5;28;01mTrue\u001b[39;00m, \n\u001b[1;32m      8\u001b[0m                                         save_path\u001b[38;5;241m=\u001b[39msave_path, \n\u001b[0;32m----> 9\u001b[0m                                         save_file\u001b[38;5;241m=\u001b[39m\u001b[43mmethod\u001b[49m\u001b[38;5;241m+\u001b[39m\u001b[38;5;124m'\u001b[39m\u001b[38;5;124m_checks.csv\u001b[39m\u001b[38;5;124m'\u001b[39m)\n\u001b[1;32m     11\u001b[0m \u001b[38;5;28;01mdel\u001b[39;00m image_4D\n",
      "\u001b[0;31mNameError\u001b[0m: name 'method' is not defined"
     ]
    }
   ],
   "source": [
    "# reading list of 3D images into dictionary of channels as indicated in ch_names, and applying median filter on the last ch\n",
    "image_4D = datautils.read_files(path_to_data, group_by ,compile=compile, ch_names=ch_names,\n",
    "                                order=False, save=True, save_path=save_path, save_file=group_by+'_raw', \n",
    "                                xy_pixel=0.076, z_pixel=0.4, filter=False)\n",
    "\n",
    "# measuring the cosine_similarity check of GFP channel after registration\n",
    "post_checks = datautils.similarity_4D(image_4D[ch_names[0]], save=True, \n",
    "                                        save_path=save_path, \n",
    "                                        save_file=method+'_checks.csv')\n",
    "\n",
    "del image_4D"
   ]
  },
  {
   "cell_type": "code",
   "execution_count": 5,
   "metadata": {},
   "outputs": [
    {
     "name": "stderr",
     "output_type": "stream",
     "text": [
      "cosine_sim for timepoint: 100%|██████████| 87/87 [01:47<00:00,  1.23s/it]\n"
     ]
    }
   ],
   "source": [
    "# measuring the cosine_similarity check of GFP channel after registration\n",
    "post_checks = datautils.similarity_4D(image_4D[ch_names[0]], save=True, \n",
    "                                        save_path=save_path, \n",
    "                                        save_file='SyNRA_checks.csv')"
   ]
  },
  {
   "cell_type": "code",
   "execution_count": 6,
   "metadata": {},
   "outputs": [
    {
     "name": "stdout",
     "output_type": "stream",
     "text": [
      "first 5 files\n",
      "['/home/tli_project/Desktop/Data/T4/stage1/220209_analysis/red_220209_brain2.2_LP40_P36001.tif', '/home/tli_project/Desktop/Data/T4/stage1/220209_analysis/red_220209_brain2.2_LP40_P36002.tif', '/home/tli_project/Desktop/Data/T4/stage1/220209_analysis/red_220209_brain2.2_LP40_P36003.tif', '/home/tli_project/Desktop/Data/T4/stage1/220209_analysis/red_220209_brain2.2_LP40_P36004.tif', '/home/tli_project/Desktop/Data/T4/stage1/220209_analysis/red_220209_brain2.2_LP40_P36005.tif']\n"
     ]
    },
    {
     "name": "stderr",
     "output_type": "stream",
     "text": [
      "compiling_files: 100%|██████████| 88/88 [00:40<00:00,  2.15it/s]\n"
     ]
    },
    {
     "name": "stdout",
     "output_type": "stream",
     "text": [
      "dict_keys(['Red']) <class 'list'> 88\n",
      "compiling the Red channel\n"
     ]
    },
    {
     "name": "stderr",
     "output_type": "stream",
     "text": [
      "/home/tli_project/.local/lib/python3.8/site-packages/tifffile/tifffile.py:2876: UserWarning:\n",
      "\n",
      "<tifffile.TiffWriter '4D_Red_red_220209_raw.tif'> truncating ImageJ file\n",
      "\n"
     ]
    },
    {
     "name": "stdout",
     "output_type": "stream",
     "text": [
      "files_to_4D runtime 92.5369206322357\n"
     ]
    }
   ],
   "source": [
    "save_path = '/home/tli_project/Desktop/Data/T4/stage1/220209_analysis'\n",
    "path_to_data = save_path\n",
    "group_by = 'red_220209'\n",
    "ch_names = ['Red']\n",
    "save_name = group_by\n",
    "compile = True\n",
    "\n",
    "# reading list of 3D images into dictionary of channels as indicated in ch_names, and applying median filter on the last ch\n",
    "image_4D = datautils.read_files(path_to_data, group_by ,compile=compile, ch_names=ch_names,\n",
    "                                order=False, save=True, save_path=save_path, save_file=group_by+'_raw', \n",
    "                                xy_pixel=0.076, z_pixel=0.4, filter=False)\n",
    "\n",
    "del image_4D"
   ]
  },
  {
   "cell_type": "code",
   "execution_count": null,
   "metadata": {},
   "outputs": [],
   "source": []
  }
 ],
 "metadata": {
  "interpreter": {
   "hash": "f3f6acc8ab4cd1097e4d91bbffd405bcf59aaff2754a866d7c8cf61e0274c3d7"
  },
  "kernelspec": {
   "display_name": "Python 3.8.12 64-bit ('preprocessing': conda)",
   "language": "python",
   "name": "python3"
  },
  "language_info": {
   "codemirror_mode": {
    "name": "ipython",
    "version": 3
   },
   "file_extension": ".py",
   "mimetype": "text/x-python",
   "name": "python",
   "nbconvert_exporter": "python",
   "pygments_lexer": "ipython3",
   "version": "3.8.12"
  },
  "orig_nbformat": 4
 },
 "nbformat": 4,
 "nbformat_minor": 2
}
