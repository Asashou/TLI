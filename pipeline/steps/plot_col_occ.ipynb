{
 "cells": [
  {
   "cell_type": "code",
   "execution_count": 1,
   "metadata": {},
   "outputs": [],
   "source": [
    "import matplotlib.pyplot as plt\n",
    "import matplotlib.cm as cm\n",
    "from matplotlib.patches import RegularPolygon\n",
    "import matplotlib as mpl\n",
    "import numpy as np\n",
    "import seaborn as sns\n",
    "import pandas as pd"
   ]
  },
  {
   "cell_type": "code",
   "execution_count": 2,
   "metadata": {},
   "outputs": [],
   "source": [
    "data_path = '/Users/aichah/Desktop/TLI/data/tli_cols/sA/st_3Dpx_211121_P36.5_N2_sA.csv'\n",
    "save_path = '/Users/aichah/Desktop/TLI/data/tli_cols/'\n",
    "save_name = '211113_P36_N2_sA_T37.png'\n",
    "plot_age = 37\n",
    "\n",
    "if save_path[-1] != '/':\n",
    "    save_path += '/'"
   ]
  },
  {
   "cell_type": "code",
   "execution_count": 3,
   "metadata": {},
   "outputs": [],
   "source": [
    "temp_df = pd.read_csv(data_path, sep=';', index_col=0)\n",
    "subset = temp_df[temp_df.timepoints ==plot_age]\n",
    "del subset['timepoints']\n",
    "data = {col:float(subset[col]) for col in subset}\n",
    "data = {col:val for col,val in data.items() if val!=0}"
   ]
  },
  {
   "cell_type": "code",
   "execution_count": 4,
   "metadata": {},
   "outputs": [
    {
     "data": {
      "text/plain": [
       "{'0,0': 0.8977303322001083,\n",
       " '0,1': 1.0,\n",
       " '-1,0': 0.009051549816237462,\n",
       " '-1,-1': 0.0,\n",
       " '0,-1': 0.05770457939003676,\n",
       " '1,0': 0.2999327211433206,\n",
       " '1,1': 0.41579589201596245,\n",
       " '-1,1': 0.27434132912445175,\n",
       " '1,-1': 0.03614738765361718,\n",
       " '0,2': 0.066306142495188}"
      ]
     },
     "execution_count": 4,
     "metadata": {},
     "output_type": "execute_result"
    }
   ],
   "source": [
    "#give the columns occupancy values, save_path and save_name for the plot\n",
    "col_value = {'0,0': 0.0,\n",
    "        '0,1': 0.0,\n",
    "        '-1,0': 0,\n",
    "        '-1,-1': 0,\n",
    "        '0,-1': 0.0,\n",
    "        '1,0': 0.0,\n",
    "        '1,1': 0.0}\n",
    "for col,val in data.items():\n",
    "        col_value[col] = val\n",
    "try:\n",
    "        for i in [1]:\n",
    "                max = max(col_value.values())\n",
    "                col_value = {col:val/max for col,val in col_value.items()}\n",
    "except:\n",
    "        pass\n",
    "# del col_value['1,2']\n",
    "col_value"
   ]
  },
  {
   "cell_type": "code",
   "execution_count": 5,
   "metadata": {},
   "outputs": [],
   "source": [
    "#These are values not to be changed\n",
    "r_ = [2,3] # give two numbers for definning the radius\n",
    "\n",
    "col_coor = {'0,0': [0,0],\n",
    "            '0,1': [0,2],\n",
    "            '-1,0': [-1,1],\n",
    "            '-1,-1': [-1,-1],\n",
    "            '0,-1': [0,-2],\n",
    "            '1,1': [1,1],\n",
    "            '1,0': [1,-1], #until here is the inner ring\n",
    "            '0,2': [0,4],\n",
    "            '0,-2': [0,-4],\n",
    "            '1,2': [1,3],\n",
    "            '1,-1': [1,-3],\n",
    "            '2,0': [2,-2]}\n",
    "\n",
    "data = {'col' : col_coor.keys(),'coor' : col_coor.values()}\n",
    "col_coor = pd.DataFrame(data=data)"
   ]
  },
  {
   "cell_type": "code",
   "execution_count": 6,
   "metadata": {},
   "outputs": [],
   "source": [
    "## define the boundaries for the colormap (values and colors)\n",
    "# color_bound = {0:'blue', 0.5:'yellow', 1:'red'}\n",
    "# cmap = colors.ListedColormap(color_bound.values())\n",
    "# norm = colors.BoundaryNorm(list(color_bound.keys()), cmap.N)\n",
    "\n",
    "vmin, vmax= 0, 1\n",
    "norm = mpl.colors.Normalize(vmin=vmin, vmax=vmax)\n",
    "p = plt.get_cmap('hot_r')"
   ]
  },
  {
   "cell_type": "code",
   "execution_count": 7,
   "metadata": {},
   "outputs": [
    {
     "data": {
      "image/png": "[encoded data removed]",
      "text/plain": [
       "<Figure size 432x288 with 2 Axes>"
      ]
     },
     "metadata": {
      "needs_background": "light"
     },
     "output_type": "display_data"
    }
   ],
   "source": [
    "# plotting the column occupancy numbers\n",
    "# you might  want to change some styling parameters\n",
    "# the last line is for saving the plot\n",
    "fig, ax = plt.subplots(1)\n",
    "ax.set_aspect('equal')\n",
    "\n",
    "for index, row in col_coor.iterrows():\n",
    "        coor = row[1]\n",
    "        X = coor[0]\n",
    "        Y = r_[0] * np.sin(np.radians(60)) * (coor[1]) /r_[1]\n",
    "        hexagon = RegularPolygon((X,Y), orientation = np.radians(30), \n",
    "                                numVertices=6, radius=r_[0]/r_[1], \n",
    "                                facecolor='k',\n",
    "                                alpha=0.1, \n",
    "                                linewidth=2,\n",
    "                                edgecolor='k')\n",
    "        try:\n",
    "                color = p(col_value[row[0]])\n",
    "        except:\n",
    "                color = p(0)\n",
    "        circle = plt.Circle((X,Y), np.sqrt(1/10), \n",
    "                                facecolor=color, alpha=1, edgecolor=\"k\", linewidth=0.5)\n",
    "                                # linewidth=3, edgecolor='k')\n",
    "        if row[0] in col_value.keys():\n",
    "                ax.add_patch(hexagon)\n",
    "                ax.add_patch(circle)\n",
    "                ax.text(X, Y + 0.45, row[0], ha ='center',\n",
    "                        va ='center', size = 12, color='blue') #adding col_name\n",
    "                val_str = '%.2f' % col_value[row[0]]\n",
    "                ax.text(X, Y - 0.45, val_str, ha ='center',\n",
    "                        va ='center', size = 12, color='k')\n",
    "plt.autoscale(enable = True)\n",
    "sns.despine(left=True, bottom=True)\n",
    "plt.tick_params(# axis='x', # changes apply to the x-axis\n",
    "                which='both', # both major and minor ticks are affected\n",
    "                bottom=False, # ticks along the bottom edge are off\n",
    "                left=False,\n",
    "                labelbottom=False,\n",
    "                labelleft=False) # labels along the bottom edge are off\n",
    "fig.colorbar(cm.ScalarMappable(norm=norm, cmap=p), ax=ax)\n",
    "# plt.plot([0,0], [0,4])\n",
    "# plt.plot([0,3.5], [0,-2])\n",
    "plt.plot([0,0],[0,2.5],c='w',alpha=0)\n",
    "plt.plot([0,2.5],[0,0],c='w',alpha=0)\n",
    "### saving the plot\n",
    "plt.savefig(save_path+save_name, bbox_inches='tight')"
   ]
  },
  {
   "cell_type": "code",
   "execution_count": null,
   "metadata": {},
   "outputs": [],
   "source": []
  },
  {
   "cell_type": "code",
   "execution_count": null,
   "metadata": {},
   "outputs": [],
   "source": []
  }
 ],
 "metadata": {
  "kernelspec": {
   "display_name": "Python 3.9.6 ('growth')",
   "language": "python",
   "name": "python3"
  },
  "language_info": {
   "codemirror_mode": {
    "name": "ipython",
    "version": 3
   },
   "file_extension": ".py",
   "mimetype": "text/x-python",
   "name": "python",
   "nbconvert_exporter": "python",
   "pygments_lexer": "ipython3",
   "version": "3.9.6"
  },
  "orig_nbformat": 4,
  "vscode": {
   "interpreter": {
    "hash": "3558778624732e82e76d08d0e1529767d5d68faabf4350c6a5545e8ecf2497ca"
   }
  }
 },
 "nbformat": 4,
 "nbformat_minor": 2
}
