{
 "cells": [
  {
   "cell_type": "code",
   "execution_count": 1,
   "metadata": {},
   "outputs": [
    {
     "name": "stderr",
     "output_type": "stream",
     "text": [
      "/home/tli_project/.local/lib/python3.8/site-packages/statsmodels/compat/pandas.py:65: FutureWarning: pandas.Int64Index is deprecated and will be removed from pandas in a future version. Use pandas.Index with the appropriate dtype instead.\n",
      "  from pandas import Int64Index as NumericIndex\n"
     ]
    }
   ],
   "source": [
    "import os\n",
    "from timeit import default_timer as timer\n",
    "import utils.datautils as datautils\n",
    "import utils.registration as registration"
   ]
  },
  {
   "cell_type": "code",
   "execution_count": 2,
   "metadata": {},
   "outputs": [],
   "source": [
    "method = 'SyNRA'\n",
    "save_path = '/home/tli_project/Desktop/Data/T4/stage1/211015/211015_analysis/'\n",
    "path_to_data = '/home/tli_project/Desktop/Data/T4/stage1/211015/211015'\n",
    "group_by = '211015_brain1.2_LP40_P36'\n",
    "ch_names = ['GFP', 'red']\n",
    "save_name = group_by\n",
    "compile = True\n",
    "metric = 'mattes'\n",
    "\n",
    "if save_path[-1] != '/':\n",
    "    save_path += '/'"
   ]
  },
  {
   "cell_type": "code",
   "execution_count": 3,
   "metadata": {},
   "outputs": [
    {
     "name": "stdout",
     "output_type": "stream",
     "text": [
      "first 5 files\n",
      "['/home/tli_project/Desktop/Data/T4/stage1/211015/211015/211015_brain1.2_LP40_P36_00001.tif', '/home/tli_project/Desktop/Data/T4/stage1/211015/211015/211015_brain1.2_LP40_P36_00002.tif', '/home/tli_project/Desktop/Data/T4/stage1/211015/211015/211015_brain1.2_LP40_P36_00003.tif', '/home/tli_project/Desktop/Data/T4/stage1/211015/211015/211015_brain1.2_LP40_P36_00004.tif', '/home/tli_project/Desktop/Data/T4/stage1/211015/211015/211015_brain1.2_LP40_P36_00005.tif']\n"
     ]
    },
    {
     "name": "stderr",
     "output_type": "stream",
     "text": [
      "compiling_files:   0%|          | 0/91 [00:00<?, ?it/s]<tifffile.TiffFile '211015_brain1.2_…0_P36_00001.tif'> asarray failed to reshape (172, 1024, 1024) to (8, 10, 2, 1024, 1024)\n",
      "compiling_files:   1%|          | 1/91 [00:26<40:03, 26.70s/it]<tifffile.TiffFile '211015_brain1.2_…0_P36_00002.tif'> asarray failed to reshape (172, 1024, 1024) to (8, 10, 2, 1024, 1024)\n",
      "compiling_files:   2%|▏         | 2/91 [00:53<39:34, 26.68s/it]<tifffile.TiffFile '211015_brain1.2_…0_P36_00003.tif'> asarray failed to reshape (172, 1024, 1024) to (8, 10, 2, 1024, 1024)\n",
      "compiling_files:   3%|▎         | 3/91 [01:20<39:15, 26.77s/it]<tifffile.TiffFile '211015_brain1.2_…0_P36_00004.tif'> asarray failed to reshape (172, 1024, 1024) to (8, 10, 2, 1024, 1024)\n",
      "compiling_files:   4%|▍         | 4/91 [01:47<38:54, 26.83s/it]<tifffile.TiffFile '211015_brain1.2_…0_P36_00005.tif'> asarray failed to reshape (172, 1024, 1024) to (8, 10, 2, 1024, 1024)\n",
      "compiling_files:   5%|▌         | 5/91 [02:13<38:24, 26.79s/it]<tifffile.TiffFile '211015_brain1.2_…0_P36_00006.tif'> asarray failed to reshape (172, 1024, 1024) to (8, 10, 2, 1024, 1024)\n",
      "compiling_files:   7%|▋         | 6/91 [02:40<37:56, 26.78s/it]<tifffile.TiffFile '211015_brain1.2_…0_P36_00007.tif'> asarray failed to reshape (172, 1024, 1024) to (8, 10, 2, 1024, 1024)\n",
      "compiling_files:   8%|▊         | 7/91 [03:07<37:27, 26.75s/it]<tifffile.TiffFile '211015_brain1.2_…0_P36_00008.tif'> asarray failed to reshape (172, 1024, 1024) to (8, 10, 2, 1024, 1024)\n",
      "compiling_files:   9%|▉         | 8/91 [03:34<37:02, 26.78s/it]<tifffile.TiffFile '211015_brain1.2_…0_P36_00009.tif'> asarray failed to reshape (172, 1024, 1024) to (8, 10, 2, 1024, 1024)\n",
      "compiling_files:  10%|▉         | 9/91 [04:00<36:32, 26.74s/it]<tifffile.TiffFile '211015_brain1.2_…0_P36_00010.tif'> asarray failed to reshape (172, 1024, 1024) to (8, 10, 2, 1024, 1024)\n",
      "compiling_files:  11%|█         | 10/91 [04:28<36:29, 27.03s/it]<tifffile.TiffFile '211015_brain1.2_…0_P36_00011.tif'> asarray failed to reshape (172, 1024, 1024) to (8, 10, 2, 1024, 1024)\n",
      "compiling_files:  12%|█▏        | 11/91 [04:56<36:15, 27.19s/it]<tifffile.TiffFile '211015_brain1.2_…0_P36_00012.tif'> asarray failed to reshape (172, 1024, 1024) to (8, 10, 2, 1024, 1024)\n",
      "compiling_files:  13%|█▎        | 12/91 [05:23<35:53, 27.25s/it]<tifffile.TiffFile '211015_brain1.2_…0_P36_00013.tif'> asarray failed to reshape (172, 1024, 1024) to (8, 10, 2, 1024, 1024)\n",
      "compiling_files:  14%|█▍        | 13/91 [05:51<35:50, 27.57s/it]<tifffile.TiffFile '211015_brain1.2_…0_P36_00014.tif'> asarray failed to reshape (172, 1024, 1024) to (8, 10, 2, 1024, 1024)\n",
      "compiling_files:  15%|█▌        | 14/91 [06:20<35:48, 27.90s/it]<tifffile.TiffFile '211015_brain1.2_…0_P36_00015.tif'> asarray failed to reshape (172, 1024, 1024) to (8, 10, 2, 1024, 1024)\n",
      "compiling_files:  16%|█▋        | 15/91 [06:49<35:44, 28.22s/it]<tifffile.TiffFile '211015_brain1.2_…0_P36_00016.tif'> asarray failed to reshape (172, 1024, 1024) to (8, 10, 2, 1024, 1024)\n",
      "compiling_files:  18%|█▊        | 16/91 [07:17<35:23, 28.32s/it]<tifffile.TiffFile '211015_brain1.2_…0_P36_00017.tif'> asarray failed to reshape (172, 1024, 1024) to (8, 10, 2, 1024, 1024)\n",
      "compiling_files:  19%|█▊        | 17/91 [07:47<35:13, 28.57s/it]<tifffile.TiffFile '211015_brain1.2_…0_P36_00018.tif'> asarray failed to reshape (172, 1024, 1024) to (8, 10, 2, 1024, 1024)\n",
      "compiling_files:  20%|█▉        | 18/91 [08:16<34:56, 28.72s/it]<tifffile.TiffFile '211015_brain1.2_…0_P36_00019.tif'> asarray failed to reshape (172, 1024, 1024) to (8, 10, 2, 1024, 1024)\n",
      "compiling_files:  21%|██        | 19/91 [08:44<34:28, 28.73s/it]<tifffile.TiffFile '211015_brain1.2_…0_P36_00020.tif'> asarray failed to reshape (172, 1024, 1024) to (8, 10, 2, 1024, 1024)\n",
      "compiling_files:  22%|██▏       | 20/91 [09:13<33:56, 28.69s/it]<tifffile.TiffFile '211015_brain1.2_…0_P36_00021.tif'> asarray failed to reshape (172, 1024, 1024) to (8, 10, 2, 1024, 1024)\n",
      "compiling_files:  23%|██▎       | 21/91 [09:42<33:28, 28.69s/it]<tifffile.TiffFile '211015_brain1.2_…0_P36_00022.tif'> asarray failed to reshape (172, 1024, 1024) to (8, 10, 2, 1024, 1024)\n",
      "compiling_files:  24%|██▍       | 22/91 [10:11<33:14, 28.90s/it]<tifffile.TiffFile '211015_brain1.2_…0_P36_00023.tif'> asarray failed to reshape (172, 1024, 1024) to (8, 10, 2, 1024, 1024)\n",
      "compiling_files:  25%|██▌       | 23/91 [10:41<32:56, 29.07s/it]<tifffile.TiffFile '211015_brain1.2_…0_P36_00024.tif'> asarray failed to reshape (172, 1024, 1024) to (8, 10, 2, 1024, 1024)\n",
      "compiling_files:  26%|██▋       | 24/91 [11:10<32:27, 29.06s/it]<tifffile.TiffFile '211015_brain1.2_…0_P36_00025.tif'> asarray failed to reshape (172, 1024, 1024) to (8, 10, 2, 1024, 1024)\n",
      "compiling_files:  27%|██▋       | 25/91 [11:38<31:44, 28.86s/it]<tifffile.TiffFile '211015_brain1.2_…0_P36_00026.tif'> asarray failed to reshape (172, 1024, 1024) to (8, 10, 2, 1024, 1024)\n",
      "compiling_files:  29%|██▊       | 26/91 [12:07<31:13, 28.83s/it]<tifffile.TiffFile '211015_brain1.2_…0_P36_00027.tif'> asarray failed to reshape (172, 1024, 1024) to (8, 10, 2, 1024, 1024)\n",
      "compiling_files:  30%|██▉       | 27/91 [12:35<30:34, 28.67s/it]<tifffile.TiffFile '211015_brain1.2_…0_P36_00028.tif'> asarray failed to reshape (172, 1024, 1024) to (8, 10, 2, 1024, 1024)\n",
      "compiling_files:  31%|███       | 28/91 [13:03<29:58, 28.55s/it]<tifffile.TiffFile '211015_brain1.2_…0_P36_00029.tif'> asarray failed to reshape (172, 1024, 1024) to (8, 10, 2, 1024, 1024)\n",
      "compiling_files:  32%|███▏      | 29/91 [13:32<29:30, 28.55s/it]<tifffile.TiffFile '211015_brain1.2_…0_P36_00030.tif'> asarray failed to reshape (172, 1024, 1024) to (8, 10, 2, 1024, 1024)\n",
      "compiling_files:  33%|███▎      | 30/91 [14:00<29:01, 28.55s/it]<tifffile.TiffFile '211015_brain1.2_…0_P36_00031.tif'> asarray failed to reshape (172, 1024, 1024) to (8, 10, 2, 1024, 1024)\n",
      "compiling_files:  34%|███▍      | 31/91 [14:29<28:34, 28.57s/it]<tifffile.TiffFile '211015_brain1.2_…0_P36_00032.tif'> asarray failed to reshape (172, 1024, 1024) to (8, 10, 2, 1024, 1024)\n",
      "compiling_files:  35%|███▌      | 32/91 [14:58<28:06, 28.58s/it]<tifffile.TiffFile '211015_brain1.2_…0_P36_00033.tif'> asarray failed to reshape (172, 1024, 1024) to (8, 10, 2, 1024, 1024)\n",
      "compiling_files:  36%|███▋      | 33/91 [15:26<27:35, 28.54s/it]<tifffile.TiffFile '211015_brain1.2_…0_P36_00034.tif'> asarray failed to reshape (172, 1024, 1024) to (8, 10, 2, 1024, 1024)\n",
      "compiling_files:  37%|███▋      | 34/91 [15:55<27:06, 28.53s/it]<tifffile.TiffFile '211015_brain1.2_…0_P36_00035.tif'> asarray failed to reshape (172, 1024, 1024) to (8, 10, 2, 1024, 1024)\n",
      "compiling_files:  38%|███▊      | 35/91 [16:23<26:37, 28.52s/it]<tifffile.TiffFile '211015_brain1.2_…0_P36_00036.tif'> asarray failed to reshape (172, 1024, 1024) to (8, 10, 2, 1024, 1024)\n",
      "compiling_files:  40%|███▉      | 36/91 [16:52<26:16, 28.66s/it]<tifffile.TiffFile '211015_brain1.2_…0_P36_00037.tif'> asarray failed to reshape (172, 1024, 1024) to (8, 10, 2, 1024, 1024)\n",
      "compiling_files:  41%|████      | 37/91 [17:21<25:45, 28.62s/it]<tifffile.TiffFile '211015_brain1.2_…0_P36_00038.tif'> asarray failed to reshape (172, 1024, 1024) to (8, 10, 2, 1024, 1024)\n",
      "compiling_files:  42%|████▏     | 38/91 [17:49<25:15, 28.60s/it]<tifffile.TiffFile '211015_brain1.2_…0_P36_00039.tif'> asarray failed to reshape (172, 1024, 1024) to (8, 10, 2, 1024, 1024)\n",
      "compiling_files:  43%|████▎     | 39/91 [18:18<24:49, 28.65s/it]<tifffile.TiffFile '211015_brain1.2_…0_P36_00040.tif'> asarray failed to reshape (172, 1024, 1024) to (8, 10, 2, 1024, 1024)\n",
      "compiling_files:  44%|████▍     | 40/91 [18:47<24:20, 28.63s/it]<tifffile.TiffFile '211015_brain1.2_…0_P36_00041.tif'> asarray failed to reshape (172, 1024, 1024) to (8, 10, 2, 1024, 1024)\n",
      "compiling_files:  45%|████▌     | 41/91 [19:15<23:55, 28.71s/it]<tifffile.TiffFile '211015_brain1.2_…0_P36_00042.tif'> asarray failed to reshape (172, 1024, 1024) to (8, 10, 2, 1024, 1024)\n",
      "compiling_files:  46%|████▌     | 42/91 [19:44<23:27, 28.73s/it]<tifffile.TiffFile '211015_brain1.2_…0_P36_00043.tif'> asarray failed to reshape (172, 1024, 1024) to (8, 10, 2, 1024, 1024)\n",
      "compiling_files:  47%|████▋     | 43/91 [20:13<22:56, 28.67s/it]<tifffile.TiffFile '211015_brain1.2_…0_P36_00044.tif'> asarray failed to reshape (172, 1024, 1024) to (8, 10, 2, 1024, 1024)\n",
      "compiling_files:  48%|████▊     | 44/91 [20:42<22:30, 28.73s/it]<tifffile.TiffFile '211015_brain1.2_…0_P36_00045.tif'> asarray failed to reshape (172, 1024, 1024) to (8, 10, 2, 1024, 1024)\n",
      "compiling_files:  49%|████▉     | 45/91 [21:10<22:03, 28.76s/it]<tifffile.TiffFile '211015_brain1.2_…0_P36_00046.tif'> asarray failed to reshape (172, 1024, 1024) to (8, 10, 2, 1024, 1024)\n",
      "compiling_files:  51%|█████     | 46/91 [21:40<21:39, 28.87s/it]<tifffile.TiffFile '211015_brain1.2_…0_P36_00047.tif'> asarray failed to reshape (172, 1024, 1024) to (8, 10, 2, 1024, 1024)\n",
      "compiling_files:  52%|█████▏    | 47/91 [22:08<21:10, 28.88s/it]<tifffile.TiffFile '211015_brain1.2_…0_P36_00048.tif'> asarray failed to reshape (172, 1024, 1024) to (8, 10, 2, 1024, 1024)\n",
      "compiling_files:  53%|█████▎    | 48/91 [22:38<20:45, 28.95s/it]<tifffile.TiffFile '211015_brain1.2_…0_P36_00049.tif'> asarray failed to reshape (172, 1024, 1024) to (8, 10, 2, 1024, 1024)\n",
      "compiling_files:  54%|█████▍    | 49/91 [23:07<20:17, 28.99s/it]<tifffile.TiffFile '211015_brain1.2_…0_P36_00050.tif'> asarray failed to reshape (172, 1024, 1024) to (8, 10, 2, 1024, 1024)\n",
      "compiling_files:  55%|█████▍    | 50/91 [23:36<19:50, 29.05s/it]<tifffile.TiffFile '211015_brain1.2_…0_P36_00051.tif'> asarray failed to reshape (172, 1024, 1024) to (8, 10, 2, 1024, 1024)\n",
      "compiling_files:  56%|█████▌    | 51/91 [24:05<19:23, 29.09s/it]<tifffile.TiffFile '211015_brain1.2_…0_P36_00052.tif'> asarray failed to reshape (172, 1024, 1024) to (8, 10, 2, 1024, 1024)\n",
      "compiling_files:  57%|█████▋    | 52/91 [24:34<18:55, 29.12s/it]<tifffile.TiffFile '211015_brain1.2_…0_P36_00053.tif'> asarray failed to reshape (172, 1024, 1024) to (8, 10, 2, 1024, 1024)\n",
      "compiling_files:  58%|█████▊    | 53/91 [25:03<18:19, 28.94s/it]<tifffile.TiffFile '211015_brain1.2_…0_P36_00054.tif'> asarray failed to reshape (172, 1024, 1024) to (8, 10, 2, 1024, 1024)\n",
      "compiling_files:  59%|█████▉    | 54/91 [25:32<17:50, 28.93s/it]<tifffile.TiffFile '211015_brain1.2_…0_P36_00055.tif'> asarray failed to reshape (172, 1024, 1024) to (8, 10, 2, 1024, 1024)\n",
      "compiling_files:  60%|██████    | 55/91 [26:01<17:21, 28.92s/it]<tifffile.TiffFile '211015_brain1.2_…0_P36_00056.tif'> asarray failed to reshape (172, 1024, 1024) to (8, 10, 2, 1024, 1024)\n",
      "compiling_files:  62%|██████▏   | 56/91 [26:29<16:50, 28.86s/it]<tifffile.TiffFile '211015_brain1.2_…0_P36_00057.tif'> asarray failed to reshape (172, 1024, 1024) to (8, 10, 2, 1024, 1024)\n",
      "compiling_files:  63%|██████▎   | 57/91 [26:58<16:16, 28.73s/it]<tifffile.TiffFile '211015_brain1.2_…0_P36_00058.tif'> asarray failed to reshape (172, 1024, 1024) to (8, 10, 2, 1024, 1024)\n",
      "compiling_files:  64%|██████▎   | 58/91 [27:26<15:46, 28.69s/it]<tifffile.TiffFile '211015_brain1.2_…0_P36_00059.tif'> asarray failed to reshape (172, 1024, 1024) to (8, 10, 2, 1024, 1024)\n",
      "compiling_files:  65%|██████▍   | 59/91 [27:55<15:20, 28.78s/it]<tifffile.TiffFile '211015_brain1.2_…0_P36_00060.tif'> asarray failed to reshape (172, 1024, 1024) to (8, 10, 2, 1024, 1024)\n",
      "compiling_files:  66%|██████▌   | 60/91 [28:24<14:55, 28.90s/it]<tifffile.TiffFile '211015_brain1.2_…0_P36_00061.tif'> asarray failed to reshape (172, 1024, 1024) to (8, 10, 2, 1024, 1024)\n",
      "compiling_files:  67%|██████▋   | 61/91 [28:54<14:28, 28.96s/it]<tifffile.TiffFile '211015_brain1.2_…0_P36_00062.tif'> asarray failed to reshape (172, 1024, 1024) to (8, 10, 2, 1024, 1024)\n",
      "compiling_files:  68%|██████▊   | 62/91 [29:23<14:01, 29.00s/it]<tifffile.TiffFile '211015_brain1.2_…0_P36_00063.tif'> asarray failed to reshape (172, 1024, 1024) to (8, 10, 2, 1024, 1024)\n",
      "compiling_files:  69%|██████▉   | 63/91 [29:49<13:13, 28.33s/it]<tifffile.TiffFile '211015_brain1.2_…0_P36_00064.tif'> asarray failed to reshape (172, 1024, 1024) to (8, 10, 2, 1024, 1024)\n",
      "compiling_files:  70%|███████   | 64/91 [30:16<12:32, 27.88s/it]<tifffile.TiffFile '211015_brain1.2_…0_P36_00065.tif'> asarray failed to reshape (172, 1024, 1024) to (8, 10, 2, 1024, 1024)\n",
      "compiling_files:  71%|███████▏  | 65/91 [30:43<11:56, 27.57s/it]<tifffile.TiffFile '211015_brain1.2_…0_P36_00066.tif'> asarray failed to reshape (172, 1024, 1024) to (8, 10, 2, 1024, 1024)\n",
      "compiling_files:  73%|███████▎  | 66/91 [31:10<11:22, 27.29s/it]<tifffile.TiffFile '211015_brain1.2_…0_P36_00067.tif'> asarray failed to reshape (172, 1024, 1024) to (8, 10, 2, 1024, 1024)\n",
      "compiling_files:  74%|███████▎  | 67/91 [31:36<10:47, 26.98s/it]<tifffile.TiffFile '211015_brain1.2_…0_P36_00068.tif'> asarray failed to reshape (172, 1024, 1024) to (8, 10, 2, 1024, 1024)\n",
      "compiling_files:  75%|███████▍  | 68/91 [32:03<10:18, 26.87s/it]<tifffile.TiffFile '211015_brain1.2_…0_P36_00069.tif'> asarray failed to reshape (172, 1024, 1024) to (8, 10, 2, 1024, 1024)\n",
      "compiling_files:  76%|███████▌  | 69/91 [32:29<09:46, 26.67s/it]<tifffile.TiffFile '211015_brain1.2_…0_P36_00070.tif'> asarray failed to reshape (172, 1024, 1024) to (8, 10, 2, 1024, 1024)\n",
      "compiling_files:  77%|███████▋  | 70/91 [32:55<09:18, 26.60s/it]<tifffile.TiffFile '211015_brain1.2_…0_P36_00071.tif'> asarray failed to reshape (172, 1024, 1024) to (8, 10, 2, 1024, 1024)\n",
      "compiling_files:  78%|███████▊  | 71/91 [33:21<08:49, 26.48s/it]<tifffile.TiffFile '211015_brain1.2_…0_P36_00072.tif'> asarray failed to reshape (172, 1024, 1024) to (8, 10, 2, 1024, 1024)\n",
      "compiling_files:  79%|███████▉  | 72/91 [33:48<08:23, 26.52s/it]<tifffile.TiffFile '211015_brain1.2_…0_P36_00073.tif'> asarray failed to reshape (172, 1024, 1024) to (8, 10, 2, 1024, 1024)\n",
      "compiling_files:  80%|████████  | 73/91 [34:15<07:58, 26.59s/it]<tifffile.TiffFile '211015_brain1.2_…0_P36_00074.tif'> asarray failed to reshape (172, 1024, 1024) to (8, 10, 2, 1024, 1024)\n",
      "compiling_files:  81%|████████▏ | 74/91 [34:41<07:32, 26.61s/it]<tifffile.TiffFile '211015_brain1.2_…0_P36_00075.tif'> asarray failed to reshape (172, 1024, 1024) to (8, 10, 2, 1024, 1024)\n",
      "compiling_files:  82%|████████▏ | 75/91 [35:08<07:05, 26.58s/it]<tifffile.TiffFile '211015_brain1.2_…0_P36_00076.tif'> asarray failed to reshape (172, 1024, 1024) to (8, 10, 2, 1024, 1024)\n",
      "compiling_files:  84%|████████▎ | 76/91 [35:35<06:39, 26.65s/it]<tifffile.TiffFile '211015_brain1.2_…0_P36_00077.tif'> asarray failed to reshape (172, 1024, 1024) to (8, 10, 2, 1024, 1024)\n",
      "compiling_files:  85%|████████▍ | 77/91 [36:02<06:13, 26.68s/it]<tifffile.TiffFile '211015_brain1.2_…0_P36_00078.tif'> asarray failed to reshape (172, 1024, 1024) to (8, 10, 2, 1024, 1024)\n",
      "compiling_files:  86%|████████▌ | 78/91 [36:28<05:47, 26.71s/it]<tifffile.TiffFile '211015_brain1.2_…0_P36_00079.tif'> asarray failed to reshape (172, 1024, 1024) to (8, 10, 2, 1024, 1024)\n",
      "compiling_files:  87%|████████▋ | 79/91 [36:55<05:20, 26.71s/it]<tifffile.TiffFile '211015_brain1.2_…0_P36_00080.tif'> asarray failed to reshape (172, 1024, 1024) to (8, 10, 2, 1024, 1024)\n",
      "compiling_files:  88%|████████▊ | 80/91 [37:22<04:53, 26.73s/it]<tifffile.TiffFile '211015_brain1.2_…0_P36_00081.tif'> asarray failed to reshape (172, 1024, 1024) to (8, 10, 2, 1024, 1024)\n",
      "compiling_files:  89%|████████▉ | 81/91 [37:49<04:27, 26.72s/it]<tifffile.TiffFile '211015_brain1.2_…0_P36_00082.tif'> asarray failed to reshape (172, 1024, 1024) to (8, 10, 2, 1024, 1024)\n",
      "compiling_files:  90%|█████████ | 82/91 [38:15<04:00, 26.72s/it]<tifffile.TiffFile '211015_brain1.2_…0_P36_00083.tif'> asarray failed to reshape (172, 1024, 1024) to (8, 10, 2, 1024, 1024)\n",
      "compiling_files:  91%|█████████ | 83/91 [38:42<03:33, 26.72s/it]<tifffile.TiffFile '211015_brain1.2_…0_P36_00084.tif'> asarray failed to reshape (172, 1024, 1024) to (8, 10, 2, 1024, 1024)\n",
      "compiling_files:  92%|█████████▏| 84/91 [39:09<03:07, 26.74s/it]<tifffile.TiffFile '211015_brain1.2_…0_P36_00085.tif'> asarray failed to reshape (172, 1024, 1024) to (8, 10, 2, 1024, 1024)\n",
      "compiling_files:  93%|█████████▎| 85/91 [39:35<02:40, 26.74s/it]<tifffile.TiffFile '211015_brain1.2_…0_P36_00086.tif'> asarray failed to reshape (172, 1024, 1024) to (8, 10, 2, 1024, 1024)\n",
      "compiling_files:  95%|█████████▍| 86/91 [40:02<02:13, 26.76s/it]<tifffile.TiffFile '211015_brain1.2_…0_P36_00087.tif'> asarray failed to reshape (172, 1024, 1024) to (8, 10, 2, 1024, 1024)\n",
      "compiling_files:  96%|█████████▌| 87/91 [40:29<01:47, 26.77s/it]<tifffile.TiffFile '211015_brain1.2_…0_P36_00088.tif'> asarray failed to reshape (172, 1024, 1024) to (8, 10, 2, 1024, 1024)\n",
      "compiling_files:  97%|█████████▋| 88/91 [40:56<01:20, 26.77s/it]<tifffile.TiffFile '211015_brain1.2_…0_P36_00089.tif'> asarray failed to reshape (172, 1024, 1024) to (8, 10, 2, 1024, 1024)\n",
      "compiling_files:  98%|█████████▊| 89/91 [41:23<00:53, 26.76s/it]<tifffile.TiffFile '211015_brain1.2_…0_P36_00090.tif'> asarray failed to reshape (172, 1024, 1024) to (8, 10, 2, 1024, 1024)\n",
      "compiling_files:  99%|█████████▉| 90/91 [41:49<00:26, 26.76s/it]<tifffile.TiffFile '211015_brain1.2_…0_P36_00091.tif'> asarray failed to reshape (172, 1024, 1024) to (8, 10, 2, 1024, 1024)\n",
      "                                                                \r"
     ]
    },
    {
     "name": "stdout",
     "output_type": "stream",
     "text": [
      "dict_keys(['GFP', 'red']) <class 'list'> 91\n",
      "compiling the GFP channel\n",
      "compiling the red channel\n",
      "files_to_4D runtime 2555.5580544043332\n"
     ]
    },
    {
     "name": "stderr",
     "output_type": "stream",
     "text": [
      "                                                                         \r"
     ]
    },
    {
     "name": "stdout",
     "output_type": "stream",
     "text": [
      "first 5 files\n",
      "[]\n"
     ]
    },
    {
     "name": "stderr",
     "output_type": "stream",
     "text": [
      "                                   \r"
     ]
    },
    {
     "ename": "ValueError",
     "evalue": "min() arg is an empty sequence",
     "output_type": "error",
     "traceback": [
      "\u001b[0;31m---------------------------------------------------------------------------\u001b[0m",
      "\u001b[0;31mValueError\u001b[0m                                Traceback (most recent call last)",
      "Input \u001b[0;32mIn [3]\u001b[0m, in \u001b[0;36m<module>\u001b[0;34m\u001b[0m\n\u001b[1;32m     22\u001b[0m gfp_list \u001b[38;5;241m=\u001b[39m datautils\u001b[38;5;241m.\u001b[39mget_file_names(path\u001b[38;5;241m=\u001b[39msave_path, group_by\u001b[38;5;241m=\u001b[39mch_names[\u001b[38;5;241m0\u001b[39m]\u001b[38;5;241m+\u001b[39m\u001b[38;5;124m'\u001b[39m\u001b[38;5;124m_\u001b[39m\u001b[38;5;124m'\u001b[39m\u001b[38;5;241m+\u001b[39mmethod\u001b[38;5;241m+\u001b[39msave_name, \n\u001b[1;32m     23\u001b[0m                                     order\u001b[38;5;241m=\u001b[39m\u001b[38;5;28;01mFalse\u001b[39;00m, nested_files\u001b[38;5;241m=\u001b[39m\u001b[38;5;28;01mFalse\u001b[39;00m, criteria\u001b[38;5;241m=\u001b[39m\u001b[38;5;124m'\u001b[39m\u001b[38;5;124mtif\u001b[39m\u001b[38;5;124m'\u001b[39m)\n\u001b[1;32m     24\u001b[0m gfp_name \u001b[38;5;241m=\u001b[39m ch_names[\u001b[38;5;241m0\u001b[39m]\u001b[38;5;241m+\u001b[39m\u001b[38;5;124m'\u001b[39m\u001b[38;5;124m_\u001b[39m\u001b[38;5;124m'\u001b[39m\u001b[38;5;241m+\u001b[39mmethod\u001b[38;5;241m+\u001b[39m\u001b[38;5;124m'\u001b[39m\u001b[38;5;124m_\u001b[39m\u001b[38;5;124m'\u001b[39m\u001b[38;5;241m+\u001b[39mgroup_by\u001b[38;5;241m+\u001b[39m\u001b[38;5;124m'\u001b[39m\u001b[38;5;124m.tif\u001b[39m\u001b[38;5;124m'\u001b[39m\n\u001b[0;32m---> 25\u001b[0m gfp_4D \u001b[38;5;241m=\u001b[39m \u001b[43mdatautils\u001b[49m\u001b[38;5;241;43m.\u001b[39;49m\u001b[43mfiles_to_4D\u001b[49m\u001b[43m(\u001b[49m\u001b[43mfiles_list\u001b[49m\u001b[38;5;241;43m=\u001b[39;49m\u001b[43mgfp_list\u001b[49m\u001b[43m,\u001b[49m\u001b[43m \u001b[49m\u001b[43mch_names\u001b[49m\u001b[38;5;241;43m=\u001b[39;49m\u001b[43m[\u001b[49m\u001b[43mch_names\u001b[49m\u001b[43m[\u001b[49m\u001b[38;5;241;43m0\u001b[39;49m\u001b[43m]\u001b[49m\u001b[43m]\u001b[49m\u001b[43m,\u001b[49m\u001b[43m \u001b[49m\u001b[38;5;28;43mfilter\u001b[39;49m\u001b[38;5;241;43m=\u001b[39;49m\u001b[38;5;28;43;01mFalse\u001b[39;49;00m\u001b[43m,\u001b[49m\u001b[43m \u001b[49m\n\u001b[1;32m     26\u001b[0m \u001b[43m                                \u001b[49m\u001b[43msave\u001b[49m\u001b[38;5;241;43m=\u001b[39;49m\u001b[38;5;28;43;01mTrue\u001b[39;49;00m\u001b[43m,\u001b[49m\u001b[43m \u001b[49m\u001b[43msave_path\u001b[49m\u001b[38;5;241;43m=\u001b[39;49m\u001b[43msave_path\u001b[49m\u001b[43m,\u001b[49m\u001b[43m \u001b[49m\u001b[43msave_file\u001b[49m\u001b[38;5;241;43m=\u001b[39;49m\u001b[43mgfp_name\u001b[49m\u001b[43m,\u001b[49m\n\u001b[1;32m     27\u001b[0m \u001b[43m                                \u001b[49m\u001b[43mxy_pixel\u001b[49m\u001b[38;5;241;43m=\u001b[39;49m\u001b[38;5;241;43m0.0764616\u001b[39;49m\u001b[43m,\u001b[49m\u001b[43m \u001b[49m\u001b[43mz_pixel\u001b[49m\u001b[38;5;241;43m=\u001b[39;49m\u001b[38;5;241;43m0.4\u001b[39;49m\u001b[43m)\u001b[49m\n\u001b[1;32m     28\u001b[0m \u001b[38;5;28;01mfor\u001b[39;00m file \u001b[38;5;129;01min\u001b[39;00m gfp_list:\n\u001b[1;32m     29\u001b[0m     os\u001b[38;5;241m.\u001b[39mremove(file)\n",
      "File \u001b[0;32m~/Desktop/TLI_preprocessing/Work_folder/steps/utils/datautils.py:89\u001b[0m, in \u001b[0;36mfiles_to_4D\u001b[0;34m(files_list, ch_names, filter, save, save_path, save_file, xy_pixel, z_pixel)\u001b[0m\n\u001b[1;32m     87\u001b[0m     \u001b[38;5;28;01mfor\u001b[39;00m ch \u001b[38;5;129;01min\u001b[39;00m ch_names:\n\u001b[1;32m     88\u001b[0m         image_4D[ch]\u001b[38;5;241m.\u001b[39mappend(image[ch])\n\u001b[0;32m---> 89\u001b[0m z_dim \u001b[38;5;241m=\u001b[39m \u001b[38;5;28;43mmin\u001b[39;49m\u001b[43m(\u001b[49m\u001b[43m[\u001b[49m\u001b[38;5;28;43mlen\u001b[39;49m\u001b[43m(\u001b[49m\u001b[43mimg\u001b[49m\u001b[43m)\u001b[49m\u001b[43m \u001b[49m\u001b[38;5;28;43;01mfor\u001b[39;49;00m\u001b[43m \u001b[49m\u001b[43mimg\u001b[49m\u001b[43m \u001b[49m\u001b[38;5;129;43;01min\u001b[39;49;00m\u001b[43m \u001b[49m\u001b[43mimage_4D\u001b[49m\u001b[43m[\u001b[49m\u001b[43mch_names\u001b[49m\u001b[43m[\u001b[49m\u001b[38;5;241;43m0\u001b[39;49m\u001b[43m]\u001b[49m\u001b[43m]\u001b[49m\u001b[43m]\u001b[49m\u001b[43m)\u001b[49m\n\u001b[1;32m     90\u001b[0m \u001b[38;5;28mprint\u001b[39m(image_4D\u001b[38;5;241m.\u001b[39mkeys(), \u001b[38;5;28mtype\u001b[39m(image_4D[ch_names[\u001b[38;5;241m-\u001b[39m\u001b[38;5;241m1\u001b[39m]]), \u001b[38;5;28mlen\u001b[39m(image_4D[ch_names[\u001b[38;5;241m-\u001b[39m\u001b[38;5;241m1\u001b[39m]]))\n\u001b[1;32m     91\u001b[0m \u001b[38;5;28;01mfor\u001b[39;00m ch \u001b[38;5;129;01min\u001b[39;00m ch_names:\n",
      "\u001b[0;31mValueError\u001b[0m: min() arg is an empty sequence"
     ]
    }
   ],
   "source": [
    "start_time = timer()\n",
    "# reading list of 3D images into dictionary of channels as indicated in ch_names, and applying median filter on the last ch\n",
    "image_4D = datautils.read_files(path_to_data, group_by ,compile=compile, ch_names=ch_names,\n",
    "                                order=False, save=False, save_path=save_path, save_file=group_by, \n",
    "                                xy_pixel=0.076, z_pixel=0.4)\n",
    "\n",
    "pre_checks = datautils.similarity_4D(image_4D[ch_names[0]], save=True, save_path=save_path, save_file='pre_checks.csv')\n",
    "\n",
    "# running antspy, saving output into temp 3D files, and then compiling them to 4D and finally deleting the temp 3D files\n",
    "# name_shifts = method+csv_name\n",
    "registration.antspy_drift_corr(img_4D_g=image_4D[ch_names[0]],\n",
    "                                img_4D_r=image_4D[ch_names[1]], \n",
    "                                ch_names=ch_names,\n",
    "                                save_path=save_path, \n",
    "                                save_name=save_name,\n",
    "                                ref_t = int(len(image_4D[ch_names[0]])/2),\n",
    "                                drift_corr=method, metric=metric)\n",
    "\n",
    "del image_4D\n",
    "\n",
    "# compiling the registered 3D images into 4D and deleting the temp files for both channels \n",
    "gfp_name = ch_names[0]+'_'+method+'_'+group_by\n",
    "gfp_list = datautils.get_file_names(path=save_path, group_by=gfp_name, \n",
    "                                    order=False, nested_files=False, criteria='tif')\n",
    "gfp_4D = datautils.files_to_4D(files_list=gfp_list, ch_names=[ch_names[0]], filter=False, \n",
    "                                save=True, save_path=save_path, save_file=gfp_name,\n",
    "                                xy_pixel=0.0764616, z_pixel=0.4)\n",
    "for file in gfp_list:\n",
    "    os.remove(file)\n",
    "\n",
    "# measuring the cosine_similarity check of GFP channel after registration\n",
    "post_checks = datautils.similarity_4D(gfp_4D[ch_names[0]], save=True, \n",
    "                                        save_path=save_path, \n",
    "                                        save_file=method+'_checks.csv')\n",
    "\n",
    "red_name = ch_names[1]+'_'+method+'_'+group_by\n",
    "red_list = datautils.get_file_names(path=save_path, group_by=red_name, \n",
    "                                    order=False, nested_files=False, criteria='tif')\n",
    "red_4D = datautils.files_to_4D(files_list=red_list, ch_names=[ch_names[1]], filter=False,\n",
    "                                save=True, save_path=save_path, save_file=red_name,\n",
    "                                xy_pixel=0.0764616, z_pixel=0.4)\n",
    "for file in red_list:\n",
    "    os.remove(file)\n",
    "\n",
    "# deleting the final compiled 4D images\n",
    "del gfp_4D, red_4D \n",
    "\n",
    "print(group_by, ' is done, and it took', timer()-start_time) "
   ]
  },
  {
   "cell_type": "code",
   "execution_count": 5,
   "metadata": {},
   "outputs": [],
   "source": [
    "method = 'SyNRA'\n",
    "save_path = '/home/tli_project/Desktop/Data/T4/stage1/211016/211016_analysis/'\n",
    "path_to_data = '/home/tli_project/Desktop/Data/T4/stage1/211016/211016'\n",
    "group_by = '211016_brain2.2_LP40_P36'\n",
    "ch_names = ['GFP', 'red']\n",
    "save_name = group_by\n",
    "compile = True\n",
    "metric = 'mattes'\n",
    "\n",
    "if save_path[-1] != '/':\n",
    "    save_path += '/'"
   ]
  },
  {
   "cell_type": "code",
   "execution_count": 6,
   "metadata": {},
   "outputs": [
    {
     "name": "stdout",
     "output_type": "stream",
     "text": [
      "first 5 files\n",
      "['/home/tli_project/Desktop/Data/T4/stage1/211016/211016/211016_brain2.2_LP40_P36__00001.tif', '/home/tli_project/Desktop/Data/T4/stage1/211016/211016/211016_brain2.2_LP40_P36__00002.tif', '/home/tli_project/Desktop/Data/T4/stage1/211016/211016/211016_brain2.2_LP40_P36__00003.tif', '/home/tli_project/Desktop/Data/T4/stage1/211016/211016/211016_brain2.2_LP40_P36__00004.tif', '/home/tli_project/Desktop/Data/T4/stage1/211016/211016/211016_brain2.2_LP40_P36__00005.tif']\n"
     ]
    },
    {
     "name": "stderr",
     "output_type": "stream",
     "text": [
      "compiling_files:   0%|          | 0/88 [00:00<?, ?it/s]<tifffile.TiffFile '211016_brain2.2…0_P36__00001.tif'> asarray failed to reshape (172, 1024, 1024) to (8, 10, 2, 1024, 1024)\n",
      "compiling_files:   1%|          | 1/88 [00:26<38:57, 26.86s/it]<tifffile.TiffFile '211016_brain2.2…0_P36__00002.tif'> asarray failed to reshape (172, 1024, 1024) to (8, 10, 2, 1024, 1024)\n",
      "compiling_files:   2%|▏         | 2/88 [00:54<39:14, 27.38s/it]<tifffile.TiffFile '211016_brain2.2…0_P36__00003.tif'> asarray failed to reshape (172, 1024, 1024) to (8, 10, 2, 1024, 1024)\n",
      "compiling_files:   3%|▎         | 3/88 [01:21<38:28, 27.16s/it]<tifffile.TiffFile '211016_brain2.2…0_P36__00004.tif'> asarray failed to reshape (172, 1024, 1024) to (8, 10, 2, 1024, 1024)\n",
      "compiling_files:   5%|▍         | 4/88 [01:49<38:22, 27.41s/it]<tifffile.TiffFile '211016_brain2.2…0_P36__00005.tif'> asarray failed to reshape (172, 1024, 1024) to (8, 10, 2, 1024, 1024)\n",
      "compiling_files:   6%|▌         | 5/88 [02:16<37:38, 27.21s/it]<tifffile.TiffFile '211016_brain2.2…0_P36__00006.tif'> asarray failed to reshape (172, 1024, 1024) to (8, 10, 2, 1024, 1024)\n",
      "compiling_files:   7%|▋         | 6/88 [02:43<37:07, 27.17s/it]<tifffile.TiffFile '211016_brain2.2…0_P36__00007.tif'> asarray failed to reshape (172, 1024, 1024) to (8, 10, 2, 1024, 1024)\n",
      "compiling_files:   8%|▊         | 7/88 [03:10<36:33, 27.08s/it]<tifffile.TiffFile '211016_brain2.2…0_P36__00008.tif'> asarray failed to reshape (172, 1024, 1024) to (8, 10, 2, 1024, 1024)\n",
      "compiling_files:   9%|▉         | 8/88 [03:37<36:02, 27.03s/it]<tifffile.TiffFile '211016_brain2.2…0_P36__00009.tif'> asarray failed to reshape (172, 1024, 1024) to (8, 10, 2, 1024, 1024)\n",
      "compiling_files:  10%|█         | 9/88 [04:03<35:30, 26.96s/it]<tifffile.TiffFile '211016_brain2.2…0_P36__00010.tif'> asarray failed to reshape (172, 1024, 1024) to (8, 10, 2, 1024, 1024)\n",
      "compiling_files:  11%|█▏        | 10/88 [04:30<35:00, 26.93s/it]<tifffile.TiffFile '211016_brain2.2…0_P36__00011.tif'> asarray failed to reshape (172, 1024, 1024) to (8, 10, 2, 1024, 1024)\n",
      "compiling_files:  12%|█▎        | 11/88 [04:57<34:31, 26.90s/it]<tifffile.TiffFile '211016_brain2.2…0_P36__00012.tif'> asarray failed to reshape (172, 1024, 1024) to (8, 10, 2, 1024, 1024)\n",
      "compiling_files:  14%|█▎        | 12/88 [05:24<34:02, 26.87s/it]<tifffile.TiffFile '211016_brain2.2…0_P36__00013.tif'> asarray failed to reshape (172, 1024, 1024) to (8, 10, 2, 1024, 1024)\n",
      "compiling_files:  15%|█▍        | 13/88 [05:51<33:34, 26.86s/it]<tifffile.TiffFile '211016_brain2.2…0_P36__00014.tif'> asarray failed to reshape (172, 1024, 1024) to (8, 10, 2, 1024, 1024)\n",
      "compiling_files:  16%|█▌        | 14/88 [06:18<33:06, 26.85s/it]<tifffile.TiffFile '211016_brain2.2…0_P36__00015.tif'> asarray failed to reshape (172, 1024, 1024) to (8, 10, 2, 1024, 1024)\n",
      "compiling_files:  17%|█▋        | 15/88 [06:44<32:40, 26.85s/it]<tifffile.TiffFile '211016_brain2.2…0_P36__00016.tif'> asarray failed to reshape (172, 1024, 1024) to (8, 10, 2, 1024, 1024)\n",
      "compiling_files:  18%|█▊        | 16/88 [07:11<32:13, 26.85s/it]<tifffile.TiffFile '211016_brain2.2…0_P36__00017.tif'> asarray failed to reshape (172, 1024, 1024) to (8, 10, 2, 1024, 1024)\n",
      "compiling_files:  19%|█▉        | 17/88 [07:38<31:45, 26.84s/it]<tifffile.TiffFile '211016_brain2.2…0_P36__00018.tif'> asarray failed to reshape (172, 1024, 1024) to (8, 10, 2, 1024, 1024)\n",
      "compiling_files:  20%|██        | 18/88 [08:05<31:18, 26.84s/it]<tifffile.TiffFile '211016_brain2.2…0_P36__00019.tif'> asarray failed to reshape (172, 1024, 1024) to (8, 10, 2, 1024, 1024)\n",
      "compiling_files:  22%|██▏       | 19/88 [08:32<30:51, 26.83s/it]<tifffile.TiffFile '211016_brain2.2…0_P36__00020.tif'> asarray failed to reshape (172, 1024, 1024) to (8, 10, 2, 1024, 1024)\n",
      "compiling_files:  23%|██▎       | 20/88 [08:59<30:24, 26.84s/it]<tifffile.TiffFile '211016_brain2.2…0_P36__00021.tif'> asarray failed to reshape (172, 1024, 1024) to (8, 10, 2, 1024, 1024)\n",
      "compiling_files:  24%|██▍       | 21/88 [09:25<29:59, 26.85s/it]<tifffile.TiffFile '211016_brain2.2…0_P36__00022.tif'> asarray failed to reshape (172, 1024, 1024) to (8, 10, 2, 1024, 1024)\n",
      "compiling_files:  25%|██▌       | 22/88 [09:52<29:32, 26.86s/it]<tifffile.TiffFile '211016_brain2.2…0_P36__00023.tif'> asarray failed to reshape (172, 1024, 1024) to (8, 10, 2, 1024, 1024)\n",
      "compiling_files:  26%|██▌       | 23/88 [10:19<29:06, 26.86s/it]<tifffile.TiffFile '211016_brain2.2…0_P36__00024.tif'> asarray failed to reshape (172, 1024, 1024) to (8, 10, 2, 1024, 1024)\n",
      "compiling_files:  27%|██▋       | 24/88 [10:46<28:40, 26.88s/it]<tifffile.TiffFile '211016_brain2.2…0_P36__00025.tif'> asarray failed to reshape (172, 1024, 1024) to (8, 10, 2, 1024, 1024)\n",
      "compiling_files:  28%|██▊       | 25/88 [11:13<28:12, 26.87s/it]<tifffile.TiffFile '211016_brain2.2…0_P36__00026.tif'> asarray failed to reshape (172, 1024, 1024) to (8, 10, 2, 1024, 1024)\n",
      "compiling_files:  30%|██▉       | 26/88 [11:40<27:46, 26.87s/it]<tifffile.TiffFile '211016_brain2.2…0_P36__00027.tif'> asarray failed to reshape (172, 1024, 1024) to (8, 10, 2, 1024, 1024)\n",
      "compiling_files:  31%|███       | 27/88 [12:07<27:19, 26.88s/it]<tifffile.TiffFile '211016_brain2.2…0_P36__00028.tif'> asarray failed to reshape (172, 1024, 1024) to (8, 10, 2, 1024, 1024)\n",
      "compiling_files:  32%|███▏      | 28/88 [12:34<26:52, 26.88s/it]<tifffile.TiffFile '211016_brain2.2…0_P36__00029.tif'> asarray failed to reshape (172, 1024, 1024) to (8, 10, 2, 1024, 1024)\n",
      "compiling_files:  33%|███▎      | 29/88 [13:00<26:25, 26.88s/it]<tifffile.TiffFile '211016_brain2.2…0_P36__00030.tif'> asarray failed to reshape (172, 1024, 1024) to (8, 10, 2, 1024, 1024)\n",
      "compiling_files:  34%|███▍      | 30/88 [13:27<25:58, 26.87s/it]<tifffile.TiffFile '211016_brain2.2…0_P36__00031.tif'> asarray failed to reshape (172, 1024, 1024) to (8, 10, 2, 1024, 1024)\n",
      "compiling_files:  35%|███▌      | 31/88 [13:54<25:31, 26.88s/it]<tifffile.TiffFile '211016_brain2.2…0_P36__00032.tif'> asarray failed to reshape (172, 1024, 1024) to (8, 10, 2, 1024, 1024)\n",
      "compiling_files:  36%|███▋      | 32/88 [14:21<25:05, 26.88s/it]<tifffile.TiffFile '211016_brain2.2…0_P36__00033.tif'> asarray failed to reshape (172, 1024, 1024) to (8, 10, 2, 1024, 1024)\n",
      "compiling_files:  38%|███▊      | 33/88 [14:48<24:38, 26.88s/it]<tifffile.TiffFile '211016_brain2.2…0_P36__00034.tif'> asarray failed to reshape (172, 1024, 1024) to (8, 10, 2, 1024, 1024)\n",
      "compiling_files:  39%|███▊      | 34/88 [15:15<24:10, 26.87s/it]<tifffile.TiffFile '211016_brain2.2…0_P36__00035.tif'> asarray failed to reshape (172, 1024, 1024) to (8, 10, 2, 1024, 1024)\n",
      "compiling_files:  40%|███▉      | 35/88 [15:42<23:43, 26.87s/it]<tifffile.TiffFile '211016_brain2.2…0_P36__00036.tif'> asarray failed to reshape (172, 1024, 1024) to (8, 10, 2, 1024, 1024)\n",
      "compiling_files:  41%|████      | 36/88 [16:09<23:19, 26.91s/it]<tifffile.TiffFile '211016_brain2.2…0_P36__00037.tif'> asarray failed to reshape (172, 1024, 1024) to (8, 10, 2, 1024, 1024)\n",
      "compiling_files:  42%|████▏     | 37/88 [16:36<22:51, 26.89s/it]<tifffile.TiffFile '211016_brain2.2…0_P36__00038.tif'> asarray failed to reshape (172, 1024, 1024) to (8, 10, 2, 1024, 1024)\n",
      "compiling_files:  43%|████▎     | 38/88 [17:02<22:24, 26.88s/it]<tifffile.TiffFile '211016_brain2.2…0_P36__00039.tif'> asarray failed to reshape (172, 1024, 1024) to (8, 10, 2, 1024, 1024)\n",
      "compiling_files:  44%|████▍     | 39/88 [17:29<21:57, 26.90s/it]<tifffile.TiffFile '211016_brain2.2…0_P36__00040.tif'> asarray failed to reshape (172, 1024, 1024) to (8, 10, 2, 1024, 1024)\n",
      "compiling_files:  45%|████▌     | 40/88 [17:56<21:29, 26.87s/it]<tifffile.TiffFile '211016_brain2.2…0_P36__00041.tif'> asarray failed to reshape (172, 1024, 1024) to (8, 10, 2, 1024, 1024)\n",
      "compiling_files:  47%|████▋     | 41/88 [18:23<21:05, 26.92s/it]<tifffile.TiffFile '211016_brain2.2…0_P36__00042.tif'> asarray failed to reshape (172, 1024, 1024) to (8, 10, 2, 1024, 1024)\n",
      "compiling_files:  48%|████▊     | 42/88 [18:50<20:38, 26.92s/it]<tifffile.TiffFile '211016_brain2.2…0_P36__00043.tif'> asarray failed to reshape (172, 1024, 1024) to (8, 10, 2, 1024, 1024)\n",
      "compiling_files:  49%|████▉     | 43/88 [19:17<20:11, 26.92s/it]<tifffile.TiffFile '211016_brain2.2…0_P36__00044.tif'> asarray failed to reshape (172, 1024, 1024) to (8, 10, 2, 1024, 1024)\n",
      "compiling_files:  50%|█████     | 44/88 [19:44<19:43, 26.89s/it]<tifffile.TiffFile '211016_brain2.2…0_P36__00045.tif'> asarray failed to reshape (172, 1024, 1024) to (8, 10, 2, 1024, 1024)\n",
      "compiling_files:  51%|█████     | 45/88 [20:11<19:16, 26.89s/it]<tifffile.TiffFile '211016_brain2.2…0_P36__00046.tif'> asarray failed to reshape (172, 1024, 1024) to (8, 10, 2, 1024, 1024)\n",
      "compiling_files:  52%|█████▏    | 46/88 [20:38<18:48, 26.87s/it]<tifffile.TiffFile '211016_brain2.2…0_P36__00047.tif'> asarray failed to reshape (172, 1024, 1024) to (8, 10, 2, 1024, 1024)\n",
      "compiling_files:  53%|█████▎    | 47/88 [21:04<18:21, 26.86s/it]<tifffile.TiffFile '211016_brain2.2…0_P36__00048.tif'> asarray failed to reshape (172, 1024, 1024) to (8, 10, 2, 1024, 1024)\n",
      "compiling_files:  55%|█████▍    | 48/88 [21:31<17:54, 26.86s/it]<tifffile.TiffFile '211016_brain2.2…0_P36__00049.tif'> asarray failed to reshape (172, 1024, 1024) to (8, 10, 2, 1024, 1024)\n",
      "compiling_files:  56%|█████▌    | 49/88 [21:58<17:27, 26.85s/it]<tifffile.TiffFile '211016_brain2.2…0_P36__00050.tif'> asarray failed to reshape (172, 1024, 1024) to (8, 10, 2, 1024, 1024)\n",
      "compiling_files:  57%|█████▋    | 50/88 [22:25<17:00, 26.86s/it]<tifffile.TiffFile '211016_brain2.2…0_P36__00051.tif'> asarray failed to reshape (172, 1024, 1024) to (8, 10, 2, 1024, 1024)\n",
      "compiling_files:  58%|█████▊    | 51/88 [22:52<16:33, 26.85s/it]<tifffile.TiffFile '211016_brain2.2…0_P36__00052.tif'> asarray failed to reshape (172, 1024, 1024) to (8, 10, 2, 1024, 1024)\n",
      "compiling_files:  59%|█████▉    | 52/88 [23:19<16:07, 26.87s/it]<tifffile.TiffFile '211016_brain2.2…0_P36__00053.tif'> asarray failed to reshape (172, 1024, 1024) to (8, 10, 2, 1024, 1024)\n",
      "compiling_files:  60%|██████    | 53/88 [23:46<15:40, 26.87s/it]<tifffile.TiffFile '211016_brain2.2…0_P36__00054.tif'> asarray failed to reshape (172, 1024, 1024) to (8, 10, 2, 1024, 1024)\n",
      "compiling_files:  61%|██████▏   | 54/88 [24:12<15:12, 26.85s/it]<tifffile.TiffFile '211016_brain2.2…0_P36__00055.tif'> asarray failed to reshape (172, 1024, 1024) to (8, 10, 2, 1024, 1024)\n",
      "compiling_files:  62%|██████▎   | 55/88 [24:39<14:45, 26.84s/it]<tifffile.TiffFile '211016_brain2.2…0_P36__00056.tif'> asarray failed to reshape (172, 1024, 1024) to (8, 10, 2, 1024, 1024)\n",
      "compiling_files:  64%|██████▎   | 56/88 [25:06<14:18, 26.84s/it]<tifffile.TiffFile '211016_brain2.2…0_P36__00057.tif'> asarray failed to reshape (172, 1024, 1024) to (8, 10, 2, 1024, 1024)\n",
      "compiling_files:  65%|██████▍   | 57/88 [25:33<13:54, 26.91s/it]<tifffile.TiffFile '211016_brain2.2…0_P36__00058.tif'> asarray failed to reshape (172, 1024, 1024) to (8, 10, 2, 1024, 1024)\n",
      "compiling_files:  66%|██████▌   | 58/88 [26:00<13:27, 26.90s/it]<tifffile.TiffFile '211016_brain2.2…0_P36__00059.tif'> asarray failed to reshape (172, 1024, 1024) to (8, 10, 2, 1024, 1024)\n",
      "compiling_files:  67%|██████▋   | 59/88 [26:27<13:00, 26.91s/it]<tifffile.TiffFile '211016_brain2.2…0_P36__00060.tif'> asarray failed to reshape (172, 1024, 1024) to (8, 10, 2, 1024, 1024)\n",
      "compiling_files:  68%|██████▊   | 60/88 [26:54<12:32, 26.88s/it]<tifffile.TiffFile '211016_brain2.2…0_P36__00061.tif'> asarray failed to reshape (172, 1024, 1024) to (8, 10, 2, 1024, 1024)\n",
      "compiling_files:  69%|██████▉   | 61/88 [27:21<12:05, 26.86s/it]<tifffile.TiffFile '211016_brain2.2…0_P36__00062.tif'> asarray failed to reshape (172, 1024, 1024) to (8, 10, 2, 1024, 1024)\n",
      "compiling_files:  70%|███████   | 62/88 [27:47<11:38, 26.88s/it]<tifffile.TiffFile '211016_brain2.2…0_P36__00063.tif'> asarray failed to reshape (172, 1024, 1024) to (8, 10, 2, 1024, 1024)\n",
      "compiling_files:  72%|███████▏  | 63/88 [28:14<11:11, 26.86s/it]<tifffile.TiffFile '211016_brain2.2…0_P36__00064.tif'> asarray failed to reshape (172, 1024, 1024) to (8, 10, 2, 1024, 1024)\n",
      "compiling_files:  73%|███████▎  | 64/88 [28:41<10:43, 26.83s/it]<tifffile.TiffFile '211016_brain2.2…0_P36__00065.tif'> asarray failed to reshape (172, 1024, 1024) to (8, 10, 2, 1024, 1024)\n",
      "compiling_files:  74%|███████▍  | 65/88 [29:08<10:17, 26.86s/it]<tifffile.TiffFile '211016_brain2.2…0_P36__00066.tif'> asarray failed to reshape (172, 1024, 1024) to (8, 10, 2, 1024, 1024)\n",
      "compiling_files:  75%|███████▌  | 66/88 [29:35<09:50, 26.85s/it]<tifffile.TiffFile '211016_brain2.2…0_P36__00067.tif'> asarray failed to reshape (172, 1024, 1024) to (8, 10, 2, 1024, 1024)\n",
      "compiling_files:  76%|███████▌  | 67/88 [30:02<09:23, 26.85s/it]<tifffile.TiffFile '211016_brain2.2…0_P36__00068.tif'> asarray failed to reshape (172, 1024, 1024) to (8, 10, 2, 1024, 1024)\n",
      "compiling_files:  77%|███████▋  | 68/88 [30:28<08:56, 26.83s/it]<tifffile.TiffFile '211016_brain2.2…0_P36__00069.tif'> asarray failed to reshape (172, 1024, 1024) to (8, 10, 2, 1024, 1024)\n",
      "compiling_files:  78%|███████▊  | 69/88 [30:55<08:29, 26.82s/it]<tifffile.TiffFile '211016_brain2.2…0_P36__00070.tif'> asarray failed to reshape (172, 1024, 1024) to (8, 10, 2, 1024, 1024)\n",
      "compiling_files:  80%|███████▉  | 70/88 [31:22<08:02, 26.82s/it]<tifffile.TiffFile '211016_brain2.2…0_P36__00071.tif'> asarray failed to reshape (172, 1024, 1024) to (8, 10, 2, 1024, 1024)\n",
      "compiling_files:  81%|████████  | 71/88 [31:49<07:36, 26.83s/it]<tifffile.TiffFile '211016_brain2.2…0_P36__00072.tif'> asarray failed to reshape (172, 1024, 1024) to (8, 10, 2, 1024, 1024)\n",
      "compiling_files:  82%|████████▏ | 72/88 [32:16<07:09, 26.84s/it]<tifffile.TiffFile '211016_brain2.2…0_P36__00073.tif'> asarray failed to reshape (172, 1024, 1024) to (8, 10, 2, 1024, 1024)\n",
      "compiling_files:  83%|████████▎ | 73/88 [32:43<06:42, 26.83s/it]<tifffile.TiffFile '211016_brain2.2…0_P36__00074.tif'> asarray failed to reshape (172, 1024, 1024) to (8, 10, 2, 1024, 1024)\n",
      "compiling_files:  84%|████████▍ | 74/88 [33:09<06:15, 26.83s/it]<tifffile.TiffFile '211016_brain2.2…0_P36__00075.tif'> asarray failed to reshape (172, 1024, 1024) to (8, 10, 2, 1024, 1024)\n",
      "compiling_files:  85%|████████▌ | 75/88 [33:36<05:48, 26.82s/it]<tifffile.TiffFile '211016_brain2.2…0_P36__00076.tif'> asarray failed to reshape (172, 1024, 1024) to (8, 10, 2, 1024, 1024)\n",
      "compiling_files:  86%|████████▋ | 76/88 [34:03<05:21, 26.82s/it]<tifffile.TiffFile '211016_brain2.2…0_P36__00077.tif'> asarray failed to reshape (172, 1024, 1024) to (8, 10, 2, 1024, 1024)\n",
      "compiling_files:  88%|████████▊ | 77/88 [34:30<04:55, 26.82s/it]<tifffile.TiffFile '211016_brain2.2…0_P36__00078.tif'> asarray failed to reshape (172, 1024, 1024) to (8, 10, 2, 1024, 1024)\n",
      "compiling_files:  89%|████████▊ | 78/88 [34:57<04:28, 26.82s/it]<tifffile.TiffFile '211016_brain2.2…0_P36__00079.tif'> asarray failed to reshape (172, 1024, 1024) to (8, 10, 2, 1024, 1024)\n",
      "compiling_files:  90%|████████▉ | 79/88 [35:24<04:01, 26.86s/it]<tifffile.TiffFile '211016_brain2.2…0_P36__00080.tif'> asarray failed to reshape (172, 1024, 1024) to (8, 10, 2, 1024, 1024)\n",
      "compiling_files:  91%|█████████ | 80/88 [35:50<03:34, 26.84s/it]<tifffile.TiffFile '211016_brain2.2…0_P36__00081.tif'> asarray failed to reshape (172, 1024, 1024) to (8, 10, 2, 1024, 1024)\n",
      "compiling_files:  92%|█████████▏| 81/88 [36:17<03:08, 26.89s/it]<tifffile.TiffFile '211016_brain2.2…0_P36__00082.tif'> asarray failed to reshape (172, 1024, 1024) to (8, 10, 2, 1024, 1024)\n",
      "compiling_files:  93%|█████████▎| 82/88 [36:44<02:41, 26.86s/it]<tifffile.TiffFile '211016_brain2.2…0_P36__00083.tif'> asarray failed to reshape (172, 1024, 1024) to (8, 10, 2, 1024, 1024)\n",
      "compiling_files:  94%|█████████▍| 83/88 [37:11<02:14, 26.88s/it]<tifffile.TiffFile '211016_brain2.2…0_P36__00084.tif'> asarray failed to reshape (172, 1024, 1024) to (8, 10, 2, 1024, 1024)\n",
      "compiling_files:  95%|█████████▌| 84/88 [37:38<01:47, 26.82s/it]<tifffile.TiffFile '211016_brain2.2…0_P36__00085.tif'> asarray failed to reshape (172, 1024, 1024) to (8, 10, 2, 1024, 1024)\n",
      "compiling_files:  97%|█████████▋| 85/88 [38:05<01:20, 26.82s/it]<tifffile.TiffFile '211016_brain2.2…0_P36__00086.tif'> asarray failed to reshape (172, 1024, 1024) to (8, 10, 2, 1024, 1024)\n",
      "compiling_files:  98%|█████████▊| 86/88 [38:31<00:53, 26.78s/it]<tifffile.TiffFile '211016_brain2.2…0_P36__00087.tif'> asarray failed to reshape (172, 1024, 1024) to (8, 10, 2, 1024, 1024)\n",
      "compiling_files:  99%|█████████▉| 87/88 [38:58<00:26, 26.78s/it]<tifffile.TiffFile '211016_brain2.2…0_P36__00088.tif'> asarray failed to reshape (172, 1024, 1024) to (8, 10, 2, 1024, 1024)\n",
      "                                                                \r"
     ]
    },
    {
     "name": "stdout",
     "output_type": "stream",
     "text": [
      "dict_keys(['GFP', 'red']) <class 'list'> 88\n",
      "compiling the GFP channel\n",
      "compiling the red channel\n",
      "files_to_4D runtime 2389.017529641278\n"
     ]
    },
    {
     "name": "stderr",
     "output_type": "stream",
     "text": [
      "                                                                         \r"
     ]
    },
    {
     "name": "stdout",
     "output_type": "stream",
     "text": [
      "first 5 files\n",
      "['/home/tli_project/Desktop/Data/T4/stage1/211016/211016_analysis/GFP_SyNRA_211016_brain2.2_LP40_P36_001.tif', '/home/tli_project/Desktop/Data/T4/stage1/211016/211016_analysis/GFP_SyNRA_211016_brain2.2_LP40_P36_002.tif', '/home/tli_project/Desktop/Data/T4/stage1/211016/211016_analysis/GFP_SyNRA_211016_brain2.2_LP40_P36_003.tif', '/home/tli_project/Desktop/Data/T4/stage1/211016/211016_analysis/GFP_SyNRA_211016_brain2.2_LP40_P36_004.tif', '/home/tli_project/Desktop/Data/T4/stage1/211016/211016_analysis/GFP_SyNRA_211016_brain2.2_LP40_P36_005.tif']\n"
     ]
    },
    {
     "name": "stderr",
     "output_type": "stream",
     "text": [
      "                                                                \r"
     ]
    },
    {
     "name": "stdout",
     "output_type": "stream",
     "text": [
      "dict_keys(['GFP']) <class 'list'> 88\n",
      "compiling the GFP channel\n"
     ]
    },
    {
     "name": "stderr",
     "output_type": "stream",
     "text": [
      "/home/tli_project/.local/lib/python3.8/site-packages/tifffile/tifffile.py:2876: UserWarning:\n",
      "\n",
      "<tifffile.TiffWriter '4D_GFP_GFP_SyNR…2.2_LP40_P36.tif'> truncating ImageJ file\n",
      "\n"
     ]
    },
    {
     "name": "stdout",
     "output_type": "stream",
     "text": [
      "files_to_4D runtime 50.91410826891661\n"
     ]
    },
    {
     "name": "stderr",
     "output_type": "stream",
     "text": [
      "                                                                         \r"
     ]
    },
    {
     "name": "stdout",
     "output_type": "stream",
     "text": [
      "first 5 files\n",
      "['/home/tli_project/Desktop/Data/T4/stage1/211016/211016_analysis/red_SyNRA_211016_brain2.2_LP40_P36_001.tif', '/home/tli_project/Desktop/Data/T4/stage1/211016/211016_analysis/red_SyNRA_211016_brain2.2_LP40_P36_002.tif', '/home/tli_project/Desktop/Data/T4/stage1/211016/211016_analysis/red_SyNRA_211016_brain2.2_LP40_P36_003.tif', '/home/tli_project/Desktop/Data/T4/stage1/211016/211016_analysis/red_SyNRA_211016_brain2.2_LP40_P36_004.tif', '/home/tli_project/Desktop/Data/T4/stage1/211016/211016_analysis/red_SyNRA_211016_brain2.2_LP40_P36_005.tif']\n"
     ]
    },
    {
     "name": "stderr",
     "output_type": "stream",
     "text": [
      "                                                                \r"
     ]
    },
    {
     "name": "stdout",
     "output_type": "stream",
     "text": [
      "dict_keys(['red']) <class 'list'> 88\n",
      "compiling the red channel\n"
     ]
    },
    {
     "name": "stderr",
     "output_type": "stream",
     "text": [
      "/home/tli_project/.local/lib/python3.8/site-packages/tifffile/tifffile.py:2876: UserWarning:\n",
      "\n",
      "<tifffile.TiffWriter '4D_red_red_SyNR…2.2_LP40_P36.tif'> truncating ImageJ file\n",
      "\n"
     ]
    },
    {
     "name": "stdout",
     "output_type": "stream",
     "text": [
      "files_to_4D runtime 73.2091960189864\n",
      "211016_brain2.2_LP40_P36  is done, and it took 29116.150530406274\n"
     ]
    }
   ],
   "source": [
    "start_time = timer()\n",
    "# reading list of 3D images into dictionary of channels as indicated in ch_names, and applying median filter on the last ch\n",
    "image_4D = datautils.read_files(path_to_data, group_by ,compile=compile, ch_names=ch_names,\n",
    "                                order=False, save=False, save_path=save_path, save_file=group_by, \n",
    "                                xy_pixel=0.076, z_pixel=0.4)\n",
    "\n",
    "pre_checks = datautils.similarity_4D(image_4D[ch_names[0]], save=True, save_path=save_path, save_file='pre_checks.csv')\n",
    "\n",
    "# running antspy, saving output into temp 3D files, and then compiling them to 4D and finally deleting the temp 3D files\n",
    "# name_shifts = method+csv_name\n",
    "registration.antspy_drift_corr(img_4D_g=image_4D[ch_names[0]],\n",
    "                                img_4D_r=image_4D[ch_names[1]], \n",
    "                                ch_names=ch_names,\n",
    "                                save_path=save_path, \n",
    "                                save_name=save_name,\n",
    "                                ref_t = int(len(image_4D[ch_names[0]])/2),\n",
    "                                drift_corr=method, metric=metric)\n",
    "\n",
    "del image_4D\n",
    "\n",
    "# compiling the registered 3D images into 4D and deleting the temp files for both channels \n",
    "gfp_name = ch_names[0]+'_'+method+'_'+group_by\n",
    "gfp_list = datautils.get_file_names(path=save_path, group_by=gfp_name, \n",
    "                                    order=False, nested_files=False, criteria='tif')\n",
    "gfp_4D = datautils.files_to_4D(files_list=gfp_list, ch_names=[ch_names[0]], filter=False, \n",
    "                                save=True, save_path=save_path, save_file=gfp_name,\n",
    "                                xy_pixel=0.0764616, z_pixel=0.4)\n",
    "for file in gfp_list:\n",
    "    os.remove(file)\n",
    "\n",
    "# measuring the cosine_similarity check of GFP channel after registration\n",
    "post_checks = datautils.similarity_4D(gfp_4D[ch_names[0]], save=True, \n",
    "                                        save_path=save_path, \n",
    "                                        save_file=method+'_checks.csv')\n",
    "\n",
    "red_name = ch_names[1]+'_'+method+'_'+group_by\n",
    "red_list = datautils.get_file_names(path=save_path, group_by=red_name, \n",
    "                                    order=False, nested_files=False, criteria='tif')\n",
    "red_4D = datautils.files_to_4D(files_list=red_list, ch_names=[ch_names[1]], filter=False,\n",
    "                                save=True, save_path=save_path, save_file=red_name,\n",
    "                                xy_pixel=0.0764616, z_pixel=0.4)\n",
    "for file in red_list:\n",
    "    os.remove(file)\n",
    "\n",
    "# deleting the final compiled 4D images\n",
    "del gfp_4D, red_4D \n",
    "\n",
    "print(group_by, ' is done, and it took', timer()-start_time) "
   ]
  },
  {
   "cell_type": "code",
   "execution_count": 7,
   "metadata": {},
   "outputs": [],
   "source": [
    "method = 'SyNRA'\n",
    "save_path = '/home/tli_project/Desktop/Data/T4/stage1/211021/211021_analysis/'\n",
    "path_to_data = '/home/tli_project/Desktop/Data/T4/stage1/211021/211021'\n",
    "group_by = '211021_brain3.2_LP40_P35.45'\n",
    "ch_names = ['GFP', 'red']\n",
    "save_name = group_by\n",
    "compile = True\n",
    "metric = 'mattes'\n",
    "\n",
    "if save_path[-1] != '/':\n",
    "    save_path += '/'"
   ]
  },
  {
   "cell_type": "code",
   "execution_count": 8,
   "metadata": {},
   "outputs": [
    {
     "name": "stdout",
     "output_type": "stream",
     "text": [
      "first 5 files\n",
      "['/home/tli_project/Desktop/Data/T4/stage1/211021/211021/211021_brain3.2_LP40_P35.45_00001.tif', '/home/tli_project/Desktop/Data/T4/stage1/211021/211021/211021_brain3.2_LP40_P35.45_00002.tif', '/home/tli_project/Desktop/Data/T4/stage1/211021/211021/211021_brain3.2_LP40_P35.45_00003.tif', '/home/tli_project/Desktop/Data/T4/stage1/211021/211021/211021_brain3.2_LP40_P35.45_00004.tif', '/home/tli_project/Desktop/Data/T4/stage1/211021/211021/211021_brain3.2_LP40_P35.45_00005.tif']\n"
     ]
    },
    {
     "name": "stderr",
     "output_type": "stream",
     "text": [
      "compiling_files:   0%|          | 0/84 [00:00<?, ?it/s]<tifffile.TiffFile '211021_brain3.2…P35.45_00001.tif'> asarray failed to reshape (172, 1024, 1024) to (8, 10, 2, 1024, 1024)\n",
      "compiling_files:   1%|          | 1/84 [00:26<36:24, 26.32s/it]<tifffile.TiffFile '211021_brain3.2…P35.45_00002.tif'> asarray failed to reshape (172, 1024, 1024) to (8, 10, 2, 1024, 1024)\n",
      "compiling_files:   2%|▏         | 2/84 [00:52<36:03, 26.38s/it]<tifffile.TiffFile '211021_brain3.2…P35.45_00003.tif'> asarray failed to reshape (172, 1024, 1024) to (8, 10, 2, 1024, 1024)\n",
      "compiling_files:   4%|▎         | 3/84 [01:19<35:41, 26.44s/it]<tifffile.TiffFile '211021_brain3.2…P35.45_00004.tif'> asarray failed to reshape (172, 1024, 1024) to (8, 10, 2, 1024, 1024)\n",
      "compiling_files:   5%|▍         | 4/84 [01:45<35:16, 26.46s/it]<tifffile.TiffFile '211021_brain3.2…P35.45_00005.tif'> asarray failed to reshape (172, 1024, 1024) to (8, 10, 2, 1024, 1024)\n",
      "compiling_files:   6%|▌         | 5/84 [02:12<34:50, 26.46s/it]<tifffile.TiffFile '211021_brain3.2…P35.45_00006.tif'> asarray failed to reshape (172, 1024, 1024) to (8, 10, 2, 1024, 1024)\n",
      "compiling_files:   7%|▋         | 6/84 [02:38<34:25, 26.48s/it]<tifffile.TiffFile '211021_brain3.2…P35.45_00007.tif'> asarray failed to reshape (172, 1024, 1024) to (8, 10, 2, 1024, 1024)\n",
      "compiling_files:   8%|▊         | 7/84 [03:05<33:58, 26.48s/it]<tifffile.TiffFile '211021_brain3.2…P35.45_00008.tif'> asarray failed to reshape (172, 1024, 1024) to (8, 10, 2, 1024, 1024)\n",
      "compiling_files:  10%|▉         | 8/84 [03:31<33:32, 26.48s/it]<tifffile.TiffFile '211021_brain3.2…P35.45_00009.tif'> asarray failed to reshape (172, 1024, 1024) to (8, 10, 2, 1024, 1024)\n",
      "compiling_files:  11%|█         | 9/84 [03:58<33:10, 26.54s/it]<tifffile.TiffFile '211021_brain3.2…P35.45_00010.tif'> asarray failed to reshape (172, 1024, 1024) to (8, 10, 2, 1024, 1024)\n",
      "compiling_files:  12%|█▏        | 10/84 [04:25<32:48, 26.59s/it]<tifffile.TiffFile '211021_brain3.2…P35.45_00011.tif'> asarray failed to reshape (172, 1024, 1024) to (8, 10, 2, 1024, 1024)\n",
      "compiling_files:  13%|█▎        | 11/84 [04:51<32:24, 26.63s/it]<tifffile.TiffFile '211021_brain3.2…P35.45_00012.tif'> asarray failed to reshape (172, 1024, 1024) to (8, 10, 2, 1024, 1024)\n",
      "compiling_files:  14%|█▍        | 12/84 [05:18<32:00, 26.67s/it]<tifffile.TiffFile '211021_brain3.2…P35.45_00013.tif'> asarray failed to reshape (172, 1024, 1024) to (8, 10, 2, 1024, 1024)\n",
      "compiling_files:  15%|█▌        | 13/84 [05:45<31:36, 26.71s/it]<tifffile.TiffFile '211021_brain3.2…P35.45_00014.tif'> asarray failed to reshape (172, 1024, 1024) to (8, 10, 2, 1024, 1024)\n",
      "compiling_files:  17%|█▋        | 14/84 [06:12<31:09, 26.71s/it]<tifffile.TiffFile '211021_brain3.2…P35.45_00015.tif'> asarray failed to reshape (172, 1024, 1024) to (8, 10, 2, 1024, 1024)\n",
      "compiling_files:  18%|█▊        | 15/84 [06:38<30:43, 26.71s/it]<tifffile.TiffFile '211021_brain3.2…P35.45_00016.tif'> asarray failed to reshape (172, 1024, 1024) to (8, 10, 2, 1024, 1024)\n",
      "compiling_files:  19%|█▉        | 16/84 [07:05<30:12, 26.66s/it]<tifffile.TiffFile '211021_brain3.2…P35.45_00017.tif'> asarray failed to reshape (172, 1024, 1024) to (8, 10, 2, 1024, 1024)\n",
      "compiling_files:  20%|██        | 17/84 [07:31<29:45, 26.65s/it]<tifffile.TiffFile '211021_brain3.2…P35.45_00018.tif'> asarray failed to reshape (172, 1024, 1024) to (8, 10, 2, 1024, 1024)\n",
      "compiling_files:  21%|██▏       | 18/84 [07:58<29:18, 26.65s/it]<tifffile.TiffFile '211021_brain3.2…P35.45_00019.tif'> asarray failed to reshape (172, 1024, 1024) to (8, 10, 2, 1024, 1024)\n",
      "compiling_files:  23%|██▎       | 19/84 [08:25<28:50, 26.63s/it]<tifffile.TiffFile '211021_brain3.2…P35.45_00020.tif'> asarray failed to reshape (172, 1024, 1024) to (8, 10, 2, 1024, 1024)\n",
      "compiling_files:  24%|██▍       | 20/84 [08:51<28:22, 26.61s/it]<tifffile.TiffFile '211021_brain3.2…P35.45_00021.tif'> asarray failed to reshape (172, 1024, 1024) to (8, 10, 2, 1024, 1024)\n",
      "compiling_files:  25%|██▌       | 21/84 [09:18<27:55, 26.60s/it]<tifffile.TiffFile '211021_brain3.2…P35.45_00022.tif'> asarray failed to reshape (172, 1024, 1024) to (8, 10, 2, 1024, 1024)\n",
      "compiling_files:  26%|██▌       | 22/84 [09:44<27:27, 26.58s/it]<tifffile.TiffFile '211021_brain3.2…P35.45_00023.tif'> asarray failed to reshape (172, 1024, 1024) to (8, 10, 2, 1024, 1024)\n",
      "compiling_files:  27%|██▋       | 23/84 [10:11<26:59, 26.56s/it]<tifffile.TiffFile '211021_brain3.2…P35.45_00024.tif'> asarray failed to reshape (172, 1024, 1024) to (8, 10, 2, 1024, 1024)\n",
      "compiling_files:  29%|██▊       | 24/84 [10:37<26:33, 26.56s/it]<tifffile.TiffFile '211021_brain3.2…P35.45_00025.tif'> asarray failed to reshape (172, 1024, 1024) to (8, 10, 2, 1024, 1024)\n",
      "compiling_files:  30%|██▉       | 25/84 [11:04<26:06, 26.55s/it]<tifffile.TiffFile '211021_brain3.2…P35.45_00026.tif'> asarray failed to reshape (172, 1024, 1024) to (8, 10, 2, 1024, 1024)\n",
      "compiling_files:  31%|███       | 26/84 [11:30<25:38, 26.53s/it]<tifffile.TiffFile '211021_brain3.2…P35.45_00027.tif'> asarray failed to reshape (172, 1024, 1024) to (8, 10, 2, 1024, 1024)\n",
      "compiling_files:  32%|███▏      | 27/84 [11:57<25:12, 26.53s/it]<tifffile.TiffFile '211021_brain3.2…P35.45_00028.tif'> asarray failed to reshape (172, 1024, 1024) to (8, 10, 2, 1024, 1024)\n",
      "compiling_files:  33%|███▎      | 28/84 [12:24<24:46, 26.54s/it]<tifffile.TiffFile '211021_brain3.2…P35.45_00029.tif'> asarray failed to reshape (172, 1024, 1024) to (8, 10, 2, 1024, 1024)\n",
      "compiling_files:  35%|███▍      | 29/84 [12:50<24:19, 26.54s/it]<tifffile.TiffFile '211021_brain3.2…P35.45_00030.tif'> asarray failed to reshape (172, 1024, 1024) to (8, 10, 2, 1024, 1024)\n",
      "compiling_files:  36%|███▌      | 30/84 [13:17<23:51, 26.52s/it]<tifffile.TiffFile '211021_brain3.2…P35.45_00031.tif'> asarray failed to reshape (172, 1024, 1024) to (8, 10, 2, 1024, 1024)\n",
      "compiling_files:  37%|███▋      | 31/84 [13:43<23:26, 26.53s/it]<tifffile.TiffFile '211021_brain3.2…P35.45_00032.tif'> asarray failed to reshape (172, 1024, 1024) to (8, 10, 2, 1024, 1024)\n",
      "compiling_files:  38%|███▊      | 32/84 [14:10<23:00, 26.54s/it]<tifffile.TiffFile '211021_brain3.2…P35.45_00033.tif'> asarray failed to reshape (172, 1024, 1024) to (8, 10, 2, 1024, 1024)\n",
      "compiling_files:  39%|███▉      | 33/84 [14:36<22:34, 26.55s/it]<tifffile.TiffFile '211021_brain3.2…P35.45_00034.tif'> asarray failed to reshape (172, 1024, 1024) to (8, 10, 2, 1024, 1024)\n",
      "compiling_files:  40%|████      | 34/84 [15:03<22:07, 26.55s/it]<tifffile.TiffFile '211021_brain3.2…P35.45_00035.tif'> asarray failed to reshape (172, 1024, 1024) to (8, 10, 2, 1024, 1024)\n",
      "compiling_files:  42%|████▏     | 35/84 [15:29<21:41, 26.56s/it]<tifffile.TiffFile '211021_brain3.2…P35.45_00036.tif'> asarray failed to reshape (172, 1024, 1024) to (8, 10, 2, 1024, 1024)\n",
      "compiling_files:  43%|████▎     | 36/84 [15:56<21:13, 26.54s/it]<tifffile.TiffFile '211021_brain3.2…P35.45_00037.tif'> asarray failed to reshape (172, 1024, 1024) to (8, 10, 2, 1024, 1024)\n",
      "compiling_files:  44%|████▍     | 37/84 [16:22<20:46, 26.53s/it]<tifffile.TiffFile '211021_brain3.2…P35.45_00038.tif'> asarray failed to reshape (172, 1024, 1024) to (8, 10, 2, 1024, 1024)\n",
      "compiling_files:  45%|████▌     | 38/84 [16:49<20:19, 26.52s/it]<tifffile.TiffFile '211021_brain3.2…P35.45_00039.tif'> asarray failed to reshape (172, 1024, 1024) to (8, 10, 2, 1024, 1024)\n",
      "compiling_files:  46%|████▋     | 39/84 [17:15<19:52, 26.51s/it]<tifffile.TiffFile '211021_brain3.2…P35.45_00040.tif'> asarray failed to reshape (172, 1024, 1024) to (8, 10, 2, 1024, 1024)\n",
      "compiling_files:  48%|████▊     | 40/84 [17:42<19:26, 26.50s/it]<tifffile.TiffFile '211021_brain3.2…P35.45_00041.tif'> asarray failed to reshape (172, 1024, 1024) to (8, 10, 2, 1024, 1024)\n",
      "compiling_files:  49%|████▉     | 41/84 [18:08<18:59, 26.49s/it]<tifffile.TiffFile '211021_brain3.2…P35.45_00042.tif'> asarray failed to reshape (172, 1024, 1024) to (8, 10, 2, 1024, 1024)\n",
      "compiling_files:  50%|█████     | 42/84 [18:35<18:33, 26.50s/it]<tifffile.TiffFile '211021_brain3.2…P35.45_00043.tif'> asarray failed to reshape (172, 1024, 1024) to (8, 10, 2, 1024, 1024)\n",
      "compiling_files:  51%|█████     | 43/84 [19:01<18:06, 26.50s/it]<tifffile.TiffFile '211021_brain3.2…P35.45_00044.tif'> asarray failed to reshape (172, 1024, 1024) to (8, 10, 2, 1024, 1024)\n",
      "compiling_files:  52%|█████▏    | 44/84 [19:28<17:40, 26.50s/it]<tifffile.TiffFile '211021_brain3.2…P35.45_00045.tif'> asarray failed to reshape (172, 1024, 1024) to (8, 10, 2, 1024, 1024)\n",
      "compiling_files:  54%|█████▎    | 45/84 [19:54<17:13, 26.49s/it]<tifffile.TiffFile '211021_brain3.2…P35.45_00046.tif'> asarray failed to reshape (172, 1024, 1024) to (8, 10, 2, 1024, 1024)\n",
      "compiling_files:  55%|█████▍    | 46/84 [20:21<16:46, 26.49s/it]<tifffile.TiffFile '211021_brain3.2…P35.45_00047.tif'> asarray failed to reshape (172, 1024, 1024) to (8, 10, 2, 1024, 1024)\n",
      "compiling_files:  56%|█████▌    | 47/84 [20:47<16:20, 26.49s/it]<tifffile.TiffFile '211021_brain3.2…P35.45_00048.tif'> asarray failed to reshape (172, 1024, 1024) to (8, 10, 2, 1024, 1024)\n",
      "compiling_files:  57%|█████▋    | 48/84 [21:14<15:53, 26.48s/it]<tifffile.TiffFile '211021_brain3.2…P35.45_00049.tif'> asarray failed to reshape (172, 1024, 1024) to (8, 10, 2, 1024, 1024)\n",
      "compiling_files:  58%|█████▊    | 49/84 [21:40<15:26, 26.48s/it]<tifffile.TiffFile '211021_brain3.2…P35.45_00050.tif'> asarray failed to reshape (172, 1024, 1024) to (8, 10, 2, 1024, 1024)\n",
      "compiling_files:  60%|█████▉    | 50/84 [22:07<15:00, 26.48s/it]<tifffile.TiffFile '211021_brain3.2…P35.45_00051.tif'> asarray failed to reshape (172, 1024, 1024) to (8, 10, 2, 1024, 1024)\n",
      "compiling_files:  61%|██████    | 51/84 [22:33<14:33, 26.48s/it]<tifffile.TiffFile '211021_brain3.2…P35.45_00052.tif'> asarray failed to reshape (172, 1024, 1024) to (8, 10, 2, 1024, 1024)\n",
      "compiling_files:  62%|██████▏   | 52/84 [23:00<14:07, 26.49s/it]<tifffile.TiffFile '211021_brain3.2…P35.45_00053.tif'> asarray failed to reshape (172, 1024, 1024) to (8, 10, 2, 1024, 1024)\n",
      "compiling_files:  63%|██████▎   | 53/84 [23:26<13:41, 26.49s/it]<tifffile.TiffFile '211021_brain3.2…P35.45_00054.tif'> asarray failed to reshape (172, 1024, 1024) to (8, 10, 2, 1024, 1024)\n",
      "compiling_files:  64%|██████▍   | 54/84 [23:53<13:14, 26.49s/it]<tifffile.TiffFile '211021_brain3.2…P35.45_00055.tif'> asarray failed to reshape (172, 1024, 1024) to (8, 10, 2, 1024, 1024)\n",
      "compiling_files:  65%|██████▌   | 55/84 [24:19<12:48, 26.49s/it]<tifffile.TiffFile '211021_brain3.2…P35.45_00056.tif'> asarray failed to reshape (172, 1024, 1024) to (8, 10, 2, 1024, 1024)\n",
      "compiling_files:  67%|██████▋   | 56/84 [24:46<12:21, 26.49s/it]<tifffile.TiffFile '211021_brain3.2…P35.45_00057.tif'> asarray failed to reshape (172, 1024, 1024) to (8, 10, 2, 1024, 1024)\n",
      "compiling_files:  68%|██████▊   | 57/84 [25:12<11:55, 26.48s/it]<tifffile.TiffFile '211021_brain3.2…P35.45_00058.tif'> asarray failed to reshape (172, 1024, 1024) to (8, 10, 2, 1024, 1024)\n",
      "compiling_files:  69%|██████▉   | 58/84 [25:39<11:28, 26.49s/it]<tifffile.TiffFile '211021_brain3.2…P35.45_00059.tif'> asarray failed to reshape (172, 1024, 1024) to (8, 10, 2, 1024, 1024)\n",
      "compiling_files:  70%|███████   | 59/84 [26:05<11:02, 26.51s/it]<tifffile.TiffFile '211021_brain3.2…P35.45_00060.tif'> asarray failed to reshape (172, 1024, 1024) to (8, 10, 2, 1024, 1024)\n",
      "compiling_files:  71%|███████▏  | 60/84 [26:32<10:36, 26.53s/it]<tifffile.TiffFile '211021_brain3.2…P35.45_00061.tif'> asarray failed to reshape (172, 1024, 1024) to (8, 10, 2, 1024, 1024)\n",
      "compiling_files:  73%|███████▎  | 61/84 [26:58<10:10, 26.53s/it]<tifffile.TiffFile '211021_brain3.2…P35.45_00062.tif'> asarray failed to reshape (172, 1024, 1024) to (8, 10, 2, 1024, 1024)\n",
      "compiling_files:  74%|███████▍  | 62/84 [27:25<09:43, 26.54s/it]<tifffile.TiffFile '211021_brain3.2…P35.45_00063.tif'> asarray failed to reshape (172, 1024, 1024) to (8, 10, 2, 1024, 1024)\n",
      "compiling_files:  75%|███████▌  | 63/84 [27:51<09:17, 26.54s/it]<tifffile.TiffFile '211021_brain3.2…P35.45_00064.tif'> asarray failed to reshape (172, 1024, 1024) to (8, 10, 2, 1024, 1024)\n",
      "compiling_files:  76%|███████▌  | 64/84 [28:18<08:50, 26.54s/it]<tifffile.TiffFile '211021_brain3.2…P35.45_00065.tif'> asarray failed to reshape (172, 1024, 1024) to (8, 10, 2, 1024, 1024)\n",
      "compiling_files:  77%|███████▋  | 65/84 [28:44<08:24, 26.55s/it]<tifffile.TiffFile '211021_brain3.2…P35.45_00066.tif'> asarray failed to reshape (172, 1024, 1024) to (8, 10, 2, 1024, 1024)\n",
      "compiling_files:  79%|███████▊  | 66/84 [29:11<07:57, 26.54s/it]<tifffile.TiffFile '211021_brain3.2…P35.45_00067.tif'> asarray failed to reshape (172, 1024, 1024) to (8, 10, 2, 1024, 1024)\n",
      "compiling_files:  80%|███████▉  | 67/84 [29:38<07:31, 26.55s/it]<tifffile.TiffFile '211021_brain3.2…P35.45_00068.tif'> asarray failed to reshape (172, 1024, 1024) to (8, 10, 2, 1024, 1024)\n",
      "compiling_files:  81%|████████  | 68/84 [30:04<07:04, 26.55s/it]<tifffile.TiffFile '211021_brain3.2…P35.45_00069.tif'> asarray failed to reshape (172, 1024, 1024) to (8, 10, 2, 1024, 1024)\n",
      "compiling_files:  82%|████████▏ | 69/84 [30:31<06:37, 26.53s/it]<tifffile.TiffFile '211021_brain3.2…P35.45_00070.tif'> asarray failed to reshape (172, 1024, 1024) to (8, 10, 2, 1024, 1024)\n",
      "compiling_files:  83%|████████▎ | 70/84 [30:57<06:11, 26.53s/it]<tifffile.TiffFile '211021_brain3.2…P35.45_00071.tif'> asarray failed to reshape (172, 1024, 1024) to (8, 10, 2, 1024, 1024)\n",
      "compiling_files:  85%|████████▍ | 71/84 [31:24<05:44, 26.54s/it]<tifffile.TiffFile '211021_brain3.2…P35.45_00072.tif'> asarray failed to reshape (172, 1024, 1024) to (8, 10, 2, 1024, 1024)\n",
      "compiling_files:  86%|████████▌ | 72/84 [31:50<05:18, 26.54s/it]<tifffile.TiffFile '211021_brain3.2…P35.45_00073.tif'> asarray failed to reshape (172, 1024, 1024) to (8, 10, 2, 1024, 1024)\n",
      "compiling_files:  87%|████████▋ | 73/84 [32:17<04:52, 26.55s/it]<tifffile.TiffFile '211021_brain3.2…P35.45_00074.tif'> asarray failed to reshape (172, 1024, 1024) to (8, 10, 2, 1024, 1024)\n",
      "compiling_files:  88%|████████▊ | 74/84 [32:43<04:25, 26.55s/it]<tifffile.TiffFile '211021_brain3.2…P35.45_00075.tif'> asarray failed to reshape (172, 1024, 1024) to (8, 10, 2, 1024, 1024)\n",
      "compiling_files:  89%|████████▉ | 75/84 [33:10<03:58, 26.54s/it]<tifffile.TiffFile '211021_brain3.2…P35.45_00076.tif'> asarray failed to reshape (172, 1024, 1024) to (8, 10, 2, 1024, 1024)\n",
      "compiling_files:  90%|█████████ | 76/84 [33:36<03:32, 26.53s/it]<tifffile.TiffFile '211021_brain3.2…P35.45_00077.tif'> asarray failed to reshape (172, 1024, 1024) to (8, 10, 2, 1024, 1024)\n",
      "compiling_files:  92%|█████████▏| 77/84 [34:03<03:05, 26.53s/it]<tifffile.TiffFile '211021_brain3.2…P35.45_00078.tif'> asarray failed to reshape (172, 1024, 1024) to (8, 10, 2, 1024, 1024)\n",
      "compiling_files:  93%|█████████▎| 78/84 [34:29<02:39, 26.53s/it]<tifffile.TiffFile '211021_brain3.2…P35.45_00079.tif'> asarray failed to reshape (172, 1024, 1024) to (8, 10, 2, 1024, 1024)\n",
      "compiling_files:  94%|█████████▍| 79/84 [34:56<02:12, 26.53s/it]<tifffile.TiffFile '211021_brain3.2…P35.45_00080.tif'> asarray failed to reshape (172, 1024, 1024) to (8, 10, 2, 1024, 1024)\n",
      "compiling_files:  95%|█████████▌| 80/84 [35:22<01:46, 26.53s/it]<tifffile.TiffFile '211021_brain3.2…P35.45_00081.tif'> asarray failed to reshape (172, 1024, 1024) to (8, 10, 2, 1024, 1024)\n",
      "compiling_files:  96%|█████████▋| 81/84 [35:49<01:19, 26.54s/it]<tifffile.TiffFile '211021_brain3.2…P35.45_00082.tif'> asarray failed to reshape (172, 1024, 1024) to (8, 10, 2, 1024, 1024)\n",
      "compiling_files:  98%|█████████▊| 82/84 [36:15<00:53, 26.50s/it]<tifffile.TiffFile '211021_brain3.2…P35.45_00083.tif'> asarray failed to reshape (172, 1024, 1024) to (8, 10, 2, 1024, 1024)\n",
      "compiling_files:  99%|█████████▉| 83/84 [36:42<00:26, 26.52s/it]<tifffile.TiffFile '211021_brain3.2…P35.45_00084.tif'> asarray failed to reshape (172, 1024, 1024) to (8, 10, 2, 1024, 1024)\n",
      "                                                                \r"
     ]
    },
    {
     "name": "stdout",
     "output_type": "stream",
     "text": [
      "dict_keys(['GFP', 'red']) <class 'list'> 84\n",
      "compiling the GFP channel\n",
      "compiling the red channel\n",
      "files_to_4D runtime 2255.315279844217\n"
     ]
    },
    {
     "name": "stderr",
     "output_type": "stream",
     "text": [
      "                                                                         \r"
     ]
    },
    {
     "name": "stdout",
     "output_type": "stream",
     "text": [
      "first 5 files\n",
      "['/home/tli_project/Desktop/Data/T4/stage1/211021/211021_analysis/GFP_SyNRA_211021_brain3.2_LP40_P35.45_001.tif', '/home/tli_project/Desktop/Data/T4/stage1/211021/211021_analysis/GFP_SyNRA_211021_brain3.2_LP40_P35.45_002.tif', '/home/tli_project/Desktop/Data/T4/stage1/211021/211021_analysis/GFP_SyNRA_211021_brain3.2_LP40_P35.45_003.tif', '/home/tli_project/Desktop/Data/T4/stage1/211021/211021_analysis/GFP_SyNRA_211021_brain3.2_LP40_P35.45_004.tif', '/home/tli_project/Desktop/Data/T4/stage1/211021/211021_analysis/GFP_SyNRA_211021_brain3.2_LP40_P35.45_005.tif']\n"
     ]
    },
    {
     "name": "stderr",
     "output_type": "stream",
     "text": [
      "                                                                \r"
     ]
    },
    {
     "name": "stdout",
     "output_type": "stream",
     "text": [
      "dict_keys(['GFP']) <class 'list'> 84\n",
      "compiling the GFP channel\n"
     ]
    },
    {
     "name": "stderr",
     "output_type": "stream",
     "text": [
      "/home/tli_project/.local/lib/python3.8/site-packages/tifffile/tifffile.py:2876: UserWarning:\n",
      "\n",
      "<tifffile.TiffWriter '4D_GFP_GFP_SyNRA…LP40_P35.45.tif'> truncating ImageJ file\n",
      "\n"
     ]
    },
    {
     "name": "stdout",
     "output_type": "stream",
     "text": [
      "files_to_4D runtime 47.11444574361667\n"
     ]
    },
    {
     "name": "stderr",
     "output_type": "stream",
     "text": [
      "                                                                         \r"
     ]
    },
    {
     "name": "stdout",
     "output_type": "stream",
     "text": [
      "first 5 files\n",
      "['/home/tli_project/Desktop/Data/T4/stage1/211021/211021_analysis/red_SyNRA_211021_brain3.2_LP40_P35.45_001.tif', '/home/tli_project/Desktop/Data/T4/stage1/211021/211021_analysis/red_SyNRA_211021_brain3.2_LP40_P35.45_002.tif', '/home/tli_project/Desktop/Data/T4/stage1/211021/211021_analysis/red_SyNRA_211021_brain3.2_LP40_P35.45_003.tif', '/home/tli_project/Desktop/Data/T4/stage1/211021/211021_analysis/red_SyNRA_211021_brain3.2_LP40_P35.45_004.tif', '/home/tli_project/Desktop/Data/T4/stage1/211021/211021_analysis/red_SyNRA_211021_brain3.2_LP40_P35.45_005.tif']\n"
     ]
    },
    {
     "name": "stderr",
     "output_type": "stream",
     "text": [
      "                                                                \r"
     ]
    },
    {
     "name": "stdout",
     "output_type": "stream",
     "text": [
      "dict_keys(['red']) <class 'list'> 84\n",
      "compiling the red channel\n"
     ]
    },
    {
     "name": "stderr",
     "output_type": "stream",
     "text": [
      "/home/tli_project/.local/lib/python3.8/site-packages/tifffile/tifffile.py:2876: UserWarning:\n",
      "\n",
      "<tifffile.TiffWriter '4D_red_red_SyNRA…LP40_P35.45.tif'> truncating ImageJ file\n",
      "\n"
     ]
    },
    {
     "name": "stdout",
     "output_type": "stream",
     "text": [
      "files_to_4D runtime 67.35001410031691\n",
      "211021_brain3.2_LP40_P35.45  is done, and it took 25147.279528775252\n"
     ]
    }
   ],
   "source": [
    "start_time = timer()\n",
    "# reading list of 3D images into dictionary of channels as indicated in ch_names, and applying median filter on the last ch\n",
    "image_4D = datautils.read_files(path_to_data, group_by ,compile=compile, ch_names=ch_names,\n",
    "                                order=False, save=False, save_path=save_path, save_file=group_by, \n",
    "                                xy_pixel=0.076, z_pixel=0.4)\n",
    "\n",
    "pre_checks = datautils.similarity_4D(image_4D[ch_names[0]], save=True, save_path=save_path, save_file='pre_checks.csv')\n",
    "\n",
    "# running antspy, saving output into temp 3D files, and then compiling them to 4D and finally deleting the temp 3D files\n",
    "# name_shifts = method+csv_name\n",
    "registration.antspy_drift_corr(img_4D_g=image_4D[ch_names[0]],\n",
    "                                img_4D_r=image_4D[ch_names[1]], \n",
    "                                ch_names=ch_names,\n",
    "                                save_path=save_path, \n",
    "                                save_name=save_name,\n",
    "                                ref_t = int(len(image_4D[ch_names[0]])/2),\n",
    "                                drift_corr=method, metric=metric)\n",
    "\n",
    "del image_4D\n",
    "\n",
    "# compiling the registered 3D images into 4D and deleting the temp files for both channels \n",
    "gfp_name = ch_names[0]+'_'+method+'_'+group_by\n",
    "gfp_list = datautils.get_file_names(path=save_path, group_by=gfp_name, \n",
    "                                    order=False, nested_files=False, criteria='tif')\n",
    "gfp_4D = datautils.files_to_4D(files_list=gfp_list, ch_names=[ch_names[0]], filter=False, \n",
    "                                save=True, save_path=save_path, save_file=gfp_name,\n",
    "                                xy_pixel=0.0764616, z_pixel=0.4)\n",
    "for file in gfp_list:\n",
    "    os.remove(file)\n",
    "\n",
    "# measuring the cosine_similarity check of GFP channel after registration\n",
    "post_checks = datautils.similarity_4D(gfp_4D[ch_names[0]], save=True, \n",
    "                                        save_path=save_path, \n",
    "                                        save_file=method+'_checks.csv')\n",
    "\n",
    "red_name = ch_names[1]+'_'+method+'_'+group_by\n",
    "red_list = datautils.get_file_names(path=save_path, group_by=red_name, \n",
    "                                    order=False, nested_files=False, criteria='tif')\n",
    "red_4D = datautils.files_to_4D(files_list=red_list, ch_names=[ch_names[1]], filter=False,\n",
    "                                save=True, save_path=save_path, save_file=red_name,\n",
    "                                xy_pixel=0.0764616, z_pixel=0.4)\n",
    "for file in red_list:\n",
    "    os.remove(file)\n",
    "\n",
    "# deleting the final compiled 4D images\n",
    "del gfp_4D, red_4D \n",
    "\n",
    "print(group_by, ' is done, and it took', timer()-start_time) "
   ]
  },
  {
   "cell_type": "code",
   "execution_count": 9,
   "metadata": {},
   "outputs": [],
   "source": [
    "method = 'SyNRA'\n",
    "save_path = '/home/tli_project/Desktop/Data/T4/stage1/211022/211022_analysis/'\n",
    "path_to_data = '/home/tli_project/Desktop/Data/T4/stage1/211022/211022'\n",
    "group_by = '211021_brain3.2_LP40_P37.30'\n",
    "ch_names = ['GFP', 'red']\n",
    "save_name = '211022_brain3.2_LP40_P37.30'\n",
    "compile = True\n",
    "metric = 'mattes'\n",
    "\n",
    "if save_path[-1] != '/':\n",
    "    save_path += '/'"
   ]
  },
  {
   "cell_type": "code",
   "execution_count": 10,
   "metadata": {},
   "outputs": [
    {
     "name": "stdout",
     "output_type": "stream",
     "text": [
      "first 5 files\n",
      "['/home/tli_project/Desktop/Data/T4/stage1/211022/211022/211021_brain3.2_LP40_P37.30_00001.tif', '/home/tli_project/Desktop/Data/T4/stage1/211022/211022/211021_brain3.2_LP40_P37.30_00002.tif', '/home/tli_project/Desktop/Data/T4/stage1/211022/211022/211021_brain3.2_LP40_P37.30_00003.tif', '/home/tli_project/Desktop/Data/T4/stage1/211022/211022/211021_brain3.2_LP40_P37.30_00004.tif', '/home/tli_project/Desktop/Data/T4/stage1/211022/211022/211021_brain3.2_LP40_P37.30_00005.tif']\n"
     ]
    },
    {
     "name": "stderr",
     "output_type": "stream",
     "text": [
      "compiling_files:   0%|          | 0/85 [00:00<?, ?it/s]<tifffile.TiffFile '211021_brain3.2…P37.30_00001.tif'> asarray failed to reshape (172, 1024, 1024) to (8, 10, 2, 1024, 1024)\n",
      "compiling_files:   1%|          | 1/85 [00:26<37:17, 26.64s/it]<tifffile.TiffFile '211021_brain3.2…P37.30_00002.tif'> asarray failed to reshape (172, 1024, 1024) to (8, 10, 2, 1024, 1024)\n",
      "compiling_files:   2%|▏         | 2/85 [00:53<36:49, 26.62s/it]<tifffile.TiffFile '211021_brain3.2…P37.30_00003.tif'> asarray failed to reshape (172, 1024, 1024) to (8, 10, 2, 1024, 1024)\n",
      "compiling_files:   4%|▎         | 3/85 [01:19<36:25, 26.65s/it]<tifffile.TiffFile '211021_brain3.2…P37.30_00004.tif'> asarray failed to reshape (172, 1024, 1024) to (8, 10, 2, 1024, 1024)\n",
      "compiling_files:   5%|▍         | 4/85 [01:46<35:57, 26.63s/it]<tifffile.TiffFile '211021_brain3.2…P37.30_00005.tif'> asarray failed to reshape (172, 1024, 1024) to (8, 10, 2, 1024, 1024)\n",
      "compiling_files:   6%|▌         | 5/85 [02:13<35:33, 26.67s/it]<tifffile.TiffFile '211021_brain3.2…P37.30_00006.tif'> asarray failed to reshape (172, 1024, 1024) to (8, 10, 2, 1024, 1024)\n",
      "compiling_files:   7%|▋         | 6/85 [02:39<35:06, 26.67s/it]<tifffile.TiffFile '211021_brain3.2…P37.30_00007.tif'> asarray failed to reshape (172, 1024, 1024) to (8, 10, 2, 1024, 1024)\n",
      "compiling_files:   8%|▊         | 7/85 [03:06<34:39, 26.66s/it]<tifffile.TiffFile '211021_brain3.2…P37.30_00008.tif'> asarray failed to reshape (172, 1024, 1024) to (8, 10, 2, 1024, 1024)\n",
      "compiling_files:   9%|▉         | 8/85 [03:33<34:12, 26.66s/it]<tifffile.TiffFile '211021_brain3.2…P37.30_00009.tif'> asarray failed to reshape (172, 1024, 1024) to (8, 10, 2, 1024, 1024)\n",
      "compiling_files:  11%|█         | 9/85 [03:59<33:45, 26.65s/it]<tifffile.TiffFile '211021_brain3.2…P37.30_00010.tif'> asarray failed to reshape (172, 1024, 1024) to (8, 10, 2, 1024, 1024)\n",
      "compiling_files:  12%|█▏        | 10/85 [04:26<33:18, 26.64s/it]<tifffile.TiffFile '211021_brain3.2…P37.30_00011.tif'> asarray failed to reshape (172, 1024, 1024) to (8, 10, 2, 1024, 1024)\n",
      "compiling_files:  13%|█▎        | 11/85 [04:53<32:50, 26.64s/it]<tifffile.TiffFile '211021_brain3.2…P37.30_00012.tif'> asarray failed to reshape (172, 1024, 1024) to (8, 10, 2, 1024, 1024)\n",
      "compiling_files:  14%|█▍        | 12/85 [05:19<32:23, 26.63s/it]<tifffile.TiffFile '211021_brain3.2…P37.30_00013.tif'> asarray failed to reshape (172, 1024, 1024) to (8, 10, 2, 1024, 1024)\n",
      "compiling_files:  15%|█▌        | 13/85 [05:46<31:56, 26.62s/it]<tifffile.TiffFile '211021_brain3.2…P37.30_00014.tif'> asarray failed to reshape (172, 1024, 1024) to (8, 10, 2, 1024, 1024)\n",
      "compiling_files:  16%|█▋        | 14/85 [06:12<31:30, 26.62s/it]<tifffile.TiffFile '211021_brain3.2…P37.30_00015.tif'> asarray failed to reshape (172, 1024, 1024) to (8, 10, 2, 1024, 1024)\n",
      "compiling_files:  18%|█▊        | 15/85 [06:39<31:01, 26.60s/it]<tifffile.TiffFile '211021_brain3.2…P37.30_00016.tif'> asarray failed to reshape (172, 1024, 1024) to (8, 10, 2, 1024, 1024)\n",
      "compiling_files:  19%|█▉        | 16/85 [07:06<30:34, 26.59s/it]<tifffile.TiffFile '211021_brain3.2…P37.30_00017.tif'> asarray failed to reshape (172, 1024, 1024) to (8, 10, 2, 1024, 1024)\n",
      "compiling_files:  20%|██        | 17/85 [07:32<30:07, 26.59s/it]<tifffile.TiffFile '211021_brain3.2…P37.30_00018.tif'> asarray failed to reshape (172, 1024, 1024) to (8, 10, 2, 1024, 1024)\n",
      "compiling_files:  21%|██        | 18/85 [07:59<29:41, 26.58s/it]<tifffile.TiffFile '211021_brain3.2…P37.30_00019.tif'> asarray failed to reshape (172, 1024, 1024) to (8, 10, 2, 1024, 1024)\n",
      "compiling_files:  22%|██▏       | 19/85 [08:25<29:14, 26.59s/it]<tifffile.TiffFile '211021_brain3.2…P37.30_00020.tif'> asarray failed to reshape (172, 1024, 1024) to (8, 10, 2, 1024, 1024)\n",
      "compiling_files:  24%|██▎       | 20/85 [08:52<28:47, 26.58s/it]<tifffile.TiffFile '211021_brain3.2…P37.30_00021.tif'> asarray failed to reshape (172, 1024, 1024) to (8, 10, 2, 1024, 1024)\n",
      "compiling_files:  25%|██▍       | 21/85 [09:18<28:21, 26.58s/it]<tifffile.TiffFile '211021_brain3.2…P37.30_00022.tif'> asarray failed to reshape (172, 1024, 1024) to (8, 10, 2, 1024, 1024)\n",
      "compiling_files:  26%|██▌       | 22/85 [09:45<27:54, 26.58s/it]<tifffile.TiffFile '211021_brain3.2…P37.30_00023.tif'> asarray failed to reshape (172, 1024, 1024) to (8, 10, 2, 1024, 1024)\n",
      "compiling_files:  27%|██▋       | 23/85 [10:12<27:30, 26.62s/it]<tifffile.TiffFile '211021_brain3.2…P37.30_00024.tif'> asarray failed to reshape (172, 1024, 1024) to (8, 10, 2, 1024, 1024)\n",
      "compiling_files:  28%|██▊       | 24/85 [10:38<27:03, 26.62s/it]<tifffile.TiffFile '211021_brain3.2…P37.30_00025.tif'> asarray failed to reshape (172, 1024, 1024) to (8, 10, 2, 1024, 1024)\n",
      "compiling_files:  29%|██▉       | 25/85 [11:05<26:36, 26.61s/it]<tifffile.TiffFile '211021_brain3.2…P37.30_00026.tif'> asarray failed to reshape (172, 1024, 1024) to (8, 10, 2, 1024, 1024)\n",
      "compiling_files:  31%|███       | 26/85 [11:31<26:08, 26.58s/it]<tifffile.TiffFile '211021_brain3.2…P37.30_00027.tif'> asarray failed to reshape (172, 1024, 1024) to (8, 10, 2, 1024, 1024)\n",
      "compiling_files:  32%|███▏      | 27/85 [11:58<25:41, 26.58s/it]<tifffile.TiffFile '211021_brain3.2…P37.30_00028.tif'> asarray failed to reshape (172, 1024, 1024) to (8, 10, 2, 1024, 1024)\n",
      "compiling_files:  33%|███▎      | 28/85 [12:25<25:14, 26.57s/it]<tifffile.TiffFile '211021_brain3.2…P37.30_00029.tif'> asarray failed to reshape (172, 1024, 1024) to (8, 10, 2, 1024, 1024)\n",
      "compiling_files:  34%|███▍      | 29/85 [12:51<24:47, 26.56s/it]<tifffile.TiffFile '211021_brain3.2…P37.30_00030.tif'> asarray failed to reshape (172, 1024, 1024) to (8, 10, 2, 1024, 1024)\n",
      "compiling_files:  35%|███▌      | 30/85 [13:18<24:21, 26.57s/it]<tifffile.TiffFile '211021_brain3.2…P37.30_00031.tif'> asarray failed to reshape (172, 1024, 1024) to (8, 10, 2, 1024, 1024)\n",
      "compiling_files:  36%|███▋      | 31/85 [13:44<23:55, 26.58s/it]<tifffile.TiffFile '211021_brain3.2…P37.30_00032.tif'> asarray failed to reshape (172, 1024, 1024) to (8, 10, 2, 1024, 1024)\n",
      "compiling_files:  38%|███▊      | 32/85 [14:11<23:28, 26.57s/it]<tifffile.TiffFile '211021_brain3.2…P37.30_00033.tif'> asarray failed to reshape (172, 1024, 1024) to (8, 10, 2, 1024, 1024)\n",
      "compiling_files:  39%|███▉      | 33/85 [14:37<23:01, 26.56s/it]<tifffile.TiffFile '211021_brain3.2…P37.30_00034.tif'> asarray failed to reshape (172, 1024, 1024) to (8, 10, 2, 1024, 1024)\n",
      "compiling_files:  40%|████      | 34/85 [15:04<22:34, 26.56s/it]<tifffile.TiffFile '211021_brain3.2…P37.30_00035.tif'> asarray failed to reshape (172, 1024, 1024) to (8, 10, 2, 1024, 1024)\n",
      "compiling_files:  41%|████      | 35/85 [15:31<22:08, 26.57s/it]<tifffile.TiffFile '211021_brain3.2…P37.30_00036.tif'> asarray failed to reshape (172, 1024, 1024) to (8, 10, 2, 1024, 1024)\n",
      "compiling_files:  42%|████▏     | 36/85 [15:57<21:41, 26.56s/it]<tifffile.TiffFile '211021_brain3.2…P37.30_00037.tif'> asarray failed to reshape (172, 1024, 1024) to (8, 10, 2, 1024, 1024)\n",
      "compiling_files:  44%|████▎     | 37/85 [16:24<21:15, 26.57s/it]<tifffile.TiffFile '211021_brain3.2…P37.30_00038.tif'> asarray failed to reshape (172, 1024, 1024) to (8, 10, 2, 1024, 1024)\n",
      "compiling_files:  45%|████▍     | 38/85 [16:50<20:48, 26.57s/it]<tifffile.TiffFile '211021_brain3.2…P37.30_00039.tif'> asarray failed to reshape (172, 1024, 1024) to (8, 10, 2, 1024, 1024)\n",
      "compiling_files:  46%|████▌     | 39/85 [17:17<20:22, 26.57s/it]<tifffile.TiffFile '211021_brain3.2…P37.30_00040.tif'> asarray failed to reshape (172, 1024, 1024) to (8, 10, 2, 1024, 1024)\n",
      "compiling_files:  47%|████▋     | 40/85 [17:43<19:55, 26.56s/it]<tifffile.TiffFile '211021_brain3.2…P37.30_00041.tif'> asarray failed to reshape (172, 1024, 1024) to (8, 10, 2, 1024, 1024)\n",
      "compiling_files:  48%|████▊     | 41/85 [18:10<19:28, 26.56s/it]<tifffile.TiffFile '211021_brain3.2…P37.30_00042.tif'> asarray failed to reshape (172, 1024, 1024) to (8, 10, 2, 1024, 1024)\n",
      "compiling_files:  49%|████▉     | 42/85 [18:36<19:02, 26.57s/it]<tifffile.TiffFile '211021_brain3.2…P37.30_00043.tif'> asarray failed to reshape (172, 1024, 1024) to (8, 10, 2, 1024, 1024)\n",
      "compiling_files:  51%|█████     | 43/85 [19:03<18:35, 26.57s/it]<tifffile.TiffFile '211021_brain3.2…P37.30_00044.tif'> asarray failed to reshape (172, 1024, 1024) to (8, 10, 2, 1024, 1024)\n",
      "compiling_files:  52%|█████▏    | 44/85 [19:30<18:09, 26.58s/it]<tifffile.TiffFile '211021_brain3.2…P37.30_00045.tif'> asarray failed to reshape (172, 1024, 1024) to (8, 10, 2, 1024, 1024)\n",
      "compiling_files:  53%|█████▎    | 45/85 [19:56<17:43, 26.58s/it]<tifffile.TiffFile '211021_brain3.2…P37.30_00046.tif'> asarray failed to reshape (172, 1024, 1024) to (8, 10, 2, 1024, 1024)\n",
      "compiling_files:  54%|█████▍    | 46/85 [20:23<17:16, 26.58s/it]<tifffile.TiffFile '211021_brain3.2…P37.30_00047.tif'> asarray failed to reshape (172, 1024, 1024) to (8, 10, 2, 1024, 1024)\n",
      "compiling_files:  55%|█████▌    | 47/85 [20:49<16:49, 26.56s/it]<tifffile.TiffFile '211021_brain3.2…P37.30_00048.tif'> asarray failed to reshape (172, 1024, 1024) to (8, 10, 2, 1024, 1024)\n",
      "compiling_files:  56%|█████▋    | 48/85 [21:16<16:22, 26.55s/it]<tifffile.TiffFile '211021_brain3.2…P37.30_00049.tif'> asarray failed to reshape (172, 1024, 1024) to (8, 10, 2, 1024, 1024)\n",
      "compiling_files:  58%|█████▊    | 49/85 [21:42<15:55, 26.55s/it]<tifffile.TiffFile '211021_brain3.2…P37.30_00050.tif'> asarray failed to reshape (172, 1024, 1024) to (8, 10, 2, 1024, 1024)\n",
      "compiling_files:  59%|█████▉    | 50/85 [22:09<15:29, 26.55s/it]<tifffile.TiffFile '211021_brain3.2…P37.30_00051.tif'> asarray failed to reshape (172, 1024, 1024) to (8, 10, 2, 1024, 1024)\n",
      "compiling_files:  60%|██████    | 51/85 [22:36<15:02, 26.55s/it]<tifffile.TiffFile '211021_brain3.2…P37.30_00052.tif'> asarray failed to reshape (172, 1024, 1024) to (8, 10, 2, 1024, 1024)\n",
      "compiling_files:  61%|██████    | 52/85 [23:02<14:35, 26.54s/it]<tifffile.TiffFile '211021_brain3.2…P37.30_00053.tif'> asarray failed to reshape (172, 1024, 1024) to (8, 10, 2, 1024, 1024)\n",
      "compiling_files:  62%|██████▏   | 53/85 [23:29<14:09, 26.54s/it]<tifffile.TiffFile '211021_brain3.2…P37.30_00054.tif'> asarray failed to reshape (172, 1024, 1024) to (8, 10, 2, 1024, 1024)\n",
      "compiling_files:  64%|██████▎   | 54/85 [23:55<13:42, 26.54s/it]<tifffile.TiffFile '211021_brain3.2…P37.30_00055.tif'> asarray failed to reshape (172, 1024, 1024) to (8, 10, 2, 1024, 1024)\n",
      "compiling_files:  65%|██████▍   | 55/85 [24:22<13:16, 26.56s/it]<tifffile.TiffFile '211021_brain3.2…P37.30_00056.tif'> asarray failed to reshape (172, 1024, 1024) to (8, 10, 2, 1024, 1024)\n",
      "compiling_files:  66%|██████▌   | 56/85 [24:48<12:49, 26.54s/it]<tifffile.TiffFile '211021_brain3.2…P37.30_00057.tif'> asarray failed to reshape (172, 1024, 1024) to (8, 10, 2, 1024, 1024)\n",
      "compiling_files:  67%|██████▋   | 57/85 [25:15<12:23, 26.54s/it]<tifffile.TiffFile '211021_brain3.2…P37.30_00058.tif'> asarray failed to reshape (172, 1024, 1024) to (8, 10, 2, 1024, 1024)\n",
      "compiling_files:  68%|██████▊   | 58/85 [25:41<11:56, 26.54s/it]<tifffile.TiffFile '211021_brain3.2…P37.30_00059.tif'> asarray failed to reshape (172, 1024, 1024) to (8, 10, 2, 1024, 1024)\n",
      "compiling_files:  69%|██████▉   | 59/85 [26:08<11:29, 26.54s/it]<tifffile.TiffFile '211021_brain3.2…P37.30_00060.tif'> asarray failed to reshape (172, 1024, 1024) to (8, 10, 2, 1024, 1024)\n",
      "compiling_files:  71%|███████   | 60/85 [26:34<11:03, 26.54s/it]<tifffile.TiffFile '211021_brain3.2…P37.30_00061.tif'> asarray failed to reshape (172, 1024, 1024) to (8, 10, 2, 1024, 1024)\n",
      "compiling_files:  72%|███████▏  | 61/85 [27:01<10:37, 26.55s/it]<tifffile.TiffFile '211021_brain3.2…P37.30_00062.tif'> asarray failed to reshape (172, 1024, 1024) to (8, 10, 2, 1024, 1024)\n",
      "compiling_files:  73%|███████▎  | 62/85 [27:27<10:10, 26.54s/it]<tifffile.TiffFile '211021_brain3.2…P37.30_00063.tif'> asarray failed to reshape (172, 1024, 1024) to (8, 10, 2, 1024, 1024)\n",
      "compiling_files:  74%|███████▍  | 63/85 [27:54<09:43, 26.53s/it]<tifffile.TiffFile '211021_brain3.2…P37.30_00064.tif'> asarray failed to reshape (172, 1024, 1024) to (8, 10, 2, 1024, 1024)\n",
      "compiling_files:  75%|███████▌  | 64/85 [28:21<09:17, 26.54s/it]<tifffile.TiffFile '211021_brain3.2…P37.30_00065.tif'> asarray failed to reshape (172, 1024, 1024) to (8, 10, 2, 1024, 1024)\n",
      "compiling_files:  76%|███████▋  | 65/85 [28:47<08:50, 26.54s/it]<tifffile.TiffFile '211021_brain3.2…P37.30_00066.tif'> asarray failed to reshape (172, 1024, 1024) to (8, 10, 2, 1024, 1024)\n",
      "compiling_files:  78%|███████▊  | 66/85 [29:14<08:24, 26.53s/it]<tifffile.TiffFile '211021_brain3.2…P37.30_00067.tif'> asarray failed to reshape (172, 1024, 1024) to (8, 10, 2, 1024, 1024)\n",
      "compiling_files:  79%|███████▉  | 67/85 [29:40<07:57, 26.52s/it]<tifffile.TiffFile '211021_brain3.2…P37.30_00068.tif'> asarray failed to reshape (172, 1024, 1024) to (8, 10, 2, 1024, 1024)\n",
      "compiling_files:  80%|████████  | 68/85 [30:07<07:30, 26.52s/it]<tifffile.TiffFile '211021_brain3.2…P37.30_00069.tif'> asarray failed to reshape (172, 1024, 1024) to (8, 10, 2, 1024, 1024)\n",
      "compiling_files:  81%|████████  | 69/85 [30:33<07:04, 26.52s/it]<tifffile.TiffFile '211021_brain3.2…P37.30_00070.tif'> asarray failed to reshape (172, 1024, 1024) to (8, 10, 2, 1024, 1024)\n",
      "compiling_files:  82%|████████▏ | 70/85 [31:00<06:38, 26.54s/it]<tifffile.TiffFile '211021_brain3.2…P37.30_00071.tif'> asarray failed to reshape (172, 1024, 1024) to (8, 10, 2, 1024, 1024)\n",
      "compiling_files:  84%|████████▎ | 71/85 [31:26<06:11, 26.54s/it]<tifffile.TiffFile '211021_brain3.2…P37.30_00072.tif'> asarray failed to reshape (172, 1024, 1024) to (8, 10, 2, 1024, 1024)\n",
      "compiling_files:  85%|████████▍ | 72/85 [31:53<05:45, 26.54s/it]<tifffile.TiffFile '211021_brain3.2…P37.30_00073.tif'> asarray failed to reshape (172, 1024, 1024) to (8, 10, 2, 1024, 1024)\n",
      "compiling_files:  86%|████████▌ | 73/85 [32:19<05:18, 26.55s/it]<tifffile.TiffFile '211021_brain3.2…P37.30_00074.tif'> asarray failed to reshape (172, 1024, 1024) to (8, 10, 2, 1024, 1024)\n",
      "compiling_files:  87%|████████▋ | 74/85 [32:46<04:51, 26.54s/it]<tifffile.TiffFile '211021_brain3.2…P37.30_00075.tif'> asarray failed to reshape (172, 1024, 1024) to (8, 10, 2, 1024, 1024)\n",
      "compiling_files:  88%|████████▊ | 75/85 [33:12<04:25, 26.54s/it]<tifffile.TiffFile '211021_brain3.2…P37.30_00076.tif'> asarray failed to reshape (172, 1024, 1024) to (8, 10, 2, 1024, 1024)\n",
      "compiling_files:  89%|████████▉ | 76/85 [33:39<03:58, 26.55s/it]<tifffile.TiffFile '211021_brain3.2…P37.30_00077.tif'> asarray failed to reshape (172, 1024, 1024) to (8, 10, 2, 1024, 1024)\n",
      "compiling_files:  91%|█████████ | 77/85 [34:05<03:32, 26.54s/it]<tifffile.TiffFile '211021_brain3.2…P37.30_00078.tif'> asarray failed to reshape (172, 1024, 1024) to (8, 10, 2, 1024, 1024)\n",
      "compiling_files:  92%|█████████▏| 78/85 [34:32<03:05, 26.55s/it]<tifffile.TiffFile '211021_brain3.2…P37.30_00079.tif'> asarray failed to reshape (172, 1024, 1024) to (8, 10, 2, 1024, 1024)\n",
      "compiling_files:  93%|█████████▎| 79/85 [34:59<02:39, 26.54s/it]<tifffile.TiffFile '211021_brain3.2…P37.30_00080.tif'> asarray failed to reshape (172, 1024, 1024) to (8, 10, 2, 1024, 1024)\n",
      "compiling_files:  94%|█████████▍| 80/85 [35:25<02:12, 26.55s/it]<tifffile.TiffFile '211021_brain3.2…P37.30_00081.tif'> asarray failed to reshape (172, 1024, 1024) to (8, 10, 2, 1024, 1024)\n",
      "compiling_files:  95%|█████████▌| 81/85 [35:52<01:46, 26.54s/it]<tifffile.TiffFile '211021_brain3.2…P37.30_00082.tif'> asarray failed to reshape (172, 1024, 1024) to (8, 10, 2, 1024, 1024)\n",
      "compiling_files:  96%|█████████▋| 82/85 [36:18<01:19, 26.55s/it]<tifffile.TiffFile '211021_brain3.2…P37.30_00083.tif'> asarray failed to reshape (172, 1024, 1024) to (8, 10, 2, 1024, 1024)\n",
      "compiling_files:  98%|█████████▊| 83/85 [36:45<00:53, 26.55s/it]<tifffile.TiffFile '211021_brain3.2…P37.30_00084.tif'> asarray failed to reshape (172, 1024, 1024) to (8, 10, 2, 1024, 1024)\n",
      "compiling_files:  99%|█████████▉| 84/85 [37:11<00:26, 26.56s/it]<tifffile.TiffFile '211021_brain3.2…P37.30_00085.tif'> asarray failed to reshape (172, 1024, 1024) to (8, 10, 2, 1024, 1024)\n",
      "                                                                \r"
     ]
    },
    {
     "name": "stdout",
     "output_type": "stream",
     "text": [
      "dict_keys(['GFP', 'red']) <class 'list'> 85\n",
      "compiling the GFP channel\n",
      "compiling the red channel\n",
      "files_to_4D runtime 2285.7264451631345\n"
     ]
    },
    {
     "name": "stderr",
     "output_type": "stream",
     "text": [
      "                                                                         \r"
     ]
    },
    {
     "name": "stdout",
     "output_type": "stream",
     "text": [
      "first 5 files\n",
      "[]\n"
     ]
    },
    {
     "name": "stderr",
     "output_type": "stream",
     "text": [
      "                                   \r"
     ]
    },
    {
     "ename": "ValueError",
     "evalue": "min() arg is an empty sequence",
     "output_type": "error",
     "traceback": [
      "\u001b[0;31m---------------------------------------------------------------------------\u001b[0m",
      "\u001b[0;31mValueError\u001b[0m                                Traceback (most recent call last)",
      "Input \u001b[0;32mIn [10]\u001b[0m, in \u001b[0;36m<module>\u001b[0;34m\u001b[0m\n\u001b[1;32m     22\u001b[0m gfp_name \u001b[38;5;241m=\u001b[39m ch_names[\u001b[38;5;241m0\u001b[39m]\u001b[38;5;241m+\u001b[39m\u001b[38;5;124m'\u001b[39m\u001b[38;5;124m_\u001b[39m\u001b[38;5;124m'\u001b[39m\u001b[38;5;241m+\u001b[39mmethod\u001b[38;5;241m+\u001b[39m\u001b[38;5;124m'\u001b[39m\u001b[38;5;124m_\u001b[39m\u001b[38;5;124m'\u001b[39m\u001b[38;5;241m+\u001b[39mgroup_by\n\u001b[1;32m     23\u001b[0m gfp_list \u001b[38;5;241m=\u001b[39m datautils\u001b[38;5;241m.\u001b[39mget_file_names(path\u001b[38;5;241m=\u001b[39msave_path, group_by\u001b[38;5;241m=\u001b[39mgfp_name, \n\u001b[1;32m     24\u001b[0m                                     order\u001b[38;5;241m=\u001b[39m\u001b[38;5;28;01mFalse\u001b[39;00m, nested_files\u001b[38;5;241m=\u001b[39m\u001b[38;5;28;01mFalse\u001b[39;00m, criteria\u001b[38;5;241m=\u001b[39m\u001b[38;5;124m'\u001b[39m\u001b[38;5;124mtif\u001b[39m\u001b[38;5;124m'\u001b[39m)\n\u001b[0;32m---> 25\u001b[0m gfp_4D \u001b[38;5;241m=\u001b[39m \u001b[43mdatautils\u001b[49m\u001b[38;5;241;43m.\u001b[39;49m\u001b[43mfiles_to_4D\u001b[49m\u001b[43m(\u001b[49m\u001b[43mfiles_list\u001b[49m\u001b[38;5;241;43m=\u001b[39;49m\u001b[43mgfp_list\u001b[49m\u001b[43m,\u001b[49m\u001b[43m \u001b[49m\u001b[43mch_names\u001b[49m\u001b[38;5;241;43m=\u001b[39;49m\u001b[43m[\u001b[49m\u001b[43mch_names\u001b[49m\u001b[43m[\u001b[49m\u001b[38;5;241;43m0\u001b[39;49m\u001b[43m]\u001b[49m\u001b[43m]\u001b[49m\u001b[43m,\u001b[49m\u001b[43m \u001b[49m\u001b[38;5;28;43mfilter\u001b[39;49m\u001b[38;5;241;43m=\u001b[39;49m\u001b[38;5;28;43;01mFalse\u001b[39;49;00m\u001b[43m,\u001b[49m\u001b[43m \u001b[49m\n\u001b[1;32m     26\u001b[0m \u001b[43m                                \u001b[49m\u001b[43msave\u001b[49m\u001b[38;5;241;43m=\u001b[39;49m\u001b[38;5;28;43;01mTrue\u001b[39;49;00m\u001b[43m,\u001b[49m\u001b[43m \u001b[49m\u001b[43msave_path\u001b[49m\u001b[38;5;241;43m=\u001b[39;49m\u001b[43msave_path\u001b[49m\u001b[43m,\u001b[49m\u001b[43m \u001b[49m\u001b[43msave_file\u001b[49m\u001b[38;5;241;43m=\u001b[39;49m\u001b[43mgfp_name\u001b[49m\u001b[43m,\u001b[49m\n\u001b[1;32m     27\u001b[0m \u001b[43m                                \u001b[49m\u001b[43mxy_pixel\u001b[49m\u001b[38;5;241;43m=\u001b[39;49m\u001b[38;5;241;43m0.0764616\u001b[39;49m\u001b[43m,\u001b[49m\u001b[43m \u001b[49m\u001b[43mz_pixel\u001b[49m\u001b[38;5;241;43m=\u001b[39;49m\u001b[38;5;241;43m0.4\u001b[39;49m\u001b[43m)\u001b[49m\n\u001b[1;32m     28\u001b[0m \u001b[38;5;28;01mfor\u001b[39;00m file \u001b[38;5;129;01min\u001b[39;00m gfp_list:\n\u001b[1;32m     29\u001b[0m     os\u001b[38;5;241m.\u001b[39mremove(file)\n",
      "File \u001b[0;32m~/Desktop/TLI_preprocessing/Work_folder/steps/utils/datautils.py:89\u001b[0m, in \u001b[0;36mfiles_to_4D\u001b[0;34m(files_list, ch_names, filter, save, save_path, save_file, xy_pixel, z_pixel)\u001b[0m\n\u001b[1;32m     87\u001b[0m     \u001b[38;5;28;01mfor\u001b[39;00m ch \u001b[38;5;129;01min\u001b[39;00m ch_names:\n\u001b[1;32m     88\u001b[0m         image_4D[ch]\u001b[38;5;241m.\u001b[39mappend(image[ch])\n\u001b[0;32m---> 89\u001b[0m z_dim \u001b[38;5;241m=\u001b[39m \u001b[38;5;28;43mmin\u001b[39;49m\u001b[43m(\u001b[49m\u001b[43m[\u001b[49m\u001b[38;5;28;43mlen\u001b[39;49m\u001b[43m(\u001b[49m\u001b[43mimg\u001b[49m\u001b[43m)\u001b[49m\u001b[43m \u001b[49m\u001b[38;5;28;43;01mfor\u001b[39;49;00m\u001b[43m \u001b[49m\u001b[43mimg\u001b[49m\u001b[43m \u001b[49m\u001b[38;5;129;43;01min\u001b[39;49;00m\u001b[43m \u001b[49m\u001b[43mimage_4D\u001b[49m\u001b[43m[\u001b[49m\u001b[43mch_names\u001b[49m\u001b[43m[\u001b[49m\u001b[38;5;241;43m0\u001b[39;49m\u001b[43m]\u001b[49m\u001b[43m]\u001b[49m\u001b[43m]\u001b[49m\u001b[43m)\u001b[49m\n\u001b[1;32m     90\u001b[0m \u001b[38;5;28mprint\u001b[39m(image_4D\u001b[38;5;241m.\u001b[39mkeys(), \u001b[38;5;28mtype\u001b[39m(image_4D[ch_names[\u001b[38;5;241m-\u001b[39m\u001b[38;5;241m1\u001b[39m]]), \u001b[38;5;28mlen\u001b[39m(image_4D[ch_names[\u001b[38;5;241m-\u001b[39m\u001b[38;5;241m1\u001b[39m]]))\n\u001b[1;32m     91\u001b[0m \u001b[38;5;28;01mfor\u001b[39;00m ch \u001b[38;5;129;01min\u001b[39;00m ch_names:\n",
      "\u001b[0;31mValueError\u001b[0m: min() arg is an empty sequence"
     ]
    }
   ],
   "source": [
    "start_time = timer()\n",
    "# reading list of 3D images into dictionary of channels as indicated in ch_names, and applying median filter on the last ch\n",
    "image_4D = datautils.read_files(path_to_data, group_by ,compile=compile, ch_names=ch_names,\n",
    "                                order=False, save=False, save_path=save_path, save_file=group_by, \n",
    "                                xy_pixel=0.076, z_pixel=0.4)\n",
    "\n",
    "pre_checks = datautils.similarity_4D(image_4D[ch_names[0]], save=True, save_path=save_path, save_file='pre_checks.csv')\n",
    "\n",
    "# running antspy, saving output into temp 3D files, and then compiling them to 4D and finally deleting the temp 3D files\n",
    "# name_shifts = method+csv_name\n",
    "registration.antspy_drift_corr(img_4D_g=image_4D[ch_names[0]],\n",
    "                                img_4D_r=image_4D[ch_names[1]], \n",
    "                                ch_names=ch_names,\n",
    "                                save_path=save_path, \n",
    "                                save_name=save_name,\n",
    "                                ref_t = int(len(image_4D[ch_names[0]])/2),\n",
    "                                drift_corr=method, metric=metric)\n",
    "\n",
    "del image_4D\n",
    "\n",
    "# compiling the registered 3D images into 4D and deleting the temp files for both channels \n",
    "gfp_name = ch_names[0]+'_'+method+'_'+group_by\n",
    "gfp_list = datautils.get_file_names(path=save_path, group_by=gfp_name, \n",
    "                                    order=False, nested_files=False, criteria='tif')\n",
    "gfp_4D = datautils.files_to_4D(files_list=gfp_list, ch_names=[ch_names[0]], filter=False, \n",
    "                                save=True, save_path=save_path, save_file=gfp_name,\n",
    "                                xy_pixel=0.0764616, z_pixel=0.4)\n",
    "for file in gfp_list:\n",
    "    os.remove(file)\n",
    "\n",
    "# measuring the cosine_similarity check of GFP channel after registration\n",
    "post_checks = datautils.similarity_4D(gfp_4D[ch_names[0]], save=True, \n",
    "                                        save_path=save_path, \n",
    "                                        save_file=method+'_checks.csv')\n",
    "\n",
    "red_name = ch_names[1]+'_'+method+'_'+group_by\n",
    "red_list = datautils.get_file_names(path=save_path, group_by=red_name, \n",
    "                                    order=False, nested_files=False, criteria='tif')\n",
    "red_4D = datautils.files_to_4D(files_list=red_list, ch_names=[ch_names[1]], filter=False,\n",
    "                                save=True, save_path=save_path, save_file=red_name,\n",
    "                                xy_pixel=0.0764616, z_pixel=0.4)\n",
    "for file in red_list:\n",
    "    os.remove(file)\n",
    "\n",
    "# deleting the final compiled 4D images\n",
    "del gfp_4D, red_4D \n",
    "\n",
    "print(group_by, ' is done, and it took', timer()-start_time) "
   ]
  },
  {
   "cell_type": "code",
   "execution_count": 11,
   "metadata": {},
   "outputs": [
    {
     "name": "stdout",
     "output_type": "stream",
     "text": [
      "first 5 files\n",
      "['/home/tli_project/Desktop/Data/T4/stage1/211022/211022_analysis/GFP_SyNRA_211022_brain3.2_LP40_P37.30_001.tif', '/home/tli_project/Desktop/Data/T4/stage1/211022/211022_analysis/GFP_SyNRA_211022_brain3.2_LP40_P37.30_002.tif', '/home/tli_project/Desktop/Data/T4/stage1/211022/211022_analysis/GFP_SyNRA_211022_brain3.2_LP40_P37.30_003.tif', '/home/tli_project/Desktop/Data/T4/stage1/211022/211022_analysis/GFP_SyNRA_211022_brain3.2_LP40_P37.30_004.tif', '/home/tli_project/Desktop/Data/T4/stage1/211022/211022_analysis/GFP_SyNRA_211022_brain3.2_LP40_P37.30_005.tif']\n"
     ]
    },
    {
     "name": "stderr",
     "output_type": "stream",
     "text": [
      "                                                                \r"
     ]
    },
    {
     "name": "stdout",
     "output_type": "stream",
     "text": [
      "dict_keys(['GFP']) <class 'list'> 85\n",
      "compiling the GFP channel\n"
     ]
    },
    {
     "name": "stderr",
     "output_type": "stream",
     "text": [
      "/home/tli_project/.local/lib/python3.8/site-packages/tifffile/tifffile.py:2876: UserWarning:\n",
      "\n",
      "<tifffile.TiffWriter '4D_GFP_GFP_SyNRA.tif'> truncating ImageJ file\n",
      "\n"
     ]
    },
    {
     "name": "stdout",
     "output_type": "stream",
     "text": [
      "files_to_4D runtime 91.80050695687532\n"
     ]
    },
    {
     "name": "stderr",
     "output_type": "stream",
     "text": [
      "                                                                         \r"
     ]
    },
    {
     "name": "stdout",
     "output_type": "stream",
     "text": [
      "first 5 files\n",
      "['/home/tli_project/Desktop/Data/T4/stage1/211022/211022_analysis/red_SyNRA_211022_brain3.2_LP40_P37.30_001.tif', '/home/tli_project/Desktop/Data/T4/stage1/211022/211022_analysis/red_SyNRA_211022_brain3.2_LP40_P37.30_002.tif', '/home/tli_project/Desktop/Data/T4/stage1/211022/211022_analysis/red_SyNRA_211022_brain3.2_LP40_P37.30_003.tif', '/home/tli_project/Desktop/Data/T4/stage1/211022/211022_analysis/red_SyNRA_211022_brain3.2_LP40_P37.30_004.tif', '/home/tli_project/Desktop/Data/T4/stage1/211022/211022_analysis/red_SyNRA_211022_brain3.2_LP40_P37.30_005.tif']\n"
     ]
    },
    {
     "name": "stderr",
     "output_type": "stream",
     "text": [
      "                                                                \r"
     ]
    },
    {
     "name": "stdout",
     "output_type": "stream",
     "text": [
      "dict_keys(['red']) <class 'list'> 85\n",
      "compiling the red channel\n"
     ]
    },
    {
     "name": "stderr",
     "output_type": "stream",
     "text": [
      "/home/tli_project/.local/lib/python3.8/site-packages/tifffile/tifffile.py:2876: UserWarning:\n",
      "\n",
      "<tifffile.TiffWriter '4D_red_red_SyNRA.tif'> truncating ImageJ file\n",
      "\n"
     ]
    },
    {
     "name": "stdout",
     "output_type": "stream",
     "text": [
      "files_to_4D runtime 115.5563607760705\n"
     ]
    }
   ],
   "source": [
    "# compiling the registered 3D images into 4D and deleting the temp files for both channels \n",
    "gfp_name = ch_names[0]+'_'+method\n",
    "gfp_list = datautils.get_file_names(path=save_path, group_by=gfp_name, \n",
    "                                    order=False, nested_files=False, criteria='tif')\n",
    "gfp_4D = datautils.files_to_4D(files_list=gfp_list, ch_names=[ch_names[0]], filter=False, \n",
    "                                save=True, save_path=save_path, save_file=gfp_name,\n",
    "                                xy_pixel=0.0764616, z_pixel=0.4)\n",
    "for file in gfp_list:\n",
    "    os.remove(file)\n",
    "\n",
    "# measuring the cosine_similarity check of GFP channel after registration\n",
    "post_checks = datautils.similarity_4D(gfp_4D[ch_names[0]], save=True, \n",
    "                                        save_path=save_path, \n",
    "                                        save_file=method+'_checks.csv')\n",
    "\n",
    "red_name = ch_names[1]+'_'+method\n",
    "red_list = datautils.get_file_names(path=save_path, group_by=red_name, \n",
    "                                    order=False, nested_files=False, criteria='tif')\n",
    "red_4D = datautils.files_to_4D(files_list=red_list, ch_names=[ch_names[1]], filter=False,\n",
    "                                save=True, save_path=save_path, save_file=red_name,\n",
    "                                xy_pixel=0.0764616, z_pixel=0.4)\n",
    "for file in red_list:\n",
    "    os.remove(file)\n",
    "\n",
    "# deleting the final compiled 4D images\n",
    "del gfp_4D, red_4D "
   ]
  },
  {
   "cell_type": "code",
   "execution_count": null,
   "metadata": {},
   "outputs": [],
   "source": [
    "print('memory cleared, and kernel stopped')\n",
    "print('Job is DONE!')\n",
    "os._exit(00)"
   ]
  },
  {
   "cell_type": "code",
   "execution_count": null,
   "metadata": {},
   "outputs": [],
   "source": []
  }
 ],
 "metadata": {
  "interpreter": {
   "hash": "f3f6acc8ab4cd1097e4d91bbffd405bcf59aaff2754a866d7c8cf61e0274c3d7"
  },
  "kernelspec": {
   "display_name": "Python 3.8.12 64-bit ('preprocessing': conda)",
   "language": "python",
   "name": "python3"
  },
  "language_info": {
   "codemirror_mode": {
    "name": "ipython",
    "version": 3
   },
   "file_extension": ".py",
   "mimetype": "text/x-python",
   "name": "python",
   "nbconvert_exporter": "python",
   "pygments_lexer": "ipython3",
   "version": "3.8.12"
  },
  "orig_nbformat": 4
 },
 "nbformat": 4,
 "nbformat_minor": 2
}
