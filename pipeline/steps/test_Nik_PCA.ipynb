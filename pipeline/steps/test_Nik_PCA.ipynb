{
 "cells": [
  {
   "cell_type": "code",
   "execution_count": 2,
   "metadata": {},
   "outputs": [],
   "source": [
    "import pandas as pd\n",
    "import math\n",
    "import numpy as np\n",
    "import tifffile as tif\n",
    "import matplotlib.pyplot as plt\n",
    "from mpl_toolkits.mplot3d.art3d import Poly3DCollection\n",
    "from tqdm import tqdm\n",
    "import utils.analysis as analysis\n",
    "import utils.denoise as denoise\n",
    "from sklearn.decomposition import PCA, FastICA\n",
    "%matplotlib inline\n",
    "import os"
   ]
  },
  {
   "cell_type": "code",
   "execution_count": 4,
   "metadata": {},
   "outputs": [
    {
     "data": {
      "text/plain": [
       "['T4-11 (SubtypeB)',\n",
       " 'T4-12 (SubtypeC)',\n",
       " 'T4-13 (SubtypeB)',\n",
       " 'T4-15 (SubtypeA)',\n",
       " 'T4-16 (SubtypeC)',\n",
       " 'T4-18.1 (SubtypeC)',\n",
       " 'T4-18.2 (SubtypeD)',\n",
       " 'T4-2 (SubtypeA)',\n",
       " 'T4-21 (SubtypeB)',\n",
       " 'T4-24 (SubtypeB)',\n",
       " 'T4-25 (SubtypeA)',\n",
       " 'T4-26 (SubtypeA)',\n",
       " 'T4-28 (SubtypeB)',\n",
       " 'T4-3 (SubtypeD)',\n",
       " 'T4-30 (SubtypeC)',\n",
       " 'T4-31 (SubtypeC)',\n",
       " 'T4-32 (SubtypeC)',\n",
       " 'T4-34 (SubtypeB)',\n",
       " 'T4-35 (SubtypeA)',\n",
       " 'T4-36 (SubtypeB)',\n",
       " 'T4-37 (SubtypeD)',\n",
       " 'T4-38 (SubtypeC)',\n",
       " 'T4-4 (SubtypeB)',\n",
       " 'T4-40 (SubtypeA)',\n",
       " 'T4-42 (SubtypeC)',\n",
       " 'T4-43 (SubtypeA)',\n",
       " 'T4-44 (SubtypeD)',\n",
       " 'T4-45 (SubtypeA)',\n",
       " 'T4-47 (SubtypeC)',\n",
       " 'T4-49 (SubtypeD)',\n",
       " 'T4-5 (SubtypeD)',\n",
       " 'T4-50 (SubtypeD)',\n",
       " 'T4-6 (SubtypeD)']"
      ]
     },
     "execution_count": 4,
     "metadata": {},
     "output_type": "execute_result"
    }
   ],
   "source": [
    "data_path = '/home/tli_project/Desktop/Data/controls/adult'\n",
    "# get folder names\n",
    "N_folders = [name for name in os.listdir(data_path) if os.path.isdir(os.path.join(data_path, name))]\n",
    "N_folders = [f for f in N_folders if 'T' in f]\n",
    "N_folders = sorted(N_folders)\n",
    "N_folders"
   ]
  },
  {
   "cell_type": "code",
   "execution_count": 65,
   "metadata": {},
   "outputs": [],
   "source": [
    "neuron_path = '/Users/aichah/Desktop/TLI/data/subtypeC/211104_P36_N3_R290_clahe.tif'\n",
    "mask_path = '/Users/aichah/Desktop/TLI/data/subtypeC/211104_P36_N3_R290_JE_mask.tif'\n",
    "entry_point = (110,250) #y,x\n",
    "y,x = entry_point[0],entry_point[1]"
   ]
  },
  {
   "cell_type": "code",
   "execution_count": 66,
   "metadata": {},
   "outputs": [],
   "source": [
    "neuron = tif.imread(neuron_path)\n",
    "mask = tif.imread(mask_path)\n",
    "neuron -= neuron.min()\n",
    "neuron[mask==0] = 0\n",
    "# mask = denoise.mask_image(neuron, return_mask = False ,sig = 1)"
   ]
  },
  {
   "cell_type": "code",
   "execution_count": 67,
   "metadata": {},
   "outputs": [],
   "source": [
    "image = neuron[-1].max(axis=0)"
   ]
  },
  {
   "cell_type": "code",
   "execution_count": 68,
   "metadata": {},
   "outputs": [
    {
     "data": {
      "text/plain": [
       "<matplotlib.image.AxesImage at 0x7fe5e9f2be80>"
      ]
     },
     "execution_count": 68,
     "metadata": {},
     "output_type": "execute_result"
    },
    {
     "data": {
      "image/png": "[encoded data removed]",
      "text/plain": [
       "<Figure size 432x288 with 1 Axes>"
      ]
     },
     "metadata": {
      "needs_background": "light"
     },
     "output_type": "display_data"
    }
   ],
   "source": [
    "plt.imshow(image)"
   ]
  },
  {
   "cell_type": "code",
   "execution_count": 77,
   "metadata": {},
   "outputs": [],
   "source": [
    "def rotate(origin, point, angle, direction = 'counterclockwise'):\n",
    "    \"\"\"\n",
    "    Rotate a point counterclockwise by a given angle around a given origin.\n",
    "\n",
    "    The angle should be given in radians.\n",
    "    \"\"\"\n",
    "    ox, oy = origin\n",
    "    px, py = point\n",
    "    if direction == 'counterclockwise':\n",
    "        qx = ox + math.cos(angle) * (px - ox) - math.sin(angle) * (py - oy)\n",
    "        qy = oy + math.sin(angle) * (px - ox) + math.cos(angle) * (py - oy)\n",
    "\n",
    "    elif direction == 'clockwise':\n",
    "        qx = ox + math.cos(angle) * (px - ox) + math.sin(angle) * (py - oy)\n",
    "        qy = oy - math.sin(angle) * (px - ox) + math.cos(angle) * (py - oy)\n",
    "\n",
    "    return qx, qy\n",
    "\n",
    "def angle_between(p1,p2):\n",
    "    \"\"\"\n",
    "    angle beteen 2 points\n",
    "    \"\"\"\n",
    "    ang1 = np.arctan2(*p1[::-1])\n",
    "    ang2 = np.arctan2(*p2[::-1])\n",
    "    return np.rad2deg((ang1-ang2 % (2 * np.pi)))\n",
    "\n",
    "#everything as one...\n",
    "def metric_dump(image,entry_point):\n",
    "    \"\"\"\n",
    "\n",
    "    \"\"\"\n",
    "    y, x = np.nonzero(image)\n",
    "    x = x - entry_point[1]\n",
    "    y = y - entry_point[0]\n",
    "    coords = np.vstack([x, y])\n",
    "    cov = np.cov(coords)\n",
    "    evals, evecs = np.linalg.eig(cov)\n",
    "    sort_indices = np.argsort(evals)[::-1]\n",
    "    x_v1, y_v1 = evecs[:, sort_indices[0]]  # Eigenvector with largest eigenvalue\n",
    "    x_v2, y_v2 = evecs[:, sort_indices[1]]\n",
    "    scale = 20\n",
    "    plt.plot(x, y, 'k.',alpha=0.2)\n",
    "    plt.plot([x_v1*-scale*2, x_v1*scale*2],\n",
    "            [y_v1*-scale*2, y_v1*scale*2], color='red')\n",
    "    plt.plot([x_v2*-scale, x_v2*scale],\n",
    "            [y_v2*-scale, y_v2*scale], color='blue')\n",
    "    # plt.plot(x, y, 'k.')\n",
    "    plt.axis('equal')\n",
    "    plt.gca().invert_yaxis()  # Match the image system with origin at top left\n",
    "    plt.show()\n",
    "    \n",
    "    \n",
    "    # # # get coords of pixels above threshold\n",
    "    # # coords = np.array(np.where(image >0))\n",
    "    # y_img, x_img = np.nonzero(image)\n",
    "\n",
    "    # # # subtract entry point and do some organising\n",
    "    # y_img = y_img - entry_point[0]\n",
    "    # x_img = x_img - entry_point[1]\n",
    "\n",
    "    # coords = np.vstack([x_img,y_img])\n",
    "\n",
    "    # # coords = (np.argwhere(image) - entry_point).T\n",
    "\n",
    "    # # rebase image\n",
    "\n",
    "    # # find the covariance matrix:\n",
    "    # cov_mat = np.cov(coords)\n",
    "\n",
    "    # # get eigen vectors and values\n",
    "    # evals, evecs = np.linalg.eig(cov_mat)\n",
    "\n",
    "    # # get the order of the eigen values and sort the eigenvectors\n",
    "    # sort_indices = np.argsort(evals)[::-1]\n",
    "    # x_v1, y_v1 = evecs[:, sort_indices[0]]  # Eigenvector with largest eigenvalue\n",
    "    # x_v2, y_v2 = evecs[:, sort_indices[1]]\n",
    "\n",
    "    # calculate the angle of rotation of the eigenvectors relative to the original coordinate space and get the rotation matrix\n",
    "    theta = np.arctan((x_v1)/(y_v1))  \n",
    "    rotation_mat = np.matrix([[np.cos(theta), -np.sin(theta)],\n",
    "                        [np.sin(theta), np.cos(theta)]])\n",
    "\n",
    "    inv_rot_mat = np.linalg.inv(rotation_mat)\n",
    "\n",
    "    # rotate the original coordinates\n",
    "    rotated_coords = rotation_mat * coords\n",
    "\n",
    "    # plot the transformed blob\n",
    "    x_transformed, y_transformed = rotated_coords.A\n",
    "\n",
    "    # we want the minimum and maximum values along each axis\n",
    "    x_max = np.max(x_transformed)\n",
    "    x_min = np.min(x_transformed)\n",
    "    y_max = np.max(y_transformed)\n",
    "    y_min = np.min(y_transformed)\n",
    "\n",
    "    # the fraction of pixels in each direction\n",
    "    frac_x_pos = len(x_transformed[x_transformed>0])/len(x_transformed)\n",
    "    frac_x_neg = 1 - frac_x_pos\n",
    "    frac_y_pos = len(y_transformed[y_transformed>0])/len(y_transformed)\n",
    "    frac_y_neg = 1 - frac_y_pos\n",
    "\n",
    "\n",
    "    # signed_x = np.sign(x_transformed)\n",
    "    # signed_y = np.sign(y_transformed)\n",
    "    # frac_x_pos = len(signed_x[signed_x == 1]) /len(x_transformed)\n",
    "    # frac_x_neg = 1 - frac_x_pos\n",
    "    # frac_y_pos = len(signed_y[signed_y == 1]) /len(y_transformed)\n",
    "    # frac_y_neg = 1 - frac_y_pos\n",
    "\n",
    "    # The difference\n",
    "    diff_x = abs(frac_x_pos - frac_x_neg)\n",
    "    diff_y = abs(frac_y_pos - frac_y_neg)\n",
    "\n",
    "    # then the difference times the fraction in that direction\n",
    "    x_pos = diff_x * frac_x_pos\n",
    "    x_neg = diff_x * frac_x_neg\n",
    "    y_pos = diff_y * frac_y_pos\n",
    "    y_neg = diff_y * frac_y_neg\n",
    "\n",
    "\n",
    "    # and finally, multiply by the scalar value from the first point. \n",
    "    final_x_pos = x_max * x_pos\n",
    "    final_x_neg = x_min * x_neg\n",
    "    final_y_pos = y_max * y_pos\n",
    "    final_y_neg = y_min * y_neg\n",
    "\n",
    "    ## sort out the vectors - we have the points, and the origin is [0,0], so rotate the second point by -theta degrees\n",
    "\n",
    "    x_pos_final = rotate(origin = [0,0], point = [final_x_pos,0], angle = theta, direction = 'clockwise')\n",
    "    x_neg_final = rotate(origin = [0,0], point = [final_x_neg,0], angle = theta, direction = 'clockwise')\n",
    "    y_pos_final = rotate(origin = [0,0], point = [0,final_y_pos], angle = theta, direction = 'clockwise')\n",
    "    y_neg_final = rotate(origin = [0,0], point = [0,final_y_neg], angle = theta, direction = 'clockwise')\n",
    "\n",
    "    # get angle of each vector\n",
    "    x_pos_angle = angle_between([0,0],x_pos_final)\n",
    "    x_neg_angle = angle_between([0,0], x_neg_final)\n",
    "    y_pos_angle = angle_between([0,0], y_pos_final)\n",
    "    y_neg_angle = angle_between([0,0], y_neg_final)\n",
    "\n",
    "    df = pd.DataFrame.from_dict({'axis':['x_positive','x_negative','y_positive','y_negative'],\n",
    "                                'Fraction_weight':[x_pos,x_neg,y_pos,y_neg],\n",
    "                                'Pixel_scale':[x_max,x_min,y_max,y_min],\n",
    "                                'Angle':[x_pos_angle,x_neg_angle,y_pos_angle,y_neg_angle],\n",
    "                                'xy': [x_pos_final,x_neg_final,y_pos_final,y_neg_final]})\n",
    "\n",
    "    asymmetry = (diff_x + diff_y)/2\n",
    "\n",
    "\n",
    "    x_transformed, y_transformed = transformed_mat.A\n",
    "    plt.plot(x_transformed, y_transformed, 'g.',alpha=0.1)\n",
    "    plt.axis('equal')\n",
    "    plt.gca().invert_yaxis()  # Match the image system with origin at top left\n",
    "    plt.show()\n",
    "\n",
    "    return df,asymmetry, x_v1, y_v1, x_v2, y_v2"
   ]
  },
  {
   "cell_type": "code",
   "execution_count": 46,
   "metadata": {},
   "outputs": [
    {
     "data": {
      "image/png": "[encoded data removed]",
      "text/plain": [
       "<Figure size 432x288 with 1 Axes>"
      ]
     },
     "metadata": {
      "needs_background": "light"
     },
     "output_type": "display_data"
    },
    {
     "data": {
      "image/png": "[encoded data removed]",
      "text/plain": [
       "<Figure size 432x288 with 1 Axes>"
      ]
     },
     "metadata": {
      "needs_background": "light"
     },
     "output_type": "display_data"
    }
   ],
   "source": [
    "import numpy as np\n",
    "import matplotlib.pyplot as plt\n",
    "import scipy.misc\n",
    "# import skimage.filter\n",
    "\n",
    "\n",
    "img = image.copy()\n",
    "y, x = np.nonzero(img)\n",
    "x = x - entry_point[1]\n",
    "y = y - entry_point[0]\n",
    "coords = np.vstack([x, y])\n",
    "cov = np.cov(coords)\n",
    "evals, evecs = np.linalg.eig(cov)\n",
    "sort_indices = np.argsort(evals)[::-1]\n",
    "x_v1, y_v1 = evecs[:, sort_indices[0]]  # Eigenvector with largest eigenvalue\n",
    "x_v2, y_v2 = evecs[:, sort_indices[1]]\n",
    "scale = 20\n",
    "plt.plot(x, y, 'k.',alpha=0.2)\n",
    "plt.plot([x_v1*-scale*2, x_v1*scale*2],\n",
    "         [y_v1*-scale*2, y_v1*scale*2], color='red')\n",
    "plt.plot([x_v2*-scale, x_v2*scale],\n",
    "         [y_v2*-scale, y_v2*scale], color='blue')\n",
    "# plt.plot(x, y, 'k.')\n",
    "plt.axis('equal')\n",
    "plt.gca().invert_yaxis()  # Match the image system with origin at top left\n",
    "plt.show()\n",
    "\n",
    "\n",
    "theta = np.arctan((x_v1)/(y_v1))  \n",
    "rotation_mat = np.matrix([[np.cos(theta), -np.sin(theta)],\n",
    "                      [np.sin(theta), np.cos(theta)]])\n",
    "transformed_mat = rotation_mat * coords\n",
    "# plot the transformed blob\n",
    "x_transformed, y_transformed = transformed_mat.A\n",
    "plt.plot(x_transformed, y_transformed, 'g.',alpha=0.1)\n",
    "# plt.plot(x, y, 'k.',alpha=0.2)\n",
    "# plt.plot([x_v1*-scale*2, x_v1*scale*2],\n",
    "#          [y_v1*-scale*2, y_v1*scale*2], color='red')\n",
    "# plt.plot([x_v2*-scale, x_v2*scale],\n",
    "#          [y_v2*-scale, y_v2*scale], color='blue')\n",
    "# plt.plot(x, y, 'k.')\n",
    "plt.axis('equal')\n",
    "plt.gca().invert_yaxis()  # Match the image system with origin at top left\n",
    "plt.show()\n",
    "\n",
    "# y_img, x_img = np.nonzero(image)\n",
    "\n",
    "# # # subtract entry point and do some organising\n",
    "# y_img = y_img - entry_point[0]\n",
    "# x_img = x_img - entry_point[1]\n",
    "\n",
    "# coords = np.vstack([x_img,y_img])\n",
    "\n",
    "# # coords = (np.argwhere(image) - entry_point).T\n",
    "\n",
    "# # rebase image\n",
    "\n",
    "# # find the covariance matrix:\n",
    "# cov_mat = np.cov(coords)\n",
    "\n",
    "# # get eigen vectors and values\n",
    "# evals, evecs = np.linalg.eig(cov_mat)\n",
    "\n",
    "# # get the order of the eigen values and sort the eigenvectors\n",
    "# sort_indices = np.argsort(evals)[::-1]\n",
    "# x_v1, y_v1 = evecs[:, sort_indices[0]]  # Eigenvector with largest eigenvalue\n",
    "# x_v2, y_v2 = evecs[:, sort_indices[1]]\n",
    "# scale = 20\n",
    "# plt.plot([x_v1*-scale*2, x_v1*scale*2],\n",
    "#          [y_v1*-scale*2, y_v1*scale*2], color='red')\n",
    "# plt.plot([x_v2*-scale, x_v2*scale],\n",
    "#          [y_v2*-scale, y_v2*scale], color='blue')\n",
    "# plt.plot(x, y, 'k.')\n",
    "# plt.axis('equal')\n",
    "# plt.gca().invert_yaxis()  # Match the image system with origin at top left\n",
    "# plt.show()"
   ]
  },
  {
   "cell_type": "code",
   "execution_count": 52,
   "metadata": {},
   "outputs": [
    {
     "data": {
      "text/plain": [
       "(-73.01923134002291, 80.03630684255337)"
      ]
     },
     "execution_count": 52,
     "metadata": {},
     "output_type": "execute_result"
    }
   ],
   "source": [
    "x_transformed.min(),x_transformed.max()"
   ]
  },
  {
   "cell_type": "code",
   "execution_count": 61,
   "metadata": {},
   "outputs": [
    {
     "data": {
      "text/plain": [
       "(0.4760600353820693, 0.5239399646179307)"
      ]
     },
     "execution_count": 61,
     "metadata": {},
     "output_type": "execute_result"
    }
   ],
   "source": [
    "signed_x = np.sign(x_transformed)\n",
    "# signed_y = np.sign(y_transformed)\n",
    "frac_x_pos = len(signed_x[signed_x == 1]) /len(x_transformed)\n",
    "frac_x_neg = 1 - frac_x_pos\n",
    "frac_x_neg, frac_x_pos"
   ]
  },
  {
   "cell_type": "code",
   "execution_count": 62,
   "metadata": {},
   "outputs": [
    {
     "data": {
      "text/plain": [
       "(0.4760600353820693, 0.5239399646179307)"
      ]
     },
     "execution_count": 62,
     "metadata": {},
     "output_type": "execute_result"
    }
   ],
   "source": [
    "frac_x_pos = len(x_transformed[x_transformed>0])/len(x_transformed)\n",
    "frac_x_neg = 1 - frac_x_pos\n",
    "# len(x_transformed[x_transformed<0])/len(x_transformed)\n",
    "frac_x_neg, frac_x_pos"
   ]
  },
  {
   "cell_type": "code",
   "execution_count": null,
   "metadata": {},
   "outputs": [],
   "source": []
  },
  {
   "cell_type": "code",
   "execution_count": null,
   "metadata": {},
   "outputs": [],
   "source": []
  },
  {
   "cell_type": "code",
   "execution_count": 78,
   "metadata": {},
   "outputs": [
    {
     "data": {
      "image/png": "[encoded data removed]",
      "text/plain": [
       "<Figure size 432x288 with 1 Axes>"
      ]
     },
     "metadata": {
      "needs_background": "light"
     },
     "output_type": "display_data"
    },
    {
     "data": {
      "image/png": "[encoded data removed]",
      "text/plain": [
       "<Figure size 432x288 with 1 Axes>"
      ]
     },
     "metadata": {
      "needs_background": "light"
     },
     "output_type": "display_data"
    }
   ],
   "source": [
    "result =  metric_dump(image,entry_point)"
   ]
  },
  {
   "cell_type": "code",
   "execution_count": 32,
   "metadata": {},
   "outputs": [
    {
     "data": {
      "text/plain": [
       "(0.12600582092107515,\n",
       " -0.3204375996023006,\n",
       " -0.947269626221128,\n",
       " -0.947269626221128,\n",
       " 0.3204375996023006)"
      ]
     },
     "execution_count": 32,
     "metadata": {},
     "output_type": "execute_result"
    }
   ],
   "source": [
    "result[1:]"
   ]
  },
  {
   "cell_type": "code",
   "execution_count": 116,
   "metadata": {},
   "outputs": [
    {
     "data": {
      "text/html": [
       "<div>\n",
       "<style scoped>\n",
       "    .dataframe tbody tr th:only-of-type {\n",
       "        vertical-align: middle;\n",
       "    }\n",
       "\n",
       "    .dataframe tbody tr th {\n",
       "        vertical-align: top;\n",
       "    }\n",
       "\n",
       "    .dataframe thead th {\n",
       "        text-align: right;\n",
       "    }\n",
       "</style>\n",
       "<table border=\"1\" class=\"dataframe\">\n",
       "  <thead>\n",
       "    <tr style=\"text-align: right;\">\n",
       "      <th></th>\n",
       "      <th>axis</th>\n",
       "      <th>Fraction_weight</th>\n",
       "      <th>Pixel_scale</th>\n",
       "      <th>Angle</th>\n",
       "      <th>xy</th>\n",
       "    </tr>\n",
       "  </thead>\n",
       "  <tbody>\n",
       "    <tr>\n",
       "      <th>0</th>\n",
       "      <td>x_positive</td>\n",
       "      <td>0.126530</td>\n",
       "      <td>89.504214</td>\n",
       "      <td>-341.310609</td>\n",
       "      <td>(10.727834010511772, -3.628957673829024)</td>\n",
       "    </tr>\n",
       "    <tr>\n",
       "      <th>1</th>\n",
       "      <td>x_negative</td>\n",
       "      <td>0.082737</td>\n",
       "      <td>-63.551324</td>\n",
       "      <td>-161.310609</td>\n",
       "      <td>(-4.9808112234329025, 1.6848837419985663)</td>\n",
       "    </tr>\n",
       "    <tr>\n",
       "      <th>2</th>\n",
       "      <td>y_positive</td>\n",
       "      <td>0.020458</td>\n",
       "      <td>109.146655</td>\n",
       "      <td>-71.310609</td>\n",
       "      <td>(0.7155260299802804, 2.115220173325882)</td>\n",
       "    </tr>\n",
       "    <tr>\n",
       "      <th>3</th>\n",
       "      <td>y_negative</td>\n",
       "      <td>0.022285</td>\n",
       "      <td>-101.428066</td>\n",
       "      <td>-251.310609</td>\n",
       "      <td>(-0.7243068633142039, -2.1411778534497476)</td>\n",
       "    </tr>\n",
       "  </tbody>\n",
       "</table>\n",
       "</div>"
      ],
      "text/plain": [
       "         axis  Fraction_weight  Pixel_scale       Angle  \\\n",
       "0  x_positive         0.126530    89.504214 -341.310609   \n",
       "1  x_negative         0.082737   -63.551324 -161.310609   \n",
       "2  y_positive         0.020458   109.146655  -71.310609   \n",
       "3  y_negative         0.022285  -101.428066 -251.310609   \n",
       "\n",
       "                                           xy  \n",
       "0    (10.727834010511772, -3.628957673829024)  \n",
       "1   (-4.9808112234329025, 1.6848837419985663)  \n",
       "2     (0.7155260299802804, 2.115220173325882)  \n",
       "3  (-0.7243068633142039, -2.1411778534497476)  "
      ]
     },
     "execution_count": 116,
     "metadata": {},
     "output_type": "execute_result"
    }
   ],
   "source": [
    "result[0]"
   ]
  },
  {
   "cell_type": "code",
   "execution_count": 113,
   "metadata": {},
   "outputs": [],
   "source": [
    "test = image.copy()\n",
    "test[y-1:y+1,x-1:x+1] = 5"
   ]
  },
  {
   "cell_type": "code",
   "execution_count": 66,
   "metadata": {},
   "outputs": [],
   "source": [
    "coor = result[0].xy\n",
    "px_1 = result[0].xy[0]\n",
    "px_2 = result[0].xy[1]\n",
    "px_3 = result[0].xy[2]\n",
    "px_4 = result[0].xy[3]\n"
   ]
  },
  {
   "cell_type": "code",
   "execution_count": 67,
   "metadata": {},
   "outputs": [
    {
     "data": {
      "text/plain": [
       "((41.90064244967543, 7.870275954903646),\n",
       " (-4.451715927980871, -0.8361741199584116),\n",
       " (-0.43026571824267423, 2.2906960469672377),\n",
       " (0.3095368064465977, -1.6479461617673437))"
      ]
     },
     "execution_count": 67,
     "metadata": {},
     "output_type": "execute_result"
    }
   ],
   "source": [
    "px_1 , px_2, px_3, px_4"
   ]
  },
  {
   "cell_type": "code",
   "execution_count": 115,
   "metadata": {},
   "outputs": [
    {
     "data": {
      "text/plain": [
       "<matplotlib.collections.PathCollection at 0x7fc8213dc430>"
      ]
     },
     "execution_count": 115,
     "metadata": {},
     "output_type": "execute_result"
    },
    {
     "data": {
      "image/png": "[encoded data removed]",
      "text/plain": [
       "<Figure size 432x288 with 1 Axes>"
      ]
     },
     "metadata": {
      "needs_background": "light"
     },
     "output_type": "display_data"
    }
   ],
   "source": [
    "plt.imshow(test)\n",
    "plt.scatter(x,y,c='red',s=10)\n",
    "# plt.plot((x,px_1[0]),(y,px_1[1]))\n",
    "# plt.plot((x,px_2[0]),(y,px_2[1]))\n",
    "# plt.plot((x,px_3[0]),(y,px_3[1]))\n",
    "# plt.plot((x,px_4[0]),(y,px_4[1]))"
   ]
  },
  {
   "cell_type": "code",
   "execution_count": 69,
   "metadata": {},
   "outputs": [
    {
     "data": {
      "text/plain": [
       "[<matplotlib.lines.Line2D at 0x7fc809320d00>]"
      ]
     },
     "execution_count": 69,
     "metadata": {},
     "output_type": "execute_result"
    },
    {
     "data": {
      "image/png": "[encoded data removed]",
      "text/plain": [
       "<Figure size 432x288 with 1 Axes>"
      ]
     },
     "metadata": {
      "needs_background": "light"
     },
     "output_type": "display_data"
    }
   ],
   "source": [
    "plt.plot((x,px_1[0]),(y,px_1[1]))\n",
    "plt.plot((x,px_2[0]),(y,px_2[1]))\n",
    "plt.plot((x,px_3[0]),(y,px_3[1]))\n",
    "plt.plot((x,px_4[0]),(y,px_4[1]))"
   ]
  },
  {
   "cell_type": "code",
   "execution_count": 70,
   "metadata": {},
   "outputs": [
    {
     "data": {
      "text/plain": [
       "(89, 162)"
      ]
     },
     "execution_count": 70,
     "metadata": {},
     "output_type": "execute_result"
    }
   ],
   "source": [
    "x,y"
   ]
  },
  {
   "cell_type": "code",
   "execution_count": null,
   "metadata": {},
   "outputs": [],
   "source": []
  },
  {
   "cell_type": "code",
   "execution_count": null,
   "metadata": {},
   "outputs": [],
   "source": []
  },
  {
   "cell_type": "code",
   "execution_count": null,
   "metadata": {},
   "outputs": [],
   "source": []
  },
  {
   "cell_type": "code",
   "execution_count": null,
   "metadata": {},
   "outputs": [],
   "source": []
  },
  {
   "cell_type": "code",
   "execution_count": 132,
   "metadata": {},
   "outputs": [],
   "source": [
    "coords = (np.argwhere(image) - entry_point)\n",
    "\n",
    "# rebase image\n",
    "\n",
    "# find the covariance matrix:\n",
    "cov_mat = np.cov(coords)\n",
    "\n",
    "# get eigen vectors and values\n",
    "evals, evecs = np.linalg.eig(cov_mat)"
   ]
  },
  {
   "cell_type": "code",
   "execution_count": 131,
   "metadata": {},
   "outputs": [
    {
     "data": {
      "text/plain": [
       "(2, 17523)"
      ]
     },
     "execution_count": 131,
     "metadata": {},
     "output_type": "execute_result"
    }
   ],
   "source": [
    "coords.shape"
   ]
  },
  {
   "cell_type": "code",
   "execution_count": 7,
   "metadata": {},
   "outputs": [
    {
     "data": {
      "text/plain": [
       "(0.0, 206.31869375, 0.0)"
      ]
     },
     "execution_count": 7,
     "metadata": {},
     "output_type": "execute_result"
    }
   ],
   "source": [
    "test = np.zeros_like(image)\n",
    "\n",
    "\n",
    "def Covariance(x, y):\n",
    "    xbar, ybar = x.mean(), y.mean()\n",
    "    result = np.sum((x - xbar)*(y - ybar))/(len(x) - 1)\n",
    "    return result, xbar, ybar\n",
    "Covariance(image, test)"
   ]
  },
  {
   "cell_type": "code",
   "execution_count": 31,
   "metadata": {},
   "outputs": [
    {
     "name": "stdout",
     "output_type": "stream",
     "text": [
      "(4, 2)\n"
     ]
    }
   ],
   "source": [
    "test_x = [1,1,4,1]\n",
    "test_y = [2,2,8,2]\n",
    "sample = np.array(list(zip(test_x,test_y)))\n",
    "print(sample.shape)\n",
    "cov_mat = np.cov(sample)\n",
    "evals, evecs = np.linalg.eig(cov_mat)\n",
    "sort_indices = np.argsort(evals)[::-1]\n",
    "# x_v1, y_v1 = evecs[:, sort_indices[0]]  # Eigenvector with largest eigenvalue\n",
    "# x_v2, y_v2 = evecs[:, sort_indices[1]]"
   ]
  },
  {
   "cell_type": "code",
   "execution_count": 28,
   "metadata": {},
   "outputs": [
    {
     "data": {
      "text/plain": [
       "(-0.4472135954999579,\n",
       " -0.8944271909999159,\n",
       " -0.8944271909999159,\n",
       " 0.4472135954999579)"
      ]
     },
     "execution_count": 28,
     "metadata": {},
     "output_type": "execute_result"
    }
   ],
   "source": [
    "x_v1, y_v1, x_v2, y_v2"
   ]
  },
  {
   "cell_type": "code",
   "execution_count": 32,
   "metadata": {},
   "outputs": [
    {
     "data": {
      "text/plain": [
       "array([0, 2, 3, 1])"
      ]
     },
     "execution_count": 32,
     "metadata": {},
     "output_type": "execute_result"
    }
   ],
   "source": [
    "sort_indices"
   ]
  },
  {
   "cell_type": "code",
   "execution_count": 37,
   "metadata": {},
   "outputs": [
    {
     "data": {
      "text/plain": [
       "(4, 4)"
      ]
     },
     "execution_count": 37,
     "metadata": {},
     "output_type": "execute_result"
    }
   ],
   "source": [
    "evecs.shape"
   ]
  },
  {
   "cell_type": "code",
   "execution_count": 35,
   "metadata": {},
   "outputs": [
    {
     "data": {
      "text/plain": [
       "9.499999999999996"
      ]
     },
     "execution_count": 35,
     "metadata": {},
     "output_type": "execute_result"
    }
   ],
   "source": [
    "evals.max()"
   ]
  },
  {
   "cell_type": "code",
   "execution_count": 36,
   "metadata": {},
   "outputs": [
    {
     "data": {
      "text/plain": [
       "array([ 9.50000000e+00, -4.32244696e-16,  4.19082356e-31,  0.00000000e+00])"
      ]
     },
     "execution_count": 36,
     "metadata": {},
     "output_type": "execute_result"
    }
   ],
   "source": [
    "evals"
   ]
  },
  {
   "cell_type": "code",
   "execution_count": 39,
   "metadata": {},
   "outputs": [
    {
     "data": {
      "text/plain": [
       "(1797, 64)"
      ]
     },
     "execution_count": 39,
     "metadata": {},
     "output_type": "execute_result"
    }
   ],
   "source": [
    "#importing the dataset\n",
    "import numpy as np\n",
    "import matplotlib.pyplot as plt\n",
    "from sklearn.datasets import load_digits\n",
    " \n",
    "digits = load_digits()\n",
    "data = digits.data\n",
    "data.shape"
   ]
  },
  {
   "cell_type": "code",
   "execution_count": 40,
   "metadata": {},
   "outputs": [
    {
     "data": {
      "text/plain": [
       "array([[ 0.,  0.,  5., ...,  0.,  0.,  0.],\n",
       "       [ 0.,  0.,  0., ..., 10.,  0.,  0.],\n",
       "       [ 0.,  0.,  0., ..., 16.,  9.,  0.],\n",
       "       ...,\n",
       "       [ 0.,  0.,  1., ...,  6.,  0.,  0.],\n",
       "       [ 0.,  0.,  2., ..., 12.,  0.,  0.],\n",
       "       [ 0.,  0., 10., ..., 12.,  1.,  0.]])"
      ]
     },
     "execution_count": 40,
     "metadata": {},
     "output_type": "execute_result"
    }
   ],
   "source": [
    "data"
   ]
  },
  {
   "cell_type": "code",
   "execution_count": 45,
   "metadata": {},
   "outputs": [
    {
     "ename": "error",
     "evalue": "OpenCV(4.5.3) /private/var/folders/24/8k48jl6d249_n_qfxwsl6xvm0000gn/T/pip-req-build-vy_omupv/opencv/modules/imgproc/src/contours.cpp:197: error: (-210:Unsupported format or combination of formats) [Start]FindContours supports only CV_8UC1 images when mode != CV_RETR_FLOODFILL otherwise supports CV_32SC1 images only in function 'cvStartFindContours_Impl'\n",
     "output_type": "error",
     "traceback": [
      "\u001b[0;31m---------------------------------------------------------------------------\u001b[0m",
      "\u001b[0;31merror\u001b[0m                                     Traceback (most recent call last)",
      "\u001b[0;32m<ipython-input-45-2dfbc59a3bdd>\u001b[0m in \u001b[0;36m<module>\u001b[0;34m\u001b[0m\n\u001b[1;32m      5\u001b[0m \u001b[0;31m# gray = cv2.cvtColor(image, cv2.COLOR_BGR2GRAY)\u001b[0m\u001b[0;34m\u001b[0m\u001b[0;34m\u001b[0m\u001b[0;34m\u001b[0m\u001b[0m\n\u001b[1;32m      6\u001b[0m \u001b[0m_\u001b[0m\u001b[0;34m,\u001b[0m \u001b[0mbw\u001b[0m \u001b[0;34m=\u001b[0m \u001b[0mcv2\u001b[0m\u001b[0;34m.\u001b[0m\u001b[0mthreshold\u001b[0m\u001b[0;34m(\u001b[0m\u001b[0mimage\u001b[0m\u001b[0;34m,\u001b[0m \u001b[0;36m50\u001b[0m\u001b[0;34m,\u001b[0m \u001b[0;36m255\u001b[0m\u001b[0;34m,\u001b[0m \u001b[0mcv2\u001b[0m\u001b[0;34m.\u001b[0m\u001b[0mTHRESH_BINARY\u001b[0m \u001b[0;34m|\u001b[0m \u001b[0mcv2\u001b[0m\u001b[0;34m.\u001b[0m\u001b[0mTHRESH_OTSU\u001b[0m\u001b[0;34m)\u001b[0m\u001b[0;34m\u001b[0m\u001b[0;34m\u001b[0m\u001b[0m\n\u001b[0;32m----> 7\u001b[0;31m \u001b[0mcontours\u001b[0m\u001b[0;34m,\u001b[0m \u001b[0m_\u001b[0m \u001b[0;34m=\u001b[0m \u001b[0mcv2\u001b[0m\u001b[0;34m.\u001b[0m\u001b[0mfindContours\u001b[0m\u001b[0;34m(\u001b[0m\u001b[0mbw\u001b[0m\u001b[0;34m,\u001b[0m \u001b[0mcv2\u001b[0m\u001b[0;34m.\u001b[0m\u001b[0mRETR_LIST\u001b[0m\u001b[0;34m,\u001b[0m \u001b[0mcv2\u001b[0m\u001b[0;34m.\u001b[0m\u001b[0mCHAIN_APPROX_NONE\u001b[0m\u001b[0;34m)\u001b[0m\u001b[0;34m\u001b[0m\u001b[0;34m\u001b[0m\u001b[0m\n\u001b[0m",
      "\u001b[0;31merror\u001b[0m: OpenCV(4.5.3) /private/var/folders/24/8k48jl6d249_n_qfxwsl6xvm0000gn/T/pip-req-build-vy_omupv/opencv/modules/imgproc/src/contours.cpp:197: error: (-210:Unsupported format or combination of formats) [Start]FindContours supports only CV_8UC1 images when mode != CV_RETR_FLOODFILL otherwise supports CV_32SC1 images only in function 'cvStartFindContours_Impl'\n"
     ]
    }
   ],
   "source": [
    "import numpy as np\n",
    "from math import atan2, cos, sin, sqrt, pi\n",
    "# from google.colab.patches import cv2_imshow\n",
    "import cv2\n",
    "# gray = cv2.cvtColor(image, cv2.COLOR_BGR2GRAY)\n",
    "_, bw = cv2.threshold(image, 50, 255, cv2.THRESH_BINARY | cv2.THRESH_OTSU)\n",
    "contours, _ = cv2.findContours(bw, cv2.RETR_LIST, cv2.CHAIN_APPROX_NONE)"
   ]
  },
  {
   "cell_type": "code",
   "execution_count": 46,
   "metadata": {},
   "outputs": [
    {
     "data": {
      "text/plain": [
       "<matplotlib.image.AxesImage at 0x7fc860b92370>"
      ]
     },
     "execution_count": 46,
     "metadata": {},
     "output_type": "execute_result"
    },
    {
     "data": {
      "image/png": "[encoded data removed]",
      "text/plain": [
       "<Figure size 432x288 with 1 Axes>"
      ]
     },
     "metadata": {
      "needs_background": "light"
     },
     "output_type": "display_data"
    }
   ],
   "source": [
    "plt.imshow(bw)"
   ]
  },
  {
   "cell_type": "code",
   "execution_count": null,
   "metadata": {},
   "outputs": [],
   "source": [
    "def get_orientation(pts, img):\n",
    "    sz = len(pts)\n",
    "    data_pts = np.empty((sz, 2), dtype=np.float64)\n",
    "    for i in range(data_pts.shape[0]):\n",
    "        data_pts[i,0] = pts[i,0,0]\n",
    "        data_pts[i,1] = pts[i,0,1]\n",
    "    # Perform PCA analysis\n",
    "    mean = np.empty((0))\n",
    "    mean, eigenvectors, eigenvalues = cv2.PCACompute2(data_pts, mean)\n",
    "    # Store the center of the object\n",
    "    cntr = (int(mean[0,0]), int(mean[0,1]))\n",
    "    cv2.circle(img, cntr, 3, (255, 0, 255), 2)\n",
    "    p1 = (cntr[0] + 0.02 * eigenvectors[0,0] * eigenvalues[0,0], cntr[1] + 0.02 *  eigenvectors[0,1] * eigenvalues[0,0])\n",
    "    p2 = (cntr[0] - 0.02 * eigenvectors[1,0] * eigenvalues[1,0], cntr[1] - 0.02 * eigenvectors[1,1] * eigenvalues[1,0])\n",
    "    draw_axis(img, cntr, p1, (0, 150, 0), 1)\n",
    "    draw_axis(img, cntr, p2, (200, 150, 0), 5)\n",
    "    angle = atan2(eigenvectors[0,1], eigenvectors[0,0]) # orientation in radians\n",
    "    return angle\n",
    "def draw_axis(img, p_, q_, colour, scale):\n",
    "    p = list(p_)\n",
    "    q = list(q_)\n",
    "    angle = atan2(p[1] - q[1], p[0] - q[0]) # angle in radians\n",
    "    hypotenuse = sqrt((p[1] - q[1]) * (p[1] - q[1]) + (p[0] - q[0]) * (p[0] - q[0]))\n",
    "    # Here we lengthen the arrow by a factor of scale\n",
    "    q[0] = p[0] - scale * hypotenuse * cos(angle)\n",
    "    q[1] = p[1] - scale * hypotenuse * sin(angle)\n",
    "    cv2.line(img, (int(p[0]), int(p[1])), (int(q[0]), int(q[1])), colour, 1, cv2.LINE_AA)\n",
    "    # create the arrow hooks\n",
    "    p[0] = q[0] + 9 * cos(angle + pi / 4)\n",
    "    p[1] = q[1] + 9 * sin(angle + pi / 4)\n",
    "    cv2.line(img, (int(p[0]), int(p[1])), (int(q[0]), int(q[1])), colour, 1, cv2.LINE_AA)\n",
    "    p[0] = q[0] + 9 * cos(angle - pi / 4)\n",
    "    p[1] = q[1] + 9 * sin(angle - pi / 4)\n",
    "    cv2.line(img, (int(p[0]), int(p[1])), (int(q[0]), int(q[1])), colour, 1, cv2.LINE_AA)"
   ]
  },
  {
   "cell_type": "code",
   "execution_count": null,
   "metadata": {},
   "outputs": [],
   "source": []
  },
  {
   "cell_type": "code",
   "execution_count": null,
   "metadata": {},
   "outputs": [],
   "source": []
  },
  {
   "cell_type": "code",
   "execution_count": null,
   "metadata": {},
   "outputs": [],
   "source": []
  },
  {
   "cell_type": "code",
   "execution_count": null,
   "metadata": {},
   "outputs": [],
   "source": []
  },
  {
   "cell_type": "code",
   "execution_count": null,
   "metadata": {},
   "outputs": [],
   "source": []
  },
  {
   "cell_type": "code",
   "execution_count": null,
   "metadata": {},
   "outputs": [],
   "source": []
  },
  {
   "cell_type": "code",
   "execution_count": null,
   "metadata": {},
   "outputs": [],
   "source": []
  },
  {
   "cell_type": "code",
   "execution_count": null,
   "metadata": {},
   "outputs": [],
   "source": []
  },
  {
   "cell_type": "code",
   "execution_count": null,
   "metadata": {},
   "outputs": [],
   "source": []
  },
  {
   "cell_type": "code",
   "execution_count": null,
   "metadata": {},
   "outputs": [],
   "source": []
  },
  {
   "cell_type": "code",
   "execution_count": 7,
   "metadata": {},
   "outputs": [
    {
     "name": "stderr",
     "output_type": "stream",
     "text": [
      "usage: ipykernel_launcher.py [-h] [--input INPUT]\n",
      "ipykernel_launcher.py: error: unrecognized arguments: --ip=127.0.0.1 --stdin=9185 --control=9183 --hb=9182 --Session.signature_scheme=\"hmac-sha256\" --Session.key=b\"afe3cde9-8676-4592-84f8-935fb5b892bf\" --shell=9184 --transport=\"tcp\" --iopub=9186 --f=/Users/aichah/Library/Jupyter/runtime/kernel-v2-28320Dc9DHrKqq1jw.json\n"
     ]
    },
    {
     "ename": "SystemExit",
     "evalue": "2",
     "output_type": "error",
     "traceback": [
      "An exception has occurred, use %tb to see the full traceback.\n",
      "\u001b[0;31mSystemExit\u001b[0m\u001b[0;31m:\u001b[0m 2\n"
     ]
    },
    {
     "name": "stderr",
     "output_type": "stream",
     "text": [
      "/Users/aichah/.local/lib/python3.9/site-packages/IPython/core/interactiveshell.py:3445: UserWarning: To exit: use 'exit', 'quit', or Ctrl-D.\n",
      "  warn(\"To exit: use 'exit', 'quit', or Ctrl-D.\", stacklevel=1)\n"
     ]
    }
   ],
   "source": [
    "from __future__ import print_function\n",
    "from __future__ import division\n",
    "import cv2 as cv\n",
    "import numpy as np\n",
    "import argparse\n",
    "from math import atan2, cos, sin, sqrt, pi\n",
    "def drawAxis(img, p_, q_, colour, scale):\n",
    "    p = list(p_)\n",
    "    q = list(q_)\n",
    "    \n",
    "    angle = atan2(p[1] - q[1], p[0] - q[0]) # angle in radians\n",
    "    hypotenuse = sqrt((p[1] - q[1]) * (p[1] - q[1]) + (p[0] - q[0]) * (p[0] - q[0]))\n",
    "    # Here we lengthen the arrow by a factor of scale\n",
    "    q[0] = p[0] - scale * hypotenuse * cos(angle)\n",
    "    q[1] = p[1] - scale * hypotenuse * sin(angle)\n",
    "    cv.line(img, (int(p[0]), int(p[1])), (int(q[0]), int(q[1])), colour, 1, cv.LINE_AA)\n",
    "    # create the arrow hooks\n",
    "    p[0] = q[0] + 9 * cos(angle + pi / 4)\n",
    "    p[1] = q[1] + 9 * sin(angle + pi / 4)\n",
    "    cv.line(img, (int(p[0]), int(p[1])), (int(q[0]), int(q[1])), colour, 1, cv.LINE_AA)\n",
    "    p[0] = q[0] + 9 * cos(angle - pi / 4)\n",
    "    p[1] = q[1] + 9 * sin(angle - pi / 4)\n",
    "    cv.line(img, (int(p[0]), int(p[1])), (int(q[0]), int(q[1])), colour, 1, cv.LINE_AA)\n",
    "    \n",
    "def getOrientation(pts, img):\n",
    "    \n",
    "    sz = len(pts)\n",
    "    data_pts = np.empty((sz, 2), dtype=np.float64)\n",
    "    for i in range(data_pts.shape[0]):\n",
    "        data_pts[i,0] = pts[i,0,0]\n",
    "        data_pts[i,1] = pts[i,0,1]\n",
    "    # Perform PCA analysis\n",
    "    mean = np.empty((0))\n",
    "    mean, eigenvectors, eigenvalues = cv.PCACompute2(data_pts, mean)\n",
    "    # Store the center of the object\n",
    "    cntr = (int(mean[0,0]), int(mean[0,1]))\n",
    "    \n",
    "    \n",
    "    cv.circle(img, cntr, 3, (255, 0, 255), 2)\n",
    "    p1 = (cntr[0] + 0.02 * eigenvectors[0,0] * eigenvalues[0,0], cntr[1] + 0.02 * eigenvectors[0,1] * eigenvalues[0,0])\n",
    "    p2 = (cntr[0] - 0.02 * eigenvectors[1,0] * eigenvalues[1,0], cntr[1] - 0.02 * eigenvectors[1,1] * eigenvalues[1,0])\n",
    "    drawAxis(img, cntr, p1, (0, 255, 0), 1)\n",
    "    drawAxis(img, cntr, p2, (255, 255, 0), 5)\n",
    "    angle = atan2(eigenvectors[0,1], eigenvectors[0,0]) # orientation in radians\n",
    "    \n",
    "    return angle\n",
    "parser = argparse.ArgumentParser(description='Code for Introduction to Principal Component Analysis (PCA) tutorial.\\\n",
    "                                              This program demonstrates how to use OpenCV PCA to extract the orientation of an object.')\n",
    "parser.add_argument('--input', help='Path to input image.', default='pca_test1.jpg')\n",
    "args = parser.parse_args()\n",
    "src = cv.imread(cv.samples.findFile(args.input))\n",
    "# Check if image is loaded successfully\n",
    "if src is None:\n",
    "    print('Could not open or find the image: ', args.input)\n",
    "    exit(0)\n",
    "cv.imshow('src', src)\n",
    "# Convert image to grayscale\n",
    "gray = cv.cvtColor(src, cv.COLOR_BGR2GRAY)\n",
    "# Convert image to binary\n",
    "_, bw = cv.threshold(gray, 50, 255, cv.THRESH_BINARY | cv.THRESH_OTSU)\n",
    "contours, _ = cv.findContours(bw, cv.RETR_LIST, cv.CHAIN_APPROX_NONE)\n",
    "for i, c in enumerate(contours):\n",
    "    # Calculate the area of each contour\n",
    "    area = cv.contourArea(c)\n",
    "    # Ignore contours that are too small or too large\n",
    "    if area < 1e2 or 1e5 < area:\n",
    "        continue\n",
    "    # Draw each contour only for visualisation purposes\n",
    "    cv.drawContours(src, contours, i, (0, 0, 255), 2)\n",
    "    # Find the orientation of each shape\n",
    "    getOrientation(c, src)\n",
    "cv.imshow('output', src)\n",
    "cv.waitKey()"
   ]
  },
  {
   "cell_type": "code",
   "execution_count": 8,
   "metadata": {},
   "outputs": [],
   "source": [
    "import argparse\n",
    "import numpy as np\n",
    "from math import atan2, cos, sin, sqrt, pi\n",
    "# from google.colab.patches import cv2_imshow\n",
    "import cv2 as cv\n",
    "# Load image\n",
    "src = cv.imread(cv.samples.findFile('/Users/aichah/Desktop/TLI/data/TLI_CTRL_P68_B1.1.png'))\n",
    "# Check if image is loaded successfully\n",
    "if src is None:\n",
    "    print('Could not open or find the image: ', args.input)\n",
    "    exit(0)\n",
    "cv.imshow('src', src)\n",
    "# Convert image to grayscale\n",
    "gray = cv.cvtColor(src, cv.COLOR_BGR2GRAY)\n",
    "# Convert image to binary\n",
    "_, bw = cv.threshold(gray, 50, 255, cv.THRESH_BINARY | cv.THRESH_OTSU)"
   ]
  },
  {
   "cell_type": "code",
   "execution_count": 9,
   "metadata": {},
   "outputs": [],
   "source": [
    "# Find all the contours in the thresholded image\n",
    "contours, _ = cv.findContours(bw, cv.RETR_LIST, cv.CHAIN_APPROX_NONE)\n",
    "for i, c in enumerate(contours):\n",
    "    # Calculate the area of each contour\n",
    "    area = cv.contourArea(c)\n",
    "    # Ignore contours that are too small or too large\n",
    "    if area < 1e2 or 1e5 < area:\n",
    "        continue\n",
    "    # Draw each contour only for visualisation purposes\n",
    "    cv.drawContours(src, contours, i, (0, 0, 255), 2)\n",
    "    # Find the orientation of each shape\n",
    "    getOrientation(c, src)"
   ]
  },
  {
   "cell_type": "code",
   "execution_count": 10,
   "metadata": {},
   "outputs": [
    {
     "ename": "NameError",
     "evalue": "name 'pts' is not defined",
     "output_type": "error",
     "traceback": [
      "\u001b[0;31m---------------------------------------------------------------------------\u001b[0m",
      "\u001b[0;31mNameError\u001b[0m                                 Traceback (most recent call last)",
      "\u001b[0;32m<ipython-input-10-ca09844984fe>\u001b[0m in \u001b[0;36m<module>\u001b[0;34m\u001b[0m\n\u001b[1;32m      1\u001b[0m \u001b[0;31m# Construct a buffer used by the pca analysis\u001b[0m\u001b[0;34m\u001b[0m\u001b[0;34m\u001b[0m\u001b[0;34m\u001b[0m\u001b[0m\n\u001b[0;32m----> 2\u001b[0;31m \u001b[0msz\u001b[0m \u001b[0;34m=\u001b[0m \u001b[0mlen\u001b[0m\u001b[0;34m(\u001b[0m\u001b[0mpts\u001b[0m\u001b[0;34m)\u001b[0m\u001b[0;34m\u001b[0m\u001b[0;34m\u001b[0m\u001b[0m\n\u001b[0m\u001b[1;32m      3\u001b[0m \u001b[0mdata_pts\u001b[0m \u001b[0;34m=\u001b[0m \u001b[0mnp\u001b[0m\u001b[0;34m.\u001b[0m\u001b[0mempty\u001b[0m\u001b[0;34m(\u001b[0m\u001b[0;34m(\u001b[0m\u001b[0msz\u001b[0m\u001b[0;34m,\u001b[0m \u001b[0;36m2\u001b[0m\u001b[0;34m)\u001b[0m\u001b[0;34m,\u001b[0m \u001b[0mdtype\u001b[0m\u001b[0;34m=\u001b[0m\u001b[0mnp\u001b[0m\u001b[0;34m.\u001b[0m\u001b[0mfloat64\u001b[0m\u001b[0;34m)\u001b[0m\u001b[0;34m\u001b[0m\u001b[0;34m\u001b[0m\u001b[0m\n\u001b[1;32m      4\u001b[0m \u001b[0;32mfor\u001b[0m \u001b[0mi\u001b[0m \u001b[0;32min\u001b[0m \u001b[0mrange\u001b[0m\u001b[0;34m(\u001b[0m\u001b[0mdata_pts\u001b[0m\u001b[0;34m.\u001b[0m\u001b[0mshape\u001b[0m\u001b[0;34m[\u001b[0m\u001b[0;36m0\u001b[0m\u001b[0;34m]\u001b[0m\u001b[0;34m)\u001b[0m\u001b[0;34m:\u001b[0m\u001b[0;34m\u001b[0m\u001b[0;34m\u001b[0m\u001b[0m\n\u001b[1;32m      5\u001b[0m     \u001b[0mdata_pts\u001b[0m\u001b[0;34m[\u001b[0m\u001b[0mi\u001b[0m\u001b[0;34m,\u001b[0m\u001b[0;36m0\u001b[0m\u001b[0;34m]\u001b[0m \u001b[0;34m=\u001b[0m \u001b[0mpts\u001b[0m\u001b[0;34m[\u001b[0m\u001b[0mi\u001b[0m\u001b[0;34m,\u001b[0m\u001b[0;36m0\u001b[0m\u001b[0;34m,\u001b[0m\u001b[0;36m0\u001b[0m\u001b[0;34m]\u001b[0m\u001b[0;34m\u001b[0m\u001b[0;34m\u001b[0m\u001b[0m\n",
      "\u001b[0;31mNameError\u001b[0m: name 'pts' is not defined"
     ]
    }
   ],
   "source": [
    "# Construct a buffer used by the pca analysis\n",
    "sz = len(pts)\n",
    "data_pts = np.empty((sz, 2), dtype=np.float64)\n",
    "for i in range(data_pts.shape[0]):\n",
    "    data_pts[i,0] = pts[i,0,0]\n",
    "    data_pts[i,1] = pts[i,0,1]\n",
    "# Perform PCA analysis\n",
    "mean = np.empty((0))\n",
    "mean, eigenvectors, eigenvalues = cv.PCACompute2(data_pts, mean)\n",
    "# Store the center of the object\n",
    "cntr = (int(mean[0,0]), int(mean[0,1]))"
   ]
  },
  {
   "cell_type": "code",
   "execution_count": null,
   "metadata": {},
   "outputs": [],
   "source": []
  },
  {
   "cell_type": "code",
   "execution_count": null,
   "metadata": {},
   "outputs": [],
   "source": []
  },
  {
   "cell_type": "code",
   "execution_count": null,
   "metadata": {},
   "outputs": [],
   "source": []
  },
  {
   "cell_type": "code",
   "execution_count": null,
   "metadata": {},
   "outputs": [],
   "source": []
  },
  {
   "cell_type": "code",
   "execution_count": 21,
   "metadata": {},
   "outputs": [],
   "source": [
    "import numpy as np\n",
    "# to compute angles\n",
    "from math import atan2, cos, sin, sqrt, pi\n",
    "# from google.colab.patches import cv2_imshow\n",
    "import cv2\n",
    "src = cv2.imread('/Users/aichah/Desktop/TLI/data/test_cv.jpg')\n",
    "# convert to grayscale\n",
    "gray = cv2.cvtColor(src, cv2.COLOR_BGR2GRAY)\n",
    "# convert img into binary\n",
    "_, bw = cv2.threshold(gray, 50, 255, cv2.THRESH_BINARY | cv2.THRESH_OTSU)\n",
    "# calculating Contours\n",
    "contours, _ = cv2.findContours(bw, cv2.RETR_LIST, cv2.CHAIN_APPROX_NONE)"
   ]
  },
  {
   "cell_type": "code",
   "execution_count": 20,
   "metadata": {},
   "outputs": [
    {
     "data": {
      "text/plain": [
       "528"
      ]
     },
     "execution_count": 20,
     "metadata": {},
     "output_type": "execute_result"
    }
   ],
   "source": [
    "len(contours[0])"
   ]
  },
  {
   "cell_type": "code",
   "execution_count": 10,
   "metadata": {},
   "outputs": [],
   "source": [
    "pts = np.argwhere(bw)"
   ]
  },
  {
   "cell_type": "code",
   "execution_count": 11,
   "metadata": {},
   "outputs": [
    {
     "data": {
      "text/plain": [
       "<matplotlib.image.AxesImage at 0x7fe628ce7310>"
      ]
     },
     "execution_count": 11,
     "metadata": {},
     "output_type": "execute_result"
    },
    {
     "data": {
      "image/png": "[encoded data removed]",
      "text/plain": [
       "<Figure size 432x288 with 1 Axes>"
      ]
     },
     "metadata": {
      "needs_background": "light"
     },
     "output_type": "display_data"
    }
   ],
   "source": [
    "plt.imshow(bw)"
   ]
  },
  {
   "cell_type": "code",
   "execution_count": 12,
   "metadata": {},
   "outputs": [],
   "source": [
    "def get_orientation(pts, img):\n",
    "    sz = len(pts)\n",
    "    data_pts = np.empty((sz, 2), dtype=np.float64)\n",
    "    for i in range(data_pts.shape[0]):\n",
    "        data_pts[i,0] = pts[i,0,0]\n",
    "        data_pts[i,1] = pts[i,0,1]\n",
    "    # Perform PCA analysis\n",
    "    mean = np.empty((0))\n",
    "    mean, eigenvectors, eigenvalues = cv2.PCACompute2(data_pts, mean)\n",
    "    # Store the center of the object\n",
    "    cntr = (int(mean[0,0]), int(mean[0,1]))\n",
    "    cv2.circle(img, cntr, 3, (255, 0, 255), 2)\n",
    "    p1 = (cntr[0] + 0.02 * eigenvectors[0,0] * eigenvalues[0,0], cntr[1] + 0.02 *  eigenvectors[0,1] * eigenvalues[0,0])\n",
    "    p2 = (cntr[0] - 0.02 * eigenvectors[1,0] * eigenvalues[1,0], cntr[1] - 0.02 * eigenvectors[1,1] * eigenvalues[1,0])\n",
    "    draw_axis(img, cntr, p1, (0, 150, 0), 1)\n",
    "    draw_axis(img, cntr, p2, (200, 150, 0), 5)\n",
    "    angle = atan2(eigenvectors[0,1], eigenvectors[0,0]) # orientation in radians\n",
    "    return angle\n",
    "def draw_axis(img, p_, q_, colour, scale):\n",
    "    p = list(p_)\n",
    "    q = list(q_)\n",
    "    angle = atan2(p[1] - q[1], p[0] - q[0]) # angle in radians\n",
    "    hypotenuse = sqrt((p[1] - q[1]) * (p[1] - q[1]) + (p[0] - q[0]) * (p[0] - q[0]))\n",
    "    # Here we lengthen the arrow by a factor of scale\n",
    "    q[0] = p[0] - scale * hypotenuse * cos(angle)\n",
    "    q[1] = p[1] - scale * hypotenuse * sin(angle)\n",
    "    cv2.line(img, (int(p[0]), int(p[1])), (int(q[0]), int(q[1])), colour, 1, cv2.LINE_AA)\n",
    "    # create the arrow hooks\n",
    "    p[0] = q[0] + 9 * cos(angle + pi / 4)\n",
    "    p[1] = q[1] + 9 * sin(angle + pi / 4)\n",
    "    cv2.line(img, (int(p[0]), int(p[1])), (int(q[0]), int(q[1])), colour, 1, cv2.LINE_AA)\n",
    "    p[0] = q[0] + 9 * cos(angle - pi / 4)\n",
    "    p[1] = q[1] + 9 * sin(angle - pi / 4)\n",
    "    cv2.line(img, (int(p[0]), int(p[1])), (int(q[0]), int(q[1])), colour, 1, cv2.LINE_AA)"
   ]
  },
  {
   "cell_type": "code",
   "execution_count": 14,
   "metadata": {},
   "outputs": [],
   "source": [
    "for i,c in enumerate(contours):\n",
    "    # area of each contour\n",
    "    area = cv2.contourArea(c)\n",
    "    # ignore contour which is too small or large\n",
    "    if area < 1e2 or 1e5 < area:\n",
    "      continue\n",
    "    # draw each contour only for visualization\n",
    "    cv2.drawContours(src, contours, i, (0, 0, 255), 2)\n",
    "    # find orientation of each shape\n",
    "    get_orientation(c,src)\n"
   ]
  },
  {
   "cell_type": "code",
   "execution_count": 15,
   "metadata": {},
   "outputs": [
    {
     "data": {
      "text/plain": [
       "11"
      ]
     },
     "execution_count": 15,
     "metadata": {},
     "output_type": "execute_result"
    }
   ],
   "source": [
    "len(contours)"
   ]
  },
  {
   "cell_type": "code",
   "execution_count": null,
   "metadata": {},
   "outputs": [],
   "source": []
  }
 ],
 "metadata": {
  "kernelspec": {
   "display_name": "Python 3.8.13 ('preprocessing')",
   "language": "python",
   "name": "python3"
  },
  "language_info": {
   "codemirror_mode": {
    "name": "ipython",
    "version": 3
   },
   "file_extension": ".py",
   "mimetype": "text/x-python",
   "name": "python",
   "nbconvert_exporter": "python",
   "pygments_lexer": "ipython3",
   "version": "3.8.13"
  },
  "orig_nbformat": 4,
  "vscode": {
   "interpreter": {
    "hash": "f3f6acc8ab4cd1097e4d91bbffd405bcf59aaff2754a866d7c8cf61e0274c3d7"
   }
  }
 },
 "nbformat": 4,
 "nbformat_minor": 2
}
