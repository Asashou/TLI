{
 "cells": [
  {
   "cell_type": "code",
   "execution_count": null,
   "metadata": {},
   "outputs": [],
   "source": [
    "# This notebook read several dataframes (CSV files), each is the output analysis of one neuron\n",
    "# and it combine them, average them and plot"
   ]
  },
  {
   "cell_type": "code",
   "execution_count": null,
   "metadata": {},
   "outputs": [],
   "source": [
    "data_path = '/home/tli_project/Desktop/Data/T4/stage1/output/'\n",
    "save_path = '/home/tli_project/Desktop/Data/T4/stage1/output/'\n",
    "\n",
    "if save_path[-1] != '/':\n",
    "    save_path += '/'"
   ]
  },
  {
   "cell_type": "code",
   "execution_count": 1,
   "metadata": {},
   "outputs": [],
   "source": [
    "import os\n",
    "import utils.analysis as analysis\n",
    "import utils.datautils as datautils\n",
    "import matplotlib.pyplot as plt\n",
    "import tifffile as tif\n",
    "import numpy as np\n",
    "import re\n",
    "import pandas as pd"
   ]
  },
  {
   "cell_type": "code",
   "execution_count": null,
   "metadata": {},
   "outputs": [],
   "source": [
    "xls = pd.ExcelFile('path_to_file.xls')\n",
    "df1 = pd.read_excel(xls, 'Sheet1')\n",
    "df2 = pd.read_excel(xls, 'Sheet2')"
   ]
  },
  {
   "cell_type": "code",
   "execution_count": null,
   "metadata": {},
   "outputs": [],
   "source": []
  },
  {
   "cell_type": "code",
   "execution_count": null,
   "metadata": {},
   "outputs": [],
   "source": [
    "# compute rolling means and confident intervals\n",
    "mean_val = df_all.cumulative.rolling(window).mean()\n",
    "std_val = df_all.cumulative.rolling(window).std()\n",
    "min_val = mean_val - 2*std_val\n",
    "max_val = mean_val + 2*std_val\n",
    "\n",
    "\n",
    "plt.figure(figsize=(16,9))\n",
    "for col in col_names:\n",
    "    plt.plot(timepoints, df.cumulative, c='blue')\n",
    "\n",
    "plt.plot(df_all.time, mean_val, c='r')\n",
    "plt.fill_between(df_all.time, min_val, max_val, color='blue', alpha=.2)\n",
    "plt.show()"
   ]
  },
  {
   "cell_type": "code",
   "execution_count": null,
   "metadata": {},
   "outputs": [],
   "source": []
  },
  {
   "cell_type": "code",
   "execution_count": null,
   "metadata": {},
   "outputs": [],
   "source": []
  },
  {
   "cell_type": "code",
   "execution_count": null,
   "metadata": {},
   "outputs": [],
   "source": []
  },
  {
   "cell_type": "code",
   "execution_count": null,
   "metadata": {},
   "outputs": [],
   "source": [
    "files_list = datautils.get_file_names(data_path, group_by='', \n",
    "                                        order=True, nested_files=False, \n",
    "                                        criteria='tif')"
   ]
  }
 ],
 "metadata": {
  "interpreter": {
   "hash": "f3f6acc8ab4cd1097e4d91bbffd405bcf59aaff2754a866d7c8cf61e0274c3d7"
  },
  "kernelspec": {
   "display_name": "Python 3.8.12 64-bit ('preprocessing': conda)",
   "language": "python",
   "name": "python3"
  },
  "language_info": {
   "codemirror_mode": {
    "name": "ipython",
    "version": 3
   },
   "file_extension": ".py",
   "mimetype": "text/x-python",
   "name": "python",
   "nbconvert_exporter": "python",
   "pygments_lexer": "ipython3",
   "version": "3.8.12"
  },
  "orig_nbformat": 4
 },
 "nbformat": 4,
 "nbformat_minor": 2
}
